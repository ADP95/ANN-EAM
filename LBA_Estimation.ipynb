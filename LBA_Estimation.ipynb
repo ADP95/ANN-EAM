{
 "cells": [
  {
   "cell_type": "markdown",
   "id": "6ba1f4b8-f01e-4380-b691-9d49addb4aed",
   "metadata": {
    "id": "04ab4fbd-f191-427a-a2e4-db4ff76fa385"
   },
   "source": [
    "## Importing Packages"
   ]
  },
  {
   "cell_type": "code",
   "execution_count": 1,
   "id": "5816c3bf",
   "metadata": {
    "executionInfo": {
     "elapsed": 3102,
     "status": "ok",
     "timestamp": 1651313252929,
     "user": {
      "displayName": "Arash Dadras",
      "userId": "05722346836148265544"
     },
     "user_tz": -270
    },
    "id": "42e504d1-66bf-459a-bdee-ef0f268a7b81"
   },
   "outputs": [],
   "source": [
    "import numpy as np\n",
    "import pandas as pd\n",
    "import cmdstanpy \n",
    "import pickle\n",
    "import matplotlib.pyplot as plt\n",
    "import seaborn as sns\n",
    "import arviz as az\n",
    "import os\n",
    "import json\n",
    "\n",
    "from scipy.stats import gaussian_kde\n",
    "import ipywidgets as widgets"
   ]
  },
  {
   "cell_type": "code",
   "execution_count": 2,
   "id": "49c4c972-c98d-4af8-bc2c-77a913eb654b",
   "metadata": {},
   "outputs": [],
   "source": [
    "sns.set_theme(style=\"whitegrid\")\n",
    "plt.rcParams[\"font.family\"] = \"serif\"\n",
    "plt.rcParams[\"font.serif\"] = [\"Times New Roman\"] + plt.rcParams[\"font.serif\"]\n",
    "plt.rcParams['pdf.fonttype'] = 42\n",
    "plt.rcParams['pdf.use14corefonts'] = True"
   ]
  },
  {
   "cell_type": "markdown",
   "id": "dbf5ed11-783c-476d-b190-95c7356783ca",
   "metadata": {},
   "source": [
    "## Choose Model"
   ]
  },
  {
   "cell_type": "markdown",
   "id": "7c14c0fa-9b17-4f5c-b596-34067f92acc0",
   "metadata": {},
   "source": [
    "#### roots"
   ]
  },
  {
   "cell_type": "code",
   "execution_count": 3,
   "id": "3cbb77e1-704f-4cd9-b93d-cbb56ee67c34",
   "metadata": {},
   "outputs": [],
   "source": [
    "root = './'\n",
    "plots_root = root + 'Plots/'\n",
    "datasets_root = root + 'Datasets/'\n",
    "behavioural_data_root = root +  'behavioral_data/selected_data/' \n",
    "stan_files_root = root +  'stan files/' \n",
    "saved_models_root = root + 'stan_results/'\n",
    "\n",
    "model_config = {}\n",
    "plots_path = ''\n",
    "dataset_path = ''\n",
    "stan_file_path = ''\n",
    "stan_output_dir = ''"
   ]
  },
  {
   "cell_type": "markdown",
   "id": "e4c82f7e-d49b-4814-b33c-6b556f20d7ba",
   "metadata": {},
   "source": [
    "#### read models configuration json file"
   ]
  },
  {
   "cell_type": "code",
   "execution_count": 4,
   "id": "56040ecb-0f2e-4816-81f7-dd0b3086b805",
   "metadata": {},
   "outputs": [],
   "source": [
    "with open(\"lba_models.json\") as f:\n",
    "    models = json.load(f)\n",
    "    models_name = list(models.keys())"
   ]
  },
  {
   "cell_type": "markdown",
   "id": "7a96889d-a548-4827-9666-b093ff1e6f4c",
   "metadata": {},
   "source": [
    "#### Choose and set model configuration"
   ]
  },
  {
   "cell_type": "code",
   "execution_count": 5,
   "id": "9681a08e-5ec2-4cef-b88e-b7ad4ebcfa05",
   "metadata": {},
   "outputs": [
    {
     "data": {
      "application/vnd.jupyter.widget-view+json": {
       "model_id": "4ea477d2ac7645a8b4c34ec56068dc45",
       "version_major": 2,
       "version_minor": 0
      },
      "text/plain": [
       "interactive(children=(Dropdown(description='model_name', options=('LBA', 'LBA_ct', 'LBA_cd', 'LBA_ndm', 'ANN-L…"
      ]
     },
     "metadata": {},
     "output_type": "display_data"
    }
   ],
   "source": [
    "def SetModelAndPaths(model_name):\n",
    "    global model_config\n",
    "    global plots_path\n",
    "    global dataset_path\n",
    "    global stan_file_path\n",
    "    global stan_output_dir\n",
    "    model_config = models[model_name]\n",
    "    plots_path = plots_root + model_config['plots_folder_name'] + '/'\n",
    "    dataset_path = datasets_root + model_config['dataset_name']\n",
    "    stan_file_path = stan_files_root + model_config['stan_file']\n",
    "    stan_output_dir = saved_models_root + model_config['model_name'] + '/'\n",
    "    os.path\n",
    "    \n",
    "    if not os.path.exists(plots_path):\n",
    "        os.makedirs(plots_path)\n",
    "        print(\"Directory \" , plots_path ,  \" Created \")\n",
    "    else:    \n",
    "        print(\"Directory \" , plots_path ,  \" already exists\")\n",
    "        \n",
    "    if not os.path.exists(stan_output_dir):\n",
    "        os.makedirs(stan_output_dir)\n",
    "        print(\"Directory \" , stan_output_dir ,  \" Created \")\n",
    "    else:    \n",
    "        print(\"Directory \" , stan_output_dir ,  \" already exists\")\n",
    "\n",
    "widgets.interact(SetModelAndPaths, model_name=models_name);"
   ]
  },
  {
   "cell_type": "code",
   "execution_count": 6,
   "id": "01260a8a-f9e1-458f-be62-3b63bd53cba9",
   "metadata": {},
   "outputs": [
    {
     "data": {
      "text/plain": [
       "{'model_name': 'ANN-LBA_full_s_FC',\n",
       " 'stan_file': 'ANN-LBA/sigmoid_am_ndm.stan',\n",
       " 'dataset_name': 'fastText_FC.csv',\n",
       " 'plots_folder_name': 'ANN-LBA_full_s_FC',\n",
       " 'transf_params': ['transf_mu_k_word',\n",
       "  'transf_mu_k_nonword',\n",
       "  'transf_mu_sp_trial_var_word',\n",
       "  'transf_mu_sp_trial_var_nonword',\n",
       "  'transf_mu_g',\n",
       "  'transf_mu_m',\n",
       "  'transf_mu_alpha',\n",
       "  'transf_mu_b',\n",
       "  'transf_mu_theta_1',\n",
       "  'transf_mu_theta_2',\n",
       "  'transf_mu_drift_variability']}"
      ]
     },
     "execution_count": 6,
     "metadata": {},
     "output_type": "execute_result"
    }
   ],
   "source": [
    "model_config"
   ]
  },
  {
   "cell_type": "markdown",
   "id": "00e617f6",
   "metadata": {
    "id": "123c4809-7b46-4f8d-b578-0d5e9fb5fbe7"
   },
   "source": [
    "## Prepare data"
   ]
  },
  {
   "cell_type": "markdown",
   "id": "13d41247-a08b-4710-a8cb-006ca5ace314",
   "metadata": {},
   "source": [
    "Loading words and non-words with zipf and predicted probabilities"
   ]
  },
  {
   "cell_type": "code",
   "execution_count": 7,
   "id": "8bb9a867-862b-4fa9-a6e5-7a6434462b30",
   "metadata": {},
   "outputs": [
    {
     "data": {
      "text/html": [
       "<div>\n",
       "<style scoped>\n",
       "    .dataframe tbody tr th:only-of-type {\n",
       "        vertical-align: middle;\n",
       "    }\n",
       "\n",
       "    .dataframe tbody tr th {\n",
       "        vertical-align: top;\n",
       "    }\n",
       "\n",
       "    .dataframe thead th {\n",
       "        text-align: right;\n",
       "    }\n",
       "</style>\n",
       "<table border=\"1\" class=\"dataframe\">\n",
       "  <thead>\n",
       "    <tr style=\"text-align: right;\">\n",
       "      <th></th>\n",
       "      <th>string</th>\n",
       "      <th>freq</th>\n",
       "      <th>label</th>\n",
       "      <th>zipf</th>\n",
       "      <th>category</th>\n",
       "      <th>word_prob</th>\n",
       "      <th>non_word_prob</th>\n",
       "    </tr>\n",
       "  </thead>\n",
       "  <tbody>\n",
       "    <tr>\n",
       "      <th>0</th>\n",
       "      <td>drarp</td>\n",
       "      <td>0</td>\n",
       "      <td>0</td>\n",
       "      <td>0.000000</td>\n",
       "      <td>NW</td>\n",
       "      <td>0.000025</td>\n",
       "      <td>9.999752e-01</td>\n",
       "    </tr>\n",
       "    <tr>\n",
       "      <th>1</th>\n",
       "      <td>laud</td>\n",
       "      <td>182</td>\n",
       "      <td>1</td>\n",
       "      <td>2.136932</td>\n",
       "      <td>LF</td>\n",
       "      <td>1.000000</td>\n",
       "      <td>9.540957e-08</td>\n",
       "    </tr>\n",
       "    <tr>\n",
       "      <th>2</th>\n",
       "      <td>decremont</td>\n",
       "      <td>0</td>\n",
       "      <td>0</td>\n",
       "      <td>0.000000</td>\n",
       "      <td>NW</td>\n",
       "      <td>0.000771</td>\n",
       "      <td>9.992290e-01</td>\n",
       "    </tr>\n",
       "    <tr>\n",
       "      <th>3</th>\n",
       "      <td>gugs</td>\n",
       "      <td>0</td>\n",
       "      <td>0</td>\n",
       "      <td>0.000000</td>\n",
       "      <td>NW</td>\n",
       "      <td>0.000233</td>\n",
       "      <td>9.997666e-01</td>\n",
       "    </tr>\n",
       "    <tr>\n",
       "      <th>4</th>\n",
       "      <td>trickery</td>\n",
       "      <td>453</td>\n",
       "      <td>1</td>\n",
       "      <td>2.882899</td>\n",
       "      <td>LF</td>\n",
       "      <td>0.999996</td>\n",
       "      <td>3.610227e-06</td>\n",
       "    </tr>\n",
       "    <tr>\n",
       "      <th>...</th>\n",
       "      <td>...</td>\n",
       "      <td>...</td>\n",
       "      <td>...</td>\n",
       "      <td>...</td>\n",
       "      <td>...</td>\n",
       "      <td>...</td>\n",
       "      <td>...</td>\n",
       "    </tr>\n",
       "    <tr>\n",
       "      <th>74312</th>\n",
       "      <td>gorphological</td>\n",
       "      <td>0</td>\n",
       "      <td>0</td>\n",
       "      <td>0.000000</td>\n",
       "      <td>NW</td>\n",
       "      <td>0.000168</td>\n",
       "      <td>9.998318e-01</td>\n",
       "    </tr>\n",
       "    <tr>\n",
       "      <th>74313</th>\n",
       "      <td>hearse</td>\n",
       "      <td>160</td>\n",
       "      <td>1</td>\n",
       "      <td>3.205648</td>\n",
       "      <td>HF</td>\n",
       "      <td>1.000000</td>\n",
       "      <td>4.410969e-08</td>\n",
       "    </tr>\n",
       "    <tr>\n",
       "      <th>74314</th>\n",
       "      <td>appallingly</td>\n",
       "      <td>102</td>\n",
       "      <td>1</td>\n",
       "      <td>1.893894</td>\n",
       "      <td>LF</td>\n",
       "      <td>1.000000</td>\n",
       "      <td>3.650449e-07</td>\n",
       "    </tr>\n",
       "    <tr>\n",
       "      <th>74315</th>\n",
       "      <td>furban</td>\n",
       "      <td>0</td>\n",
       "      <td>0</td>\n",
       "      <td>0.000000</td>\n",
       "      <td>NW</td>\n",
       "      <td>0.000531</td>\n",
       "      <td>9.994685e-01</td>\n",
       "    </tr>\n",
       "    <tr>\n",
       "      <th>74316</th>\n",
       "      <td>beversing</td>\n",
       "      <td>0</td>\n",
       "      <td>0</td>\n",
       "      <td>0.000000</td>\n",
       "      <td>NW</td>\n",
       "      <td>0.000722</td>\n",
       "      <td>9.992778e-01</td>\n",
       "    </tr>\n",
       "  </tbody>\n",
       "</table>\n",
       "<p>74317 rows × 7 columns</p>\n",
       "</div>"
      ],
      "text/plain": [
       "              string  freq  label      zipf category  word_prob  non_word_prob\n",
       "0              drarp     0      0  0.000000       NW   0.000025   9.999752e-01\n",
       "1               laud   182      1  2.136932       LF   1.000000   9.540957e-08\n",
       "2          decremont     0      0  0.000000       NW   0.000771   9.992290e-01\n",
       "3               gugs     0      0  0.000000       NW   0.000233   9.997666e-01\n",
       "4           trickery   453      1  2.882899       LF   0.999996   3.610227e-06\n",
       "...              ...   ...    ...       ...      ...        ...            ...\n",
       "74312  gorphological     0      0  0.000000       NW   0.000168   9.998318e-01\n",
       "74313         hearse   160      1  3.205648       HF   1.000000   4.410969e-08\n",
       "74314    appallingly   102      1  1.893894       LF   1.000000   3.650449e-07\n",
       "74315         furban     0      0  0.000000       NW   0.000531   9.994685e-01\n",
       "74316      beversing     0      0  0.000000       NW   0.000722   9.992778e-01\n",
       "\n",
       "[74317 rows x 7 columns]"
      ]
     },
     "execution_count": 7,
     "metadata": {},
     "output_type": "execute_result"
    }
   ],
   "source": [
    "word_nword_df = pd.read_csv(dataset_path, header=None, names =['string', 'freq',  'label', 'zipf','category', 'word_prob', 'non_word_prob'])\n",
    "word_nword_df"
   ]
  },
  {
   "cell_type": "code",
   "execution_count": 8,
   "id": "5e6417ff",
   "metadata": {
    "colab": {
     "base_uri": "https://localhost:8080/",
     "height": 0
    },
    "executionInfo": {
     "elapsed": 61,
     "status": "ok",
     "timestamp": 1651313252934,
     "user": {
      "displayName": "Arash Dadras",
      "userId": "05722346836148265544"
     },
     "user_tz": -270
    },
    "id": "72172233-0e82-4058-8a5c-8657e9fe4693",
    "outputId": "35336463-3bb2-41e5-c84f-7c34fdcfc77d",
    "tags": []
   },
   "outputs": [
    {
     "data": {
      "text/html": [
       "<div>\n",
       "<style scoped>\n",
       "    .dataframe tbody tr th:only-of-type {\n",
       "        vertical-align: middle;\n",
       "    }\n",
       "\n",
       "    .dataframe tbody tr th {\n",
       "        vertical-align: top;\n",
       "    }\n",
       "\n",
       "    .dataframe thead th {\n",
       "        text-align: right;\n",
       "    }\n",
       "</style>\n",
       "<table border=\"1\" class=\"dataframe\">\n",
       "  <thead>\n",
       "    <tr style=\"text-align: right;\">\n",
       "      <th></th>\n",
       "      <th>string</th>\n",
       "      <th>freq</th>\n",
       "      <th>label</th>\n",
       "      <th>zipf</th>\n",
       "      <th>category</th>\n",
       "      <th>word_prob</th>\n",
       "      <th>non_word_prob</th>\n",
       "    </tr>\n",
       "  </thead>\n",
       "  <tbody>\n",
       "    <tr>\n",
       "      <th>0</th>\n",
       "      <td>drarp</td>\n",
       "      <td>0</td>\n",
       "      <td>0</td>\n",
       "      <td>0.000000</td>\n",
       "      <td>NW</td>\n",
       "      <td>0.000025</td>\n",
       "      <td>9.999752e-01</td>\n",
       "    </tr>\n",
       "    <tr>\n",
       "      <th>1</th>\n",
       "      <td>laud</td>\n",
       "      <td>182</td>\n",
       "      <td>1</td>\n",
       "      <td>2.136932</td>\n",
       "      <td>LF</td>\n",
       "      <td>1.000000</td>\n",
       "      <td>9.540957e-08</td>\n",
       "    </tr>\n",
       "    <tr>\n",
       "      <th>2</th>\n",
       "      <td>decremont</td>\n",
       "      <td>0</td>\n",
       "      <td>0</td>\n",
       "      <td>0.000000</td>\n",
       "      <td>NW</td>\n",
       "      <td>0.000771</td>\n",
       "      <td>9.992290e-01</td>\n",
       "    </tr>\n",
       "    <tr>\n",
       "      <th>3</th>\n",
       "      <td>gugs</td>\n",
       "      <td>0</td>\n",
       "      <td>0</td>\n",
       "      <td>0.000000</td>\n",
       "      <td>NW</td>\n",
       "      <td>0.000233</td>\n",
       "      <td>9.997666e-01</td>\n",
       "    </tr>\n",
       "    <tr>\n",
       "      <th>4</th>\n",
       "      <td>trickery</td>\n",
       "      <td>453</td>\n",
       "      <td>1</td>\n",
       "      <td>2.882899</td>\n",
       "      <td>LF</td>\n",
       "      <td>0.999996</td>\n",
       "      <td>3.610227e-06</td>\n",
       "    </tr>\n",
       "    <tr>\n",
       "      <th>...</th>\n",
       "      <td>...</td>\n",
       "      <td>...</td>\n",
       "      <td>...</td>\n",
       "      <td>...</td>\n",
       "      <td>...</td>\n",
       "      <td>...</td>\n",
       "      <td>...</td>\n",
       "    </tr>\n",
       "    <tr>\n",
       "      <th>74312</th>\n",
       "      <td>gorphological</td>\n",
       "      <td>0</td>\n",
       "      <td>0</td>\n",
       "      <td>0.000000</td>\n",
       "      <td>NW</td>\n",
       "      <td>0.000168</td>\n",
       "      <td>9.998318e-01</td>\n",
       "    </tr>\n",
       "    <tr>\n",
       "      <th>74313</th>\n",
       "      <td>hearse</td>\n",
       "      <td>160</td>\n",
       "      <td>1</td>\n",
       "      <td>3.205648</td>\n",
       "      <td>HF</td>\n",
       "      <td>1.000000</td>\n",
       "      <td>4.410969e-08</td>\n",
       "    </tr>\n",
       "    <tr>\n",
       "      <th>74314</th>\n",
       "      <td>appallingly</td>\n",
       "      <td>102</td>\n",
       "      <td>1</td>\n",
       "      <td>1.893894</td>\n",
       "      <td>LF</td>\n",
       "      <td>1.000000</td>\n",
       "      <td>3.650449e-07</td>\n",
       "    </tr>\n",
       "    <tr>\n",
       "      <th>74315</th>\n",
       "      <td>furban</td>\n",
       "      <td>0</td>\n",
       "      <td>0</td>\n",
       "      <td>0.000000</td>\n",
       "      <td>NW</td>\n",
       "      <td>0.000531</td>\n",
       "      <td>9.994685e-01</td>\n",
       "    </tr>\n",
       "    <tr>\n",
       "      <th>74316</th>\n",
       "      <td>beversing</td>\n",
       "      <td>0</td>\n",
       "      <td>0</td>\n",
       "      <td>0.000000</td>\n",
       "      <td>NW</td>\n",
       "      <td>0.000722</td>\n",
       "      <td>9.992778e-01</td>\n",
       "    </tr>\n",
       "  </tbody>\n",
       "</table>\n",
       "<p>74317 rows × 7 columns</p>\n",
       "</div>"
      ],
      "text/plain": [
       "              string  freq  label      zipf category  word_prob  non_word_prob\n",
       "0              drarp     0      0  0.000000       NW   0.000025   9.999752e-01\n",
       "1               laud   182      1  2.136932       LF   1.000000   9.540957e-08\n",
       "2          decremont     0      0  0.000000       NW   0.000771   9.992290e-01\n",
       "3               gugs     0      0  0.000000       NW   0.000233   9.997666e-01\n",
       "4           trickery   453      1  2.882899       LF   0.999996   3.610227e-06\n",
       "...              ...   ...    ...       ...      ...        ...            ...\n",
       "74312  gorphological     0      0  0.000000       NW   0.000168   9.998318e-01\n",
       "74313         hearse   160      1  3.205648       HF   1.000000   4.410969e-08\n",
       "74314    appallingly   102      1  1.893894       LF   1.000000   3.650449e-07\n",
       "74315         furban     0      0  0.000000       NW   0.000531   9.994685e-01\n",
       "74316      beversing     0      0  0.000000       NW   0.000722   9.992778e-01\n",
       "\n",
       "[74317 rows x 7 columns]"
      ]
     },
     "execution_count": 8,
     "metadata": {},
     "output_type": "execute_result"
    }
   ],
   "source": [
    "word_nword_df = pd.read_csv(dataset_path, header=None, names =['string', 'freq',  'label', 'zipf','category', 'word_prob', 'non_word_prob'])\n",
    "word_nword_df"
   ]
  },
  {
   "cell_type": "code",
   "execution_count": 9,
   "id": "8a061e32-1d3d-40c2-afcf-04de82e44ce5",
   "metadata": {},
   "outputs": [],
   "source": [
    "def remove_outliers(df, max_rt, min_rt, std_c=2.5):\n",
    "    \"\"\"\n",
    "    Returns remove outliers from dataframes. Outlier RTs are bigger than\n",
    "    max_rt and smaller than min_rt. Also RTsthat are out of -/+ (std_c * sd) \n",
    "    of mean RT interval are considered as outliers too.\n",
    "\n",
    "    Parameters\n",
    "    ----------\n",
    "        df: pandas dataframe with rt column\n",
    "        max_rt (float): maximum acceptable rt\n",
    "        min_rt (float): minimum acceptable rt\n",
    "        \n",
    "    Optional Parameters\n",
    "    ----------\n",
    "        std_c (float) : Optional\n",
    "            coefficient to define interval of non-outlier RTs\n",
    "    \n",
    "    Returns\n",
    "    -------\n",
    "        df: pandas dataframe without outliers  \n",
    "    \"\"\"\n",
    "    mean = df['rt'].mean()\n",
    "    sd = df['rt'].std()\n",
    "    lower_thr = mean - std_c*sd\n",
    "    upper_thr = mean + std_c*sd\n",
    "    min_bound = max(min_rt, lower_thr)\n",
    "    max_bound = min(max_rt, upper_thr)\n",
    "    df = df[df['rt'] >= min_bound]\n",
    "    df = df[df['rt'] <= max_bound]\n",
    "    return df"
   ]
  },
  {
   "cell_type": "markdown",
   "id": "07cf7c47-7fd4-4bdb-880b-5a52a2b7be4b",
   "metadata": {},
   "source": [
    "Reading and modifing each behavioral data file and combining all of them into a single behavioral dataframe"
   ]
  },
  {
   "cell_type": "code",
   "execution_count": 10,
   "id": "af1a914e",
   "metadata": {
    "executionInfo": {
     "elapsed": 56,
     "status": "ok",
     "timestamp": 1651313252936,
     "user": {
      "displayName": "Arash Dadras",
      "userId": "05722346836148265544"
     },
     "user_tz": -270
    },
    "id": "eb864830-ecb7-48f1-a071-f00173154216"
   },
   "outputs": [],
   "source": [
    "Number_Of_Participants = 5\n",
    "Number_Of_Trials = 400\n",
    "dataframes = []\n",
    "\n",
    "for i in range(Number_Of_Participants):\n",
    "    # Loading each file\n",
    "    df = pd.read_csv(behavioural_data_root + str(i+1) + \"_DATA.LDT\", names=['trial', 'string_id', 'string_type', 'accuracy', 'rt', 'string'])\n",
    "    # Dropping non rows and first two rows that are demographic informations \n",
    "    df = df.dropna().drop('string_id', axis=1).drop([0, 1]).iloc[:Number_Of_Trials]\n",
    "    # Dropping rows with wrong accuracies\n",
    "    df = df.loc[(df['accuracy'] == '0') | (df['accuracy'] == '1')]\n",
    "    # Converting columns type to suitable data types\n",
    "    convert_dict = {'string_type': 'int16',\n",
    "                    'accuracy': 'int16',\n",
    "                    'rt': float\n",
    "                   }\n",
    "\n",
    "    df = df.astype(convert_dict)\n",
    "    # Convert RTs to seconds\n",
    "    df['rt'] = df['rt'].apply(lambda x: x/1000) \n",
    "    # Removing Outliers\n",
    "    df = remove_outliers(df, 3, .2, 2.5)\n",
    "    # Extracting response of participant from his/her accuracy\n",
    "    df['response'] = np.logical_not(np.logical_xor(df['string_type'], df['accuracy'])).astype('int')\n",
    "    df = df.reset_index(drop=True)\n",
    "    # Particpant number\n",
    "    df['participant'] = i+1\n",
    "    # Minimum RT of participant in all trials (is needed for stan code)\n",
    "    df['minRT'] = df['rt'].min()\n",
    "    dataframes.append(df)"
   ]
  },
  {
   "cell_type": "code",
   "execution_count": 11,
   "id": "4fb6266a",
   "metadata": {
    "executionInfo": {
     "elapsed": 56,
     "status": "ok",
     "timestamp": 1651313252938,
     "user": {
      "displayName": "Arash Dadras",
      "userId": "05722346836148265544"
     },
     "user_tz": -270
    },
    "id": "f37d4118-f2ea-4691-bff9-02f1ac1cebbc"
   },
   "outputs": [],
   "source": [
    "# Combining dataframes\n",
    "behavioural_df = pd.concat(dataframes)\n",
    "# Merging  behavioral dataframe with word_nonword_df to have words and non-words data with behavioral data\n",
    "behavioural_df = pd.merge(behavioural_df, word_nword_df, on='string', how='left').dropna().reset_index(drop=True)\n",
    "behavioural_df = behavioural_df.drop([\"trial\", \"string_type\", \"freq\"], axis=1)"
   ]
  },
  {
   "cell_type": "code",
   "execution_count": 12,
   "id": "07c791ac-26e5-4ee4-929e-379e1b3248df",
   "metadata": {},
   "outputs": [
    {
     "data": {
      "text/html": [
       "<div>\n",
       "<style scoped>\n",
       "    .dataframe tbody tr th:only-of-type {\n",
       "        vertical-align: middle;\n",
       "    }\n",
       "\n",
       "    .dataframe tbody tr th {\n",
       "        vertical-align: top;\n",
       "    }\n",
       "\n",
       "    .dataframe thead th {\n",
       "        text-align: right;\n",
       "    }\n",
       "</style>\n",
       "<table border=\"1\" class=\"dataframe\">\n",
       "  <thead>\n",
       "    <tr style=\"text-align: right;\">\n",
       "      <th></th>\n",
       "      <th>accuracy</th>\n",
       "      <th>rt</th>\n",
       "      <th>string</th>\n",
       "      <th>response</th>\n",
       "      <th>participant</th>\n",
       "      <th>minRT</th>\n",
       "      <th>label</th>\n",
       "      <th>zipf</th>\n",
       "      <th>category</th>\n",
       "      <th>word_prob</th>\n",
       "      <th>non_word_prob</th>\n",
       "    </tr>\n",
       "  </thead>\n",
       "  <tbody>\n",
       "    <tr>\n",
       "      <th>0</th>\n",
       "      <td>0</td>\n",
       "      <td>0.548</td>\n",
       "      <td>pracker</td>\n",
       "      <td>1</td>\n",
       "      <td>1</td>\n",
       "      <td>0.429</td>\n",
       "      <td>0.0</td>\n",
       "      <td>0.000000</td>\n",
       "      <td>NW</td>\n",
       "      <td>0.000836</td>\n",
       "      <td>9.991643e-01</td>\n",
       "    </tr>\n",
       "    <tr>\n",
       "      <th>1</th>\n",
       "      <td>1</td>\n",
       "      <td>0.646</td>\n",
       "      <td>nearside</td>\n",
       "      <td>1</td>\n",
       "      <td>1</td>\n",
       "      <td>0.429</td>\n",
       "      <td>1.0</td>\n",
       "      <td>1.592864</td>\n",
       "      <td>LF</td>\n",
       "      <td>0.998253</td>\n",
       "      <td>1.746930e-03</td>\n",
       "    </tr>\n",
       "    <tr>\n",
       "      <th>2</th>\n",
       "      <td>1</td>\n",
       "      <td>0.511</td>\n",
       "      <td>jets</td>\n",
       "      <td>1</td>\n",
       "      <td>1</td>\n",
       "      <td>0.429</td>\n",
       "      <td>1.0</td>\n",
       "      <td>3.645943</td>\n",
       "      <td>HF</td>\n",
       "      <td>1.000000</td>\n",
       "      <td>5.878510e-11</td>\n",
       "    </tr>\n",
       "    <tr>\n",
       "      <th>3</th>\n",
       "      <td>1</td>\n",
       "      <td>0.815</td>\n",
       "      <td>vates</td>\n",
       "      <td>0</td>\n",
       "      <td>1</td>\n",
       "      <td>0.429</td>\n",
       "      <td>0.0</td>\n",
       "      <td>0.000000</td>\n",
       "      <td>NW</td>\n",
       "      <td>0.002267</td>\n",
       "      <td>9.977329e-01</td>\n",
       "    </tr>\n",
       "    <tr>\n",
       "      <th>4</th>\n",
       "      <td>1</td>\n",
       "      <td>0.680</td>\n",
       "      <td>onward</td>\n",
       "      <td>1</td>\n",
       "      <td>1</td>\n",
       "      <td>0.429</td>\n",
       "      <td>1.0</td>\n",
       "      <td>3.194924</td>\n",
       "      <td>HF</td>\n",
       "      <td>0.999999</td>\n",
       "      <td>1.096722e-06</td>\n",
       "    </tr>\n",
       "  </tbody>\n",
       "</table>\n",
       "</div>"
      ],
      "text/plain": [
       "   accuracy     rt    string  response  participant  minRT  label      zipf  \\\n",
       "0         0  0.548   pracker         1            1  0.429    0.0  0.000000   \n",
       "1         1  0.646  nearside         1            1  0.429    1.0  1.592864   \n",
       "2         1  0.511      jets         1            1  0.429    1.0  3.645943   \n",
       "3         1  0.815     vates         0            1  0.429    0.0  0.000000   \n",
       "4         1  0.680    onward         1            1  0.429    1.0  3.194924   \n",
       "\n",
       "  category  word_prob  non_word_prob  \n",
       "0       NW   0.000836   9.991643e-01  \n",
       "1       LF   0.998253   1.746930e-03  \n",
       "2       HF   1.000000   5.878510e-11  \n",
       "3       NW   0.002267   9.977329e-01  \n",
       "4       HF   0.999999   1.096722e-06  "
      ]
     },
     "execution_count": 12,
     "metadata": {},
     "output_type": "execute_result"
    }
   ],
   "source": [
    "behavioural_df.head()"
   ]
  },
  {
   "cell_type": "markdown",
   "id": "159dddd5-c8a8-4c1a-8c48-9882ee452eb2",
   "metadata": {},
   "source": [
    "Predicted probabilities of words and non-words in different conditions in all trials\n",
    "across participants"
   ]
  },
  {
   "cell_type": "code",
   "execution_count": 13,
   "id": "6c1441c1-4928-4675-92a0-bac19c71fa98",
   "metadata": {},
   "outputs": [
    {
     "data": {
      "text/html": [
       "<div>\n",
       "<style scoped>\n",
       "    .dataframe tbody tr th:only-of-type {\n",
       "        vertical-align: middle;\n",
       "    }\n",
       "\n",
       "    .dataframe tbody tr th {\n",
       "        vertical-align: top;\n",
       "    }\n",
       "\n",
       "    .dataframe thead tr th {\n",
       "        text-align: left;\n",
       "    }\n",
       "\n",
       "    .dataframe thead tr:last-of-type th {\n",
       "        text-align: right;\n",
       "    }\n",
       "</style>\n",
       "<table border=\"1\" class=\"dataframe\">\n",
       "  <thead>\n",
       "    <tr>\n",
       "      <th></th>\n",
       "      <th colspan=\"5\" halign=\"left\">word_prob</th>\n",
       "      <th colspan=\"5\" halign=\"left\">non_word_prob</th>\n",
       "    </tr>\n",
       "    <tr>\n",
       "      <th></th>\n",
       "      <th>mean</th>\n",
       "      <th>std</th>\n",
       "      <th>count</th>\n",
       "      <th>max</th>\n",
       "      <th>min</th>\n",
       "      <th>mean</th>\n",
       "      <th>std</th>\n",
       "      <th>count</th>\n",
       "      <th>max</th>\n",
       "      <th>min</th>\n",
       "    </tr>\n",
       "    <tr>\n",
       "      <th>category</th>\n",
       "      <th></th>\n",
       "      <th></th>\n",
       "      <th></th>\n",
       "      <th></th>\n",
       "      <th></th>\n",
       "      <th></th>\n",
       "      <th></th>\n",
       "      <th></th>\n",
       "      <th></th>\n",
       "      <th></th>\n",
       "    </tr>\n",
       "  </thead>\n",
       "  <tbody>\n",
       "    <tr>\n",
       "      <th>HF</th>\n",
       "      <td>0.999615</td>\n",
       "      <td>0.003332</td>\n",
       "      <td>345</td>\n",
       "      <td>1.00000</td>\n",
       "      <td>9.458225e-01</td>\n",
       "      <td>0.000385</td>\n",
       "      <td>0.003332</td>\n",
       "      <td>345</td>\n",
       "      <td>0.054177</td>\n",
       "      <td>9.513443e-20</td>\n",
       "    </tr>\n",
       "    <tr>\n",
       "      <th>LF</th>\n",
       "      <td>0.996585</td>\n",
       "      <td>0.028339</td>\n",
       "      <td>466</td>\n",
       "      <td>1.00000</td>\n",
       "      <td>5.120918e-01</td>\n",
       "      <td>0.003415</td>\n",
       "      <td>0.028339</td>\n",
       "      <td>466</td>\n",
       "      <td>0.487908</td>\n",
       "      <td>2.297777e-14</td>\n",
       "    </tr>\n",
       "    <tr>\n",
       "      <th>NW</th>\n",
       "      <td>0.002978</td>\n",
       "      <td>0.034298</td>\n",
       "      <td>965</td>\n",
       "      <td>0.99052</td>\n",
       "      <td>5.035976e-23</td>\n",
       "      <td>0.997022</td>\n",
       "      <td>0.034298</td>\n",
       "      <td>965</td>\n",
       "      <td>1.000000</td>\n",
       "      <td>9.480231e-03</td>\n",
       "    </tr>\n",
       "  </tbody>\n",
       "</table>\n",
       "</div>"
      ],
      "text/plain": [
       "         word_prob                                        non_word_prob  \\\n",
       "              mean       std count      max           min          mean   \n",
       "category                                                                  \n",
       "HF        0.999615  0.003332   345  1.00000  9.458225e-01      0.000385   \n",
       "LF        0.996585  0.028339   466  1.00000  5.120918e-01      0.003415   \n",
       "NW        0.002978  0.034298   965  0.99052  5.035976e-23      0.997022   \n",
       "\n",
       "                                                  \n",
       "               std count       max           min  \n",
       "category                                          \n",
       "HF        0.003332   345  0.054177  9.513443e-20  \n",
       "LF        0.028339   466  0.487908  2.297777e-14  \n",
       "NW        0.034298   965  1.000000  9.480231e-03  "
      ]
     },
     "execution_count": 13,
     "metadata": {},
     "output_type": "execute_result"
    }
   ],
   "source": [
    "behavioural_df.groupby(['category']).agg({'word_prob': ['mean', 'std', 'count', 'max', 'min'], 'non_word_prob': ['mean', 'std', 'count', 'max', 'min']})"
   ]
  },
  {
   "cell_type": "markdown",
   "id": "d052f5c8-5b10-4c7d-ad5c-27e781c292fb",
   "metadata": {},
   "source": [
    "RT and response description of words and non-words in different conditions in all trials\n",
    "across participants"
   ]
  },
  {
   "cell_type": "code",
   "execution_count": 14,
   "id": "fba3741e-8006-4460-a23d-67445b949a93",
   "metadata": {},
   "outputs": [
    {
     "data": {
      "text/html": [
       "<div>\n",
       "<style scoped>\n",
       "    .dataframe tbody tr th:only-of-type {\n",
       "        vertical-align: middle;\n",
       "    }\n",
       "\n",
       "    .dataframe tbody tr th {\n",
       "        vertical-align: top;\n",
       "    }\n",
       "\n",
       "    .dataframe thead tr th {\n",
       "        text-align: left;\n",
       "    }\n",
       "\n",
       "    .dataframe thead tr:last-of-type th {\n",
       "        text-align: right;\n",
       "    }\n",
       "</style>\n",
       "<table border=\"1\" class=\"dataframe\">\n",
       "  <thead>\n",
       "    <tr>\n",
       "      <th></th>\n",
       "      <th colspan=\"4\" halign=\"left\">rt</th>\n",
       "      <th colspan=\"4\" halign=\"left\">response</th>\n",
       "    </tr>\n",
       "    <tr>\n",
       "      <th></th>\n",
       "      <th>mean</th>\n",
       "      <th>std</th>\n",
       "      <th>max</th>\n",
       "      <th>min</th>\n",
       "      <th>mean</th>\n",
       "      <th>std</th>\n",
       "      <th>max</th>\n",
       "      <th>min</th>\n",
       "    </tr>\n",
       "    <tr>\n",
       "      <th>category</th>\n",
       "      <th></th>\n",
       "      <th></th>\n",
       "      <th></th>\n",
       "      <th></th>\n",
       "      <th></th>\n",
       "      <th></th>\n",
       "      <th></th>\n",
       "      <th></th>\n",
       "    </tr>\n",
       "  </thead>\n",
       "  <tbody>\n",
       "    <tr>\n",
       "      <th>HF</th>\n",
       "      <td>0.805264</td>\n",
       "      <td>0.338597</td>\n",
       "      <td>2.551</td>\n",
       "      <td>0.422</td>\n",
       "      <td>0.968116</td>\n",
       "      <td>0.175947</td>\n",
       "      <td>1</td>\n",
       "      <td>0</td>\n",
       "    </tr>\n",
       "    <tr>\n",
       "      <th>LF</th>\n",
       "      <td>0.987938</td>\n",
       "      <td>0.414071</td>\n",
       "      <td>2.861</td>\n",
       "      <td>0.470</td>\n",
       "      <td>0.828326</td>\n",
       "      <td>0.377502</td>\n",
       "      <td>1</td>\n",
       "      <td>0</td>\n",
       "    </tr>\n",
       "    <tr>\n",
       "      <th>NW</th>\n",
       "      <td>1.087716</td>\n",
       "      <td>0.453074</td>\n",
       "      <td>2.974</td>\n",
       "      <td>0.446</td>\n",
       "      <td>0.159585</td>\n",
       "      <td>0.366411</td>\n",
       "      <td>1</td>\n",
       "      <td>0</td>\n",
       "    </tr>\n",
       "  </tbody>\n",
       "</table>\n",
       "</div>"
      ],
      "text/plain": [
       "                rt                          response                  \n",
       "              mean       std    max    min      mean       std max min\n",
       "category                                                              \n",
       "HF        0.805264  0.338597  2.551  0.422  0.968116  0.175947   1   0\n",
       "LF        0.987938  0.414071  2.861  0.470  0.828326  0.377502   1   0\n",
       "NW        1.087716  0.453074  2.974  0.446  0.159585  0.366411   1   0"
      ]
     },
     "execution_count": 14,
     "metadata": {},
     "output_type": "execute_result"
    }
   ],
   "source": [
    "behavioural_df.groupby(['category']).agg({'rt': ['mean', 'std', 'max', 'min'], 'response': ['mean', 'std', 'max', 'min']})"
   ]
  },
  {
   "cell_type": "markdown",
   "id": "0bc6ff4c",
   "metadata": {
    "id": "ff61f25e-7817-4f3f-a48f-d5a6666b0e75",
    "tags": []
   },
   "source": [
    "## Stan Model and Estimation"
   ]
  },
  {
   "cell_type": "markdown",
   "id": "27aa0a87-ed95-486a-beec-87a50c2f86ef",
   "metadata": {},
   "source": [
    "Compiling stan model"
   ]
  },
  {
   "cell_type": "code",
   "execution_count": 15,
   "id": "60550ee7-157d-4393-9f12-773eb947efce",
   "metadata": {
    "colab": {
     "base_uri": "https://localhost:8080/"
    },
    "executionInfo": {
     "elapsed": 93380,
     "status": "ok",
     "timestamp": 1651313346844,
     "user": {
      "displayName": "Arash Dadras",
      "userId": "05722346836148265544"
     },
     "user_tz": -270
    },
    "id": "c1b3627d-0ea2-49b6-86f0-7b098a5a16d6",
    "outputId": "4bc8643c-82c0-4fc9-99a0-7f232fa1eea4",
    "scrolled": true,
    "tags": []
   },
   "outputs": [],
   "source": [
    "lba_model = cmdstanpy.CmdStanModel(model_name=model_config['model_name'],\n",
    "                                   stan_file=stan_file_path);"
   ]
  },
  {
   "cell_type": "markdown",
   "id": "b75c8503-9cb2-40c0-ae79-e0e8d386a86f",
   "metadata": {},
   "source": [
    "Preparing model's inputs\n",
    "\n",
    "note that some inputs of data_dict might not be used depending on which model is used"
   ]
  },
  {
   "cell_type": "code",
   "execution_count": 16,
   "id": "0361fc9e-7a35-41fc-a377-3b7547842c61",
   "metadata": {
    "executionInfo": {
     "elapsed": 53,
     "status": "ok",
     "timestamp": 1651313346849,
     "user": {
      "displayName": "Arash Dadras",
      "userId": "05722346836148265544"
     },
     "user_tz": -270
    },
    "id": "3e9f42b0-a7b3-476d-8869-958b2155b84c",
    "tags": []
   },
   "outputs": [],
   "source": [
    "N = len(behavioural_df)                                                    # For all models\n",
    "participant = behavioural_df['participant'].to_numpy()                     # For all models\n",
    "p = behavioural_df.loc[:, ['word_prob', 'non_word_prob']].to_numpy()       # predicted probabilites of words and non-words, for ANN-EAM models\n",
    "frequency = behavioural_df['zipf'].to_numpy().astype(int)                  # zipf values For models with non-decision time or drift modulation\n",
    "frequencyCondition = behavioural_df['category'].replace([\"HF\", \"LF\", \"NW\"], [1, 2, 3]).to_numpy() # For models with conditional drift\n",
    "response = behavioural_df['response'].to_numpy().astype(int)               # for all models\n",
    "rt = behavioural_df['rt'].to_numpy()                                       # for all models\n",
    "minRT = behavioural_df['minRT'].to_numpy()                                 # for all models\n",
    "RTbound = 0.1                                                              # for all models\n",
    "\n",
    "k_priors = [0, 1, 1, 1]                  # All models with LBA\n",
    "A_priors = [1, 2, 1, 1]                  # All models wtih LBA\n",
    "ndt_priors = [0, 1, 1, 1];               # For models wtihout non-decision time modulation\n",
    "g_priors = [-2, 1, 0, 1]                 # For models wtih non-decision time modulation\n",
    "m_priors = [0, 0.5, 0, 1]                # For models wtih non-decision time modulation\n",
    "drift_priors = [1, 2, 1, 1]              # For models withoud drift mapping functions (non ANN-EAM models)\n",
    "alpha_priors = [0, 1, 1, 1]              # For models with drift mapping functions\n",
    "b_priors = [0, 1, 1, 1]                  # For models with drift mapping functions with asymptote modulation and linear models\n",
    "# There is a k parameter in LBA impelemention so we use theta as k parameter in sigmoid function\n",
    "theta_priors = [2, 1, 1, 1]              # For models with sigmoid drift mapping functions (ANN-EAM models) (equivalent of k_priors in RDM and ANN-RDM)\n",
    "sp_trial_var_priors = [1, 1, 0, 1]\n",
    "drift_variability_priors = [1, 1, 1, 1]\n",
    "\n",
    "# define input for the model\n",
    "data_dict = {'N': N,\n",
    "             'L': Number_Of_Participants,\n",
    "             'participant': participant,\n",
    "             'response': response,\n",
    "             'rt': rt,\n",
    "             'minRT': minRT,\n",
    "             'RTbound': RTbound,\n",
    "             'frequency': frequency,\n",
    "             'frequencyCondition': frequencyCondition,\n",
    "             'k_priors': k_priors,\n",
    "             'A_priors': A_priors,\n",
    "             'ndt_priors': ndt_priors,\n",
    "             'g_priors': g_priors,\n",
    "             'm_priors': m_priors,\n",
    "             'drift_priors': drift_priors,\n",
    "             'p': p,\n",
    "             'alpha_priors': alpha_priors,\n",
    "             'b_priors': b_priors,\n",
    "             'k_priors': k_priors,\n",
    "             'theta_priors': theta_priors,\n",
    "             'sp_trial_var_priors': sp_trial_var_priors,\n",
    "             'drift_variability_priors': drift_variability_priors\n",
    "             }\n",
    "\n",
    "# set sampling parameters\n",
    "n_iter = 500\n",
    "n_warmup = int(n_iter/2)\n",
    "n_sample = int(n_iter/2)\n",
    "n_chains = 2"
   ]
  },
  {
   "cell_type": "markdown",
   "id": "f4034d3d-99d8-43bf-b744-6b0608141c8d",
   "metadata": {},
   "source": [
    "Fitting the model"
   ]
  },
  {
   "cell_type": "code",
   "execution_count": 17,
   "id": "f9ddd68e",
   "metadata": {
    "colab": {
     "background_save": true
    },
    "id": "edac015c-18f4-4ebf-8c3c-ecaf4b8e1d6a",
    "scrolled": true,
    "tags": []
   },
   "outputs": [
    {
     "name": "stderr",
     "output_type": "stream",
     "text": [
      "14:41:58 - cmdstanpy - INFO - Chain [1] start processing\n",
      "14:41:58 - cmdstanpy - INFO - Chain [2] start processing\n"
     ]
    },
    {
     "name": "stdout",
     "output_type": "stream",
     "text": [
      "Chain [1] method = sample (Default)Chain [2] method = sample (Default)\n",
      "\n",
      "Chain [2] sample\n",
      "Chain [2] num_samples = 250\n",
      "Chain [2] num_warmup = 250\n",
      "Chain [2] save_warmup = 0 (Default)\n",
      "Chain [2] thin = 1 (Default)\n",
      "Chain [2] adapt\n",
      "Chain [1] sample\n",
      "Chain [1] num_samples = 250\n",
      "Chain [1] num_warmup = 250\n",
      "Chain [1] save_warmup = 0 (Default)\n",
      "Chain [2] engaged = 1 (Default)\n",
      "Chain [1] thin = 1 (Default)\n",
      "Chain [1] adapt\n",
      "Chain [1] engaged = 1 (Default)\n",
      "Chain [1] gamma = 0.050000000000000003 (Default)\n",
      "Chain [1] delta = 0.80000000000000004 (Default)\n",
      "Chain [2] gamma = 0.050000000000000003 (Default)\n",
      "Chain [2] delta = 0.80000000000000004 (Default)\n",
      "Chain [2] kappa = 0.75 (Default)\n",
      "Chain [1] kappa = 0.75 (Default)\n",
      "Chain [1] t0 = 10 (Default)\n",
      "Chain [1] init_buffer = 75 (Default)\n",
      "Chain [1] term_buffer = 50 (Default)\n",
      "Chain [2] t0 = 10 (Default)\n",
      "Chain [2] init_buffer = 75 (Default)\n",
      "Chain [2] term_buffer = 50 (Default)\n",
      "Chain [2] window = 25 (Default)\n",
      "Chain [1] window = 25 (Default)Chain [2] algorithm = hmc (Default)\n",
      "Chain [2] hmc\n",
      "Chain [2] engine = nuts (Default)\n",
      "Chain [2] nuts\n",
      "Chain [2] max_depth = 10 (Default)\n",
      "Chain [2] metric = diag_e (Default)\n",
      "Chain [2] metric_file =  (Default)\n",
      "Chain [2] stepsize = 1 (Default)\n",
      "Chain [2] stepsize_jitter = 0 (Default)\n",
      "Chain [2] num_chains = 1 (Default)\n",
      "Chain [2] id = 2\n",
      "\n",
      "Chain [1] algorithm = hmc (Default)\n",
      "Chain [1] hmc\n",
      "Chain [1] engine = nuts (Default)\n",
      "Chain [1] nuts\n",
      "Chain [1] max_depth = 10 (Default)\n",
      "Chain [1] metric = diag_e (Default)\n",
      "Chain [1] metric_file =  (Default)\n",
      "Chain [2] dataChain [1] stepsize = 1 (Default)\n",
      "\n",
      "Chain [2] file = C:\\Users\\Lenovo\\AppData\\Local\\Temp\\tmphzvuy4vv\\lqrtw89u.jsonChain [1] stepsize_jitter = 0 (Default)\n",
      "\n",
      "Chain [1] num_chains = 1 (Default)\n",
      "Chain [2] init = 2 (Default)Chain [1] id = 1 (Default)\n",
      "Chain [1] data\n",
      "Chain [1] file = C:\\Users\\Lenovo\\AppData\\Local\\Temp\\tmphzvuy4vv\\lqrtw89u.json\n",
      "Chain [1] init = 2 (Default)\n",
      "Chain [1] random\n",
      "\n",
      "Chain [1] seed = 96336\n",
      "Chain [1] outputChain [2] random\n",
      "\n",
      "Chain [1] file = D:\\Cognitive modeling And ML\\Thesis\\ANN-EAM\\stan_results\\ANN-LBA_full_s_FC\\ANN-LBA_full_s_FC-20221007144158_1.csv\n",
      "Chain [2] seed = 96336Chain [1] diagnostic_file =  (Default)\n",
      "\n",
      "Chain [2] output\n",
      "Chain [1] refresh = 100 (Default)Chain [2] file = D:\\Cognitive modeling And ML\\Thesis\\ANN-EAM\\stan_results\\ANN-LBA_full_s_FC\\ANN-LBA_full_s_FC-20221007144158_2.csv\n",
      "\n",
      "Chain [2] diagnostic_file =  (Default)Chain [1] sig_figs = -1 (Default)\n",
      "Chain [1] profile_file = profile.csv (Default)\n",
      "Chain [1] num_threads = 1 (Default)\n",
      "Chain [1] \n",
      "\n",
      "Chain [2] refresh = 100 (Default)\n",
      "Chain [2] sig_figs = -1 (Default)\n",
      "Chain [2] profile_file = profile.csv (Default)\n",
      "Chain [2] num_threads = 1 (Default)\n",
      "Chain [2] \n",
      "Chain [2] \n",
      "Chain [2] Gradient evaluation took 0.002962 seconds\n",
      "Chain [2] 1000 transitions using 10 leapfrog steps per transition would take 29.62 seconds.\n",
      "Chain [2] Adjust your expectations accordingly!\n",
      "Chain [2] \n",
      "Chain [2] \n",
      "Chain [1] \n",
      "Chain [1] Gradient evaluation took 0.010858 seconds\n",
      "Chain [1] 1000 transitions using 10 leapfrog steps per transition would take 108.58 seconds.\n",
      "Chain [1] Adjust your expectations accordingly!\n",
      "Chain [1] \n",
      "Chain [1] \n",
      "Chain [1] Informational Message: The current Metropolis proposal is about to be rejected because of the following issue:\n",
      "Chain [1] Exception: Exception: Exception: Phi: x is nan, but must be not nan! (in 'C:/Users/Lenovo/AppData/Local/Temp/tmp839i6rvy/tmpgdxzgrwc.stan', line 25, column 8 to column 34) (in 'C:/Users/Lenovo/AppData/Local/Temp/tmp839i6rvy/tmpgdxzgrwc.stan', line 83, column 20 to column 88) (in 'C:/Users/Lenovo/AppData/Local/Temp/tmp839i6rvy/tmpgdxzgrwc.stan', line 286, column 4 to line 287, column 72)\n",
      "Chain [1] If this warning occurs sporadically, such as for highly constrained variable types like covariance matrices, then the sampler is fine,\n",
      "Chain [1] but if this warning occurs often then your model may be either severely ill-conditioned or misspecified.\n",
      "Chain [1] \n",
      "Chain [1] Informational Message: The current Metropolis proposal is about to be rejected because of the following issue:\n",
      "Chain [1] Exception: Exception: Exception: Phi: x is nan, but must be not nan! (in 'C:/Users/Lenovo/AppData/Local/Temp/tmp839i6rvy/tmpgdxzgrwc.stan', line 25, column 8 to column 34) (in 'C:/Users/Lenovo/AppData/Local/Temp/tmp839i6rvy/tmpgdxzgrwc.stan', line 83, column 20 to column 88) (in 'C:/Users/Lenovo/AppData/Local/Temp/tmp839i6rvy/tmpgdxzgrwc.stan', line 286, column 4 to line 287, column 72)\n",
      "Chain [1] If this warning occurs sporadically, such as for highly constrained variable types like covariance matrices, then the sampler is fine,\n",
      "Chain [1] but if this warning occurs often then your model may be either severely ill-conditioned or misspecified.\n",
      "Chain [1] \n",
      "Chain [2] Iteration:   1 / 500 [  0%]  (Warmup)\n",
      "Chain [1] Iteration:   1 / 500 [  0%]  (Warmup)\n",
      "Chain [1] Informational Message: The current Metropolis proposal is about to be rejected because of the following issue:\n",
      "Chain [1] Exception: Exception: Exception: Phi: x is nan, but must be not nan! (in 'C:/Users/Lenovo/AppData/Local/Temp/tmp839i6rvy/tmpgdxzgrwc.stan', line 25, column 8 to column 34) (in 'C:/Users/Lenovo/AppData/Local/Temp/tmp839i6rvy/tmpgdxzgrwc.stan', line 83, column 20 to column 88) (in 'C:/Users/Lenovo/AppData/Local/Temp/tmp839i6rvy/tmpgdxzgrwc.stan', line 286, column 4 to line 287, column 72)\n",
      "Chain [1] If this warning occurs sporadically, such as for highly constrained variable types like covariance matrices, then the sampler is fine,\n",
      "Chain [1] but if this warning occurs often then your model may be either severely ill-conditioned or misspecified.\n",
      "Chain [1] \n",
      "Chain [2] Informational Message: The current Metropolis proposal is about to be rejected because of the following issue:\n",
      "Chain [2] Exception: tmpgdxzgrwc_model_namespace::log_prob: drift_nonword_t[2] is nan, but must be greater than or equal to 0.000000 (in 'C:/Users/Lenovo/AppData/Local/Temp/tmp839i6rvy/tmpgdxzgrwc.stan', line 183, column 1 to column 37)\n",
      "Chain [2] If this warning occurs sporadically, such as for highly constrained variable types like covariance matrices, then the sampler is fine,\n",
      "Chain [2] but if this warning occurs often then your model may be either severely ill-conditioned or misspecified.\n",
      "Chain [2] \n",
      "Chain [2] Informational Message: The current Metropolis proposal is about to be rejected because of the following issue:\n",
      "Chain [2] Exception: Exception: Exception: Phi: x is nan, but must be not nan! (in 'C:/Users/Lenovo/AppData/Local/Temp/tmp839i6rvy/tmpgdxzgrwc.stan', line 49, column 8 to column 43) (in 'C:/Users/Lenovo/AppData/Local/Temp/tmp839i6rvy/tmpgdxzgrwc.stan', line 84, column 20 to column 99) (in 'C:/Users/Lenovo/AppData/Local/Temp/tmp839i6rvy/tmpgdxzgrwc.stan', line 286, column 4 to line 287, column 72)\n",
      "Chain [2] If this warning occurs sporadically, such as for highly constrained variable types like covariance matrices, then the sampler is fine,\n",
      "Chain [2] but if this warning occurs often then your model may be either severely ill-conditioned or misspecified.\n",
      "Chain [2] \n",
      "Chain [2] Iteration: 100 / 500 [ 20%]  (Warmup)\n",
      "Chain [1] Iteration: 100 / 500 [ 20%]  (Warmup)\n",
      "Chain [2] Iteration: 200 / 500 [ 40%]  (Warmup)\n",
      "Chain [1] Iteration: 200 / 500 [ 40%]  (Warmup)\n",
      "Chain [1] Iteration: 251 / 500 [ 50%]  (Sampling)\n",
      "Chain [2] Iteration: 251 / 500 [ 50%]  (Sampling)\n",
      "Chain [1] Iteration: 350 / 500 [ 70%]  (Sampling)\n",
      "Chain [2] Iteration: 350 / 500 [ 70%]  (Sampling)\n",
      "Chain [1] Iteration: 450 / 500 [ 90%]  (Sampling)\n",
      "Chain [2] Iteration: 450 / 500 [ 90%]  (Sampling)\n",
      "Chain [1] Iteration: 500 / 500 [100%]  (Sampling)\n"
     ]
    },
    {
     "name": "stderr",
     "output_type": "stream",
     "text": [
      "14:53:07 - cmdstanpy - INFO - Chain [1] done processing\n"
     ]
    },
    {
     "name": "stdout",
     "output_type": "stream",
     "text": [
      "Chain [1] \n",
      "Chain [1] Elapsed Time: 412.851 seconds (Warm-up)\n",
      "Chain [1] 256.377 seconds (Sampling)\n",
      "Chain [1] 669.228 seconds (Total)\n",
      "Chain [1] \n",
      "Chain [1] \n",
      "Chain [1] \n",
      "Chain [1] \n",
      "Chain [1] \n",
      "Chain [2] Iteration: 500 / 500 [100%]  (Sampling)\n"
     ]
    },
    {
     "name": "stderr",
     "output_type": "stream",
     "text": [
      "14:54:00 - cmdstanpy - INFO - Chain [2] done processing\n",
      "14:54:00 - cmdstanpy - WARNING - Non-fatal error during sampling:\n",
      "Exception: Exception: Exception: Phi: x is nan, but must be not nan! (in 'C:/Users/Lenovo/AppData/Local/Temp/tmp839i6rvy/tmpgdxzgrwc.stan', line 25, column 8 to column 34) (in 'C:/Users/Lenovo/AppData/Local/Temp/tmp839i6rvy/tmpgdxzgrwc.stan', line 83, column 20 to column 88) (in 'C:/Users/Lenovo/AppData/Local/Temp/tmp839i6rvy/tmpgdxzgrwc.stan', line 286, column 4 to line 287, column 72)\n",
      "\tException: Exception: Exception: Phi: x is nan, but must be not nan! (in 'C:/Users/Lenovo/AppData/Local/Temp/tmp839i6rvy/tmpgdxzgrwc.stan', line 25, column 8 to column 34) (in 'C:/Users/Lenovo/AppData/Local/Temp/tmp839i6rvy/tmpgdxzgrwc.stan', line 83, column 20 to column 88) (in 'C:/Users/Lenovo/AppData/Local/Temp/tmp839i6rvy/tmpgdxzgrwc.stan', line 286, column 4 to line 287, column 72)\n",
      "\tException: Exception: Exception: Phi: x is nan, but must be not nan! (in 'C:/Users/Lenovo/AppData/Local/Temp/tmp839i6rvy/tmpgdxzgrwc.stan', line 25, column 8 to column 34) (in 'C:/Users/Lenovo/AppData/Local/Temp/tmp839i6rvy/tmpgdxzgrwc.stan', line 83, column 20 to column 88) (in 'C:/Users/Lenovo/AppData/Local/Temp/tmp839i6rvy/tmpgdxzgrwc.stan', line 286, column 4 to line 287, column 72)\n",
      "Exception: tmpgdxzgrwc_model_namespace::log_prob: drift_nonword_t[2] is nan, but must be greater than or equal to 0.000000 (in 'C:/Users/Lenovo/AppData/Local/Temp/tmp839i6rvy/tmpgdxzgrwc.stan', line 183, column 1 to column 37)\n",
      "\tException: Exception: Exception: Phi: x is nan, but must be not nan! (in 'C:/Users/Lenovo/AppData/Local/Temp/tmp839i6rvy/tmpgdxzgrwc.stan', line 49, column 8 to column 43) (in 'C:/Users/Lenovo/AppData/Local/Temp/tmp839i6rvy/tmpgdxzgrwc.stan', line 84, column 20 to column 99) (in 'C:/Users/Lenovo/AppData/Local/Temp/tmp839i6rvy/tmpgdxzgrwc.stan', line 286, column 4 to line 287, column 72)\n",
      "Consider re-running with show_console=True if the above output is unclear!\n"
     ]
    },
    {
     "name": "stdout",
     "output_type": "stream",
     "text": [
      "Chain [2] \n",
      "Chain [2] Elapsed Time: 416.622 seconds (Warm-up)\n",
      "Chain [2] 305.237 seconds (Sampling)\n",
      "Chain [2] 721.859 seconds (Total)\n",
      "Chain [2] \n",
      "Chain [2] \n",
      "Chain [2] \n",
      "Chain [2] \n",
      "Chain [2] \n",
      "Chain [2] \n",
      "Chain [2] \n"
     ]
    },
    {
     "name": "stderr",
     "output_type": "stream",
     "text": [
      "14:54:00 - cmdstanpy - WARNING - Some chains may have failed to converge.\n",
      "\tChain 1 had 1 divergent transitions (0.4%)\n",
      "\tChain 2 had 1 divergent transitions (0.4%)\n",
      "\tUse function \"diagnose()\" to see further information.\n"
     ]
    }
   ],
   "source": [
    "fit = lba_model.sample(data=data_dict,\n",
    "                       iter_sampling=n_sample, \n",
    "                       iter_warmup=n_warmup,\n",
    "                       chains=n_chains,\n",
    "                       output_dir=stan_output_dir,\n",
    "                       show_console=True)"
   ]
  },
  {
   "cell_type": "markdown",
   "id": "10d7bfe3-f4b0-4c5e-b38a-da896fc9910a",
   "metadata": {},
   "source": [
    "## Model diagnostics"
   ]
  },
  {
   "cell_type": "code",
   "execution_count": 18,
   "id": "83b4b9f0",
   "metadata": {
    "colab": {
     "background_save": true
    },
    "id": "a8e1d56e-e7e4-4ca1-a0bd-5b34edf6ea44"
   },
   "outputs": [
    {
     "name": "stdout",
     "output_type": "stream",
     "text": [
      "***hmc diagnostics:\n",
      "Processing csv files: D:\\Cognitive modeling And ML\\Thesis\\ANN-EAM\\stan_results\\ANN-LBA_full_s_FC\\ANN-LBA_full_s_FC-20221007144158_1.csv, D:\\Cognitive modeling And ML\\Thesis\\ANN-EAM\\stan_results\\ANN-LBA_full_s_FC\\ANN-LBA_full_s_FC-20221007144158_2.csv\n",
      "\n",
      "Checking sampler transitions treedepth.\n",
      "Treedepth satisfactory for all transitions.\n",
      "\n",
      "Checking sampler transitions for divergences.\n",
      "2 of 500 (0.40%) transitions ended with a divergence.\n",
      "These divergent transitions indicate that HMC is not fully able to explore the posterior distribution.\n",
      "Try increasing adapt delta closer to 1.\n",
      "If this doesn't remove all divergences, try to reparameterize the model.\n",
      "\n",
      "Checking E-BFMI - sampler transitions HMC potential energy.\n",
      "E-BFMI satisfactory.\n",
      "\n",
      "Effective sample size satisfactory.\n",
      "\n",
      "Split R-hat values satisfactory all parameters.\n",
      "\n",
      "Processing complete.\n",
      "\n"
     ]
    }
   ],
   "source": [
    "print(\"***hmc diagnostics:\")\n",
    "print(fit.diagnose(), flush=True)"
   ]
  },
  {
   "cell_type": "code",
   "execution_count": 19,
   "id": "b033c45b",
   "metadata": {
    "colab": {
     "background_save": true
    },
    "id": "efa2a6ff-ad48-4c7e-a094-4c645923644e"
   },
   "outputs": [
    {
     "name": "stdout",
     "output_type": "stream",
     "text": [
      "***DF: \n"
     ]
    },
    {
     "data": {
      "text/html": [
       "<div>\n",
       "<style scoped>\n",
       "    .dataframe tbody tr th:only-of-type {\n",
       "        vertical-align: middle;\n",
       "    }\n",
       "\n",
       "    .dataframe tbody tr th {\n",
       "        vertical-align: top;\n",
       "    }\n",
       "\n",
       "    .dataframe thead th {\n",
       "        text-align: right;\n",
       "    }\n",
       "</style>\n",
       "<table border=\"1\" class=\"dataframe\">\n",
       "  <thead>\n",
       "    <tr style=\"text-align: right;\">\n",
       "      <th></th>\n",
       "      <th>Mean</th>\n",
       "      <th>MCSE</th>\n",
       "      <th>StdDev</th>\n",
       "      <th>5%</th>\n",
       "      <th>50%</th>\n",
       "      <th>95%</th>\n",
       "      <th>N_Eff</th>\n",
       "      <th>N_Eff/s</th>\n",
       "      <th>R_hat</th>\n",
       "    </tr>\n",
       "  </thead>\n",
       "  <tbody>\n",
       "    <tr>\n",
       "      <th>lp__</th>\n",
       "      <td>-771.505000</td>\n",
       "      <td>0.796153</td>\n",
       "      <td>8.548530</td>\n",
       "      <td>-786.944000</td>\n",
       "      <td>-770.530000</td>\n",
       "      <td>-758.538000</td>\n",
       "      <td>115.289</td>\n",
       "      <td>0.205282</td>\n",
       "      <td>1.005530</td>\n",
       "    </tr>\n",
       "    <tr>\n",
       "      <th>mu_k_word</th>\n",
       "      <td>-0.411256</td>\n",
       "      <td>0.025199</td>\n",
       "      <td>0.339125</td>\n",
       "      <td>-0.974732</td>\n",
       "      <td>-0.408794</td>\n",
       "      <td>0.159818</td>\n",
       "      <td>181.115</td>\n",
       "      <td>0.322490</td>\n",
       "      <td>0.999770</td>\n",
       "    </tr>\n",
       "    <tr>\n",
       "      <th>mu_k_nonword</th>\n",
       "      <td>0.339404</td>\n",
       "      <td>0.028316</td>\n",
       "      <td>0.462061</td>\n",
       "      <td>-0.428638</td>\n",
       "      <td>0.373264</td>\n",
       "      <td>1.058410</td>\n",
       "      <td>266.284</td>\n",
       "      <td>0.474141</td>\n",
       "      <td>1.008550</td>\n",
       "    </tr>\n",
       "    <tr>\n",
       "      <th>mu_sp_trial_var_word</th>\n",
       "      <td>0.939571</td>\n",
       "      <td>0.031150</td>\n",
       "      <td>0.492520</td>\n",
       "      <td>0.109192</td>\n",
       "      <td>0.894865</td>\n",
       "      <td>1.780930</td>\n",
       "      <td>249.990</td>\n",
       "      <td>0.445128</td>\n",
       "      <td>1.004410</td>\n",
       "    </tr>\n",
       "    <tr>\n",
       "      <th>mu_sp_trial_var_nonword</th>\n",
       "      <td>1.473860</td>\n",
       "      <td>0.043643</td>\n",
       "      <td>0.589083</td>\n",
       "      <td>0.551205</td>\n",
       "      <td>1.486550</td>\n",
       "      <td>2.471310</td>\n",
       "      <td>182.190</td>\n",
       "      <td>0.324404</td>\n",
       "      <td>1.006300</td>\n",
       "    </tr>\n",
       "    <tr>\n",
       "      <th>...</th>\n",
       "      <td>...</td>\n",
       "      <td>...</td>\n",
       "      <td>...</td>\n",
       "      <td>...</td>\n",
       "      <td>...</td>\n",
       "      <td>...</td>\n",
       "      <td>...</td>\n",
       "      <td>...</td>\n",
       "      <td>...</td>\n",
       "    </tr>\n",
       "    <tr>\n",
       "      <th>log_lik[1772]</th>\n",
       "      <td>-0.489112</td>\n",
       "      <td>0.002756</td>\n",
       "      <td>0.059903</td>\n",
       "      <td>-0.589864</td>\n",
       "      <td>-0.489297</td>\n",
       "      <td>-0.390800</td>\n",
       "      <td>472.272</td>\n",
       "      <td>0.840920</td>\n",
       "      <td>0.998010</td>\n",
       "    </tr>\n",
       "    <tr>\n",
       "      <th>log_lik[1773]</th>\n",
       "      <td>-0.268616</td>\n",
       "      <td>0.004706</td>\n",
       "      <td>0.100085</td>\n",
       "      <td>-0.422811</td>\n",
       "      <td>-0.270842</td>\n",
       "      <td>-0.105931</td>\n",
       "      <td>452.217</td>\n",
       "      <td>0.805210</td>\n",
       "      <td>0.997215</td>\n",
       "    </tr>\n",
       "    <tr>\n",
       "      <th>log_lik[1774]</th>\n",
       "      <td>-0.933342</td>\n",
       "      <td>0.003869</td>\n",
       "      <td>0.092216</td>\n",
       "      <td>-1.092200</td>\n",
       "      <td>-0.931121</td>\n",
       "      <td>-0.792227</td>\n",
       "      <td>568.093</td>\n",
       "      <td>1.011540</td>\n",
       "      <td>0.999245</td>\n",
       "    </tr>\n",
       "    <tr>\n",
       "      <th>log_lik[1775]</th>\n",
       "      <td>0.346155</td>\n",
       "      <td>0.002675</td>\n",
       "      <td>0.066498</td>\n",
       "      <td>0.235740</td>\n",
       "      <td>0.350812</td>\n",
       "      <td>0.446860</td>\n",
       "      <td>618.014</td>\n",
       "      <td>1.100430</td>\n",
       "      <td>0.998461</td>\n",
       "    </tr>\n",
       "    <tr>\n",
       "      <th>log_lik[1776]</th>\n",
       "      <td>-4.426520</td>\n",
       "      <td>0.029330</td>\n",
       "      <td>0.664840</td>\n",
       "      <td>-5.591660</td>\n",
       "      <td>-4.392640</td>\n",
       "      <td>-3.441430</td>\n",
       "      <td>513.819</td>\n",
       "      <td>0.914896</td>\n",
       "      <td>1.001120</td>\n",
       "    </tr>\n",
       "  </tbody>\n",
       "</table>\n",
       "<p>16128 rows × 9 columns</p>\n",
       "</div>"
      ],
      "text/plain": [
       "                               Mean      MCSE    StdDev          5%  \\\n",
       "lp__                    -771.505000  0.796153  8.548530 -786.944000   \n",
       "mu_k_word                 -0.411256  0.025199  0.339125   -0.974732   \n",
       "mu_k_nonword               0.339404  0.028316  0.462061   -0.428638   \n",
       "mu_sp_trial_var_word       0.939571  0.031150  0.492520    0.109192   \n",
       "mu_sp_trial_var_nonword    1.473860  0.043643  0.589083    0.551205   \n",
       "...                             ...       ...       ...         ...   \n",
       "log_lik[1772]             -0.489112  0.002756  0.059903   -0.589864   \n",
       "log_lik[1773]             -0.268616  0.004706  0.100085   -0.422811   \n",
       "log_lik[1774]             -0.933342  0.003869  0.092216   -1.092200   \n",
       "log_lik[1775]              0.346155  0.002675  0.066498    0.235740   \n",
       "log_lik[1776]             -4.426520  0.029330  0.664840   -5.591660   \n",
       "\n",
       "                                50%         95%    N_Eff   N_Eff/s     R_hat  \n",
       "lp__                    -770.530000 -758.538000  115.289  0.205282  1.005530  \n",
       "mu_k_word                 -0.408794    0.159818  181.115  0.322490  0.999770  \n",
       "mu_k_nonword               0.373264    1.058410  266.284  0.474141  1.008550  \n",
       "mu_sp_trial_var_word       0.894865    1.780930  249.990  0.445128  1.004410  \n",
       "mu_sp_trial_var_nonword    1.486550    2.471310  182.190  0.324404  1.006300  \n",
       "...                             ...         ...      ...       ...       ...  \n",
       "log_lik[1772]             -0.489297   -0.390800  472.272  0.840920  0.998010  \n",
       "log_lik[1773]             -0.270842   -0.105931  452.217  0.805210  0.997215  \n",
       "log_lik[1774]             -0.931121   -0.792227  568.093  1.011540  0.999245  \n",
       "log_lik[1775]              0.350812    0.446860  618.014  1.100430  0.998461  \n",
       "log_lik[1776]             -4.392640   -3.441430  513.819  0.914896  1.001120  \n",
       "\n",
       "[16128 rows x 9 columns]"
      ]
     },
     "execution_count": 19,
     "metadata": {},
     "output_type": "execute_result"
    }
   ],
   "source": [
    "df = fit.summary()\n",
    "\n",
    "print(\"***DF: \")\n",
    "df"
   ]
  },
  {
   "cell_type": "code",
   "execution_count": 20,
   "id": "0302aa3b",
   "metadata": {
    "colab": {
     "background_save": true
    },
    "id": "b33a48e1-8c3b-4668-9e74-ba74c58e3bec",
    "scrolled": true
   },
   "outputs": [
    {
     "name": "stdout",
     "output_type": "stream",
     "text": [
      "***Rhat > 1.01: \n",
      "2847\n"
     ]
    }
   ],
   "source": [
    "counter = 0\n",
    "print(\"***Rhat > 1.01: \")\n",
    "for f in df[\"R_hat\"]:\n",
    "    if f >= 1.01 or f <= 0.9:\n",
    "        counter+=1\n",
    "print(counter)"
   ]
  },
  {
   "cell_type": "code",
   "execution_count": 21,
   "id": "54606c2d",
   "metadata": {
    "colab": {
     "background_save": true
    },
    "id": "681ed2bf-2a28-4a8b-90d0-24b9fede846f"
   },
   "outputs": [
    {
     "data": {
      "text/html": [
       "<div>\n",
       "<style scoped>\n",
       "    .dataframe tbody tr th:only-of-type {\n",
       "        vertical-align: middle;\n",
       "    }\n",
       "\n",
       "    .dataframe tbody tr th {\n",
       "        vertical-align: top;\n",
       "    }\n",
       "\n",
       "    .dataframe thead th {\n",
       "        text-align: right;\n",
       "    }\n",
       "</style>\n",
       "<table border=\"1\" class=\"dataframe\">\n",
       "  <thead>\n",
       "    <tr style=\"text-align: right;\">\n",
       "      <th></th>\n",
       "      <th>Mean</th>\n",
       "      <th>MCSE</th>\n",
       "      <th>StdDev</th>\n",
       "      <th>5%</th>\n",
       "      <th>50%</th>\n",
       "      <th>95%</th>\n",
       "      <th>N_Eff</th>\n",
       "      <th>N_Eff/s</th>\n",
       "      <th>R_hat</th>\n",
       "    </tr>\n",
       "  </thead>\n",
       "  <tbody>\n",
       "    <tr>\n",
       "      <th>mu_alpha</th>\n",
       "      <td>0.805949</td>\n",
       "      <td>0.046227</td>\n",
       "      <td>0.535753</td>\n",
       "      <td>-0.072329</td>\n",
       "      <td>0.806183</td>\n",
       "      <td>1.708740</td>\n",
       "      <td>134.318</td>\n",
       "      <td>0.239165</td>\n",
       "      <td>1.02125</td>\n",
       "    </tr>\n",
       "    <tr>\n",
       "      <th>mu_theta_1</th>\n",
       "      <td>1.569130</td>\n",
       "      <td>0.037135</td>\n",
       "      <td>0.511885</td>\n",
       "      <td>0.786875</td>\n",
       "      <td>1.555130</td>\n",
       "      <td>2.493900</td>\n",
       "      <td>190.011</td>\n",
       "      <td>0.338330</td>\n",
       "      <td>1.01319</td>\n",
       "    </tr>\n",
       "    <tr>\n",
       "      <th>sd_sp_trial_var_word</th>\n",
       "      <td>0.909833</td>\n",
       "      <td>0.023617</td>\n",
       "      <td>0.380401</td>\n",
       "      <td>0.399640</td>\n",
       "      <td>0.865214</td>\n",
       "      <td>1.657120</td>\n",
       "      <td>259.444</td>\n",
       "      <td>0.461961</td>\n",
       "      <td>1.01556</td>\n",
       "    </tr>\n",
       "    <tr>\n",
       "      <th>sd_sp_trial_var_nonword</th>\n",
       "      <td>1.210260</td>\n",
       "      <td>0.039931</td>\n",
       "      <td>0.488946</td>\n",
       "      <td>0.529999</td>\n",
       "      <td>1.162620</td>\n",
       "      <td>2.037610</td>\n",
       "      <td>149.936</td>\n",
       "      <td>0.266974</td>\n",
       "      <td>1.03665</td>\n",
       "    </tr>\n",
       "    <tr>\n",
       "      <th>sd_alpha</th>\n",
       "      <td>1.254990</td>\n",
       "      <td>0.029392</td>\n",
       "      <td>0.462652</td>\n",
       "      <td>0.649817</td>\n",
       "      <td>1.173860</td>\n",
       "      <td>2.132950</td>\n",
       "      <td>247.774</td>\n",
       "      <td>0.441183</td>\n",
       "      <td>1.02010</td>\n",
       "    </tr>\n",
       "    <tr>\n",
       "      <th>...</th>\n",
       "      <td>...</td>\n",
       "      <td>...</td>\n",
       "      <td>...</td>\n",
       "      <td>...</td>\n",
       "      <td>...</td>\n",
       "      <td>...</td>\n",
       "      <td>...</td>\n",
       "      <td>...</td>\n",
       "      <td>...</td>\n",
       "    </tr>\n",
       "    <tr>\n",
       "      <th>log_lik[1003]</th>\n",
       "      <td>0.254762</td>\n",
       "      <td>0.005721</td>\n",
       "      <td>0.097717</td>\n",
       "      <td>0.102122</td>\n",
       "      <td>0.246565</td>\n",
       "      <td>0.433599</td>\n",
       "      <td>291.776</td>\n",
       "      <td>0.519532</td>\n",
       "      <td>1.01077</td>\n",
       "    </tr>\n",
       "    <tr>\n",
       "      <th>log_lik[1028]</th>\n",
       "      <td>0.250996</td>\n",
       "      <td>0.005705</td>\n",
       "      <td>0.097680</td>\n",
       "      <td>0.099390</td>\n",
       "      <td>0.243249</td>\n",
       "      <td>0.429002</td>\n",
       "      <td>293.189</td>\n",
       "      <td>0.522047</td>\n",
       "      <td>1.01075</td>\n",
       "    </tr>\n",
       "    <tr>\n",
       "      <th>log_lik[1032]</th>\n",
       "      <td>0.277618</td>\n",
       "      <td>0.005837</td>\n",
       "      <td>0.098076</td>\n",
       "      <td>0.127117</td>\n",
       "      <td>0.269859</td>\n",
       "      <td>0.460034</td>\n",
       "      <td>282.344</td>\n",
       "      <td>0.502736</td>\n",
       "      <td>1.01079</td>\n",
       "    </tr>\n",
       "    <tr>\n",
       "      <th>log_lik[1040]</th>\n",
       "      <td>0.201757</td>\n",
       "      <td>0.005460</td>\n",
       "      <td>0.098324</td>\n",
       "      <td>0.045207</td>\n",
       "      <td>0.199936</td>\n",
       "      <td>0.369674</td>\n",
       "      <td>324.249</td>\n",
       "      <td>0.577352</td>\n",
       "      <td>1.01001</td>\n",
       "    </tr>\n",
       "    <tr>\n",
       "      <th>log_lik[1057]</th>\n",
       "      <td>0.318545</td>\n",
       "      <td>0.006381</td>\n",
       "      <td>0.099843</td>\n",
       "      <td>0.172798</td>\n",
       "      <td>0.310546</td>\n",
       "      <td>0.503746</td>\n",
       "      <td>244.861</td>\n",
       "      <td>0.435994</td>\n",
       "      <td>1.01020</td>\n",
       "    </tr>\n",
       "  </tbody>\n",
       "</table>\n",
       "<p>2847 rows × 9 columns</p>\n",
       "</div>"
      ],
      "text/plain": [
       "                             Mean      MCSE    StdDev        5%       50%  \\\n",
       "mu_alpha                 0.805949  0.046227  0.535753 -0.072329  0.806183   \n",
       "mu_theta_1               1.569130  0.037135  0.511885  0.786875  1.555130   \n",
       "sd_sp_trial_var_word     0.909833  0.023617  0.380401  0.399640  0.865214   \n",
       "sd_sp_trial_var_nonword  1.210260  0.039931  0.488946  0.529999  1.162620   \n",
       "sd_alpha                 1.254990  0.029392  0.462652  0.649817  1.173860   \n",
       "...                           ...       ...       ...       ...       ...   \n",
       "log_lik[1003]            0.254762  0.005721  0.097717  0.102122  0.246565   \n",
       "log_lik[1028]            0.250996  0.005705  0.097680  0.099390  0.243249   \n",
       "log_lik[1032]            0.277618  0.005837  0.098076  0.127117  0.269859   \n",
       "log_lik[1040]            0.201757  0.005460  0.098324  0.045207  0.199936   \n",
       "log_lik[1057]            0.318545  0.006381  0.099843  0.172798  0.310546   \n",
       "\n",
       "                              95%    N_Eff   N_Eff/s    R_hat  \n",
       "mu_alpha                 1.708740  134.318  0.239165  1.02125  \n",
       "mu_theta_1               2.493900  190.011  0.338330  1.01319  \n",
       "sd_sp_trial_var_word     1.657120  259.444  0.461961  1.01556  \n",
       "sd_sp_trial_var_nonword  2.037610  149.936  0.266974  1.03665  \n",
       "sd_alpha                 2.132950  247.774  0.441183  1.02010  \n",
       "...                           ...      ...       ...      ...  \n",
       "log_lik[1003]            0.433599  291.776  0.519532  1.01077  \n",
       "log_lik[1028]            0.429002  293.189  0.522047  1.01075  \n",
       "log_lik[1032]            0.460034  282.344  0.502736  1.01079  \n",
       "log_lik[1040]            0.369674  324.249  0.577352  1.01001  \n",
       "log_lik[1057]            0.503746  244.861  0.435994  1.01020  \n",
       "\n",
       "[2847 rows x 9 columns]"
      ]
     },
     "execution_count": 21,
     "metadata": {},
     "output_type": "execute_result"
    }
   ],
   "source": [
    "df.loc[df['R_hat']>1.01]"
   ]
  },
  {
   "cell_type": "code",
   "execution_count": 22,
   "id": "f0aa820a",
   "metadata": {
    "colab": {
     "background_save": true
    },
    "id": "a651e5b7-b7f1-4426-ae8e-f9e236eb6e91"
   },
   "outputs": [
    {
     "data": {
      "text/html": [
       "<div>\n",
       "<style scoped>\n",
       "    .dataframe tbody tr th:only-of-type {\n",
       "        vertical-align: middle;\n",
       "    }\n",
       "\n",
       "    .dataframe tbody tr th {\n",
       "        vertical-align: top;\n",
       "    }\n",
       "\n",
       "    .dataframe thead th {\n",
       "        text-align: right;\n",
       "    }\n",
       "</style>\n",
       "<table border=\"1\" class=\"dataframe\">\n",
       "  <thead>\n",
       "    <tr style=\"text-align: right;\">\n",
       "      <th></th>\n",
       "      <th>Mean</th>\n",
       "      <th>MCSE</th>\n",
       "      <th>StdDev</th>\n",
       "      <th>5%</th>\n",
       "      <th>50%</th>\n",
       "      <th>95%</th>\n",
       "      <th>N_Eff</th>\n",
       "      <th>N_Eff/s</th>\n",
       "      <th>R_hat</th>\n",
       "    </tr>\n",
       "  </thead>\n",
       "  <tbody>\n",
       "    <tr>\n",
       "      <th>count</th>\n",
       "      <td>2847.000000</td>\n",
       "      <td>2847.000000</td>\n",
       "      <td>2847.000000</td>\n",
       "      <td>2847.000000</td>\n",
       "      <td>2847.000000</td>\n",
       "      <td>2847.000000</td>\n",
       "      <td>2847.000000</td>\n",
       "      <td>2847.000000</td>\n",
       "      <td>2847.000000</td>\n",
       "    </tr>\n",
       "    <tr>\n",
       "      <th>mean</th>\n",
       "      <td>1.737944</td>\n",
       "      <td>0.031949</td>\n",
       "      <td>0.422400</td>\n",
       "      <td>1.097790</td>\n",
       "      <td>1.701490</td>\n",
       "      <td>2.501490</td>\n",
       "      <td>175.691999</td>\n",
       "      <td>0.312834</td>\n",
       "      <td>1.014984</td>\n",
       "    </tr>\n",
       "    <tr>\n",
       "      <th>std</th>\n",
       "      <td>0.896891</td>\n",
       "      <td>0.016526</td>\n",
       "      <td>0.225991</td>\n",
       "      <td>0.564665</td>\n",
       "      <td>0.877375</td>\n",
       "      <td>1.312962</td>\n",
       "      <td>32.019770</td>\n",
       "      <td>0.057014</td>\n",
       "      <td>0.003681</td>\n",
       "    </tr>\n",
       "    <tr>\n",
       "      <th>min</th>\n",
       "      <td>-2.522490</td>\n",
       "      <td>0.005460</td>\n",
       "      <td>0.097680</td>\n",
       "      <td>-2.857990</td>\n",
       "      <td>-2.510050</td>\n",
       "      <td>-2.237600</td>\n",
       "      <td>134.318000</td>\n",
       "      <td>0.239165</td>\n",
       "      <td>1.010010</td>\n",
       "    </tr>\n",
       "    <tr>\n",
       "      <th>25%</th>\n",
       "      <td>0.866046</td>\n",
       "      <td>0.014308</td>\n",
       "      <td>0.181333</td>\n",
       "      <td>0.597776</td>\n",
       "      <td>0.844683</td>\n",
       "      <td>1.203910</td>\n",
       "      <td>160.610000</td>\n",
       "      <td>0.285979</td>\n",
       "      <td>1.012080</td>\n",
       "    </tr>\n",
       "    <tr>\n",
       "      <th>50%</th>\n",
       "      <td>1.514800</td>\n",
       "      <td>0.027394</td>\n",
       "      <td>0.370084</td>\n",
       "      <td>0.987283</td>\n",
       "      <td>1.466480</td>\n",
       "      <td>2.173660</td>\n",
       "      <td>161.463000</td>\n",
       "      <td>0.287499</td>\n",
       "      <td>1.014080</td>\n",
       "    </tr>\n",
       "    <tr>\n",
       "      <th>75%</th>\n",
       "      <td>2.275620</td>\n",
       "      <td>0.040810</td>\n",
       "      <td>0.518372</td>\n",
       "      <td>1.529850</td>\n",
       "      <td>2.257390</td>\n",
       "      <td>3.116320</td>\n",
       "      <td>182.509000</td>\n",
       "      <td>0.324972</td>\n",
       "      <td>1.017030</td>\n",
       "    </tr>\n",
       "    <tr>\n",
       "      <th>max</th>\n",
       "      <td>3.995920</td>\n",
       "      <td>0.071286</td>\n",
       "      <td>0.907528</td>\n",
       "      <td>2.718150</td>\n",
       "      <td>3.928690</td>\n",
       "      <td>5.525790</td>\n",
       "      <td>401.546000</td>\n",
       "      <td>0.714986</td>\n",
       "      <td>1.036650</td>\n",
       "    </tr>\n",
       "  </tbody>\n",
       "</table>\n",
       "</div>"
      ],
      "text/plain": [
       "              Mean         MCSE       StdDev           5%          50%  \\\n",
       "count  2847.000000  2847.000000  2847.000000  2847.000000  2847.000000   \n",
       "mean      1.737944     0.031949     0.422400     1.097790     1.701490   \n",
       "std       0.896891     0.016526     0.225991     0.564665     0.877375   \n",
       "min      -2.522490     0.005460     0.097680    -2.857990    -2.510050   \n",
       "25%       0.866046     0.014308     0.181333     0.597776     0.844683   \n",
       "50%       1.514800     0.027394     0.370084     0.987283     1.466480   \n",
       "75%       2.275620     0.040810     0.518372     1.529850     2.257390   \n",
       "max       3.995920     0.071286     0.907528     2.718150     3.928690   \n",
       "\n",
       "               95%        N_Eff      N_Eff/s        R_hat  \n",
       "count  2847.000000  2847.000000  2847.000000  2847.000000  \n",
       "mean      2.501490   175.691999     0.312834     1.014984  \n",
       "std       1.312962    32.019770     0.057014     0.003681  \n",
       "min      -2.237600   134.318000     0.239165     1.010010  \n",
       "25%       1.203910   160.610000     0.285979     1.012080  \n",
       "50%       2.173660   161.463000     0.287499     1.014080  \n",
       "75%       3.116320   182.509000     0.324972     1.017030  \n",
       "max       5.525790   401.546000     0.714986     1.036650  "
      ]
     },
     "execution_count": 22,
     "metadata": {},
     "output_type": "execute_result"
    }
   ],
   "source": [
    "df.loc[df['R_hat']>1.01].describe()"
   ]
  },
  {
   "cell_type": "markdown",
   "id": "0b32ef5c",
   "metadata": {
    "id": "2743cc7e-7238-4f84-afe4-4b502770f62b",
    "tags": []
   },
   "source": [
    "## Check parameters"
   ]
  },
  {
   "cell_type": "markdown",
   "id": "62aaf784-e97d-4d81-bcb9-90e7eefff98f",
   "metadata": {},
   "source": [
    "Loading Model"
   ]
  },
  {
   "cell_type": "code",
   "execution_count": 23,
   "id": "0a33d647",
   "metadata": {
    "colab": {
     "background_save": true
    },
    "id": "d781cdef-a1c6-4af1-940c-824398ec7d2b"
   },
   "outputs": [],
   "source": [
    "# fit = cmdstanpy.from_csv(stan_output_dir)"
   ]
  },
  {
   "cell_type": "markdown",
   "id": "dc740f54-db93-410c-9e26-282710ef2024",
   "metadata": {},
   "source": [
    "Parameters posterior plots"
   ]
  },
  {
   "cell_type": "code",
   "execution_count": 24,
   "id": "67254033",
   "metadata": {
    "colab": {
     "background_save": true
    },
    "id": "48fc6630-74be-47a0-b387-ec99b9dc4b47"
   },
   "outputs": [
    {
     "data": {
      "image/png": "[encoded data removed]",
      "text/plain": [
       "<Figure size 1490.4x1324.8 with 12 Axes>"
      ]
     },
     "metadata": {
      "needs_background": "light"
     },
     "output_type": "display_data"
    }
   ],
   "source": [
    "az.plot_posterior(fit, var_names=model_config['transf_params'],\n",
    "                  hdi_prob=.95);\n",
    "plt.savefig(plots_path + 'Parameters.pdf')"
   ]
  },
  {
   "cell_type": "markdown",
   "id": "37c0a9fe",
   "metadata": {},
   "source": [
    "Loading model parameters for each trial"
   ]
  },
  {
   "cell_type": "code",
   "execution_count": 25,
   "id": "133df71d",
   "metadata": {
    "colab": {
     "background_save": true
    },
    "id": "3539c070-29f7-422d-8c2e-1f7d44ef9246"
   },
   "outputs": [],
   "source": [
    "drift_word_t = fit.stan_variables()['drift_word_t']\n",
    "drift_nonword_t = fit.stan_variables()['drift_nonword_t']\n",
    "ndt_t = fit.stan_variables()['ndt_t']\n",
    "drift_variability_t = fit.stan_variables()['drift_variability_t']\n",
    "if model_config['model_name'] != \"LBA\":\n",
    "    k_t_word = fit.stan_variables()['k_t_word']\n",
    "    k_t_nonword = fit.stan_variables()['k_t_nonword']\n",
    "    sp_t_word = fit.stan_variables()['sp_trial_var_t_word']\n",
    "    sp_t_nonword = fit.stan_variables()['sp_trial_var_t_nonword']\n",
    "\n",
    "else:\n",
    "    k_t = fit.stan_variables()['k_t']\n",
    "    sp_trial_var_t = fit.stan_variables()['sp_trial_var_t']"
   ]
  },
  {
   "cell_type": "markdown",
   "id": "deaeee5d-28e4-4b67-9d90-6d8ba5d39423",
   "metadata": {},
   "source": [
    "#### Models mean parameters in different conditions"
   ]
  },
  {
   "cell_type": "code",
   "execution_count": 26,
   "id": "c645f86a",
   "metadata": {
    "colab": {
     "background_save": true
    },
    "id": "3a247d68-c3af-49ef-91fd-ba4ea221358d"
   },
   "outputs": [],
   "source": [
    "v_HF_condition_w = drift_word_t[:, behavioural_df['category']==\"HF\"]\n",
    "v_HF_condition_nw = drift_nonword_t[:, behavioural_df['category']==\"HF\"]\n",
    "v_LF_condition_w = drift_word_t[:, behavioural_df['category']==\"LF\"]\n",
    "v_LF_condition_nw = drift_nonword_t[:, behavioural_df['category']==\"LF\"]\n",
    "v_NW_condition_w = drift_word_t[:, behavioural_df['category']==\"NW\"]\n",
    "v_NW_condition_nw = drift_nonword_t[:, behavioural_df['category']==\"NW\"]"
   ]
  },
  {
   "cell_type": "code",
   "execution_count": 27,
   "id": "278e000d",
   "metadata": {
    "colab": {
     "background_save": true
    },
    "id": "deac1183-5610-4a19-8ff8-7bace8d12e7c"
   },
   "outputs": [
    {
     "name": "stdout",
     "output_type": "stream",
     "text": [
      "HF words, word drift mean and std:\n",
      "2.814514007710145 0.5204148257585642\n",
      "HF words, nonword drift mean and std:\n",
      "1.3858774751594205 0.277200828847359\n",
      "LF words word drift mean and std:\n",
      "2.0325232360343346 0.37239770409021383\n",
      "LF words nonword drift mean and std:\n",
      "1.3476160829270385 0.26515700516651247\n",
      "NW words word drift mean and std:\n",
      "0.6021429682880829 0.12525165792484735\n",
      "NW words nonword drift mean and std:\n",
      "2.6228151491668394 0.4785371870333174\n"
     ]
    }
   ],
   "source": [
    "print('HF words, word drift mean and std:')\n",
    "print(np.mean(np.mean(v_HF_condition_w, axis=1)), np.std(np.mean(v_HF_condition_w, axis=1)))\n",
    "print('HF words, nonword drift mean and std:')\n",
    "print(np.mean(np.mean(v_HF_condition_nw, axis=1)), np.std(np.mean(v_HF_condition_nw, axis=1)))\n",
    "print('LF words word drift mean and std:')\n",
    "print(np.mean(np.mean(v_LF_condition_w, axis=1)), np.std(np.mean(v_LF_condition_w, axis=1)))\n",
    "print('LF words nonword drift mean and std:')\n",
    "print(np.mean(np.mean(v_LF_condition_nw, axis=1)), np.std(np.mean(v_LF_condition_nw, axis=1)))\n",
    "print('NW words word drift mean and std:')\n",
    "print(np.mean(np.mean(v_NW_condition_w, axis=1)), np.std(np.mean(v_NW_condition_w, axis=1)))\n",
    "print('NW words nonword drift mean and std:')\n",
    "print(np.mean(np.mean(v_NW_condition_nw, axis=1)), np.std(np.mean(v_NW_condition_nw, axis=1)))"
   ]
  },
  {
   "cell_type": "code",
   "execution_count": 28,
   "id": "7f925d27-4954-4ff6-b0b9-b299da5b855d",
   "metadata": {},
   "outputs": [],
   "source": [
    "if model_config['model_name'] != \"LBA\":\n",
    "    sp_HF_condition_w = sp_t_word[:, behavioural_df['category']==\"HF\"]\n",
    "    sp_HF_condition_nw = sp_t_nonword[:, behavioural_df['category']==\"HF\"]\n",
    "    sp_LF_condition_w = sp_t_word[:, behavioural_df['category']==\"LF\"]\n",
    "    sp_LF_condition_nw = sp_t_nonword[:, behavioural_df['category']==\"LF\"]\n",
    "    sp_NW_condition_w = sp_t_word[:, behavioural_df['category']==\"NW\"]\n",
    "    sp_NW_condition_nw = sp_t_nonword[:, behavioural_df['category']==\"NW\"]\n",
    "else:\n",
    "    sp_HF_condition = sp_trial_var_t[:, behavioural_df['category']==\"HF\"]\n",
    "    sp_LF_condition = sp_trial_var_t[:, behavioural_df['category']==\"LF\"]\n",
    "    sp_NW_condition = sp_trial_var_t[:, behavioural_df['category']==\"NW\"]"
   ]
  },
  {
   "cell_type": "code",
   "execution_count": 29,
   "id": "f9d462da-a2d7-403e-9e79-1bcfd84251db",
   "metadata": {
    "colab": {
     "background_save": true
    },
    "id": "deac1183-5610-4a19-8ff8-7bace8d12e7c"
   },
   "outputs": [
    {
     "name": "stdout",
     "output_type": "stream",
     "text": [
      "HF words, word starting point mean and std:\n",
      "1.3146794595072462 0.2557497826584091\n",
      "HF words, nonword starting point mean and std:\n",
      "1.9327446245976811 0.37350789172722865\n",
      "LF words word starting point mean and std:\n",
      "1.3362903194206013 0.25909844639679086\n",
      "LF words nonword starting point mean and std:\n",
      "1.9434744887643778 0.371961487686213\n",
      "NW words word starting point mean and std:\n",
      "1.312520569456995 0.25503191680717546\n",
      "NW words nonword starting point mean and std:\n",
      "1.9080088998182383 0.36611464164750085\n"
     ]
    }
   ],
   "source": [
    "if model_config['model_name'] != \"LBA\":\n",
    "    print('HF words, word starting point mean and std:')\n",
    "    print(np.mean(np.mean(sp_HF_condition_w, axis=1)), np.std(np.mean(sp_HF_condition_w, axis=1)))\n",
    "    print('HF words, nonword starting point mean and std:')\n",
    "    print(np.mean(np.mean(sp_HF_condition_nw, axis=1)), np.std(np.mean(sp_HF_condition_nw, axis=1)))\n",
    "    print('LF words word starting point mean and std:')\n",
    "    print(np.mean(np.mean(sp_LF_condition_w, axis=1)), np.std(np.mean(sp_LF_condition_w, axis=1)))\n",
    "    print('LF words nonword starting point mean and std:')\n",
    "    print(np.mean(np.mean(sp_LF_condition_nw, axis=1)), np.std(np.mean(sp_LF_condition_nw, axis=1)))\n",
    "    print('NW words word starting point mean and std:')\n",
    "    print(np.mean(np.mean(sp_NW_condition_w, axis=1)), np.std(np.mean(sp_NW_condition_w, axis=1)))\n",
    "    print('NW words nonword starting point mean and std:')\n",
    "    print(np.mean(np.mean(sp_NW_condition_nw, axis=1)), np.std(np.mean(sp_NW_condition_nw, axis=1)))\n",
    "else:\n",
    "    print('HF words, starting point mean and std:')\n",
    "    print(np.mean(np.mean(sp_HF_condition, axis=1)), np.std(np.mean(sp_HF_condition, axis=1)))\n",
    "    print('LF words starting point mean and std:')\n",
    "    print(np.mean(np.mean(sp_LF_condition, axis=1)), np.std(np.mean(sp_LF_condition, axis=1)))\n",
    "    print('NW words starting point mean and std:')\n",
    "    print(np.mean(np.mean(sp_NW_condition, axis=1)), np.std(np.mean(sp_NW_condition, axis=1)))"
   ]
  },
  {
   "cell_type": "code",
   "execution_count": 30,
   "id": "84308d46-e368-491f-8532-0f2b7b4f9966",
   "metadata": {
    "colab": {
     "background_save": true
    },
    "id": "3a247d68-c3af-49ef-91fd-ba4ea221358d"
   },
   "outputs": [],
   "source": [
    "if model_config['model_name'] != \"LBA\":\n",
    "    k_HF_condition_w = k_t_word[:, behavioural_df['category']==\"HF\"]\n",
    "    k_HF_condition_nw = k_t_nonword[:, behavioural_df['category']==\"HF\"]\n",
    "    k_LF_condition_w = k_t_word[:, behavioural_df['category']==\"LF\"]\n",
    "    k_LF_condition_nw = k_t_nonword[:, behavioural_df['category']==\"LF\"]\n",
    "    k_NW_condition_w = k_t_word[:, behavioural_df['category']==\"NW\"]\n",
    "    k_NW_condition_nw = k_t_nonword[:, behavioural_df['category']==\"NW\"]\n",
    "\n",
    "    t_HF_condition_w = sp_HF_condition_w + sp_HF_condition_w\n",
    "    t_HF_condition_nw = sp_HF_condition_nw + sp_HF_condition_nw\n",
    "    t_LF_condition_w = sp_LF_condition_w + sp_LF_condition_w\n",
    "    t_LF_condition_nw = sp_LF_condition_nw + sp_LF_condition_nw\n",
    "    t_NW_condition_w = sp_NW_condition_w + sp_NW_condition_w\n",
    "    t_NW_condition_nw = sp_NW_condition_nw + sp_NW_condition_nw\n",
    "else:\n",
    "    k_HF_condition = k_t[:, behavioural_df['category']==\"HF\"]\n",
    "    k_LF_condition = k_t[:, behavioural_df['category']==\"LF\"]\n",
    "    k_NW_condition = k_t[:, behavioural_df['category']==\"NW\"]\n",
    "\n",
    "    t_HF_condition = sp_HF_condition + k_HF_condition\n",
    "    t_LF_condition = sp_LF_condition + k_LF_condition\n",
    "    t_NW_condition = sp_NW_condition + k_NW_condition"
   ]
  },
  {
   "cell_type": "code",
   "execution_count": 31,
   "id": "0bc156d7-a7d2-4923-8a6f-c11ac57e3dd3",
   "metadata": {
    "colab": {
     "background_save": true
    },
    "id": "deac1183-5610-4a19-8ff8-7bace8d12e7c"
   },
   "outputs": [
    {
     "name": "stdout",
     "output_type": "stream",
     "text": [
      "HF words, word threshold mean and std:\n",
      "2.6293589190144924 0.5114995653168182\n",
      "HF words, nonword threshold mean and std:\n",
      "3.8654892491953623 0.7470157834544573\n",
      "LF words word threshold mean and std:\n",
      "2.6725806388412026 0.5181968927935817\n",
      "LF words nonword threshold mean and std:\n",
      "3.8869489775287556 0.743922975372426\n",
      "NW words word threshold mean and std:\n",
      "2.62504113891399 0.5100638336143509\n",
      "NW words nonword threshold mean and std:\n",
      "3.8160177996364766 0.7322292832950017\n"
     ]
    }
   ],
   "source": [
    "if model_config['model_name'] != \"LBA\":\n",
    "    print('HF words, word threshold mean and std:')\n",
    "    print(np.mean(np.mean(t_HF_condition_w, axis=1)), np.std(np.mean(t_HF_condition_w, axis=1)))\n",
    "    print('HF words, nonword threshold mean and std:')\n",
    "    print(np.mean(np.mean(t_HF_condition_nw, axis=1)), np.std(np.mean(t_HF_condition_nw, axis=1)))\n",
    "    print('LF words word threshold mean and std:')\n",
    "    print(np.mean(np.mean(t_LF_condition_w, axis=1)), np.std(np.mean(t_LF_condition_w, axis=1)))\n",
    "    print('LF words nonword threshold mean and std:')\n",
    "    print(np.mean(np.mean(t_LF_condition_nw, axis=1)), np.std(np.mean(t_LF_condition_nw, axis=1)))\n",
    "    print('NW words word threshold mean and std:')\n",
    "    print(np.mean(np.mean(t_NW_condition_w, axis=1)), np.std(np.mean(t_NW_condition_w, axis=1)))\n",
    "    print('NW words nonword threshold mean and std:')\n",
    "    print(np.mean(np.mean(t_NW_condition_nw, axis=1)), np.std(np.mean(t_NW_condition_nw, axis=1)))\n",
    "else:\n",
    "    print('HF words,  threshold mean and std:')\n",
    "    print(np.mean(np.mean(t_HF_condition, axis=1)), np.std(np.mean(t_HF_condition, axis=1)))\n",
    "    print('LF words threshold mean and std:')\n",
    "    print(np.mean(np.mean(t_LF_condition, axis=1)), np.std(np.mean(t_LF_condition, axis=1)))\n",
    "    print('NW words word threshold mean and std:')\n",
    "    print(np.mean(np.mean(t_NW_condition, axis=1)), np.std(np.mean(t_NW_condition, axis=1)))"
   ]
  },
  {
   "cell_type": "code",
   "execution_count": 32,
   "id": "cf2f66b5-e6ae-4c65-b141-bd3f585724d6",
   "metadata": {},
   "outputs": [],
   "source": [
    "if model_config['model_name'] != \"LBA\":\n",
    "    bias_HF_condition_w = t_HF_condition_w - sp_HF_condition_w\n",
    "    bias_HF_condition_nw = t_HF_condition_nw - sp_HF_condition_nw\n",
    "    bias_LF_condition_w = t_LF_condition_w - sp_LF_condition_w\n",
    "    bias_LF_condition_nw = t_LF_condition_nw - sp_LF_condition_nw\n",
    "    bias_NW_condition_w = t_NW_condition_w - sp_NW_condition_w\n",
    "    bias_NW_condition_nw = t_NW_condition_nw - sp_NW_condition_nw"
   ]
  },
  {
   "cell_type": "code",
   "execution_count": 33,
   "id": "df4871fb-0872-41ac-8677-1f37ec77a871",
   "metadata": {
    "colab": {
     "background_save": true
    },
    "id": "deac1183-5610-4a19-8ff8-7bace8d12e7c"
   },
   "outputs": [
    {
     "name": "stdout",
     "output_type": "stream",
     "text": [
      "HF words, word bias mean and std:\n",
      "1.3146794595072462 0.2557497826584091\n",
      "HF words, nonword bias mean and std:\n",
      "1.9327446245976811 0.37350789172722865\n",
      "LF words word bias mean and std:\n",
      "1.3362903194206013 0.25909844639679086\n",
      "LF words nonword bias mean and std:\n",
      "1.9434744887643778 0.371961487686213\n",
      "NW words word bias mean and std:\n",
      "1.312520569456995 0.25503191680717546\n",
      "NW words nonword bias mean and std:\n",
      "1.9080088998182383 0.36611464164750085\n"
     ]
    }
   ],
   "source": [
    "if model_config['model_name'] != \"LBA\":\n",
    "    print('HF words, word bias mean and std:')\n",
    "    print(np.mean(np.mean(bias_HF_condition_w, axis=1)), np.std(np.mean(bias_HF_condition_w, axis=1)))\n",
    "    print('HF words, nonword bias mean and std:')\n",
    "    print(np.mean(np.mean(bias_HF_condition_nw, axis=1)), np.std(np.mean(bias_HF_condition_nw, axis=1)))\n",
    "    print('LF words word bias mean and std:')\n",
    "    print(np.mean(np.mean(bias_LF_condition_w, axis=1)), np.std(np.mean(bias_LF_condition_w, axis=1)))\n",
    "    print('LF words nonword bias mean and std:')\n",
    "    print(np.mean(np.mean(bias_LF_condition_nw, axis=1)), np.std(np.mean(bias_LF_condition_nw, axis=1)))\n",
    "    print('NW words word bias mean and std:')\n",
    "    print(np.mean(np.mean(bias_NW_condition_w, axis=1)), np.std(np.mean(bias_NW_condition_w, axis=1)))\n",
    "    print('NW words nonword bias mean and std:')\n",
    "    print(np.mean(np.mean(bias_NW_condition_nw, axis=1)), np.std(np.mean(bias_NW_condition_nw, axis=1)))"
   ]
  },
  {
   "cell_type": "code",
   "execution_count": 34,
   "id": "914e74a9",
   "metadata": {
    "colab": {
     "background_save": true
    },
    "id": "06aceb06-2f53-47ae-b0f8-68d0c96f3cbf"
   },
   "outputs": [],
   "source": [
    "ndt_HF_condition = ndt_t[:, behavioural_df['category']==\"HF\"]\n",
    "ndt_LF_condition = ndt_t[:, behavioural_df['category']==\"LF\"]\n",
    "ndt_NW_condition = ndt_t[:, behavioural_df['category']==\"NW\"]"
   ]
  },
  {
   "cell_type": "code",
   "execution_count": 35,
   "id": "1eacfbe0",
   "metadata": {
    "colab": {
     "background_save": true
    },
    "id": "c7ff4f51-0587-4f7a-bf79-7bc1fe0951e2"
   },
   "outputs": [
    {
     "name": "stdout",
     "output_type": "stream",
     "text": [
      "HF words ndt mean and std:\n",
      "0.3353426020869565 0.023362781094034\n",
      "LF words ndt mean and std:\n",
      "0.34031166445064376 0.02360185308649587\n",
      "Non Words ndt mean and std:\n",
      "0.3492868744476682 0.024272948018902795\n"
     ]
    }
   ],
   "source": [
    "print('HF words ndt mean and std:')\n",
    "print(np.mean(np.mean(ndt_HF_condition, axis=1)), np.std(np.mean(ndt_HF_condition, axis=1)))\n",
    "print('LF words ndt mean and std:')\n",
    "print(np.mean(np.mean(ndt_LF_condition, axis=1)), np.std(np.mean(ndt_LF_condition, axis=1)))\n",
    "print('Non Words ndt mean and std:')\n",
    "print(np.mean(np.mean(ndt_NW_condition, axis=1)), np.std(np.mean(ndt_NW_condition, axis=1)))"
   ]
  },
  {
   "cell_type": "markdown",
   "id": "3d64f181-de50-4bec-ad6a-9f0c7c95cea5",
   "metadata": {
    "tags": []
   },
   "source": [
    "## Calculating metrics"
   ]
  },
  {
   "cell_type": "code",
   "execution_count": 36,
   "id": "b018e8df-553d-42b4-833c-d2f967b17ed1",
   "metadata": {},
   "outputs": [],
   "source": [
    "def calculate_waic(log_likelihood, pointwise=False):\n",
    "    \"\"\"\n",
    "    Returns model comparisions' metrics.\n",
    "    \n",
    "    Parameters\n",
    "    ----------\n",
    "        log_likelihood: np.array\n",
    "            log_likelihood of each trial\n",
    "        max_rt: float\n",
    "            maximum acceptable rt\n",
    "        min_rt: float\n",
    "             minimum acceptable rt\n",
    "             \n",
    "    Optional Parameters\n",
    "    ----------------\n",
    "    pointwise: float\n",
    "        if true pointwise waic will be calculated\n",
    "        \n",
    "    Returns\n",
    "    -------\n",
    "        out:  a dictionary containing lppd, waic, waic_se and pointwise_waic    \n",
    "    \"\"\"\n",
    "    likelihood = np.exp(log_likelihood)\n",
    "\n",
    "    mean_l = np.mean(likelihood, axis=0) # N observations\n",
    "\n",
    "    pointwise_lppd = np.log(mean_l)\n",
    "    lppd = np.sum(pointwise_lppd)\n",
    "\n",
    "    pointwise_var_l = np.var(log_likelihood, axis=0) # N observations\n",
    "    var_l = np.sum(pointwise_var_l)\n",
    "\n",
    "    pointwise_waic = - 2*pointwise_lppd +  2*pointwise_var_l\n",
    "    waic = -2*lppd + 2*var_l\n",
    "    waic_se = np.sqrt(log_likelihood.shape[1] * np.var(pointwise_waic))\n",
    "\n",
    "    if pointwise:\n",
    "        out = {'lppd':lppd,\n",
    "               'p_waic':var_l,\n",
    "               'waic':waic,\n",
    "               'waic_se':waic_se,\n",
    "               'pointwise_waic':pointwise_waic}\n",
    "    else:\n",
    "        out = {'lppd':lppd,\n",
    "               'p_waic':var_l,\n",
    "                'waic':waic,\n",
    "                'waic_se':waic_se}\n",
    "    return out"
   ]
  },
  {
   "cell_type": "code",
   "execution_count": 37,
   "id": "9beabf75-4cb8-49dc-b604-9f0adf32dfe4",
   "metadata": {},
   "outputs": [
    {
     "name": "stdout",
     "output_type": "stream",
     "text": [
      "{'lppd': -711.9183776052275, 'p_waic': 40.93928859038539, 'waic': 1505.7153323912257, 'waic_se': 99.2448129840753}\n"
     ]
    }
   ],
   "source": [
    "log_likelihood = fit.stan_variables()['log_lik']\n",
    "print(calculate_waic(log_likelihood))"
   ]
  },
  {
   "cell_type": "markdown",
   "id": "5a23772b-94de-40e6-88d6-f5a6aaefab64",
   "metadata": {},
   "source": [
    "## Simulating LBA with estimated parameters"
   ]
  },
  {
   "cell_type": "code",
   "execution_count": 38,
   "id": "17fb964e-e5f7-40c5-b49a-d80a0bce6c62",
   "metadata": {},
   "outputs": [],
   "source": [
    "def random_lba_2A(word_drift, nonword_drift, sp_trial_var_word, sp_trial_var_nonword,\n",
    "                  ndt, k_word, k_nonword, drift_trial_var):\n",
    "    \"\"\"Simulates behavior (rt and accuracy) according to the Linear Ballistic Accumulator.\n",
    "    Parameters\n",
    "    ----------\n",
    "    word_drift : numpy.ndarray\n",
    "        Drift-rate of the Linear Ballistic Accumulator - correct responses. 1D array of floats.\n",
    "    nonword_drift : numpy.ndarray\n",
    "        Drift-rate of the Linear Ballistic Accumulator - incorrect responses. 1D array of floats.\n",
    "    sp_trial_var_word : float\n",
    "        Starting point variability of the Linear Ballistic Accumulator for words. Also called A.\n",
    "    sp_trial_var_nonword : float\n",
    "        Starting point variability of the Linear Ballistic Accumulator for non-words. Also called A.    \n",
    "    ndt : float\n",
    "        Non-decision time of the Linear Ballistic Accumulator. Also called tau.\n",
    "    k_word : float\n",
    "        Distance between starting point variability and threshold for words.\n",
    "    k_nonword : float\n",
    "        Distance between starting point variability and threshold for non-words.\n",
    "    drift_trial_var : numpy.ndarray, default None\n",
    "        The drift rate trial variability. 1D array of 0s and 1s.\n",
    "    Returns\n",
    "    -------\n",
    "    rt : numpy.ndarray\n",
    "        Shape is the same as the input parameters.\n",
    "        Contains simulated response times according to the Linear Ballistic Accumulator.\n",
    "        Every element corresponds to the set of parameters given as input with the same shape.\n",
    "    resp: numpy.ndarray\n",
    "        Shape is the same as the input parameters.\n",
    "        Contains simulated response according to the Linear Ballistic Accumulator.\n",
    "        Every element corresponds to the set of parameters given as input with the same shape.\n",
    "    \"\"\"\n",
    "    shape = word_drift.shape\n",
    "    resp = np.empty(shape)\n",
    "    rt = np.empty(shape)\n",
    "    resp[:] = np.nan\n",
    "    rt[:] = np.nan\n",
    "\n",
    "    b_word = k_word + sp_trial_var_word\n",
    "    b_nonword = k_nonword + sp_trial_var_nonword\n",
    "    one_pose = True\n",
    "    v_word = np.array(word_drift)\n",
    "    v_nonword = np.array(nonword_drift)\n",
    "\n",
    "    # this while loop might be wrong\n",
    "    while one_pose:\n",
    "        ind = np.logical_and(v_word < 0, v_nonword < 0)\n",
    "        if drift_trial_var is None:\n",
    "            v_word[ind] = np.random.normal(word_drift[ind], np.ones(word_drift[ind].shape))\n",
    "            v_nonword[ind] = np.random.normal(nonword_drift[ind], np.ones(nonword_drift[ind].shape))\n",
    "        else:\n",
    "            v_word[ind] = np.random.normal(word_drift[ind], drift_trial_var[ind])\n",
    "            v_nonword[ind] = np.random.normal(nonword_drift[ind], drift_trial_var[ind])\n",
    "\n",
    "        one_pose = np.sum(ind) > 0\n",
    "\n",
    "    start_word = np.random.uniform(np.zeros(sp_trial_var_word.shape), sp_trial_var_word)\n",
    "    start_non_word = np.random.uniform(np.zeros(sp_trial_var_nonword.shape), sp_trial_var_nonword)\n",
    "\n",
    "    ttf_word = (b_word - start_word) / v_word\n",
    "    ttf_nonword = (b_nonword - start_non_word) / v_nonword\n",
    "\n",
    "    ind = np.logical_and(ttf_word <= ttf_nonword, 0 < ttf_word)\n",
    "    resp[ind] = 1\n",
    "    rt[ind] = ttf_word[ind] + ndt[ind]\n",
    "\n",
    "    ind = np.logical_and(ttf_nonword < 0, 0 < ttf_word)\n",
    "    resp[ind] = 1\n",
    "    rt[ind] = ttf_word[ind] + ndt[ind]\n",
    "\n",
    "    ind = np.logical_and(ttf_nonword < ttf_word, 0 < ttf_nonword)\n",
    "    resp[ind] = 0\n",
    "    rt[ind] = ttf_nonword[ind] + ndt[ind]\n",
    "\n",
    "    ind = np.logical_and(ttf_word < 0, 0 < ttf_nonword)\n",
    "    resp[ind] = 0\n",
    "    rt[ind] = ttf_nonword[ind] + ndt[ind]\n",
    "\n",
    "    return rt, resp"
   ]
  },
  {
   "cell_type": "markdown",
   "id": "b867e05c-ebda-4bc3-ae51-e340e337344f",
   "metadata": {},
   "source": [
    "Simulating RDM with estimated parameters"
   ]
  },
  {
   "cell_type": "code",
   "execution_count": 39,
   "id": "f6786ed3-265f-4698-9a37-75d19e125806",
   "metadata": {},
   "outputs": [],
   "source": [
    "if model_config['model_name'] != \"LBA\":\n",
    "    pp_rt, pp_response = random_lba_2A(drift_word_t, drift_nonword_t, sp_t_word, sp_t_nonword,\n",
    "                                       ndt_t, k_t_word, k_t_nonword, drift_variability_t)\n",
    "else:\n",
    "    pp_rt, pp_response = random_lba_2A(drift_word_t, drift_nonword_t, sp_trial_var_t, sp_trial_var_t,\n",
    "                                       ndt_t, k_t, k_t, drift_variability_t)"
   ]
  },
  {
   "cell_type": "code",
   "execution_count": 40,
   "id": "c7183cf1-fc0e-436b-b607-9d821ef736f2",
   "metadata": {},
   "outputs": [],
   "source": [
    "def bci(x, alpha=0.05):\n",
    "    \"\"\"\n",
    "    Calculate Bayesian credible interval (BCI).\n",
    "    \n",
    "    Parameters\n",
    "    ----------\n",
    "    x : array-like\n",
    "        An array containing MCMC samples.\n",
    "    \n",
    "    Optional Parameters\n",
    "    -------------------\n",
    "    alpha : float, default 0.05\n",
    "        Desired probability of type I error.\n",
    "    \n",
    "    Returns\n",
    "    -------\n",
    "    interval : numpy.ndarray\n",
    "        Array containing the lower and upper bounds of the bci interval.\n",
    "    \"\"\"\n",
    "    interval = np.nanpercentile(x, [(alpha/2)*100, (1-alpha/2)*100])\n",
    "\n",
    "    return interval"
   ]
  },
  {
   "cell_type": "code",
   "execution_count": 41,
   "id": "b235c705-7301-4c3c-b906-5979789d606f",
   "metadata": {},
   "outputs": [],
   "source": [
    "# Predicted Data\n",
    "rt_predictions = pd.concat((pd.DataFrame(pp_rt, index=pd.Index(np.arange(1, len(pp_rt)+1))).T, behavioural_df['category']), axis=1)\n",
    "response_predictions = pd.concat((pd.DataFrame(pp_response, index=pd.Index(np.arange(1, len(pp_response)+1))).T, behavioural_df['category']), axis=1)\n",
    "\n",
    "# Experiment Data\n",
    "experiment_data = behavioural_df.loc[:, ['rt', 'response', 'category']]"
   ]
  },
  {
   "cell_type": "markdown",
   "id": "7fdd192d-bac0-4fdc-afd2-148b6a9ae332",
   "metadata": {},
   "source": [
    "Separating RT and Response of predicted and experimental data for each condition"
   ]
  },
  {
   "cell_type": "code",
   "execution_count": 42,
   "id": "cffd58c1-f474-4c7c-85d6-f26b16c77859",
   "metadata": {},
   "outputs": [],
   "source": [
    "HF_data = experiment_data.loc[experiment_data['category']=='HF']\n",
    "LF_data = experiment_data.loc[experiment_data['category']=='LF']\n",
    "NW_data = experiment_data.loc[experiment_data['category']=='NW']\n",
    "\n",
    "HF_pred_rt = rt_predictions.loc[rt_predictions['category']=='HF'].drop(['category'], axis=1)\n",
    "HF_pred_resp = response_predictions.loc[response_predictions['category']=='HF'].drop(['category'], axis=1)\n",
    "LF_pred_rt = rt_predictions.loc[rt_predictions['category']=='LF'].drop(['category'], axis=1)\n",
    "LF_pred_resp = response_predictions.loc[response_predictions['category']=='LF'].drop(['category'], axis=1)\n",
    "NW_pred_rt = rt_predictions.loc[rt_predictions['category']=='NW'].drop(['category'], axis=1)\n",
    "NW_pred_resp = response_predictions.loc[response_predictions['category']=='NW'].drop(['category'], axis=1)"
   ]
  },
  {
   "cell_type": "markdown",
   "id": "bc68071a-3121-47da-94c5-bae5db334c5c",
   "metadata": {
    "id": "defea622-f638-4a0e-a269-937234d4a49f",
    "tags": []
   },
   "source": [
    "## Quantiles Posterior Predictions"
   ]
  },
  {
   "cell_type": "code",
   "execution_count": 43,
   "id": "4378eb36-76cc-4a39-b2ed-643addccbc4d",
   "metadata": {},
   "outputs": [],
   "source": [
    "quantiles = [.1, .3, .5, .7, .9]\n",
    "percentiles = np.array(quantiles)*100"
   ]
  },
  {
   "cell_type": "code",
   "execution_count": 44,
   "id": "96001a51-55af-4f25-93c4-cdcc00556eb5",
   "metadata": {},
   "outputs": [],
   "source": [
    "# experiment Data quantile\n",
    "HF_quantile_ex = HF_data['rt'].quantile(quantiles)\n",
    "LF_quantile_ex = LF_data['rt'].quantile(quantiles)\n",
    "NW_quantile_ex = NW_data['rt'].quantile(quantiles)\n",
    "\n",
    "# predicted data quantiles (for each sample)\n",
    "HF_quantile_pred = HF_pred_rt.quantile(quantiles, axis=0).T\n",
    "LF_quantile_pred = LF_pred_rt.quantile(quantiles, axis=0).T\n",
    "NW_quantile_pred = NW_pred_rt.quantile(quantiles, axis=0).T\n",
    "\n",
    "# predicted data quantiles bci\n",
    "HF_predicted_bci = np.array([bci(HF_quantile_pred[x]) for x in quantiles])\n",
    "LF_predicted_bci = np.array([bci(LF_quantile_pred[x]) for x in quantiles])\n",
    "NW_predicted_bci = np.array([bci(NW_quantile_pred[x]) for x in quantiles])"
   ]
  },
  {
   "cell_type": "code",
   "execution_count": 45,
   "id": "3e40fa75-a52a-45f9-8f44-b6097ff621e7",
   "metadata": {},
   "outputs": [
    {
     "data": {
      "image/png": "[encoded data removed]",
      "text/plain": [
       "<Figure size 2520x576 with 3 Axes>"
      ]
     },
     "metadata": {
      "needs_background": "light"
     },
     "output_type": "display_data"
    }
   ],
   "source": [
    "fig, axes = plt.subplots(1,3 , figsize=(35,8))\n",
    "plt.subplots_adjust(wspace=0.2, hspace=0.5)\n",
    "\n",
    "axes[0].set_title('HF quantiles', fontweight=\"bold\", size=20)\n",
    "axes[1].set_title('LF quantiles', fontweight=\"bold\", size=20)\n",
    "axes[2].set_title('NW quantiles', fontweight=\"bold\", size=20)\n",
    "\n",
    "axes[0].scatter(quantiles, HF_quantile_ex, color='black', s=150)\n",
    "axes[1].scatter(quantiles, LF_quantile_ex, color='black', s=150)\n",
    "axes[2].scatter(quantiles, NW_quantile_ex, color='black', s=150)\n",
    "\n",
    "axes[0].fill_between(quantiles,\n",
    "                HF_predicted_bci[:, 0],\n",
    "                HF_predicted_bci[:, 1],\n",
    "                HF_predicted_bci[:, 0] < HF_predicted_bci[:, 1],  color = 'gold', alpha=0.3)\n",
    "\n",
    "axes[1].fill_between(quantiles,\n",
    "                LF_predicted_bci[:, 0],\n",
    "                LF_predicted_bci[:, 1],\n",
    "                LF_predicted_bci[:, 0] < LF_predicted_bci[:, 1],  color = 'lightskyblue', alpha=0.3)\n",
    "\n",
    "axes[2].fill_between(quantiles,\n",
    "                NW_predicted_bci[:, 0],\n",
    "                NW_predicted_bci[:, 1],\n",
    "                NW_predicted_bci[:, 0] < NW_predicted_bci[:, 1],  color = 'limegreen', alpha=0.3)\n",
    "\n",
    "\n",
    "for ax in axes:\n",
    "        ax.set_xlabel('Quantiles', fontsize=20)\n",
    "        ax.set_xticks(quantiles)\n",
    "        ax.set_xticklabels(quantiles)\n",
    "        ax.set_ylabel('RTs upper boundary', fontsize=20)\n",
    "        for tick in ax.xaxis.get_major_ticks():\n",
    "                tick.label.set_fontsize(16)\n",
    "        for tick in ax.yaxis.get_major_ticks():\n",
    "            tick.label.set_fontsize(16) \n",
    "\n",
    "sns.despine()\n",
    "plt.savefig(plots_path + 'Quantiles Poseterior.pdf')"
   ]
  },
  {
   "cell_type": "markdown",
   "id": "9d335303-115f-4be3-b5b9-44db89033c76",
   "metadata": {
    "tags": []
   },
   "source": [
    "## Mean Accuracy and RT Posterior Plots"
   ]
  },
  {
   "cell_type": "code",
   "execution_count": 46,
   "id": "9d60fb04-d913-45b7-aa6b-86aac6e69dfb",
   "metadata": {},
   "outputs": [],
   "source": [
    "HF_data_rt_mean = HF_data['rt'].mean()\n",
    "LF_data_rt_mean = LF_data['rt'].mean()\n",
    "NW_data_rt_mean = NW_data['rt'].mean()\n",
    "\n",
    "HF_pred_rt_mean = HF_pred_rt.mean(axis=0)\n",
    "LF_pred_rt_mean = LF_pred_rt.mean(axis=0)\n",
    "NW_pred_rt_mean = NW_pred_rt.mean(axis=0)\n",
    "\n",
    "\n",
    "HF_data_resp_mean = HF_data['response'].mean()\n",
    "LF_data_resp_mean = LF_data['response'].mean()\n",
    "NW_data_resp_mean = NW_data['response'].mean()\n",
    "\n",
    "HF_pred_resp_mean = HF_pred_resp.mean(axis=0)\n",
    "LF_pred_resp_mean = LF_pred_resp.mean(axis=0)\n",
    "NW_pred_resp_mean = NW_pred_resp.mean(axis=0)\n"
   ]
  },
  {
   "cell_type": "code",
   "execution_count": 47,
   "id": "b28be60d-fa47-4f5b-bb8e-3e9ea312239c",
   "metadata": {},
   "outputs": [],
   "source": [
    "def plot_posterior(x, data_mean, ax):\n",
    "    \"\"\"\n",
    "    Plots the posterior of x with experimental data mean as a line\n",
    "    \n",
    "    Parameters\n",
    "    ----------\n",
    "    x : array-like\n",
    "        An array containing RT or response for each trial.\n",
    "        \n",
    "    x : float\n",
    "        mean of RT or Accuracy of experimental data.\n",
    "\n",
    "    ax : matplotlib.axes.Axes\n",
    "        \n",
    "    Returns\n",
    "    -------\n",
    "    None\n",
    "    \"\"\"\n",
    "    density = gaussian_kde(x, bw_method='scott')\n",
    "    xd = np.linspace(x.min(), x.max())\n",
    "    yd = density(xd)\n",
    "\n",
    "    low, high = bci(x)\n",
    "    ax.fill_between(xd[np.logical_and(xd >= low, xd <= high)],\n",
    "                     yd[np.logical_and(xd >= low, xd <= high)], color = 'lightsteelblue')\n",
    "\n",
    "    ax.plot(xd, yd, color='slategray')\n",
    "    ax.axvline(data_mean, color='red')"
   ]
  },
  {
   "cell_type": "code",
   "execution_count": 48,
   "id": "e60ee9b7-ea0d-4ef3-8ba8-8591e9bb437c",
   "metadata": {},
   "outputs": [
    {
     "data": {
      "image/png": "[encoded data removed]",
      "text/plain": [
       "<Figure size 1080x1440 with 6 Axes>"
      ]
     },
     "metadata": {
      "needs_background": "light"
     },
     "output_type": "display_data"
    }
   ],
   "source": [
    "fig, axes = plt.subplots(3,2 , figsize=(15,20))\n",
    "plt.subplots_adjust(wspace=0.3, hspace=0.5)\n",
    "\n",
    "axes[0][0].set_title('HF mean RT', fontweight=\"bold\", size=16)\n",
    "axes[0][1].set_title('HF mean Response', fontweight=\"bold\", size=16)\n",
    "axes[1][0].set_title('LF mean RT', fontweight=\"bold\", size=16)\n",
    "axes[1][1].set_title('LF mean Response', fontweight=\"bold\", size=16)\n",
    "axes[2][0].set_title('NW mean RT', fontweight=\"bold\", size=16)\n",
    "axes[2][1].set_title('NW mean Response', fontweight=\"bold\", size=16)\n",
    "\n",
    "plot_posterior(HF_pred_rt_mean, HF_data_rt_mean, axes[0][0])\n",
    "plot_posterior(HF_pred_resp_mean, HF_data_resp_mean, axes[0][1])\n",
    "\n",
    "plot_posterior(LF_pred_rt_mean, LF_data_rt_mean, axes[1][0])\n",
    "plot_posterior(LF_pred_resp_mean, LF_data_resp_mean, axes[1][1])\n",
    "\n",
    "plot_posterior(NW_pred_rt_mean, NW_data_rt_mean, axes[2][0])\n",
    "plot_posterior(NW_pred_resp_mean, NW_data_resp_mean, axes[2][1])\n",
    "\n",
    "for ax in axes:\n",
    "        ax[0].set_xlabel('RT', fontsize=15)\n",
    "        ax[1].set_xlabel('Accuracy', fontsize=15)\n",
    "        ax[0].set_ylabel('Density', fontsize=15)\n",
    "        ax[1].set_ylabel('Density', fontsize=15)\n",
    "        for tick in ax[0].xaxis.get_major_ticks():\n",
    "                tick.label.set_fontsize(13)\n",
    "        for tick in ax[0].yaxis.get_major_ticks():\n",
    "            tick.label.set_fontsize(13)\n",
    "        for tick in ax[1].xaxis.get_major_ticks():\n",
    "            tick.label.set_fontsize(13)\n",
    "        for tick in ax[1].yaxis.get_major_ticks():\n",
    "            tick.label.set_fontsize(13) \n",
    "\n",
    "plt.savefig(plots_path + 'Mean Accuracy and RT.pdf')"
   ]
  },
  {
   "cell_type": "code",
   "execution_count": null,
   "id": "c22f3e52-d628-48db-b2ea-0170ecb89d32",
   "metadata": {},
   "outputs": [],
   "source": []
  },
  {
   "cell_type": "code",
   "execution_count": null,
   "id": "89731be1-9a9d-4066-8b9e-86375279a78e",
   "metadata": {},
   "outputs": [],
   "source": []
  }
 ],
 "metadata": {
  "colab": {
   "collapsed_sections": [],
   "name": "Estimation_Hier.ipynb",
   "version": ""
  },
  "kernelspec": {
   "display_name": "cmdstan",
   "language": "python",
   "name": "cmdstan"
  },
  "language_info": {
   "codemirror_mode": {
    "name": "ipython",
    "version": 3
   },
   "file_extension": ".py",
   "mimetype": "text/x-python",
   "name": "python",
   "nbconvert_exporter": "python",
   "pygments_lexer": "ipython3",
   "version": "3.10.4"
  }
 },
 "nbformat": 4,
 "nbformat_minor": 5
}
