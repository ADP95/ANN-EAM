{
 "cells": [
  {
   "cell_type": "markdown",
   "id": "ed5a720b-af17-4312-b543-71f603ddfa23",
   "metadata": {
    "id": "04ab4fbd-f191-427a-a2e4-db4ff76fa385"
   },
   "source": [
    "## Importing Packages"
   ]
  },
  {
   "cell_type": "code",
   "execution_count": 1,
   "id": "4c40530b-0436-4965-908d-e709114e316b",
   "metadata": {
    "executionInfo": {
     "elapsed": 3102,
     "status": "ok",
     "timestamp": 1651313252929,
     "user": {
      "displayName": "Arash Dadras",
      "userId": "05722346836148265544"
     },
     "user_tz": -270
    },
    "id": "42e504d1-66bf-459a-bdee-ef0f268a7b81"
   },
   "outputs": [],
   "source": [
    "import numpy as np\n",
    "import pandas as pd\n",
    "import cmdstanpy \n",
    "import pickle\n",
    "import matplotlib.pyplot as plt\n",
    "import seaborn as sns\n",
    "import arviz as az\n",
    "import os\n",
    "import json\n",
    "\n",
    "from scipy.stats import gaussian_kde\n",
    "import ipywidgets as widgets"
   ]
  },
  {
   "cell_type": "code",
   "execution_count": 2,
   "id": "c8fda25d-8c73-4076-a32e-b9f64a89752d",
   "metadata": {},
   "outputs": [],
   "source": [
    "sns.set_theme(style=\"whitegrid\")\n",
    "plt.rcParams[\"font.family\"] = \"serif\"\n",
    "plt.rcParams[\"font.serif\"] = [\"Times New Roman\"] + plt.rcParams[\"font.serif\"]\n",
    "plt.rcParams['pdf.fonttype'] = 42\n",
    "plt.rcParams['pdf.use14corefonts'] = True"
   ]
  },
  {
   "cell_type": "markdown",
   "id": "dbf5ed11-783c-476d-b190-95c7356783ca",
   "metadata": {},
   "source": [
    "## Choose Model"
   ]
  },
  {
   "cell_type": "markdown",
   "id": "e9d5ad7e-f13d-41a9-a8d5-528f99513a33",
   "metadata": {},
   "source": [
    "#### roots and global variables"
   ]
  },
  {
   "cell_type": "code",
   "execution_count": 3,
   "id": "b9c30c41-a570-411a-a874-36f0776f87f8",
   "metadata": {},
   "outputs": [],
   "source": [
    "root = './'\n",
    "plots_root = root + 'Plots/'\n",
    "datasets_root = root + 'Datasets/'\n",
    "behavioural_data_root = root +  'behavioral_data/selected_data/' \n",
    "stan_files_root = root +  'stan files/' \n",
    "saved_models_root = root + 'stan_results/'\n",
    "\n",
    "model_config = {}\n",
    "plots_path = ''\n",
    "dataset_path = ''\n",
    "stan_file_path = ''\n",
    "stan_output_dir = ''"
   ]
  },
  {
   "cell_type": "markdown",
   "id": "45fddb96-7bae-4d47-a322-e42e6285e69e",
   "metadata": {},
   "source": [
    "#### read models configuration json file"
   ]
  },
  {
   "cell_type": "code",
   "execution_count": 4,
   "id": "272c3c67-1630-4266-9163-296e244195b0",
   "metadata": {},
   "outputs": [],
   "source": [
    "with open(\"rdm_models.json\") as f:\n",
    "    models = json.load(f)\n",
    "    models_name = list(models.keys())"
   ]
  },
  {
   "cell_type": "markdown",
   "id": "5768a530-f38b-4267-9084-5ba80a1471af",
   "metadata": {},
   "source": [
    "#### Choose and set model configuration"
   ]
  },
  {
   "cell_type": "code",
   "execution_count": 5,
   "id": "8122cea8-7777-4a9c-98be-4fea9b2dfcab",
   "metadata": {},
   "outputs": [
    {
     "data": {
      "application/vnd.jupyter.widget-view+json": {
       "model_id": "1c37e3adaeb94e0fb00ff6fe81ebbbb8",
       "version_major": 2,
       "version_minor": 0
      },
      "text/plain": [
       "interactive(children=(Dropdown(description='model_name', options=('RDM', 'RDM_ct', 'RDM_cd', 'RDM_ndm', 'ANN-R…"
      ]
     },
     "metadata": {},
     "output_type": "display_data"
    }
   ],
   "source": [
    "def SetModelAndPaths(model_name):\n",
    "    global model_config\n",
    "    global plots_path\n",
    "    global dataset_path\n",
    "    global stan_file_path\n",
    "    global stan_output_dir\n",
    "    model_config = models[model_name]\n",
    "    plots_path = plots_root + model_config['plots_folder_name'] + '/'\n",
    "    dataset_path = datasets_root + model_config['dataset_name']\n",
    "    stan_file_path = stan_files_root + model_config['stan_file']\n",
    "    stan_output_dir = saved_models_root + model_config['model_name'] + '/'\n",
    "    os.path\n",
    "    \n",
    "    if not os.path.exists(plots_path):\n",
    "        os.makedirs(plots_path)\n",
    "        print(\"Directory \" , plots_path ,  \" Created \")\n",
    "    else:    \n",
    "        print(\"Directory \" , plots_path ,  \" already exists\")\n",
    "        \n",
    "    if not os.path.exists(stan_output_dir):\n",
    "        os.makedirs(stan_output_dir)\n",
    "        print(\"Directory \" , stan_output_dir ,  \" Created \")\n",
    "    else:    \n",
    "        print(\"Directory \" , stan_output_dir ,  \" already exists\")\n",
    "\n",
    "widgets.interact(SetModelAndPaths, model_name=models_name);"
   ]
  },
  {
   "cell_type": "code",
   "execution_count": 7,
   "id": "4d3e1780-916e-4904-a2d3-389b27227c49",
   "metadata": {},
   "outputs": [
    {
     "data": {
      "text/plain": [
       "{'model_name': 'RDM_cd',\n",
       " 'stan_file': 'RDM/RDM_cd.stan',\n",
       " 'dataset_name': 'fastText_FC.csv',\n",
       " 'plots_folder_name': 'RDM_cd',\n",
       " 'transf_params': ['transf_mu_drift_word',\n",
       "  'transf_mu_drift_nonword',\n",
       "  'transf_mu_threshold_word',\n",
       "  'transf_mu_threshold_nonword',\n",
       "  'transf_mu_ndt']}"
      ]
     },
     "execution_count": 7,
     "metadata": {},
     "output_type": "execute_result"
    }
   ],
   "source": [
    "model_config"
   ]
  },
  {
   "cell_type": "markdown",
   "id": "00e617f6",
   "metadata": {
    "id": "123c4809-7b46-4f8d-b578-0d5e9fb5fbe7"
   },
   "source": [
    "## Prepare data"
   ]
  },
  {
   "cell_type": "markdown",
   "id": "13d41247-a08b-4710-a8cb-006ca5ace314",
   "metadata": {},
   "source": [
    "Loading words and non-words with zipf and predicted probabilities"
   ]
  },
  {
   "cell_type": "code",
   "execution_count": 8,
   "id": "5e6417ff",
   "metadata": {
    "colab": {
     "base_uri": "https://localhost:8080/",
     "height": 0
    },
    "executionInfo": {
     "elapsed": 61,
     "status": "ok",
     "timestamp": 1651313252934,
     "user": {
      "displayName": "Arash Dadras",
      "userId": "05722346836148265544"
     },
     "user_tz": -270
    },
    "id": "72172233-0e82-4058-8a5c-8657e9fe4693",
    "outputId": "35336463-3bb2-41e5-c84f-7c34fdcfc77d",
    "tags": []
   },
   "outputs": [
    {
     "data": {
      "text/html": [
       "<div>\n",
       "<style scoped>\n",
       "    .dataframe tbody tr th:only-of-type {\n",
       "        vertical-align: middle;\n",
       "    }\n",
       "\n",
       "    .dataframe tbody tr th {\n",
       "        vertical-align: top;\n",
       "    }\n",
       "\n",
       "    .dataframe thead th {\n",
       "        text-align: right;\n",
       "    }\n",
       "</style>\n",
       "<table border=\"1\" class=\"dataframe\">\n",
       "  <thead>\n",
       "    <tr style=\"text-align: right;\">\n",
       "      <th></th>\n",
       "      <th>string</th>\n",
       "      <th>freq</th>\n",
       "      <th>label</th>\n",
       "      <th>zipf</th>\n",
       "      <th>category</th>\n",
       "      <th>word_prob</th>\n",
       "      <th>non_word_prob</th>\n",
       "    </tr>\n",
       "  </thead>\n",
       "  <tbody>\n",
       "    <tr>\n",
       "      <th>0</th>\n",
       "      <td>drarp</td>\n",
       "      <td>0</td>\n",
       "      <td>0</td>\n",
       "      <td>0.000000</td>\n",
       "      <td>NW</td>\n",
       "      <td>0.000025</td>\n",
       "      <td>9.999752e-01</td>\n",
       "    </tr>\n",
       "    <tr>\n",
       "      <th>1</th>\n",
       "      <td>laud</td>\n",
       "      <td>182</td>\n",
       "      <td>1</td>\n",
       "      <td>2.136932</td>\n",
       "      <td>LF</td>\n",
       "      <td>1.000000</td>\n",
       "      <td>9.540957e-08</td>\n",
       "    </tr>\n",
       "    <tr>\n",
       "      <th>2</th>\n",
       "      <td>decremont</td>\n",
       "      <td>0</td>\n",
       "      <td>0</td>\n",
       "      <td>0.000000</td>\n",
       "      <td>NW</td>\n",
       "      <td>0.000771</td>\n",
       "      <td>9.992290e-01</td>\n",
       "    </tr>\n",
       "    <tr>\n",
       "      <th>3</th>\n",
       "      <td>gugs</td>\n",
       "      <td>0</td>\n",
       "      <td>0</td>\n",
       "      <td>0.000000</td>\n",
       "      <td>NW</td>\n",
       "      <td>0.000233</td>\n",
       "      <td>9.997666e-01</td>\n",
       "    </tr>\n",
       "    <tr>\n",
       "      <th>4</th>\n",
       "      <td>trickery</td>\n",
       "      <td>453</td>\n",
       "      <td>1</td>\n",
       "      <td>2.882899</td>\n",
       "      <td>LF</td>\n",
       "      <td>0.999996</td>\n",
       "      <td>3.610227e-06</td>\n",
       "    </tr>\n",
       "    <tr>\n",
       "      <th>...</th>\n",
       "      <td>...</td>\n",
       "      <td>...</td>\n",
       "      <td>...</td>\n",
       "      <td>...</td>\n",
       "      <td>...</td>\n",
       "      <td>...</td>\n",
       "      <td>...</td>\n",
       "    </tr>\n",
       "    <tr>\n",
       "      <th>74312</th>\n",
       "      <td>gorphological</td>\n",
       "      <td>0</td>\n",
       "      <td>0</td>\n",
       "      <td>0.000000</td>\n",
       "      <td>NW</td>\n",
       "      <td>0.000168</td>\n",
       "      <td>9.998318e-01</td>\n",
       "    </tr>\n",
       "    <tr>\n",
       "      <th>74313</th>\n",
       "      <td>hearse</td>\n",
       "      <td>160</td>\n",
       "      <td>1</td>\n",
       "      <td>3.205648</td>\n",
       "      <td>HF</td>\n",
       "      <td>1.000000</td>\n",
       "      <td>4.410969e-08</td>\n",
       "    </tr>\n",
       "    <tr>\n",
       "      <th>74314</th>\n",
       "      <td>appallingly</td>\n",
       "      <td>102</td>\n",
       "      <td>1</td>\n",
       "      <td>1.893894</td>\n",
       "      <td>LF</td>\n",
       "      <td>1.000000</td>\n",
       "      <td>3.650449e-07</td>\n",
       "    </tr>\n",
       "    <tr>\n",
       "      <th>74315</th>\n",
       "      <td>furban</td>\n",
       "      <td>0</td>\n",
       "      <td>0</td>\n",
       "      <td>0.000000</td>\n",
       "      <td>NW</td>\n",
       "      <td>0.000531</td>\n",
       "      <td>9.994685e-01</td>\n",
       "    </tr>\n",
       "    <tr>\n",
       "      <th>74316</th>\n",
       "      <td>beversing</td>\n",
       "      <td>0</td>\n",
       "      <td>0</td>\n",
       "      <td>0.000000</td>\n",
       "      <td>NW</td>\n",
       "      <td>0.000722</td>\n",
       "      <td>9.992778e-01</td>\n",
       "    </tr>\n",
       "  </tbody>\n",
       "</table>\n",
       "<p>74317 rows × 7 columns</p>\n",
       "</div>"
      ],
      "text/plain": [
       "              string  freq  label      zipf category  word_prob  non_word_prob\n",
       "0              drarp     0      0  0.000000       NW   0.000025   9.999752e-01\n",
       "1               laud   182      1  2.136932       LF   1.000000   9.540957e-08\n",
       "2          decremont     0      0  0.000000       NW   0.000771   9.992290e-01\n",
       "3               gugs     0      0  0.000000       NW   0.000233   9.997666e-01\n",
       "4           trickery   453      1  2.882899       LF   0.999996   3.610227e-06\n",
       "...              ...   ...    ...       ...      ...        ...            ...\n",
       "74312  gorphological     0      0  0.000000       NW   0.000168   9.998318e-01\n",
       "74313         hearse   160      1  3.205648       HF   1.000000   4.410969e-08\n",
       "74314    appallingly   102      1  1.893894       LF   1.000000   3.650449e-07\n",
       "74315         furban     0      0  0.000000       NW   0.000531   9.994685e-01\n",
       "74316      beversing     0      0  0.000000       NW   0.000722   9.992778e-01\n",
       "\n",
       "[74317 rows x 7 columns]"
      ]
     },
     "execution_count": 8,
     "metadata": {},
     "output_type": "execute_result"
    }
   ],
   "source": [
    "word_nword_df = pd.read_csv(dataset_path, header=None, names =['string', 'freq',  'label', 'zipf','category', 'word_prob', 'non_word_prob'])\n",
    "word_nword_df"
   ]
  },
  {
   "cell_type": "code",
   "execution_count": 9,
   "id": "8a061e32-1d3d-40c2-afcf-04de82e44ce5",
   "metadata": {},
   "outputs": [],
   "source": [
    "def remove_outliers(df, max_rt, min_rt, std_c=2.5):\n",
    "    \"\"\"\n",
    "    Returns remove outliers from dataframes. Outlier RTs are bigger than\n",
    "    max_rt and smaller than min_rt. Also RTsthat are out of -/+ (std_c * sd) \n",
    "    of mean RT interval are considered as outliers too.\n",
    "\n",
    "    Parameters\n",
    "    ----------\n",
    "        df: pandas dataframe with rt column\n",
    "        max_rt (float): maximum acceptable rt\n",
    "        min_rt (float): minimum acceptable rt\n",
    "        \n",
    "    Optional Parameters\n",
    "    ----------\n",
    "        std_c (float) : Optional\n",
    "            coefficient to define interval of non-outlier RTs\n",
    "    \n",
    "    Returns\n",
    "    -------\n",
    "        df: pandas dataframe without outliers  \n",
    "    \"\"\"\n",
    "    mean = df['rt'].mean()\n",
    "    sd = df['rt'].std()\n",
    "    lower_thr = mean - std_c*sd\n",
    "    upper_thr = mean + std_c*sd\n",
    "    min_bound = max(min_rt, lower_thr)\n",
    "    max_bound = min(max_rt, upper_thr)\n",
    "    df = df[df['rt'] >= min_bound]\n",
    "    df = df[df['rt'] <= max_bound]\n",
    "    return df"
   ]
  },
  {
   "cell_type": "markdown",
   "id": "07cf7c47-7fd4-4bdb-880b-5a52a2b7be4b",
   "metadata": {},
   "source": [
    "Reading and modifing each behavioral data file and combining all of them into a single behavioral dataframe"
   ]
  },
  {
   "cell_type": "code",
   "execution_count": 10,
   "id": "af1a914e",
   "metadata": {
    "executionInfo": {
     "elapsed": 56,
     "status": "ok",
     "timestamp": 1651313252936,
     "user": {
      "displayName": "Arash Dadras",
      "userId": "05722346836148265544"
     },
     "user_tz": -270
    },
    "id": "eb864830-ecb7-48f1-a071-f00173154216"
   },
   "outputs": [],
   "source": [
    "Number_Of_Participants = 5\n",
    "Number_Of_Trials = 500\n",
    "dataframes = []\n",
    "\n",
    "for i in range(Number_Of_Participants):\n",
    "    # Loading each file\n",
    "    df = pd.read_csv(behavioural_data_root + str(i+1) + \"_DATA.LDT\", names=['trial', 'string_id', 'string_type', 'accuracy', 'rt', 'string'])\n",
    "    # Dropping non rows and first two rows that are demographic informations \n",
    "    df = df.dropna().drop('string_id', axis=1).drop([0, 1]).iloc[:Number_Of_Trials]\n",
    "    # Dropping rows with wrong accuracies\n",
    "    df = df.loc[(df['accuracy'] == '0') | (df['accuracy'] == '1')]\n",
    "    # Converting columns type to suitable data types\n",
    "    convert_dict = {'string_type': 'int16',\n",
    "                    'accuracy': 'int16',\n",
    "                    'rt': float\n",
    "                   }\n",
    "\n",
    "    df = df.astype(convert_dict)\n",
    "    # Convert RTs to seconds\n",
    "    df['rt'] = df['rt'].apply(lambda x: x/1000) \n",
    "    # Removing Outliers\n",
    "    df = remove_outliers(df, 3, .2, 2.5)\n",
    "    # Extracting response of participant from his/her accuracy\n",
    "    df['response'] = np.logical_not(np.logical_xor(df['string_type'], df['accuracy'])).astype('int')\n",
    "    df = df.reset_index(drop=True)\n",
    "    # Particpant number\n",
    "    df['participant'] = i+1\n",
    "    # Minimum RT of participant in all trials (is needed for stan code)\n",
    "    df['minRT'] = df['rt'].min()\n",
    "    dataframes.append(df)"
   ]
  },
  {
   "cell_type": "code",
   "execution_count": 11,
   "id": "4fb6266a",
   "metadata": {
    "executionInfo": {
     "elapsed": 56,
     "status": "ok",
     "timestamp": 1651313252938,
     "user": {
      "displayName": "Arash Dadras",
      "userId": "05722346836148265544"
     },
     "user_tz": -270
    },
    "id": "f37d4118-f2ea-4691-bff9-02f1ac1cebbc"
   },
   "outputs": [],
   "source": [
    "# Combining dataframes\n",
    "behavioural_df = pd.concat(dataframes)\n",
    "# Merging  behavioral dataframe with word_nonword_df to have words and non-words data with behavioral data\n",
    "behavioural_df = pd.merge(behavioural_df, word_nword_df, on='string', how='left').dropna().reset_index(drop=True)\n",
    "behavioural_df = behavioural_df.drop([\"trial\", \"string_type\", \"freq\"], axis=1)"
   ]
  },
  {
   "cell_type": "code",
   "execution_count": 12,
   "id": "07c791ac-26e5-4ee4-929e-379e1b3248df",
   "metadata": {},
   "outputs": [
    {
     "data": {
      "text/html": [
       "<div>\n",
       "<style scoped>\n",
       "    .dataframe tbody tr th:only-of-type {\n",
       "        vertical-align: middle;\n",
       "    }\n",
       "\n",
       "    .dataframe tbody tr th {\n",
       "        vertical-align: top;\n",
       "    }\n",
       "\n",
       "    .dataframe thead th {\n",
       "        text-align: right;\n",
       "    }\n",
       "</style>\n",
       "<table border=\"1\" class=\"dataframe\">\n",
       "  <thead>\n",
       "    <tr style=\"text-align: right;\">\n",
       "      <th></th>\n",
       "      <th>accuracy</th>\n",
       "      <th>rt</th>\n",
       "      <th>string</th>\n",
       "      <th>response</th>\n",
       "      <th>participant</th>\n",
       "      <th>minRT</th>\n",
       "      <th>label</th>\n",
       "      <th>zipf</th>\n",
       "      <th>category</th>\n",
       "      <th>word_prob</th>\n",
       "      <th>non_word_prob</th>\n",
       "    </tr>\n",
       "  </thead>\n",
       "  <tbody>\n",
       "    <tr>\n",
       "      <th>0</th>\n",
       "      <td>0</td>\n",
       "      <td>0.548</td>\n",
       "      <td>pracker</td>\n",
       "      <td>1</td>\n",
       "      <td>1</td>\n",
       "      <td>0.429</td>\n",
       "      <td>0.0</td>\n",
       "      <td>0.000000</td>\n",
       "      <td>NW</td>\n",
       "      <td>0.000836</td>\n",
       "      <td>9.991643e-01</td>\n",
       "    </tr>\n",
       "    <tr>\n",
       "      <th>1</th>\n",
       "      <td>1</td>\n",
       "      <td>0.646</td>\n",
       "      <td>nearside</td>\n",
       "      <td>1</td>\n",
       "      <td>1</td>\n",
       "      <td>0.429</td>\n",
       "      <td>1.0</td>\n",
       "      <td>1.592864</td>\n",
       "      <td>LF</td>\n",
       "      <td>0.998253</td>\n",
       "      <td>1.746930e-03</td>\n",
       "    </tr>\n",
       "    <tr>\n",
       "      <th>2</th>\n",
       "      <td>1</td>\n",
       "      <td>0.511</td>\n",
       "      <td>jets</td>\n",
       "      <td>1</td>\n",
       "      <td>1</td>\n",
       "      <td>0.429</td>\n",
       "      <td>1.0</td>\n",
       "      <td>3.645943</td>\n",
       "      <td>HF</td>\n",
       "      <td>1.000000</td>\n",
       "      <td>5.878510e-11</td>\n",
       "    </tr>\n",
       "    <tr>\n",
       "      <th>3</th>\n",
       "      <td>1</td>\n",
       "      <td>0.815</td>\n",
       "      <td>vates</td>\n",
       "      <td>0</td>\n",
       "      <td>1</td>\n",
       "      <td>0.429</td>\n",
       "      <td>0.0</td>\n",
       "      <td>0.000000</td>\n",
       "      <td>NW</td>\n",
       "      <td>0.002267</td>\n",
       "      <td>9.977329e-01</td>\n",
       "    </tr>\n",
       "    <tr>\n",
       "      <th>4</th>\n",
       "      <td>1</td>\n",
       "      <td>0.680</td>\n",
       "      <td>onward</td>\n",
       "      <td>1</td>\n",
       "      <td>1</td>\n",
       "      <td>0.429</td>\n",
       "      <td>1.0</td>\n",
       "      <td>3.194924</td>\n",
       "      <td>HF</td>\n",
       "      <td>0.999999</td>\n",
       "      <td>1.096722e-06</td>\n",
       "    </tr>\n",
       "  </tbody>\n",
       "</table>\n",
       "</div>"
      ],
      "text/plain": [
       "   accuracy     rt    string  response  participant  minRT  label      zipf  \\\n",
       "0         0  0.548   pracker         1            1  0.429    0.0  0.000000   \n",
       "1         1  0.646  nearside         1            1  0.429    1.0  1.592864   \n",
       "2         1  0.511      jets         1            1  0.429    1.0  3.645943   \n",
       "3         1  0.815     vates         0            1  0.429    0.0  0.000000   \n",
       "4         1  0.680    onward         1            1  0.429    1.0  3.194924   \n",
       "\n",
       "  category  word_prob  non_word_prob  \n",
       "0       NW   0.000836   9.991643e-01  \n",
       "1       LF   0.998253   1.746930e-03  \n",
       "2       HF   1.000000   5.878510e-11  \n",
       "3       NW   0.002267   9.977329e-01  \n",
       "4       HF   0.999999   1.096722e-06  "
      ]
     },
     "execution_count": 12,
     "metadata": {},
     "output_type": "execute_result"
    }
   ],
   "source": [
    "behavioural_df.head()"
   ]
  },
  {
   "cell_type": "markdown",
   "id": "159dddd5-c8a8-4c1a-8c48-9882ee452eb2",
   "metadata": {},
   "source": [
    "Predicted probabilities of words and non-words in different conditions in all trials\n",
    "across participants"
   ]
  },
  {
   "cell_type": "code",
   "execution_count": 13,
   "id": "6c1441c1-4928-4675-92a0-bac19c71fa98",
   "metadata": {},
   "outputs": [
    {
     "data": {
      "text/html": [
       "<div>\n",
       "<style scoped>\n",
       "    .dataframe tbody tr th:only-of-type {\n",
       "        vertical-align: middle;\n",
       "    }\n",
       "\n",
       "    .dataframe tbody tr th {\n",
       "        vertical-align: top;\n",
       "    }\n",
       "\n",
       "    .dataframe thead tr th {\n",
       "        text-align: left;\n",
       "    }\n",
       "\n",
       "    .dataframe thead tr:last-of-type th {\n",
       "        text-align: right;\n",
       "    }\n",
       "</style>\n",
       "<table border=\"1\" class=\"dataframe\">\n",
       "  <thead>\n",
       "    <tr>\n",
       "      <th></th>\n",
       "      <th colspan=\"5\" halign=\"left\">word_prob</th>\n",
       "      <th colspan=\"5\" halign=\"left\">non_word_prob</th>\n",
       "    </tr>\n",
       "    <tr>\n",
       "      <th></th>\n",
       "      <th>mean</th>\n",
       "      <th>std</th>\n",
       "      <th>count</th>\n",
       "      <th>max</th>\n",
       "      <th>min</th>\n",
       "      <th>mean</th>\n",
       "      <th>std</th>\n",
       "      <th>count</th>\n",
       "      <th>max</th>\n",
       "      <th>min</th>\n",
       "    </tr>\n",
       "    <tr>\n",
       "      <th>category</th>\n",
       "      <th></th>\n",
       "      <th></th>\n",
       "      <th></th>\n",
       "      <th></th>\n",
       "      <th></th>\n",
       "      <th></th>\n",
       "      <th></th>\n",
       "      <th></th>\n",
       "      <th></th>\n",
       "      <th></th>\n",
       "    </tr>\n",
       "  </thead>\n",
       "  <tbody>\n",
       "    <tr>\n",
       "      <th>HF</th>\n",
       "      <td>0.999692</td>\n",
       "      <td>0.002950</td>\n",
       "      <td>441</td>\n",
       "      <td>1.00000</td>\n",
       "      <td>9.458225e-01</td>\n",
       "      <td>0.000308</td>\n",
       "      <td>0.002950</td>\n",
       "      <td>441</td>\n",
       "      <td>0.054177</td>\n",
       "      <td>9.513443e-20</td>\n",
       "    </tr>\n",
       "    <tr>\n",
       "      <th>LF</th>\n",
       "      <td>0.995130</td>\n",
       "      <td>0.048837</td>\n",
       "      <td>583</td>\n",
       "      <td>1.00000</td>\n",
       "      <td>4.073943e-03</td>\n",
       "      <td>0.004870</td>\n",
       "      <td>0.048837</td>\n",
       "      <td>583</td>\n",
       "      <td>0.995926</td>\n",
       "      <td>2.297777e-14</td>\n",
       "    </tr>\n",
       "    <tr>\n",
       "      <th>NW</th>\n",
       "      <td>0.002697</td>\n",
       "      <td>0.031031</td>\n",
       "      <td>1196</td>\n",
       "      <td>0.99052</td>\n",
       "      <td>5.035976e-23</td>\n",
       "      <td>0.997303</td>\n",
       "      <td>0.031031</td>\n",
       "      <td>1196</td>\n",
       "      <td>1.000000</td>\n",
       "      <td>9.480231e-03</td>\n",
       "    </tr>\n",
       "  </tbody>\n",
       "</table>\n",
       "</div>"
      ],
      "text/plain": [
       "         word_prob                                        non_word_prob  \\\n",
       "              mean       std count      max           min          mean   \n",
       "category                                                                  \n",
       "HF        0.999692  0.002950   441  1.00000  9.458225e-01      0.000308   \n",
       "LF        0.995130  0.048837   583  1.00000  4.073943e-03      0.004870   \n",
       "NW        0.002697  0.031031  1196  0.99052  5.035976e-23      0.997303   \n",
       "\n",
       "                                                  \n",
       "               std count       max           min  \n",
       "category                                          \n",
       "HF        0.002950   441  0.054177  9.513443e-20  \n",
       "LF        0.048837   583  0.995926  2.297777e-14  \n",
       "NW        0.031031  1196  1.000000  9.480231e-03  "
      ]
     },
     "execution_count": 13,
     "metadata": {},
     "output_type": "execute_result"
    }
   ],
   "source": [
    "behavioural_df.groupby(['category']).agg({'word_prob': ['mean', 'std', 'count', 'max', 'min'], 'non_word_prob': ['mean', 'std', 'count', 'max', 'min']})"
   ]
  },
  {
   "cell_type": "markdown",
   "id": "d052f5c8-5b10-4c7d-ad5c-27e781c292fb",
   "metadata": {},
   "source": [
    "RT and response description of words and non-words in different conditions in all trials\n",
    "across participants"
   ]
  },
  {
   "cell_type": "code",
   "execution_count": 14,
   "id": "fba3741e-8006-4460-a23d-67445b949a93",
   "metadata": {},
   "outputs": [
    {
     "data": {
      "text/html": [
       "<div>\n",
       "<style scoped>\n",
       "    .dataframe tbody tr th:only-of-type {\n",
       "        vertical-align: middle;\n",
       "    }\n",
       "\n",
       "    .dataframe tbody tr th {\n",
       "        vertical-align: top;\n",
       "    }\n",
       "\n",
       "    .dataframe thead tr th {\n",
       "        text-align: left;\n",
       "    }\n",
       "\n",
       "    .dataframe thead tr:last-of-type th {\n",
       "        text-align: right;\n",
       "    }\n",
       "</style>\n",
       "<table border=\"1\" class=\"dataframe\">\n",
       "  <thead>\n",
       "    <tr>\n",
       "      <th></th>\n",
       "      <th colspan=\"4\" halign=\"left\">rt</th>\n",
       "      <th colspan=\"4\" halign=\"left\">response</th>\n",
       "    </tr>\n",
       "    <tr>\n",
       "      <th></th>\n",
       "      <th>mean</th>\n",
       "      <th>std</th>\n",
       "      <th>max</th>\n",
       "      <th>min</th>\n",
       "      <th>mean</th>\n",
       "      <th>std</th>\n",
       "      <th>max</th>\n",
       "      <th>min</th>\n",
       "    </tr>\n",
       "    <tr>\n",
       "      <th>category</th>\n",
       "      <th></th>\n",
       "      <th></th>\n",
       "      <th></th>\n",
       "      <th></th>\n",
       "      <th></th>\n",
       "      <th></th>\n",
       "      <th></th>\n",
       "      <th></th>\n",
       "    </tr>\n",
       "  </thead>\n",
       "  <tbody>\n",
       "    <tr>\n",
       "      <th>HF</th>\n",
       "      <td>0.807853</td>\n",
       "      <td>0.320557</td>\n",
       "      <td>2.551</td>\n",
       "      <td>0.422</td>\n",
       "      <td>0.965986</td>\n",
       "      <td>0.181470</td>\n",
       "      <td>1</td>\n",
       "      <td>0</td>\n",
       "    </tr>\n",
       "    <tr>\n",
       "      <th>LF</th>\n",
       "      <td>1.001453</td>\n",
       "      <td>0.416596</td>\n",
       "      <td>2.861</td>\n",
       "      <td>0.470</td>\n",
       "      <td>0.821612</td>\n",
       "      <td>0.383167</td>\n",
       "      <td>1</td>\n",
       "      <td>0</td>\n",
       "    </tr>\n",
       "    <tr>\n",
       "      <th>NW</th>\n",
       "      <td>1.083640</td>\n",
       "      <td>0.444531</td>\n",
       "      <td>2.906</td>\n",
       "      <td>0.446</td>\n",
       "      <td>0.153846</td>\n",
       "      <td>0.360952</td>\n",
       "      <td>1</td>\n",
       "      <td>0</td>\n",
       "    </tr>\n",
       "  </tbody>\n",
       "</table>\n",
       "</div>"
      ],
      "text/plain": [
       "                rt                          response                  \n",
       "              mean       std    max    min      mean       std max min\n",
       "category                                                              \n",
       "HF        0.807853  0.320557  2.551  0.422  0.965986  0.181470   1   0\n",
       "LF        1.001453  0.416596  2.861  0.470  0.821612  0.383167   1   0\n",
       "NW        1.083640  0.444531  2.906  0.446  0.153846  0.360952   1   0"
      ]
     },
     "execution_count": 14,
     "metadata": {},
     "output_type": "execute_result"
    }
   ],
   "source": [
    "behavioural_df.groupby(['category']).agg({'rt': ['mean', 'std', 'max', 'min'], 'response': ['mean', 'std', 'max', 'min']})"
   ]
  },
  {
   "cell_type": "markdown",
   "id": "0bc6ff4c",
   "metadata": {
    "id": "ff61f25e-7817-4f3f-a48f-d5a6666b0e75",
    "tags": []
   },
   "source": [
    "## Stan Model and Estimation"
   ]
  },
  {
   "cell_type": "markdown",
   "id": "27aa0a87-ed95-486a-beec-87a50c2f86ef",
   "metadata": {},
   "source": [
    "Compiling stan model"
   ]
  },
  {
   "cell_type": "code",
   "execution_count": 15,
   "id": "60550ee7-157d-4393-9f12-773eb947efce",
   "metadata": {
    "colab": {
     "base_uri": "https://localhost:8080/"
    },
    "executionInfo": {
     "elapsed": 93380,
     "status": "ok",
     "timestamp": 1651313346844,
     "user": {
      "displayName": "Arash Dadras",
      "userId": "05722346836148265544"
     },
     "user_tz": -270
    },
    "id": "c1b3627d-0ea2-49b6-86f0-7b098a5a16d6",
    "outputId": "4bc8643c-82c0-4fc9-99a0-7f232fa1eea4",
    "scrolled": true,
    "tags": []
   },
   "outputs": [
    {
     "name": "stderr",
     "output_type": "stream",
     "text": [
      "13:16:08 - cmdstanpy - INFO - compiling stan file D:\\Cognitive modeling And ML\\Thesis\\ANN-EAM\\stan files\\RDM\\RDM_cd.stan to exe file D:\\Cognitive modeling And ML\\Thesis\\ANN-EAM\\stan files\\RDM\\RDM_cd.exe\n",
      "13:16:33 - cmdstanpy - INFO - compiled model executable: D:\\Cognitive modeling And ML\\Thesis\\ANN-EAM\\stan files\\RDM\\RDM_cd.exe\n",
      "13:16:33 - cmdstanpy - WARNING - Stan compiler has produced 19 warnings:\n",
      "13:16:33 - cmdstanpy - WARNING - \n",
      "--- Translating Stan model to C++ code ---\n",
      "bin/stanc.exe  --o=C:/Users/Lenovo/AppData/Local/Temp/tmpflrotzcg/tmpwvdad37n.hpp C:/Users/Lenovo/AppData/Local/Temp/tmpflrotzcg/tmpwvdad37n.stan\n",
      "Warning in 'C:/Users/Lenovo/AppData/Local/Temp/tmpflrotzcg/tmpwvdad37n.stan', line 54, column 4: Declaration\n",
      "    of arrays by placing brackets after a variable name is deprecated and\n",
      "    will be removed in Stan 2.32.0. Instead use the array keyword before the\n",
      "    type. This can be changed automatically using the auto-format flag to\n",
      "    stanc\n",
      "Warning in 'C:/Users/Lenovo/AppData/Local/Temp/tmpflrotzcg/tmpwvdad37n.stan', line 55, column 4: Declaration\n",
      "    of arrays by placing brackets after a variable name is deprecated and\n",
      "    will be removed in Stan 2.32.0. Instead use the array keyword before the\n",
      "    type. This can be changed automatically using the auto-format flag to\n",
      "    stanc\n",
      "Warning in 'C:/Users/Lenovo/AppData/Local/Temp/tmpflrotzcg/tmpwvdad37n.stan', line 56, column 4: Declaration\n",
      "    of arrays by placing brackets after a variable name is deprecated and\n",
      "    will be removed in Stan 2.32.0. Instead use the array keyword before the\n",
      "    type. This can be changed automatically using the auto-format flag to\n",
      "    stanc\n",
      "Warning in 'C:/Users/Lenovo/AppData/Local/Temp/tmpflrotzcg/tmpwvdad37n.stan', line 57, column 4: Declaration\n",
      "    of arrays by placing brackets after a variable name is deprecated and\n",
      "    will be removed in Stan 2.32.0. Instead use the array keyword before the\n",
      "    type. This can be changed automatically using the auto-format flag to\n",
      "    stanc\n",
      "Warning in 'C:/Users/Lenovo/AppData/Local/Temp/tmpflrotzcg/tmpwvdad37n.stan', line 59, column 4: Declaration\n",
      "    of arrays by placing brackets after a variable name is deprecated and\n",
      "    will be removed in Stan 2.32.0. Instead use the array keyword before the\n",
      "    type. This can be changed automatically using the auto-format flag to\n",
      "    stanc\n",
      "Warning in 'C:/Users/Lenovo/AppData/Local/Temp/tmpflrotzcg/tmpwvdad37n.stan', line 88, column 4: Declaration\n",
      "    of arrays by placing brackets after a variable name is deprecated and\n",
      "    will be removed in Stan 2.32.0. Instead use the array keyword before the\n",
      "    type. This can be changed automatically using the auto-format flag to\n",
      "    stanc\n",
      "Warning in 'C:/Users/Lenovo/AppData/Local/Temp/tmpflrotzcg/tmpwvdad37n.stan', line 89, column 4: Declaration\n",
      "    of arrays by placing brackets after a variable name is deprecated and\n",
      "    will be removed in Stan 2.32.0. Instead use the array keyword before the\n",
      "    type. This can be changed automatically using the auto-format flag to\n",
      "    stanc\n",
      "Warning in 'C:/Users/Lenovo/AppData/Local/Temp/tmpflrotzcg/tmpwvdad37n.stan', line 91, column 4: Declaration\n",
      "    of arrays by placing brackets after a variable name is deprecated and\n",
      "    will be removed in Stan 2.32.0. Instead use the array keyword before the\n",
      "    type. This can be changed automatically using the auto-format flag to\n",
      "    stanc\n",
      "Warning in 'C:/Users/Lenovo/AppData/Local/Temp/tmpflrotzcg/tmpwvdad37n.stan', line 92, column 4: Declaration\n",
      "    of arrays by placing brackets after a variable name is deprecated and\n",
      "    will be removed in Stan 2.32.0. Instead use the array keyword before the\n",
      "    type. This can be changed automatically using the auto-format flag to\n",
      "    stanc\n",
      "Warning in 'C:/Users/Lenovo/AppData/Local/Temp/tmpflrotzcg/tmpwvdad37n.stan', line 93, column 4: Declaration\n",
      "    of arrays by placing brackets after a variable name is deprecated and\n",
      "    will be removed in Stan 2.32.0. Instead use the array keyword before the\n",
      "    type. This can be changed automatically using the auto-format flag to\n",
      "    stanc\n",
      "Warning in 'C:/Users/Lenovo/AppData/Local/Temp/tmpflrotzcg/tmpwvdad37n.stan', line 94, column 4: Declaration\n",
      "    of arrays by placing brackets after a variable name is deprecated and\n",
      "    will be removed in Stan 2.32.0. Instead use the array keyword before the\n",
      "    type. This can be changed automatically using the auto-format flag to\n",
      "    stanc\n",
      "Warning in 'C:/Users/Lenovo/AppData/Local/Temp/tmpflrotzcg/tmpwvdad37n.stan', line 95, column 4: Declaration\n",
      "    of arrays by placing brackets after a variable name is deprecated and\n",
      "    will be removed in Stan 2.32.0. Instead use the array keyword before the\n",
      "    type. This can be changed automatically using the auto-format flag to\n",
      "    stanc\n",
      "Warning in 'C:/Users/Lenovo/AppData/Local/Temp/tmpflrotzcg/tmpwvdad37n.stan', line 106, column 4: Declaration\n",
      "    of arrays by placing brackets after a variable name is deprecated and\n",
      "    will be removed in Stan 2.32.0. Instead use the array keyword before the\n",
      "    type. This can be changed automatically using the auto-format flag to\n",
      "    stanc\n",
      "Warning in 'C:/Users/Lenovo/AppData/Local/Temp/tmpflrotzcg/tmpwvdad37n.stan', line 107, column 4: Declaration\n",
      "    of arrays by placing brackets after a variable name is deprecated and\n",
      "    will be removed in Stan 2.32.0. Instead use the array keyword before the\n",
      "    type. This can be changed automatically using the auto-format flag to\n",
      "    stanc\n",
      "Warning in 'C:/Users/Lenovo/AppData/Local/Temp/tmpflrotzcg/tmpwvdad37n.stan', line 108, column 4: Declaration\n",
      "    of arrays by placing brackets after a variable name is deprecated and\n",
      "    will be removed in Stan 2.32.0. Instead use the array keyword before the\n",
      "    type. This can be changed automatically using the auto-format flag to\n",
      "    stanc\n",
      "Warning in 'C:/Users/Lenovo/AppData/Local/Temp/tmpflrotzcg/tmpwvdad37n.stan', line 109, column 4: Declaration\n",
      "    of arrays by placing brackets after a variable name is deprecated and\n",
      "    will be removed in Stan 2.32.0. Instead use the array keyword before the\n",
      "    type. This can be changed automatically using the auto-format flag to\n",
      "    stanc\n",
      "Warning in 'C:/Users/Lenovo/AppData/Local/Temp/tmpflrotzcg/tmpwvdad37n.stan', line 110, column 4: Declaration\n",
      "    of arrays by placing brackets after a variable name is deprecated and\n",
      "    will be removed in Stan 2.32.0. Instead use the array keyword before the\n",
      "    type. This can be changed automatically using the auto-format flag to\n",
      "    stanc\n",
      "Warning in 'C:/Users/Lenovo/AppData/Local/Temp/tmpflrotzcg/tmpwvdad37n.stan', line 30, column 30: Use\n",
      "    of race_cdf without a vertical bar (|) between the first two arguments of\n",
      "    a CDF is deprecated and will be removed in Stan 2.32.0. This can be\n",
      "    automatically changed using the canonicalize flag for stanc\n",
      "Warning in 'C:/Users/Lenovo/AppData/Local/Temp/tmpflrotzcg/tmpwvdad37n.stan', line 34, column 30: Use\n",
      "    of race_cdf without a vertical bar (|) between the first two arguments of\n",
      "    a CDF is deprecated and will be removed in Stan 2.32.0. This can be\n",
      "    automatically changed using the canonicalize flag for stanc\n",
      "\n",
      "--- Compiling, linking C++ code ---\n",
      "g++ -std=c++1y -m64 -D_REENTRANT -Wall -Wno-unused-function -Wno-uninitialized -Wno-unused-but-set-variable -Wno-unused-variable -Wno-sign-compare -Wno-unused-local-typedefs -Wno-int-in-bool-context -Wno-attributes -Wno-ignored-attributes      -I stan/lib/stan_math/lib/tbb_2020.3/include    -O3 -I src -I stan/src -I lib/rapidjson_1.1.0/ -I lib/CLI11-1.9.1/ -I stan/lib/stan_math/ -I stan/lib/stan_math/lib/eigen_3.3.9 -I stan/lib/stan_math/lib/boost_1.78.0 -I stan/lib/stan_math/lib/sundials_6.1.1/include -I stan/lib/stan_math/lib/sundials_6.1.1/src/sundials  -D_USE_MATH_DEFINES  -DBOOST_DISABLE_ASSERTS          -c  -x c++ -o C:/Users/Lenovo/AppData/Local/Temp/tmpflrotzcg/tmpwvdad37n.o C:/Users/Lenovo/AppData/Local/Temp/tmpflrotzcg/tmpwvdad37n.hpp\n",
      "g++ -std=c++1y -m64 -D_REENTRANT -Wall -Wno-unused-function -Wno-uninitialized -Wno-unused-but-set-variable -Wno-unused-variable -Wno-sign-compare -Wno-unused-local-typedefs -Wno-int-in-bool-context -Wno-attributes -Wno-ignored-attributes      -I stan/lib/stan_math/lib/tbb_2020.3/include    -O3 -I src -I stan/src -I lib/rapidjson_1.1.0/ -I lib/CLI11-1.9.1/ -I stan/lib/stan_math/ -I stan/lib/stan_math/lib/eigen_3.3.9 -I stan/lib/stan_math/lib/boost_1.78.0 -I stan/lib/stan_math/lib/sundials_6.1.1/include -I stan/lib/stan_math/lib/sundials_6.1.1/src/sundials  -D_USE_MATH_DEFINES  -DBOOST_DISABLE_ASSERTS                -Wl,-L,\"C:/Users/Lenovo/anaconda3/envs/cmdstan/Library/bin/cmdstan/stan/lib/stan_math/lib/tbb\" -Wl,-rpath,\"C:/Users/Lenovo/anaconda3/envs/cmdstan/Library/bin/cmdstan/stan/lib/stan_math/lib/tbb\"      C:/Users/Lenovo/AppData/Local/Temp/tmpflrotzcg/tmpwvdad37n.o src/cmdstan/main.o  -static-libgcc -static-libstdc++      -Wl,-L,\"C:/Users/Lenovo/anaconda3/envs/cmdstan/Library/bin/cmdstan/stan/lib/stan_math/lib/tbb\" -Wl,-rpath,\"C:/Users/Lenovo/anaconda3/envs/cmdstan/Library/bin/cmdstan/stan/lib/stan_math/lib/tbb\"   stan/lib/stan_math/lib/sundials_6.1.1/lib/libsundials_nvecserial.a stan/lib/stan_math/lib/sundials_6.1.1/lib/libsundials_cvodes.a stan/lib/stan_math/lib/sundials_6.1.1/lib/libsundials_idas.a stan/lib/stan_math/lib/sundials_6.1.1/lib/libsundials_kinsol.a  stan/lib/stan_math/lib/tbb/tbb.dll -o C:/Users/Lenovo/AppData/Local/Temp/tmpflrotzcg/tmpwvdad37n.exe\n",
      "rm -f C:/Users/Lenovo/AppData/Local/Temp/tmpflrotzcg/tmpwvdad37n.o\n",
      "\n"
     ]
    }
   ],
   "source": [
    "rdm_model = cmdstanpy.CmdStanModel(model_name=model_config['model_name'],\n",
    "                                   stan_file=stan_file_path)"
   ]
  },
  {
   "cell_type": "markdown",
   "id": "b75c8503-9cb2-40c0-ae79-e0e8d386a86f",
   "metadata": {},
   "source": [
    "Preparing model's inputs\n",
    "\n",
    "note that some inputs of data_dict might not be used depending on which model is used"
   ]
  },
  {
   "cell_type": "code",
   "execution_count": 16,
   "id": "dd38af62-fefa-4440-b250-f1717e0a2937",
   "metadata": {},
   "outputs": [],
   "source": [
    "N = len(behavioural_df)                                                    # For all models\n",
    "participant = behavioural_df['participant'].to_numpy()                     # For all models\n",
    "p = behavioural_df.loc[:, ['word_prob', 'non_word_prob']].to_numpy()       # predicted probabilites of words and non-words, for ANN-EAM models\n",
    "frequency = behavioural_df['zipf'].to_numpy().astype(int)                  # zipf values, for models with non-decision time or drift modulation\n",
    "frequencyCondition = behavioural_df['category'].replace([\"HF\", \"LF\", \"NW\"], [1, 2, 3]).to_numpy() # For models with conditional drift\n",
    "response = behavioural_df['response'].to_numpy().astype(int)               # for all models\n",
    "rt = behavioural_df['rt'].to_numpy()                                       # for all models\n",
    "minRT = behavioural_df['minRT'].to_numpy()                                 # for all models\n",
    "RTbound = 0.1                                                              # for all models\n",
    "\n",
    "threshold_priors = [0, 1, 1, 1]          # For all models with LBA\n",
    "ndt_priors = [0, 1, 1, 1];               # For models wtihout non-decision time modulation\n",
    "g_priors = [-2, 1, 0, 1]                 # For models wtih non-decision time modulation\n",
    "m_priors = [0, 0.5, 0, 1]                # For models wtih non-decision time modulation\n",
    "drift_priors = [1, 2, 1, 1]              # For models without drift mapping functions (non ANN-EAM models)\n",
    "alpha_priors = [0, 1, 1, 1]              # For models with drift mapping functions\n",
    "b_priors = [0, 1, 1, 1]                  # For models with drift mapping functions with asymptote modulation and linear models\n",
    "k_priors = [2, 1, 1, 1]                  # For models with sigmoid drift mapping functions (ANN-EAM models)\n",
    "\n",
    "# define input for the model\n",
    "data_dict = {'N': N,\n",
    "             'L': Number_Of_Participants,\n",
    "             'participant': participant,\n",
    "             'response': response,\n",
    "             'rt': rt,\n",
    "             'minRT': minRT,\n",
    "             'RTbound': RTbound,\n",
    "             'frequency': frequency,\n",
    "             'frequencyCondition': frequencyCondition,\n",
    "             'threshold_priors': threshold_priors,\n",
    "             'ndt_priors': ndt_priors,\n",
    "             'g_priors': g_priors,\n",
    "             'm_priors': m_priors,\n",
    "             'drift_priors': drift_priors,\n",
    "             'p': p,\n",
    "             'alpha_priors': alpha_priors,\n",
    "             'b_priors': b_priors,\n",
    "             'k_priors': k_priors,\n",
    "             }\n",
    "\n",
    "# set sampling parameters\n",
    "n_iter = 500\n",
    "n_warmup = int(n_iter/2)\n",
    "n_sample = int(n_iter/2)\n",
    "n_chains = 2"
   ]
  },
  {
   "cell_type": "markdown",
   "id": "f4034d3d-99d8-43bf-b744-6b0608141c8d",
   "metadata": {},
   "source": [
    "Fitting the model"
   ]
  },
  {
   "cell_type": "code",
   "execution_count": 17,
   "id": "f9ddd68e",
   "metadata": {
    "colab": {
     "background_save": true
    },
    "id": "edac015c-18f4-4ebf-8c3c-ecaf4b8e1d6a",
    "scrolled": true,
    "tags": []
   },
   "outputs": [
    {
     "name": "stderr",
     "output_type": "stream",
     "text": [
      "13:16:33 - cmdstanpy - INFO - Chain [1] start processing\n",
      "13:16:33 - cmdstanpy - INFO - Chain [2] start processing\n"
     ]
    },
    {
     "name": "stdout",
     "output_type": "stream",
     "text": [
      "Chain [1] method = sample (Default)\n",
      "Chain [1] sampleChain [2] method = sample (Default)\n",
      "Chain [1] num_samples = 250\n",
      "\n",
      "Chain [1] num_warmup = 250\n",
      "Chain [2] sample\n",
      "Chain [1] save_warmup = 0 (Default)Chain [2] num_samples = 250\n",
      "\n",
      "Chain [2] num_warmup = 250Chain [1] thin = 1 (Default)\n",
      "\n",
      "Chain [1] adapt\n",
      "Chain [2] save_warmup = 0 (Default)\n",
      "Chain [2] thin = 1 (Default)\n",
      "Chain [2] adapt\n",
      "Chain [2] engaged = 1 (Default)\n",
      "Chain [2] gamma = 0.050000000000000003 (Default)\n",
      "Chain [2] delta = 0.80000000000000004 (Default)\n",
      "Chain [1] engaged = 1 (Default)Chain [2] kappa = 0.75 (Default)\n",
      "Chain [1] gamma = 0.050000000000000003 (Default)\n",
      "\n",
      "Chain [1] delta = 0.80000000000000004 (Default)\n",
      "Chain [2] t0 = 10 (Default)Chain [1] kappa = 0.75 (Default)\n",
      "\n",
      "Chain [1] t0 = 10 (Default)\n",
      "Chain [2] init_buffer = 75 (Default)\n",
      "Chain [2] term_buffer = 50 (Default)\n",
      "Chain [2] window = 25 (Default)\n",
      "Chain [2] algorithm = hmc (Default)\n",
      "Chain [2] hmc\n",
      "Chain [2] engine = nuts (Default)\n",
      "Chain [2] nuts\n",
      "Chain [2] max_depth = 10 (Default)\n",
      "Chain [2] metric = diag_e (Default)\n",
      "Chain [2] metric_file =  (Default)\n",
      "Chain [2] stepsize = 1 (Default)\n",
      "Chain [2] stepsize_jitter = 0 (Default)\n",
      "Chain [2] num_chains = 1 (Default)\n",
      "Chain [1] init_buffer = 75 (Default)\n",
      "Chain [1] term_buffer = 50 (Default)Chain [2] id = 2\n",
      "Chain [2] data\n",
      "\n",
      "Chain [1] window = 25 (Default)\n",
      "Chain [1] algorithm = hmc (Default)\n",
      "Chain [1] hmc\n",
      "Chain [2] file = C:\\Users\\Lenovo\\AppData\\Local\\Temp\\tmpc3wcci8u\\76ty9z51.jsonChain [1] engine = nuts (Default)\n",
      "Chain [2] init = 2 (Default)\n",
      "\n",
      "Chain [2] random\n",
      "Chain [1] nutsChain [2] seed = 33935\n",
      "\n",
      "Chain [2] outputChain [1] max_depth = 10 (Default)\n",
      "\n",
      "Chain [2] file = D:\\Cognitive modeling And ML\\Thesis\\ANN-EAM\\stan_results\\RDM_cd\\RDM_cd-20220908131633_2.csv\n",
      "Chain [1] metric = diag_e (Default)Chain [2] diagnostic_file =  (Default)\n",
      "\n",
      "Chain [2] refresh = 100 (Default)\n",
      "Chain [1] metric_file =  (Default)Chain [2] sig_figs = -1 (Default)\n",
      "Chain [2] profile_file = profile.csv (Default)\n",
      "\n",
      "Chain [2] num_threads = 1 (Default)\n",
      "Chain [1] stepsize = 1 (Default)Chain [2] \n",
      "\n",
      "Chain [1] stepsize_jitter = 0 (Default)\n",
      "Chain [1] num_chains = 1 (Default)\n",
      "Chain [1] id = 1 (Default)\n",
      "Chain [1] data\n",
      "Chain [1] file = C:\\Users\\Lenovo\\AppData\\Local\\Temp\\tmpc3wcci8u\\76ty9z51.json\n",
      "Chain [1] init = 2 (Default)\n",
      "Chain [1] random\n",
      "Chain [1] seed = 33935\n",
      "Chain [1] output\n",
      "Chain [1] file = D:\\Cognitive modeling And ML\\Thesis\\ANN-EAM\\stan_results\\RDM_cd\\RDM_cd-20220908131633_1.csv\n",
      "Chain [1] diagnostic_file =  (Default)\n",
      "Chain [1] refresh = 100 (Default)\n",
      "Chain [1] sig_figs = -1 (Default)\n",
      "Chain [1] profile_file = profile.csv (Default)\n",
      "Chain [1] num_threads = 1 (Default)Chain [2] \n",
      "\n",
      "Chain [1] \n",
      "Chain [2] Gradient evaluation took 0.005596 seconds\n",
      "Chain [2] 1000 transitions using 10 leapfrog steps per transition would take 55.96 seconds.\n",
      "Chain [1] \n",
      "Chain [2] Adjust your expectations accordingly!\n",
      "Chain [2] \n",
      "Chain [1] Gradient evaluation took 0.002639 seconds\n",
      "Chain [1] 1000 transitions using 10 leapfrog steps per transition would take 26.39 seconds.\n",
      "Chain [2] Chain [1] Adjust your expectations accordingly!\n",
      "\n",
      "Chain [1] \n",
      "Chain [1] \n",
      "Chain [1] Iteration:   1 / 500 [  0%]  (Warmup)\n",
      "Chain [2] Iteration:   1 / 500 [  0%]  (Warmup)\n",
      "Chain [1] Informational Message: The current Metropolis proposal is about to be rejected because of the following issue:\n",
      "Chain [1] Exception: Exception: Exception: Phi: x is nan, but must be not nan! (in 'C:/Users/Lenovo/AppData/Local/Temp/tmpflrotzcg/tmpwvdad37n.stan', line 13, column 8 to column 72) (in 'C:/Users/Lenovo/AppData/Local/Temp/tmpflrotzcg/tmpwvdad37n.stan', line 30, column 20 to column 74) (in 'C:/Users/Lenovo/AppData/Local/Temp/tmpflrotzcg/tmpwvdad37n.stan', line 168, column 4 to column 91)\n",
      "Chain [1] If this warning occurs sporadically, such as for highly constrained variable types like covariance matrices, then the sampler is fine,\n",
      "Chain [1] but if this warning occurs often then your model may be either severely ill-conditioned or misspecified.\n",
      "Chain [1] \n",
      "Chain [1] Informational Message: The current Metropolis proposal is about to be rejected because of the following issue:\n",
      "Chain [1] Exception: Exception: Exception: Phi: x is nan, but must be not nan! (in 'C:/Users/Lenovo/AppData/Local/Temp/tmpflrotzcg/tmpwvdad37n.stan', line 13, column 8 to column 72) (in 'C:/Users/Lenovo/AppData/Local/Temp/tmpflrotzcg/tmpwvdad37n.stan', line 34, column 20 to column 68) (in 'C:/Users/Lenovo/AppData/Local/Temp/tmpflrotzcg/tmpwvdad37n.stan', line 168, column 4 to column 91)\n",
      "Chain [1] If this warning occurs sporadically, such as for highly constrained variable types like covariance matrices, then the sampler is fine,\n",
      "Chain [1] but if this warning occurs often then your model may be either severely ill-conditioned or misspecified.\n",
      "Chain [1] \n",
      "Chain [2] Informational Message: The current Metropolis proposal is about to be rejected because of the following issue:\n",
      "Chain [2] Exception: Exception: Exception: Phi: x is nan, but must be not nan! (in 'C:/Users/Lenovo/AppData/Local/Temp/tmpflrotzcg/tmpwvdad37n.stan', line 13, column 8 to column 72) (in 'C:/Users/Lenovo/AppData/Local/Temp/tmpflrotzcg/tmpwvdad37n.stan', line 30, column 20 to column 74) (in 'C:/Users/Lenovo/AppData/Local/Temp/tmpflrotzcg/tmpwvdad37n.stan', line 168, column 4 to column 91)\n",
      "Chain [2] If this warning occurs sporadically, such as for highly constrained variable types like covariance matrices, then the sampler is fine,\n",
      "Chain [2] but if this warning occurs often then your model may be either severely ill-conditioned or misspecified.\n",
      "Chain [2] \n",
      "Chain [1] Iteration: 100 / 500 [ 20%]  (Warmup)\n",
      "Chain [2] Iteration: 100 / 500 [ 20%]  (Warmup)\n",
      "Chain [1] Iteration: 200 / 500 [ 40%]  (Warmup)\n",
      "Chain [2] Iteration: 200 / 500 [ 40%]  (Warmup)\n",
      "Chain [1] Iteration: 251 / 500 [ 50%]  (Sampling)\n",
      "Chain [2] Iteration: 251 / 500 [ 50%]  (Sampling)\n",
      "Chain [1] Iteration: 350 / 500 [ 70%]  (Sampling)\n",
      "Chain [2] Iteration: 350 / 500 [ 70%]  (Sampling)\n",
      "Chain [1] Iteration: 450 / 500 [ 90%]  (Sampling)\n",
      "Chain [2] Iteration: 450 / 500 [ 90%]  (Sampling)\n",
      "Chain [1] Iteration: 500 / 500 [100%]  (Sampling)\n"
     ]
    },
    {
     "name": "stderr",
     "output_type": "stream",
     "text": [
      "13:22:52 - cmdstanpy - INFO - Chain [1] done processing\n"
     ]
    },
    {
     "name": "stdout",
     "output_type": "stream",
     "text": [
      "Chain [1] \n",
      "Chain [1] Elapsed Time: 207.008 seconds (Warm-up)\n",
      "Chain [1] 171.359 seconds (Sampling)\n",
      "Chain [1] 378.367 seconds (Total)\n",
      "Chain [1] \n",
      "Chain [1] \n",
      "Chain [1] \n",
      "Chain [1] \n",
      "Chain [1] \n",
      "Chain [2] Iteration: 500 / 500 [100%]  (Sampling)\n"
     ]
    },
    {
     "name": "stderr",
     "output_type": "stream",
     "text": [
      "13:23:24 - cmdstanpy - INFO - Chain [2] done processing\n",
      "13:23:24 - cmdstanpy - WARNING - Non-fatal error during sampling:\n",
      "Exception: Exception: Exception: Phi: x is nan, but must be not nan! (in 'C:/Users/Lenovo/AppData/Local/Temp/tmpflrotzcg/tmpwvdad37n.stan', line 13, column 8 to column 72) (in 'C:/Users/Lenovo/AppData/Local/Temp/tmpflrotzcg/tmpwvdad37n.stan', line 30, column 20 to column 74) (in 'C:/Users/Lenovo/AppData/Local/Temp/tmpflrotzcg/tmpwvdad37n.stan', line 168, column 4 to column 91)\n",
      "\tException: Exception: Exception: Phi: x is nan, but must be not nan! (in 'C:/Users/Lenovo/AppData/Local/Temp/tmpflrotzcg/tmpwvdad37n.stan', line 13, column 8 to column 72) (in 'C:/Users/Lenovo/AppData/Local/Temp/tmpflrotzcg/tmpwvdad37n.stan', line 34, column 20 to column 68) (in 'C:/Users/Lenovo/AppData/Local/Temp/tmpflrotzcg/tmpwvdad37n.stan', line 168, column 4 to column 91)\n",
      "Exception: Exception: Exception: Phi: x is nan, but must be not nan! (in 'C:/Users/Lenovo/AppData/Local/Temp/tmpflrotzcg/tmpwvdad37n.stan', line 13, column 8 to column 72) (in 'C:/Users/Lenovo/AppData/Local/Temp/tmpflrotzcg/tmpwvdad37n.stan', line 30, column 20 to column 74) (in 'C:/Users/Lenovo/AppData/Local/Temp/tmpflrotzcg/tmpwvdad37n.stan', line 168, column 4 to column 91)\n",
      "Consider re-running with show_console=True if the above output is unclear!\n"
     ]
    },
    {
     "name": "stdout",
     "output_type": "stream",
     "text": [
      "Chain [2] \n",
      "Chain [2] Elapsed Time: 222.277 seconds (Warm-up)\n",
      "Chain [2] 188.244 seconds (Sampling)\n",
      "Chain [2] 410.521 seconds (Total)\n",
      "Chain [2] \n",
      "Chain [2] \n",
      "Chain [2] \n",
      "Chain [2] \n",
      "Chain [2] \n"
     ]
    },
    {
     "name": "stderr",
     "output_type": "stream",
     "text": [
      "13:23:25 - cmdstanpy - WARNING - Some chains may have failed to converge.\n",
      "\tChain 1 had 5 divergent transitions (2.0%)\n",
      "\tChain 2 had 2 divergent transitions (0.8%)\n",
      "\tUse function \"diagnose()\" to see further information.\n"
     ]
    }
   ],
   "source": [
    "fit = rdm_model.sample(data=data_dict,\n",
    "                       iter_sampling=n_sample, \n",
    "                       iter_warmup=n_warmup,\n",
    "                       chains=n_chains,\n",
    "                       output_dir=stan_output_dir,\n",
    "                       show_console=True)"
   ]
  },
  {
   "cell_type": "markdown",
   "id": "10d7bfe3-f4b0-4c5e-b38a-da896fc9910a",
   "metadata": {},
   "source": [
    "## Model diagnostics"
   ]
  },
  {
   "cell_type": "code",
   "execution_count": 18,
   "id": "83b4b9f0",
   "metadata": {
    "colab": {
     "background_save": true
    },
    "id": "a8e1d56e-e7e4-4ca1-a0bd-5b34edf6ea44"
   },
   "outputs": [
    {
     "name": "stdout",
     "output_type": "stream",
     "text": [
      "***hmc diagnostics:\n",
      "Processing csv files: D:\\Cognitive modeling And ML\\Thesis\\ANN-EAM\\stan_results\\RDM_cd\\RDM_cd-20220908131633_1.csv, D:\\Cognitive modeling And ML\\Thesis\\ANN-EAM\\stan_results\\RDM_cd\\RDM_cd-20220908131633_2.csv\n",
      "\n",
      "Checking sampler transitions treedepth.\n",
      "Treedepth satisfactory for all transitions.\n",
      "\n",
      "Checking sampler transitions for divergences.\n",
      "7 of 500 (1.40%) transitions ended with a divergence.\n",
      "These divergent transitions indicate that HMC is not fully able to explore the posterior distribution.\n",
      "Try increasing adapt delta closer to 1.\n",
      "If this doesn't remove all divergences, try to reparameterize the model.\n",
      "\n",
      "Checking E-BFMI - sampler transitions HMC potential energy.\n",
      "E-BFMI satisfactory.\n",
      "\n",
      "Effective sample size satisfactory.\n",
      "\n",
      "Split R-hat values satisfactory all parameters.\n",
      "\n",
      "Processing complete.\n",
      "\n"
     ]
    }
   ],
   "source": [
    "print(\"***hmc diagnostics:\")\n",
    "print(fit.diagnose(), flush=True)"
   ]
  },
  {
   "cell_type": "code",
   "execution_count": 19,
   "id": "b033c45b",
   "metadata": {
    "colab": {
     "background_save": true
    },
    "id": "efa2a6ff-ad48-4c7e-a094-4c645923644e"
   },
   "outputs": [
    {
     "name": "stdout",
     "output_type": "stream",
     "text": [
      "***DF: \n"
     ]
    },
    {
     "data": {
      "text/html": [
       "<div>\n",
       "<style scoped>\n",
       "    .dataframe tbody tr th:only-of-type {\n",
       "        vertical-align: middle;\n",
       "    }\n",
       "\n",
       "    .dataframe tbody tr th {\n",
       "        vertical-align: top;\n",
       "    }\n",
       "\n",
       "    .dataframe thead th {\n",
       "        text-align: right;\n",
       "    }\n",
       "</style>\n",
       "<table border=\"1\" class=\"dataframe\">\n",
       "  <thead>\n",
       "    <tr style=\"text-align: right;\">\n",
       "      <th></th>\n",
       "      <th>Mean</th>\n",
       "      <th>MCSE</th>\n",
       "      <th>StdDev</th>\n",
       "      <th>5%</th>\n",
       "      <th>50%</th>\n",
       "      <th>95%</th>\n",
       "      <th>N_Eff</th>\n",
       "      <th>N_Eff/s</th>\n",
       "      <th>R_hat</th>\n",
       "    </tr>\n",
       "  </thead>\n",
       "  <tbody>\n",
       "    <tr>\n",
       "      <th>lp__</th>\n",
       "      <td>-890.514000</td>\n",
       "      <td>0.528387</td>\n",
       "      <td>6.670630</td>\n",
       "      <td>-902.115000</td>\n",
       "      <td>-890.255000</td>\n",
       "      <td>-879.676000</td>\n",
       "      <td>159.378</td>\n",
       "      <td>0.443206</td>\n",
       "      <td>0.99735</td>\n",
       "    </tr>\n",
       "    <tr>\n",
       "      <th>mu_ndt</th>\n",
       "      <td>-0.127686</td>\n",
       "      <td>0.016719</td>\n",
       "      <td>0.269447</td>\n",
       "      <td>-0.573059</td>\n",
       "      <td>-0.121420</td>\n",
       "      <td>0.304181</td>\n",
       "      <td>259.729</td>\n",
       "      <td>0.722267</td>\n",
       "      <td>1.00500</td>\n",
       "    </tr>\n",
       "    <tr>\n",
       "      <th>mu_threshold_word</th>\n",
       "      <td>1.050970</td>\n",
       "      <td>0.017295</td>\n",
       "      <td>0.297934</td>\n",
       "      <td>0.527809</td>\n",
       "      <td>1.066070</td>\n",
       "      <td>1.516480</td>\n",
       "      <td>296.746</td>\n",
       "      <td>0.825205</td>\n",
       "      <td>1.00127</td>\n",
       "    </tr>\n",
       "    <tr>\n",
       "      <th>mu_threshold_nonword</th>\n",
       "      <td>1.452040</td>\n",
       "      <td>0.023684</td>\n",
       "      <td>0.359313</td>\n",
       "      <td>0.841885</td>\n",
       "      <td>1.481220</td>\n",
       "      <td>1.989040</td>\n",
       "      <td>230.169</td>\n",
       "      <td>0.640063</td>\n",
       "      <td>1.00475</td>\n",
       "    </tr>\n",
       "    <tr>\n",
       "      <th>mu_drift_word[1]</th>\n",
       "      <td>3.110250</td>\n",
       "      <td>0.036265</td>\n",
       "      <td>0.502603</td>\n",
       "      <td>2.222010</td>\n",
       "      <td>3.153850</td>\n",
       "      <td>3.870580</td>\n",
       "      <td>192.075</td>\n",
       "      <td>0.534130</td>\n",
       "      <td>1.00783</td>\n",
       "    </tr>\n",
       "    <tr>\n",
       "      <th>...</th>\n",
       "      <td>...</td>\n",
       "      <td>...</td>\n",
       "      <td>...</td>\n",
       "      <td>...</td>\n",
       "      <td>...</td>\n",
       "      <td>...</td>\n",
       "      <td>...</td>\n",
       "      <td>...</td>\n",
       "      <td>...</td>\n",
       "    </tr>\n",
       "    <tr>\n",
       "      <th>log_lik[2216]</th>\n",
       "      <td>-0.238072</td>\n",
       "      <td>0.002948</td>\n",
       "      <td>0.062858</td>\n",
       "      <td>-0.341806</td>\n",
       "      <td>-0.237624</td>\n",
       "      <td>-0.136133</td>\n",
       "      <td>454.770</td>\n",
       "      <td>1.264640</td>\n",
       "      <td>1.00649</td>\n",
       "    </tr>\n",
       "    <tr>\n",
       "      <th>log_lik[2217]</th>\n",
       "      <td>-0.452047</td>\n",
       "      <td>0.002506</td>\n",
       "      <td>0.059768</td>\n",
       "      <td>-0.543504</td>\n",
       "      <td>-0.453615</td>\n",
       "      <td>-0.352257</td>\n",
       "      <td>569.020</td>\n",
       "      <td>1.582360</td>\n",
       "      <td>1.00608</td>\n",
       "    </tr>\n",
       "    <tr>\n",
       "      <th>log_lik[2218]</th>\n",
       "      <td>-3.649160</td>\n",
       "      <td>0.009221</td>\n",
       "      <td>0.197713</td>\n",
       "      <td>-4.001610</td>\n",
       "      <td>-3.646140</td>\n",
       "      <td>-3.333000</td>\n",
       "      <td>459.749</td>\n",
       "      <td>1.278490</td>\n",
       "      <td>1.00451</td>\n",
       "    </tr>\n",
       "    <tr>\n",
       "      <th>log_lik[2219]</th>\n",
       "      <td>0.192105</td>\n",
       "      <td>0.005860</td>\n",
       "      <td>0.135806</td>\n",
       "      <td>-0.044668</td>\n",
       "      <td>0.198829</td>\n",
       "      <td>0.408537</td>\n",
       "      <td>537.020</td>\n",
       "      <td>1.493370</td>\n",
       "      <td>1.00034</td>\n",
       "    </tr>\n",
       "    <tr>\n",
       "      <th>log_lik[2220]</th>\n",
       "      <td>-1.366440</td>\n",
       "      <td>0.010953</td>\n",
       "      <td>0.210508</td>\n",
       "      <td>-1.725020</td>\n",
       "      <td>-1.356170</td>\n",
       "      <td>-1.033410</td>\n",
       "      <td>369.342</td>\n",
       "      <td>1.027080</td>\n",
       "      <td>1.00682</td>\n",
       "    </tr>\n",
       "  </tbody>\n",
       "</table>\n",
       "<p>13438 rows × 9 columns</p>\n",
       "</div>"
      ],
      "text/plain": [
       "                            Mean      MCSE    StdDev          5%         50%  \\\n",
       "lp__                 -890.514000  0.528387  6.670630 -902.115000 -890.255000   \n",
       "mu_ndt                 -0.127686  0.016719  0.269447   -0.573059   -0.121420   \n",
       "mu_threshold_word       1.050970  0.017295  0.297934    0.527809    1.066070   \n",
       "mu_threshold_nonword    1.452040  0.023684  0.359313    0.841885    1.481220   \n",
       "mu_drift_word[1]        3.110250  0.036265  0.502603    2.222010    3.153850   \n",
       "...                          ...       ...       ...         ...         ...   \n",
       "log_lik[2216]          -0.238072  0.002948  0.062858   -0.341806   -0.237624   \n",
       "log_lik[2217]          -0.452047  0.002506  0.059768   -0.543504   -0.453615   \n",
       "log_lik[2218]          -3.649160  0.009221  0.197713   -4.001610   -3.646140   \n",
       "log_lik[2219]           0.192105  0.005860  0.135806   -0.044668    0.198829   \n",
       "log_lik[2220]          -1.366440  0.010953  0.210508   -1.725020   -1.356170   \n",
       "\n",
       "                             95%    N_Eff   N_Eff/s    R_hat  \n",
       "lp__                 -879.676000  159.378  0.443206  0.99735  \n",
       "mu_ndt                  0.304181  259.729  0.722267  1.00500  \n",
       "mu_threshold_word       1.516480  296.746  0.825205  1.00127  \n",
       "mu_threshold_nonword    1.989040  230.169  0.640063  1.00475  \n",
       "mu_drift_word[1]        3.870580  192.075  0.534130  1.00783  \n",
       "...                          ...      ...       ...      ...  \n",
       "log_lik[2216]          -0.136133  454.770  1.264640  1.00649  \n",
       "log_lik[2217]          -0.352257  569.020  1.582360  1.00608  \n",
       "log_lik[2218]          -3.333000  459.749  1.278490  1.00451  \n",
       "log_lik[2219]           0.408537  537.020  1.493370  1.00034  \n",
       "log_lik[2220]          -1.033410  369.342  1.027080  1.00682  \n",
       "\n",
       "[13438 rows x 9 columns]"
      ]
     },
     "execution_count": 19,
     "metadata": {},
     "output_type": "execute_result"
    }
   ],
   "source": [
    "df = fit.summary()\n",
    "\n",
    "print(\"***DF: \")\n",
    "df"
   ]
  },
  {
   "cell_type": "code",
   "execution_count": 20,
   "id": "0302aa3b",
   "metadata": {
    "colab": {
     "background_save": true
    },
    "id": "b33a48e1-8c3b-4668-9e74-ba74c58e3bec",
    "scrolled": true
   },
   "outputs": [
    {
     "name": "stdout",
     "output_type": "stream",
     "text": [
      "***Rhat > 1.01: \n",
      "219\n"
     ]
    }
   ],
   "source": [
    "counter = 0\n",
    "print(\"***Rhat > 1.01: \")\n",
    "for f in df[\"R_hat\"]:\n",
    "    if f >= 1.01 or f <= 0.9:\n",
    "        counter+=1\n",
    "print(counter)"
   ]
  },
  {
   "cell_type": "code",
   "execution_count": 21,
   "id": "54606c2d",
   "metadata": {
    "colab": {
     "background_save": true
    },
    "id": "681ed2bf-2a28-4a8b-90d0-24b9fede846f"
   },
   "outputs": [
    {
     "data": {
      "text/html": [
       "<div>\n",
       "<style scoped>\n",
       "    .dataframe tbody tr th:only-of-type {\n",
       "        vertical-align: middle;\n",
       "    }\n",
       "\n",
       "    .dataframe tbody tr th {\n",
       "        vertical-align: top;\n",
       "    }\n",
       "\n",
       "    .dataframe thead th {\n",
       "        text-align: right;\n",
       "    }\n",
       "</style>\n",
       "<table border=\"1\" class=\"dataframe\">\n",
       "  <thead>\n",
       "    <tr style=\"text-align: right;\">\n",
       "      <th></th>\n",
       "      <th>Mean</th>\n",
       "      <th>MCSE</th>\n",
       "      <th>StdDev</th>\n",
       "      <th>5%</th>\n",
       "      <th>50%</th>\n",
       "      <th>95%</th>\n",
       "      <th>N_Eff</th>\n",
       "      <th>N_Eff/s</th>\n",
       "      <th>R_hat</th>\n",
       "    </tr>\n",
       "  </thead>\n",
       "  <tbody>\n",
       "    <tr>\n",
       "      <th>sd_drift_nonword[1]</th>\n",
       "      <td>1.320420</td>\n",
       "      <td>0.096693</td>\n",
       "      <td>0.683450</td>\n",
       "      <td>0.261981</td>\n",
       "      <td>1.262300</td>\n",
       "      <td>2.446900</td>\n",
       "      <td>49.9597</td>\n",
       "      <td>0.138930</td>\n",
       "      <td>1.04416</td>\n",
       "    </tr>\n",
       "    <tr>\n",
       "      <th>z_drift_nonword[5,1]</th>\n",
       "      <td>-0.533857</td>\n",
       "      <td>0.037552</td>\n",
       "      <td>0.740562</td>\n",
       "      <td>-1.810050</td>\n",
       "      <td>-0.499619</td>\n",
       "      <td>0.604304</td>\n",
       "      <td>388.9190</td>\n",
       "      <td>1.081520</td>\n",
       "      <td>1.01487</td>\n",
       "    </tr>\n",
       "    <tr>\n",
       "      <th>drift_nonword_t[881]</th>\n",
       "      <td>1.290100</td>\n",
       "      <td>0.043923</td>\n",
       "      <td>0.520187</td>\n",
       "      <td>0.370630</td>\n",
       "      <td>1.319550</td>\n",
       "      <td>2.082720</td>\n",
       "      <td>140.2610</td>\n",
       "      <td>0.390045</td>\n",
       "      <td>1.02709</td>\n",
       "    </tr>\n",
       "    <tr>\n",
       "      <th>drift_nonword_t[891]</th>\n",
       "      <td>1.290100</td>\n",
       "      <td>0.043923</td>\n",
       "      <td>0.520187</td>\n",
       "      <td>0.370630</td>\n",
       "      <td>1.319550</td>\n",
       "      <td>2.082720</td>\n",
       "      <td>140.2610</td>\n",
       "      <td>0.390045</td>\n",
       "      <td>1.02709</td>\n",
       "    </tr>\n",
       "    <tr>\n",
       "      <th>drift_nonword_t[898]</th>\n",
       "      <td>1.290100</td>\n",
       "      <td>0.043923</td>\n",
       "      <td>0.520187</td>\n",
       "      <td>0.370630</td>\n",
       "      <td>1.319550</td>\n",
       "      <td>2.082720</td>\n",
       "      <td>140.2610</td>\n",
       "      <td>0.390045</td>\n",
       "      <td>1.02709</td>\n",
       "    </tr>\n",
       "    <tr>\n",
       "      <th>...</th>\n",
       "      <td>...</td>\n",
       "      <td>...</td>\n",
       "      <td>...</td>\n",
       "      <td>...</td>\n",
       "      <td>...</td>\n",
       "      <td>...</td>\n",
       "      <td>...</td>\n",
       "      <td>...</td>\n",
       "      <td>...</td>\n",
       "    </tr>\n",
       "    <tr>\n",
       "      <th>log_lik[1703]</th>\n",
       "      <td>-2.176430</td>\n",
       "      <td>0.005359</td>\n",
       "      <td>0.116886</td>\n",
       "      <td>-2.378360</td>\n",
       "      <td>-2.162630</td>\n",
       "      <td>-1.993510</td>\n",
       "      <td>475.6950</td>\n",
       "      <td>1.322840</td>\n",
       "      <td>1.01074</td>\n",
       "    </tr>\n",
       "    <tr>\n",
       "      <th>log_lik[1755]</th>\n",
       "      <td>-2.108980</td>\n",
       "      <td>0.005165</td>\n",
       "      <td>0.112833</td>\n",
       "      <td>-2.305870</td>\n",
       "      <td>-2.094680</td>\n",
       "      <td>-1.931120</td>\n",
       "      <td>477.2150</td>\n",
       "      <td>1.327060</td>\n",
       "      <td>1.01054</td>\n",
       "    </tr>\n",
       "    <tr>\n",
       "      <th>log_lik[1811]</th>\n",
       "      <td>-3.480960</td>\n",
       "      <td>0.020356</td>\n",
       "      <td>0.470069</td>\n",
       "      <td>-4.222390</td>\n",
       "      <td>-3.484390</td>\n",
       "      <td>-2.723260</td>\n",
       "      <td>533.2480</td>\n",
       "      <td>1.482880</td>\n",
       "      <td>1.01112</td>\n",
       "    </tr>\n",
       "    <tr>\n",
       "      <th>log_lik[2130]</th>\n",
       "      <td>-3.717590</td>\n",
       "      <td>0.024589</td>\n",
       "      <td>0.419042</td>\n",
       "      <td>-4.433890</td>\n",
       "      <td>-3.701660</td>\n",
       "      <td>-3.093420</td>\n",
       "      <td>290.4300</td>\n",
       "      <td>0.807639</td>\n",
       "      <td>1.01234</td>\n",
       "    </tr>\n",
       "    <tr>\n",
       "      <th>log_lik[2135]</th>\n",
       "      <td>-1.340170</td>\n",
       "      <td>0.005708</td>\n",
       "      <td>0.104531</td>\n",
       "      <td>-1.511970</td>\n",
       "      <td>-1.342660</td>\n",
       "      <td>-1.168050</td>\n",
       "      <td>335.3820</td>\n",
       "      <td>0.932645</td>\n",
       "      <td>1.01002</td>\n",
       "    </tr>\n",
       "  </tbody>\n",
       "</table>\n",
       "<p>219 rows × 9 columns</p>\n",
       "</div>"
      ],
      "text/plain": [
       "                          Mean      MCSE    StdDev        5%       50%  \\\n",
       "sd_drift_nonword[1]   1.320420  0.096693  0.683450  0.261981  1.262300   \n",
       "z_drift_nonword[5,1] -0.533857  0.037552  0.740562 -1.810050 -0.499619   \n",
       "drift_nonword_t[881]  1.290100  0.043923  0.520187  0.370630  1.319550   \n",
       "drift_nonword_t[891]  1.290100  0.043923  0.520187  0.370630  1.319550   \n",
       "drift_nonword_t[898]  1.290100  0.043923  0.520187  0.370630  1.319550   \n",
       "...                        ...       ...       ...       ...       ...   \n",
       "log_lik[1703]        -2.176430  0.005359  0.116886 -2.378360 -2.162630   \n",
       "log_lik[1755]        -2.108980  0.005165  0.112833 -2.305870 -2.094680   \n",
       "log_lik[1811]        -3.480960  0.020356  0.470069 -4.222390 -3.484390   \n",
       "log_lik[2130]        -3.717590  0.024589  0.419042 -4.433890 -3.701660   \n",
       "log_lik[2135]        -1.340170  0.005708  0.104531 -1.511970 -1.342660   \n",
       "\n",
       "                           95%     N_Eff   N_Eff/s    R_hat  \n",
       "sd_drift_nonword[1]   2.446900   49.9597  0.138930  1.04416  \n",
       "z_drift_nonword[5,1]  0.604304  388.9190  1.081520  1.01487  \n",
       "drift_nonword_t[881]  2.082720  140.2610  0.390045  1.02709  \n",
       "drift_nonword_t[891]  2.082720  140.2610  0.390045  1.02709  \n",
       "drift_nonword_t[898]  2.082720  140.2610  0.390045  1.02709  \n",
       "...                        ...       ...       ...      ...  \n",
       "log_lik[1703]        -1.993510  475.6950  1.322840  1.01074  \n",
       "log_lik[1755]        -1.931120  477.2150  1.327060  1.01054  \n",
       "log_lik[1811]        -2.723260  533.2480  1.482880  1.01112  \n",
       "log_lik[2130]        -3.093420  290.4300  0.807639  1.01234  \n",
       "log_lik[2135]        -1.168050  335.3820  0.932645  1.01002  \n",
       "\n",
       "[219 rows x 9 columns]"
      ]
     },
     "execution_count": 21,
     "metadata": {},
     "output_type": "execute_result"
    }
   ],
   "source": [
    "df.loc[df['R_hat']>1.01]"
   ]
  },
  {
   "cell_type": "code",
   "execution_count": 22,
   "id": "f0aa820a",
   "metadata": {
    "colab": {
     "background_save": true
    },
    "id": "a651e5b7-b7f1-4426-ae8e-f9e236eb6e91"
   },
   "outputs": [
    {
     "data": {
      "text/html": [
       "<div>\n",
       "<style scoped>\n",
       "    .dataframe tbody tr th:only-of-type {\n",
       "        vertical-align: middle;\n",
       "    }\n",
       "\n",
       "    .dataframe tbody tr th {\n",
       "        vertical-align: top;\n",
       "    }\n",
       "\n",
       "    .dataframe thead th {\n",
       "        text-align: right;\n",
       "    }\n",
       "</style>\n",
       "<table border=\"1\" class=\"dataframe\">\n",
       "  <thead>\n",
       "    <tr style=\"text-align: right;\">\n",
       "      <th></th>\n",
       "      <th>Mean</th>\n",
       "      <th>MCSE</th>\n",
       "      <th>StdDev</th>\n",
       "      <th>5%</th>\n",
       "      <th>50%</th>\n",
       "      <th>95%</th>\n",
       "      <th>N_Eff</th>\n",
       "      <th>N_Eff/s</th>\n",
       "      <th>R_hat</th>\n",
       "    </tr>\n",
       "  </thead>\n",
       "  <tbody>\n",
       "    <tr>\n",
       "      <th>count</th>\n",
       "      <td>219.000000</td>\n",
       "      <td>219.000000</td>\n",
       "      <td>219.000000</td>\n",
       "      <td>219.000000</td>\n",
       "      <td>219.000000</td>\n",
       "      <td>219.000000</td>\n",
       "      <td>219.000000</td>\n",
       "      <td>219.000000</td>\n",
       "      <td>219.000000</td>\n",
       "    </tr>\n",
       "    <tr>\n",
       "      <th>mean</th>\n",
       "      <td>0.418054</td>\n",
       "      <td>0.029382</td>\n",
       "      <td>0.379284</td>\n",
       "      <td>-0.211875</td>\n",
       "      <td>0.415529</td>\n",
       "      <td>1.027829</td>\n",
       "      <td>228.000634</td>\n",
       "      <td>0.634035</td>\n",
       "      <td>1.020162</td>\n",
       "    </tr>\n",
       "    <tr>\n",
       "      <th>std</th>\n",
       "      <td>1.311339</td>\n",
       "      <td>0.017044</td>\n",
       "      <td>0.161670</td>\n",
       "      <td>1.207435</td>\n",
       "      <td>1.313862</td>\n",
       "      <td>1.440747</td>\n",
       "      <td>107.470264</td>\n",
       "      <td>0.298858</td>\n",
       "      <td>0.007447</td>\n",
       "    </tr>\n",
       "    <tr>\n",
       "      <th>min</th>\n",
       "      <td>-6.271590</td>\n",
       "      <td>0.004774</td>\n",
       "      <td>0.104531</td>\n",
       "      <td>-7.518090</td>\n",
       "      <td>-6.218130</td>\n",
       "      <td>-5.205900</td>\n",
       "      <td>49.959700</td>\n",
       "      <td>0.138930</td>\n",
       "      <td>1.010010</td>\n",
       "    </tr>\n",
       "    <tr>\n",
       "      <th>25%</th>\n",
       "      <td>0.347552</td>\n",
       "      <td>0.014489</td>\n",
       "      <td>0.241712</td>\n",
       "      <td>0.024879</td>\n",
       "      <td>0.295746</td>\n",
       "      <td>0.797763</td>\n",
       "      <td>140.261000</td>\n",
       "      <td>0.390045</td>\n",
       "      <td>1.013360</td>\n",
       "    </tr>\n",
       "    <tr>\n",
       "      <th>50%</th>\n",
       "      <td>0.347552</td>\n",
       "      <td>0.043923</td>\n",
       "      <td>0.520187</td>\n",
       "      <td>0.024879</td>\n",
       "      <td>0.295746</td>\n",
       "      <td>0.797763</td>\n",
       "      <td>140.261000</td>\n",
       "      <td>0.390045</td>\n",
       "      <td>1.027090</td>\n",
       "    </tr>\n",
       "    <tr>\n",
       "      <th>75%</th>\n",
       "      <td>1.290100</td>\n",
       "      <td>0.043923</td>\n",
       "      <td>0.520187</td>\n",
       "      <td>0.370630</td>\n",
       "      <td>1.319550</td>\n",
       "      <td>2.082720</td>\n",
       "      <td>278.287000</td>\n",
       "      <td>0.773874</td>\n",
       "      <td>1.027090</td>\n",
       "    </tr>\n",
       "    <tr>\n",
       "      <th>max</th>\n",
       "      <td>1.320420</td>\n",
       "      <td>0.096693</td>\n",
       "      <td>0.740562</td>\n",
       "      <td>0.370630</td>\n",
       "      <td>1.319550</td>\n",
       "      <td>2.446900</td>\n",
       "      <td>533.248000</td>\n",
       "      <td>1.482880</td>\n",
       "      <td>1.044160</td>\n",
       "    </tr>\n",
       "  </tbody>\n",
       "</table>\n",
       "</div>"
      ],
      "text/plain": [
       "             Mean        MCSE      StdDev          5%         50%         95%  \\\n",
       "count  219.000000  219.000000  219.000000  219.000000  219.000000  219.000000   \n",
       "mean     0.418054    0.029382    0.379284   -0.211875    0.415529    1.027829   \n",
       "std      1.311339    0.017044    0.161670    1.207435    1.313862    1.440747   \n",
       "min     -6.271590    0.004774    0.104531   -7.518090   -6.218130   -5.205900   \n",
       "25%      0.347552    0.014489    0.241712    0.024879    0.295746    0.797763   \n",
       "50%      0.347552    0.043923    0.520187    0.024879    0.295746    0.797763   \n",
       "75%      1.290100    0.043923    0.520187    0.370630    1.319550    2.082720   \n",
       "max      1.320420    0.096693    0.740562    0.370630    1.319550    2.446900   \n",
       "\n",
       "            N_Eff     N_Eff/s       R_hat  \n",
       "count  219.000000  219.000000  219.000000  \n",
       "mean   228.000634    0.634035    1.020162  \n",
       "std    107.470264    0.298858    0.007447  \n",
       "min     49.959700    0.138930    1.010010  \n",
       "25%    140.261000    0.390045    1.013360  \n",
       "50%    140.261000    0.390045    1.027090  \n",
       "75%    278.287000    0.773874    1.027090  \n",
       "max    533.248000    1.482880    1.044160  "
      ]
     },
     "execution_count": 22,
     "metadata": {},
     "output_type": "execute_result"
    }
   ],
   "source": [
    "df.loc[df['R_hat']>1.01].describe()"
   ]
  },
  {
   "cell_type": "markdown",
   "id": "0b32ef5c",
   "metadata": {
    "id": "2743cc7e-7238-4f84-afe4-4b502770f62b",
    "tags": []
   },
   "source": [
    "## Check parameters"
   ]
  },
  {
   "cell_type": "markdown",
   "id": "62aaf784-e97d-4d81-bcb9-90e7eefff98f",
   "metadata": {},
   "source": [
    "Loading Model"
   ]
  },
  {
   "cell_type": "code",
   "execution_count": 23,
   "id": "0a33d647",
   "metadata": {
    "colab": {
     "background_save": true
    },
    "id": "d781cdef-a1c6-4af1-940c-824398ec7d2b"
   },
   "outputs": [],
   "source": [
    "# fit = cmdstanpy.from_csv(stan_output_dir)"
   ]
  },
  {
   "cell_type": "markdown",
   "id": "dc740f54-db93-410c-9e26-282710ef2024",
   "metadata": {},
   "source": [
    "Parameters posterior plots"
   ]
  },
  {
   "cell_type": "code",
   "execution_count": 24,
   "id": "67254033",
   "metadata": {
    "colab": {
     "background_save": true
    },
    "id": "48fc6630-74be-47a0-b387-ec99b9dc4b47"
   },
   "outputs": [
    {
     "data": {
      "image/png": "[encoded data removed]",
      "text/plain": [
       "<Figure size 1490.4x993.6 with 9 Axes>"
      ]
     },
     "metadata": {
      "needs_background": "light"
     },
     "output_type": "display_data"
    }
   ],
   "source": [
    "az.plot_posterior(fit, var_names=model_config['transf_params'], hdi_prob=.95);\n",
    "plt.savefig(plots_path + 'Parameters.pdf')"
   ]
  },
  {
   "cell_type": "markdown",
   "id": "6e49f9c5",
   "metadata": {},
   "source": [
    "Loading model parameters for each trial"
   ]
  },
  {
   "cell_type": "code",
   "execution_count": 25,
   "id": "133df71d",
   "metadata": {
    "colab": {
     "background_save": true
    },
    "id": "3539c070-29f7-422d-8c2e-1f7d44ef9246"
   },
   "outputs": [],
   "source": [
    "drift_word_t = fit.stan_variables()['drift_word_t']\n",
    "drift_nonword_t = fit.stan_variables()['drift_nonword_t']\n",
    "if model_config['model_name'] != \"RDM\":\n",
    "    threshold_t_word = fit.stan_variables()['threshold_t_word']\n",
    "    threshold_t_nonword = fit.stan_variables()['threshold_t_nonword']\n",
    "else:\n",
    "    threshold_t = fit.stan_variables()['threshold_t']\n",
    "ndt_t = fit.stan_variables()['ndt_t']"
   ]
  },
  {
   "cell_type": "markdown",
   "id": "deaeee5d-28e4-4b67-9d90-6d8ba5d39423",
   "metadata": {},
   "source": [
    "#### Models mean parameters in different conditions"
   ]
  },
  {
   "cell_type": "code",
   "execution_count": 26,
   "id": "c645f86a",
   "metadata": {
    "colab": {
     "background_save": true
    },
    "id": "3a247d68-c3af-49ef-91fd-ba4ea221358d"
   },
   "outputs": [],
   "source": [
    "HF_condition_w = drift_word_t[:, behavioural_df['category']==\"HF\"]\n",
    "HF_condition_nw = drift_nonword_t[:, behavioural_df['category']==\"HF\"]\n",
    "LF_condition_w = drift_word_t[:, behavioural_df['category']==\"LF\"]\n",
    "LF_condition_nw = drift_nonword_t[:, behavioural_df['category']==\"LF\"]\n",
    "NW_condition_w = drift_word_t[:, behavioural_df['category']==\"NW\"]\n",
    "NW_condition_nw = drift_nonword_t[:, behavioural_df['category']==\"NW\"]"
   ]
  },
  {
   "cell_type": "code",
   "execution_count": 27,
   "id": "278e000d",
   "metadata": {
    "colab": {
     "background_save": true
    },
    "id": "deac1183-5610-4a19-8ff8-7bace8d12e7c"
   },
   "outputs": [
    {
     "name": "stdout",
     "output_type": "stream",
     "text": [
      "HF words, word drift mean and std:\n",
      "3.31423785845805 0.1063724967562364\n",
      "HF words, nonword drift mean and std:\n",
      "0.621960352549279 0.18972371862387621\n",
      "LF words word drift mean and std:\n",
      "2.074140381269296 0.08656211210347467\n",
      "LF words nonword drift mean and std:\n",
      "1.1878702225979423 0.10638874219437076\n",
      "NW words word drift mean and std:\n",
      "0.3305418370385196 0.08042518790326361\n",
      "NW words nonword drift mean and std:\n",
      "2.5135407994314383 0.07377495440467703\n"
     ]
    }
   ],
   "source": [
    "print('HF words, word drift mean and std:')\n",
    "print(np.mean(np.mean(HF_condition_w, axis=1)), np.std(np.mean(HF_condition_w, axis=1)))\n",
    "print('HF words, nonword drift mean and std:')\n",
    "print(np.mean(np.mean(HF_condition_nw, axis=1)), np.std(np.mean(HF_condition_nw, axis=1)))\n",
    "print('LF words word drift mean and std:')\n",
    "print(np.mean(np.mean(LF_condition_w, axis=1)), np.std(np.mean(LF_condition_w, axis=1)))\n",
    "print('LF words nonword drift mean and std:')\n",
    "print(np.mean(np.mean(LF_condition_nw, axis=1)), np.std(np.mean(LF_condition_nw, axis=1)))\n",
    "print('NW words word drift mean and std:')\n",
    "print(np.mean(np.mean(NW_condition_w, axis=1)), np.std(np.mean(NW_condition_w, axis=1)))\n",
    "print('NW words nonword drift mean and std:')\n",
    "print(np.mean(np.mean(NW_condition_nw, axis=1)), np.std(np.mean(NW_condition_nw, axis=1)))"
   ]
  },
  {
   "cell_type": "code",
   "execution_count": 28,
   "id": "84308d46-e368-491f-8532-0f2b7b4f9966",
   "metadata": {
    "colab": {
     "background_save": true
    },
    "id": "3a247d68-c3af-49ef-91fd-ba4ea221358d"
   },
   "outputs": [],
   "source": [
    "if model_config['model_name'] != \"RDM\":\n",
    "    HF_condition_w = threshold_t_word[:, behavioural_df['category']==\"HF\"]\n",
    "    HF_condition_nw = threshold_t_nonword[:, behavioural_df['category']==\"HF\"]\n",
    "    LF_condition_w = threshold_t_word[:, behavioural_df['category']==\"LF\"]\n",
    "    LF_condition_nw = threshold_t_nonword[:, behavioural_df['category']==\"LF\"]\n",
    "    NW_condition_w = threshold_t_word[:, behavioural_df['category']==\"NW\"]\n",
    "    NW_condition_nw = threshold_t_nonword[:, behavioural_df['category']==\"NW\"]\n",
    "else:\n",
    "    HF_condition = threshold_t[:, behavioural_df['category']==\"HF\"]\n",
    "    LF_condition = threshold_t[:, behavioural_df['category']==\"LF\"]\n",
    "    NW_condition = threshold_t[:, behavioural_df['category']==\"NW\"]"
   ]
  },
  {
   "cell_type": "code",
   "execution_count": 29,
   "id": "f9d462da-a2d7-403e-9e79-1bcfd84251db",
   "metadata": {
    "colab": {
     "background_save": true
    },
    "id": "deac1183-5610-4a19-8ff8-7bace8d12e7c"
   },
   "outputs": [
    {
     "name": "stdout",
     "output_type": "stream",
     "text": [
      "HF words, word threshold mean and std:\n",
      "1.4551125191836736 0.058095798930433276\n",
      "HF words, nonword threshold mean and std:\n",
      "1.895573457464853 0.0671055833793444\n",
      "LF words word threshold mean and std:\n",
      "1.4297129090909095 0.056063101448381315\n",
      "LF words nonword threshold mean and std:\n",
      "1.86427029386964 0.06467796261099716\n",
      "NW words word threshold mean and std:\n",
      "1.437456208160536 0.056380627381414285\n",
      "NW words nonword threshold mean and std:\n",
      "1.8570369391789305 0.0643973355518894\n"
     ]
    }
   ],
   "source": [
    "if model_config['model_name'] != \"RDM\":\n",
    "    print('HF words, word threshold mean and std:')\n",
    "    print(np.mean(np.mean(HF_condition_w, axis=1)), np.std(np.mean(HF_condition_w, axis=1)))\n",
    "    print('HF words, nonword threshold mean and std:')\n",
    "    print(np.mean(np.mean(HF_condition_nw, axis=1)), np.std(np.mean(HF_condition_nw, axis=1)))\n",
    "    print('LF words word threshold mean and std:')\n",
    "    print(np.mean(np.mean(LF_condition_w, axis=1)), np.std(np.mean(LF_condition_w, axis=1)))\n",
    "    print('LF words nonword threshold mean and std:')\n",
    "    print(np.mean(np.mean(LF_condition_nw, axis=1)), np.std(np.mean(LF_condition_nw, axis=1)))\n",
    "    print('NW words word threshold mean and std:')\n",
    "    print(np.mean(np.mean(NW_condition_w, axis=1)), np.std(np.mean(NW_condition_w, axis=1)))\n",
    "    print('NW words nonword threshold mean and std:')\n",
    "    print(np.mean(np.mean(NW_condition_nw, axis=1)), np.std(np.mean(NW_condition_nw, axis=1)))\n",
    "else:\n",
    "    print('HF words, threshold mean and std:')\n",
    "    print(np.mean(np.mean(HF_condition, axis=1)), np.std(np.mean(HF_condition, axis=1)))\n",
    "    print('LF words, threshold mean and std:')\n",
    "    print(np.mean(np.mean(LF_condition, axis=1)), np.std(np.mean(LF_condition, axis=1)))\n",
    "    print('NW words, word threshold mean and std:')\n",
    "    print(np.mean(np.mean(NW_condition, axis=1)), np.std(np.mean(NW_condition, axis=1)))"
   ]
  },
  {
   "cell_type": "code",
   "execution_count": 30,
   "id": "914e74a9",
   "metadata": {
    "colab": {
     "background_save": true
    },
    "id": "06aceb06-2f53-47ae-b0f8-68d0c96f3cbf"
   },
   "outputs": [],
   "source": [
    "HF_condition = ndt_t[:, behavioural_df['category']==\"HF\"]\n",
    "LF_condition = ndt_t[:, behavioural_df['category']==\"LF\"]\n",
    "NW_condition = ndt_t[:, behavioural_df['category']==\"NW\"]"
   ]
  },
  {
   "cell_type": "code",
   "execution_count": 31,
   "id": "1eacfbe0",
   "metadata": {
    "colab": {
     "background_save": true
    },
    "id": "c7ff4f51-0587-4f7a-bf79-7bc1fe0951e2"
   },
   "outputs": [
    {
     "name": "stdout",
     "output_type": "stream",
     "text": [
      "HF words ndt_t mean and std:\n",
      "0.3393267408752835 0.012619022208655796\n",
      "LF words ndt_t mean and std:\n",
      "0.34811737300514584 0.012189022139998722\n",
      "Non Words ndt_t mean and std:\n",
      "0.3456087356471571 0.012272478476895898\n"
     ]
    }
   ],
   "source": [
    "print('HF words ndt_t mean and std:')\n",
    "print(np.mean(np.mean(HF_condition, axis=1)), np.std(np.mean(HF_condition, axis=1)))\n",
    "print('LF words ndt_t mean and std:')\n",
    "print(np.mean(np.mean(LF_condition, axis=1)), np.std(np.mean(LF_condition, axis=1)))\n",
    "print('Non Words ndt_t mean and std:')\n",
    "print(np.mean(np.mean(NW_condition, axis=1)), np.std(np.mean(NW_condition, axis=1)))"
   ]
  },
  {
   "cell_type": "markdown",
   "id": "3d64f181-de50-4bec-ad6a-9f0c7c95cea5",
   "metadata": {},
   "source": [
    "## Calculating metrics"
   ]
  },
  {
   "cell_type": "code",
   "execution_count": 32,
   "id": "b018e8df-553d-42b4-833c-d2f967b17ed1",
   "metadata": {},
   "outputs": [],
   "source": [
    "def calculate_waic(log_likelihood, pointwise=False):\n",
    "    \"\"\"\n",
    "    Returns model comparisions' metrics.\n",
    "    \n",
    "    Parameters\n",
    "    ----------\n",
    "        log_likelihood: np.array\n",
    "            log_likelihood of each trial\n",
    "        max_rt: float\n",
    "            maximum acceptable rt\n",
    "        min_rt: float\n",
    "             minimum acceptable rt\n",
    "             \n",
    "    Optional Parameters\n",
    "    ----------------\n",
    "    pointwise: float\n",
    "        if true pointwise waic will be calculated\n",
    "        \n",
    "    Returns\n",
    "    -------\n",
    "        out:  a dictionary containing lppd, waic, waic_se and pointwise_waic    \n",
    "    \"\"\"\n",
    "    likelihood = np.exp(log_likelihood)\n",
    "\n",
    "    mean_l = np.mean(likelihood, axis=0) # N observations\n",
    "\n",
    "    pointwise_lppd = np.log(mean_l)\n",
    "    lppd = np.sum(pointwise_lppd)\n",
    "\n",
    "    pointwise_var_l = np.var(log_likelihood, axis=0) # N observations\n",
    "    var_l = np.sum(pointwise_var_l)\n",
    "\n",
    "    pointwise_waic = - 2*pointwise_lppd +  2*pointwise_var_l\n",
    "    waic = -2*lppd + 2*var_l\n",
    "    waic_se = np.sqrt(log_likelihood.shape[1] * np.var(pointwise_waic))\n",
    "\n",
    "    if pointwise:\n",
    "        out = {'lppd':lppd,\n",
    "               'p_waic':var_l,\n",
    "               'waic':waic,\n",
    "               'waic_se':waic_se,\n",
    "               'pointwise_waic':pointwise_waic}\n",
    "    else:\n",
    "        out = {'lppd':lppd,\n",
    "               'p_waic':var_l,\n",
    "                'waic':waic,\n",
    "                'waic_se':waic_se}\n",
    "    return out"
   ]
  },
  {
   "cell_type": "code",
   "execution_count": 33,
   "id": "9beabf75-4cb8-49dc-b604-9f0adf32dfe4",
   "metadata": {},
   "outputs": [
    {
     "name": "stdout",
     "output_type": "stream",
     "text": [
      "{'lppd': -845.1954540557904, 'p_waic': 39.18832931710848, 'waic': 1768.7675667457977, 'waic_se': 108.2573844531626}\n"
     ]
    }
   ],
   "source": [
    "log_likelihood = fit.stan_variables()['log_lik']\n",
    "print(calculate_waic(log_likelihood))"
   ]
  },
  {
   "cell_type": "markdown",
   "id": "5a23772b-94de-40e6-88d6-f5a6aaefab64",
   "metadata": {},
   "source": [
    "## Simulating RDM with estimated parameters"
   ]
  },
  {
   "cell_type": "code",
   "execution_count": 34,
   "id": "737be2f5-fd9f-432a-a42f-c8bc89a28c7a",
   "metadata": {},
   "outputs": [],
   "source": [
    "def random_rdm_2A(cor_drift, inc_drift, threshold_word, threshold_nonword, ndt, noise_constant=1, dt=0.001, max_rt=10):\n",
    "    \"\"\" \n",
    "    Simulates behavior (rt and accuracy) according to the Racing Diffusion Model.\n",
    "     \n",
    "    Parameters\n",
    "    ----------\n",
    "    cor_drift : numpy.ndarray\n",
    "        Drift-rate of the Racing Diffusion Model - correct trials.\n",
    "    inc_drift : numpy.ndarray\n",
    "        Drift-rate of the Racing Diffusion Model - incorrect trials.\n",
    "    threshold : numpy.ndarray\n",
    "        Shape is usually (n_samples, n_trials).\n",
    "        Threshold of the diffusion decision model.\n",
    "    ndt : numpy.ndarray\n",
    "        Shape is usually (n_samples, n_trials).\n",
    "        Non decision time of the diffusion decision model, in seconds.\n",
    "    \n",
    "    Optional Parameters\n",
    "    ----------------\n",
    "    noise_constant : float, default 1\n",
    "        Scaling factor of the Racing Diffusion Model.\n",
    "        If changed, drift and threshold would be scaled accordingly.\n",
    "        Not to be changed in most applications.\n",
    "    dt : float, default 0.001\n",
    "        Controls the time resolution of the Racing Diffusion Model. Default is 1 msec.\n",
    "        Lower values of dt make the function more precise but much slower.\n",
    "    max_rt : float, default 10\n",
    "        Controls the maximum rts that can be predicted.\n",
    "        Making this higher might make the function a bit slower.\n",
    "    \n",
    "    Returns\n",
    "    -------\n",
    "    rt : numpy.ndarray\n",
    "        Shape is the same as the input parameters.\n",
    "        Contains simulated response times according to the Racing Diffusion Model.\n",
    "        Every element corresponds to the set of parameters given as input with the same shape.\n",
    "    acc: numpy.ndarray\n",
    "        Shape is the same as the input parameters.\n",
    "        Contains simulated accuracy according to the Racing Diffusion Model.\n",
    "        Every element corresponds to the set of parameters given as input with the same shape.\n",
    "    \"\"\"\n",
    "    shape = cor_drift.shape\n",
    "    acc = np.empty(shape)\n",
    "    rt = np.empty(shape)\n",
    "    acc[:] = np.nan\n",
    "    rt[:] = np.nan\n",
    "\n",
    "    max_tsteps = max_rt/dt\n",
    "\n",
    "    x_cor = np.zeros(shape)\n",
    "    x_inc = np.zeros(shape)\n",
    "\n",
    "    tstep = 0\n",
    "    ongoing = np.array(np.ones(shape), dtype=bool)\n",
    "\n",
    "    stop_race = False\n",
    "\n",
    "    while np.sum(ongoing) > 0 and tstep < max_tsteps:\n",
    "        x_cor[ongoing] += np.random.normal(cor_drift[ongoing]*dt,\n",
    "                                           noise_constant*np.sqrt(dt),\n",
    "                                           np.sum(ongoing))\n",
    "        x_inc[ongoing] += np.random.normal(inc_drift[ongoing]*dt,\n",
    "                                           noise_constant*np.sqrt(dt),\n",
    "                                           np.sum(ongoing))\n",
    "        tstep += 1\n",
    "        ended_correct = (x_cor >= threshold_word)\n",
    "        ended_incorrect = (x_inc >= threshold_nonword)\n",
    "\n",
    "        # store results and filter out ended trials\n",
    "        if np.sum(ended_correct) > 0:\n",
    "            acc[np.logical_and(ended_correct, ongoing)] = 1\n",
    "            rt[np.logical_and(ended_correct, ongoing)] = dt*tstep + ndt[np.logical_and(ended_correct, ongoing)]\n",
    "            ongoing[ended_correct] = False\n",
    "\n",
    "        if np.sum(ended_incorrect) > 0:\n",
    "            acc[np.logical_and(ended_incorrect, ongoing)] = 0\n",
    "            rt[np.logical_and(ended_incorrect, ongoing)] = dt*tstep + ndt[np.logical_and(ended_incorrect, ongoing)]\n",
    "            ongoing[ended_incorrect] = False\n",
    "    return rt, acc"
   ]
  },
  {
   "cell_type": "markdown",
   "id": "b867e05c-ebda-4bc3-ae51-e340e337344f",
   "metadata": {},
   "source": [
    "Simulating RDM with estimated parameters"
   ]
  },
  {
   "cell_type": "code",
   "execution_count": 35,
   "id": "f6786ed3-265f-4698-9a37-75d19e125806",
   "metadata": {},
   "outputs": [],
   "source": [
    "if model_config['model_name'] != \"RDM\":\n",
    "    pp_rt, pp_response = random_rdm_2A(drift_word_t, drift_nonword_t, threshold_t_word, threshold_t_nonword, ndt_t, noise_constant=1, dt=0.001, max_rt=5)\n",
    "else:\n",
    "    pp_rt, pp_response = random_rdm_2A(drift_word_t, drift_nonword_t, threshold_t, threshold_t, ndt_t, noise_constant=1, dt=0.001, max_rt=5)"
   ]
  },
  {
   "cell_type": "code",
   "execution_count": 36,
   "id": "c7183cf1-fc0e-436b-b607-9d821ef736f2",
   "metadata": {},
   "outputs": [],
   "source": [
    "def bci(x, alpha=0.05):\n",
    "    \"\"\"\n",
    "    Calculate Bayesian credible interval (BCI).\n",
    "    \n",
    "    Parameters\n",
    "    ----------\n",
    "    x : array-like\n",
    "        An array containing MCMC samples.\n",
    "    \n",
    "    Optional Parameters\n",
    "    -------------------\n",
    "    alpha : float, default 0.05\n",
    "        Desired probability of type I error.\n",
    "    \n",
    "    Returns\n",
    "    -------\n",
    "    interval : numpy.ndarray\n",
    "        Array containing the lower and upper bounds of the bci interval.\n",
    "    \"\"\"\n",
    "    interval = np.nanpercentile(x, [(alpha/2)*100, (1-alpha/2)*100])\n",
    "\n",
    "    return interval"
   ]
  },
  {
   "cell_type": "code",
   "execution_count": 37,
   "id": "b235c705-7301-4c3c-b906-5979789d606f",
   "metadata": {},
   "outputs": [],
   "source": [
    "# Predicted Data\n",
    "rt_predictions = pd.concat((pd.DataFrame(pp_rt, index=pd.Index(np.arange(1, len(pp_rt)+1))).T, behavioural_df['category']), axis=1)\n",
    "response_predictions = pd.concat((pd.DataFrame(pp_response, index=pd.Index(np.arange(1, len(pp_response)+1))).T, behavioural_df['category']), axis=1)\n",
    "\n",
    "# Experiment Data\n",
    "experiment_data = behavioural_df.loc[:, ['rt', 'response', 'category']]"
   ]
  },
  {
   "cell_type": "markdown",
   "id": "7fdd192d-bac0-4fdc-afd2-148b6a9ae332",
   "metadata": {},
   "source": [
    "Separating RT and Response of predicted and experimental data for each condition"
   ]
  },
  {
   "cell_type": "code",
   "execution_count": 38,
   "id": "cffd58c1-f474-4c7c-85d6-f26b16c77859",
   "metadata": {},
   "outputs": [],
   "source": [
    "HF_data = experiment_data.loc[experiment_data['category']=='HF']\n",
    "LF_data = experiment_data.loc[experiment_data['category']=='LF']\n",
    "NW_data = experiment_data.loc[experiment_data['category']=='NW']\n",
    "\n",
    "HF_pred_rt = rt_predictions.loc[rt_predictions['category']=='HF'].drop(['category'], axis=1)\n",
    "HF_pred_resp = response_predictions.loc[response_predictions['category']=='HF'].drop(['category'], axis=1)\n",
    "LF_pred_rt = rt_predictions.loc[rt_predictions['category']=='LF'].drop(['category'], axis=1)\n",
    "LF_pred_resp = response_predictions.loc[response_predictions['category']=='LF'].drop(['category'], axis=1)\n",
    "NW_pred_rt = rt_predictions.loc[rt_predictions['category']=='NW'].drop(['category'], axis=1)\n",
    "NW_pred_resp = response_predictions.loc[response_predictions['category']=='NW'].drop(['category'], axis=1)"
   ]
  },
  {
   "cell_type": "markdown",
   "id": "bc68071a-3121-47da-94c5-bae5db334c5c",
   "metadata": {
    "id": "defea622-f638-4a0e-a269-937234d4a49f",
    "tags": []
   },
   "source": [
    "## Quantiles Posterior Predictions"
   ]
  },
  {
   "cell_type": "code",
   "execution_count": 39,
   "id": "4378eb36-76cc-4a39-b2ed-643addccbc4d",
   "metadata": {},
   "outputs": [],
   "source": [
    "quantiles = [.1, .3, .5, .7, .9]\n",
    "percentiles = np.array(quantiles)*100"
   ]
  },
  {
   "cell_type": "code",
   "execution_count": 40,
   "id": "96001a51-55af-4f25-93c4-cdcc00556eb5",
   "metadata": {},
   "outputs": [],
   "source": [
    "# experiment Data quantile\n",
    "HF_quantile_ex = HF_data['rt'].quantile(quantiles)\n",
    "LF_quantile_ex = LF_data['rt'].quantile(quantiles)\n",
    "NW_quantile_ex = NW_data['rt'].quantile(quantiles)\n",
    "\n",
    "# predicted data quantiles (for each sample)\n",
    "HF_quantile_pred = HF_pred_rt.quantile(quantiles, axis=0).T\n",
    "LF_quantile_pred = LF_pred_rt.quantile(quantiles, axis=0).T\n",
    "NW_quantile_pred = NW_pred_rt.quantile(quantiles, axis=0).T\n",
    "\n",
    "# predicted data quantiles bci\n",
    "HF_predicted_bci = np.array([bci(HF_quantile_pred[x]) for x in quantiles])\n",
    "LF_predicted_bci = np.array([bci(LF_quantile_pred[x]) for x in quantiles])\n",
    "NW_predicted_bci = np.array([bci(NW_quantile_pred[x]) for x in quantiles])"
   ]
  },
  {
   "cell_type": "code",
   "execution_count": 41,
   "id": "3e40fa75-a52a-45f9-8f44-b6097ff621e7",
   "metadata": {},
   "outputs": [
    {
     "data": {
      "image/png": "[encoded data removed]",
      "text/plain": [
       "<Figure size 2520x576 with 3 Axes>"
      ]
     },
     "metadata": {
      "needs_background": "light"
     },
     "output_type": "display_data"
    }
   ],
   "source": [
    "fig, axes = plt.subplots(1,3 , figsize=(35,8))\n",
    "plt.subplots_adjust(wspace=0.2, hspace=0.5)\n",
    "\n",
    "axes[0].set_title('HF quantiles', fontweight=\"bold\", size=20)\n",
    "axes[1].set_title('LF quantiles', fontweight=\"bold\", size=20)\n",
    "axes[2].set_title('NW quantiles', fontweight=\"bold\", size=20)\n",
    "\n",
    "axes[0].scatter(quantiles, HF_quantile_ex, color='black', s=150)\n",
    "axes[1].scatter(quantiles, LF_quantile_ex, color='black', s=150)\n",
    "axes[2].scatter(quantiles, NW_quantile_ex, color='black', s=150)\n",
    "\n",
    "axes[0].fill_between(quantiles,\n",
    "                HF_predicted_bci[:, 0],\n",
    "                HF_predicted_bci[:, 1],\n",
    "                HF_predicted_bci[:, 0] < HF_predicted_bci[:, 1],  color = 'gold', alpha=0.3)\n",
    "\n",
    "axes[1].fill_between(quantiles,\n",
    "                LF_predicted_bci[:, 0],\n",
    "                LF_predicted_bci[:, 1],\n",
    "                LF_predicted_bci[:, 0] < LF_predicted_bci[:, 1],  color = 'lightskyblue', alpha=0.3)\n",
    "\n",
    "axes[2].fill_between(quantiles,\n",
    "                NW_predicted_bci[:, 0],\n",
    "                NW_predicted_bci[:, 1],\n",
    "                NW_predicted_bci[:, 0] < NW_predicted_bci[:, 1],  color = 'limegreen', alpha=0.3)\n",
    "\n",
    "\n",
    "for ax in axes:\n",
    "        ax.set_xlabel('Quantiles', fontsize=20)\n",
    "        ax.set_xticks(quantiles)\n",
    "        ax.set_xticklabels(quantiles)\n",
    "        ax.set_ylabel('RTs upper boundary', fontsize=20)\n",
    "        for tick in ax.xaxis.get_major_ticks():\n",
    "                tick.label.set_fontsize(16)\n",
    "        for tick in ax.yaxis.get_major_ticks():\n",
    "            tick.label.set_fontsize(16) \n",
    "\n",
    "sns.despine()\n",
    "plt.savefig(plots_path + 'Quantiles Poseterior.pdf')"
   ]
  },
  {
   "cell_type": "markdown",
   "id": "9d335303-115f-4be3-b5b9-44db89033c76",
   "metadata": {
    "tags": []
   },
   "source": [
    "## Mean Accuracy and RT Posterior Plots"
   ]
  },
  {
   "cell_type": "code",
   "execution_count": 42,
   "id": "9d60fb04-d913-45b7-aa6b-86aac6e69dfb",
   "metadata": {},
   "outputs": [],
   "source": [
    "HF_data_rt_mean = HF_data['rt'].mean()\n",
    "LF_data_rt_mean = LF_data['rt'].mean()\n",
    "NW_data_rt_mean = NW_data['rt'].mean()\n",
    "\n",
    "HF_pred_rt_mean = HF_pred_rt.mean(axis=0)\n",
    "LF_pred_rt_mean = LF_pred_rt.mean(axis=0)\n",
    "NW_pred_rt_mean = NW_pred_rt.mean(axis=0)\n",
    "\n",
    "\n",
    "HF_data_resp_mean = HF_data['response'].mean()\n",
    "LF_data_resp_mean = LF_data['response'].mean()\n",
    "NW_data_resp_mean = NW_data['response'].mean()\n",
    "\n",
    "HF_pred_resp_mean = HF_pred_resp.mean(axis=0)\n",
    "LF_pred_resp_mean = LF_pred_resp.mean(axis=0)\n",
    "NW_pred_resp_mean = NW_pred_resp.mean(axis=0)\n"
   ]
  },
  {
   "cell_type": "code",
   "execution_count": 43,
   "id": "b28be60d-fa47-4f5b-bb8e-3e9ea312239c",
   "metadata": {},
   "outputs": [],
   "source": [
    "def plot_posterior(x, data_mean, ax):\n",
    "    \"\"\"\n",
    "    Plots the posterior of x with experimental data mean as a line\n",
    "    \n",
    "    Parameters\n",
    "    ----------\n",
    "    x : array-like\n",
    "        An array containing RT or response for each trial.\n",
    "        \n",
    "    x : float\n",
    "        mean of RT or Accuracy of experimental data.\n",
    "\n",
    "    ax : matplotlib.axes.Axes\n",
    "        \n",
    "    Returns\n",
    "    -------\n",
    "    None\n",
    "    \"\"\"\n",
    "    density = gaussian_kde(x, bw_method='scott')\n",
    "    xd = np.linspace(x.min(), x.max())\n",
    "    yd = density(xd)\n",
    "\n",
    "    low, high = bci(x)\n",
    "    ax.fill_between(xd[np.logical_and(xd >= low, xd <= high)],\n",
    "                     yd[np.logical_and(xd >= low, xd <= high)], color = 'lightsteelblue')\n",
    "\n",
    "    ax.plot(xd, yd, color='slategray')\n",
    "    ax.axvline(data_mean, color='red')"
   ]
  },
  {
   "cell_type": "code",
   "execution_count": 44,
   "id": "e60ee9b7-ea0d-4ef3-8ba8-8591e9bb437c",
   "metadata": {},
   "outputs": [
    {
     "data": {
      "image/png": "[encoded data removed]",
      "text/plain": [
       "<Figure size 1080x1440 with 6 Axes>"
      ]
     },
     "metadata": {
      "needs_background": "light"
     },
     "output_type": "display_data"
    }
   ],
   "source": [
    "fig, axes = plt.subplots(3,2 , figsize=(15,20))\n",
    "plt.subplots_adjust(wspace=0.3, hspace=0.5)\n",
    "\n",
    "axes[0][0].set_title('HF mean RT', fontweight=\"bold\", size=16)\n",
    "axes[0][1].set_title('HF mean Response', fontweight=\"bold\", size=16)\n",
    "axes[1][0].set_title('LF mean RT', fontweight=\"bold\", size=16)\n",
    "axes[1][1].set_title('LF mean Response', fontweight=\"bold\", size=16)\n",
    "axes[2][0].set_title('NW mean RT', fontweight=\"bold\", size=16)\n",
    "axes[2][1].set_title('NW mean Response', fontweight=\"bold\", size=16)\n",
    "\n",
    "plot_posterior(HF_pred_rt_mean, HF_data_rt_mean, axes[0][0])\n",
    "plot_posterior(HF_pred_resp_mean, HF_data_resp_mean, axes[0][1])\n",
    "\n",
    "plot_posterior(LF_pred_rt_mean, LF_data_rt_mean, axes[1][0])\n",
    "plot_posterior(LF_pred_resp_mean, LF_data_resp_mean, axes[1][1])\n",
    "\n",
    "plot_posterior(NW_pred_rt_mean, NW_data_rt_mean, axes[2][0])\n",
    "plot_posterior(NW_pred_resp_mean, NW_data_resp_mean, axes[2][1])\n",
    "\n",
    "for ax in axes:\n",
    "        ax[0].set_xlabel('RT', fontsize=15)\n",
    "        ax[1].set_xlabel('Accuracy', fontsize=15)\n",
    "        ax[0].set_ylabel('Density', fontsize=15)\n",
    "        ax[1].set_ylabel('Density', fontsize=15)\n",
    "        for tick in ax[0].xaxis.get_major_ticks():\n",
    "                tick.label.set_fontsize(13)\n",
    "        for tick in ax[0].yaxis.get_major_ticks():\n",
    "            tick.label.set_fontsize(13)\n",
    "        for tick in ax[1].xaxis.get_major_ticks():\n",
    "            tick.label.set_fontsize(13)\n",
    "        for tick in ax[1].yaxis.get_major_ticks():\n",
    "            tick.label.set_fontsize(13) \n",
    "\n",
    "plt.savefig(plots_path + 'Mean Accuracy and RT.pdf')"
   ]
  }
 ],
 "metadata": {
  "colab": {
   "collapsed_sections": [],
   "name": "Estimation_Hier.ipynb",
   "version": ""
  },
  "kernelspec": {
   "display_name": "cmdstan",
   "language": "python",
   "name": "cmdstan"
  },
  "language_info": {
   "codemirror_mode": {
    "name": "ipython",
    "version": 3
   },
   "file_extension": ".py",
   "mimetype": "text/x-python",
   "name": "python",
   "nbconvert_exporter": "python",
   "pygments_lexer": "ipython3",
   "version": "3.10.4"
  }
 },
 "nbformat": 4,
 "nbformat_minor": 5
}
