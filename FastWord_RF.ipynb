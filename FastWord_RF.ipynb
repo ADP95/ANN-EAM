{
 "cells": [
  {
   "cell_type": "markdown",
   "metadata": {
    "id": "vRSMuj5HfD-S"
   },
   "source": [
    "# Connect To Drive"
   ]
  },
  {
   "cell_type": "code",
   "execution_count": null,
   "metadata": {
    "colab": {
     "base_uri": "https://localhost:8080/"
    },
    "executionInfo": {
     "elapsed": 26504,
     "status": "ok",
     "timestamp": 1662026770282,
     "user": {
      "displayName": "Mahvash Siavashpour",
      "userId": "18425997334276185054"
     },
     "user_tz": -270
    },
    "id": "Z_026v3GfAvi",
    "outputId": "d7f62fdf-3f34-4e38-958c-259885928ad7"
   },
   "outputs": [
    {
     "name": "stdout",
     "output_type": "stream",
     "text": [
      "Mounted at /content/drive\n"
     ]
    }
   ],
   "source": [
    "from google.colab import drive\n",
    "drive.mount('/content/drive')\n",
    "root = \"drive/MyDrive/CMP/\""
   ]
  },
  {
   "cell_type": "markdown",
   "metadata": {
    "id": "r-5D64zhkXgC"
   },
   "source": [
    "# Local"
   ]
  },
  {
   "cell_type": "code",
   "execution_count": 1,
   "metadata": {
    "id": "9QixMCNAkXgD"
   },
   "outputs": [],
   "source": [
    "root = './'"
   ]
  },
  {
   "cell_type": "markdown",
   "metadata": {
    "id": "lacOS41nHDgz"
   },
   "source": [
    "# Import Libraries"
   ]
  },
  {
   "cell_type": "code",
   "execution_count": 2,
   "metadata": {
    "id": "vOL87AhDoCrQ"
   },
   "outputs": [],
   "source": [
    "import numpy as np\n",
    "import pandas as pd\n",
    "import pickle\n",
    "import matplotlib.pyplot as plt\n",
    "import seaborn as sns\n",
    "from sklearn.model_selection import train_test_split, GridSearchCV\n",
    "from sklearn.ensemble import RandomForestClassifier\n",
    "from sklearn import metrics"
   ]
  },
  {
   "cell_type": "markdown",
   "metadata": {
    "id": "-dz6tNDJucOf",
    "tags": []
   },
   "source": [
    "# Data Preparation"
   ]
  },
  {
   "cell_type": "code",
   "execution_count": 3,
   "metadata": {
    "colab": {
     "base_uri": "https://localhost:8080/",
     "height": 206
    },
    "executionInfo": {
     "elapsed": 22379,
     "status": "ok",
     "timestamp": 1662026793858,
     "user": {
      "displayName": "Mahvash Siavashpour",
      "userId": "18425997334276185054"
     },
     "user_tz": -270
    },
    "id": "TFcCQ4MOki9A",
    "outputId": "aa4de0f7-3d27-4e85-8fe4-39717c72897f"
   },
   "outputs": [
    {
     "data": {
      "text/html": [
       "<div>\n",
       "<style scoped>\n",
       "    .dataframe tbody tr th:only-of-type {\n",
       "        vertical-align: middle;\n",
       "    }\n",
       "\n",
       "    .dataframe tbody tr th {\n",
       "        vertical-align: top;\n",
       "    }\n",
       "\n",
       "    .dataframe thead th {\n",
       "        text-align: right;\n",
       "    }\n",
       "</style>\n",
       "<table border=\"1\" class=\"dataframe\">\n",
       "  <thead>\n",
       "    <tr style=\"text-align: right;\">\n",
       "      <th></th>\n",
       "      <th>string</th>\n",
       "      <th>zipf</th>\n",
       "    </tr>\n",
       "  </thead>\n",
       "  <tbody>\n",
       "    <tr>\n",
       "      <th>0</th>\n",
       "      <td>a</td>\n",
       "      <td>7.309360</td>\n",
       "    </tr>\n",
       "    <tr>\n",
       "      <th>1</th>\n",
       "      <td>aa</td>\n",
       "      <td>3.236317</td>\n",
       "    </tr>\n",
       "    <tr>\n",
       "      <th>2</th>\n",
       "      <td>aaa</td>\n",
       "      <td>2.706807</td>\n",
       "    </tr>\n",
       "    <tr>\n",
       "      <th>3</th>\n",
       "      <td>aah</td>\n",
       "      <td>4.721425</td>\n",
       "    </tr>\n",
       "    <tr>\n",
       "      <th>4</th>\n",
       "      <td>aahed</td>\n",
       "      <td>1.592864</td>\n",
       "    </tr>\n",
       "  </tbody>\n",
       "</table>\n",
       "</div>"
      ],
      "text/plain": [
       "  string      zipf\n",
       "0      a  7.309360\n",
       "1     aa  3.236317\n",
       "2    aaa  2.706807\n",
       "3    aah  4.721425\n",
       "4  aahed  1.592864"
      ]
     },
     "execution_count": 3,
     "metadata": {},
     "output_type": "execute_result"
    }
   ],
   "source": [
    "# Loading subtlex data\n",
    "SUBTLEX_df = pd.read_excel(root+'Datasets/SUBTLEX_Zipf.xlsx')\n",
    "\n",
    "# renaming columns for latter merge use and dropping unneccery columns\n",
    "SUBTLEX_df.rename(columns={'Word':'string', 'Zipf-value': 'zipf'}, inplace=True)\n",
    "SUBTLEX_df.drop(SUBTLEX_df.columns[1:-1], axis=1, inplace=True)\n",
    "SUBTLEX_df.head()"
   ]
  },
  {
   "cell_type": "code",
   "execution_count": 4,
   "metadata": {
    "colab": {
     "base_uri": "https://localhost:8080/"
    },
    "executionInfo": {
     "elapsed": 17,
     "status": "ok",
     "timestamp": 1662026793859,
     "user": {
      "displayName": "Mahvash Siavashpour",
      "userId": "18425997334276185054"
     },
     "user_tz": -270
    },
    "id": "FTBnyXUIkkvk",
    "outputId": "9b8bc939-2b77-4ecc-d7f3-e7db0941c347"
   },
   "outputs": [
    {
     "data": {
      "text/plain": [
       "count    74286.000000\n",
       "mean         2.479172\n",
       "std          0.835829\n",
       "min          1.592864\n",
       "25%          1.768955\n",
       "50%          2.291834\n",
       "75%          2.954592\n",
       "max          7.621174\n",
       "Name: zipf, dtype: float64"
      ]
     },
     "execution_count": 4,
     "metadata": {},
     "output_type": "execute_result"
    }
   ],
   "source": [
    "SUBTLEX_df['zipf'].describe()"
   ]
  },
  {
   "cell_type": "code",
   "execution_count": 5,
   "metadata": {
    "id": "hNv5ha83kmjv"
   },
   "outputs": [],
   "source": [
    "def categorise_by_zipf(row):\n",
    "    \"\"\"\n",
    "    categorizing data string as High frequency word (HF),\n",
    "    Low frequency word (LF) and non-word (NW) by zipf value\n",
    "\n",
    "    Parameters\n",
    "    ----------\n",
    "        row: pandas series\n",
    "            pandas dataframe's row containing label and zipf column\n",
    "    \n",
    "    Returns:\n",
    "        category (str): HF, LF, NW\n",
    "    \"\"\"\n",
    "    category = ''\n",
    "    if row['label'] == 0:\n",
    "        category = 'NW'\n",
    "    elif row['label'] == 1 and row['zipf'] > 3:\n",
    "        category = 'HF'\n",
    "    else:\n",
    "        category = 'LF'\n",
    "    return category"
   ]
  },
  {
   "cell_type": "code",
   "execution_count": 6,
   "metadata": {
    "id": "t0fDCWmcseFM"
   },
   "outputs": [],
   "source": [
    "with open(root+'Datasets/FastText_V3/words_2M.pkl', 'rb') as f:\n",
    "  words = pickle.load(f)\n",
    "\n",
    "with open(root+'Datasets/FastText_V3/nonwords_2M.pkl', 'rb') as f:\n",
    "  nonwords = pickle.load(f)"
   ]
  },
  {
   "cell_type": "code",
   "execution_count": 7,
   "metadata": {
    "id": "KnkAOS_KqQTq"
   },
   "outputs": [],
   "source": [
    "for w in words:\n",
    "    w.insert(3, [1, 0])\n",
    "    w.insert(4, 1)\n",
    "\n",
    "for nw in nonwords:\n",
    "    nw.insert(1, 0)\n",
    "    nw.insert(3, [0, 1])\n",
    "    nw.insert(4, 0)"
   ]
  },
  {
   "cell_type": "code",
   "execution_count": 8,
   "metadata": {
    "id": "oHa1WvOhqQTr"
   },
   "outputs": [],
   "source": [
    "# loading elp words and non-words as seprate dataframes\n",
    "elp_words = pd.DataFrame(words, columns =['string', 'freq', 'represention', 'code', 'label'])\n",
    "elp_nonwords = pd.DataFrame(nonwords, columns =['string', 'freq', 'represention', 'code', 'label'])\n",
    "\n",
    "# mergeing elp words with subtlex words to get zipf for each elp words\n",
    "# elp words that does not have zipf will be droped\n",
    "elp_words = pd.merge(elp_words, SUBTLEX_df, on='string', how='left').dropna()\n",
    "elp_df = pd.concat([elp_words, elp_nonwords])\n",
    "\n",
    "# \n",
    "elp_df.fillna(0, inplace=True)\n",
    "elp_df['category'] = elp_df.apply(lambda row: categorise_by_zipf(row), axis=1)\n",
    "elp_df.drop_duplicates(subset=['string'], inplace=True)"
   ]
  },
  {
   "cell_type": "code",
   "execution_count": 9,
   "metadata": {
    "colab": {
     "base_uri": "https://localhost:8080/",
     "height": 206
    },
    "executionInfo": {
     "elapsed": 9,
     "status": "ok",
     "timestamp": 1662026800238,
     "user": {
      "displayName": "Mahvash Siavashpour",
      "userId": "18425997334276185054"
     },
     "user_tz": -270
    },
    "id": "3QR3OejAk3Ud",
    "outputId": "602beb73-200c-48f1-a232-e68061167109"
   },
   "outputs": [
    {
     "data": {
      "text/html": [
       "<div>\n",
       "<style scoped>\n",
       "    .dataframe tbody tr th:only-of-type {\n",
       "        vertical-align: middle;\n",
       "    }\n",
       "\n",
       "    .dataframe tbody tr th {\n",
       "        vertical-align: top;\n",
       "    }\n",
       "\n",
       "    .dataframe thead th {\n",
       "        text-align: right;\n",
       "    }\n",
       "</style>\n",
       "<table border=\"1\" class=\"dataframe\">\n",
       "  <thead>\n",
       "    <tr style=\"text-align: right;\">\n",
       "      <th></th>\n",
       "      <th>string</th>\n",
       "      <th>freq</th>\n",
       "      <th>represention</th>\n",
       "      <th>code</th>\n",
       "      <th>label</th>\n",
       "      <th>zipf</th>\n",
       "      <th>category</th>\n",
       "    </tr>\n",
       "  </thead>\n",
       "  <tbody>\n",
       "    <tr>\n",
       "      <th>20760</th>\n",
       "      <td>lor</td>\n",
       "      <td>0</td>\n",
       "      <td>[-0.045030273, -0.05562625, 0.15567032, 0.0186...</td>\n",
       "      <td>[0, 1]</td>\n",
       "      <td>0</td>\n",
       "      <td>0.000000</td>\n",
       "      <td>NW</td>\n",
       "    </tr>\n",
       "    <tr>\n",
       "      <th>12806</th>\n",
       "      <td>experts</td>\n",
       "      <td>12541</td>\n",
       "      <td>[-0.014544309, -0.07600844, -0.017677749, 0.01...</td>\n",
       "      <td>[1, 0]</td>\n",
       "      <td>1</td>\n",
       "      <td>3.832164</td>\n",
       "      <td>HF</td>\n",
       "    </tr>\n",
       "    <tr>\n",
       "      <th>12555</th>\n",
       "      <td>exaltation</td>\n",
       "      <td>128</td>\n",
       "      <td>[-0.021201905, 0.03545955, 0.038771104, 0.0078...</td>\n",
       "      <td>[1, 0]</td>\n",
       "      <td>1</td>\n",
       "      <td>1.893894</td>\n",
       "      <td>LF</td>\n",
       "    </tr>\n",
       "    <tr>\n",
       "      <th>11677</th>\n",
       "      <td>endewed</td>\n",
       "      <td>0</td>\n",
       "      <td>[-0.008008095, -0.01939942, 0.007530581, 0.001...</td>\n",
       "      <td>[0, 1]</td>\n",
       "      <td>0</td>\n",
       "      <td>0.000000</td>\n",
       "      <td>NW</td>\n",
       "    </tr>\n",
       "    <tr>\n",
       "      <th>3365</th>\n",
       "      <td>blunkers</td>\n",
       "      <td>0</td>\n",
       "      <td>[0.010598747, -0.039920278, 0.02145909, -0.000...</td>\n",
       "      <td>[0, 1]</td>\n",
       "      <td>0</td>\n",
       "      <td>0.000000</td>\n",
       "      <td>NW</td>\n",
       "    </tr>\n",
       "  </tbody>\n",
       "</table>\n",
       "</div>"
      ],
      "text/plain": [
       "           string   freq                                       represention  \\\n",
       "20760         lor      0  [-0.045030273, -0.05562625, 0.15567032, 0.0186...   \n",
       "12806     experts  12541  [-0.014544309, -0.07600844, -0.017677749, 0.01...   \n",
       "12555  exaltation    128  [-0.021201905, 0.03545955, 0.038771104, 0.0078...   \n",
       "11677     endewed      0  [-0.008008095, -0.01939942, 0.007530581, 0.001...   \n",
       "3365     blunkers      0  [0.010598747, -0.039920278, 0.02145909, -0.000...   \n",
       "\n",
       "         code  label      zipf category  \n",
       "20760  [0, 1]      0  0.000000       NW  \n",
       "12806  [1, 0]      1  3.832164       HF  \n",
       "12555  [1, 0]      1  1.893894       LF  \n",
       "11677  [0, 1]      0  0.000000       NW  \n",
       "3365   [0, 1]      0  0.000000       NW  "
      ]
     },
     "execution_count": 9,
     "metadata": {},
     "output_type": "execute_result"
    }
   ],
   "source": [
    "elp_df = elp_df.sample(frac=1.0)\n",
    "elp_df.head()"
   ]
  },
  {
   "cell_type": "code",
   "execution_count": 10,
   "metadata": {
    "id": "pS8ygbEWIqTo"
   },
   "outputs": [],
   "source": [
    "elp_df.drop_duplicates(subset=['string'], inplace=True)"
   ]
  },
  {
   "cell_type": "code",
   "execution_count": 11,
   "metadata": {
    "colab": {
     "base_uri": "https://localhost:8080/",
     "height": 175
    },
    "executionInfo": {
     "elapsed": 10,
     "status": "ok",
     "timestamp": 1662026800241,
     "user": {
      "displayName": "Mahvash Siavashpour",
      "userId": "18425997334276185054"
     },
     "user_tz": -270
    },
    "id": "WRWzUCnvBymE",
    "outputId": "08b74cde-2a2c-4d96-ca4c-158173cc9037"
   },
   "outputs": [
    {
     "data": {
      "text/html": [
       "<div>\n",
       "<style scoped>\n",
       "    .dataframe tbody tr th:only-of-type {\n",
       "        vertical-align: middle;\n",
       "    }\n",
       "\n",
       "    .dataframe tbody tr th {\n",
       "        vertical-align: top;\n",
       "    }\n",
       "\n",
       "    .dataframe thead th {\n",
       "        text-align: right;\n",
       "    }\n",
       "</style>\n",
       "<table border=\"1\" class=\"dataframe\">\n",
       "  <thead>\n",
       "    <tr style=\"text-align: right;\">\n",
       "      <th></th>\n",
       "      <th>string</th>\n",
       "      <th>freq</th>\n",
       "      <th>represention</th>\n",
       "      <th>code</th>\n",
       "      <th>label</th>\n",
       "      <th>zipf</th>\n",
       "    </tr>\n",
       "    <tr>\n",
       "      <th>category</th>\n",
       "      <th></th>\n",
       "      <th></th>\n",
       "      <th></th>\n",
       "      <th></th>\n",
       "      <th></th>\n",
       "      <th></th>\n",
       "    </tr>\n",
       "  </thead>\n",
       "  <tbody>\n",
       "    <tr>\n",
       "      <th>HF</th>\n",
       "      <td>14333</td>\n",
       "      <td>14333</td>\n",
       "      <td>14333</td>\n",
       "      <td>14333</td>\n",
       "      <td>14333</td>\n",
       "      <td>14333</td>\n",
       "    </tr>\n",
       "    <tr>\n",
       "      <th>LF</th>\n",
       "      <td>19645</td>\n",
       "      <td>19645</td>\n",
       "      <td>19645</td>\n",
       "      <td>19645</td>\n",
       "      <td>19645</td>\n",
       "      <td>19645</td>\n",
       "    </tr>\n",
       "    <tr>\n",
       "      <th>NW</th>\n",
       "      <td>40339</td>\n",
       "      <td>40339</td>\n",
       "      <td>40339</td>\n",
       "      <td>40339</td>\n",
       "      <td>40339</td>\n",
       "      <td>40339</td>\n",
       "    </tr>\n",
       "  </tbody>\n",
       "</table>\n",
       "</div>"
      ],
      "text/plain": [
       "          string   freq  represention   code  label   zipf\n",
       "category                                                  \n",
       "HF         14333  14333         14333  14333  14333  14333\n",
       "LF         19645  19645         19645  19645  19645  19645\n",
       "NW         40339  40339         40339  40339  40339  40339"
      ]
     },
     "execution_count": 11,
     "metadata": {},
     "output_type": "execute_result"
    }
   ],
   "source": [
    "elp_df.groupby('category').count()"
   ]
  },
  {
   "cell_type": "code",
   "execution_count": 12,
   "metadata": {
    "id": "g42AtS4aFvnu"
   },
   "outputs": [],
   "source": [
    "X_train, X_test, y_train, y_test = train_test_split(np.array(list(elp_df['represention'])), elp_df['label'].to_numpy(), test_size=0.2, shuffle=True)"
   ]
  },
  {
   "cell_type": "markdown",
   "metadata": {
    "id": "sQOZT435Ww6G"
   },
   "source": [
    "# Random Forest"
   ]
  },
  {
   "cell_type": "code",
   "execution_count": 13,
   "metadata": {
    "colab": {
     "base_uri": "https://localhost:8080/"
    },
    "id": "I4Jd11ptjYON",
    "outputId": "c50f5c78-8b84-4f00-de68-5257e70a566e",
    "scrolled": true,
    "tags": []
   },
   "outputs": [
    {
     "name": "stdout",
     "output_type": "stream",
     "text": [
      "Fitting 5 folds for each of 48 candidates, totalling 240 fits\n"
     ]
    },
    {
     "name": "stderr",
     "output_type": "stream",
     "text": [
      "C:\\Users\\Lenovo\\anaconda3\\envs\\cmdstan\\lib\\site-packages\\sklearn\\model_selection\\_validation.py:378: FitFailedWarning: \n",
      "80 fits failed out of a total of 240.\n",
      "The score on these train-test partitions for these parameters will be set to nan.\n",
      "If these failures are not expected, you can try to debug them by setting error_score='raise'.\n",
      "\n",
      "Below are more details about the failures:\n",
      "--------------------------------------------------------------------------------\n",
      "80 fits failed with the following error:\n",
      "Traceback (most recent call last):\n",
      "  File \"C:\\Users\\Lenovo\\anaconda3\\envs\\cmdstan\\lib\\site-packages\\sklearn\\model_selection\\_validation.py\", line 686, in _fit_and_score\n",
      "    estimator.fit(X_train, y_train, **fit_params)\n",
      "  File \"C:\\Users\\Lenovo\\anaconda3\\envs\\cmdstan\\lib\\site-packages\\sklearn\\ensemble\\_forest.py\", line 476, in fit\n",
      "    trees = Parallel(\n",
      "  File \"C:\\Users\\Lenovo\\anaconda3\\envs\\cmdstan\\lib\\site-packages\\joblib\\parallel.py\", line 1043, in __call__\n",
      "    if self.dispatch_one_batch(iterator):\n",
      "  File \"C:\\Users\\Lenovo\\anaconda3\\envs\\cmdstan\\lib\\site-packages\\joblib\\parallel.py\", line 861, in dispatch_one_batch\n",
      "    self._dispatch(tasks)\n",
      "  File \"C:\\Users\\Lenovo\\anaconda3\\envs\\cmdstan\\lib\\site-packages\\joblib\\parallel.py\", line 779, in _dispatch\n",
      "    job = self._backend.apply_async(batch, callback=cb)\n",
      "  File \"C:\\Users\\Lenovo\\anaconda3\\envs\\cmdstan\\lib\\site-packages\\joblib\\_parallel_backends.py\", line 208, in apply_async\n",
      "    result = ImmediateResult(func)\n",
      "  File \"C:\\Users\\Lenovo\\anaconda3\\envs\\cmdstan\\lib\\site-packages\\joblib\\_parallel_backends.py\", line 572, in __init__\n",
      "    self.results = batch()\n",
      "  File \"C:\\Users\\Lenovo\\anaconda3\\envs\\cmdstan\\lib\\site-packages\\joblib\\parallel.py\", line 262, in __call__\n",
      "    return [func(*args, **kwargs)\n",
      "  File \"C:\\Users\\Lenovo\\anaconda3\\envs\\cmdstan\\lib\\site-packages\\joblib\\parallel.py\", line 262, in <listcomp>\n",
      "    return [func(*args, **kwargs)\n",
      "  File \"C:\\Users\\Lenovo\\anaconda3\\envs\\cmdstan\\lib\\site-packages\\sklearn\\utils\\fixes.py\", line 117, in __call__\n",
      "    return self.function(*args, **kwargs)\n",
      "  File \"C:\\Users\\Lenovo\\anaconda3\\envs\\cmdstan\\lib\\site-packages\\sklearn\\ensemble\\_forest.py\", line 189, in _parallel_build_trees\n",
      "    tree.fit(X, y, sample_weight=curr_sample_weight, check_input=False)\n",
      "  File \"C:\\Users\\Lenovo\\anaconda3\\envs\\cmdstan\\lib\\site-packages\\sklearn\\tree\\_classes.py\", line 969, in fit\n",
      "    super().fit(\n",
      "  File \"C:\\Users\\Lenovo\\anaconda3\\envs\\cmdstan\\lib\\site-packages\\sklearn\\tree\\_classes.py\", line 317, in fit\n",
      "    raise ValueError(\n",
      "ValueError: Invalid value for max_features. Allowed string values are 'auto', 'sqrt' or 'log2'.\n",
      "\n",
      "  warnings.warn(some_fits_failed_message, FitFailedWarning)\n",
      "C:\\Users\\Lenovo\\anaconda3\\envs\\cmdstan\\lib\\site-packages\\sklearn\\model_selection\\_search.py:953: UserWarning: One or more of the test scores are non-finite: [       nan        nan 0.98316315 0.98339863 0.98052242 0.98102701\n",
      "        nan        nan 0.9685297  0.96888291 0.96247448 0.96286137\n",
      "        nan        nan 0.97234786 0.97229739 0.96659539 0.96715047\n",
      "        nan        nan 0.97482039 0.9752409  0.97006031 0.9707163\n",
      "        nan        nan 0.98279312 0.98254081 0.97961413 0.98003464\n",
      "        nan        nan 0.96733549 0.96797465 0.96165031 0.96170078\n",
      "        nan        nan 0.97162458 0.97184324 0.96577123 0.96619171\n",
      "        nan        nan 0.97453444 0.97487085 0.97009395 0.96987532]\n",
      "  warnings.warn(\n"
     ]
    },
    {
     "data": {
      "text/html": [
       "<style>#sk-container-id-1 {color: black;background-color: white;}#sk-container-id-1 pre{padding: 0;}#sk-container-id-1 div.sk-toggleable {background-color: white;}#sk-container-id-1 label.sk-toggleable__label {cursor: pointer;display: block;width: 100%;margin-bottom: 0;padding: 0.3em;box-sizing: border-box;text-align: center;}#sk-container-id-1 label.sk-toggleable__label-arrow:before {content: \"▸\";float: left;margin-right: 0.25em;color: #696969;}#sk-container-id-1 label.sk-toggleable__label-arrow:hover:before {color: black;}#sk-container-id-1 div.sk-estimator:hover label.sk-toggleable__label-arrow:before {color: black;}#sk-container-id-1 div.sk-toggleable__content {max-height: 0;max-width: 0;overflow: hidden;text-align: left;background-color: #f0f8ff;}#sk-container-id-1 div.sk-toggleable__content pre {margin: 0.2em;color: black;border-radius: 0.25em;background-color: #f0f8ff;}#sk-container-id-1 input.sk-toggleable__control:checked~div.sk-toggleable__content {max-height: 200px;max-width: 100%;overflow: auto;}#sk-container-id-1 input.sk-toggleable__control:checked~label.sk-toggleable__label-arrow:before {content: \"▾\";}#sk-container-id-1 div.sk-estimator input.sk-toggleable__control:checked~label.sk-toggleable__label {background-color: #d4ebff;}#sk-container-id-1 div.sk-label input.sk-toggleable__control:checked~label.sk-toggleable__label {background-color: #d4ebff;}#sk-container-id-1 input.sk-hidden--visually {border: 0;clip: rect(1px 1px 1px 1px);clip: rect(1px, 1px, 1px, 1px);height: 1px;margin: -1px;overflow: hidden;padding: 0;position: absolute;width: 1px;}#sk-container-id-1 div.sk-estimator {font-family: monospace;background-color: #f0f8ff;border: 1px dotted black;border-radius: 0.25em;box-sizing: border-box;margin-bottom: 0.5em;}#sk-container-id-1 div.sk-estimator:hover {background-color: #d4ebff;}#sk-container-id-1 div.sk-parallel-item::after {content: \"\";width: 100%;border-bottom: 1px solid gray;flex-grow: 1;}#sk-container-id-1 div.sk-label:hover label.sk-toggleable__label {background-color: #d4ebff;}#sk-container-id-1 div.sk-serial::before {content: \"\";position: absolute;border-left: 1px solid gray;box-sizing: border-box;top: 0;bottom: 0;left: 50%;z-index: 0;}#sk-container-id-1 div.sk-serial {display: flex;flex-direction: column;align-items: center;background-color: white;padding-right: 0.2em;padding-left: 0.2em;position: relative;}#sk-container-id-1 div.sk-item {position: relative;z-index: 1;}#sk-container-id-1 div.sk-parallel {display: flex;align-items: stretch;justify-content: center;background-color: white;position: relative;}#sk-container-id-1 div.sk-item::before, #sk-container-id-1 div.sk-parallel-item::before {content: \"\";position: absolute;border-left: 1px solid gray;box-sizing: border-box;top: 0;bottom: 0;left: 50%;z-index: -1;}#sk-container-id-1 div.sk-parallel-item {display: flex;flex-direction: column;z-index: 1;position: relative;background-color: white;}#sk-container-id-1 div.sk-parallel-item:first-child::after {align-self: flex-end;width: 50%;}#sk-container-id-1 div.sk-parallel-item:last-child::after {align-self: flex-start;width: 50%;}#sk-container-id-1 div.sk-parallel-item:only-child::after {width: 0;}#sk-container-id-1 div.sk-dashed-wrapped {border: 1px dashed gray;margin: 0 0.4em 0.5em 0.4em;box-sizing: border-box;padding-bottom: 0.4em;background-color: white;}#sk-container-id-1 div.sk-label label {font-family: monospace;font-weight: bold;display: inline-block;line-height: 1.2em;}#sk-container-id-1 div.sk-label-container {text-align: center;}#sk-container-id-1 div.sk-container {/* jupyter's `normalize.less` sets `[hidden] { display: none; }` but bootstrap.min.css set `[hidden] { display: none !important; }` so we also need the `!important` here to be able to override the default hidden behavior on the sphinx rendered scikit-learn.org. See: https://github.com/scikit-learn/scikit-learn/issues/21755 */display: inline-block !important;position: relative;}#sk-container-id-1 div.sk-text-repr-fallback {display: none;}</style><div id=\"sk-container-id-1\" class=\"sk-top-container\"><div class=\"sk-text-repr-fallback\"><pre>GridSearchCV(cv=5, estimator=RandomForestClassifier(), n_jobs=7,\n",
       "             param_grid={&#x27;criterion&#x27;: [&#x27;gini&#x27;, &#x27;entropy&#x27;],\n",
       "                         &#x27;max_depth&#x27;: [None, 6, 7, 8],\n",
       "                         &#x27;max_features&#x27;: [&#x27;None&#x27;, &#x27;sqrt&#x27;, &#x27;log2&#x27;],\n",
       "                         &#x27;n_estimators&#x27;: [100, 500]},\n",
       "             verbose=10)</pre><b>In a Jupyter environment, please rerun this cell to show the HTML representation or trust the notebook. <br />On GitHub, the HTML representation is unable to render, please try loading this page with nbviewer.org.</b></div><div class=\"sk-container\" hidden><div class=\"sk-item sk-dashed-wrapped\"><div class=\"sk-label-container\"><div class=\"sk-label sk-toggleable\"><input class=\"sk-toggleable__control sk-hidden--visually\" id=\"sk-estimator-id-1\" type=\"checkbox\" ><label for=\"sk-estimator-id-1\" class=\"sk-toggleable__label sk-toggleable__label-arrow\">GridSearchCV</label><div class=\"sk-toggleable__content\"><pre>GridSearchCV(cv=5, estimator=RandomForestClassifier(), n_jobs=7,\n",
       "             param_grid={&#x27;criterion&#x27;: [&#x27;gini&#x27;, &#x27;entropy&#x27;],\n",
       "                         &#x27;max_depth&#x27;: [None, 6, 7, 8],\n",
       "                         &#x27;max_features&#x27;: [&#x27;None&#x27;, &#x27;sqrt&#x27;, &#x27;log2&#x27;],\n",
       "                         &#x27;n_estimators&#x27;: [100, 500]},\n",
       "             verbose=10)</pre></div></div></div><div class=\"sk-parallel\"><div class=\"sk-parallel-item\"><div class=\"sk-item\"><div class=\"sk-label-container\"><div class=\"sk-label sk-toggleable\"><input class=\"sk-toggleable__control sk-hidden--visually\" id=\"sk-estimator-id-2\" type=\"checkbox\" ><label for=\"sk-estimator-id-2\" class=\"sk-toggleable__label sk-toggleable__label-arrow\">estimator: RandomForestClassifier</label><div class=\"sk-toggleable__content\"><pre>RandomForestClassifier()</pre></div></div></div><div class=\"sk-serial\"><div class=\"sk-item\"><div class=\"sk-estimator sk-toggleable\"><input class=\"sk-toggleable__control sk-hidden--visually\" id=\"sk-estimator-id-3\" type=\"checkbox\" ><label for=\"sk-estimator-id-3\" class=\"sk-toggleable__label sk-toggleable__label-arrow\">RandomForestClassifier</label><div class=\"sk-toggleable__content\"><pre>RandomForestClassifier()</pre></div></div></div></div></div></div></div></div></div></div>"
      ],
      "text/plain": [
       "GridSearchCV(cv=5, estimator=RandomForestClassifier(), n_jobs=7,\n",
       "             param_grid={'criterion': ['gini', 'entropy'],\n",
       "                         'max_depth': [None, 6, 7, 8],\n",
       "                         'max_features': ['None', 'sqrt', 'log2'],\n",
       "                         'n_estimators': [100, 500]},\n",
       "             verbose=10)"
      ]
     },
     "execution_count": 13,
     "metadata": {},
     "output_type": "execute_result"
    }
   ],
   "source": [
    "param_grid = { \n",
    "    'n_estimators': [100, 500],\n",
    "    'max_features': ['None', 'sqrt', 'log2'],\n",
    "    'max_depth' : [None, 6, 7, 8],\n",
    "    'criterion' :['gini', 'entropy']\n",
    "}\n",
    "rf_clf = RandomForestClassifier()\n",
    "rf_cv = GridSearchCV(rf_clf, param_grid, cv=5, n_jobs=7, verbose=10)\n",
    "rf_cv.fit(X_train, y_train)"
   ]
  },
  {
   "cell_type": "code",
   "execution_count": 14,
   "metadata": {
    "id": "Z9Dii6XAjX-6"
   },
   "outputs": [
    {
     "name": "stdout",
     "output_type": "stream",
     "text": [
      "tuned hpyerparameters :(best parameters)  {'criterion': 'gini', 'max_depth': None, 'max_features': 'sqrt', 'n_estimators': 500}\n",
      "best accuracy : 0.9833986323345381\n",
      "mean accuracies : [       nan        nan 0.98316315 0.98339863 0.98052242 0.98102701\n",
      "        nan        nan 0.9685297  0.96888291 0.96247448 0.96286137\n",
      "        nan        nan 0.97234786 0.97229739 0.96659539 0.96715047\n",
      "        nan        nan 0.97482039 0.9752409  0.97006031 0.9707163\n",
      "        nan        nan 0.98279312 0.98254081 0.97961413 0.98003464\n",
      "        nan        nan 0.96733549 0.96797465 0.96165031 0.96170078\n",
      "        nan        nan 0.97162458 0.97184324 0.96577123 0.96619171\n",
      "        nan        nan 0.97453444 0.97487085 0.97009395 0.96987532]\n"
     ]
    }
   ],
   "source": [
    "print(\"tuned hpyerparameters :(best parameters) \", rf_cv.best_params_)\n",
    "print(\"best accuracy :\", rf_cv.best_score_)\n",
    "print(\"mean accuracies :\", rf_cv.cv_results_['mean_test_score'])"
   ]
  },
  {
   "cell_type": "markdown",
   "metadata": {},
   "source": [
    "tuned hpyerparameters :(best parameters)  {'criterion': 'gini', 'max_depth': None, 'max_features': 'sqrt', 'n_estimators': 500}"
   ]
  },
  {
   "cell_type": "code",
   "execution_count": 15,
   "metadata": {
    "id": "TPedljT4j9Pp"
   },
   "outputs": [
    {
     "name": "stderr",
     "output_type": "stream",
     "text": [
      "[Parallel(n_jobs=-1)]: Using backend ThreadingBackend with 8 concurrent workers.\n",
      "[Parallel(n_jobs=-1)]: Done  34 tasks      | elapsed:   16.7s\n",
      "[Parallel(n_jobs=-1)]: Done 184 tasks      | elapsed:  1.3min\n",
      "[Parallel(n_jobs=-1)]: Done 434 tasks      | elapsed:  3.2min\n",
      "[Parallel(n_jobs=-1)]: Done 500 out of 500 | elapsed:  3.7min finished\n"
     ]
    },
    {
     "data": {
      "text/html": [
       "<style>#sk-container-id-2 {color: black;background-color: white;}#sk-container-id-2 pre{padding: 0;}#sk-container-id-2 div.sk-toggleable {background-color: white;}#sk-container-id-2 label.sk-toggleable__label {cursor: pointer;display: block;width: 100%;margin-bottom: 0;padding: 0.3em;box-sizing: border-box;text-align: center;}#sk-container-id-2 label.sk-toggleable__label-arrow:before {content: \"▸\";float: left;margin-right: 0.25em;color: #696969;}#sk-container-id-2 label.sk-toggleable__label-arrow:hover:before {color: black;}#sk-container-id-2 div.sk-estimator:hover label.sk-toggleable__label-arrow:before {color: black;}#sk-container-id-2 div.sk-toggleable__content {max-height: 0;max-width: 0;overflow: hidden;text-align: left;background-color: #f0f8ff;}#sk-container-id-2 div.sk-toggleable__content pre {margin: 0.2em;color: black;border-radius: 0.25em;background-color: #f0f8ff;}#sk-container-id-2 input.sk-toggleable__control:checked~div.sk-toggleable__content {max-height: 200px;max-width: 100%;overflow: auto;}#sk-container-id-2 input.sk-toggleable__control:checked~label.sk-toggleable__label-arrow:before {content: \"▾\";}#sk-container-id-2 div.sk-estimator input.sk-toggleable__control:checked~label.sk-toggleable__label {background-color: #d4ebff;}#sk-container-id-2 div.sk-label input.sk-toggleable__control:checked~label.sk-toggleable__label {background-color: #d4ebff;}#sk-container-id-2 input.sk-hidden--visually {border: 0;clip: rect(1px 1px 1px 1px);clip: rect(1px, 1px, 1px, 1px);height: 1px;margin: -1px;overflow: hidden;padding: 0;position: absolute;width: 1px;}#sk-container-id-2 div.sk-estimator {font-family: monospace;background-color: #f0f8ff;border: 1px dotted black;border-radius: 0.25em;box-sizing: border-box;margin-bottom: 0.5em;}#sk-container-id-2 div.sk-estimator:hover {background-color: #d4ebff;}#sk-container-id-2 div.sk-parallel-item::after {content: \"\";width: 100%;border-bottom: 1px solid gray;flex-grow: 1;}#sk-container-id-2 div.sk-label:hover label.sk-toggleable__label {background-color: #d4ebff;}#sk-container-id-2 div.sk-serial::before {content: \"\";position: absolute;border-left: 1px solid gray;box-sizing: border-box;top: 0;bottom: 0;left: 50%;z-index: 0;}#sk-container-id-2 div.sk-serial {display: flex;flex-direction: column;align-items: center;background-color: white;padding-right: 0.2em;padding-left: 0.2em;position: relative;}#sk-container-id-2 div.sk-item {position: relative;z-index: 1;}#sk-container-id-2 div.sk-parallel {display: flex;align-items: stretch;justify-content: center;background-color: white;position: relative;}#sk-container-id-2 div.sk-item::before, #sk-container-id-2 div.sk-parallel-item::before {content: \"\";position: absolute;border-left: 1px solid gray;box-sizing: border-box;top: 0;bottom: 0;left: 50%;z-index: -1;}#sk-container-id-2 div.sk-parallel-item {display: flex;flex-direction: column;z-index: 1;position: relative;background-color: white;}#sk-container-id-2 div.sk-parallel-item:first-child::after {align-self: flex-end;width: 50%;}#sk-container-id-2 div.sk-parallel-item:last-child::after {align-self: flex-start;width: 50%;}#sk-container-id-2 div.sk-parallel-item:only-child::after {width: 0;}#sk-container-id-2 div.sk-dashed-wrapped {border: 1px dashed gray;margin: 0 0.4em 0.5em 0.4em;box-sizing: border-box;padding-bottom: 0.4em;background-color: white;}#sk-container-id-2 div.sk-label label {font-family: monospace;font-weight: bold;display: inline-block;line-height: 1.2em;}#sk-container-id-2 div.sk-label-container {text-align: center;}#sk-container-id-2 div.sk-container {/* jupyter's `normalize.less` sets `[hidden] { display: none; }` but bootstrap.min.css set `[hidden] { display: none !important; }` so we also need the `!important` here to be able to override the default hidden behavior on the sphinx rendered scikit-learn.org. See: https://github.com/scikit-learn/scikit-learn/issues/21755 */display: inline-block !important;position: relative;}#sk-container-id-2 div.sk-text-repr-fallback {display: none;}</style><div id=\"sk-container-id-2\" class=\"sk-top-container\"><div class=\"sk-text-repr-fallback\"><pre>RandomForestClassifier(n_estimators=500, n_jobs=-1, verbose=1)</pre><b>In a Jupyter environment, please rerun this cell to show the HTML representation or trust the notebook. <br />On GitHub, the HTML representation is unable to render, please try loading this page with nbviewer.org.</b></div><div class=\"sk-container\" hidden><div class=\"sk-item\"><div class=\"sk-estimator sk-toggleable\"><input class=\"sk-toggleable__control sk-hidden--visually\" id=\"sk-estimator-id-4\" type=\"checkbox\" checked><label for=\"sk-estimator-id-4\" class=\"sk-toggleable__label sk-toggleable__label-arrow\">RandomForestClassifier</label><div class=\"sk-toggleable__content\"><pre>RandomForestClassifier(n_estimators=500, n_jobs=-1, verbose=1)</pre></div></div></div></div></div>"
      ],
      "text/plain": [
       "RandomForestClassifier(n_estimators=500, n_jobs=-1, verbose=1)"
      ]
     },
     "execution_count": 15,
     "metadata": {},
     "output_type": "execute_result"
    }
   ],
   "source": [
    "RF_classifier = RandomForestClassifier(n_estimators=rf_cv.best_params_['n_estimators'],\n",
    "                                       max_features=rf_cv.best_params_['max_features'],\n",
    "                                       max_depth=rf_cv.best_params_['max_depth'],\n",
    "                                       criterion=rf_cv.best_params_['criterion'],\n",
    "                                       n_jobs=-1,\n",
    "                                       verbose=1)\n",
    "RF_classifier.fit(X_train, y_train)"
   ]
  },
  {
   "cell_type": "code",
   "execution_count": 16,
   "metadata": {
    "id": "pMUHquEUJT2o"
   },
   "outputs": [
    {
     "name": "stderr",
     "output_type": "stream",
     "text": [
      "[Parallel(n_jobs=8)]: Using backend ThreadingBackend with 8 concurrent workers.\n",
      "[Parallel(n_jobs=8)]: Done  34 tasks      | elapsed:    0.0s\n",
      "[Parallel(n_jobs=8)]: Done 184 tasks      | elapsed:    0.1s\n"
     ]
    },
    {
     "name": "stdout",
     "output_type": "stream",
     "text": [
      "0.986208288482239\n"
     ]
    },
    {
     "name": "stderr",
     "output_type": "stream",
     "text": [
      "[Parallel(n_jobs=8)]: Done 434 tasks      | elapsed:    0.3s\n",
      "[Parallel(n_jobs=8)]: Done 500 out of 500 | elapsed:    0.4s finished\n"
     ]
    }
   ],
   "source": [
    "acc_score = RF_classifier.score(X_test, y_test)\n",
    "print(acc_score)"
   ]
  },
  {
   "cell_type": "code",
   "execution_count": 17,
   "metadata": {
    "id": "xJS53on5ETZm"
   },
   "outputs": [
    {
     "name": "stderr",
     "output_type": "stream",
     "text": [
      "[Parallel(n_jobs=8)]: Using backend ThreadingBackend with 8 concurrent workers.\n",
      "[Parallel(n_jobs=8)]: Done  34 tasks      | elapsed:    0.0s\n",
      "[Parallel(n_jobs=8)]: Done 184 tasks      | elapsed:    0.1s\n",
      "[Parallel(n_jobs=8)]: Done 434 tasks      | elapsed:    0.4s\n",
      "[Parallel(n_jobs=8)]: Done 500 out of 500 | elapsed:    0.4s finished\n"
     ]
    },
    {
     "data": {
      "image/png": "[encoded data removed]",
      "text/plain": [
       "<Figure size 648x648 with 1 Axes>"
      ]
     },
     "metadata": {
      "needs_background": "light"
     },
     "output_type": "display_data"
    }
   ],
   "source": [
    "test_predictions = RF_classifier.predict(X_test)\n",
    "cm = metrics.confusion_matrix(y_test, test_predictions)\n",
    "plt.figure(figsize=(9,9))\n",
    "hm = sns.heatmap(cm, annot=True, fmt=\".0f\", cbar=False, linewidths=.5, square = True, cmap = 'Blues_r',\n",
    "            annot_kws={\n",
    "                'fontsize': 16,\n",
    "                'fontweight': 'bold'\n",
    "            });\n",
    "hm.set_xticklabels(hm.get_xmajorticklabels(), fontsize = 14)\n",
    "hm.set_yticklabels(hm.get_ymajorticklabels(), fontsize = 14)\n",
    "hm.set_xlabel('Actual label', fontsize=18);\n",
    "hm.set_ylabel('Predicted label', fontsize=18);\n",
    "all_sample_title = 'Accuracy Score: {0}'.format(acc_score)\n",
    "plt.title(all_sample_title, size = 20);\n",
    "plt.savefig('./Clf_Plots/RF_test_ACC')"
   ]
  },
  {
   "cell_type": "markdown",
   "metadata": {
    "id": "Oy1FRAqGB8sO",
    "tags": []
   },
   "source": [
    "# Get Probabilities on full dataset\n"
   ]
  },
  {
   "cell_type": "code",
   "execution_count": 18,
   "metadata": {
    "id": "-0aKb1Q2TK0v"
   },
   "outputs": [
    {
     "name": "stderr",
     "output_type": "stream",
     "text": [
      "[Parallel(n_jobs=8)]: Using backend ThreadingBackend with 8 concurrent workers.\n",
      "[Parallel(n_jobs=8)]: Done  34 tasks      | elapsed:    0.1s\n",
      "[Parallel(n_jobs=8)]: Done 184 tasks      | elapsed:    0.8s\n",
      "[Parallel(n_jobs=8)]: Done 434 tasks      | elapsed:    2.1s\n",
      "[Parallel(n_jobs=8)]: Done 500 out of 500 | elapsed:    2.4s finished\n",
      "[Parallel(n_jobs=8)]: Using backend ThreadingBackend with 8 concurrent workers.\n",
      "[Parallel(n_jobs=8)]: Done  34 tasks      | elapsed:    0.1s\n",
      "[Parallel(n_jobs=8)]: Done 184 tasks      | elapsed:    0.8s\n",
      "[Parallel(n_jobs=8)]: Done 434 tasks      | elapsed:    2.1s\n"
     ]
    },
    {
     "name": "stdout",
     "output_type": "stream",
     "text": [
      "0.9972415463487493\n"
     ]
    },
    {
     "name": "stderr",
     "output_type": "stream",
     "text": [
      "[Parallel(n_jobs=8)]: Done 500 out of 500 | elapsed:    2.4s finished\n"
     ]
    }
   ],
   "source": [
    "full_predictions = RF_classifier.predict(np.array(list(elp_df['represention'])))\n",
    "acc_score = RF_classifier.score(np.array(list(elp_df['represention'])), elp_df['label'].to_numpy())\n",
    "print(acc_score)"
   ]
  },
  {
   "cell_type": "code",
   "execution_count": 19,
   "metadata": {
    "id": "NiS3sULIkXgL"
   },
   "outputs": [
    {
     "name": "stdout",
     "output_type": "stream",
     "text": [
      "              precision    recall  f1-score   support\n",
      "\n",
      "           0     0.9995    0.9954    0.9975     40339\n",
      "           1     0.9946    0.9994    0.9970     33978\n",
      "\n",
      "    accuracy                         0.9972     74317\n",
      "   macro avg     0.9970    0.9974    0.9972     74317\n",
      "weighted avg     0.9973    0.9972    0.9972     74317\n",
      "\n"
     ]
    }
   ],
   "source": [
    "print(metrics.classification_report(elp_df['label'].to_numpy(), full_predictions, digits=4))"
   ]
  },
  {
   "cell_type": "code",
   "execution_count": 20,
   "metadata": {
    "id": "puWCL1ofTK03"
   },
   "outputs": [
    {
     "data": {
      "image/png": "[encoded data removed]",
      "text/plain": [
       "<Figure size 648x648 with 1 Axes>"
      ]
     },
     "metadata": {
      "needs_background": "light"
     },
     "output_type": "display_data"
    }
   ],
   "source": [
    "cm = metrics.confusion_matrix(elp_df['label'].to_numpy(), full_predictions)\n",
    "plt.figure(figsize=(9,9))\n",
    "hm = sns.heatmap(cm, annot=True, fmt=\".0f\", cbar=False, linewidths=.5, square = True, cmap = 'Blues_r',\n",
    "            annot_kws={\n",
    "                'fontsize': 16,\n",
    "                'fontweight': 'bold'\n",
    "            });\n",
    "hm.set_xticklabels(hm.get_xmajorticklabels(), fontsize = 14)\n",
    "hm.set_yticklabels(hm.get_ymajorticklabels(), fontsize = 14)\n",
    "hm.set_xlabel('Actual label', fontsize=18);\n",
    "hm.set_ylabel('Predicted label', fontsize=18);\n",
    "all_sample_title = 'Accuracy Score: {0}'.format(acc_score)\n",
    "plt.title(all_sample_title, size = 20);\n",
    "plt.savefig('./Clf_Plots/RF_fill_ACC')"
   ]
  },
  {
   "cell_type": "code",
   "execution_count": 21,
   "metadata": {
    "id": "J_8XUA4fTkud"
   },
   "outputs": [
    {
     "name": "stderr",
     "output_type": "stream",
     "text": [
      "[Parallel(n_jobs=8)]: Using backend ThreadingBackend with 8 concurrent workers.\n",
      "[Parallel(n_jobs=8)]: Done  34 tasks      | elapsed:    0.1s\n",
      "[Parallel(n_jobs=8)]: Done 184 tasks      | elapsed:    0.6s\n",
      "[Parallel(n_jobs=8)]: Done 434 tasks      | elapsed:    1.6s\n",
      "[Parallel(n_jobs=8)]: Done 500 out of 500 | elapsed:    1.8s finished\n"
     ]
    }
   ],
   "source": [
    "full_dataset_predictions = RF_classifier.predict_proba(np.array(list(elp_df['represention'])))"
   ]
  },
  {
   "cell_type": "code",
   "execution_count": 22,
   "metadata": {
    "id": "guNpoFvjB8sP"
   },
   "outputs": [],
   "source": [
    "elp_df['word_prob'] = full_dataset_predictions[:,1]\n",
    "elp_df['nword_prob'] = full_dataset_predictions[:,0]"
   ]
  },
  {
   "cell_type": "code",
   "execution_count": 23,
   "metadata": {
    "id": "gADp8COsFSGt"
   },
   "outputs": [
    {
     "data": {
      "text/html": [
       "<div>\n",
       "<style scoped>\n",
       "    .dataframe tbody tr th:only-of-type {\n",
       "        vertical-align: middle;\n",
       "    }\n",
       "\n",
       "    .dataframe tbody tr th {\n",
       "        vertical-align: top;\n",
       "    }\n",
       "\n",
       "    .dataframe thead tr th {\n",
       "        text-align: left;\n",
       "    }\n",
       "\n",
       "    .dataframe thead tr:last-of-type th {\n",
       "        text-align: right;\n",
       "    }\n",
       "</style>\n",
       "<table border=\"1\" class=\"dataframe\">\n",
       "  <thead>\n",
       "    <tr>\n",
       "      <th></th>\n",
       "      <th colspan=\"5\" halign=\"left\">word_prob</th>\n",
       "      <th colspan=\"5\" halign=\"left\">nword_prob</th>\n",
       "    </tr>\n",
       "    <tr>\n",
       "      <th></th>\n",
       "      <th>mean</th>\n",
       "      <th>std</th>\n",
       "      <th>count</th>\n",
       "      <th>max</th>\n",
       "      <th>min</th>\n",
       "      <th>mean</th>\n",
       "      <th>std</th>\n",
       "      <th>count</th>\n",
       "      <th>max</th>\n",
       "      <th>min</th>\n",
       "    </tr>\n",
       "    <tr>\n",
       "      <th>category</th>\n",
       "      <th></th>\n",
       "      <th></th>\n",
       "      <th></th>\n",
       "      <th></th>\n",
       "      <th></th>\n",
       "      <th></th>\n",
       "      <th></th>\n",
       "      <th></th>\n",
       "      <th></th>\n",
       "      <th></th>\n",
       "    </tr>\n",
       "  </thead>\n",
       "  <tbody>\n",
       "    <tr>\n",
       "      <th>HF</th>\n",
       "      <td>0.965259</td>\n",
       "      <td>0.052451</td>\n",
       "      <td>14333</td>\n",
       "      <td>1.000</td>\n",
       "      <td>0.37</td>\n",
       "      <td>0.034741</td>\n",
       "      <td>0.052451</td>\n",
       "      <td>14333</td>\n",
       "      <td>0.63</td>\n",
       "      <td>0.000</td>\n",
       "    </tr>\n",
       "    <tr>\n",
       "      <th>LF</th>\n",
       "      <td>0.968009</td>\n",
       "      <td>0.050492</td>\n",
       "      <td>19645</td>\n",
       "      <td>1.000</td>\n",
       "      <td>0.00</td>\n",
       "      <td>0.031991</td>\n",
       "      <td>0.050492</td>\n",
       "      <td>19645</td>\n",
       "      <td>1.00</td>\n",
       "      <td>0.000</td>\n",
       "    </tr>\n",
       "    <tr>\n",
       "      <th>NW</th>\n",
       "      <td>0.025879</td>\n",
       "      <td>0.074011</td>\n",
       "      <td>40339</td>\n",
       "      <td>0.998</td>\n",
       "      <td>0.00</td>\n",
       "      <td>0.974121</td>\n",
       "      <td>0.074011</td>\n",
       "      <td>40339</td>\n",
       "      <td>1.00</td>\n",
       "      <td>0.002</td>\n",
       "    </tr>\n",
       "  </tbody>\n",
       "</table>\n",
       "</div>"
      ],
      "text/plain": [
       "         word_prob                               nword_prob                   \\\n",
       "              mean       std  count    max   min       mean       std  count   \n",
       "category                                                                       \n",
       "HF        0.965259  0.052451  14333  1.000  0.37   0.034741  0.052451  14333   \n",
       "LF        0.968009  0.050492  19645  1.000  0.00   0.031991  0.050492  19645   \n",
       "NW        0.025879  0.074011  40339  0.998  0.00   0.974121  0.074011  40339   \n",
       "\n",
       "                       \n",
       "           max    min  \n",
       "category               \n",
       "HF        0.63  0.000  \n",
       "LF        1.00  0.000  \n",
       "NW        1.00  0.002  "
      ]
     },
     "execution_count": 23,
     "metadata": {},
     "output_type": "execute_result"
    }
   ],
   "source": [
    "elp_df.groupby(['category']).agg({'word_prob': ['mean', 'std', 'count', 'max', 'min'], 'nword_prob': ['mean', 'std', 'count', 'max', 'min']})"
   ]
  },
  {
   "cell_type": "code",
   "execution_count": 24,
   "metadata": {
    "id": "rHZBOiHZNyjd"
   },
   "outputs": [],
   "source": [
    "word_df_to_save = elp_df.drop(['represention', 'code'], axis=1)"
   ]
  },
  {
   "cell_type": "code",
   "execution_count": 25,
   "metadata": {
    "id": "1EfLZdnjNyg9"
   },
   "outputs": [],
   "source": [
    "word_df_to_save.to_csv(root+\"Datasets/fastText_RF.csv\", header=0, index=False)"
   ]
  }
 ],
 "metadata": {
  "colab": {
   "collapsed_sections": [],
   "provenance": []
  },
  "gpuClass": "standard",
  "kernelspec": {
   "display_name": "Python 3 (ipykernel)",
   "language": "python",
   "name": "python3"
  },
  "language_info": {
   "codemirror_mode": {
    "name": "ipython",
    "version": 3
   },
   "file_extension": ".py",
   "mimetype": "text/x-python",
   "name": "python",
   "nbconvert_exporter": "python",
   "pygments_lexer": "ipython3",
   "version": "3.10.4"
  }
 },
 "nbformat": 4,
 "nbformat_minor": 4
}
