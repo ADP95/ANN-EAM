{
 "cells": [
  {
   "cell_type": "code",
   "execution_count": 1,
   "id": "62408ec6-33db-4e81-9029-5a1f9f4ab494",
   "metadata": {
    "tags": []
   },
   "outputs": [],
   "source": [
    "import sys\n",
    "import os\n",
    "sys.path.append(os.path.dirname(os.path.abspath(os.getcwd())))\n",
    "\n",
    "import numpy as np\n",
    "import pandas as pd\n",
    "import cmdstanpy\n",
    "from utils.utils import get_parameters_range"
   ]
  },
  {
   "cell_type": "code",
   "execution_count": 2,
   "id": "ef0f785e-5ac4-4d97-be3a-8f4ba81ca5c8",
   "metadata": {
    "tags": []
   },
   "outputs": [],
   "source": [
    "root = \"../\"\n",
    "plots_root = \"Results/hierarchical/Plots/\"\n",
    "datasets_root = root + \"Datasets/\"\n",
    "behavioural_data_root = datasets_root +  \"behavioral_data/selected_data/\"\n",
    "dataset_path = datasets_root + \"AI Models Results/fastText_FC.csv\"\n",
    "path_to_stan_output = root + \"Estimations/Results/hierarchical/stan_results/ANN-RDM_full_FT\""
   ]
  },
  {
   "cell_type": "markdown",
   "id": "8436fcba-0c1d-471f-b481-b0938a202578",
   "metadata": {
    "id": "123c4809-7b46-4f8d-b578-0d5e9fb5fbe7"
   },
   "source": [
    "## Prepare data"
   ]
  },
  {
   "cell_type": "markdown",
   "id": "08dfab2b-282c-409a-85d3-73914c7b3f37",
   "metadata": {},
   "source": [
    "Loading words and non-words with zipf and predicted probabilities"
   ]
  },
  {
   "cell_type": "code",
   "execution_count": 3,
   "id": "0cfc14a5-d778-4502-8e13-9d4fb98170fc",
   "metadata": {
    "colab": {
     "base_uri": "https://localhost:8080/",
     "height": 0
    },
    "executionInfo": {
     "elapsed": 61,
     "status": "ok",
     "timestamp": 1651313252934,
     "user": {
      "displayName": "Arash Dadras",
      "userId": "05722346836148265544"
     },
     "user_tz": -270
    },
    "id": "72172233-0e82-4058-8a5c-8657e9fe4693",
    "outputId": "35336463-3bb2-41e5-c84f-7c34fdcfc77d",
    "tags": []
   },
   "outputs": [
    {
     "data": {
      "text/html": [
       "<div>\n",
       "<style scoped>\n",
       "    .dataframe tbody tr th:only-of-type {\n",
       "        vertical-align: middle;\n",
       "    }\n",
       "\n",
       "    .dataframe tbody tr th {\n",
       "        vertical-align: top;\n",
       "    }\n",
       "\n",
       "    .dataframe thead th {\n",
       "        text-align: right;\n",
       "    }\n",
       "</style>\n",
       "<table border=\"1\" class=\"dataframe\">\n",
       "  <thead>\n",
       "    <tr style=\"text-align: right;\">\n",
       "      <th></th>\n",
       "      <th>string</th>\n",
       "      <th>freq</th>\n",
       "      <th>label</th>\n",
       "      <th>zipf</th>\n",
       "      <th>category</th>\n",
       "      <th>word_prob</th>\n",
       "      <th>non_word_prob</th>\n",
       "    </tr>\n",
       "  </thead>\n",
       "  <tbody>\n",
       "    <tr>\n",
       "      <th>0</th>\n",
       "      <td>Ipe's</td>\n",
       "      <td>0</td>\n",
       "      <td>0</td>\n",
       "      <td>0.000000</td>\n",
       "      <td>NW</td>\n",
       "      <td>6.484266e-08</td>\n",
       "      <td>9.999998e-01</td>\n",
       "    </tr>\n",
       "    <tr>\n",
       "      <th>1</th>\n",
       "      <td>toothcamb</td>\n",
       "      <td>0</td>\n",
       "      <td>0</td>\n",
       "      <td>0.000000</td>\n",
       "      <td>NW</td>\n",
       "      <td>4.641062e-05</td>\n",
       "      <td>9.999536e-01</td>\n",
       "    </tr>\n",
       "    <tr>\n",
       "      <th>2</th>\n",
       "      <td>flicks</td>\n",
       "      <td>702</td>\n",
       "      <td>1</td>\n",
       "      <td>2.935287</td>\n",
       "      <td>LF</td>\n",
       "      <td>9.993498e-01</td>\n",
       "      <td>6.502719e-04</td>\n",
       "    </tr>\n",
       "    <tr>\n",
       "      <th>3</th>\n",
       "      <td>Samoar</td>\n",
       "      <td>0</td>\n",
       "      <td>0</td>\n",
       "      <td>0.000000</td>\n",
       "      <td>NW</td>\n",
       "      <td>1.966545e-06</td>\n",
       "      <td>9.999980e-01</td>\n",
       "    </tr>\n",
       "    <tr>\n",
       "      <th>4</th>\n",
       "      <td>lastened</td>\n",
       "      <td>0</td>\n",
       "      <td>0</td>\n",
       "      <td>0.000000</td>\n",
       "      <td>NW</td>\n",
       "      <td>1.107923e-04</td>\n",
       "      <td>9.998892e-01</td>\n",
       "    </tr>\n",
       "    <tr>\n",
       "      <th>...</th>\n",
       "      <td>...</td>\n",
       "      <td>...</td>\n",
       "      <td>...</td>\n",
       "      <td>...</td>\n",
       "      <td>...</td>\n",
       "      <td>...</td>\n",
       "      <td>...</td>\n",
       "    </tr>\n",
       "    <tr>\n",
       "      <th>74312</th>\n",
       "      <td>drased</td>\n",
       "      <td>0</td>\n",
       "      <td>0</td>\n",
       "      <td>0.000000</td>\n",
       "      <td>NW</td>\n",
       "      <td>6.662523e-05</td>\n",
       "      <td>9.999334e-01</td>\n",
       "    </tr>\n",
       "    <tr>\n",
       "      <th>74313</th>\n",
       "      <td>exorcism</td>\n",
       "      <td>238</td>\n",
       "      <td>1</td>\n",
       "      <td>3.274105</td>\n",
       "      <td>HF</td>\n",
       "      <td>9.999999e-01</td>\n",
       "      <td>7.543648e-08</td>\n",
       "    </tr>\n",
       "    <tr>\n",
       "      <th>74314</th>\n",
       "      <td>pobs</td>\n",
       "      <td>0</td>\n",
       "      <td>0</td>\n",
       "      <td>0.000000</td>\n",
       "      <td>NW</td>\n",
       "      <td>1.563252e-07</td>\n",
       "      <td>9.999999e-01</td>\n",
       "    </tr>\n",
       "    <tr>\n",
       "      <th>74315</th>\n",
       "      <td>undemonstrative</td>\n",
       "      <td>3</td>\n",
       "      <td>1</td>\n",
       "      <td>1.592864</td>\n",
       "      <td>LF</td>\n",
       "      <td>9.999452e-01</td>\n",
       "      <td>5.486609e-05</td>\n",
       "    </tr>\n",
       "    <tr>\n",
       "      <th>74316</th>\n",
       "      <td>emrets</td>\n",
       "      <td>0</td>\n",
       "      <td>0</td>\n",
       "      <td>0.000000</td>\n",
       "      <td>NW</td>\n",
       "      <td>1.155891e-04</td>\n",
       "      <td>9.998844e-01</td>\n",
       "    </tr>\n",
       "  </tbody>\n",
       "</table>\n",
       "<p>74317 rows × 7 columns</p>\n",
       "</div>"
      ],
      "text/plain": [
       "                string  freq  label      zipf category     word_prob  \\\n",
       "0                Ipe's     0      0  0.000000       NW  6.484266e-08   \n",
       "1            toothcamb     0      0  0.000000       NW  4.641062e-05   \n",
       "2               flicks   702      1  2.935287       LF  9.993498e-01   \n",
       "3               Samoar     0      0  0.000000       NW  1.966545e-06   \n",
       "4             lastened     0      0  0.000000       NW  1.107923e-04   \n",
       "...                ...   ...    ...       ...      ...           ...   \n",
       "74312           drased     0      0  0.000000       NW  6.662523e-05   \n",
       "74313         exorcism   238      1  3.274105       HF  9.999999e-01   \n",
       "74314             pobs     0      0  0.000000       NW  1.563252e-07   \n",
       "74315  undemonstrative     3      1  1.592864       LF  9.999452e-01   \n",
       "74316           emrets     0      0  0.000000       NW  1.155891e-04   \n",
       "\n",
       "       non_word_prob  \n",
       "0       9.999998e-01  \n",
       "1       9.999536e-01  \n",
       "2       6.502719e-04  \n",
       "3       9.999980e-01  \n",
       "4       9.998892e-01  \n",
       "...              ...  \n",
       "74312   9.999334e-01  \n",
       "74313   7.543648e-08  \n",
       "74314   9.999999e-01  \n",
       "74315   5.486609e-05  \n",
       "74316   9.998844e-01  \n",
       "\n",
       "[74317 rows x 7 columns]"
      ]
     },
     "execution_count": 3,
     "metadata": {},
     "output_type": "execute_result"
    }
   ],
   "source": [
    "word_nword_df = pd.read_csv(dataset_path, header=None,\n",
    "                            names =[\"string\", \"freq\",  \"label\", \"zipf\",\n",
    "                                    \"category\", \"word_prob\", \"non_word_prob\"])\n",
    "word_nword_df"
   ]
  },
  {
   "cell_type": "code",
   "execution_count": 4,
   "id": "3c14da07-3d3a-485e-8fcc-6444cf6f5613",
   "metadata": {
    "executionInfo": {
     "elapsed": 56,
     "status": "ok",
     "timestamp": 1651313252938,
     "user": {
      "displayName": "Arash Dadras",
      "userId": "05722346836148265544"
     },
     "user_tz": -270
    },
    "id": "f37d4118-f2ea-4691-bff9-02f1ac1cebbc",
    "tags": []
   },
   "outputs": [],
   "source": [
    "# Reading LDT Data\n",
    "behavioural_df = pd.read_csv(behavioural_data_root + \"LDT_data.csv\",\n",
    "                             header=None,\n",
    "                             names=[\"accuracy\", \"rt\", \"string\", \"response\",\n",
    "                                    \"participant\", \"minRT\", \"participant_id\"])\n",
    "# Merging  behavioral dataframe with word_nonword_df to have words and non-words data with behavioral data\n",
    "behavioural_df = pd.merge(behavioural_df, word_nword_df, on=\"string\", how=\"left\").dropna().reset_index(drop=True)\n",
    "behavioural_df = behavioural_df.drop([\"freq\", \"participant\"], axis=1)"
   ]
  },
  {
   "cell_type": "code",
   "execution_count": 5,
   "id": "27d96958-509a-46fd-92cf-05db9865af9a",
   "metadata": {
    "tags": []
   },
   "outputs": [
    {
     "data": {
      "text/html": [
       "<div>\n",
       "<style scoped>\n",
       "    .dataframe tbody tr th:only-of-type {\n",
       "        vertical-align: middle;\n",
       "    }\n",
       "\n",
       "    .dataframe tbody tr th {\n",
       "        vertical-align: top;\n",
       "    }\n",
       "\n",
       "    .dataframe thead th {\n",
       "        text-align: right;\n",
       "    }\n",
       "</style>\n",
       "<table border=\"1\" class=\"dataframe\">\n",
       "  <thead>\n",
       "    <tr style=\"text-align: right;\">\n",
       "      <th></th>\n",
       "      <th>accuracy</th>\n",
       "      <th>rt</th>\n",
       "      <th>string</th>\n",
       "      <th>response</th>\n",
       "      <th>minRT</th>\n",
       "      <th>participant_id</th>\n",
       "      <th>label</th>\n",
       "      <th>zipf</th>\n",
       "      <th>category</th>\n",
       "      <th>word_prob</th>\n",
       "      <th>non_word_prob</th>\n",
       "    </tr>\n",
       "  </thead>\n",
       "  <tbody>\n",
       "    <tr>\n",
       "      <th>0</th>\n",
       "      <td>1</td>\n",
       "      <td>0.378</td>\n",
       "      <td>bodule</td>\n",
       "      <td>0</td>\n",
       "      <td>0.378</td>\n",
       "      <td>1</td>\n",
       "      <td>0.0</td>\n",
       "      <td>0.000000</td>\n",
       "      <td>NW</td>\n",
       "      <td>0.000013</td>\n",
       "      <td>0.999987</td>\n",
       "    </tr>\n",
       "    <tr>\n",
       "      <th>1</th>\n",
       "      <td>1</td>\n",
       "      <td>0.415</td>\n",
       "      <td>remember</td>\n",
       "      <td>1</td>\n",
       "      <td>0.378</td>\n",
       "      <td>1</td>\n",
       "      <td>1.0</td>\n",
       "      <td>5.733796</td>\n",
       "      <td>HF</td>\n",
       "      <td>0.999947</td>\n",
       "      <td>0.000053</td>\n",
       "    </tr>\n",
       "    <tr>\n",
       "      <th>2</th>\n",
       "      <td>1</td>\n",
       "      <td>0.425</td>\n",
       "      <td>mellow</td>\n",
       "      <td>1</td>\n",
       "      <td>0.378</td>\n",
       "      <td>1</td>\n",
       "      <td>1.0</td>\n",
       "      <td>3.479355</td>\n",
       "      <td>HF</td>\n",
       "      <td>0.999825</td>\n",
       "      <td>0.000175</td>\n",
       "    </tr>\n",
       "    <tr>\n",
       "      <th>3</th>\n",
       "      <td>1</td>\n",
       "      <td>0.430</td>\n",
       "      <td>gluff</td>\n",
       "      <td>0</td>\n",
       "      <td>0.378</td>\n",
       "      <td>1</td>\n",
       "      <td>0.0</td>\n",
       "      <td>0.000000</td>\n",
       "      <td>NW</td>\n",
       "      <td>0.000001</td>\n",
       "      <td>0.999999</td>\n",
       "    </tr>\n",
       "    <tr>\n",
       "      <th>4</th>\n",
       "      <td>1</td>\n",
       "      <td>0.435</td>\n",
       "      <td>imversion</td>\n",
       "      <td>0</td>\n",
       "      <td>0.378</td>\n",
       "      <td>1</td>\n",
       "      <td>0.0</td>\n",
       "      <td>0.000000</td>\n",
       "      <td>NW</td>\n",
       "      <td>0.000750</td>\n",
       "      <td>0.999250</td>\n",
       "    </tr>\n",
       "  </tbody>\n",
       "</table>\n",
       "</div>"
      ],
      "text/plain": [
       "   accuracy     rt     string  response  minRT  participant_id  label  \\\n",
       "0         1  0.378     bodule         0  0.378               1    0.0   \n",
       "1         1  0.415   remember         1  0.378               1    1.0   \n",
       "2         1  0.425     mellow         1  0.378               1    1.0   \n",
       "3         1  0.430      gluff         0  0.378               1    0.0   \n",
       "4         1  0.435  imversion         0  0.378               1    0.0   \n",
       "\n",
       "       zipf category  word_prob  non_word_prob  \n",
       "0  0.000000       NW   0.000013       0.999987  \n",
       "1  5.733796       HF   0.999947       0.000053  \n",
       "2  3.479355       HF   0.999825       0.000175  \n",
       "3  0.000000       NW   0.000001       0.999999  \n",
       "4  0.000000       NW   0.000750       0.999250  "
      ]
     },
     "execution_count": 5,
     "metadata": {},
     "output_type": "execute_result"
    }
   ],
   "source": [
    "behavioural_df.head()"
   ]
  },
  {
   "cell_type": "code",
   "execution_count": 6,
   "id": "d9c7a6ae-8b2d-4cb4-b6e5-3026f218ebe4",
   "metadata": {
    "tags": []
   },
   "outputs": [],
   "source": [
    "# Reducing size of dataframe for testing purposes\n",
    "behavioural_df = behavioural_df.loc[behavioural_df[\"participant_id\"].isin(np.arange(3))]"
   ]
  },
  {
   "cell_type": "markdown",
   "id": "bf45c9c9-d291-4678-8ad2-e42f7e6c3d1c",
   "metadata": {
    "tags": []
   },
   "source": [
    "### Get Parameters Range "
   ]
  },
  {
   "cell_type": "code",
   "execution_count": 7,
   "id": "8669fd49-e080-49e9-b4b0-7a80ecc70f8c",
   "metadata": {},
   "outputs": [
    {
     "name": "stderr",
     "output_type": "stream",
     "text": [
      "18:19:21 - cmdstanpy - WARNING - Some chains may have failed to converge.\n",
      "\tChain 1 had 3 divergent transitions (0.6%)\n",
      "\tChain 2 had 2 divergent transitions (0.4%)\n",
      "\tUse function \"diagnose()\" to see further information.\n"
     ]
    },
    {
     "data": {
      "text/html": [
       "<div>\n",
       "<style scoped>\n",
       "    .dataframe tbody tr th:only-of-type {\n",
       "        vertical-align: middle;\n",
       "    }\n",
       "\n",
       "    .dataframe tbody tr th {\n",
       "        vertical-align: top;\n",
       "    }\n",
       "\n",
       "    .dataframe thead th {\n",
       "        text-align: right;\n",
       "    }\n",
       "</style>\n",
       "<table border=\"1\" class=\"dataframe\">\n",
       "  <thead>\n",
       "    <tr style=\"text-align: right;\">\n",
       "      <th></th>\n",
       "      <th>mean</th>\n",
       "      <th>std</th>\n",
       "    </tr>\n",
       "  </thead>\n",
       "  <tbody>\n",
       "    <tr>\n",
       "      <th>alpha_sbj</th>\n",
       "      <td>1.852985</td>\n",
       "      <td>0.407143</td>\n",
       "    </tr>\n",
       "    <tr>\n",
       "      <th>b_sbj</th>\n",
       "      <td>0.337140</td>\n",
       "      <td>0.132949</td>\n",
       "    </tr>\n",
       "    <tr>\n",
       "      <th>k_1_sbj</th>\n",
       "      <td>2.452307</td>\n",
       "      <td>0.491251</td>\n",
       "    </tr>\n",
       "    <tr>\n",
       "      <th>k_2_sbj</th>\n",
       "      <td>3.467335</td>\n",
       "      <td>0.371054</td>\n",
       "    </tr>\n",
       "    <tr>\n",
       "      <th>threshold_sbj_word</th>\n",
       "      <td>1.202835</td>\n",
       "      <td>0.126076</td>\n",
       "    </tr>\n",
       "    <tr>\n",
       "      <th>threshold_sbj_nonword</th>\n",
       "      <td>1.655854</td>\n",
       "      <td>0.143301</td>\n",
       "    </tr>\n",
       "    <tr>\n",
       "      <th>g_sbj</th>\n",
       "      <td>0.067546</td>\n",
       "      <td>0.053861</td>\n",
       "    </tr>\n",
       "    <tr>\n",
       "      <th>m_sbj</th>\n",
       "      <td>1.494549</td>\n",
       "      <td>0.218995</td>\n",
       "    </tr>\n",
       "  </tbody>\n",
       "</table>\n",
       "</div>"
      ],
      "text/plain": [
       "                           mean       std\n",
       "alpha_sbj              1.852985  0.407143\n",
       "b_sbj                  0.337140  0.132949\n",
       "k_1_sbj                2.452307  0.491251\n",
       "k_2_sbj                3.467335  0.371054\n",
       "threshold_sbj_word     1.202835  0.126076\n",
       "threshold_sbj_nonword  1.655854  0.143301\n",
       "g_sbj                  0.067546  0.053861\n",
       "m_sbj                  1.494549  0.218995"
      ]
     },
     "execution_count": 7,
     "metadata": {},
     "output_type": "execute_result"
    }
   ],
   "source": [
    "ranges = get_parameters_range(path_to_stan_output, behavioural_df)\n",
    "ranges"
   ]
  },
  {
   "cell_type": "code",
   "execution_count": 8,
   "id": "b389850f-aaad-4b7b-b491-39a7550d6247",
   "metadata": {
    "tags": []
   },
   "outputs": [],
   "source": [
    "ranges.index = [\"alpha\", \"b\", \"k_1\", \"k_2\", \"threshold_word\", \"threshold_nonword\", \"g\", \"m\"]"
   ]
  },
  {
   "cell_type": "code",
   "execution_count": 9,
   "id": "e14e97a2-18d2-44b3-b800-4deb83c1ec96",
   "metadata": {
    "tags": []
   },
   "outputs": [],
   "source": [
    "ranges.to_csv(\"Data/params_range.csv\")"
   ]
  },
  {
   "cell_type": "code",
   "execution_count": null,
   "id": "292cbdb9-b52e-4e9a-b114-2292034e9975",
   "metadata": {},
   "outputs": [],
   "source": []
  }
 ],
 "metadata": {
  "kernelspec": {
   "display_name": "stan",
   "language": "python",
   "name": "stan"
  },
  "language_info": {
   "codemirror_mode": {
    "name": "ipython",
    "version": 3
   },
   "file_extension": ".py",
   "mimetype": "text/x-python",
   "name": "python",
   "nbconvert_exporter": "python",
   "pygments_lexer": "ipython3",
   "version": "3.11.0"
  }
 },
 "nbformat": 4,
 "nbformat_minor": 5
}
