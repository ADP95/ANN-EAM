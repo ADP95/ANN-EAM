{
 "cells": [
  {
   "cell_type": "code",
   "execution_count": 1,
   "id": "b8c082ae-54dc-4a69-99f3-5a6f0155c1ad",
   "metadata": {
    "tags": []
   },
   "outputs": [],
   "source": [
    "import sys\n",
    "import os\n",
    "sys.path.append(os.path.dirname(os.path.abspath(os.getcwd())))\n",
    "\n",
    "import numpy as np\n",
    "import pandas as pd\n",
    "import cmdstanpy \n",
    "import pickle\n",
    "import matplotlib.pyplot as plt\n",
    "import seaborn as sns\n",
    "import arviz as az\n",
    "import os\n",
    "import json\n",
    "from utils.random import simulate_ANNRDM_individual\n",
    "from utils.utils import get_parameters_range, hdi\n",
    "from scipy.stats import gaussian_kde\n",
    "from sklearn.metrics import r2_score"
   ]
  },
  {
   "cell_type": "code",
   "execution_count": 2,
   "id": "24adb6c4-ed00-40b3-a188-67df8a0c4614",
   "metadata": {
    "tags": []
   },
   "outputs": [],
   "source": [
    "sns.set_theme(style=\"whitegrid\")\n",
    "plt.rcParams[\"font.family\"] = \"serif\"\n",
    "plt.rcParams[\"font.serif\"] = [\"Times New Roman\"] + plt.rcParams[\"font.serif\"]\n",
    "plt.rcParams[\"pdf.fonttype\"] = 42\n",
    "plt.rcParams[\"pdf.use14corefonts\"] = True"
   ]
  },
  {
   "cell_type": "code",
   "execution_count": 3,
   "id": "ec84a9b1-6d9c-4896-a2ec-71c2ada7c986",
   "metadata": {
    "tags": []
   },
   "outputs": [],
   "source": [
    "root = \"../\"\n",
    "plots_root = \"Results/individual/Plots/\"\n",
    "datasets_root = root + \"Datasets/\"\n",
    "behavioural_data_root = datasets_root +  \"behavioral_data/selected_data/\" \n",
    "\n",
    "dataset_path = datasets_root + \"AI Models Results/fastText_FC.csv\""
   ]
  },
  {
   "cell_type": "code",
   "execution_count": 4,
   "id": "5638c90f-db44-470e-bf0d-a29f825030d5",
   "metadata": {
    "tags": []
   },
   "outputs": [],
   "source": [
    "word_nword_df = pd.read_csv(dataset_path, header=None,\n",
    "                            names =[\"string\", \"freq\",  \"label\", \"zipf\",\n",
    "                                    \"category\", \"word_prob\", \"non_word_prob\"])"
   ]
  },
  {
   "cell_type": "code",
   "execution_count": 5,
   "id": "0d434dd8-9732-4cf0-a688-d8e2f774fc98",
   "metadata": {},
   "outputs": [],
   "source": [
    "number_of_participants = 10\n",
    "n_trials = 400"
   ]
  },
  {
   "cell_type": "code",
   "execution_count": 6,
   "id": "c5a7128a-7789-4eff-b14d-e9d6ee8eddd2",
   "metadata": {
    "tags": []
   },
   "outputs": [],
   "source": [
    "# set sampling parameters\n",
    "n_iter = 2000\n",
    "n_warmup = int(n_iter/2)\n",
    "n_sample = int(n_iter/2)\n",
    "n_chains = 2\n",
    "\n",
    "threshold_priors = [2, 1]          # For all models with RDM\n",
    "ndt_priors = [0, 1];               # For models wtihout non-decision time modulation\n",
    "g_priors = [-2, 1]                 # For models wtih non-decision time modulation\n",
    "m_priors = [0, 0.5]                # For models wtih non-decision time modulation\n",
    "drift_priors = [1, 2]              # For models without drift mapping functions (non ANN-EAM models)\n",
    "alpha_priors = [0, 1]              # For models with drift mapping functions\n",
    "b_priors = [0, 1]                  # For models with drift mapping functions with asymptote modulation and linear models\n",
    "k_priors = [2, 1]                  # For models with sigmoid drift mapping functions (ANN-EAM models)\n",
    "\n",
    "def get_stan_parameters(generated_df):\n",
    "    N = len(generated_df)                                                    # For all models\n",
    "    p = generated_df.loc[:, [\"word_prob\", \"non_word_prob\"]].to_numpy()       # predicted probabilites of words and non-words, for ANN-EAM models\n",
    "    frequency = generated_df[\"zipf\"].to_numpy().astype(int)                  # zipf values, for models with non-decision time or drift modulation\n",
    "    frequencyCondition = generated_df[\"category\"].replace([\"HF\", \"LF\", \"NW\"], [1, 2, 3]).to_numpy() # For models with conditional drift\n",
    "    response = generated_df[\"response\"].to_numpy().astype(int)               # for all models\n",
    "    rt = generated_df[\"rt\"].to_numpy()                                       # for all models\n",
    "    minRT = generated_df[\"minRT\"].to_numpy()                                 # for all models\n",
    "    RTbound = 0.1                                                             # for all models\n",
    "    ndt = generated_df[\"ndt\"]\n",
    "    threshold_word = generated_df[\"threshold_word\"]\n",
    "    threshold_nonword = generated_df[\"threshold_nonword\"]\n",
    "    k_2 = generated_df[\"k_2\"]\n",
    "    b = generated_df[\"b\"]\n",
    "    alpha = generated_df[\"alpha\"]\n",
    "    k_1 = generated_df[\"k_1\"]\n",
    "    \n",
    "\n",
    "    # define input for the model\n",
    "    data_dict = {\"N\": N,\n",
    "                 \"response\": response,\n",
    "                 \"rt\": rt,\n",
    "                 \"minRT\": minRT,\n",
    "                 \"RTbound\": RTbound,\n",
    "                 \"frequency\": frequency,\n",
    "                 \"frequencyCondition\": frequencyCondition,\n",
    "                 \"threshold_priors\": threshold_priors,\n",
    "                 \"ndt_priors\": ndt_priors,\n",
    "                 \"g_priors\": g_priors,\n",
    "                 \"m_priors\": m_priors,\n",
    "                 \"drift_priors\": drift_priors,\n",
    "                 \"p\": p,\n",
    "                 \"alpha_priors\": alpha_priors,\n",
    "                 \"b_priors\": b_priors,\n",
    "                 \"k_priors\": k_priors,\n",
    "                 \"ndt\":ndt,\n",
    "                 \"threshold_word\": threshold_word,\n",
    "                 \"threshold_nonword\": threshold_nonword,\n",
    "                 \"k_2\": k_2,\n",
    "                 \"b\":b,\n",
    "                 \"alpha\": alpha,\n",
    "                 \"k_1\": k_1\n",
    "                 }\n",
    "    return data_dict"
   ]
  },
  {
   "cell_type": "markdown",
   "id": "86d41d40-fc6f-4b6b-a10f-54d4b9b883cc",
   "metadata": {
    "jp-MarkdownHeadingCollapsed": true,
    "tags": []
   },
   "source": [
    "# K_1"
   ]
  },
  {
   "cell_type": "code",
   "execution_count": 17,
   "id": "5f851ab8-5507-41cb-9f66-28578f087222",
   "metadata": {},
   "outputs": [],
   "source": [
    "stan_file_path = root +  \"models/stan/ANN-RDM/individual/k_1_recovery.stan\" "
   ]
  },
  {
   "cell_type": "code",
   "execution_count": 18,
   "id": "ec9b839e-3dcd-4343-97fa-3ca0288235be",
   "metadata": {},
   "outputs": [],
   "source": [
    "def save_results_to_csv(fit, parameters_set):\n",
    "    columns = {}\n",
    "    \n",
    "    recoverd_df = pd.DataFrame([], columns=columns.keys())\n",
    "    stan_variables = fit.stan_variables()\n",
    "\n",
    "    columns[\"mean_k_1\"] = stan_variables[\"k_1\"].mean()\n",
    "    columns[\"median_k_1\"] = np.median(stan_variables[\"k_1\"])\n",
    "    columns[\"real_k_1\"] = parameters_set.loc[\"k_1\", \"generated\"]\n",
    "    columns[\"HDI_k_1_bottom\"], columns[\"HDI_k_1_top\"] = hdi(stan_variables[\"k_1\"])\n",
    "\n",
    "    \n",
    "    recoverd_df = pd.concat([recoverd_df, pd.DataFrame(columns, index=[0])])\n",
    "\n",
    "    output_path=\"RecoveryResults/k_1_recovery_results.csv\"\n",
    "    recoverd_df.to_csv(output_path,\n",
    "                       mode=\"a\",\n",
    "                       header=not os.path.exists(output_path),\n",
    "                       index=False)"
   ]
  },
  {
   "cell_type": "markdown",
   "id": "c650ddcb-6e9b-428a-8079-31f094d02306",
   "metadata": {
    "id": "123c4809-7b46-4f8d-b578-0d5e9fb5fbe7"
   },
   "source": [
    "## Simulation and Estimation process"
   ]
  },
  {
   "cell_type": "code",
   "execution_count": 19,
   "id": "ad6abe12-2840-4fee-a05d-5cb76d8d597f",
   "metadata": {
    "colab": {
     "base_uri": "https://localhost:8080/"
    },
    "executionInfo": {
     "elapsed": 93380,
     "status": "ok",
     "timestamp": 1651313346844,
     "user": {
      "displayName": "Arash Dadras",
      "userId": "05722346836148265544"
     },
     "user_tz": -270
    },
    "id": "c1b3627d-0ea2-49b6-86f0-7b098a5a16d6",
    "outputId": "4bc8643c-82c0-4fc9-99a0-7f232fa1eea4",
    "scrolled": true,
    "tags": []
   },
   "outputs": [],
   "source": [
    "rdm_model = cmdstanpy.CmdStanModel(model_name=\"ANN-RDM_full_FC\",\n",
    "                                   stan_file=stan_file_path)"
   ]
  },
  {
   "cell_type": "code",
   "execution_count": 20,
   "id": "6150e810-7b86-4834-ba91-d78ea4343730",
   "metadata": {
    "scrolled": true,
    "tags": []
   },
   "outputs": [
    {
     "name": "stdout",
     "output_type": "stream",
     "text": [
      "Iteration for participant 1 Started\n"
     ]
    },
    {
     "name": "stderr",
     "output_type": "stream",
     "text": [
      "16:32:24 - cmdstanpy - INFO - CmdStan start processing\n"
     ]
    },
    {
     "data": {
      "application/vnd.jupyter.widget-view+json": {
       "model_id": "4f6b750ef4bb48d0981f52afd87c6b1e",
       "version_major": 2,
       "version_minor": 0
      },
      "text/plain": [
       "chain 1 |          | 00:00 Status"
      ]
     },
     "metadata": {},
     "output_type": "display_data"
    },
    {
     "data": {
      "application/vnd.jupyter.widget-view+json": {
       "model_id": "d73880edbde04c3698c277fa9208af3d",
       "version_major": 2,
       "version_minor": 0
      },
      "text/plain": [
       "chain 2 |          | 00:00 Status"
      ]
     },
     "metadata": {},
     "output_type": "display_data"
    },
    {
     "name": "stdout",
     "output_type": "stream",
     "text": [
      "                                                                                                                                                                                                                                                "
     ]
    },
    {
     "name": "stderr",
     "output_type": "stream",
     "text": [
      "16:32:29 - cmdstanpy - INFO - CmdStan done processing.\n"
     ]
    },
    {
     "name": "stdout",
     "output_type": "stream",
     "text": [
      "\n",
      "Iteration for participant 1 Finished\n",
      "Iteration for participant 2 Started\n"
     ]
    },
    {
     "name": "stderr",
     "output_type": "stream",
     "text": [
      "16:32:45 - cmdstanpy - INFO - CmdStan start processing\n"
     ]
    },
    {
     "data": {
      "application/vnd.jupyter.widget-view+json": {
       "model_id": "505f55241e2846328994ff26ffc4a945",
       "version_major": 2,
       "version_minor": 0
      },
      "text/plain": [
       "chain 1 |          | 00:00 Status"
      ]
     },
     "metadata": {},
     "output_type": "display_data"
    },
    {
     "data": {
      "application/vnd.jupyter.widget-view+json": {
       "model_id": "da413606017447c7b98cc376ae32177f",
       "version_major": 2,
       "version_minor": 0
      },
      "text/plain": [
       "chain 2 |          | 00:00 Status"
      ]
     },
     "metadata": {},
     "output_type": "display_data"
    },
    {
     "name": "stdout",
     "output_type": "stream",
     "text": [
      "                                                                                                                                                                                                                                                "
     ]
    },
    {
     "name": "stderr",
     "output_type": "stream",
     "text": [
      "16:32:51 - cmdstanpy - INFO - CmdStan done processing.\n"
     ]
    },
    {
     "name": "stdout",
     "output_type": "stream",
     "text": [
      "\n",
      "Iteration for participant 2 Finished\n",
      "Iteration for participant 3 Started\n"
     ]
    },
    {
     "name": "stderr",
     "output_type": "stream",
     "text": [
      "16:33:07 - cmdstanpy - INFO - CmdStan start processing\n"
     ]
    },
    {
     "data": {
      "application/vnd.jupyter.widget-view+json": {
       "model_id": "f191eb76596d4895af06ccab22dbcfab",
       "version_major": 2,
       "version_minor": 0
      },
      "text/plain": [
       "chain 1 |          | 00:00 Status"
      ]
     },
     "metadata": {},
     "output_type": "display_data"
    },
    {
     "data": {
      "application/vnd.jupyter.widget-view+json": {
       "model_id": "8e2bdba0201541e196f1a699cec2d3fc",
       "version_major": 2,
       "version_minor": 0
      },
      "text/plain": [
       "chain 2 |          | 00:00 Status"
      ]
     },
     "metadata": {},
     "output_type": "display_data"
    },
    {
     "name": "stdout",
     "output_type": "stream",
     "text": [
      "                                                                                                                                                                                                                                                "
     ]
    },
    {
     "name": "stderr",
     "output_type": "stream",
     "text": [
      "16:33:12 - cmdstanpy - INFO - CmdStan done processing.\n"
     ]
    },
    {
     "name": "stdout",
     "output_type": "stream",
     "text": [
      "\n",
      "Iteration for participant 3 Finished\n",
      "Iteration for participant 4 Started\n"
     ]
    },
    {
     "name": "stderr",
     "output_type": "stream",
     "text": [
      "16:33:28 - cmdstanpy - INFO - CmdStan start processing\n"
     ]
    },
    {
     "data": {
      "application/vnd.jupyter.widget-view+json": {
       "model_id": "a775c01ef2874c5fb3281854ffeb0e04",
       "version_major": 2,
       "version_minor": 0
      },
      "text/plain": [
       "chain 1 |          | 00:00 Status"
      ]
     },
     "metadata": {},
     "output_type": "display_data"
    },
    {
     "data": {
      "application/vnd.jupyter.widget-view+json": {
       "model_id": "805812f3d8d84e16bbd61e216ccad26f",
       "version_major": 2,
       "version_minor": 0
      },
      "text/plain": [
       "chain 2 |          | 00:00 Status"
      ]
     },
     "metadata": {},
     "output_type": "display_data"
    },
    {
     "name": "stdout",
     "output_type": "stream",
     "text": [
      "                                                                                                                                                                                                                                                "
     ]
    },
    {
     "name": "stderr",
     "output_type": "stream",
     "text": [
      "16:33:34 - cmdstanpy - INFO - CmdStan done processing.\n"
     ]
    },
    {
     "name": "stdout",
     "output_type": "stream",
     "text": [
      "\n",
      "Iteration for participant 4 Finished\n",
      "Iteration for participant 5 Started\n"
     ]
    },
    {
     "name": "stderr",
     "output_type": "stream",
     "text": [
      "16:33:50 - cmdstanpy - INFO - CmdStan start processing\n"
     ]
    },
    {
     "data": {
      "application/vnd.jupyter.widget-view+json": {
       "model_id": "9704833d93cc4d8bafeddb3f93a60d78",
       "version_major": 2,
       "version_minor": 0
      },
      "text/plain": [
       "chain 1 |          | 00:00 Status"
      ]
     },
     "metadata": {},
     "output_type": "display_data"
    },
    {
     "data": {
      "application/vnd.jupyter.widget-view+json": {
       "model_id": "bc762c78808b4247bb246b099fadf8aa",
       "version_major": 2,
       "version_minor": 0
      },
      "text/plain": [
       "chain 2 |          | 00:00 Status"
      ]
     },
     "metadata": {},
     "output_type": "display_data"
    },
    {
     "name": "stdout",
     "output_type": "stream",
     "text": [
      "                                                                                                                                                                                                                                                "
     ]
    },
    {
     "name": "stderr",
     "output_type": "stream",
     "text": [
      "16:33:55 - cmdstanpy - INFO - CmdStan done processing.\n"
     ]
    },
    {
     "name": "stdout",
     "output_type": "stream",
     "text": [
      "\n",
      "Iteration for participant 5 Finished\n",
      "Iteration for participant 6 Started\n"
     ]
    },
    {
     "name": "stderr",
     "output_type": "stream",
     "text": [
      "16:34:12 - cmdstanpy - INFO - CmdStan start processing\n"
     ]
    },
    {
     "data": {
      "application/vnd.jupyter.widget-view+json": {
       "model_id": "cc8e1723b6984ff59fab21d5b84fe8d1",
       "version_major": 2,
       "version_minor": 0
      },
      "text/plain": [
       "chain 1 |          | 00:00 Status"
      ]
     },
     "metadata": {},
     "output_type": "display_data"
    },
    {
     "data": {
      "application/vnd.jupyter.widget-view+json": {
       "model_id": "c1cc5537524f491aab92f1f95fa7ffa7",
       "version_major": 2,
       "version_minor": 0
      },
      "text/plain": [
       "chain 2 |          | 00:00 Status"
      ]
     },
     "metadata": {},
     "output_type": "display_data"
    },
    {
     "name": "stdout",
     "output_type": "stream",
     "text": [
      "                                                                                                                                                                                                                                                "
     ]
    },
    {
     "name": "stderr",
     "output_type": "stream",
     "text": [
      "16:34:18 - cmdstanpy - INFO - CmdStan done processing.\n"
     ]
    },
    {
     "name": "stdout",
     "output_type": "stream",
     "text": [
      "\n",
      "Iteration for participant 6 Finished\n",
      "Iteration for participant 7 Started\n"
     ]
    },
    {
     "name": "stderr",
     "output_type": "stream",
     "text": [
      "16:34:37 - cmdstanpy - INFO - CmdStan start processing\n"
     ]
    },
    {
     "data": {
      "application/vnd.jupyter.widget-view+json": {
       "model_id": "b42f78fa21864fb78e1369fe63a66120",
       "version_major": 2,
       "version_minor": 0
      },
      "text/plain": [
       "chain 1 |          | 00:00 Status"
      ]
     },
     "metadata": {},
     "output_type": "display_data"
    },
    {
     "data": {
      "application/vnd.jupyter.widget-view+json": {
       "model_id": "9826480bb4e54c30b012976a10dece51",
       "version_major": 2,
       "version_minor": 0
      },
      "text/plain": [
       "chain 2 |          | 00:00 Status"
      ]
     },
     "metadata": {},
     "output_type": "display_data"
    },
    {
     "name": "stdout",
     "output_type": "stream",
     "text": [
      "                                                                                                                                                                                                                                                "
     ]
    },
    {
     "name": "stderr",
     "output_type": "stream",
     "text": [
      "16:34:43 - cmdstanpy - INFO - CmdStan done processing.\n"
     ]
    },
    {
     "name": "stdout",
     "output_type": "stream",
     "text": [
      "\n",
      "Split R-hat values are not satisfactory for all parameters. repeating iteration\n",
      "Iteration for participant 7 Started\n"
     ]
    },
    {
     "name": "stderr",
     "output_type": "stream",
     "text": [
      "16:34:59 - cmdstanpy - INFO - CmdStan start processing\n"
     ]
    },
    {
     "data": {
      "application/vnd.jupyter.widget-view+json": {
       "model_id": "b4af75db5d4641978e847216ab8c18e1",
       "version_major": 2,
       "version_minor": 0
      },
      "text/plain": [
       "chain 1 |          | 00:00 Status"
      ]
     },
     "metadata": {},
     "output_type": "display_data"
    },
    {
     "data": {
      "application/vnd.jupyter.widget-view+json": {
       "model_id": "ed3c6b3eb930449e94a95c87dbd6c7b2",
       "version_major": 2,
       "version_minor": 0
      },
      "text/plain": [
       "chain 2 |          | 00:00 Status"
      ]
     },
     "metadata": {},
     "output_type": "display_data"
    },
    {
     "name": "stdout",
     "output_type": "stream",
     "text": [
      "                                                                                                                                                                                                                                                "
     ]
    },
    {
     "name": "stderr",
     "output_type": "stream",
     "text": [
      "16:35:05 - cmdstanpy - INFO - CmdStan done processing.\n"
     ]
    },
    {
     "name": "stdout",
     "output_type": "stream",
     "text": [
      "\n",
      "Iteration for participant 7 Finished\n",
      "Iteration for participant 8 Started\n"
     ]
    },
    {
     "name": "stderr",
     "output_type": "stream",
     "text": [
      "16:35:22 - cmdstanpy - INFO - CmdStan start processing\n"
     ]
    },
    {
     "data": {
      "application/vnd.jupyter.widget-view+json": {
       "model_id": "d1194720257d4198b1ab44f473e28a94",
       "version_major": 2,
       "version_minor": 0
      },
      "text/plain": [
       "chain 1 |          | 00:00 Status"
      ]
     },
     "metadata": {},
     "output_type": "display_data"
    },
    {
     "data": {
      "application/vnd.jupyter.widget-view+json": {
       "model_id": "9258abc4637e4d9482905e669313b8fe",
       "version_major": 2,
       "version_minor": 0
      },
      "text/plain": [
       "chain 2 |          | 00:00 Status"
      ]
     },
     "metadata": {},
     "output_type": "display_data"
    },
    {
     "name": "stdout",
     "output_type": "stream",
     "text": [
      "                                                                                                                                                                                                                                                "
     ]
    },
    {
     "name": "stderr",
     "output_type": "stream",
     "text": [
      "16:35:28 - cmdstanpy - INFO - CmdStan done processing.\n"
     ]
    },
    {
     "name": "stdout",
     "output_type": "stream",
     "text": [
      "\n",
      "Iteration for participant 8 Finished\n",
      "Iteration for participant 9 Started\n"
     ]
    },
    {
     "name": "stderr",
     "output_type": "stream",
     "text": [
      "16:35:45 - cmdstanpy - INFO - CmdStan start processing\n"
     ]
    },
    {
     "data": {
      "application/vnd.jupyter.widget-view+json": {
       "model_id": "f77156c8f8ad40e79fffa2bb2365252a",
       "version_major": 2,
       "version_minor": 0
      },
      "text/plain": [
       "chain 1 |          | 00:00 Status"
      ]
     },
     "metadata": {},
     "output_type": "display_data"
    },
    {
     "data": {
      "application/vnd.jupyter.widget-view+json": {
       "model_id": "58437af6a2694d1dabc47cfe1be83f6f",
       "version_major": 2,
       "version_minor": 0
      },
      "text/plain": [
       "chain 2 |          | 00:00 Status"
      ]
     },
     "metadata": {},
     "output_type": "display_data"
    },
    {
     "name": "stdout",
     "output_type": "stream",
     "text": [
      "                                                                                                                                                                                                                                                "
     ]
    },
    {
     "name": "stderr",
     "output_type": "stream",
     "text": [
      "16:35:50 - cmdstanpy - INFO - CmdStan done processing.\n"
     ]
    },
    {
     "name": "stdout",
     "output_type": "stream",
     "text": [
      "\n",
      "Iteration for participant 9 Finished\n",
      "Iteration for participant 10 Started\n"
     ]
    },
    {
     "name": "stderr",
     "output_type": "stream",
     "text": [
      "16:36:07 - cmdstanpy - INFO - CmdStan start processing\n"
     ]
    },
    {
     "data": {
      "application/vnd.jupyter.widget-view+json": {
       "model_id": "52a3ed6000ae4b4398505b8294151509",
       "version_major": 2,
       "version_minor": 0
      },
      "text/plain": [
       "chain 1 |          | 00:00 Status"
      ]
     },
     "metadata": {},
     "output_type": "display_data"
    },
    {
     "data": {
      "application/vnd.jupyter.widget-view+json": {
       "model_id": "6d357b4c2bfc48bcb4112dfe1e84d2f5",
       "version_major": 2,
       "version_minor": 0
      },
      "text/plain": [
       "chain 2 |          | 00:00 Status"
      ]
     },
     "metadata": {},
     "output_type": "display_data"
    },
    {
     "name": "stdout",
     "output_type": "stream",
     "text": [
      "                                                                                                                                                                                                                                                "
     ]
    },
    {
     "name": "stderr",
     "output_type": "stream",
     "text": [
      "16:36:13 - cmdstanpy - INFO - CmdStan done processing.\n"
     ]
    },
    {
     "name": "stdout",
     "output_type": "stream",
     "text": [
      "\n",
      "Iteration for participant 10 Finished\n"
     ]
    }
   ],
   "source": [
    "iteration_count = 0\n",
    "params_range = pd.read_csv(\"Data/params_range.csv\", index_col=0)\n",
    "while iteration_count < number_of_participants:\n",
    "    print(f\"Iteration for participant {iteration_count+1} Started\")\n",
    "    parameters_set = params_range.copy()\n",
    "    parameters_set[\"generated\"] = np.random.normal(loc=parameters_set.iloc[:, 0],\n",
    "                                                   scale=parameters_set.iloc[:, 1])\n",
    "\n",
    "    behavioral_df = simulate_ANNRDM_individual(n_trials=n_trials, trials_info_df=word_nword_df,\n",
    "                                         parameters_set=parameters_set)\n",
    "    stan_parameters = get_stan_parameters(behavioral_df)\n",
    "    fit = rdm_model.sample(data=stan_parameters,\n",
    "                       iter_sampling=n_sample, \n",
    "                       iter_warmup=n_warmup,\n",
    "                       chains=n_chains,\n",
    "                       show_console=False)\n",
    "    \n",
    "    df = fit.summary()\n",
    "    badRhat = False\n",
    "    for f in df[\"R_hat\"]:\n",
    "        if f >= 1.01 or f <= 0.9:\n",
    "            badRhat = True\n",
    "    \n",
    "    if badRhat:\n",
    "        print(\"Split R-hat values are not satisfactory for all parameters. repeating iteration\") \n",
    "    else:\n",
    "        save_results_to_csv(fit, parameters_set)\n",
    "        print(f\"Iteration for participant {iteration_count+1} Finished\") \n",
    "        iteration_count += 1"
   ]
  },
  {
   "cell_type": "markdown",
   "id": "632d370f-7ebe-4acc-84bd-db5123551216",
   "metadata": {},
   "source": [
    "## Particpants parameter recovery"
   ]
  },
  {
   "cell_type": "code",
   "execution_count": 21,
   "id": "21f6a76e-0d92-4a1a-a6bb-db355a548c1f",
   "metadata": {
    "tags": []
   },
   "outputs": [],
   "source": [
    "recovery_data = pd.read_csv(\"RecoveryResults/k_1_recovery_results.csv\", header=0)"
   ]
  },
  {
   "cell_type": "code",
   "execution_count": 22,
   "id": "441a8719-5aae-4048-93d8-b61f80714484",
   "metadata": {
    "tags": []
   },
   "outputs": [
    {
     "data": {
      "text/plain": [
       "[1.5390785619831422,\n",
       " 4.2016561800000005,\n",
       " 1.5390785619831422,\n",
       " 4.2016561800000005]"
      ]
     },
     "execution_count": 22,
     "metadata": {},
     "output_type": "execute_result"
    },
    {
     "data": {
      "image/png": "[encoded data removed]",
      "text/plain": [
       "<Figure size 1000x500 with 1 Axes>"
      ]
     },
     "metadata": {},
     "output_type": "display_data"
    }
   ],
   "source": [
    "fig, ax = plt.subplots(1, 1, figsize=(10,5))\n",
    "plt.subplots_adjust(wspace=0.2, hspace=0.5)\n",
    "posterior_mean = recovery_data[\"mean_k_1\"]\n",
    "posterior_median = recovery_data[\"median_k_1\"]\n",
    "true = recovery_data[\"real_k_1\"]\n",
    "ax.scatter(true, posterior_mean, color=\"tomato\",\n",
    "                                zorder=10)\n",
    "ax.scatter(true, posterior_median, color=\"yellow\",\n",
    "                                zorder=9)\n",
    "ax.vlines(x=true.to_numpy(), linewidth=2,\n",
    "          ymin=recovery_data[\"HDI_k_1_bottom\"].to_numpy(),\n",
    "          ymax=recovery_data[\"HDI_k_1_top\"].to_numpy())\n",
    "ax.set_title(\"k_1\")\n",
    "\n",
    "min_true_point = true.min()\n",
    "max_true_point = true.max()\n",
    "recoverline = ax.axline((min_true_point, min_true_point),\n",
    "                        (max_true_point, max_true_point))\n",
    "plt.setp(recoverline, linewidth=3, color=\"grey\")\n",
    "\n",
    "r2 = r2_score(true, posterior_mean)\n",
    "ax.text(0.08, 0.92, f\"R2: {r2:.2f}\", horizontalalignment='center',\n",
    "        verticalalignment='center', transform=ax.transAxes)\n",
    "    \n",
    "custom_xlim = (min(min_true_point, posterior_mean.min())-0.5,\n",
    "               max(max_true_point, posterior_mean.max())+0.5)\n",
    "custom_ylim = (min(min_true_point, posterior_mean.min())-0.5,\n",
    "               max(max_true_point, posterior_mean.max())+0.5)\n",
    "\n",
    "# Setting the values for all axes.\n",
    "plt.setp(ax, xlim=custom_xlim, ylim=custom_ylim)\n",
    "plt.savefig(\"Plots/k_1_recovery.pdf\")"
   ]
  },
  {
   "cell_type": "markdown",
   "id": "aeea805e-4517-4806-9c3f-1112b9f8661c",
   "metadata": {
    "jp-MarkdownHeadingCollapsed": true,
    "tags": []
   },
   "source": [
    "# K_2"
   ]
  },
  {
   "cell_type": "code",
   "execution_count": 23,
   "id": "709f574f-e08e-4104-aa07-9fd2428e863e",
   "metadata": {
    "tags": []
   },
   "outputs": [],
   "source": [
    "stan_file_path = root +  \"models/stan/ANN-RDM/individual/k_2_recovery.stan\" "
   ]
  },
  {
   "cell_type": "code",
   "execution_count": 24,
   "id": "7f85bf01-0db6-472e-9652-a271e24bfa19",
   "metadata": {},
   "outputs": [],
   "source": [
    "def save_results_to_csv(fit, parameters_set):\n",
    "    columns = {}\n",
    "    \n",
    "    recoverd_df = pd.DataFrame([], columns=columns.keys())\n",
    "    stan_variables = fit.stan_variables()\n",
    "\n",
    "    columns[\"mean_k_2\"] = stan_variables[\"k_2\"].mean()\n",
    "    columns[\"median_k_2\"] = np.median(stan_variables[\"k_2\"])\n",
    "    columns[\"real_k_2\"] = parameters_set.loc[\"k_2\", \"generated\"]\n",
    "    columns[\"HDI_k_2_bottom\"], columns[\"HDI_k_2_top\"] = hdi(stan_variables[\"k_2\"])\n",
    "\n",
    "    \n",
    "    recoverd_df = pd.concat([recoverd_df, pd.DataFrame(columns, index=[0])])\n",
    "\n",
    "    output_path=\"RecoveryResults/k_2_recovery_results.csv\"\n",
    "    recoverd_df.to_csv(output_path,\n",
    "                       mode=\"a\",\n",
    "                       header=not os.path.exists(output_path),\n",
    "                       index=False)"
   ]
  },
  {
   "cell_type": "markdown",
   "id": "693efef7-ed52-4a1f-a8b4-d5c8d74ffc99",
   "metadata": {
    "id": "123c4809-7b46-4f8d-b578-0d5e9fb5fbe7"
   },
   "source": [
    "## Simulation and Estimation process"
   ]
  },
  {
   "cell_type": "code",
   "execution_count": 25,
   "id": "224bfae0-9136-49a2-8a7e-f3040cc66c9b",
   "metadata": {
    "colab": {
     "base_uri": "https://localhost:8080/"
    },
    "executionInfo": {
     "elapsed": 93380,
     "status": "ok",
     "timestamp": 1651313346844,
     "user": {
      "displayName": "Arash Dadras",
      "userId": "05722346836148265544"
     },
     "user_tz": -270
    },
    "id": "c1b3627d-0ea2-49b6-86f0-7b098a5a16d6",
    "outputId": "4bc8643c-82c0-4fc9-99a0-7f232fa1eea4",
    "scrolled": true,
    "tags": []
   },
   "outputs": [
    {
     "name": "stderr",
     "output_type": "stream",
     "text": [
      "16:37:43 - cmdstanpy - INFO - compiling stan file E:\\Workspace\\Thesis\\ANN-EAM\\models\\stan\\ANN-RDM\\individual\\k_2_recovery.stan to exe file E:\\Workspace\\Thesis\\ANN-EAM\\models\\stan\\ANN-RDM\\individual\\k_2_recovery.exe\n",
      "16:38:08 - cmdstanpy - INFO - compiled model executable: E:\\Workspace\\Thesis\\ANN-EAM\\models\\stan\\ANN-RDM\\individual\\k_2_recovery.exe\n",
      "16:38:08 - cmdstanpy - WARNING - Stan compiler has produced 7 warnings:\n",
      "16:38:08 - cmdstanpy - WARNING - \n",
      "--- Translating Stan model to C++ code ---\n",
      "bin/stanc.exe  --o=E:/Workspace/Thesis/ANN-EAM/models/stan/ANN-RDM/individual/k_2_recovery.hpp E:/Workspace/Thesis/ANN-EAM/models/stan/ANN-RDM/individual/k_2_recovery.stan\n",
      "Warning in 'E:/Workspace/Thesis/ANN-EAM/models/stan/ANN-RDM/individual/k_2_recovery.stan', line 54, column 4: Declaration\n",
      "    of arrays by placing brackets after a variable name is deprecated and\n",
      "    will be removed in Stan 2.32.0. Instead use the array keyword before the\n",
      "    type. This can be changed automatically using the auto-format flag to\n",
      "    stanc\n",
      "Warning in 'E:/Workspace/Thesis/ANN-EAM/models/stan/ANN-RDM/individual/k_2_recovery.stan', line 55, column 4: Declaration\n",
      "    of arrays by placing brackets after a variable name is deprecated and\n",
      "    will be removed in Stan 2.32.0. Instead use the array keyword before the\n",
      "    type. This can be changed automatically using the auto-format flag to\n",
      "    stanc\n",
      "Warning in 'E:/Workspace/Thesis/ANN-EAM/models/stan/ANN-RDM/individual/k_2_recovery.stan', line 56, column 4: Declaration\n",
      "    of arrays by placing brackets after a variable name is deprecated and\n",
      "    will be removed in Stan 2.32.0. Instead use the array keyword before the\n",
      "    type. This can be changed automatically using the auto-format flag to\n",
      "    stanc\n",
      "Warning in 'E:/Workspace/Thesis/ANN-EAM/models/stan/ANN-RDM/individual/k_2_recovery.stan', line 57, column 4: Declaration\n",
      "    of arrays by placing brackets after a variable name is deprecated and\n",
      "    will be removed in Stan 2.32.0. Instead use the array keyword before the\n",
      "    type. This can be changed automatically using the auto-format flag to\n",
      "    stanc\n",
      "Warning in 'E:/Workspace/Thesis/ANN-EAM/models/stan/ANN-RDM/individual/k_2_recovery.stan', line 59, column 4: Declaration\n",
      "    of arrays by placing brackets after a variable name is deprecated and\n",
      "    will be removed in Stan 2.32.0. Instead use the array keyword before the\n",
      "    type. This can be changed automatically using the auto-format flag to\n",
      "    stanc\n",
      "Warning in 'E:/Workspace/Thesis/ANN-EAM/models/stan/ANN-RDM/individual/k_2_recovery.stan', line 31, column 30: Use\n",
      "    of race_cdf without a vertical bar (|) between the first two arguments of\n",
      "    a CDF is deprecated and will be removed in Stan 2.32.0. This can be\n",
      "    automatically changed using the canonicalize flag for stanc\n",
      "Warning in 'E:/Workspace/Thesis/ANN-EAM/models/stan/ANN-RDM/individual/k_2_recovery.stan', line 35, column 30: Use\n",
      "    of race_cdf without a vertical bar (|) between the first two arguments of\n",
      "    a CDF is deprecated and will be removed in Stan 2.32.0. This can be\n",
      "    automatically changed using the canonicalize flag for stanc\n",
      "\n",
      "--- Compiling, linking C++ code ---\n",
      "g++ -std=c++1y -m64 -D_REENTRANT -Wall -Wno-unused-function -Wno-uninitialized -Wno-unused-but-set-variable -Wno-unused-variable -Wno-sign-compare -Wno-unused-local-typedefs -Wno-int-in-bool-context -Wno-attributes -Wno-ignored-attributes      -I stan/lib/stan_math/lib/tbb_2020.3/include    -O3 -I src -I stan/src -I stan/lib/rapidjson_1.1.0/ -I lib/CLI11-1.9.1/ -I stan/lib/stan_math/ -I stan/lib/stan_math/lib/eigen_3.3.9 -I stan/lib/stan_math/lib/boost_1.78.0 -I stan/lib/stan_math/lib/sundials_6.1.1/include -I stan/lib/stan_math/lib/sundials_6.1.1/src/sundials  -D_USE_MATH_DEFINES  -DBOOST_DISABLE_ASSERTS          -c  -x c++ -o E:/Workspace/Thesis/ANN-EAM/models/stan/ANN-RDM/individual/k_2_recovery.o E:/Workspace/Thesis/ANN-EAM/models/stan/ANN-RDM/individual/k_2_recovery.hpp\n",
      "g++ -std=c++1y -m64 -D_REENTRANT -Wall -Wno-unused-function -Wno-uninitialized -Wno-unused-but-set-variable -Wno-unused-variable -Wno-sign-compare -Wno-unused-local-typedefs -Wno-int-in-bool-context -Wno-attributes -Wno-ignored-attributes      -I stan/lib/stan_math/lib/tbb_2020.3/include    -O3 -I src -I stan/src -I stan/lib/rapidjson_1.1.0/ -I lib/CLI11-1.9.1/ -I stan/lib/stan_math/ -I stan/lib/stan_math/lib/eigen_3.3.9 -I stan/lib/stan_math/lib/boost_1.78.0 -I stan/lib/stan_math/lib/sundials_6.1.1/include -I stan/lib/stan_math/lib/sundials_6.1.1/src/sundials  -D_USE_MATH_DEFINES  -DBOOST_DISABLE_ASSERTS                -Wl,-L,\"C:/Users/Arash/anaconda3/envs/stan/Library/bin/cmdstan/stan/lib/stan_math/lib/tbb\" -Wl,-rpath,\"C:/Users/Arash/anaconda3/envs/stan/Library/bin/cmdstan/stan/lib/stan_math/lib/tbb\"      E:/Workspace/Thesis/ANN-EAM/models/stan/ANN-RDM/individual/k_2_recovery.o src/cmdstan/main.o  -static-libgcc -static-libstdc++      -Wl,-L,\"C:/Users/Arash/anaconda3/envs/stan/Library/bin/cmdstan/stan/lib/stan_math/lib/tbb\" -Wl,-rpath,\"C:/Users/Arash/anaconda3/envs/stan/Library/bin/cmdstan/stan/lib/stan_math/lib/tbb\"   stan/lib/stan_math/lib/sundials_6.1.1/lib/libsundials_nvecserial.a stan/lib/stan_math/lib/sundials_6.1.1/lib/libsundials_cvodes.a stan/lib/stan_math/lib/sundials_6.1.1/lib/libsundials_idas.a stan/lib/stan_math/lib/sundials_6.1.1/lib/libsundials_kinsol.a  stan/lib/stan_math/lib/tbb/tbb.dll -o E:/Workspace/Thesis/ANN-EAM/models/stan/ANN-RDM/individual/k_2_recovery.exe\n",
      "rm -f E:/Workspace/Thesis/ANN-EAM/models/stan/ANN-RDM/individual/k_2_recovery.o\n",
      "\n"
     ]
    }
   ],
   "source": [
    "rdm_model = cmdstanpy.CmdStanModel(model_name=\"ANN-RDM_full_FC\",\n",
    "                                   stan_file=stan_file_path)"
   ]
  },
  {
   "cell_type": "code",
   "execution_count": 26,
   "id": "2e7626eb-a0a2-4104-a7cc-d496afba2e26",
   "metadata": {
    "scrolled": true,
    "tags": []
   },
   "outputs": [
    {
     "name": "stdout",
     "output_type": "stream",
     "text": [
      "Iteration for participant 1 Started\n"
     ]
    },
    {
     "name": "stderr",
     "output_type": "stream",
     "text": [
      "16:38:10 - cmdstanpy - INFO - CmdStan start processing\n"
     ]
    },
    {
     "data": {
      "application/vnd.jupyter.widget-view+json": {
       "model_id": "f630bbd3a8d94941909b4dd6f4b01e83",
       "version_major": 2,
       "version_minor": 0
      },
      "text/plain": [
       "chain 1 |          | 00:00 Status"
      ]
     },
     "metadata": {},
     "output_type": "display_data"
    },
    {
     "data": {
      "application/vnd.jupyter.widget-view+json": {
       "model_id": "3fd453cce9d34a04b22bdc9f80f82c5f",
       "version_major": 2,
       "version_minor": 0
      },
      "text/plain": [
       "chain 2 |          | 00:00 Status"
      ]
     },
     "metadata": {},
     "output_type": "display_data"
    },
    {
     "name": "stdout",
     "output_type": "stream",
     "text": [
      "                                                                                                                                                                                                                                                "
     ]
    },
    {
     "name": "stderr",
     "output_type": "stream",
     "text": [
      "16:38:16 - cmdstanpy - INFO - CmdStan done processing.\n"
     ]
    },
    {
     "name": "stdout",
     "output_type": "stream",
     "text": [
      "\n",
      "Iteration for participant 1 Finished\n",
      "Iteration for participant 2 Started\n"
     ]
    },
    {
     "name": "stderr",
     "output_type": "stream",
     "text": [
      "16:38:33 - cmdstanpy - INFO - CmdStan start processing\n"
     ]
    },
    {
     "data": {
      "application/vnd.jupyter.widget-view+json": {
       "model_id": "fe595962d0f14db18d711ea1b4b430d4",
       "version_major": 2,
       "version_minor": 0
      },
      "text/plain": [
       "chain 1 |          | 00:00 Status"
      ]
     },
     "metadata": {},
     "output_type": "display_data"
    },
    {
     "data": {
      "application/vnd.jupyter.widget-view+json": {
       "model_id": "2f2a1ca6945746c0bb7990d90f9cb884",
       "version_major": 2,
       "version_minor": 0
      },
      "text/plain": [
       "chain 2 |          | 00:00 Status"
      ]
     },
     "metadata": {},
     "output_type": "display_data"
    },
    {
     "name": "stdout",
     "output_type": "stream",
     "text": [
      "                                                                                                                                                                                                                                                "
     ]
    },
    {
     "name": "stderr",
     "output_type": "stream",
     "text": [
      "16:38:38 - cmdstanpy - INFO - CmdStan done processing.\n"
     ]
    },
    {
     "name": "stdout",
     "output_type": "stream",
     "text": [
      "\n",
      "Iteration for participant 2 Finished\n",
      "Iteration for participant 3 Started\n"
     ]
    },
    {
     "name": "stderr",
     "output_type": "stream",
     "text": [
      "16:38:57 - cmdstanpy - INFO - CmdStan start processing\n"
     ]
    },
    {
     "data": {
      "application/vnd.jupyter.widget-view+json": {
       "model_id": "98aa80043ff74cf78f762eefb6e74090",
       "version_major": 2,
       "version_minor": 0
      },
      "text/plain": [
       "chain 1 |          | 00:00 Status"
      ]
     },
     "metadata": {},
     "output_type": "display_data"
    },
    {
     "data": {
      "application/vnd.jupyter.widget-view+json": {
       "model_id": "40b70db2b92343f385330ca73ebefb0e",
       "version_major": 2,
       "version_minor": 0
      },
      "text/plain": [
       "chain 2 |          | 00:00 Status"
      ]
     },
     "metadata": {},
     "output_type": "display_data"
    },
    {
     "name": "stdout",
     "output_type": "stream",
     "text": [
      "                                                                                                                                                                                                                                                "
     ]
    },
    {
     "name": "stderr",
     "output_type": "stream",
     "text": [
      "16:39:02 - cmdstanpy - INFO - CmdStan done processing.\n"
     ]
    },
    {
     "name": "stdout",
     "output_type": "stream",
     "text": [
      "\n",
      "Iteration for participant 3 Finished\n",
      "Iteration for participant 4 Started\n"
     ]
    },
    {
     "name": "stderr",
     "output_type": "stream",
     "text": [
      "16:39:23 - cmdstanpy - INFO - CmdStan start processing\n"
     ]
    },
    {
     "data": {
      "application/vnd.jupyter.widget-view+json": {
       "model_id": "46f29b9132c14a528fbb5f7c4461d6e3",
       "version_major": 2,
       "version_minor": 0
      },
      "text/plain": [
       "chain 1 |          | 00:00 Status"
      ]
     },
     "metadata": {},
     "output_type": "display_data"
    },
    {
     "data": {
      "application/vnd.jupyter.widget-view+json": {
       "model_id": "7b52583d8d134ef19f7e37ae02028f41",
       "version_major": 2,
       "version_minor": 0
      },
      "text/plain": [
       "chain 2 |          | 00:00 Status"
      ]
     },
     "metadata": {},
     "output_type": "display_data"
    },
    {
     "name": "stdout",
     "output_type": "stream",
     "text": [
      "                                                                                                                                                                                                                                                "
     ]
    },
    {
     "name": "stderr",
     "output_type": "stream",
     "text": [
      "16:39:29 - cmdstanpy - INFO - CmdStan done processing.\n"
     ]
    },
    {
     "name": "stdout",
     "output_type": "stream",
     "text": [
      "\n",
      "Iteration for participant 4 Finished\n",
      "Iteration for participant 5 Started\n"
     ]
    },
    {
     "name": "stderr",
     "output_type": "stream",
     "text": [
      "16:39:47 - cmdstanpy - INFO - CmdStan start processing\n"
     ]
    },
    {
     "data": {
      "application/vnd.jupyter.widget-view+json": {
       "model_id": "eca913ef10a240f5ac4b1c2890b12126",
       "version_major": 2,
       "version_minor": 0
      },
      "text/plain": [
       "chain 1 |          | 00:00 Status"
      ]
     },
     "metadata": {},
     "output_type": "display_data"
    },
    {
     "data": {
      "application/vnd.jupyter.widget-view+json": {
       "model_id": "f52f4a9833b3400190341b2ef965430a",
       "version_major": 2,
       "version_minor": 0
      },
      "text/plain": [
       "chain 2 |          | 00:00 Status"
      ]
     },
     "metadata": {},
     "output_type": "display_data"
    },
    {
     "name": "stdout",
     "output_type": "stream",
     "text": [
      "                                                                                                                                                                                                                                                "
     ]
    },
    {
     "name": "stderr",
     "output_type": "stream",
     "text": [
      "16:39:52 - cmdstanpy - INFO - CmdStan done processing.\n"
     ]
    },
    {
     "name": "stdout",
     "output_type": "stream",
     "text": [
      "\n",
      "Iteration for participant 5 Finished\n",
      "Iteration for participant 6 Started\n"
     ]
    },
    {
     "name": "stderr",
     "output_type": "stream",
     "text": [
      "16:40:12 - cmdstanpy - INFO - CmdStan start processing\n"
     ]
    },
    {
     "data": {
      "application/vnd.jupyter.widget-view+json": {
       "model_id": "9f5c1a86b52d44f38d0c9861de2449b2",
       "version_major": 2,
       "version_minor": 0
      },
      "text/plain": [
       "chain 1 |          | 00:00 Status"
      ]
     },
     "metadata": {},
     "output_type": "display_data"
    },
    {
     "data": {
      "application/vnd.jupyter.widget-view+json": {
       "model_id": "153872ad71f042f5919c0579a9cd580a",
       "version_major": 2,
       "version_minor": 0
      },
      "text/plain": [
       "chain 2 |          | 00:00 Status"
      ]
     },
     "metadata": {},
     "output_type": "display_data"
    },
    {
     "name": "stdout",
     "output_type": "stream",
     "text": [
      "                                                                                                                                                                                                                                                "
     ]
    },
    {
     "name": "stderr",
     "output_type": "stream",
     "text": [
      "16:40:17 - cmdstanpy - INFO - CmdStan done processing.\n"
     ]
    },
    {
     "name": "stdout",
     "output_type": "stream",
     "text": [
      "\n",
      "Iteration for participant 6 Finished\n",
      "Iteration for participant 7 Started\n"
     ]
    },
    {
     "name": "stderr",
     "output_type": "stream",
     "text": [
      "16:40:36 - cmdstanpy - INFO - CmdStan start processing\n"
     ]
    },
    {
     "data": {
      "application/vnd.jupyter.widget-view+json": {
       "model_id": "7b2b24f59a834a668e1e7137d60f653c",
       "version_major": 2,
       "version_minor": 0
      },
      "text/plain": [
       "chain 1 |          | 00:00 Status"
      ]
     },
     "metadata": {},
     "output_type": "display_data"
    },
    {
     "data": {
      "application/vnd.jupyter.widget-view+json": {
       "model_id": "3811ba9e46e643cc88313ea23df8da96",
       "version_major": 2,
       "version_minor": 0
      },
      "text/plain": [
       "chain 2 |          | 00:00 Status"
      ]
     },
     "metadata": {},
     "output_type": "display_data"
    },
    {
     "name": "stdout",
     "output_type": "stream",
     "text": [
      "                                                                                                                                                                                                                                                "
     ]
    },
    {
     "name": "stderr",
     "output_type": "stream",
     "text": [
      "16:40:42 - cmdstanpy - INFO - CmdStan done processing.\n"
     ]
    },
    {
     "name": "stdout",
     "output_type": "stream",
     "text": [
      "\n",
      "Iteration for participant 7 Finished\n",
      "Iteration for participant 8 Started\n"
     ]
    },
    {
     "name": "stderr",
     "output_type": "stream",
     "text": [
      "16:40:58 - cmdstanpy - INFO - CmdStan start processing\n"
     ]
    },
    {
     "data": {
      "application/vnd.jupyter.widget-view+json": {
       "model_id": "ffd9945e1ae44d12a7db37810d998065",
       "version_major": 2,
       "version_minor": 0
      },
      "text/plain": [
       "chain 1 |          | 00:00 Status"
      ]
     },
     "metadata": {},
     "output_type": "display_data"
    },
    {
     "data": {
      "application/vnd.jupyter.widget-view+json": {
       "model_id": "450d82b9276b48139e96babf5c43e816",
       "version_major": 2,
       "version_minor": 0
      },
      "text/plain": [
       "chain 2 |          | 00:00 Status"
      ]
     },
     "metadata": {},
     "output_type": "display_data"
    },
    {
     "name": "stdout",
     "output_type": "stream",
     "text": [
      "                                                                                                                                                                                                                                                "
     ]
    },
    {
     "name": "stderr",
     "output_type": "stream",
     "text": [
      "16:41:04 - cmdstanpy - INFO - CmdStan done processing.\n"
     ]
    },
    {
     "name": "stdout",
     "output_type": "stream",
     "text": [
      "\n",
      "Iteration for participant 8 Finished\n",
      "Iteration for participant 9 Started\n"
     ]
    },
    {
     "name": "stderr",
     "output_type": "stream",
     "text": [
      "16:41:21 - cmdstanpy - INFO - CmdStan start processing\n"
     ]
    },
    {
     "data": {
      "application/vnd.jupyter.widget-view+json": {
       "model_id": "dd05c54efc2840318597f4c5a20df4e4",
       "version_major": 2,
       "version_minor": 0
      },
      "text/plain": [
       "chain 1 |          | 00:00 Status"
      ]
     },
     "metadata": {},
     "output_type": "display_data"
    },
    {
     "data": {
      "application/vnd.jupyter.widget-view+json": {
       "model_id": "15dbbeb5bda74ac5a921f37fcfdb83f6",
       "version_major": 2,
       "version_minor": 0
      },
      "text/plain": [
       "chain 2 |          | 00:00 Status"
      ]
     },
     "metadata": {},
     "output_type": "display_data"
    },
    {
     "name": "stdout",
     "output_type": "stream",
     "text": [
      "                                                                                                                                                                                                                                                "
     ]
    },
    {
     "name": "stderr",
     "output_type": "stream",
     "text": [
      "16:41:27 - cmdstanpy - INFO - CmdStan done processing.\n"
     ]
    },
    {
     "name": "stdout",
     "output_type": "stream",
     "text": [
      "\n",
      "Iteration for participant 9 Finished\n",
      "Iteration for participant 10 Started\n"
     ]
    },
    {
     "name": "stderr",
     "output_type": "stream",
     "text": [
      "16:41:46 - cmdstanpy - INFO - CmdStan start processing\n"
     ]
    },
    {
     "data": {
      "application/vnd.jupyter.widget-view+json": {
       "model_id": "11dcfa30bbc440f89b64173a36729876",
       "version_major": 2,
       "version_minor": 0
      },
      "text/plain": [
       "chain 1 |          | 00:00 Status"
      ]
     },
     "metadata": {},
     "output_type": "display_data"
    },
    {
     "data": {
      "application/vnd.jupyter.widget-view+json": {
       "model_id": "f4dc57b6af4841778543a5b8b7837e87",
       "version_major": 2,
       "version_minor": 0
      },
      "text/plain": [
       "chain 2 |          | 00:00 Status"
      ]
     },
     "metadata": {},
     "output_type": "display_data"
    },
    {
     "name": "stdout",
     "output_type": "stream",
     "text": [
      "                                                                                                                                                                                                                                                "
     ]
    },
    {
     "name": "stderr",
     "output_type": "stream",
     "text": [
      "16:41:51 - cmdstanpy - INFO - CmdStan done processing.\n"
     ]
    },
    {
     "name": "stdout",
     "output_type": "stream",
     "text": [
      "\n",
      "Iteration for participant 10 Finished\n"
     ]
    }
   ],
   "source": [
    "iteration_count = 0\n",
    "params_range = pd.read_csv(\"Data/params_range.csv\", index_col=0)\n",
    "while iteration_count < number_of_participants:\n",
    "    print(f\"Iteration for participant {iteration_count+1} Started\")\n",
    "    parameters_set = params_range.copy()\n",
    "    parameters_set[\"generated\"] = np.random.normal(loc=parameters_set.iloc[:, 0],\n",
    "                                                   scale=parameters_set.iloc[:, 1])\n",
    "\n",
    "    behavioral_df = simulate_ANNRDM_individual(n_trials=n_trials, trials_info_df=word_nword_df,\n",
    "                                         parameters_set=parameters_set)\n",
    "    stan_parameters = get_stan_parameters(behavioral_df)\n",
    "    fit = rdm_model.sample(data=stan_parameters,\n",
    "                       iter_sampling=n_sample, \n",
    "                       iter_warmup=n_warmup,\n",
    "                       chains=n_chains,\n",
    "                       show_console=False)\n",
    "    \n",
    "    df = fit.summary()\n",
    "    badRhat = False\n",
    "    for f in df[\"R_hat\"]:\n",
    "        if f >= 1.01 or f <= 0.9:\n",
    "            badRhat = True\n",
    "    \n",
    "    if badRhat:\n",
    "        print(\"Split R-hat values are not satisfactory for all parameters. repeating iteration\") \n",
    "    else:\n",
    "        save_results_to_csv(fit, parameters_set)\n",
    "        print(f\"Iteration for participant {iteration_count+1} Finished\") \n",
    "        iteration_count += 1"
   ]
  },
  {
   "cell_type": "markdown",
   "id": "984631be-5ed6-40d4-b5af-586270bb9721",
   "metadata": {},
   "source": [
    "## Particpants parameter recovery"
   ]
  },
  {
   "cell_type": "code",
   "execution_count": 27,
   "id": "63735433-06d4-4618-b6b0-09da2622b647",
   "metadata": {
    "tags": []
   },
   "outputs": [],
   "source": [
    "recovery_data = pd.read_csv(\"RecoveryResults/k_2_recovery_results.csv\", header=0)"
   ]
  },
  {
   "cell_type": "code",
   "execution_count": 28,
   "id": "4b000a1b-688d-40d9-a984-791477179c91",
   "metadata": {
    "tags": []
   },
   "outputs": [
    {
     "data": {
      "text/plain": [
       "[3.43498097, 6.222435301698311, 3.43498097, 6.222435301698311]"
      ]
     },
     "execution_count": 28,
     "metadata": {},
     "output_type": "execute_result"
    },
    {
     "data": {
      "image/png": "[encoded data removed]",
      "text/plain": [
       "<Figure size 1000x500 with 1 Axes>"
      ]
     },
     "metadata": {},
     "output_type": "display_data"
    }
   ],
   "source": [
    "fig, ax = plt.subplots(1, 1, figsize=(10,5))\n",
    "plt.subplots_adjust(wspace=0.2, hspace=0.5)\n",
    "posterior_mean = recovery_data[\"mean_k_2\"]\n",
    "posterior_median = recovery_data[\"median_k_2\"]\n",
    "true = recovery_data[\"real_k_2\"]\n",
    "ax.scatter(true, posterior_mean, color=\"tomato\",\n",
    "                                zorder=10)\n",
    "ax.scatter(true, posterior_median, color=\"yellow\",\n",
    "                                zorder=9)\n",
    "ax.vlines(x=true.to_numpy(), linewidth=2,\n",
    "          ymin=recovery_data[\"HDI_k_2_bottom\"].to_numpy(),\n",
    "          ymax=recovery_data[\"HDI_k_2_top\"].to_numpy())\n",
    "ax.set_title(\"k_2\")\n",
    "\n",
    "min_true_point = true.min()\n",
    "max_true_point = true.max()\n",
    "recoverline = ax.axline((min_true_point, min_true_point),\n",
    "                        (max_true_point, max_true_point))\n",
    "plt.setp(recoverline, linewidth=3, color=\"grey\")\n",
    "\n",
    "r2 = r2_score(true, posterior_mean)\n",
    "ax.text(0.08, 0.92, f\"R2: {r2:.2f}\", horizontalalignment='center',\n",
    "        verticalalignment='center', transform=ax.transAxes)\n",
    "    \n",
    "custom_xlim = (min(min_true_point, posterior_mean.min())-0.5,\n",
    "               max(max_true_point, posterior_mean.max())+0.5)\n",
    "custom_ylim = (min(min_true_point, posterior_mean.min())-0.5,\n",
    "               max(max_true_point, posterior_mean.max())+0.5)\n",
    "\n",
    "# Setting the values for all axes.\n",
    "plt.setp(ax, xlim=custom_xlim, ylim=custom_ylim)\n",
    "plt.savefig(\"Plots/k_2_recovery.pdf\")"
   ]
  },
  {
   "cell_type": "markdown",
   "id": "42bebdb9-d4f6-4a3d-afca-cba5e9d9e927",
   "metadata": {
    "tags": []
   },
   "source": [
    "# b"
   ]
  },
  {
   "cell_type": "code",
   "execution_count": 29,
   "id": "48445da6-98d4-41d5-96c6-c961534afcdb",
   "metadata": {
    "tags": []
   },
   "outputs": [],
   "source": [
    "stan_file_path = root +  \"models/stan/ANN-RDM/individual/b_recovery.stan\""
   ]
  },
  {
   "cell_type": "code",
   "execution_count": 30,
   "id": "c71269b5-86e6-44b2-8ea7-90d85b088e5b",
   "metadata": {},
   "outputs": [],
   "source": [
    "def save_results_to_csv(fit, parameters_set):\n",
    "    columns = {}\n",
    "    \n",
    "    recoverd_df = pd.DataFrame([], columns=columns.keys())\n",
    "    stan_variables = fit.stan_variables()\n",
    "\n",
    "    columns[\"mean_b\"] = stan_variables[\"b\"].mean()\n",
    "    columns[\"median_b\"] = np.median(stan_variables[\"b\"])\n",
    "    columns[\"real_b\"] = parameters_set.loc[\"b\", \"generated\"]\n",
    "    columns[\"HDI_b_bottom\"], columns[\"HDI_b_top\"] = hdi(stan_variables[\"b\"])\n",
    "\n",
    "    \n",
    "    recoverd_df = pd.concat([recoverd_df, pd.DataFrame(columns, index=[0])])\n",
    "\n",
    "    output_path=\"RecoveryResults/b_recovery_results.csv\"\n",
    "    recoverd_df.to_csv(output_path,\n",
    "                       mode=\"a\",\n",
    "                       header=not os.path.exists(output_path),\n",
    "                       index=False)"
   ]
  },
  {
   "cell_type": "markdown",
   "id": "7b37f4a4-603f-4d69-ba7f-c82345292f75",
   "metadata": {
    "id": "123c4809-7b46-4f8d-b578-0d5e9fb5fbe7"
   },
   "source": [
    "## Simulation and Estimation process"
   ]
  },
  {
   "cell_type": "code",
   "execution_count": 31,
   "id": "2f20f53a-c88e-4c53-a57e-f0535a817180",
   "metadata": {
    "colab": {
     "base_uri": "https://localhost:8080/"
    },
    "executionInfo": {
     "elapsed": 93380,
     "status": "ok",
     "timestamp": 1651313346844,
     "user": {
      "displayName": "Arash Dadras",
      "userId": "05722346836148265544"
     },
     "user_tz": -270
    },
    "id": "c1b3627d-0ea2-49b6-86f0-7b098a5a16d6",
    "outputId": "4bc8643c-82c0-4fc9-99a0-7f232fa1eea4",
    "scrolled": true,
    "tags": []
   },
   "outputs": [
    {
     "name": "stderr",
     "output_type": "stream",
     "text": [
      "16:42:40 - cmdstanpy - INFO - compiling stan file E:\\Workspace\\Thesis\\ANN-EAM\\models\\stan\\ANN-RDM\\individual\\b_recovery.stan to exe file E:\\Workspace\\Thesis\\ANN-EAM\\models\\stan\\ANN-RDM\\individual\\b_recovery.exe\n",
      "16:43:09 - cmdstanpy - INFO - compiled model executable: E:\\Workspace\\Thesis\\ANN-EAM\\models\\stan\\ANN-RDM\\individual\\b_recovery.exe\n",
      "16:43:09 - cmdstanpy - WARNING - Stan compiler has produced 7 warnings:\n",
      "16:43:09 - cmdstanpy - WARNING - \n",
      "--- Translating Stan model to C++ code ---\n",
      "bin/stanc.exe  --o=E:/Workspace/Thesis/ANN-EAM/models/stan/ANN-RDM/individual/b_recovery.hpp E:/Workspace/Thesis/ANN-EAM/models/stan/ANN-RDM/individual/b_recovery.stan\n",
      "Warning in 'E:/Workspace/Thesis/ANN-EAM/models/stan/ANN-RDM/individual/b_recovery.stan', line 54, column 4: Declaration\n",
      "    of arrays by placing brackets after a variable name is deprecated and\n",
      "    will be removed in Stan 2.32.0. Instead use the array keyword before the\n",
      "    type. This can be changed automatically using the auto-format flag to\n",
      "    stanc\n",
      "Warning in 'E:/Workspace/Thesis/ANN-EAM/models/stan/ANN-RDM/individual/b_recovery.stan', line 55, column 4: Declaration\n",
      "    of arrays by placing brackets after a variable name is deprecated and\n",
      "    will be removed in Stan 2.32.0. Instead use the array keyword before the\n",
      "    type. This can be changed automatically using the auto-format flag to\n",
      "    stanc\n",
      "Warning in 'E:/Workspace/Thesis/ANN-EAM/models/stan/ANN-RDM/individual/b_recovery.stan', line 56, column 4: Declaration\n",
      "    of arrays by placing brackets after a variable name is deprecated and\n",
      "    will be removed in Stan 2.32.0. Instead use the array keyword before the\n",
      "    type. This can be changed automatically using the auto-format flag to\n",
      "    stanc\n",
      "Warning in 'E:/Workspace/Thesis/ANN-EAM/models/stan/ANN-RDM/individual/b_recovery.stan', line 57, column 4: Declaration\n",
      "    of arrays by placing brackets after a variable name is deprecated and\n",
      "    will be removed in Stan 2.32.0. Instead use the array keyword before the\n",
      "    type. This can be changed automatically using the auto-format flag to\n",
      "    stanc\n",
      "Warning in 'E:/Workspace/Thesis/ANN-EAM/models/stan/ANN-RDM/individual/b_recovery.stan', line 59, column 4: Declaration\n",
      "    of arrays by placing brackets after a variable name is deprecated and\n",
      "    will be removed in Stan 2.32.0. Instead use the array keyword before the\n",
      "    type. This can be changed automatically using the auto-format flag to\n",
      "    stanc\n",
      "Warning in 'E:/Workspace/Thesis/ANN-EAM/models/stan/ANN-RDM/individual/b_recovery.stan', line 31, column 30: Use\n",
      "    of race_cdf without a vertical bar (|) between the first two arguments of\n",
      "    a CDF is deprecated and will be removed in Stan 2.32.0. This can be\n",
      "    automatically changed using the canonicalize flag for stanc\n",
      "Warning in 'E:/Workspace/Thesis/ANN-EAM/models/stan/ANN-RDM/individual/b_recovery.stan', line 35, column 30: Use\n",
      "    of race_cdf without a vertical bar (|) between the first two arguments of\n",
      "    a CDF is deprecated and will be removed in Stan 2.32.0. This can be\n",
      "    automatically changed using the canonicalize flag for stanc\n",
      "\n",
      "--- Compiling, linking C++ code ---\n",
      "g++ -std=c++1y -m64 -D_REENTRANT -Wall -Wno-unused-function -Wno-uninitialized -Wno-unused-but-set-variable -Wno-unused-variable -Wno-sign-compare -Wno-unused-local-typedefs -Wno-int-in-bool-context -Wno-attributes -Wno-ignored-attributes      -I stan/lib/stan_math/lib/tbb_2020.3/include    -O3 -I src -I stan/src -I stan/lib/rapidjson_1.1.0/ -I lib/CLI11-1.9.1/ -I stan/lib/stan_math/ -I stan/lib/stan_math/lib/eigen_3.3.9 -I stan/lib/stan_math/lib/boost_1.78.0 -I stan/lib/stan_math/lib/sundials_6.1.1/include -I stan/lib/stan_math/lib/sundials_6.1.1/src/sundials  -D_USE_MATH_DEFINES  -DBOOST_DISABLE_ASSERTS          -c  -x c++ -o E:/Workspace/Thesis/ANN-EAM/models/stan/ANN-RDM/individual/b_recovery.o E:/Workspace/Thesis/ANN-EAM/models/stan/ANN-RDM/individual/b_recovery.hpp\n",
      "g++ -std=c++1y -m64 -D_REENTRANT -Wall -Wno-unused-function -Wno-uninitialized -Wno-unused-but-set-variable -Wno-unused-variable -Wno-sign-compare -Wno-unused-local-typedefs -Wno-int-in-bool-context -Wno-attributes -Wno-ignored-attributes      -I stan/lib/stan_math/lib/tbb_2020.3/include    -O3 -I src -I stan/src -I stan/lib/rapidjson_1.1.0/ -I lib/CLI11-1.9.1/ -I stan/lib/stan_math/ -I stan/lib/stan_math/lib/eigen_3.3.9 -I stan/lib/stan_math/lib/boost_1.78.0 -I stan/lib/stan_math/lib/sundials_6.1.1/include -I stan/lib/stan_math/lib/sundials_6.1.1/src/sundials  -D_USE_MATH_DEFINES  -DBOOST_DISABLE_ASSERTS                -Wl,-L,\"C:/Users/Arash/anaconda3/envs/stan/Library/bin/cmdstan/stan/lib/stan_math/lib/tbb\" -Wl,-rpath,\"C:/Users/Arash/anaconda3/envs/stan/Library/bin/cmdstan/stan/lib/stan_math/lib/tbb\"      E:/Workspace/Thesis/ANN-EAM/models/stan/ANN-RDM/individual/b_recovery.o src/cmdstan/main.o  -static-libgcc -static-libstdc++      -Wl,-L,\"C:/Users/Arash/anaconda3/envs/stan/Library/bin/cmdstan/stan/lib/stan_math/lib/tbb\" -Wl,-rpath,\"C:/Users/Arash/anaconda3/envs/stan/Library/bin/cmdstan/stan/lib/stan_math/lib/tbb\"   stan/lib/stan_math/lib/sundials_6.1.1/lib/libsundials_nvecserial.a stan/lib/stan_math/lib/sundials_6.1.1/lib/libsundials_cvodes.a stan/lib/stan_math/lib/sundials_6.1.1/lib/libsundials_idas.a stan/lib/stan_math/lib/sundials_6.1.1/lib/libsundials_kinsol.a  stan/lib/stan_math/lib/tbb/tbb.dll -o E:/Workspace/Thesis/ANN-EAM/models/stan/ANN-RDM/individual/b_recovery.exe\n",
      "rm -f E:/Workspace/Thesis/ANN-EAM/models/stan/ANN-RDM/individual/b_recovery.o\n",
      "\n"
     ]
    }
   ],
   "source": [
    "rdm_model = cmdstanpy.CmdStanModel(model_name=\"ANN-RDM_full_FC\",\n",
    "                                   stan_file=stan_file_path)"
   ]
  },
  {
   "cell_type": "code",
   "execution_count": 32,
   "id": "7a5f636a-f2c2-4071-8f90-bfd4902c42ee",
   "metadata": {
    "scrolled": true,
    "tags": []
   },
   "outputs": [
    {
     "name": "stdout",
     "output_type": "stream",
     "text": [
      "Iteration for participant 1 Started\n"
     ]
    },
    {
     "name": "stderr",
     "output_type": "stream",
     "text": [
      "16:43:13 - cmdstanpy - INFO - CmdStan start processing\n"
     ]
    },
    {
     "data": {
      "application/vnd.jupyter.widget-view+json": {
       "model_id": "6ceb47d963824fb0a9dfcf471dd6d51d",
       "version_major": 2,
       "version_minor": 0
      },
      "text/plain": [
       "chain 1 |          | 00:00 Status"
      ]
     },
     "metadata": {},
     "output_type": "display_data"
    },
    {
     "data": {
      "application/vnd.jupyter.widget-view+json": {
       "model_id": "19fd1709c254467181d793a80bcc2ab9",
       "version_major": 2,
       "version_minor": 0
      },
      "text/plain": [
       "chain 2 |          | 00:00 Status"
      ]
     },
     "metadata": {},
     "output_type": "display_data"
    },
    {
     "name": "stdout",
     "output_type": "stream",
     "text": [
      "                                                                                                                                                                                                                                                "
     ]
    },
    {
     "name": "stderr",
     "output_type": "stream",
     "text": [
      "16:43:19 - cmdstanpy - INFO - CmdStan done processing.\n"
     ]
    },
    {
     "name": "stdout",
     "output_type": "stream",
     "text": [
      "\n",
      "Iteration for participant 1 Finished\n",
      "Iteration for participant 2 Started\n"
     ]
    },
    {
     "name": "stderr",
     "output_type": "stream",
     "text": [
      "16:43:36 - cmdstanpy - INFO - CmdStan start processing\n"
     ]
    },
    {
     "data": {
      "application/vnd.jupyter.widget-view+json": {
       "model_id": "15560fe896fc4186b2b4c75b4960da9e",
       "version_major": 2,
       "version_minor": 0
      },
      "text/plain": [
       "chain 1 |          | 00:00 Status"
      ]
     },
     "metadata": {},
     "output_type": "display_data"
    },
    {
     "data": {
      "application/vnd.jupyter.widget-view+json": {
       "model_id": "4c58f76287c84cd2b5b6bcaac7d764b1",
       "version_major": 2,
       "version_minor": 0
      },
      "text/plain": [
       "chain 2 |          | 00:00 Status"
      ]
     },
     "metadata": {},
     "output_type": "display_data"
    },
    {
     "name": "stdout",
     "output_type": "stream",
     "text": [
      "                                                                                                                                                                                                                                                "
     ]
    },
    {
     "name": "stderr",
     "output_type": "stream",
     "text": [
      "16:43:41 - cmdstanpy - INFO - CmdStan done processing.\n"
     ]
    },
    {
     "name": "stdout",
     "output_type": "stream",
     "text": [
      "\n",
      "Iteration for participant 2 Finished\n",
      "Iteration for participant 3 Started\n"
     ]
    },
    {
     "name": "stderr",
     "output_type": "stream",
     "text": [
      "16:43:59 - cmdstanpy - INFO - CmdStan start processing\n"
     ]
    },
    {
     "data": {
      "application/vnd.jupyter.widget-view+json": {
       "model_id": "2f716a35cb77443d9ae602b254e31599",
       "version_major": 2,
       "version_minor": 0
      },
      "text/plain": [
       "chain 1 |          | 00:00 Status"
      ]
     },
     "metadata": {},
     "output_type": "display_data"
    },
    {
     "data": {
      "application/vnd.jupyter.widget-view+json": {
       "model_id": "0d343906d2cc48b6961cb690252d7e7f",
       "version_major": 2,
       "version_minor": 0
      },
      "text/plain": [
       "chain 2 |          | 00:00 Status"
      ]
     },
     "metadata": {},
     "output_type": "display_data"
    },
    {
     "name": "stdout",
     "output_type": "stream",
     "text": [
      "                                                                                                                                                                                                                                                "
     ]
    },
    {
     "name": "stderr",
     "output_type": "stream",
     "text": [
      "16:44:04 - cmdstanpy - INFO - CmdStan done processing.\n",
      "16:44:04 - cmdstanpy - WARNING - Non-fatal error during sampling:\n",
      "Exception: b_recovery_model_namespace::log_prob: drift_word_t[2] is nan, but must be greater than or equal to 0.000000 (in 'E:/Workspace/Thesis/ANN-EAM/models/stan/ANN-RDM/individual/b_recovery.stan', line 86, column 4 to column 36)\n",
      "Consider re-running with show_console=True if the above output is unclear!\n"
     ]
    },
    {
     "name": "stdout",
     "output_type": "stream",
     "text": [
      "\n",
      "Iteration for participant 3 Finished\n",
      "Iteration for participant 4 Started\n"
     ]
    },
    {
     "name": "stderr",
     "output_type": "stream",
     "text": [
      "16:44:23 - cmdstanpy - INFO - CmdStan start processing\n"
     ]
    },
    {
     "data": {
      "application/vnd.jupyter.widget-view+json": {
       "model_id": "335a1fad4cef4d598092c880a9657bf2",
       "version_major": 2,
       "version_minor": 0
      },
      "text/plain": [
       "chain 1 |          | 00:00 Status"
      ]
     },
     "metadata": {},
     "output_type": "display_data"
    },
    {
     "data": {
      "application/vnd.jupyter.widget-view+json": {
       "model_id": "712a5e5adb1a484db1e03372495cbee4",
       "version_major": 2,
       "version_minor": 0
      },
      "text/plain": [
       "chain 2 |          | 00:00 Status"
      ]
     },
     "metadata": {},
     "output_type": "display_data"
    },
    {
     "name": "stdout",
     "output_type": "stream",
     "text": [
      "                                                                                                                                                                                                                                                "
     ]
    },
    {
     "name": "stderr",
     "output_type": "stream",
     "text": [
      "16:44:29 - cmdstanpy - INFO - CmdStan done processing.\n",
      "16:44:29 - cmdstanpy - WARNING - Non-fatal error during sampling:\n",
      "Exception: b_recovery_model_namespace::log_prob: drift_word_t[1] is nan, but must be greater than or equal to 0.000000 (in 'E:/Workspace/Thesis/ANN-EAM/models/stan/ANN-RDM/individual/b_recovery.stan', line 86, column 4 to column 36)\n",
      "Exception: b_recovery_model_namespace::log_prob: drift_word_t[1] is nan, but must be greater than or equal to 0.000000 (in 'E:/Workspace/Thesis/ANN-EAM/models/stan/ANN-RDM/individual/b_recovery.stan', line 86, column 4 to column 36)\n",
      "Consider re-running with show_console=True if the above output is unclear!\n"
     ]
    },
    {
     "name": "stdout",
     "output_type": "stream",
     "text": [
      "\n",
      "Iteration for participant 4 Finished\n",
      "Iteration for participant 5 Started\n"
     ]
    },
    {
     "name": "stderr",
     "output_type": "stream",
     "text": [
      "16:44:47 - cmdstanpy - INFO - CmdStan start processing\n"
     ]
    },
    {
     "data": {
      "application/vnd.jupyter.widget-view+json": {
       "model_id": "8d77b324feaa41e189bf9703aa0fc638",
       "version_major": 2,
       "version_minor": 0
      },
      "text/plain": [
       "chain 1 |          | 00:00 Status"
      ]
     },
     "metadata": {},
     "output_type": "display_data"
    },
    {
     "data": {
      "application/vnd.jupyter.widget-view+json": {
       "model_id": "19c65cead34845d58d911bb9660cab00",
       "version_major": 2,
       "version_minor": 0
      },
      "text/plain": [
       "chain 2 |          | 00:00 Status"
      ]
     },
     "metadata": {},
     "output_type": "display_data"
    },
    {
     "name": "stdout",
     "output_type": "stream",
     "text": [
      "                                                                                                                                                                                                                                                "
     ]
    },
    {
     "name": "stderr",
     "output_type": "stream",
     "text": [
      "16:44:53 - cmdstanpy - INFO - CmdStan done processing.\n"
     ]
    },
    {
     "name": "stdout",
     "output_type": "stream",
     "text": [
      "\n",
      "Iteration for participant 5 Finished\n",
      "Iteration for participant 6 Started\n"
     ]
    },
    {
     "name": "stderr",
     "output_type": "stream",
     "text": [
      "16:45:12 - cmdstanpy - INFO - CmdStan start processing\n"
     ]
    },
    {
     "data": {
      "application/vnd.jupyter.widget-view+json": {
       "model_id": "d9855f8ff90b4337a2ab351b539f4588",
       "version_major": 2,
       "version_minor": 0
      },
      "text/plain": [
       "chain 1 |          | 00:00 Status"
      ]
     },
     "metadata": {},
     "output_type": "display_data"
    },
    {
     "data": {
      "application/vnd.jupyter.widget-view+json": {
       "model_id": "4aab8648a8264d84bedc0f629d477de5",
       "version_major": 2,
       "version_minor": 0
      },
      "text/plain": [
       "chain 2 |          | 00:00 Status"
      ]
     },
     "metadata": {},
     "output_type": "display_data"
    },
    {
     "name": "stdout",
     "output_type": "stream",
     "text": [
      "                                                                                                                                                                                                                                                "
     ]
    },
    {
     "name": "stderr",
     "output_type": "stream",
     "text": [
      "16:45:18 - cmdstanpy - INFO - CmdStan done processing.\n"
     ]
    },
    {
     "name": "stdout",
     "output_type": "stream",
     "text": [
      "\n",
      "Iteration for participant 6 Finished\n",
      "Iteration for participant 7 Started\n"
     ]
    },
    {
     "name": "stderr",
     "output_type": "stream",
     "text": [
      "16:45:35 - cmdstanpy - INFO - CmdStan start processing\n"
     ]
    },
    {
     "data": {
      "application/vnd.jupyter.widget-view+json": {
       "model_id": "a053031dd5c14391a831743eb207ede4",
       "version_major": 2,
       "version_minor": 0
      },
      "text/plain": [
       "chain 1 |          | 00:00 Status"
      ]
     },
     "metadata": {},
     "output_type": "display_data"
    },
    {
     "data": {
      "application/vnd.jupyter.widget-view+json": {
       "model_id": "7ea98e018dfb4e52868338def9e727aa",
       "version_major": 2,
       "version_minor": 0
      },
      "text/plain": [
       "chain 2 |          | 00:00 Status"
      ]
     },
     "metadata": {},
     "output_type": "display_data"
    },
    {
     "name": "stdout",
     "output_type": "stream",
     "text": [
      "                                                                                                                                                                                                                                                "
     ]
    },
    {
     "name": "stderr",
     "output_type": "stream",
     "text": [
      "16:45:41 - cmdstanpy - INFO - CmdStan done processing.\n",
      "16:45:41 - cmdstanpy - WARNING - Non-fatal error during sampling:\n",
      "Exception: b_recovery_model_namespace::log_prob: drift_word_t[1] is nan, but must be greater than or equal to 0.000000 (in 'E:/Workspace/Thesis/ANN-EAM/models/stan/ANN-RDM/individual/b_recovery.stan', line 86, column 4 to column 36)\n",
      "Consider re-running with show_console=True if the above output is unclear!\n"
     ]
    },
    {
     "name": "stdout",
     "output_type": "stream",
     "text": [
      "\n",
      "Iteration for participant 7 Finished\n",
      "Iteration for participant 8 Started\n"
     ]
    },
    {
     "name": "stderr",
     "output_type": "stream",
     "text": [
      "16:45:59 - cmdstanpy - INFO - CmdStan start processing\n"
     ]
    },
    {
     "data": {
      "application/vnd.jupyter.widget-view+json": {
       "model_id": "24dfe017a23e4e268f7c3c742cfdfcb5",
       "version_major": 2,
       "version_minor": 0
      },
      "text/plain": [
       "chain 1 |          | 00:00 Status"
      ]
     },
     "metadata": {},
     "output_type": "display_data"
    },
    {
     "data": {
      "application/vnd.jupyter.widget-view+json": {
       "model_id": "2640e5ea76254de892e9718bcf77dc6b",
       "version_major": 2,
       "version_minor": 0
      },
      "text/plain": [
       "chain 2 |          | 00:00 Status"
      ]
     },
     "metadata": {},
     "output_type": "display_data"
    },
    {
     "name": "stdout",
     "output_type": "stream",
     "text": [
      "                                                                                                                                                                                                                                                "
     ]
    },
    {
     "name": "stderr",
     "output_type": "stream",
     "text": [
      "16:46:04 - cmdstanpy - INFO - CmdStan done processing.\n",
      "16:46:05 - cmdstanpy - WARNING - Non-fatal error during sampling:\n",
      "Exception: b_recovery_model_namespace::log_prob: drift_word_t[2] is nan, but must be greater than or equal to 0.000000 (in 'E:/Workspace/Thesis/ANN-EAM/models/stan/ANN-RDM/individual/b_recovery.stan', line 86, column 4 to column 36)\n",
      "Exception: b_recovery_model_namespace::log_prob: drift_word_t[2] is nan, but must be greater than or equal to 0.000000 (in 'E:/Workspace/Thesis/ANN-EAM/models/stan/ANN-RDM/individual/b_recovery.stan', line 86, column 4 to column 36)\n",
      "Consider re-running with show_console=True if the above output is unclear!\n"
     ]
    },
    {
     "name": "stdout",
     "output_type": "stream",
     "text": [
      "\n",
      "Iteration for participant 8 Finished\n",
      "Iteration for participant 9 Started\n"
     ]
    },
    {
     "name": "stderr",
     "output_type": "stream",
     "text": [
      "16:46:22 - cmdstanpy - INFO - CmdStan start processing\n"
     ]
    },
    {
     "data": {
      "application/vnd.jupyter.widget-view+json": {
       "model_id": "36ade37b6b1b4d5f8bcc77de093bb82f",
       "version_major": 2,
       "version_minor": 0
      },
      "text/plain": [
       "chain 1 |          | 00:00 Status"
      ]
     },
     "metadata": {},
     "output_type": "display_data"
    },
    {
     "data": {
      "application/vnd.jupyter.widget-view+json": {
       "model_id": "64bfbc14be6649fe93c336dcdf1706bb",
       "version_major": 2,
       "version_minor": 0
      },
      "text/plain": [
       "chain 2 |          | 00:00 Status"
      ]
     },
     "metadata": {},
     "output_type": "display_data"
    },
    {
     "name": "stdout",
     "output_type": "stream",
     "text": [
      "                                                                                                                                                                                                                                                "
     ]
    },
    {
     "name": "stderr",
     "output_type": "stream",
     "text": [
      "16:46:29 - cmdstanpy - INFO - CmdStan done processing.\n",
      "16:46:29 - cmdstanpy - WARNING - Non-fatal error during sampling:\n",
      "Exception: b_recovery_model_namespace::log_prob: drift_word_t[1] is nan, but must be greater than or equal to 0.000000 (in 'E:/Workspace/Thesis/ANN-EAM/models/stan/ANN-RDM/individual/b_recovery.stan', line 86, column 4 to column 36)\n",
      "Consider re-running with show_console=True if the above output is unclear!\n"
     ]
    },
    {
     "name": "stdout",
     "output_type": "stream",
     "text": [
      "\n",
      "Iteration for participant 9 Finished\n",
      "Iteration for participant 10 Started\n"
     ]
    },
    {
     "name": "stderr",
     "output_type": "stream",
     "text": [
      "16:46:47 - cmdstanpy - INFO - CmdStan start processing\n"
     ]
    },
    {
     "data": {
      "application/vnd.jupyter.widget-view+json": {
       "model_id": "f37c3b19deff44f0bb6ed1be9ccc1380",
       "version_major": 2,
       "version_minor": 0
      },
      "text/plain": [
       "chain 1 |          | 00:00 Status"
      ]
     },
     "metadata": {},
     "output_type": "display_data"
    },
    {
     "data": {
      "application/vnd.jupyter.widget-view+json": {
       "model_id": "8f1891323f9d4671abdc3c49f584f2ba",
       "version_major": 2,
       "version_minor": 0
      },
      "text/plain": [
       "chain 2 |          | 00:00 Status"
      ]
     },
     "metadata": {},
     "output_type": "display_data"
    },
    {
     "name": "stdout",
     "output_type": "stream",
     "text": [
      "                                                                                                                                                                                                                                                "
     ]
    },
    {
     "name": "stderr",
     "output_type": "stream",
     "text": [
      "16:46:53 - cmdstanpy - INFO - CmdStan done processing.\n"
     ]
    },
    {
     "name": "stdout",
     "output_type": "stream",
     "text": [
      "\n",
      "Iteration for participant 10 Finished\n"
     ]
    }
   ],
   "source": [
    "iteration_count = 0\n",
    "params_range = pd.read_csv(\"Data/params_range.csv\", index_col=0)\n",
    "while iteration_count < number_of_participants:\n",
    "    print(f\"Iteration for participant {iteration_count+1} Started\")\n",
    "    parameters_set = params_range.copy()\n",
    "    parameters_set[\"generated\"] = np.random.normal(loc=parameters_set.iloc[:, 0],\n",
    "                                                   scale=parameters_set.iloc[:, 1])\n",
    "\n",
    "    behavioral_df = simulate_ANNRDM_individual(n_trials=n_trials, trials_info_df=word_nword_df,\n",
    "                                         parameters_set=parameters_set)\n",
    "    stan_parameters = get_stan_parameters(behavioral_df)\n",
    "    fit = rdm_model.sample(data=stan_parameters,\n",
    "                       iter_sampling=n_sample, \n",
    "                       iter_warmup=n_warmup,\n",
    "                       chains=n_chains,\n",
    "                       show_console=False)\n",
    "    \n",
    "    df = fit.summary()\n",
    "    badRhat = False\n",
    "    for f in df[\"R_hat\"]:\n",
    "        if f >= 1.01 or f <= 0.9:\n",
    "            badRhat = True\n",
    "    \n",
    "    if badRhat:\n",
    "        print(\"Split R-hat values are not satisfactory for all parameters. repeating iteration\") \n",
    "    else:\n",
    "        save_results_to_csv(fit, parameters_set)\n",
    "        print(f\"Iteration for participant {iteration_count+1} Finished\") \n",
    "        iteration_count += 1"
   ]
  },
  {
   "cell_type": "markdown",
   "id": "8959685a-8b7c-4f34-994d-99eaaf06f2d9",
   "metadata": {},
   "source": [
    "## Particpants parameter recovery"
   ]
  },
  {
   "cell_type": "code",
   "execution_count": 33,
   "id": "1026a05c-ea30-4225-a6be-77cf5cbaafea",
   "metadata": {
    "tags": []
   },
   "outputs": [],
   "source": [
    "recovery_data = pd.read_csv(\"RecoveryResults/b_recovery_results.csv\", header=0)"
   ]
  },
  {
   "cell_type": "code",
   "execution_count": 34,
   "id": "848fb50b-e135-45ed-b497-280fc07565ca",
   "metadata": {
    "tags": []
   },
   "outputs": [
    {
     "data": {
      "text/plain": [
       "[0.4348806533822812, 2.354533225, 0.4348806533822812, 2.354533225]"
      ]
     },
     "execution_count": 34,
     "metadata": {},
     "output_type": "execute_result"
    },
    {
     "data": {
      "image/png": "[encoded data removed]",
      "text/plain": [
       "<Figure size 1000x500 with 1 Axes>"
      ]
     },
     "metadata": {},
     "output_type": "display_data"
    }
   ],
   "source": [
    "fig, ax = plt.subplots(1, 1, figsize=(10,5))\n",
    "plt.subplots_adjust(wspace=0.2, hspace=0.5)\n",
    "posterior_mean = recovery_data[\"mean_b\"]\n",
    "posterior_median = recovery_data[\"median_b\"]\n",
    "true = recovery_data[\"real_b\"]\n",
    "ax.scatter(true, posterior_mean, color=\"tomato\",\n",
    "                                zorder=10)\n",
    "ax.scatter(true, posterior_median, color=\"yellow\",\n",
    "                                zorder=9)\n",
    "ax.vlines(x=true.to_numpy(), linewidth=2,\n",
    "          ymin=recovery_data[\"HDI_b_bottom\"].to_numpy(),\n",
    "          ymax=recovery_data[\"HDI_b_top\"].to_numpy())\n",
    "ax.set_title(\"b\")\n",
    "\n",
    "min_true_point = true.min()\n",
    "max_true_point = true.max()\n",
    "recoverline = ax.axline((min_true_point, min_true_point),\n",
    "                        (max_true_point, max_true_point))\n",
    "plt.setp(recoverline, linewidth=3, color=\"grey\")\n",
    "\n",
    "r2 = r2_score(true, posterior_mean)\n",
    "ax.text(0.08, 0.92, f\"R2: {r2:.2f}\", horizontalalignment='center',\n",
    "        verticalalignment='center', transform=ax.transAxes)\n",
    "    \n",
    "custom_xlim = (min(min_true_point, posterior_mean.min())-0.5,\n",
    "               max(max_true_point, posterior_mean.max())+0.5)\n",
    "custom_ylim = (min(min_true_point, posterior_mean.min())-0.5,\n",
    "               max(max_true_point, posterior_mean.max())+0.5)\n",
    "\n",
    "# Setting the values for all axes.\n",
    "plt.setp(ax, xlim=custom_xlim, ylim=custom_ylim)\n",
    "plt.savefig(\"Plots/b_recovery.pdf\")"
   ]
  },
  {
   "cell_type": "markdown",
   "id": "b7826a54-faac-4bc7-b6d5-05990842b34d",
   "metadata": {
    "tags": []
   },
   "source": [
    "# alpha"
   ]
  },
  {
   "cell_type": "code",
   "execution_count": 7,
   "id": "6a6895de-df37-4c15-bae6-ac159efd967c",
   "metadata": {
    "tags": []
   },
   "outputs": [],
   "source": [
    "stan_file_path = root +  \"models/stan/ANN-RDM/individual/alpha_recovery.stan\" "
   ]
  },
  {
   "cell_type": "code",
   "execution_count": 8,
   "id": "8828d1f9-6a87-46e0-a686-9659a3db1178",
   "metadata": {},
   "outputs": [],
   "source": [
    "def save_results_to_csv(fit, parameters_set):\n",
    "    columns = {}\n",
    "    \n",
    "    recoverd_df = pd.DataFrame([], columns=columns.keys())\n",
    "    stan_variables = fit.stan_variables()\n",
    "\n",
    "    columns[\"mean_alpha\"] = stan_variables[\"alpha\"].mean()\n",
    "    columns[\"median_alpha\"] = np.median(stan_variables[\"alpha\"])\n",
    "    columns[\"real_alpha\"] = parameters_set.loc[\"alpha\", \"generated\"]\n",
    "    columns[\"HDI_alpha_bottom\"], columns[\"HDI_alpha_top\"] = hdi(stan_variables[\"alpha\"])\n",
    "\n",
    "    \n",
    "    recoverd_df = pd.concat([recoverd_df, pd.DataFrame(columns, index=[0])])\n",
    "\n",
    "    output_path=\"RecoveryResults/alpha_recovery_results.csv\"\n",
    "    recoverd_df.to_csv(output_path,\n",
    "                       mode=\"a\",\n",
    "                       header=not os.path.exists(output_path),\n",
    "                       index=False)"
   ]
  },
  {
   "cell_type": "markdown",
   "id": "f77c2a80-76ce-4697-a38b-7107d5fb1245",
   "metadata": {
    "id": "123c4809-7b46-4f8d-b578-0d5e9fb5fbe7"
   },
   "source": [
    "## Simulation and Estimation process"
   ]
  },
  {
   "cell_type": "code",
   "execution_count": 9,
   "id": "c8239083-e6be-4280-a508-1106811e261f",
   "metadata": {
    "colab": {
     "base_uri": "https://localhost:8080/"
    },
    "executionInfo": {
     "elapsed": 93380,
     "status": "ok",
     "timestamp": 1651313346844,
     "user": {
      "displayName": "Arash Dadras",
      "userId": "05722346836148265544"
     },
     "user_tz": -270
    },
    "id": "c1b3627d-0ea2-49b6-86f0-7b098a5a16d6",
    "outputId": "4bc8643c-82c0-4fc9-99a0-7f232fa1eea4",
    "scrolled": true,
    "tags": []
   },
   "outputs": [],
   "source": [
    "rdm_model = cmdstanpy.CmdStanModel(model_name=\"ANN-RDM_full_FC\",\n",
    "                                   stan_file=stan_file_path)"
   ]
  },
  {
   "cell_type": "code",
   "execution_count": 10,
   "id": "c22d95ff-8691-40d9-b085-095624d0a48f",
   "metadata": {
    "scrolled": true,
    "tags": []
   },
   "outputs": [
    {
     "name": "stdout",
     "output_type": "stream",
     "text": [
      "Iteration for participant 1 Started\n"
     ]
    },
    {
     "name": "stderr",
     "output_type": "stream",
     "text": [
      "18:04:34 - cmdstanpy - INFO - CmdStan start processing\n"
     ]
    },
    {
     "data": {
      "application/vnd.jupyter.widget-view+json": {
       "model_id": "698fe7f58be24acc8e4aeea0f8a469f4",
       "version_major": 2,
       "version_minor": 0
      },
      "text/plain": [
       "chain 1 |          | 00:00 Status"
      ]
     },
     "metadata": {},
     "output_type": "display_data"
    },
    {
     "data": {
      "application/vnd.jupyter.widget-view+json": {
       "model_id": "29c5798a3fff483bab3de54d66e69f2a",
       "version_major": 2,
       "version_minor": 0
      },
      "text/plain": [
       "chain 2 |          | 00:00 Status"
      ]
     },
     "metadata": {},
     "output_type": "display_data"
    },
    {
     "name": "stdout",
     "output_type": "stream",
     "text": [
      "                                                                                                                                                                                                                                                "
     ]
    },
    {
     "name": "stderr",
     "output_type": "stream",
     "text": [
      "18:04:40 - cmdstanpy - INFO - CmdStan done processing.\n"
     ]
    },
    {
     "name": "stdout",
     "output_type": "stream",
     "text": [
      "\n",
      "Iteration for participant 1 Finished\n",
      "Iteration for participant 2 Started\n"
     ]
    },
    {
     "name": "stderr",
     "output_type": "stream",
     "text": [
      "18:04:58 - cmdstanpy - INFO - CmdStan start processing\n"
     ]
    },
    {
     "data": {
      "application/vnd.jupyter.widget-view+json": {
       "model_id": "ea576d0f7a494bbd8ac8471a64c6eee2",
       "version_major": 2,
       "version_minor": 0
      },
      "text/plain": [
       "chain 1 |          | 00:00 Status"
      ]
     },
     "metadata": {},
     "output_type": "display_data"
    },
    {
     "data": {
      "application/vnd.jupyter.widget-view+json": {
       "model_id": "fcfe3b24d29d451d889eebce742e9715",
       "version_major": 2,
       "version_minor": 0
      },
      "text/plain": [
       "chain 2 |          | 00:00 Status"
      ]
     },
     "metadata": {},
     "output_type": "display_data"
    },
    {
     "name": "stdout",
     "output_type": "stream",
     "text": [
      "                                                                                                                                                                                                                                                "
     ]
    },
    {
     "name": "stderr",
     "output_type": "stream",
     "text": [
      "18:05:05 - cmdstanpy - INFO - CmdStan done processing.\n"
     ]
    },
    {
     "name": "stdout",
     "output_type": "stream",
     "text": [
      "\n",
      "Iteration for participant 2 Finished\n",
      "Iteration for participant 3 Started\n"
     ]
    },
    {
     "name": "stderr",
     "output_type": "stream",
     "text": [
      "18:05:23 - cmdstanpy - INFO - CmdStan start processing\n"
     ]
    },
    {
     "data": {
      "application/vnd.jupyter.widget-view+json": {
       "model_id": "326d17b34e9e4449b5793e641f3ec192",
       "version_major": 2,
       "version_minor": 0
      },
      "text/plain": [
       "chain 1 |          | 00:00 Status"
      ]
     },
     "metadata": {},
     "output_type": "display_data"
    },
    {
     "data": {
      "application/vnd.jupyter.widget-view+json": {
       "model_id": "ad499ab993e643b4b0b9b8fe379e5952",
       "version_major": 2,
       "version_minor": 0
      },
      "text/plain": [
       "chain 2 |          | 00:00 Status"
      ]
     },
     "metadata": {},
     "output_type": "display_data"
    },
    {
     "name": "stdout",
     "output_type": "stream",
     "text": [
      "                                                                                                                                                                                                                                                "
     ]
    },
    {
     "name": "stderr",
     "output_type": "stream",
     "text": [
      "18:05:29 - cmdstanpy - INFO - CmdStan done processing.\n"
     ]
    },
    {
     "name": "stdout",
     "output_type": "stream",
     "text": [
      "\n",
      "Iteration for participant 3 Finished\n",
      "Iteration for participant 4 Started\n"
     ]
    },
    {
     "name": "stderr",
     "output_type": "stream",
     "text": [
      "18:05:49 - cmdstanpy - INFO - CmdStan start processing\n"
     ]
    },
    {
     "data": {
      "application/vnd.jupyter.widget-view+json": {
       "model_id": "01bc333378174f1b810308a3b13a67f2",
       "version_major": 2,
       "version_minor": 0
      },
      "text/plain": [
       "chain 1 |          | 00:00 Status"
      ]
     },
     "metadata": {},
     "output_type": "display_data"
    },
    {
     "data": {
      "application/vnd.jupyter.widget-view+json": {
       "model_id": "5fd9b701ffca4186bec5627518dd18fd",
       "version_major": 2,
       "version_minor": 0
      },
      "text/plain": [
       "chain 2 |          | 00:00 Status"
      ]
     },
     "metadata": {},
     "output_type": "display_data"
    },
    {
     "name": "stdout",
     "output_type": "stream",
     "text": [
      "                                                                                                                                                                                                                                                "
     ]
    },
    {
     "name": "stderr",
     "output_type": "stream",
     "text": [
      "18:05:55 - cmdstanpy - INFO - CmdStan done processing.\n"
     ]
    },
    {
     "name": "stdout",
     "output_type": "stream",
     "text": [
      "\n",
      "Iteration for participant 4 Finished\n",
      "Iteration for participant 5 Started\n"
     ]
    },
    {
     "name": "stderr",
     "output_type": "stream",
     "text": [
      "18:06:13 - cmdstanpy - INFO - CmdStan start processing\n"
     ]
    },
    {
     "data": {
      "application/vnd.jupyter.widget-view+json": {
       "model_id": "a90f821dac324cb99216a6cad49e6e5c",
       "version_major": 2,
       "version_minor": 0
      },
      "text/plain": [
       "chain 1 |          | 00:00 Status"
      ]
     },
     "metadata": {},
     "output_type": "display_data"
    },
    {
     "data": {
      "application/vnd.jupyter.widget-view+json": {
       "model_id": "b77696e5a36742659ed8bd27eb41bb66",
       "version_major": 2,
       "version_minor": 0
      },
      "text/plain": [
       "chain 2 |          | 00:00 Status"
      ]
     },
     "metadata": {},
     "output_type": "display_data"
    },
    {
     "name": "stdout",
     "output_type": "stream",
     "text": [
      "                                                                                                                                                                                                                                                "
     ]
    },
    {
     "name": "stderr",
     "output_type": "stream",
     "text": [
      "18:06:19 - cmdstanpy - INFO - CmdStan done processing.\n"
     ]
    },
    {
     "name": "stdout",
     "output_type": "stream",
     "text": [
      "\n",
      "Iteration for participant 5 Finished\n",
      "Iteration for participant 6 Started\n"
     ]
    },
    {
     "name": "stderr",
     "output_type": "stream",
     "text": [
      "18:06:39 - cmdstanpy - INFO - CmdStan start processing\n"
     ]
    },
    {
     "data": {
      "application/vnd.jupyter.widget-view+json": {
       "model_id": "509602ea4bfb47cea59c9bf2d0081915",
       "version_major": 2,
       "version_minor": 0
      },
      "text/plain": [
       "chain 1 |          | 00:00 Status"
      ]
     },
     "metadata": {},
     "output_type": "display_data"
    },
    {
     "data": {
      "application/vnd.jupyter.widget-view+json": {
       "model_id": "db6cef9b020a4f8fa2308f9e3afcdf8c",
       "version_major": 2,
       "version_minor": 0
      },
      "text/plain": [
       "chain 2 |          | 00:00 Status"
      ]
     },
     "metadata": {},
     "output_type": "display_data"
    },
    {
     "name": "stdout",
     "output_type": "stream",
     "text": [
      "                                                                                                                                                                                                                                                "
     ]
    },
    {
     "name": "stderr",
     "output_type": "stream",
     "text": [
      "18:06:45 - cmdstanpy - INFO - CmdStan done processing.\n"
     ]
    },
    {
     "name": "stdout",
     "output_type": "stream",
     "text": [
      "\n",
      "Iteration for participant 6 Finished\n",
      "Iteration for participant 7 Started\n"
     ]
    },
    {
     "name": "stderr",
     "output_type": "stream",
     "text": [
      "18:07:03 - cmdstanpy - INFO - CmdStan start processing\n"
     ]
    },
    {
     "data": {
      "application/vnd.jupyter.widget-view+json": {
       "model_id": "bf54f6c058f74ac39d5cc44a5f686f93",
       "version_major": 2,
       "version_minor": 0
      },
      "text/plain": [
       "chain 1 |          | 00:00 Status"
      ]
     },
     "metadata": {},
     "output_type": "display_data"
    },
    {
     "data": {
      "application/vnd.jupyter.widget-view+json": {
       "model_id": "c02afa7132a64b9bba9bf8f47ffcbc15",
       "version_major": 2,
       "version_minor": 0
      },
      "text/plain": [
       "chain 2 |          | 00:00 Status"
      ]
     },
     "metadata": {},
     "output_type": "display_data"
    },
    {
     "name": "stdout",
     "output_type": "stream",
     "text": [
      "                                                                                                                                                                                                                                                "
     ]
    },
    {
     "name": "stderr",
     "output_type": "stream",
     "text": [
      "18:07:09 - cmdstanpy - INFO - CmdStan done processing.\n"
     ]
    },
    {
     "name": "stdout",
     "output_type": "stream",
     "text": [
      "\n",
      "Iteration for participant 7 Finished\n",
      "Iteration for participant 8 Started\n"
     ]
    },
    {
     "name": "stderr",
     "output_type": "stream",
     "text": [
      "18:07:27 - cmdstanpy - INFO - CmdStan start processing\n"
     ]
    },
    {
     "data": {
      "application/vnd.jupyter.widget-view+json": {
       "model_id": "431a647b5a8e4566b4ef7d94498d4cf7",
       "version_major": 2,
       "version_minor": 0
      },
      "text/plain": [
       "chain 1 |          | 00:00 Status"
      ]
     },
     "metadata": {},
     "output_type": "display_data"
    },
    {
     "data": {
      "application/vnd.jupyter.widget-view+json": {
       "model_id": "156a077c3be04449896b5969c03c89d2",
       "version_major": 2,
       "version_minor": 0
      },
      "text/plain": [
       "chain 2 |          | 00:00 Status"
      ]
     },
     "metadata": {},
     "output_type": "display_data"
    },
    {
     "name": "stdout",
     "output_type": "stream",
     "text": [
      "                                                                                                                                                                                                                                                "
     ]
    },
    {
     "name": "stderr",
     "output_type": "stream",
     "text": [
      "18:07:34 - cmdstanpy - INFO - CmdStan done processing.\n"
     ]
    },
    {
     "name": "stdout",
     "output_type": "stream",
     "text": [
      "\n",
      "Iteration for participant 8 Finished\n",
      "Iteration for participant 9 Started\n"
     ]
    },
    {
     "name": "stderr",
     "output_type": "stream",
     "text": [
      "18:07:53 - cmdstanpy - INFO - CmdStan start processing\n"
     ]
    },
    {
     "data": {
      "application/vnd.jupyter.widget-view+json": {
       "model_id": "56ea03e893a945f6b5b699d237b80439",
       "version_major": 2,
       "version_minor": 0
      },
      "text/plain": [
       "chain 1 |          | 00:00 Status"
      ]
     },
     "metadata": {},
     "output_type": "display_data"
    },
    {
     "data": {
      "application/vnd.jupyter.widget-view+json": {
       "model_id": "43eb7f02191840bf8732f74547d5461b",
       "version_major": 2,
       "version_minor": 0
      },
      "text/plain": [
       "chain 2 |          | 00:00 Status"
      ]
     },
     "metadata": {},
     "output_type": "display_data"
    },
    {
     "name": "stdout",
     "output_type": "stream",
     "text": [
      "                                                                                                                                                                                                                                                "
     ]
    },
    {
     "name": "stderr",
     "output_type": "stream",
     "text": [
      "18:08:00 - cmdstanpy - INFO - CmdStan done processing.\n"
     ]
    },
    {
     "name": "stdout",
     "output_type": "stream",
     "text": [
      "\n",
      "Split R-hat values are not satisfactory for all parameters. repeating iteration\n",
      "Iteration for participant 9 Started\n"
     ]
    },
    {
     "name": "stderr",
     "output_type": "stream",
     "text": [
      "18:08:17 - cmdstanpy - INFO - CmdStan start processing\n"
     ]
    },
    {
     "data": {
      "application/vnd.jupyter.widget-view+json": {
       "model_id": "17202074dcf34e76bafa509069d435d3",
       "version_major": 2,
       "version_minor": 0
      },
      "text/plain": [
       "chain 1 |          | 00:00 Status"
      ]
     },
     "metadata": {},
     "output_type": "display_data"
    },
    {
     "data": {
      "application/vnd.jupyter.widget-view+json": {
       "model_id": "baddda384a6549e3b35a9d3d1a2002bd",
       "version_major": 2,
       "version_minor": 0
      },
      "text/plain": [
       "chain 2 |          | 00:00 Status"
      ]
     },
     "metadata": {},
     "output_type": "display_data"
    },
    {
     "name": "stdout",
     "output_type": "stream",
     "text": [
      "                                                                                                                                                                                                                                                "
     ]
    },
    {
     "name": "stderr",
     "output_type": "stream",
     "text": [
      "18:08:23 - cmdstanpy - INFO - CmdStan done processing.\n"
     ]
    },
    {
     "name": "stdout",
     "output_type": "stream",
     "text": [
      "\n",
      "Iteration for participant 9 Finished\n",
      "Iteration for participant 10 Started\n"
     ]
    },
    {
     "name": "stderr",
     "output_type": "stream",
     "text": [
      "18:08:42 - cmdstanpy - INFO - CmdStan start processing\n"
     ]
    },
    {
     "data": {
      "application/vnd.jupyter.widget-view+json": {
       "model_id": "5378548af58740db86bcfeb8ca1022e4",
       "version_major": 2,
       "version_minor": 0
      },
      "text/plain": [
       "chain 1 |          | 00:00 Status"
      ]
     },
     "metadata": {},
     "output_type": "display_data"
    },
    {
     "data": {
      "application/vnd.jupyter.widget-view+json": {
       "model_id": "f5b36ae7dcc34a9e9c9b7142808780d9",
       "version_major": 2,
       "version_minor": 0
      },
      "text/plain": [
       "chain 2 |          | 00:00 Status"
      ]
     },
     "metadata": {},
     "output_type": "display_data"
    },
    {
     "name": "stdout",
     "output_type": "stream",
     "text": [
      "                                                                                                                                                                                                                                                "
     ]
    },
    {
     "name": "stderr",
     "output_type": "stream",
     "text": [
      "18:08:49 - cmdstanpy - INFO - CmdStan done processing.\n"
     ]
    },
    {
     "name": "stdout",
     "output_type": "stream",
     "text": [
      "\n",
      "Iteration for participant 10 Finished\n"
     ]
    }
   ],
   "source": [
    "iteration_count = 0\n",
    "params_range = pd.read_csv(\"Data/params_range.csv\", index_col=0)\n",
    "while iteration_count < number_of_participants:\n",
    "    print(f\"Iteration for participant {iteration_count+1} Started\")\n",
    "    parameters_set = params_range.copy()\n",
    "    parameters_set[\"generated\"] = np.random.normal(loc=parameters_set.iloc[:, 0],\n",
    "                                                   scale=parameters_set.iloc[:, 1])\n",
    "\n",
    "    behavioral_df = simulate_ANNRDM_individual(n_trials=n_trials, trials_info_df=word_nword_df,\n",
    "                                         parameters_set=parameters_set)\n",
    "    stan_parameters = get_stan_parameters(behavioral_df)\n",
    "    fit = rdm_model.sample(data=stan_parameters,\n",
    "                       iter_sampling=n_sample, \n",
    "                       iter_warmup=n_warmup,\n",
    "                       chains=n_chains,\n",
    "                       show_console=False)\n",
    "    \n",
    "    df = fit.summary()\n",
    "    badRhat = False\n",
    "    for f in df[\"R_hat\"]:\n",
    "        if f >= 1.01 or f <= 0.9:\n",
    "            badRhat = True\n",
    "    \n",
    "    if badRhat:\n",
    "        print(\"Split R-hat values are not satisfactory for all parameters. repeating iteration\") \n",
    "    else:\n",
    "        save_results_to_csv(fit, parameters_set)\n",
    "        print(f\"Iteration for participant {iteration_count+1} Finished\") \n",
    "        iteration_count += 1"
   ]
  },
  {
   "cell_type": "markdown",
   "id": "79d02658-0581-4050-930a-2d3be1d81f9d",
   "metadata": {
    "tags": []
   },
   "source": [
    "## Particpants parameter recovery"
   ]
  },
  {
   "cell_type": "code",
   "execution_count": 11,
   "id": "1cd9dc86-8744-4771-9a64-f3a180402102",
   "metadata": {
    "tags": []
   },
   "outputs": [],
   "source": [
    "recovery_data = pd.read_csv(\"RecoveryResults/alpha_recovery_results.csv\", header=0)"
   ]
  },
  {
   "cell_type": "code",
   "execution_count": 12,
   "id": "bc91f0eb-8b3f-4803-8bfb-c89f407715bb",
   "metadata": {
    "tags": []
   },
   "outputs": [
    {
     "data": {
      "image/png": "[encoded data removed]",
      "text/plain": [
       "<Figure size 1000x500 with 1 Axes>"
      ]
     },
     "metadata": {},
     "output_type": "display_data"
    }
   ],
   "source": [
    "fig, ax = plt.subplots(1, 1, figsize=(10,5))\n",
    "plt.subplots_adjust(wspace=0.2, hspace=0.5)\n",
    "posterior_mean = recovery_data[\"mean_alpha\"]\n",
    "posterior_median = recovery_data[\"median_alpha\"]\n",
    "true = recovery_data[\"real_alpha\"]\n",
    "ax.scatter(true, posterior_mean, color=\"tomato\",\n",
    "                                zorder=10)\n",
    "ax.scatter(true, posterior_median, color=\"yellow\",\n",
    "                                zorder=9)\n",
    "ax.vlines(x=true.to_numpy(), linewidth=2,\n",
    "          ymin=recovery_data[\"HDI_alpha_bottom\"].to_numpy(),\n",
    "          ymax=recovery_data[\"HDI_alpha_top\"].to_numpy())\n",
    "ax.set_title(\"alpha\")\n",
    "\n",
    "min_true_point = true.min()\n",
    "max_true_point = true.max()\n",
    "recoverline = ax.axline((min_true_point, min_true_point),\n",
    "                        (max_true_point, max_true_point))\n",
    "plt.setp(recoverline, linewidth=3, color=\"grey\")\n",
    "\n",
    "r2 = r2_score(true, posterior_mean)\n",
    "ax.text(0.08, 0.92, f\"R2: {r2:.2f}\", horizontalalignment='center',\n",
    "        verticalalignment='center', transform=ax.transAxes)\n",
    "    \n",
    "custom_xlim = (min(min_true_point, posterior_mean.min())-0.5,\n",
    "               max(max_true_point, posterior_mean.max())+0.5)\n",
    "custom_ylim = (min(min_true_point, posterior_mean.min())-0.5,\n",
    "               max(max_true_point, posterior_mean.max())+0.5)\n",
    "\n",
    "# Setting the values for all axes.\n",
    "plt.setp(ax, xlim=custom_xlim, ylim=custom_ylim)\n",
    "plt.savefig(\"Plots/alpha_recovery.pdf\")"
   ]
  },
  {
   "cell_type": "markdown",
   "id": "aaf0d11b-a0b4-4c69-9ba8-a5cbbdb2a6b3",
   "metadata": {
    "tags": []
   },
   "source": [
    "# threshold_word"
   ]
  },
  {
   "cell_type": "code",
   "execution_count": 50,
   "id": "de19c9d8-b8e2-4e37-adf9-f150c594f66e",
   "metadata": {
    "tags": []
   },
   "outputs": [],
   "source": [
    "stan_file_path = root +  \"models/stan/ANN-RDM/individual/threshold_word_recovery.stan\" "
   ]
  },
  {
   "cell_type": "code",
   "execution_count": 52,
   "id": "3e9a380b-9d5a-4b4e-a0ea-277609258ab7",
   "metadata": {},
   "outputs": [],
   "source": [
    "def save_results_to_csv(fit, parameters_set):\n",
    "    columns = {}\n",
    "    \n",
    "    recoverd_df = pd.DataFrame([], columns=columns.keys())\n",
    "    stan_variables = fit.stan_variables()\n",
    "\n",
    "    columns[\"mean_threshold_word\"] = stan_variables[\"threshold_word\"].mean()\n",
    "    columns[\"median_threshold_word\"] = np.median(stan_variables[\"threshold_word\"])\n",
    "    columns[\"real_threshold_word\"] = parameters_set.loc[\"threshold_word\", \"generated\"]\n",
    "    columns[\"HDI_threshold_word_bottom\"], columns[\"HDI_threshold_word_top\"] = hdi(stan_variables[\"threshold_word\"])\n",
    "\n",
    "    \n",
    "    recoverd_df = pd.concat([recoverd_df, pd.DataFrame(columns, index=[0])])\n",
    "\n",
    "    output_path=\"RecoveryResults/threshold_word_recovery_results.csv\"\n",
    "    recoverd_df.to_csv(output_path,\n",
    "                       mode=\"a\",\n",
    "                       header=not os.path.exists(output_path),\n",
    "                       index=False)"
   ]
  },
  {
   "cell_type": "markdown",
   "id": "a8489609-76b9-422e-a3fb-a2db3f32e9eb",
   "metadata": {
    "id": "123c4809-7b46-4f8d-b578-0d5e9fb5fbe7"
   },
   "source": [
    "## Simulation and Estimation process"
   ]
  },
  {
   "cell_type": "code",
   "execution_count": 53,
   "id": "93816f10-a287-4e97-a756-dae9ab357ca0",
   "metadata": {
    "colab": {
     "base_uri": "https://localhost:8080/"
    },
    "executionInfo": {
     "elapsed": 93380,
     "status": "ok",
     "timestamp": 1651313346844,
     "user": {
      "displayName": "Arash Dadras",
      "userId": "05722346836148265544"
     },
     "user_tz": -270
    },
    "id": "c1b3627d-0ea2-49b6-86f0-7b098a5a16d6",
    "outputId": "4bc8643c-82c0-4fc9-99a0-7f232fa1eea4",
    "scrolled": true,
    "tags": []
   },
   "outputs": [
    {
     "name": "stderr",
     "output_type": "stream",
     "text": [
      "17:00:09 - cmdstanpy - INFO - compiling stan file E:\\Workspace\\Thesis\\ANN-EAM\\models\\stan\\ANN-RDM\\individual\\threshold_word_recovery.stan to exe file E:\\Workspace\\Thesis\\ANN-EAM\\models\\stan\\ANN-RDM\\individual\\threshold_word_recovery.exe\n",
      "17:00:33 - cmdstanpy - INFO - compiled model executable: E:\\Workspace\\Thesis\\ANN-EAM\\models\\stan\\ANN-RDM\\individual\\threshold_word_recovery.exe\n",
      "17:00:33 - cmdstanpy - WARNING - Stan compiler has produced 7 warnings:\n",
      "17:00:33 - cmdstanpy - WARNING - \n",
      "--- Translating Stan model to C++ code ---\n",
      "bin/stanc.exe  --o=E:/Workspace/Thesis/ANN-EAM/models/stan/ANN-RDM/individual/threshold_word_recovery.hpp E:/Workspace/Thesis/ANN-EAM/models/stan/ANN-RDM/individual/threshold_word_recovery.stan\n",
      "Warning in 'E:/Workspace/Thesis/ANN-EAM/models/stan/ANN-RDM/individual/threshold_word_recovery.stan', line 54, column 4: Declaration\n",
      "    of arrays by placing brackets after a variable name is deprecated and\n",
      "    will be removed in Stan 2.32.0. Instead use the array keyword before the\n",
      "    type. This can be changed automatically using the auto-format flag to\n",
      "    stanc\n",
      "Warning in 'E:/Workspace/Thesis/ANN-EAM/models/stan/ANN-RDM/individual/threshold_word_recovery.stan', line 55, column 4: Declaration\n",
      "    of arrays by placing brackets after a variable name is deprecated and\n",
      "    will be removed in Stan 2.32.0. Instead use the array keyword before the\n",
      "    type. This can be changed automatically using the auto-format flag to\n",
      "    stanc\n",
      "Warning in 'E:/Workspace/Thesis/ANN-EAM/models/stan/ANN-RDM/individual/threshold_word_recovery.stan', line 56, column 4: Declaration\n",
      "    of arrays by placing brackets after a variable name is deprecated and\n",
      "    will be removed in Stan 2.32.0. Instead use the array keyword before the\n",
      "    type. This can be changed automatically using the auto-format flag to\n",
      "    stanc\n",
      "Warning in 'E:/Workspace/Thesis/ANN-EAM/models/stan/ANN-RDM/individual/threshold_word_recovery.stan', line 57, column 4: Declaration\n",
      "    of arrays by placing brackets after a variable name is deprecated and\n",
      "    will be removed in Stan 2.32.0. Instead use the array keyword before the\n",
      "    type. This can be changed automatically using the auto-format flag to\n",
      "    stanc\n",
      "Warning in 'E:/Workspace/Thesis/ANN-EAM/models/stan/ANN-RDM/individual/threshold_word_recovery.stan', line 59, column 4: Declaration\n",
      "    of arrays by placing brackets after a variable name is deprecated and\n",
      "    will be removed in Stan 2.32.0. Instead use the array keyword before the\n",
      "    type. This can be changed automatically using the auto-format flag to\n",
      "    stanc\n",
      "Warning in 'E:/Workspace/Thesis/ANN-EAM/models/stan/ANN-RDM/individual/threshold_word_recovery.stan', line 31, column 30: Use\n",
      "    of race_cdf without a vertical bar (|) between the first two arguments of\n",
      "    a CDF is deprecated and will be removed in Stan 2.32.0. This can be\n",
      "    automatically changed using the canonicalize flag for stanc\n",
      "Warning in 'E:/Workspace/Thesis/ANN-EAM/models/stan/ANN-RDM/individual/threshold_word_recovery.stan', line 35, column 30: Use\n",
      "    of race_cdf without a vertical bar (|) between the first two arguments of\n",
      "    a CDF is deprecated and will be removed in Stan 2.32.0. This can be\n",
      "    automatically changed using the canonicalize flag for stanc\n",
      "\n",
      "--- Compiling, linking C++ code ---\n",
      "g++ -std=c++1y -m64 -D_REENTRANT -Wall -Wno-unused-function -Wno-uninitialized -Wno-unused-but-set-variable -Wno-unused-variable -Wno-sign-compare -Wno-unused-local-typedefs -Wno-int-in-bool-context -Wno-attributes -Wno-ignored-attributes      -I stan/lib/stan_math/lib/tbb_2020.3/include    -O3 -I src -I stan/src -I stan/lib/rapidjson_1.1.0/ -I lib/CLI11-1.9.1/ -I stan/lib/stan_math/ -I stan/lib/stan_math/lib/eigen_3.3.9 -I stan/lib/stan_math/lib/boost_1.78.0 -I stan/lib/stan_math/lib/sundials_6.1.1/include -I stan/lib/stan_math/lib/sundials_6.1.1/src/sundials  -D_USE_MATH_DEFINES  -DBOOST_DISABLE_ASSERTS          -c  -x c++ -o E:/Workspace/Thesis/ANN-EAM/models/stan/ANN-RDM/individual/threshold_word_recovery.o E:/Workspace/Thesis/ANN-EAM/models/stan/ANN-RDM/individual/threshold_word_recovery.hpp\n",
      "g++ -std=c++1y -m64 -D_REENTRANT -Wall -Wno-unused-function -Wno-uninitialized -Wno-unused-but-set-variable -Wno-unused-variable -Wno-sign-compare -Wno-unused-local-typedefs -Wno-int-in-bool-context -Wno-attributes -Wno-ignored-attributes      -I stan/lib/stan_math/lib/tbb_2020.3/include    -O3 -I src -I stan/src -I stan/lib/rapidjson_1.1.0/ -I lib/CLI11-1.9.1/ -I stan/lib/stan_math/ -I stan/lib/stan_math/lib/eigen_3.3.9 -I stan/lib/stan_math/lib/boost_1.78.0 -I stan/lib/stan_math/lib/sundials_6.1.1/include -I stan/lib/stan_math/lib/sundials_6.1.1/src/sundials  -D_USE_MATH_DEFINES  -DBOOST_DISABLE_ASSERTS                -Wl,-L,\"C:/Users/Arash/anaconda3/envs/stan/Library/bin/cmdstan/stan/lib/stan_math/lib/tbb\" -Wl,-rpath,\"C:/Users/Arash/anaconda3/envs/stan/Library/bin/cmdstan/stan/lib/stan_math/lib/tbb\"      E:/Workspace/Thesis/ANN-EAM/models/stan/ANN-RDM/individual/threshold_word_recovery.o src/cmdstan/main.o  -static-libgcc -static-libstdc++      -Wl,-L,\"C:/Users/Arash/anaconda3/envs/stan/Library/bin/cmdstan/stan/lib/stan_math/lib/tbb\" -Wl,-rpath,\"C:/Users/Arash/anaconda3/envs/stan/Library/bin/cmdstan/stan/lib/stan_math/lib/tbb\"   stan/lib/stan_math/lib/sundials_6.1.1/lib/libsundials_nvecserial.a stan/lib/stan_math/lib/sundials_6.1.1/lib/libsundials_cvodes.a stan/lib/stan_math/lib/sundials_6.1.1/lib/libsundials_idas.a stan/lib/stan_math/lib/sundials_6.1.1/lib/libsundials_kinsol.a  stan/lib/stan_math/lib/tbb/tbb.dll -o E:/Workspace/Thesis/ANN-EAM/models/stan/ANN-RDM/individual/threshold_word_recovery.exe\n",
      "rm -f E:/Workspace/Thesis/ANN-EAM/models/stan/ANN-RDM/individual/threshold_word_recovery.o\n",
      "\n"
     ]
    }
   ],
   "source": [
    "rdm_model = cmdstanpy.CmdStanModel(model_name=\"ANN-RDM_full_FC\",\n",
    "                                   stan_file=stan_file_path)"
   ]
  },
  {
   "cell_type": "code",
   "execution_count": 54,
   "id": "c534d9c9-068b-4eab-b19f-d815c1c5365a",
   "metadata": {
    "scrolled": true,
    "tags": []
   },
   "outputs": [
    {
     "name": "stdout",
     "output_type": "stream",
     "text": [
      "Iteration for participant 1 Started\n"
     ]
    },
    {
     "name": "stderr",
     "output_type": "stream",
     "text": [
      "17:00:53 - cmdstanpy - INFO - CmdStan start processing\n"
     ]
    },
    {
     "data": {
      "application/vnd.jupyter.widget-view+json": {
       "model_id": "d0d9e81554e047c7a8d56e46c2aaecf1",
       "version_major": 2,
       "version_minor": 0
      },
      "text/plain": [
       "chain 1 |          | 00:00 Status"
      ]
     },
     "metadata": {},
     "output_type": "display_data"
    },
    {
     "data": {
      "application/vnd.jupyter.widget-view+json": {
       "model_id": "bab698926b2b449cbabbf037071a5445",
       "version_major": 2,
       "version_minor": 0
      },
      "text/plain": [
       "chain 2 |          | 00:00 Status"
      ]
     },
     "metadata": {},
     "output_type": "display_data"
    },
    {
     "name": "stdout",
     "output_type": "stream",
     "text": [
      "                                                                                                                                                                                                                                                "
     ]
    },
    {
     "name": "stderr",
     "output_type": "stream",
     "text": [
      "17:01:00 - cmdstanpy - INFO - CmdStan done processing.\n"
     ]
    },
    {
     "name": "stdout",
     "output_type": "stream",
     "text": [
      "\n",
      "Iteration for participant 1 Finished\n",
      "Iteration for participant 2 Started\n"
     ]
    },
    {
     "name": "stderr",
     "output_type": "stream",
     "text": [
      "17:01:20 - cmdstanpy - INFO - CmdStan start processing\n"
     ]
    },
    {
     "data": {
      "application/vnd.jupyter.widget-view+json": {
       "model_id": "5570de7995fd4ecba9ca05003d85d11c",
       "version_major": 2,
       "version_minor": 0
      },
      "text/plain": [
       "chain 1 |          | 00:00 Status"
      ]
     },
     "metadata": {},
     "output_type": "display_data"
    },
    {
     "data": {
      "application/vnd.jupyter.widget-view+json": {
       "model_id": "28e4b7a644e74a858294f1b08048cc75",
       "version_major": 2,
       "version_minor": 0
      },
      "text/plain": [
       "chain 2 |          | 00:00 Status"
      ]
     },
     "metadata": {},
     "output_type": "display_data"
    },
    {
     "name": "stdout",
     "output_type": "stream",
     "text": [
      "                                                                                                                                                                                                                                                "
     ]
    },
    {
     "name": "stderr",
     "output_type": "stream",
     "text": [
      "17:01:26 - cmdstanpy - INFO - CmdStan done processing.\n"
     ]
    },
    {
     "name": "stdout",
     "output_type": "stream",
     "text": [
      "\n",
      "Iteration for participant 2 Finished\n",
      "Iteration for participant 3 Started\n"
     ]
    },
    {
     "name": "stderr",
     "output_type": "stream",
     "text": [
      "17:01:46 - cmdstanpy - INFO - CmdStan start processing\n"
     ]
    },
    {
     "data": {
      "application/vnd.jupyter.widget-view+json": {
       "model_id": "e15836e194524072942b849ebd5110bd",
       "version_major": 2,
       "version_minor": 0
      },
      "text/plain": [
       "chain 1 |          | 00:00 Status"
      ]
     },
     "metadata": {},
     "output_type": "display_data"
    },
    {
     "data": {
      "application/vnd.jupyter.widget-view+json": {
       "model_id": "75f10ebbcf4c47a29a0797df8ee8d584",
       "version_major": 2,
       "version_minor": 0
      },
      "text/plain": [
       "chain 2 |          | 00:00 Status"
      ]
     },
     "metadata": {},
     "output_type": "display_data"
    },
    {
     "name": "stdout",
     "output_type": "stream",
     "text": [
      "                                                                                                                                                                                                                                                "
     ]
    },
    {
     "name": "stderr",
     "output_type": "stream",
     "text": [
      "17:01:53 - cmdstanpy - INFO - CmdStan done processing.\n"
     ]
    },
    {
     "name": "stdout",
     "output_type": "stream",
     "text": [
      "\n",
      "Iteration for participant 3 Finished\n",
      "Iteration for participant 4 Started\n"
     ]
    },
    {
     "name": "stderr",
     "output_type": "stream",
     "text": [
      "17:02:15 - cmdstanpy - INFO - CmdStan start processing\n"
     ]
    },
    {
     "data": {
      "application/vnd.jupyter.widget-view+json": {
       "model_id": "97923f0c7a0b413dad37c2d77e2ee2fd",
       "version_major": 2,
       "version_minor": 0
      },
      "text/plain": [
       "chain 1 |          | 00:00 Status"
      ]
     },
     "metadata": {},
     "output_type": "display_data"
    },
    {
     "data": {
      "application/vnd.jupyter.widget-view+json": {
       "model_id": "c049d79511fe49aa97afe2b296e42cca",
       "version_major": 2,
       "version_minor": 0
      },
      "text/plain": [
       "chain 2 |          | 00:00 Status"
      ]
     },
     "metadata": {},
     "output_type": "display_data"
    },
    {
     "name": "stdout",
     "output_type": "stream",
     "text": [
      "                                                                                                                                                                                                                                                "
     ]
    },
    {
     "name": "stderr",
     "output_type": "stream",
     "text": [
      "17:02:21 - cmdstanpy - INFO - CmdStan done processing.\n"
     ]
    },
    {
     "name": "stdout",
     "output_type": "stream",
     "text": [
      "\n",
      "Iteration for participant 4 Finished\n",
      "Iteration for participant 5 Started\n"
     ]
    },
    {
     "name": "stderr",
     "output_type": "stream",
     "text": [
      "17:02:45 - cmdstanpy - INFO - CmdStan start processing\n"
     ]
    },
    {
     "data": {
      "application/vnd.jupyter.widget-view+json": {
       "model_id": "c9b0b79d139a47f687405619662b01ca",
       "version_major": 2,
       "version_minor": 0
      },
      "text/plain": [
       "chain 1 |          | 00:00 Status"
      ]
     },
     "metadata": {},
     "output_type": "display_data"
    },
    {
     "data": {
      "application/vnd.jupyter.widget-view+json": {
       "model_id": "c42d5384ad474c7fb174000b30e197e1",
       "version_major": 2,
       "version_minor": 0
      },
      "text/plain": [
       "chain 2 |          | 00:00 Status"
      ]
     },
     "metadata": {},
     "output_type": "display_data"
    },
    {
     "name": "stdout",
     "output_type": "stream",
     "text": [
      "                                                                                                                                                                                                                                                "
     ]
    },
    {
     "name": "stderr",
     "output_type": "stream",
     "text": [
      "17:02:51 - cmdstanpy - INFO - CmdStan done processing.\n"
     ]
    },
    {
     "name": "stdout",
     "output_type": "stream",
     "text": [
      "\n",
      "Iteration for participant 5 Finished\n",
      "Iteration for participant 6 Started\n"
     ]
    },
    {
     "name": "stderr",
     "output_type": "stream",
     "text": [
      "17:03:15 - cmdstanpy - INFO - CmdStan start processing\n"
     ]
    },
    {
     "data": {
      "application/vnd.jupyter.widget-view+json": {
       "model_id": "2b5608bee7fd4012aac5ddac44c1ade8",
       "version_major": 2,
       "version_minor": 0
      },
      "text/plain": [
       "chain 1 |          | 00:00 Status"
      ]
     },
     "metadata": {},
     "output_type": "display_data"
    },
    {
     "data": {
      "application/vnd.jupyter.widget-view+json": {
       "model_id": "fe29570bbc9c4640a40a12f8e2098bca",
       "version_major": 2,
       "version_minor": 0
      },
      "text/plain": [
       "chain 2 |          | 00:00 Status"
      ]
     },
     "metadata": {},
     "output_type": "display_data"
    },
    {
     "name": "stdout",
     "output_type": "stream",
     "text": [
      "                                                                                                                                                                                                                                                "
     ]
    },
    {
     "name": "stderr",
     "output_type": "stream",
     "text": [
      "17:03:21 - cmdstanpy - INFO - CmdStan done processing.\n"
     ]
    },
    {
     "name": "stdout",
     "output_type": "stream",
     "text": [
      "\n",
      "Iteration for participant 6 Finished\n",
      "Iteration for participant 7 Started\n"
     ]
    },
    {
     "name": "stderr",
     "output_type": "stream",
     "text": [
      "17:03:43 - cmdstanpy - INFO - CmdStan start processing\n"
     ]
    },
    {
     "data": {
      "application/vnd.jupyter.widget-view+json": {
       "model_id": "517b5bec74ff4580a303e87a6fcd1b50",
       "version_major": 2,
       "version_minor": 0
      },
      "text/plain": [
       "chain 1 |          | 00:00 Status"
      ]
     },
     "metadata": {},
     "output_type": "display_data"
    },
    {
     "data": {
      "application/vnd.jupyter.widget-view+json": {
       "model_id": "2bbe0d0177d94b119c62fa656c0085eb",
       "version_major": 2,
       "version_minor": 0
      },
      "text/plain": [
       "chain 2 |          | 00:00 Status"
      ]
     },
     "metadata": {},
     "output_type": "display_data"
    },
    {
     "name": "stdout",
     "output_type": "stream",
     "text": [
      "                                                                                                                                                                                                                                                "
     ]
    },
    {
     "name": "stderr",
     "output_type": "stream",
     "text": [
      "17:03:49 - cmdstanpy - INFO - CmdStan done processing.\n"
     ]
    },
    {
     "name": "stdout",
     "output_type": "stream",
     "text": [
      "\n",
      "Iteration for participant 7 Finished\n",
      "Iteration for participant 8 Started\n"
     ]
    },
    {
     "name": "stderr",
     "output_type": "stream",
     "text": [
      "17:04:12 - cmdstanpy - INFO - CmdStan start processing\n"
     ]
    },
    {
     "data": {
      "application/vnd.jupyter.widget-view+json": {
       "model_id": "8c1175ca97504990b2f3a427e770b5a0",
       "version_major": 2,
       "version_minor": 0
      },
      "text/plain": [
       "chain 1 |          | 00:00 Status"
      ]
     },
     "metadata": {},
     "output_type": "display_data"
    },
    {
     "data": {
      "application/vnd.jupyter.widget-view+json": {
       "model_id": "1169514246aa49f0b0ca149096f58424",
       "version_major": 2,
       "version_minor": 0
      },
      "text/plain": [
       "chain 2 |          | 00:00 Status"
      ]
     },
     "metadata": {},
     "output_type": "display_data"
    },
    {
     "name": "stdout",
     "output_type": "stream",
     "text": [
      "                                                                                                                                                                                                                                                "
     ]
    },
    {
     "name": "stderr",
     "output_type": "stream",
     "text": [
      "17:04:19 - cmdstanpy - INFO - CmdStan done processing.\n"
     ]
    },
    {
     "name": "stdout",
     "output_type": "stream",
     "text": [
      "\n",
      "Iteration for participant 8 Finished\n",
      "Iteration for participant 9 Started\n"
     ]
    },
    {
     "name": "stderr",
     "output_type": "stream",
     "text": [
      "17:04:42 - cmdstanpy - INFO - CmdStan start processing\n"
     ]
    },
    {
     "data": {
      "application/vnd.jupyter.widget-view+json": {
       "model_id": "2ca1e62c9c6044caa52fae65b7773881",
       "version_major": 2,
       "version_minor": 0
      },
      "text/plain": [
       "chain 1 |          | 00:00 Status"
      ]
     },
     "metadata": {},
     "output_type": "display_data"
    },
    {
     "data": {
      "application/vnd.jupyter.widget-view+json": {
       "model_id": "d9133d2bd53f45518f9476bed47886ab",
       "version_major": 2,
       "version_minor": 0
      },
      "text/plain": [
       "chain 2 |          | 00:00 Status"
      ]
     },
     "metadata": {},
     "output_type": "display_data"
    },
    {
     "name": "stdout",
     "output_type": "stream",
     "text": [
      "                                                                                                                                                                                                                                                "
     ]
    },
    {
     "name": "stderr",
     "output_type": "stream",
     "text": [
      "17:04:49 - cmdstanpy - INFO - CmdStan done processing.\n"
     ]
    },
    {
     "name": "stdout",
     "output_type": "stream",
     "text": [
      "\n",
      "Iteration for participant 9 Finished\n",
      "Iteration for participant 10 Started\n"
     ]
    },
    {
     "name": "stderr",
     "output_type": "stream",
     "text": [
      "17:05:12 - cmdstanpy - INFO - CmdStan start processing\n"
     ]
    },
    {
     "data": {
      "application/vnd.jupyter.widget-view+json": {
       "model_id": "55a9b60381d64d0b826f41f823ede333",
       "version_major": 2,
       "version_minor": 0
      },
      "text/plain": [
       "chain 1 |          | 00:00 Status"
      ]
     },
     "metadata": {},
     "output_type": "display_data"
    },
    {
     "data": {
      "application/vnd.jupyter.widget-view+json": {
       "model_id": "474ae087af6249fb9c67e01d2cec52b2",
       "version_major": 2,
       "version_minor": 0
      },
      "text/plain": [
       "chain 2 |          | 00:00 Status"
      ]
     },
     "metadata": {},
     "output_type": "display_data"
    },
    {
     "name": "stdout",
     "output_type": "stream",
     "text": [
      "                                                                                                                                                                                                                                                "
     ]
    },
    {
     "name": "stderr",
     "output_type": "stream",
     "text": [
      "17:05:18 - cmdstanpy - INFO - CmdStan done processing.\n"
     ]
    },
    {
     "name": "stdout",
     "output_type": "stream",
     "text": [
      "\n",
      "Iteration for participant 10 Finished\n"
     ]
    }
   ],
   "source": [
    "iteration_count = 0\n",
    "params_range = pd.read_csv(\"Data/params_range.csv\", index_col=0)\n",
    "while iteration_count < number_of_participants:\n",
    "    print(f\"Iteration for participant {iteration_count+1} Started\")\n",
    "    parameters_set = params_range.copy()\n",
    "    parameters_set[\"generated\"] = np.random.normal(loc=parameters_set.iloc[:, 0],\n",
    "                                                   scale=parameters_set.iloc[:, 1])\n",
    "\n",
    "    behavioral_df = simulate_ANNRDM_individual(n_trials=n_trials, trials_info_df=word_nword_df,\n",
    "                                         parameters_set=parameters_set)\n",
    "    stan_parameters = get_stan_parameters(behavioral_df)\n",
    "    fit = rdm_model.sample(data=stan_parameters,\n",
    "                       iter_sampling=n_sample, \n",
    "                       iter_warmup=n_warmup,\n",
    "                       chains=n_chains,\n",
    "                       show_console=False)\n",
    "    \n",
    "    df = fit.summary()\n",
    "    badRhat = False\n",
    "    for f in df[\"R_hat\"]:\n",
    "        if f >= 1.01 or f <= 0.9:\n",
    "            badRhat = True\n",
    "    \n",
    "    if badRhat:\n",
    "        print(\"Split R-hat values are not satisfactory for all parameters. repeating iteration\") \n",
    "    else:\n",
    "        save_results_to_csv(fit, parameters_set)\n",
    "        print(f\"Iteration for participant {iteration_count+1} Finished\") \n",
    "        iteration_count += 1"
   ]
  },
  {
   "cell_type": "markdown",
   "id": "ecfe8ba9-7636-4a1f-bf4d-de846b28847a",
   "metadata": {},
   "source": [
    "## Particpants parameter recovery"
   ]
  },
  {
   "cell_type": "code",
   "execution_count": 56,
   "id": "8d139bee-b7b4-4d70-9100-bdd9b4f7d241",
   "metadata": {
    "tags": []
   },
   "outputs": [],
   "source": [
    "recovery_data = pd.read_csv(\"RecoveryResults/threshold_word_recovery_results.csv\", header=0)"
   ]
  },
  {
   "cell_type": "code",
   "execution_count": 57,
   "id": "1d0bd8d3-0452-49b1-8b79-c98a9455ac2a",
   "metadata": {
    "tags": []
   },
   "outputs": [
    {
     "data": {
      "text/plain": [
       "[0.9157404499999999, 2.500467866620232, 0.9157404499999999, 2.500467866620232]"
      ]
     },
     "execution_count": 57,
     "metadata": {},
     "output_type": "execute_result"
    },
    {
     "data": {
      "image/png": "[encoded data removed]",
      "text/plain": [
       "<Figure size 1000x500 with 1 Axes>"
      ]
     },
     "metadata": {},
     "output_type": "display_data"
    }
   ],
   "source": [
    "fig, ax = plt.subplots(1, 1, figsize=(10,5))\n",
    "plt.subplots_adjust(wspace=0.2, hspace=0.5)\n",
    "posterior_mean = recovery_data[\"mean_threshold_word\"]\n",
    "posterior_median = recovery_data[\"median_threshold_word\"]\n",
    "true = recovery_data[\"real_threshold_word\"]\n",
    "ax.scatter(true, posterior_mean, color=\"tomato\",\n",
    "                                zorder=10)\n",
    "ax.scatter(true, posterior_median, color=\"yellow\",\n",
    "                                zorder=9)\n",
    "ax.vlines(x=true.to_numpy(), linewidth=2,\n",
    "          ymin=recovery_data[\"HDI_threshold_word_bottom\"].to_numpy(),\n",
    "          ymax=recovery_data[\"HDI_threshold_word_top\"].to_numpy())\n",
    "ax.set_title(\"threshold_word\")\n",
    "\n",
    "min_true_point = true.min()\n",
    "max_true_point = true.max()\n",
    "recoverline = ax.axline((min_true_point, min_true_point),\n",
    "                        (max_true_point, max_true_point))\n",
    "plt.setp(recoverline, linewidth=3, color=\"grey\")\n",
    "\n",
    "r2 = r2_score(true, posterior_mean)\n",
    "ax.text(0.08, 0.92, f\"R2: {r2:.2f}\", horizontalalignment='center',\n",
    "        verticalalignment='center', transform=ax.transAxes)\n",
    "    \n",
    "custom_xlim = (min(min_true_point, posterior_mean.min())-0.5,\n",
    "               max(max_true_point, posterior_mean.max())+0.5)\n",
    "custom_ylim = (min(min_true_point, posterior_mean.min())-0.5,\n",
    "               max(max_true_point, posterior_mean.max())+0.5)\n",
    "\n",
    "# Setting the values for all axes.\n",
    "plt.setp(ax, xlim=custom_xlim, ylim=custom_ylim)\n",
    "plt.savefig(\"Plots/threshold_word_recovery.pdf\")"
   ]
  },
  {
   "cell_type": "markdown",
   "id": "f3f57b5a-d7ea-4901-bbde-5ee6e2237ad3",
   "metadata": {
    "tags": []
   },
   "source": [
    "# threshold_nonword"
   ]
  },
  {
   "cell_type": "code",
   "execution_count": 58,
   "id": "0196eef3-2e48-426e-a85b-8b32a4bdb9c5",
   "metadata": {
    "tags": []
   },
   "outputs": [],
   "source": [
    "stan_file_path = root +  \"models/stan/ANN-RDM/individual/threshold_nonword_recovery.stan\" "
   ]
  },
  {
   "cell_type": "code",
   "execution_count": 59,
   "id": "f9fcc3d0-9cdc-46fb-8dc3-b5d852e4d184",
   "metadata": {},
   "outputs": [],
   "source": [
    "def save_results_to_csv(fit, parameters_set):\n",
    "    columns = {}\n",
    "    \n",
    "    recoverd_df = pd.DataFrame([], columns=columns.keys())\n",
    "    stan_variables = fit.stan_variables()\n",
    "\n",
    "    columns[\"mean_threshold_nonword\"] = stan_variables[\"threshold_nonword\"].mean()\n",
    "    columns[\"median_threshold_nonword\"] = np.median(stan_variables[\"threshold_nonword\"])\n",
    "    columns[\"real_threshold_nonword\"] = parameters_set.loc[\"threshold_nonword\", \"generated\"]\n",
    "    columns[\"HDI_threshold_nonword_bottom\"], columns[\"HDI_threshold_nonword_top\"] = hdi(stan_variables[\"threshold_nonword\"])\n",
    "\n",
    "    \n",
    "    recoverd_df = pd.concat([recoverd_df, pd.DataFrame(columns, index=[0])])\n",
    "\n",
    "    output_path=\"RecoveryResults/threshold_nonword_recovery_results.csv\"\n",
    "    recoverd_df.to_csv(output_path,\n",
    "                       mode=\"a\",\n",
    "                       header=not os.path.exists(output_path),\n",
    "                       index=False)"
   ]
  },
  {
   "cell_type": "markdown",
   "id": "5dfc5822-b0d7-4936-96bf-da192ae02602",
   "metadata": {
    "id": "123c4809-7b46-4f8d-b578-0d5e9fb5fbe7"
   },
   "source": [
    "## Simulation and Estimation process"
   ]
  },
  {
   "cell_type": "code",
   "execution_count": 60,
   "id": "41493e4e-ca7b-4e1a-ab83-d257a0acae0f",
   "metadata": {
    "colab": {
     "base_uri": "https://localhost:8080/"
    },
    "executionInfo": {
     "elapsed": 93380,
     "status": "ok",
     "timestamp": 1651313346844,
     "user": {
      "displayName": "Arash Dadras",
      "userId": "05722346836148265544"
     },
     "user_tz": -270
    },
    "id": "c1b3627d-0ea2-49b6-86f0-7b098a5a16d6",
    "outputId": "4bc8643c-82c0-4fc9-99a0-7f232fa1eea4",
    "scrolled": true,
    "tags": []
   },
   "outputs": [
    {
     "name": "stderr",
     "output_type": "stream",
     "text": [
      "17:06:44 - cmdstanpy - INFO - compiling stan file E:\\Workspace\\Thesis\\ANN-EAM\\models\\stan\\ANN-RDM\\individual\\threshold_nonword_recovery.stan to exe file E:\\Workspace\\Thesis\\ANN-EAM\\models\\stan\\ANN-RDM\\individual\\threshold_nonword_recovery.exe\n",
      "17:07:08 - cmdstanpy - INFO - compiled model executable: E:\\Workspace\\Thesis\\ANN-EAM\\models\\stan\\ANN-RDM\\individual\\threshold_nonword_recovery.exe\n",
      "17:07:08 - cmdstanpy - WARNING - Stan compiler has produced 7 warnings:\n",
      "17:07:08 - cmdstanpy - WARNING - \n",
      "--- Translating Stan model to C++ code ---\n",
      "bin/stanc.exe  --o=E:/Workspace/Thesis/ANN-EAM/models/stan/ANN-RDM/individual/threshold_nonword_recovery.hpp E:/Workspace/Thesis/ANN-EAM/models/stan/ANN-RDM/individual/threshold_nonword_recovery.stan\n",
      "Warning in 'E:/Workspace/Thesis/ANN-EAM/models/stan/ANN-RDM/individual/threshold_nonword_recovery.stan', line 54, column 4: Declaration\n",
      "    of arrays by placing brackets after a variable name is deprecated and\n",
      "    will be removed in Stan 2.32.0. Instead use the array keyword before the\n",
      "    type. This can be changed automatically using the auto-format flag to\n",
      "    stanc\n",
      "Warning in 'E:/Workspace/Thesis/ANN-EAM/models/stan/ANN-RDM/individual/threshold_nonword_recovery.stan', line 55, column 4: Declaration\n",
      "    of arrays by placing brackets after a variable name is deprecated and\n",
      "    will be removed in Stan 2.32.0. Instead use the array keyword before the\n",
      "    type. This can be changed automatically using the auto-format flag to\n",
      "    stanc\n",
      "Warning in 'E:/Workspace/Thesis/ANN-EAM/models/stan/ANN-RDM/individual/threshold_nonword_recovery.stan', line 56, column 4: Declaration\n",
      "    of arrays by placing brackets after a variable name is deprecated and\n",
      "    will be removed in Stan 2.32.0. Instead use the array keyword before the\n",
      "    type. This can be changed automatically using the auto-format flag to\n",
      "    stanc\n",
      "Warning in 'E:/Workspace/Thesis/ANN-EAM/models/stan/ANN-RDM/individual/threshold_nonword_recovery.stan', line 57, column 4: Declaration\n",
      "    of arrays by placing brackets after a variable name is deprecated and\n",
      "    will be removed in Stan 2.32.0. Instead use the array keyword before the\n",
      "    type. This can be changed automatically using the auto-format flag to\n",
      "    stanc\n",
      "Warning in 'E:/Workspace/Thesis/ANN-EAM/models/stan/ANN-RDM/individual/threshold_nonword_recovery.stan', line 59, column 4: Declaration\n",
      "    of arrays by placing brackets after a variable name is deprecated and\n",
      "    will be removed in Stan 2.32.0. Instead use the array keyword before the\n",
      "    type. This can be changed automatically using the auto-format flag to\n",
      "    stanc\n",
      "Warning in 'E:/Workspace/Thesis/ANN-EAM/models/stan/ANN-RDM/individual/threshold_nonword_recovery.stan', line 31, column 30: Use\n",
      "    of race_cdf without a vertical bar (|) between the first two arguments of\n",
      "    a CDF is deprecated and will be removed in Stan 2.32.0. This can be\n",
      "    automatically changed using the canonicalize flag for stanc\n",
      "Warning in 'E:/Workspace/Thesis/ANN-EAM/models/stan/ANN-RDM/individual/threshold_nonword_recovery.stan', line 35, column 30: Use\n",
      "    of race_cdf without a vertical bar (|) between the first two arguments of\n",
      "    a CDF is deprecated and will be removed in Stan 2.32.0. This can be\n",
      "    automatically changed using the canonicalize flag for stanc\n",
      "\n",
      "--- Compiling, linking C++ code ---\n",
      "g++ -std=c++1y -m64 -D_REENTRANT -Wall -Wno-unused-function -Wno-uninitialized -Wno-unused-but-set-variable -Wno-unused-variable -Wno-sign-compare -Wno-unused-local-typedefs -Wno-int-in-bool-context -Wno-attributes -Wno-ignored-attributes      -I stan/lib/stan_math/lib/tbb_2020.3/include    -O3 -I src -I stan/src -I stan/lib/rapidjson_1.1.0/ -I lib/CLI11-1.9.1/ -I stan/lib/stan_math/ -I stan/lib/stan_math/lib/eigen_3.3.9 -I stan/lib/stan_math/lib/boost_1.78.0 -I stan/lib/stan_math/lib/sundials_6.1.1/include -I stan/lib/stan_math/lib/sundials_6.1.1/src/sundials  -D_USE_MATH_DEFINES  -DBOOST_DISABLE_ASSERTS          -c  -x c++ -o E:/Workspace/Thesis/ANN-EAM/models/stan/ANN-RDM/individual/threshold_nonword_recovery.o E:/Workspace/Thesis/ANN-EAM/models/stan/ANN-RDM/individual/threshold_nonword_recovery.hpp\n",
      "g++ -std=c++1y -m64 -D_REENTRANT -Wall -Wno-unused-function -Wno-uninitialized -Wno-unused-but-set-variable -Wno-unused-variable -Wno-sign-compare -Wno-unused-local-typedefs -Wno-int-in-bool-context -Wno-attributes -Wno-ignored-attributes      -I stan/lib/stan_math/lib/tbb_2020.3/include    -O3 -I src -I stan/src -I stan/lib/rapidjson_1.1.0/ -I lib/CLI11-1.9.1/ -I stan/lib/stan_math/ -I stan/lib/stan_math/lib/eigen_3.3.9 -I stan/lib/stan_math/lib/boost_1.78.0 -I stan/lib/stan_math/lib/sundials_6.1.1/include -I stan/lib/stan_math/lib/sundials_6.1.1/src/sundials  -D_USE_MATH_DEFINES  -DBOOST_DISABLE_ASSERTS                -Wl,-L,\"C:/Users/Arash/anaconda3/envs/stan/Library/bin/cmdstan/stan/lib/stan_math/lib/tbb\" -Wl,-rpath,\"C:/Users/Arash/anaconda3/envs/stan/Library/bin/cmdstan/stan/lib/stan_math/lib/tbb\"      E:/Workspace/Thesis/ANN-EAM/models/stan/ANN-RDM/individual/threshold_nonword_recovery.o src/cmdstan/main.o  -static-libgcc -static-libstdc++      -Wl,-L,\"C:/Users/Arash/anaconda3/envs/stan/Library/bin/cmdstan/stan/lib/stan_math/lib/tbb\" -Wl,-rpath,\"C:/Users/Arash/anaconda3/envs/stan/Library/bin/cmdstan/stan/lib/stan_math/lib/tbb\"   stan/lib/stan_math/lib/sundials_6.1.1/lib/libsundials_nvecserial.a stan/lib/stan_math/lib/sundials_6.1.1/lib/libsundials_cvodes.a stan/lib/stan_math/lib/sundials_6.1.1/lib/libsundials_idas.a stan/lib/stan_math/lib/sundials_6.1.1/lib/libsundials_kinsol.a  stan/lib/stan_math/lib/tbb/tbb.dll -o E:/Workspace/Thesis/ANN-EAM/models/stan/ANN-RDM/individual/threshold_nonword_recovery.exe\n",
      "rm -f E:/Workspace/Thesis/ANN-EAM/models/stan/ANN-RDM/individual/threshold_nonword_recovery.o\n",
      "\n"
     ]
    }
   ],
   "source": [
    "rdm_model = cmdstanpy.CmdStanModel(model_name=\"ANN-RDM_full_FC\",\n",
    "                                   stan_file=stan_file_path)"
   ]
  },
  {
   "cell_type": "code",
   "execution_count": 61,
   "id": "9b2c3832-e763-404c-8196-6f000d81f03a",
   "metadata": {
    "scrolled": true,
    "tags": []
   },
   "outputs": [
    {
     "name": "stdout",
     "output_type": "stream",
     "text": [
      "Iteration for participant 1 Started\n"
     ]
    },
    {
     "name": "stderr",
     "output_type": "stream",
     "text": [
      "17:07:11 - cmdstanpy - INFO - CmdStan start processing\n"
     ]
    },
    {
     "data": {
      "application/vnd.jupyter.widget-view+json": {
       "model_id": "417bd36f6d534481861a6686f2bf20e7",
       "version_major": 2,
       "version_minor": 0
      },
      "text/plain": [
       "chain 1 |          | 00:00 Status"
      ]
     },
     "metadata": {},
     "output_type": "display_data"
    },
    {
     "data": {
      "application/vnd.jupyter.widget-view+json": {
       "model_id": "b4feeba3fef2441faac1f0b170331977",
       "version_major": 2,
       "version_minor": 0
      },
      "text/plain": [
       "chain 2 |          | 00:00 Status"
      ]
     },
     "metadata": {},
     "output_type": "display_data"
    },
    {
     "name": "stdout",
     "output_type": "stream",
     "text": [
      "                                                                                                                                                                                                                                                "
     ]
    },
    {
     "name": "stderr",
     "output_type": "stream",
     "text": [
      "17:07:17 - cmdstanpy - INFO - CmdStan done processing.\n"
     ]
    },
    {
     "name": "stdout",
     "output_type": "stream",
     "text": [
      "\n",
      "Iteration for participant 1 Finished\n",
      "Iteration for participant 2 Started\n"
     ]
    },
    {
     "name": "stderr",
     "output_type": "stream",
     "text": [
      "17:07:37 - cmdstanpy - INFO - CmdStan start processing\n"
     ]
    },
    {
     "data": {
      "application/vnd.jupyter.widget-view+json": {
       "model_id": "a5b29ab582b446c4b798eab218f32c42",
       "version_major": 2,
       "version_minor": 0
      },
      "text/plain": [
       "chain 1 |          | 00:00 Status"
      ]
     },
     "metadata": {},
     "output_type": "display_data"
    },
    {
     "data": {
      "application/vnd.jupyter.widget-view+json": {
       "model_id": "fa3b57bf7ba1494785e7b70f96d50912",
       "version_major": 2,
       "version_minor": 0
      },
      "text/plain": [
       "chain 2 |          | 00:00 Status"
      ]
     },
     "metadata": {},
     "output_type": "display_data"
    },
    {
     "name": "stdout",
     "output_type": "stream",
     "text": [
      "                                                                                                                                                                                                                                                "
     ]
    },
    {
     "name": "stderr",
     "output_type": "stream",
     "text": [
      "17:07:44 - cmdstanpy - INFO - CmdStan done processing.\n"
     ]
    },
    {
     "name": "stdout",
     "output_type": "stream",
     "text": [
      "\n",
      "Iteration for participant 2 Finished\n",
      "Iteration for participant 3 Started\n"
     ]
    },
    {
     "name": "stderr",
     "output_type": "stream",
     "text": [
      "17:08:05 - cmdstanpy - INFO - CmdStan start processing\n"
     ]
    },
    {
     "data": {
      "application/vnd.jupyter.widget-view+json": {
       "model_id": "6ae9bc3679534e428dc5a1ac657415e4",
       "version_major": 2,
       "version_minor": 0
      },
      "text/plain": [
       "chain 1 |          | 00:00 Status"
      ]
     },
     "metadata": {},
     "output_type": "display_data"
    },
    {
     "data": {
      "application/vnd.jupyter.widget-view+json": {
       "model_id": "d378182c20984378846f599613f308ee",
       "version_major": 2,
       "version_minor": 0
      },
      "text/plain": [
       "chain 2 |          | 00:00 Status"
      ]
     },
     "metadata": {},
     "output_type": "display_data"
    },
    {
     "name": "stdout",
     "output_type": "stream",
     "text": [
      "                                                                                                                                                                                                                                                "
     ]
    },
    {
     "name": "stderr",
     "output_type": "stream",
     "text": [
      "17:08:11 - cmdstanpy - INFO - CmdStan done processing.\n"
     ]
    },
    {
     "name": "stdout",
     "output_type": "stream",
     "text": [
      "\n",
      "Iteration for participant 3 Finished\n",
      "Iteration for participant 4 Started\n"
     ]
    },
    {
     "name": "stderr",
     "output_type": "stream",
     "text": [
      "17:08:34 - cmdstanpy - INFO - CmdStan start processing\n"
     ]
    },
    {
     "data": {
      "application/vnd.jupyter.widget-view+json": {
       "model_id": "5f3564095e03466ba0aa0ce1282a4aa6",
       "version_major": 2,
       "version_minor": 0
      },
      "text/plain": [
       "chain 1 |          | 00:00 Status"
      ]
     },
     "metadata": {},
     "output_type": "display_data"
    },
    {
     "data": {
      "application/vnd.jupyter.widget-view+json": {
       "model_id": "76e1bff3018e481fbec9e693b53f6fe4",
       "version_major": 2,
       "version_minor": 0
      },
      "text/plain": [
       "chain 2 |          | 00:00 Status"
      ]
     },
     "metadata": {},
     "output_type": "display_data"
    },
    {
     "name": "stdout",
     "output_type": "stream",
     "text": [
      "                                                                                                                                                                                                                                                "
     ]
    },
    {
     "name": "stderr",
     "output_type": "stream",
     "text": [
      "17:08:40 - cmdstanpy - INFO - CmdStan done processing.\n"
     ]
    },
    {
     "name": "stdout",
     "output_type": "stream",
     "text": [
      "\n",
      "Iteration for participant 4 Finished\n",
      "Iteration for participant 5 Started\n"
     ]
    },
    {
     "name": "stderr",
     "output_type": "stream",
     "text": [
      "17:09:02 - cmdstanpy - INFO - CmdStan start processing\n"
     ]
    },
    {
     "data": {
      "application/vnd.jupyter.widget-view+json": {
       "model_id": "950434def3644a43909708b2e0057712",
       "version_major": 2,
       "version_minor": 0
      },
      "text/plain": [
       "chain 1 |          | 00:00 Status"
      ]
     },
     "metadata": {},
     "output_type": "display_data"
    },
    {
     "data": {
      "application/vnd.jupyter.widget-view+json": {
       "model_id": "168af7a8306245f899f84b9ecc16327e",
       "version_major": 2,
       "version_minor": 0
      },
      "text/plain": [
       "chain 2 |          | 00:00 Status"
      ]
     },
     "metadata": {},
     "output_type": "display_data"
    },
    {
     "name": "stdout",
     "output_type": "stream",
     "text": [
      "                                                                                                                                                                                                                                                "
     ]
    },
    {
     "name": "stderr",
     "output_type": "stream",
     "text": [
      "17:09:08 - cmdstanpy - INFO - CmdStan done processing.\n"
     ]
    },
    {
     "name": "stdout",
     "output_type": "stream",
     "text": [
      "\n",
      "Iteration for participant 5 Finished\n",
      "Iteration for participant 6 Started\n"
     ]
    },
    {
     "name": "stderr",
     "output_type": "stream",
     "text": [
      "17:09:32 - cmdstanpy - INFO - CmdStan start processing\n"
     ]
    },
    {
     "data": {
      "application/vnd.jupyter.widget-view+json": {
       "model_id": "857db455f71d46d1a4745e118dceb16f",
       "version_major": 2,
       "version_minor": 0
      },
      "text/plain": [
       "chain 1 |          | 00:00 Status"
      ]
     },
     "metadata": {},
     "output_type": "display_data"
    },
    {
     "data": {
      "application/vnd.jupyter.widget-view+json": {
       "model_id": "c1da677adf9443c9ba3773de32458a8f",
       "version_major": 2,
       "version_minor": 0
      },
      "text/plain": [
       "chain 2 |          | 00:00 Status"
      ]
     },
     "metadata": {},
     "output_type": "display_data"
    },
    {
     "name": "stdout",
     "output_type": "stream",
     "text": [
      "                                                                                                                                                                                                                                                "
     ]
    },
    {
     "name": "stderr",
     "output_type": "stream",
     "text": [
      "17:09:38 - cmdstanpy - INFO - CmdStan done processing.\n"
     ]
    },
    {
     "name": "stdout",
     "output_type": "stream",
     "text": [
      "\n",
      "Iteration for participant 6 Finished\n",
      "Iteration for participant 7 Started\n"
     ]
    },
    {
     "name": "stderr",
     "output_type": "stream",
     "text": [
      "17:09:59 - cmdstanpy - INFO - CmdStan start processing\n"
     ]
    },
    {
     "data": {
      "application/vnd.jupyter.widget-view+json": {
       "model_id": "83dac54409c446fa94951f080463c07c",
       "version_major": 2,
       "version_minor": 0
      },
      "text/plain": [
       "chain 1 |          | 00:00 Status"
      ]
     },
     "metadata": {},
     "output_type": "display_data"
    },
    {
     "data": {
      "application/vnd.jupyter.widget-view+json": {
       "model_id": "2a9aa00d3e7d4b94966ba23ff418663a",
       "version_major": 2,
       "version_minor": 0
      },
      "text/plain": [
       "chain 2 |          | 00:00 Status"
      ]
     },
     "metadata": {},
     "output_type": "display_data"
    },
    {
     "name": "stdout",
     "output_type": "stream",
     "text": [
      "                                                                                                                                                                                                                                                "
     ]
    },
    {
     "name": "stderr",
     "output_type": "stream",
     "text": [
      "17:10:05 - cmdstanpy - INFO - CmdStan done processing.\n"
     ]
    },
    {
     "name": "stdout",
     "output_type": "stream",
     "text": [
      "\n",
      "Iteration for participant 7 Finished\n",
      "Iteration for participant 8 Started\n"
     ]
    },
    {
     "name": "stderr",
     "output_type": "stream",
     "text": [
      "17:10:28 - cmdstanpy - INFO - CmdStan start processing\n"
     ]
    },
    {
     "data": {
      "application/vnd.jupyter.widget-view+json": {
       "model_id": "85f854c52e7b4924b8994575f7abf424",
       "version_major": 2,
       "version_minor": 0
      },
      "text/plain": [
       "chain 1 |          | 00:00 Status"
      ]
     },
     "metadata": {},
     "output_type": "display_data"
    },
    {
     "data": {
      "application/vnd.jupyter.widget-view+json": {
       "model_id": "c3ea540921d84a88a2efa40cb8cf2195",
       "version_major": 2,
       "version_minor": 0
      },
      "text/plain": [
       "chain 2 |          | 00:00 Status"
      ]
     },
     "metadata": {},
     "output_type": "display_data"
    },
    {
     "name": "stdout",
     "output_type": "stream",
     "text": [
      "                                                                                                                                                                                                                                                "
     ]
    },
    {
     "name": "stderr",
     "output_type": "stream",
     "text": [
      "17:10:35 - cmdstanpy - INFO - CmdStan done processing.\n"
     ]
    },
    {
     "name": "stdout",
     "output_type": "stream",
     "text": [
      "\n",
      "Iteration for participant 8 Finished\n",
      "Iteration for participant 9 Started\n"
     ]
    },
    {
     "name": "stderr",
     "output_type": "stream",
     "text": [
      "17:10:58 - cmdstanpy - INFO - CmdStan start processing\n"
     ]
    },
    {
     "data": {
      "application/vnd.jupyter.widget-view+json": {
       "model_id": "a6e2b4dc1c6f406a84d0764b1d36e285",
       "version_major": 2,
       "version_minor": 0
      },
      "text/plain": [
       "chain 1 |          | 00:00 Status"
      ]
     },
     "metadata": {},
     "output_type": "display_data"
    },
    {
     "data": {
      "application/vnd.jupyter.widget-view+json": {
       "model_id": "a905e5f6e06642aea67e427d2df1be7b",
       "version_major": 2,
       "version_minor": 0
      },
      "text/plain": [
       "chain 2 |          | 00:00 Status"
      ]
     },
     "metadata": {},
     "output_type": "display_data"
    },
    {
     "name": "stdout",
     "output_type": "stream",
     "text": [
      "                                                                                                                                                                                                                                                "
     ]
    },
    {
     "name": "stderr",
     "output_type": "stream",
     "text": [
      "17:11:04 - cmdstanpy - INFO - CmdStan done processing.\n"
     ]
    },
    {
     "name": "stdout",
     "output_type": "stream",
     "text": [
      "\n",
      "Iteration for participant 9 Finished\n",
      "Iteration for participant 10 Started\n"
     ]
    },
    {
     "name": "stderr",
     "output_type": "stream",
     "text": [
      "17:11:26 - cmdstanpy - INFO - CmdStan start processing\n"
     ]
    },
    {
     "data": {
      "application/vnd.jupyter.widget-view+json": {
       "model_id": "e466af4108e24ad6b6cea03e783c6b1b",
       "version_major": 2,
       "version_minor": 0
      },
      "text/plain": [
       "chain 1 |          | 00:00 Status"
      ]
     },
     "metadata": {},
     "output_type": "display_data"
    },
    {
     "data": {
      "application/vnd.jupyter.widget-view+json": {
       "model_id": "7a0da28233c84239896c084034c17fe5",
       "version_major": 2,
       "version_minor": 0
      },
      "text/plain": [
       "chain 2 |          | 00:00 Status"
      ]
     },
     "metadata": {},
     "output_type": "display_data"
    },
    {
     "name": "stdout",
     "output_type": "stream",
     "text": [
      "                                                                                                                                                                                                                                                "
     ]
    },
    {
     "name": "stderr",
     "output_type": "stream",
     "text": [
      "17:11:32 - cmdstanpy - INFO - CmdStan done processing.\n"
     ]
    },
    {
     "name": "stdout",
     "output_type": "stream",
     "text": [
      "\n",
      "Iteration for participant 10 Finished\n"
     ]
    }
   ],
   "source": [
    "iteration_count = 0\n",
    "params_range = pd.read_csv(\"Data/params_range.csv\", index_col=0)\n",
    "while iteration_count < number_of_participants:\n",
    "    print(f\"Iteration for participant {iteration_count+1} Started\")\n",
    "    parameters_set = params_range.copy()\n",
    "    parameters_set[\"generated\"] = np.random.normal(loc=parameters_set.iloc[:, 0],\n",
    "                                                   scale=parameters_set.iloc[:, 1])\n",
    "\n",
    "    behavioral_df = simulate_ANNRDM_individual(n_trials=n_trials, trials_info_df=word_nword_df,\n",
    "                                         parameters_set=parameters_set)\n",
    "    stan_parameters = get_stan_parameters(behavioral_df)\n",
    "    fit = rdm_model.sample(data=stan_parameters,\n",
    "                       iter_sampling=n_sample, \n",
    "                       iter_warmup=n_warmup,\n",
    "                       chains=n_chains,\n",
    "                       show_console=False)\n",
    "    \n",
    "    df = fit.summary()\n",
    "    badRhat = False\n",
    "    for f in df[\"R_hat\"]:\n",
    "        if f >= 1.01 or f <= 0.9:\n",
    "            badRhat = True\n",
    "    \n",
    "    if badRhat:\n",
    "        print(\"Split R-hat values are not satisfactory for all parameters. repeating iteration\") \n",
    "    else:\n",
    "        save_results_to_csv(fit, parameters_set)\n",
    "        print(f\"Iteration for participant {iteration_count+1} Finished\") \n",
    "        iteration_count += 1"
   ]
  },
  {
   "cell_type": "markdown",
   "id": "1fe80f4c-b4af-457b-898b-03869eff5f7b",
   "metadata": {},
   "source": [
    "## Particpants parameter recovery"
   ]
  },
  {
   "cell_type": "code",
   "execution_count": 62,
   "id": "1b24df1d-46a4-4565-9ad9-7891cff0b93d",
   "metadata": {
    "tags": []
   },
   "outputs": [],
   "source": [
    "recovery_data = pd.read_csv(\"RecoveryResults/threshold_nonword_recovery_results.csv\", header=0)"
   ]
  },
  {
   "cell_type": "code",
   "execution_count": 63,
   "id": "ab7e875f-2626-49f6-98aa-012702737f23",
   "metadata": {
    "tags": []
   },
   "outputs": [
    {
     "data": {
      "text/plain": [
       "[1.0629728, 2.62804936, 1.0629728, 2.62804936]"
      ]
     },
     "execution_count": 63,
     "metadata": {},
     "output_type": "execute_result"
    },
    {
     "data": {
      "image/png": "[encoded data removed]",
      "text/plain": [
       "<Figure size 1000x500 with 1 Axes>"
      ]
     },
     "metadata": {},
     "output_type": "display_data"
    }
   ],
   "source": [
    "fig, ax = plt.subplots(1, 1, figsize=(10,5))\n",
    "plt.subplots_adjust(wspace=0.2, hspace=0.5)\n",
    "posterior_mean = recovery_data[\"mean_threshold_nonword\"]\n",
    "posterior_median = recovery_data[\"median_threshold_nonword\"]\n",
    "true = recovery_data[\"real_threshold_nonword\"]\n",
    "ax.scatter(true, posterior_mean, color=\"tomato\",\n",
    "                                zorder=10)\n",
    "ax.scatter(true, posterior_median, color=\"yellow\",\n",
    "                                zorder=9)\n",
    "ax.vlines(x=true.to_numpy(), linewidth=2,\n",
    "          ymin=recovery_data[\"HDI_threshold_nonword_bottom\"].to_numpy(),\n",
    "          ymax=recovery_data[\"HDI_threshold_nonword_top\"].to_numpy())\n",
    "ax.set_title(\"threshold_nonword\")\n",
    "\n",
    "min_true_point = true.min()\n",
    "max_true_point = true.max()\n",
    "recoverline = ax.axline((min_true_point, min_true_point),\n",
    "                        (max_true_point, max_true_point))\n",
    "plt.setp(recoverline, linewidth=3, color=\"grey\")\n",
    "\n",
    "r2 = r2_score(true, posterior_mean)\n",
    "ax.text(0.08, 0.92, f\"R2: {r2:.2f}\", horizontalalignment='center',\n",
    "        verticalalignment='center', transform=ax.transAxes)\n",
    "    \n",
    "custom_xlim = (min(min_true_point, posterior_mean.min())-0.5,\n",
    "               max(max_true_point, posterior_mean.max())+0.5)\n",
    "custom_ylim = (min(min_true_point, posterior_mean.min())-0.5,\n",
    "               max(max_true_point, posterior_mean.max())+0.5)\n",
    "\n",
    "# Setting the values for all axes.\n",
    "plt.setp(ax, xlim=custom_xlim, ylim=custom_ylim)\n",
    "plt.savefig(\"Plots/threshold_nonword_recovery.pdf\")"
   ]
  },
  {
   "cell_type": "markdown",
   "id": "16d38222-cd6a-444d-9813-78c1efbb9ab5",
   "metadata": {
    "tags": []
   },
   "source": [
    "# ndt"
   ]
  },
  {
   "cell_type": "code",
   "execution_count": 23,
   "id": "afdb89b1-0b60-4fde-999b-191cad0c395c",
   "metadata": {
    "tags": []
   },
   "outputs": [],
   "source": [
    "stan_file_path = root +  \"models/stan/ANN-RDM/individual/ndt_recovery.stan\" "
   ]
  },
  {
   "cell_type": "code",
   "execution_count": 42,
   "id": "be8e0598-87cc-445b-8672-aad0cdb780b9",
   "metadata": {},
   "outputs": [],
   "source": [
    "def save_results_to_csv(fit, parameters_set):\n",
    "    columns = {}\n",
    "    \n",
    "    recoverd_df = pd.DataFrame([], columns=columns.keys())\n",
    "    stan_variables = fit.stan_variables()\n",
    "\n",
    "    columns[\"mean_ndt\"] = stan_variables[\"ndt\"].mean()\n",
    "    columns[\"median_ndt\"] = np.median(stan_variables[\"ndt\"])\n",
    "    columns[\"real_ndt\"] = parameters_set.loc[\"ndt\", \"generated\"]\n",
    "    columns[\"HDI_ndt_bottom\"], columns[\"HDI_ndt_top\"] = hdi(stan_variables[\"ndt\"])\n",
    "\n",
    "    \n",
    "    recoverd_df = pd.concat([recoverd_df, pd.DataFrame(columns, index=[0])])\n",
    "\n",
    "    output_path=\"RecoveryResults/ndt_recovery_results.csv\"\n",
    "    recoverd_df.to_csv(output_path,\n",
    "                       mode=\"a\",\n",
    "                       header=not os.path.exists(output_path),\n",
    "                       index=False)"
   ]
  },
  {
   "cell_type": "markdown",
   "id": "2c5f3b30-4ed8-4b56-bdcf-23536b2a8326",
   "metadata": {
    "id": "123c4809-7b46-4f8d-b578-0d5e9fb5fbe7"
   },
   "source": [
    "## Simulation and Estimation process"
   ]
  },
  {
   "cell_type": "code",
   "execution_count": 43,
   "id": "88ac6874-a0df-46ef-9c88-67caf6269edc",
   "metadata": {
    "colab": {
     "base_uri": "https://localhost:8080/"
    },
    "executionInfo": {
     "elapsed": 93380,
     "status": "ok",
     "timestamp": 1651313346844,
     "user": {
      "displayName": "Arash Dadras",
      "userId": "05722346836148265544"
     },
     "user_tz": -270
    },
    "id": "c1b3627d-0ea2-49b6-86f0-7b098a5a16d6",
    "outputId": "4bc8643c-82c0-4fc9-99a0-7f232fa1eea4",
    "scrolled": true,
    "tags": []
   },
   "outputs": [],
   "source": [
    "rdm_model = cmdstanpy.CmdStanModel(model_name=\"ANN-RDM_full_FC\",\n",
    "                                   stan_file=stan_file_path)"
   ]
  },
  {
   "cell_type": "code",
   "execution_count": 44,
   "id": "b4e5edd6-91d7-4807-9a64-2e12f6074644",
   "metadata": {
    "scrolled": true,
    "tags": []
   },
   "outputs": [
    {
     "name": "stdout",
     "output_type": "stream",
     "text": [
      "Iteration for participant 1 Started\n"
     ]
    },
    {
     "name": "stderr",
     "output_type": "stream",
     "text": [
      "17:47:12 - cmdstanpy - INFO - CmdStan start processing\n"
     ]
    },
    {
     "data": {
      "application/vnd.jupyter.widget-view+json": {
       "model_id": "e3f9834ba6af4ff9a611d7754c454c17",
       "version_major": 2,
       "version_minor": 0
      },
      "text/plain": [
       "chain 1 |          | 00:00 Status"
      ]
     },
     "metadata": {},
     "output_type": "display_data"
    },
    {
     "data": {
      "application/vnd.jupyter.widget-view+json": {
       "model_id": "893190f3fc5243039f1b6997dfe6ca64",
       "version_major": 2,
       "version_minor": 0
      },
      "text/plain": [
       "chain 2 |          | 00:00 Status"
      ]
     },
     "metadata": {},
     "output_type": "display_data"
    },
    {
     "name": "stdout",
     "output_type": "stream",
     "text": [
      "                                                                                                                                                                                                                                                "
     ]
    },
    {
     "name": "stderr",
     "output_type": "stream",
     "text": [
      "17:47:16 - cmdstanpy - INFO - CmdStan done processing.\n"
     ]
    },
    {
     "name": "stdout",
     "output_type": "stream",
     "text": [
      "\n",
      "Iteration for participant 1 Finished\n",
      "Iteration for participant 2 Started\n"
     ]
    },
    {
     "name": "stderr",
     "output_type": "stream",
     "text": [
      "17:47:37 - cmdstanpy - INFO - CmdStan start processing\n"
     ]
    },
    {
     "data": {
      "application/vnd.jupyter.widget-view+json": {
       "model_id": "8a24f51c6ae848c7878640a0f3145eb4",
       "version_major": 2,
       "version_minor": 0
      },
      "text/plain": [
       "chain 1 |          | 00:00 Status"
      ]
     },
     "metadata": {},
     "output_type": "display_data"
    },
    {
     "data": {
      "application/vnd.jupyter.widget-view+json": {
       "model_id": "be4b4ee312934a7fbf093b5557a56bc7",
       "version_major": 2,
       "version_minor": 0
      },
      "text/plain": [
       "chain 2 |          | 00:00 Status"
      ]
     },
     "metadata": {},
     "output_type": "display_data"
    },
    {
     "name": "stdout",
     "output_type": "stream",
     "text": [
      "                                                                                                                                                                                                                                                "
     ]
    },
    {
     "name": "stderr",
     "output_type": "stream",
     "text": [
      "17:47:42 - cmdstanpy - INFO - CmdStan done processing.\n"
     ]
    },
    {
     "name": "stdout",
     "output_type": "stream",
     "text": [
      "\n",
      "Iteration for participant 2 Finished\n",
      "Iteration for participant 3 Started\n"
     ]
    },
    {
     "name": "stderr",
     "output_type": "stream",
     "text": [
      "17:48:03 - cmdstanpy - INFO - CmdStan start processing\n"
     ]
    },
    {
     "data": {
      "application/vnd.jupyter.widget-view+json": {
       "model_id": "2816349c7789483ba828f9b173e37212",
       "version_major": 2,
       "version_minor": 0
      },
      "text/plain": [
       "chain 1 |          | 00:00 Status"
      ]
     },
     "metadata": {},
     "output_type": "display_data"
    },
    {
     "data": {
      "application/vnd.jupyter.widget-view+json": {
       "model_id": "b68c9060ad8946808fe0c1e4a45e23fe",
       "version_major": 2,
       "version_minor": 0
      },
      "text/plain": [
       "chain 2 |          | 00:00 Status"
      ]
     },
     "metadata": {},
     "output_type": "display_data"
    },
    {
     "name": "stdout",
     "output_type": "stream",
     "text": [
      "                                                                                                                                                                                                                                                "
     ]
    },
    {
     "name": "stderr",
     "output_type": "stream",
     "text": [
      "17:48:08 - cmdstanpy - INFO - CmdStan done processing.\n"
     ]
    },
    {
     "name": "stdout",
     "output_type": "stream",
     "text": [
      "\n",
      "Iteration for participant 3 Finished\n",
      "Iteration for participant 4 Started\n"
     ]
    },
    {
     "name": "stderr",
     "output_type": "stream",
     "text": [
      "17:48:30 - cmdstanpy - INFO - CmdStan start processing\n"
     ]
    },
    {
     "data": {
      "application/vnd.jupyter.widget-view+json": {
       "model_id": "53aa5521af334d87bb3271457ec709de",
       "version_major": 2,
       "version_minor": 0
      },
      "text/plain": [
       "chain 1 |          | 00:00 Status"
      ]
     },
     "metadata": {},
     "output_type": "display_data"
    },
    {
     "data": {
      "application/vnd.jupyter.widget-view+json": {
       "model_id": "e557d4d84f544a0d9d70c0c0788455fd",
       "version_major": 2,
       "version_minor": 0
      },
      "text/plain": [
       "chain 2 |          | 00:00 Status"
      ]
     },
     "metadata": {},
     "output_type": "display_data"
    },
    {
     "name": "stdout",
     "output_type": "stream",
     "text": [
      "                                                                                                                                                                                                                                                "
     ]
    },
    {
     "name": "stderr",
     "output_type": "stream",
     "text": [
      "17:48:36 - cmdstanpy - INFO - CmdStan done processing.\n"
     ]
    },
    {
     "name": "stdout",
     "output_type": "stream",
     "text": [
      "\n",
      "Iteration for participant 4 Finished\n",
      "Iteration for participant 5 Started\n"
     ]
    },
    {
     "name": "stderr",
     "output_type": "stream",
     "text": [
      "17:48:57 - cmdstanpy - INFO - CmdStan start processing\n"
     ]
    },
    {
     "data": {
      "application/vnd.jupyter.widget-view+json": {
       "model_id": "e9f15d27052546459921655a27e84404",
       "version_major": 2,
       "version_minor": 0
      },
      "text/plain": [
       "chain 1 |          | 00:00 Status"
      ]
     },
     "metadata": {},
     "output_type": "display_data"
    },
    {
     "data": {
      "application/vnd.jupyter.widget-view+json": {
       "model_id": "00cddaed22594894b528ee46a1a40b3a",
       "version_major": 2,
       "version_minor": 0
      },
      "text/plain": [
       "chain 2 |          | 00:00 Status"
      ]
     },
     "metadata": {},
     "output_type": "display_data"
    },
    {
     "name": "stdout",
     "output_type": "stream",
     "text": [
      "                                                                                                                                                                                                                                                "
     ]
    },
    {
     "name": "stderr",
     "output_type": "stream",
     "text": [
      "17:49:04 - cmdstanpy - INFO - CmdStan done processing.\n"
     ]
    },
    {
     "name": "stdout",
     "output_type": "stream",
     "text": [
      "\n",
      "Iteration for participant 5 Finished\n",
      "Iteration for participant 6 Started\n"
     ]
    },
    {
     "name": "stderr",
     "output_type": "stream",
     "text": [
      "17:49:25 - cmdstanpy - INFO - CmdStan start processing\n"
     ]
    },
    {
     "data": {
      "application/vnd.jupyter.widget-view+json": {
       "model_id": "2b5e658ad9864efa9c9a1ae610fb6e71",
       "version_major": 2,
       "version_minor": 0
      },
      "text/plain": [
       "chain 1 |          | 00:00 Status"
      ]
     },
     "metadata": {},
     "output_type": "display_data"
    },
    {
     "data": {
      "application/vnd.jupyter.widget-view+json": {
       "model_id": "64dcd09ffd634a4786c97a7b886b8cd7",
       "version_major": 2,
       "version_minor": 0
      },
      "text/plain": [
       "chain 2 |          | 00:00 Status"
      ]
     },
     "metadata": {},
     "output_type": "display_data"
    },
    {
     "name": "stdout",
     "output_type": "stream",
     "text": [
      "                                                                                                                                                                                                                                                "
     ]
    },
    {
     "name": "stderr",
     "output_type": "stream",
     "text": [
      "17:49:31 - cmdstanpy - INFO - CmdStan done processing.\n"
     ]
    },
    {
     "name": "stdout",
     "output_type": "stream",
     "text": [
      "\n",
      "Iteration for participant 6 Finished\n",
      "Iteration for participant 7 Started\n"
     ]
    },
    {
     "name": "stderr",
     "output_type": "stream",
     "text": [
      "17:49:52 - cmdstanpy - INFO - CmdStan start processing\n"
     ]
    },
    {
     "data": {
      "application/vnd.jupyter.widget-view+json": {
       "model_id": "5ebd216c2a4d458386158be3f16fd5fe",
       "version_major": 2,
       "version_minor": 0
      },
      "text/plain": [
       "chain 1 |          | 00:00 Status"
      ]
     },
     "metadata": {},
     "output_type": "display_data"
    },
    {
     "data": {
      "application/vnd.jupyter.widget-view+json": {
       "model_id": "b7c681e90b484eefa58952dd18d46062",
       "version_major": 2,
       "version_minor": 0
      },
      "text/plain": [
       "chain 2 |          | 00:00 Status"
      ]
     },
     "metadata": {},
     "output_type": "display_data"
    },
    {
     "name": "stdout",
     "output_type": "stream",
     "text": [
      "                                                                                                                                                                                                                                                "
     ]
    },
    {
     "name": "stderr",
     "output_type": "stream",
     "text": [
      "17:49:58 - cmdstanpy - INFO - CmdStan done processing.\n"
     ]
    },
    {
     "name": "stdout",
     "output_type": "stream",
     "text": [
      "\n",
      "Iteration for participant 7 Finished\n",
      "Iteration for participant 8 Started\n"
     ]
    },
    {
     "name": "stderr",
     "output_type": "stream",
     "text": [
      "17:50:22 - cmdstanpy - INFO - CmdStan start processing\n"
     ]
    },
    {
     "data": {
      "application/vnd.jupyter.widget-view+json": {
       "model_id": "5f8cd4113dd347ae8ec683a69cb03c8c",
       "version_major": 2,
       "version_minor": 0
      },
      "text/plain": [
       "chain 1 |          | 00:00 Status"
      ]
     },
     "metadata": {},
     "output_type": "display_data"
    },
    {
     "data": {
      "application/vnd.jupyter.widget-view+json": {
       "model_id": "43ecd17e19d049b182b5c2df53422e4d",
       "version_major": 2,
       "version_minor": 0
      },
      "text/plain": [
       "chain 2 |          | 00:00 Status"
      ]
     },
     "metadata": {},
     "output_type": "display_data"
    },
    {
     "name": "stdout",
     "output_type": "stream",
     "text": [
      "                                                                                                                                                                                                                                                "
     ]
    },
    {
     "name": "stderr",
     "output_type": "stream",
     "text": [
      "17:50:28 - cmdstanpy - INFO - CmdStan done processing.\n"
     ]
    },
    {
     "name": "stdout",
     "output_type": "stream",
     "text": [
      "\n",
      "Iteration for participant 8 Finished\n",
      "Iteration for participant 9 Started\n"
     ]
    },
    {
     "name": "stderr",
     "output_type": "stream",
     "text": [
      "17:50:49 - cmdstanpy - INFO - CmdStan start processing\n"
     ]
    },
    {
     "data": {
      "application/vnd.jupyter.widget-view+json": {
       "model_id": "c3ebc0d7d3374707bfff7d33cbc36f3e",
       "version_major": 2,
       "version_minor": 0
      },
      "text/plain": [
       "chain 1 |          | 00:00 Status"
      ]
     },
     "metadata": {},
     "output_type": "display_data"
    },
    {
     "data": {
      "application/vnd.jupyter.widget-view+json": {
       "model_id": "b406408a00484a5cab1b139c59561cdb",
       "version_major": 2,
       "version_minor": 0
      },
      "text/plain": [
       "chain 2 |          | 00:00 Status"
      ]
     },
     "metadata": {},
     "output_type": "display_data"
    },
    {
     "name": "stdout",
     "output_type": "stream",
     "text": [
      "                                                                                                                                                                                                                                                "
     ]
    },
    {
     "name": "stderr",
     "output_type": "stream",
     "text": [
      "17:50:55 - cmdstanpy - INFO - CmdStan done processing.\n"
     ]
    },
    {
     "name": "stdout",
     "output_type": "stream",
     "text": [
      "\n",
      "Iteration for participant 9 Finished\n",
      "Iteration for participant 10 Started\n"
     ]
    },
    {
     "name": "stderr",
     "output_type": "stream",
     "text": [
      "17:51:18 - cmdstanpy - INFO - CmdStan start processing\n"
     ]
    },
    {
     "data": {
      "application/vnd.jupyter.widget-view+json": {
       "model_id": "7da33984e4dc48bb82e356b73f78690c",
       "version_major": 2,
       "version_minor": 0
      },
      "text/plain": [
       "chain 1 |          | 00:00 Status"
      ]
     },
     "metadata": {},
     "output_type": "display_data"
    },
    {
     "data": {
      "application/vnd.jupyter.widget-view+json": {
       "model_id": "005a0ef4e11e410da5603a361f973db0",
       "version_major": 2,
       "version_minor": 0
      },
      "text/plain": [
       "chain 2 |          | 00:00 Status"
      ]
     },
     "metadata": {},
     "output_type": "display_data"
    },
    {
     "name": "stdout",
     "output_type": "stream",
     "text": [
      "                                                                                                                                                                                                                                                "
     ]
    },
    {
     "name": "stderr",
     "output_type": "stream",
     "text": [
      "17:51:24 - cmdstanpy - INFO - CmdStan done processing.\n"
     ]
    },
    {
     "name": "stdout",
     "output_type": "stream",
     "text": [
      "\n",
      "Iteration for participant 10 Finished\n"
     ]
    }
   ],
   "source": [
    "iteration_count = 0\n",
    "params_range = pd.read_csv(\"Data/params_range.csv\", index_col=0)\n",
    "while iteration_count < number_of_participants:\n",
    "    print(f\"Iteration for participant {iteration_count+1} Started\")\n",
    "    parameters_set = params_range.copy()\n",
    "    parameters_set[\"generated\"] = np.random.normal(loc=parameters_set.iloc[:, 0],\n",
    "                                                   scale=parameters_set.iloc[:, 1])\n",
    "\n",
    "    behavioral_df = simulate_ANNRDM_individual(n_trials=n_trials, trials_info_df=word_nword_df,\n",
    "                                         parameters_set=parameters_set)\n",
    "    stan_parameters = get_stan_parameters(behavioral_df)\n",
    "    fit = rdm_model.sample(data=stan_parameters,\n",
    "                       iter_sampling=n_sample, \n",
    "                       iter_warmup=n_warmup,\n",
    "                       chains=n_chains,\n",
    "                       show_console=False)\n",
    "    parameters_set.loc[\"ndt\"] = behavioral_df.loc[0, \"ndt\"]\n",
    "    \n",
    "    df = fit.summary()\n",
    "    badRhat = False\n",
    "    for f in df[\"R_hat\"]:\n",
    "        if f >= 1.01 or f <= 0.9:\n",
    "            badRhat = True\n",
    "    \n",
    "    if badRhat:\n",
    "        print(\"Split R-hat values are not satisfactory for all parameters. repeating iteration\") \n",
    "    else:\n",
    "        save_results_to_csv(fit, parameters_set)\n",
    "        print(f\"Iteration for participant {iteration_count+1} Finished\") \n",
    "        iteration_count += 1"
   ]
  },
  {
   "cell_type": "markdown",
   "id": "00145104-8315-48a7-adfd-9cbe6b62ecd6",
   "metadata": {},
   "source": [
    "## Particpants parameter recovery"
   ]
  },
  {
   "cell_type": "code",
   "execution_count": 45,
   "id": "1aa17843-071d-46e6-baad-5d03fd87728e",
   "metadata": {
    "tags": []
   },
   "outputs": [],
   "source": [
    "recovery_data = pd.read_csv(\"RecoveryResults/ndt_recovery_results.csv\", header=0)"
   ]
  },
  {
   "cell_type": "code",
   "execution_count": 46,
   "id": "ce97d9bf-251b-4402-aa32-db8c4ff7a17f",
   "metadata": {
    "tags": []
   },
   "outputs": [
    {
     "data": {
      "text/plain": [
       "[-0.3641404975, 0.9565454537572848, -0.3641404975, 0.9565454537572848]"
      ]
     },
     "execution_count": 46,
     "metadata": {},
     "output_type": "execute_result"
    },
    {
     "data": {
      "image/png": "[encoded data removed]",
      "text/plain": [
       "<Figure size 1000x500 with 1 Axes>"
      ]
     },
     "metadata": {},
     "output_type": "display_data"
    }
   ],
   "source": [
    "fig, ax = plt.subplots(1, 1, figsize=(10,5))\n",
    "plt.subplots_adjust(wspace=0.2, hspace=0.5)\n",
    "posterior_mean = recovery_data[\"mean_ndt\"]\n",
    "posterior_median = recovery_data[\"median_ndt\"]\n",
    "true = recovery_data[\"real_ndt\"]\n",
    "ax.scatter(true, posterior_mean, color=\"tomato\",\n",
    "                                zorder=10)\n",
    "ax.scatter(true, posterior_median, color=\"yellow\",\n",
    "                                zorder=9)\n",
    "ax.vlines(x=true.to_numpy(), linewidth=2,\n",
    "          ymin=recovery_data[\"HDI_ndt_bottom\"].to_numpy(),\n",
    "          ymax=recovery_data[\"HDI_ndt_top\"].to_numpy())\n",
    "ax.set_title(\"ndt\")\n",
    "\n",
    "min_true_point = true.min()\n",
    "max_true_point = true.max()\n",
    "recoverline = ax.axline((min_true_point, min_true_point),\n",
    "                        (max_true_point, max_true_point))\n",
    "plt.setp(recoverline, linewidth=3, color=\"grey\")\n",
    "\n",
    "r2 = r2_score(true, posterior_mean)\n",
    "ax.text(0.08, 0.92, f\"R2: {r2:.2f}\", horizontalalignment='center',\n",
    "        verticalalignment='center', transform=ax.transAxes)\n",
    "    \n",
    "custom_xlim = (min(min_true_point, posterior_mean.min())-0.5,\n",
    "               max(max_true_point, posterior_mean.max())+0.5)\n",
    "custom_ylim = (min(min_true_point, posterior_mean.min())-0.5,\n",
    "               max(max_true_point, posterior_mean.max())+0.5)\n",
    "\n",
    "# Setting the values for all axes.\n",
    "plt.setp(ax, xlim=custom_xlim, ylim=custom_ylim)\n",
    "plt.savefig(\"Plots/ndt_recovery.pdf\")"
   ]
  }
 ],
 "metadata": {
  "kernelspec": {
   "display_name": "stan",
   "language": "python",
   "name": "stan"
  },
  "language_info": {
   "codemirror_mode": {
    "name": "ipython",
    "version": 3
   },
   "file_extension": ".py",
   "mimetype": "text/x-python",
   "name": "python",
   "nbconvert_exporter": "python",
   "pygments_lexer": "ipython3",
   "version": "3.11.0"
  }
 },
 "nbformat": 4,
 "nbformat_minor": 5
}
