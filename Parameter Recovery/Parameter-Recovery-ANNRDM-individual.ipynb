{
 "cells": [
  {
   "cell_type": "code",
   "execution_count": 1,
   "id": "b8c082ae-54dc-4a69-99f3-5a6f0155c1ad",
   "metadata": {
    "tags": []
   },
   "outputs": [],
   "source": [
    "import sys\n",
    "import os\n",
    "sys.path.append(os.path.dirname(os.path.abspath(os.getcwd())))\n",
    "\n",
    "import numpy as np\n",
    "import pandas as pd\n",
    "import cmdstanpy \n",
    "import pickle\n",
    "import matplotlib.pyplot as plt\n",
    "import seaborn as sns\n",
    "import arviz as az\n",
    "import os\n",
    "import json\n",
    "from utils.random import simulate_ANNRDM_individual\n",
    "from utils.utils import get_parameters_range, hdi\n",
    "from scipy.stats import gaussian_kde"
   ]
  },
  {
   "cell_type": "code",
   "execution_count": 2,
   "id": "24adb6c4-ed00-40b3-a188-67df8a0c4614",
   "metadata": {
    "tags": []
   },
   "outputs": [],
   "source": [
    "sns.set_theme(style=\"whitegrid\")\n",
    "plt.rcParams[\"font.family\"] = \"serif\"\n",
    "plt.rcParams[\"font.serif\"] = [\"Times New Roman\"] + plt.rcParams[\"font.serif\"]\n",
    "plt.rcParams[\"pdf.fonttype\"] = 42\n",
    "plt.rcParams[\"pdf.use14corefonts\"] = True"
   ]
  },
  {
   "cell_type": "code",
   "execution_count": 3,
   "id": "ec84a9b1-6d9c-4896-a2ec-71c2ada7c986",
   "metadata": {
    "tags": []
   },
   "outputs": [],
   "source": [
    "root = \"../\"\n",
    "plots_root = \"Results/individual/Plots/\"\n",
    "datasets_root = root + \"Datasets/\"\n",
    "behavioural_data_root = datasets_root +  \"behavioral_data/selected_data/\" \n",
    "\n",
    "dataset_path = datasets_root + \"../Datasets/AI Models Results/FastText_FC.csv\"\n",
    "stan_file_path = root +  \"models/stan/ANN-RDM/individual/sigmoid_am_ndm.stan\" "
   ]
  },
  {
   "cell_type": "code",
   "execution_count": 4,
   "id": "0d434dd8-9732-4cf0-a688-d8e2f774fc98",
   "metadata": {},
   "outputs": [],
   "source": [
    "number_of_participants = 10\n",
    "number_of_parameters = 8\n",
    "n_trials = 100"
   ]
  },
  {
   "cell_type": "markdown",
   "id": "e65b656a-21e8-4d50-a466-55447b53bfe0",
   "metadata": {},
   "source": [
    "Getting models paramater range from fitted model"
   ]
  },
  {
   "cell_type": "code",
   "execution_count": 5,
   "id": "c731a85a-e75a-4bc9-8a5d-3c39b33d86a3",
   "metadata": {
    "tags": []
   },
   "outputs": [
    {
     "name": "stderr",
     "output_type": "stream",
     "text": [
      "17:01:24 - cmdstanpy - WARNING - Some chains may have failed to converge.\n",
      "\tChain 1 had 7 divergent transitions (1.4%)\n",
      "\tChain 2 had 5 divergent transitions (1.0%)\n",
      "\tUse function \"diagnose()\" to see further information.\n"
     ]
    }
   ],
   "source": [
    "stan_output_dir = \"../Estimations/Results/hierarchical/stan_results/ANN-RDM_full_FT\"\n",
    "# DONT CHANGE THE ORDER\n",
    "needed_parameters = [\"alpha_sbj\", \"b_sbj\", \"k_1_sbj\", \"k_2_sbj\",\n",
    "                    \"threshold_sbj_word\", \"threshold_sbj_nonword\",\n",
    "                    \"g_sbj\", \"m_sbj\"]\n",
    "params_range = get_parameters_range(stan_output_dir, needed_parameters).to_numpy()"
   ]
  },
  {
   "cell_type": "code",
   "execution_count": 17,
   "id": "d0a926b7-3051-4a18-951f-d67b7c01fe6b",
   "metadata": {
    "tags": []
   },
   "outputs": [
    {
     "data": {
      "text/plain": [
       "array([[1.14664e+01, 1.23666e+00],\n",
       "       [7.29921e-01, 6.77623e-02],\n",
       "       [3.59190e+00, 5.68956e-01],\n",
       "       [4.43347e+00, 1.80498e+00],\n",
       "       [1.92695e+00, 1.00885e+00],\n",
       "       [2.12563e+00, 1.44024e+00],\n",
       "       [2.75607e-01, 1.57077e-04],\n",
       "       [1.82375e+00, 5.45480e-03]])"
      ]
     },
     "execution_count": 17,
     "metadata": {},
     "output_type": "execute_result"
    }
   ],
   "source": [
    "params_range"
   ]
  },
  {
   "cell_type": "code",
   "execution_count": null,
   "id": "6f562c56-ba8c-4741-b5d3-cd0caf3ef832",
   "metadata": {},
   "outputs": [],
   "source": []
  },
  {
   "cell_type": "code",
   "execution_count": 6,
   "id": "c5a7128a-7789-4eff-b14d-e9d6ee8eddd2",
   "metadata": {
    "tags": []
   },
   "outputs": [],
   "source": [
    "# set sampling parameters\n",
    "n_iter = 2000\n",
    "n_warmup = int(n_iter/2)\n",
    "n_sample = int(n_iter/2)\n",
    "n_chains = 2\n",
    "\n",
    "threshold_priors = [2, 1]          # For all models with RDM\n",
    "ndt_priors = [0, 1];               # For models wtihout non-decision time modulation\n",
    "g_priors = [-2, 1]                 # For models wtih non-decision time modulation\n",
    "m_priors = [0, 0.5]                # For models wtih non-decision time modulation\n",
    "drift_priors = [1, 2]              # For models without drift mapping functions (non ANN-EAM models)\n",
    "alpha_priors = [0, 1]              # For models with drift mapping functions\n",
    "b_priors = [0, 1]                  # For models with drift mapping functions with asymptote modulation and linear models\n",
    "k_priors = [2, 1]                  # For models with sigmoid drift mapping functions (ANN-EAM models)\n",
    "\n",
    "def get_stan_parameters(generated_df):\n",
    "    N = len(generated_df)                                                    # For all models\n",
    "    p = generated_df.loc[:, [\"word_prob\", \"non_word_prob\"]].to_numpy()       # predicted probabilites of words and non-words, for ANN-EAM models\n",
    "    frequency = generated_df[\"zipf\"].to_numpy().astype(int)                  # zipf values, for models with non-decision time or drift modulation\n",
    "    frequencyCondition = generated_df[\"category\"].replace([\"HF\", \"LF\", \"NW\"], [1, 2, 3]).to_numpy() # For models with conditional drift\n",
    "    response = generated_df[\"response\"].to_numpy().astype(int)               # for all models\n",
    "    rt = generated_df[\"rt\"].to_numpy()                                       # for all models\n",
    "    minRT = generated_df[\"minRT\"].to_numpy()                                 # for all models\n",
    "    RTbound = 0.1                                                             # for all models\n",
    "\n",
    "    # define input for the model\n",
    "    data_dict = {\"N\": N,\n",
    "                 \"response\": response,\n",
    "                 \"rt\": rt,\n",
    "                 \"minRT\": minRT,\n",
    "                 \"RTbound\": RTbound,\n",
    "                 \"frequency\": frequency,\n",
    "                 \"frequencyCondition\": frequencyCondition,\n",
    "                 \"threshold_priors\": threshold_priors,\n",
    "                 \"ndt_priors\": ndt_priors,\n",
    "                 \"g_priors\": g_priors,\n",
    "                 \"m_priors\": m_priors,\n",
    "                 \"drift_priors\": drift_priors,\n",
    "                 \"p\": p,\n",
    "                 \"alpha_priors\": alpha_priors,\n",
    "                 \"b_priors\": b_priors,\n",
    "                 \"k_priors\": k_priors,\n",
    "                 }\n",
    "    return data_dict"
   ]
  },
  {
   "cell_type": "code",
   "execution_count": 7,
   "id": "ec9b839e-3dcd-4343-97fa-3ca0288235be",
   "metadata": {},
   "outputs": [],
   "source": [
    "def save_results_to_csv(fit, behavioral_df):\n",
    "    columns = {\"mean_alpha\":-1, \"mean_b\":-1, \"mean_k_1\":-1, \n",
    "               \"mean_k_2\":-1,\"mean_g\":-1, \"mean_m\":-1,\n",
    "               \"mean_threshold_word\":-1, \"mean_threshold_nonword\":-1,\n",
    "               \"median_alpha\":-1, \"median_b\":-1, \"median_k_1\":-1, \n",
    "               \"median_k_2\":-1, \"median_g\":-1, \"median_m\":-1,\n",
    "               \"median_threshold_word\":-1, \"median_threshold_nonword\":-1}\n",
    "    \n",
    "    recoverd_df = pd.DataFrame([], columns=columns.keys())\n",
    "    stan_variables = fit.stan_variables()\n",
    "\n",
    "    columns[\"mean_k_1\"] = stan_variables[\"transf_k_1\"].mean()\n",
    "    columns[\"median_k_1\"] = np.median(stan_variables[\"transf_k_1\"])\n",
    "    columns[\"real_k_1\"] = behavioral_df.loc[0, \"k_1\"]\n",
    "    columns[\"HDI_k_1_bottom\"], columns[\"HDI_k_1_top\"] = hdi(stan_variables[\"transf_k_1\"])\n",
    "\n",
    "    columns[\"mean_k_2\"] = stan_variables[\"transf_k_2\"].mean()\n",
    "    columns[\"median_k_2\"] = np.median(stan_variables[\"transf_k_2\"])\n",
    "    columns[\"real_k_2\"] = behavioral_df.loc[0, \"k_2\"]\n",
    "    columns[\"HDI_k_2_bottom\"], columns[\"HDI_k_2_top\"] = hdi(stan_variables[\"transf_k_2\"])\n",
    "    \n",
    "    columns[\"mean_alpha\"] = stan_variables[\"transf_alpha\"].mean()\n",
    "    columns[\"median_alpha\"] = np.median(stan_variables[\"transf_alpha\"])\n",
    "    columns[\"real_alpha\"] = behavioral_df.loc[0, \"alpha\"]\n",
    "    columns[\"HDI_alpha_bottom\"], columns[\"HDI_alpha_top\"] = hdi(stan_variables[\"transf_alpha\"])\n",
    "\n",
    "    columns[\"mean_b\"] = stan_variables[\"transf_b\"].mean()\n",
    "    columns[\"median_b\"] = np.median(stan_variables[\"transf_b\"])\n",
    "    columns[\"real_b\"] = behavioral_df.loc[0, \"b\"]\n",
    "    columns[\"HDI_b_bottom\"], columns[\"HDI_b_top\"] = hdi(stan_variables[\"transf_b\"])\n",
    "    \n",
    "    columns[\"mean_g\"] = stan_variables[\"transf_g\"].mean()\n",
    "    columns[\"median_g\"] = np.median(stan_variables[\"transf_g\"])\n",
    "    columns[\"real_g\"] = behavioral_df.loc[0, \"g\"]\n",
    "    columns[\"HDI_g_bottom\"], columns[\"HDI_g_top\"] = hdi(stan_variables[\"transf_g\"])\n",
    "    \n",
    "    columns[\"mean_m\"] = stan_variables[\"transf_m\"].mean()\n",
    "    columns[\"median_m\"] = np.median(stan_variables[\"transf_m\"])\n",
    "    columns[\"real_m\"] = behavioral_df.loc[0, \"m\"]\n",
    "    columns[\"HDI_m_bottom\"], columns[\"HDI_m_top\"] = hdi(stan_variables[\"transf_m\"])\n",
    "\n",
    "    columns[\"mean_threshold_word\"] = stan_variables[\"transf_threshold_word\"].mean()\n",
    "    columns[\"median_threshold_word\"] = np.median(stan_variables[\"transf_threshold_word\"])\n",
    "    columns[\"real_threshold_word\"] = behavioral_df.loc[0, \"threshold_word\"]\n",
    "    columns[\"HDI_threshold_word_bottom\"], columns[\"HDI_threshold_word_top\"] = hdi(stan_variables[\"transf_threshold_word\"])\n",
    "    \n",
    "    columns[\"mean_threshold_nonword\"] = stan_variables[\"transf_threshold_nonword\"].mean()\n",
    "    columns[\"median_threshold_nonword\"] = np.median(stan_variables[\"transf_threshold_nonword\"])\n",
    "    columns[\"real_threshold_nonword\"] = behavioral_df.loc[0, \"threshold_nonword\"]\n",
    "    columns[\"HDI_threshold_nonword_bottom\"], columns[\"HDI_threshold_nonword_top\"] = hdi(stan_variables[\"transf_threshold_nonword\"])\n",
    "    \n",
    "    recoverd_df = pd.concat([recoverd_df, pd.DataFrame(columns, index=[0])])\n",
    "\n",
    "    output_path=\"recovery_individual_results.csv\"\n",
    "    recoverd_df.to_csv(output_path, mode=\"a\",\n",
    "                                  header=not os.path.exists(output_path), index=False)"
   ]
  },
  {
   "cell_type": "markdown",
   "id": "c650ddcb-6e9b-428a-8079-31f094d02306",
   "metadata": {
    "id": "123c4809-7b46-4f8d-b578-0d5e9fb5fbe7"
   },
   "source": [
    "## Prepare data"
   ]
  },
  {
   "cell_type": "code",
   "execution_count": 8,
   "id": "5984d029-7aee-467e-b4f7-5a4024728e8c",
   "metadata": {
    "tags": []
   },
   "outputs": [],
   "source": [
    "word_nword_df = pd.read_csv(dataset_path, header=None,\n",
    "                            names =[\"string\", \"freq\",  \"label\", \"zipf\",\n",
    "                                    \"category\", \"word_prob\", \"non_word_prob\"])"
   ]
  },
  {
   "cell_type": "code",
   "execution_count": 9,
   "id": "ad6abe12-2840-4fee-a05d-5cb76d8d597f",
   "metadata": {
    "colab": {
     "base_uri": "https://localhost:8080/"
    },
    "executionInfo": {
     "elapsed": 93380,
     "status": "ok",
     "timestamp": 1651313346844,
     "user": {
      "displayName": "Arash Dadras",
      "userId": "05722346836148265544"
     },
     "user_tz": -270
    },
    "id": "c1b3627d-0ea2-49b6-86f0-7b098a5a16d6",
    "outputId": "4bc8643c-82c0-4fc9-99a0-7f232fa1eea4",
    "scrolled": true,
    "tags": []
   },
   "outputs": [],
   "source": [
    "rdm_model = cmdstanpy.CmdStanModel(model_name=\"ANN-RDM_full_FC\",\n",
    "                                   stan_file=stan_file_path)"
   ]
  },
  {
   "cell_type": "code",
   "execution_count": 10,
   "id": "a83f9fd5-3abf-464e-9495-69edfdf073dc",
   "metadata": {
    "scrolled": true,
    "tags": []
   },
   "outputs": [
    {
     "name": "stdout",
     "output_type": "stream",
     "text": [
      "Iteration for participant 1 Started\n"
     ]
    },
    {
     "name": "stderr",
     "output_type": "stream",
     "text": [
      "17:01:28 - cmdstanpy - INFO - CmdStan start processing\n"
     ]
    },
    {
     "data": {
      "application/vnd.jupyter.widget-view+json": {
       "model_id": "299bea353be04bb6b5d52f9ae0965b65",
       "version_major": 2,
       "version_minor": 0
      },
      "text/plain": [
       "chain 1 |          | 00:00 Status"
      ]
     },
     "metadata": {},
     "output_type": "display_data"
    },
    {
     "data": {
      "application/vnd.jupyter.widget-view+json": {
       "model_id": "5ee34adb5bb042f298661beb593a1861",
       "version_major": 2,
       "version_minor": 0
      },
      "text/plain": [
       "chain 2 |          | 00:00 Status"
      ]
     },
     "metadata": {},
     "output_type": "display_data"
    },
    {
     "name": "stdout",
     "output_type": "stream",
     "text": [
      "                                                                                                                                                                                                                                                "
     ]
    },
    {
     "name": "stderr",
     "output_type": "stream",
     "text": [
      "17:01:38 - cmdstanpy - INFO - CmdStan done processing.\n",
      "17:01:38 - cmdstanpy - WARNING - Non-fatal error during sampling:\n",
      "Exception: sigmoid_am_ndm_model_namespace::log_prob: drift_word_t[3] is nan, but must be greater than or equal to 0.000000 (in 'E:/Workspace/Thesis/ANN-EAM/models/stan/ANN-RDM/individual/sigmoid_am_ndm.stan', line 93, column 4 to column 36)\n",
      "Consider re-running with show_console=True if the above output is unclear!\n"
     ]
    },
    {
     "name": "stdout",
     "output_type": "stream",
     "text": [
      "\n",
      "Iteration for participant 0 Finished\n",
      "Iteration for participant 2 Started\n"
     ]
    },
    {
     "name": "stderr",
     "output_type": "stream",
     "text": [
      "17:01:42 - cmdstanpy - INFO - CmdStan start processing\n"
     ]
    },
    {
     "data": {
      "application/vnd.jupyter.widget-view+json": {
       "model_id": "8d8168e1da7f4c2cb3c0759f96b1249a",
       "version_major": 2,
       "version_minor": 0
      },
      "text/plain": [
       "chain 1 |          | 00:00 Status"
      ]
     },
     "metadata": {},
     "output_type": "display_data"
    },
    {
     "data": {
      "application/vnd.jupyter.widget-view+json": {
       "model_id": "4d4ef7279f294f8e8c0a991ac86fef06",
       "version_major": 2,
       "version_minor": 0
      },
      "text/plain": [
       "chain 2 |          | 00:00 Status"
      ]
     },
     "metadata": {},
     "output_type": "display_data"
    },
    {
     "name": "stdout",
     "output_type": "stream",
     "text": [
      "                                                                                                                                                                                                                                                "
     ]
    },
    {
     "name": "stderr",
     "output_type": "stream",
     "text": [
      "17:01:49 - cmdstanpy - INFO - CmdStan done processing.\n"
     ]
    },
    {
     "name": "stdout",
     "output_type": "stream",
     "text": [
      "\n",
      "Iteration for participant 1 Finished\n",
      "Iteration for participant 3 Started\n"
     ]
    },
    {
     "name": "stderr",
     "output_type": "stream",
     "text": [
      "17:01:55 - cmdstanpy - INFO - CmdStan start processing\n"
     ]
    },
    {
     "data": {
      "application/vnd.jupyter.widget-view+json": {
       "model_id": "5e69d71d66e04eff88cefb2ac46e4c4b",
       "version_major": 2,
       "version_minor": 0
      },
      "text/plain": [
       "chain 1 |          | 00:00 Status"
      ]
     },
     "metadata": {},
     "output_type": "display_data"
    },
    {
     "data": {
      "application/vnd.jupyter.widget-view+json": {
       "model_id": "89d7f1a178f448cba4e286846cad2d5e",
       "version_major": 2,
       "version_minor": 0
      },
      "text/plain": [
       "chain 2 |          | 00:00 Status"
      ]
     },
     "metadata": {},
     "output_type": "display_data"
    },
    {
     "name": "stdout",
     "output_type": "stream",
     "text": [
      "                                                                                                                                                                                                                                                "
     ]
    },
    {
     "name": "stderr",
     "output_type": "stream",
     "text": [
      "17:02:04 - cmdstanpy - INFO - CmdStan done processing.\n"
     ]
    },
    {
     "name": "stdout",
     "output_type": "stream",
     "text": [
      "\n",
      "Iteration for participant 2 Finished\n",
      "Iteration for participant 4 Started\n"
     ]
    },
    {
     "name": "stderr",
     "output_type": "stream",
     "text": [
      "17:02:08 - cmdstanpy - INFO - CmdStan start processing\n"
     ]
    },
    {
     "data": {
      "application/vnd.jupyter.widget-view+json": {
       "model_id": "35209dde8f9e4630ad18e9f33ef759e2",
       "version_major": 2,
       "version_minor": 0
      },
      "text/plain": [
       "chain 1 |          | 00:00 Status"
      ]
     },
     "metadata": {},
     "output_type": "display_data"
    },
    {
     "data": {
      "application/vnd.jupyter.widget-view+json": {
       "model_id": "d1938d7447ce458aa772ce7ae7910675",
       "version_major": 2,
       "version_minor": 0
      },
      "text/plain": [
       "chain 2 |          | 00:00 Status"
      ]
     },
     "metadata": {},
     "output_type": "display_data"
    },
    {
     "name": "stdout",
     "output_type": "stream",
     "text": [
      "                                                                                                                                                                                                                                                "
     ]
    },
    {
     "name": "stderr",
     "output_type": "stream",
     "text": [
      "17:02:15 - cmdstanpy - INFO - CmdStan done processing.\n",
      "17:02:15 - cmdstanpy - WARNING - Non-fatal error during sampling:\n",
      "Exception: sigmoid_am_ndm_model_namespace::log_prob: drift_word_t[1] is nan, but must be greater than or equal to 0.000000 (in 'E:/Workspace/Thesis/ANN-EAM/models/stan/ANN-RDM/individual/sigmoid_am_ndm.stan', line 93, column 4 to column 36)\n",
      "Consider re-running with show_console=True if the above output is unclear!\n"
     ]
    },
    {
     "name": "stdout",
     "output_type": "stream",
     "text": [
      "\n",
      "Iteration for participant 3 Finished\n",
      "Iteration for participant 5 Started\n"
     ]
    },
    {
     "name": "stderr",
     "output_type": "stream",
     "text": [
      "17:02:19 - cmdstanpy - INFO - CmdStan start processing\n"
     ]
    },
    {
     "data": {
      "application/vnd.jupyter.widget-view+json": {
       "model_id": "40f7e9d8c04c45a5898b0e9e10320b97",
       "version_major": 2,
       "version_minor": 0
      },
      "text/plain": [
       "chain 1 |          | 00:00 Status"
      ]
     },
     "metadata": {},
     "output_type": "display_data"
    },
    {
     "data": {
      "application/vnd.jupyter.widget-view+json": {
       "model_id": "07e92c3421fb4931a91f4a55cd913370",
       "version_major": 2,
       "version_minor": 0
      },
      "text/plain": [
       "chain 2 |          | 00:00 Status"
      ]
     },
     "metadata": {},
     "output_type": "display_data"
    },
    {
     "name": "stdout",
     "output_type": "stream",
     "text": [
      "                                                                                                                                                                                                                                                "
     ]
    },
    {
     "name": "stderr",
     "output_type": "stream",
     "text": [
      "17:02:27 - cmdstanpy - INFO - CmdStan done processing.\n"
     ]
    },
    {
     "name": "stdout",
     "output_type": "stream",
     "text": [
      "\n",
      "Iteration for participant 4 Finished\n",
      "Iteration for participant 6 Started\n"
     ]
    },
    {
     "name": "stderr",
     "output_type": "stream",
     "text": [
      "17:02:29 - cmdstanpy - INFO - CmdStan start processing\n"
     ]
    },
    {
     "data": {
      "application/vnd.jupyter.widget-view+json": {
       "model_id": "c4ad441768344506a945ec5240598cdf",
       "version_major": 2,
       "version_minor": 0
      },
      "text/plain": [
       "chain 1 |          | 00:00 Status"
      ]
     },
     "metadata": {},
     "output_type": "display_data"
    },
    {
     "data": {
      "application/vnd.jupyter.widget-view+json": {
       "model_id": "ddb1844a40b24f66a28d02ab2d90798b",
       "version_major": 2,
       "version_minor": 0
      },
      "text/plain": [
       "chain 2 |          | 00:00 Status"
      ]
     },
     "metadata": {},
     "output_type": "display_data"
    },
    {
     "name": "stdout",
     "output_type": "stream",
     "text": [
      "                                                                                                                                                                                                                                                "
     ]
    },
    {
     "name": "stderr",
     "output_type": "stream",
     "text": [
      "17:02:36 - cmdstanpy - INFO - CmdStan done processing.\n"
     ]
    },
    {
     "name": "stdout",
     "output_type": "stream",
     "text": [
      "\n",
      "Iteration for participant 5 Finished\n",
      "Iteration for participant 7 Started\n"
     ]
    },
    {
     "name": "stderr",
     "output_type": "stream",
     "text": [
      "17:02:40 - cmdstanpy - INFO - CmdStan start processing\n"
     ]
    },
    {
     "data": {
      "application/vnd.jupyter.widget-view+json": {
       "model_id": "ff4952eb3af64f0ba36748a601ec6acf",
       "version_major": 2,
       "version_minor": 0
      },
      "text/plain": [
       "chain 1 |          | 00:00 Status"
      ]
     },
     "metadata": {},
     "output_type": "display_data"
    },
    {
     "data": {
      "application/vnd.jupyter.widget-view+json": {
       "model_id": "c6c368333ce74e37bfbdece3317c41ac",
       "version_major": 2,
       "version_minor": 0
      },
      "text/plain": [
       "chain 2 |          | 00:00 Status"
      ]
     },
     "metadata": {},
     "output_type": "display_data"
    },
    {
     "name": "stdout",
     "output_type": "stream",
     "text": [
      "                                                                                                                                                                                                                                                "
     ]
    },
    {
     "name": "stderr",
     "output_type": "stream",
     "text": [
      "17:02:48 - cmdstanpy - INFO - CmdStan done processing.\n",
      "17:02:48 - cmdstanpy - WARNING - Non-fatal error during sampling:\n",
      "Exception: sigmoid_am_ndm_model_namespace::log_prob: drift_word_t[1] is nan, but must be greater than or equal to 0.000000 (in 'E:/Workspace/Thesis/ANN-EAM/models/stan/ANN-RDM/individual/sigmoid_am_ndm.stan', line 93, column 4 to column 36)\n",
      "Consider re-running with show_console=True if the above output is unclear!\n"
     ]
    },
    {
     "name": "stdout",
     "output_type": "stream",
     "text": [
      "\n",
      "Iteration for participant 6 Finished\n",
      "Iteration for participant 8 Started\n"
     ]
    },
    {
     "name": "stderr",
     "output_type": "stream",
     "text": [
      "17:02:51 - cmdstanpy - INFO - CmdStan start processing\n"
     ]
    },
    {
     "data": {
      "application/vnd.jupyter.widget-view+json": {
       "model_id": "1683514b417648169ee9ca744bbbd261",
       "version_major": 2,
       "version_minor": 0
      },
      "text/plain": [
       "chain 1 |          | 00:00 Status"
      ]
     },
     "metadata": {},
     "output_type": "display_data"
    },
    {
     "data": {
      "application/vnd.jupyter.widget-view+json": {
       "model_id": "61de87363aed4da6931b9823ff0d3ef9",
       "version_major": 2,
       "version_minor": 0
      },
      "text/plain": [
       "chain 2 |          | 00:00 Status"
      ]
     },
     "metadata": {},
     "output_type": "display_data"
    },
    {
     "name": "stdout",
     "output_type": "stream",
     "text": [
      "                                                                                                                                                                                                                                                "
     ]
    },
    {
     "name": "stderr",
     "output_type": "stream",
     "text": [
      "17:03:01 - cmdstanpy - INFO - CmdStan done processing.\n"
     ]
    },
    {
     "name": "stdout",
     "output_type": "stream",
     "text": [
      "\n",
      "Iteration for participant 7 Finished\n",
      "Iteration for participant 9 Started\n"
     ]
    },
    {
     "name": "stderr",
     "output_type": "stream",
     "text": [
      "17:03:04 - cmdstanpy - INFO - CmdStan start processing\n"
     ]
    },
    {
     "data": {
      "application/vnd.jupyter.widget-view+json": {
       "model_id": "b7813e6b51134d22922546d50e5b1291",
       "version_major": 2,
       "version_minor": 0
      },
      "text/plain": [
       "chain 1 |          | 00:00 Status"
      ]
     },
     "metadata": {},
     "output_type": "display_data"
    },
    {
     "data": {
      "application/vnd.jupyter.widget-view+json": {
       "model_id": "0660683e1483421d9a8fdb255fd1924d",
       "version_major": 2,
       "version_minor": 0
      },
      "text/plain": [
       "chain 2 |          | 00:00 Status"
      ]
     },
     "metadata": {},
     "output_type": "display_data"
    },
    {
     "name": "stdout",
     "output_type": "stream",
     "text": [
      "                                                                                                                                                                                                                                                "
     ]
    },
    {
     "name": "stderr",
     "output_type": "stream",
     "text": [
      "17:03:11 - cmdstanpy - INFO - CmdStan done processing.\n",
      "17:03:12 - cmdstanpy - WARNING - Non-fatal error during sampling:\n",
      "Exception: sigmoid_am_ndm_model_namespace::log_prob: drift_word_t[2] is nan, but must be greater than or equal to 0.000000 (in 'E:/Workspace/Thesis/ANN-EAM/models/stan/ANN-RDM/individual/sigmoid_am_ndm.stan', line 93, column 4 to column 36)\n",
      "Exception: sigmoid_am_ndm_model_namespace::log_prob: drift_word_t[2] is nan, but must be greater than or equal to 0.000000 (in 'E:/Workspace/Thesis/ANN-EAM/models/stan/ANN-RDM/individual/sigmoid_am_ndm.stan', line 93, column 4 to column 36)\n",
      "Consider re-running with show_console=True if the above output is unclear!\n"
     ]
    },
    {
     "name": "stdout",
     "output_type": "stream",
     "text": [
      "\n",
      "Iteration for participant 8 Finished\n",
      "Iteration for participant 10 Started\n"
     ]
    },
    {
     "name": "stderr",
     "output_type": "stream",
     "text": [
      "17:03:17 - cmdstanpy - INFO - CmdStan start processing\n"
     ]
    },
    {
     "data": {
      "application/vnd.jupyter.widget-view+json": {
       "model_id": "993bc8beef42418eb3850c0485323ebe",
       "version_major": 2,
       "version_minor": 0
      },
      "text/plain": [
       "chain 1 |          | 00:00 Status"
      ]
     },
     "metadata": {},
     "output_type": "display_data"
    },
    {
     "data": {
      "application/vnd.jupyter.widget-view+json": {
       "model_id": "acabe77e0d3b4afa97d40f5a5561c7f3",
       "version_major": 2,
       "version_minor": 0
      },
      "text/plain": [
       "chain 2 |          | 00:00 Status"
      ]
     },
     "metadata": {},
     "output_type": "display_data"
    },
    {
     "name": "stdout",
     "output_type": "stream",
     "text": [
      "                                                                                                                                                                                                                                                "
     ]
    },
    {
     "name": "stderr",
     "output_type": "stream",
     "text": [
      "17:03:25 - cmdstanpy - INFO - CmdStan done processing.\n"
     ]
    },
    {
     "name": "stdout",
     "output_type": "stream",
     "text": [
      "\n",
      "Iteration for participant 9 Finished\n"
     ]
    }
   ],
   "source": [
    "for i in range(number_of_participants):\n",
    "    print(f\"Iteration for participant {i+1} Started\")\n",
    "    parameters_set = np.random.uniform(low=params_range[:,1], high=params_range[:,0])\n",
    "    behavioral_df = simulate_ANNRDM_individual(n_trials=n_trials, trials_info_df=word_nword_df,\n",
    "                                         parameters_set=parameters_set)\n",
    "    stan_parameters = get_stan_parameters(behavioral_df)\n",
    "    fit = rdm_model.sample(data=stan_parameters,\n",
    "                       iter_sampling=n_sample, \n",
    "                       iter_warmup=n_warmup,\n",
    "                       chains=n_chains,\n",
    "                       show_console=False)\n",
    "    save_results_to_csv(fit, behavioral_df)\n",
    "    print(f\"Iteration for participant {i} Finished\") "
   ]
  },
  {
   "cell_type": "markdown",
   "id": "632d370f-7ebe-4acc-84bd-db5123551216",
   "metadata": {},
   "source": [
    "## Particpants parameter recovery"
   ]
  },
  {
   "cell_type": "code",
   "execution_count": 11,
   "id": "34aad78b-2087-45d8-acd4-c0344003bb04",
   "metadata": {
    "tags": []
   },
   "outputs": [
    {
     "data": {
      "text/html": [
       "<div>\n",
       "<style scoped>\n",
       "    .dataframe tbody tr th:only-of-type {\n",
       "        vertical-align: middle;\n",
       "    }\n",
       "\n",
       "    .dataframe tbody tr th {\n",
       "        vertical-align: top;\n",
       "    }\n",
       "\n",
       "    .dataframe thead th {\n",
       "        text-align: right;\n",
       "    }\n",
       "</style>\n",
       "<table border=\"1\" class=\"dataframe\">\n",
       "  <thead>\n",
       "    <tr style=\"text-align: right;\">\n",
       "      <th></th>\n",
       "      <th>mean_alpha</th>\n",
       "      <th>mean_b</th>\n",
       "      <th>mean_k_1</th>\n",
       "      <th>mean_k_2</th>\n",
       "      <th>mean_g</th>\n",
       "      <th>mean_m</th>\n",
       "      <th>mean_threshold_word</th>\n",
       "      <th>mean_threshold_nonword</th>\n",
       "      <th>median_alpha</th>\n",
       "      <th>median_b</th>\n",
       "      <th>...</th>\n",
       "      <th>HDI_g_top</th>\n",
       "      <th>real_m</th>\n",
       "      <th>HDI_m_bottom</th>\n",
       "      <th>HDI_m_top</th>\n",
       "      <th>real_threshold_word</th>\n",
       "      <th>HDI_threshold_word_bottom</th>\n",
       "      <th>HDI_threshold_word_top</th>\n",
       "      <th>real_threshold_nonword</th>\n",
       "      <th>HDI_threshold_nonword_bottom</th>\n",
       "      <th>HDI_threshold_nonword_top</th>\n",
       "    </tr>\n",
       "  </thead>\n",
       "  <tbody>\n",
       "    <tr>\n",
       "      <th>0</th>\n",
       "      <td>3.556904</td>\n",
       "      <td>0.987597</td>\n",
       "      <td>2.980296</td>\n",
       "      <td>3.711210</td>\n",
       "      <td>1.542759</td>\n",
       "      <td>0.326450</td>\n",
       "      <td>1.863744</td>\n",
       "      <td>4.738901</td>\n",
       "      <td>3.545875</td>\n",
       "      <td>0.977253</td>\n",
       "      <td>...</td>\n",
       "      <td>2.631620</td>\n",
       "      <td>0.227411</td>\n",
       "      <td>0.158046</td>\n",
       "      <td>0.477059</td>\n",
       "      <td>1.198516</td>\n",
       "      <td>1.409400</td>\n",
       "      <td>2.34738</td>\n",
       "      <td>2.068618</td>\n",
       "      <td>3.42189</td>\n",
       "      <td>6.05740</td>\n",
       "    </tr>\n",
       "    <tr>\n",
       "      <th>1</th>\n",
       "      <td>2.135275</td>\n",
       "      <td>0.852186</td>\n",
       "      <td>1.178570</td>\n",
       "      <td>4.716256</td>\n",
       "      <td>7.963246</td>\n",
       "      <td>0.196574</td>\n",
       "      <td>1.479208</td>\n",
       "      <td>2.564209</td>\n",
       "      <td>2.129280</td>\n",
       "      <td>0.839981</td>\n",
       "      <td>...</td>\n",
       "      <td>9.260100</td>\n",
       "      <td>0.018632</td>\n",
       "      <td>0.104159</td>\n",
       "      <td>0.291173</td>\n",
       "      <td>1.836657</td>\n",
       "      <td>1.202880</td>\n",
       "      <td>1.76657</td>\n",
       "      <td>1.750190</td>\n",
       "      <td>1.97291</td>\n",
       "      <td>3.18909</td>\n",
       "    </tr>\n",
       "    <tr>\n",
       "      <th>2</th>\n",
       "      <td>2.430117</td>\n",
       "      <td>0.487230</td>\n",
       "      <td>1.308972</td>\n",
       "      <td>4.767960</td>\n",
       "      <td>0.596366</td>\n",
       "      <td>0.388447</td>\n",
       "      <td>1.409160</td>\n",
       "      <td>2.993666</td>\n",
       "      <td>2.400805</td>\n",
       "      <td>0.478378</td>\n",
       "      <td>...</td>\n",
       "      <td>1.019830</td>\n",
       "      <td>0.109219</td>\n",
       "      <td>0.213136</td>\n",
       "      <td>0.582635</td>\n",
       "      <td>1.428652</td>\n",
       "      <td>1.096310</td>\n",
       "      <td>1.71223</td>\n",
       "      <td>2.081638</td>\n",
       "      <td>2.20956</td>\n",
       "      <td>3.72293</td>\n",
       "    </tr>\n",
       "    <tr>\n",
       "      <th>3</th>\n",
       "      <td>1.925011</td>\n",
       "      <td>0.802609</td>\n",
       "      <td>2.012378</td>\n",
       "      <td>3.901207</td>\n",
       "      <td>0.936864</td>\n",
       "      <td>0.365194</td>\n",
       "      <td>1.235082</td>\n",
       "      <td>2.113992</td>\n",
       "      <td>1.906250</td>\n",
       "      <td>0.779134</td>\n",
       "      <td>...</td>\n",
       "      <td>1.559930</td>\n",
       "      <td>0.154060</td>\n",
       "      <td>0.189767</td>\n",
       "      <td>0.537299</td>\n",
       "      <td>1.248776</td>\n",
       "      <td>0.940274</td>\n",
       "      <td>1.51980</td>\n",
       "      <td>1.836134</td>\n",
       "      <td>1.60585</td>\n",
       "      <td>2.67287</td>\n",
       "    </tr>\n",
       "    <tr>\n",
       "      <th>4</th>\n",
       "      <td>2.306839</td>\n",
       "      <td>0.518032</td>\n",
       "      <td>1.517510</td>\n",
       "      <td>4.365161</td>\n",
       "      <td>3.556534</td>\n",
       "      <td>0.332844</td>\n",
       "      <td>1.678373</td>\n",
       "      <td>2.441185</td>\n",
       "      <td>2.261300</td>\n",
       "      <td>0.506652</td>\n",
       "      <td>...</td>\n",
       "      <td>4.029200</td>\n",
       "      <td>0.171269</td>\n",
       "      <td>0.180124</td>\n",
       "      <td>0.484154</td>\n",
       "      <td>1.742499</td>\n",
       "      <td>1.360510</td>\n",
       "      <td>2.03721</td>\n",
       "      <td>2.036801</td>\n",
       "      <td>1.85763</td>\n",
       "      <td>3.19038</td>\n",
       "    </tr>\n",
       "    <tr>\n",
       "      <th>5</th>\n",
       "      <td>3.093115</td>\n",
       "      <td>0.523184</td>\n",
       "      <td>2.858899</td>\n",
       "      <td>4.075538</td>\n",
       "      <td>2.245596</td>\n",
       "      <td>0.220562</td>\n",
       "      <td>1.315025</td>\n",
       "      <td>2.008685</td>\n",
       "      <td>3.070205</td>\n",
       "      <td>0.492858</td>\n",
       "      <td>...</td>\n",
       "      <td>2.641080</td>\n",
       "      <td>0.159978</td>\n",
       "      <td>0.117783</td>\n",
       "      <td>0.328169</td>\n",
       "      <td>1.517890</td>\n",
       "      <td>1.041140</td>\n",
       "      <td>1.57995</td>\n",
       "      <td>1.514562</td>\n",
       "      <td>1.55886</td>\n",
       "      <td>2.47231</td>\n",
       "    </tr>\n",
       "    <tr>\n",
       "      <th>6</th>\n",
       "      <td>2.630599</td>\n",
       "      <td>0.442589</td>\n",
       "      <td>2.556732</td>\n",
       "      <td>3.533500</td>\n",
       "      <td>2.134622</td>\n",
       "      <td>0.295431</td>\n",
       "      <td>1.764897</td>\n",
       "      <td>2.662714</td>\n",
       "      <td>2.608205</td>\n",
       "      <td>0.419220</td>\n",
       "      <td>...</td>\n",
       "      <td>2.710360</td>\n",
       "      <td>0.234340</td>\n",
       "      <td>0.157224</td>\n",
       "      <td>0.432170</td>\n",
       "      <td>1.619732</td>\n",
       "      <td>1.418610</td>\n",
       "      <td>2.13698</td>\n",
       "      <td>1.880702</td>\n",
       "      <td>1.98382</td>\n",
       "      <td>3.47097</td>\n",
       "    </tr>\n",
       "    <tr>\n",
       "      <th>7</th>\n",
       "      <td>2.818899</td>\n",
       "      <td>0.492963</td>\n",
       "      <td>1.910381</td>\n",
       "      <td>5.120833</td>\n",
       "      <td>0.835564</td>\n",
       "      <td>0.464196</td>\n",
       "      <td>1.634951</td>\n",
       "      <td>2.334591</td>\n",
       "      <td>2.786120</td>\n",
       "      <td>0.485810</td>\n",
       "      <td>...</td>\n",
       "      <td>1.267390</td>\n",
       "      <td>0.275554</td>\n",
       "      <td>0.270652</td>\n",
       "      <td>0.666170</td>\n",
       "      <td>1.268940</td>\n",
       "      <td>1.291370</td>\n",
       "      <td>2.01842</td>\n",
       "      <td>1.694527</td>\n",
       "      <td>1.57259</td>\n",
       "      <td>3.06060</td>\n",
       "    </tr>\n",
       "    <tr>\n",
       "      <th>8</th>\n",
       "      <td>2.352030</td>\n",
       "      <td>1.337999</td>\n",
       "      <td>1.610669</td>\n",
       "      <td>3.912034</td>\n",
       "      <td>0.306755</td>\n",
       "      <td>0.438987</td>\n",
       "      <td>1.331959</td>\n",
       "      <td>2.401105</td>\n",
       "      <td>2.328060</td>\n",
       "      <td>1.325855</td>\n",
       "      <td>...</td>\n",
       "      <td>0.776745</td>\n",
       "      <td>0.204143</td>\n",
       "      <td>0.254768</td>\n",
       "      <td>0.642024</td>\n",
       "      <td>1.210427</td>\n",
       "      <td>1.049860</td>\n",
       "      <td>1.62752</td>\n",
       "      <td>2.099608</td>\n",
       "      <td>1.73755</td>\n",
       "      <td>2.98854</td>\n",
       "    </tr>\n",
       "    <tr>\n",
       "      <th>9</th>\n",
       "      <td>1.970118</td>\n",
       "      <td>1.048676</td>\n",
       "      <td>1.314403</td>\n",
       "      <td>2.321364</td>\n",
       "      <td>0.360970</td>\n",
       "      <td>0.263229</td>\n",
       "      <td>1.953296</td>\n",
       "      <td>4.312397</td>\n",
       "      <td>1.987450</td>\n",
       "      <td>1.034950</td>\n",
       "      <td>...</td>\n",
       "      <td>1.232740</td>\n",
       "      <td>0.057738</td>\n",
       "      <td>0.123757</td>\n",
       "      <td>0.405344</td>\n",
       "      <td>1.563284</td>\n",
       "      <td>1.627430</td>\n",
       "      <td>2.27569</td>\n",
       "      <td>2.120984</td>\n",
       "      <td>3.49013</td>\n",
       "      <td>5.13748</td>\n",
       "    </tr>\n",
       "  </tbody>\n",
       "</table>\n",
       "<p>10 rows × 40 columns</p>\n",
       "</div>"
      ],
      "text/plain": [
       "   mean_alpha    mean_b  mean_k_1  mean_k_2    mean_g    mean_m  \\\n",
       "0    3.556904  0.987597  2.980296  3.711210  1.542759  0.326450   \n",
       "1    2.135275  0.852186  1.178570  4.716256  7.963246  0.196574   \n",
       "2    2.430117  0.487230  1.308972  4.767960  0.596366  0.388447   \n",
       "3    1.925011  0.802609  2.012378  3.901207  0.936864  0.365194   \n",
       "4    2.306839  0.518032  1.517510  4.365161  3.556534  0.332844   \n",
       "5    3.093115  0.523184  2.858899  4.075538  2.245596  0.220562   \n",
       "6    2.630599  0.442589  2.556732  3.533500  2.134622  0.295431   \n",
       "7    2.818899  0.492963  1.910381  5.120833  0.835564  0.464196   \n",
       "8    2.352030  1.337999  1.610669  3.912034  0.306755  0.438987   \n",
       "9    1.970118  1.048676  1.314403  2.321364  0.360970  0.263229   \n",
       "\n",
       "   mean_threshold_word  mean_threshold_nonword  median_alpha  median_b  ...  \\\n",
       "0             1.863744                4.738901      3.545875  0.977253  ...   \n",
       "1             1.479208                2.564209      2.129280  0.839981  ...   \n",
       "2             1.409160                2.993666      2.400805  0.478378  ...   \n",
       "3             1.235082                2.113992      1.906250  0.779134  ...   \n",
       "4             1.678373                2.441185      2.261300  0.506652  ...   \n",
       "5             1.315025                2.008685      3.070205  0.492858  ...   \n",
       "6             1.764897                2.662714      2.608205  0.419220  ...   \n",
       "7             1.634951                2.334591      2.786120  0.485810  ...   \n",
       "8             1.331959                2.401105      2.328060  1.325855  ...   \n",
       "9             1.953296                4.312397      1.987450  1.034950  ...   \n",
       "\n",
       "   HDI_g_top    real_m  HDI_m_bottom  HDI_m_top  real_threshold_word  \\\n",
       "0   2.631620  0.227411      0.158046   0.477059             1.198516   \n",
       "1   9.260100  0.018632      0.104159   0.291173             1.836657   \n",
       "2   1.019830  0.109219      0.213136   0.582635             1.428652   \n",
       "3   1.559930  0.154060      0.189767   0.537299             1.248776   \n",
       "4   4.029200  0.171269      0.180124   0.484154             1.742499   \n",
       "5   2.641080  0.159978      0.117783   0.328169             1.517890   \n",
       "6   2.710360  0.234340      0.157224   0.432170             1.619732   \n",
       "7   1.267390  0.275554      0.270652   0.666170             1.268940   \n",
       "8   0.776745  0.204143      0.254768   0.642024             1.210427   \n",
       "9   1.232740  0.057738      0.123757   0.405344             1.563284   \n",
       "\n",
       "   HDI_threshold_word_bottom  HDI_threshold_word_top  real_threshold_nonword  \\\n",
       "0                   1.409400                 2.34738                2.068618   \n",
       "1                   1.202880                 1.76657                1.750190   \n",
       "2                   1.096310                 1.71223                2.081638   \n",
       "3                   0.940274                 1.51980                1.836134   \n",
       "4                   1.360510                 2.03721                2.036801   \n",
       "5                   1.041140                 1.57995                1.514562   \n",
       "6                   1.418610                 2.13698                1.880702   \n",
       "7                   1.291370                 2.01842                1.694527   \n",
       "8                   1.049860                 1.62752                2.099608   \n",
       "9                   1.627430                 2.27569                2.120984   \n",
       "\n",
       "   HDI_threshold_nonword_bottom  HDI_threshold_nonword_top  \n",
       "0                       3.42189                    6.05740  \n",
       "1                       1.97291                    3.18909  \n",
       "2                       2.20956                    3.72293  \n",
       "3                       1.60585                    2.67287  \n",
       "4                       1.85763                    3.19038  \n",
       "5                       1.55886                    2.47231  \n",
       "6                       1.98382                    3.47097  \n",
       "7                       1.57259                    3.06060  \n",
       "8                       1.73755                    2.98854  \n",
       "9                       3.49013                    5.13748  \n",
       "\n",
       "[10 rows x 40 columns]"
      ]
     },
     "execution_count": 11,
     "metadata": {},
     "output_type": "execute_result"
    }
   ],
   "source": [
    "recovery_data = pd.read_csv(\"recovery_individual_results.csv\", header=0)\n",
    "recovery_data"
   ]
  },
  {
   "cell_type": "markdown",
   "id": "d775bea0-b9a6-4f80-bcb6-4977e1e4158b",
   "metadata": {
    "tags": []
   },
   "source": [
    "### Indiviual Level Parameter Recovery"
   ]
  },
  {
   "cell_type": "code",
   "execution_count": 12,
   "id": "21f6a76e-0d92-4a1a-a6bb-db355a548c1f",
   "metadata": {
    "tags": []
   },
   "outputs": [],
   "source": [
    "recovery_data = pd.read_csv(\"recovery_individual_results.csv\", header=0)\n",
    "parameters = [\"k_1\", \"k_2\", \"alpha\", \"b\", \"threshold_word\",  \"threshold_nonword\", \"m\", \"g\"] "
   ]
  },
  {
   "cell_type": "code",
   "execution_count": 13,
   "id": "e0676ff0-f5c9-4a8b-8041-00438c440a17",
   "metadata": {
    "tags": []
   },
   "outputs": [
    {
     "data": {
      "text/plain": [
       "Index(['mean_alpha', 'mean_b', 'mean_k_1', 'mean_k_2', 'mean_g', 'mean_m',\n",
       "       'mean_threshold_word', 'mean_threshold_nonword', 'median_alpha',\n",
       "       'median_b', 'median_k_1', 'median_k_2', 'median_g', 'median_m',\n",
       "       'median_threshold_word', 'median_threshold_nonword', 'real_k_1',\n",
       "       'HDI_k_1_bottom', 'HDI_k_1_top', 'real_k_2', 'HDI_k_2_bottom',\n",
       "       'HDI_k_2_top', 'real_alpha', 'HDI_alpha_bottom', 'HDI_alpha_top',\n",
       "       'real_b', 'HDI_b_bottom', 'HDI_b_top', 'real_g', 'HDI_g_bottom',\n",
       "       'HDI_g_top', 'real_m', 'HDI_m_bottom', 'HDI_m_top',\n",
       "       'real_threshold_word', 'HDI_threshold_word_bottom',\n",
       "       'HDI_threshold_word_top', 'real_threshold_nonword',\n",
       "       'HDI_threshold_nonword_bottom', 'HDI_threshold_nonword_top'],\n",
       "      dtype='object')"
      ]
     },
     "execution_count": 13,
     "metadata": {},
     "output_type": "execute_result"
    }
   ],
   "source": [
    "recovery_data.columns"
   ]
  },
  {
   "cell_type": "markdown",
   "id": "f6503edf-eb5a-48f9-a640-20aadf765a5c",
   "metadata": {},
   "source": [
    "### mean"
   ]
  },
  {
   "cell_type": "code",
   "execution_count": 15,
   "id": "f864467e-7d2e-4249-97de-e40f7aeaa049",
   "metadata": {
    "tags": []
   },
   "outputs": [
    {
     "data": {
      "image/png": "[encoded data removed]",
      "text/plain": [
       "<Figure size 1500x1500 with 8 Axes>"
      ]
     },
     "metadata": {},
     "output_type": "display_data"
    }
   ],
   "source": [
    "fig, axes = plt.subplots(4, 2, figsize=(15,15))\n",
    "plt.subplots_adjust(wspace=0.2, hspace=0.8)\n",
    "raveled_axes = axes.ravel()\n",
    "\n",
    "for index, parameter in enumerate(parameters):      \n",
    "    posterior = recovery_data[\"mean_\"+parameter]\n",
    "    true = recovery_data[\"real_\"+parameter]\n",
    "    raveled_axes[index].scatter(posterior, true)\n",
    "    raveled_axes[index].set_title(parameter)\n",
    "    tempx = np.linspace(recovery_data[\"real_\" + parameter].min(), recovery_data[\"real_\" + parameter].max(), num=100)\n",
    "    recoverline = raveled_axes[index].plot(tempx, tempx)\n",
    "    plt.setp(recoverline, linewidth=3, color=\"orange\")"
   ]
  },
  {
   "cell_type": "markdown",
   "id": "6777f570-4e54-4209-82eb-f57dc3696bb8",
   "metadata": {},
   "source": [
    "### Median "
   ]
  },
  {
   "cell_type": "code",
   "execution_count": 16,
   "id": "8fe28ab6-b889-46ec-9c45-91149f1790ea",
   "metadata": {
    "tags": []
   },
   "outputs": [
    {
     "data": {
      "image/png": "[encoded data removed]",
      "text/plain": [
       "<Figure size 1500x1500 with 8 Axes>"
      ]
     },
     "metadata": {},
     "output_type": "display_data"
    }
   ],
   "source": [
    "fig, axes = plt.subplots(4, 2, figsize=(15,15))\n",
    "plt.subplots_adjust(wspace=0.2, hspace=0.8)\n",
    "raveled_axes = axes.ravel()\n",
    "\n",
    "for index, parameter in enumerate(parameters):      \n",
    "    posterior = recovery_data[\"median_\"+parameter]\n",
    "    true = recovery_data[\"real_\"+parameter]\n",
    "    raveled_axes[index].scatter(posterior, true)\n",
    "    raveled_axes[index].set_title(parameter)\n",
    "    tempx = np.linspace(recovery_data[\"real_\" + parameter].min(), recovery_data[\"real_\" + parameter].max(), num=100)\n",
    "    recoverline = raveled_axes[index].plot(tempx, tempx)\n",
    "    plt.setp(recoverline, linewidth=3, color=\"orange\")"
   ]
  },
  {
   "cell_type": "code",
   "execution_count": null,
   "id": "3b5e0101-0729-4155-8cda-34a2d5b21bb9",
   "metadata": {},
   "outputs": [],
   "source": []
  }
 ],
 "metadata": {
  "kernelspec": {
   "display_name": "stan",
   "language": "python",
   "name": "stan"
  },
  "language_info": {
   "codemirror_mode": {
    "name": "ipython",
    "version": 3
   },
   "file_extension": ".py",
   "mimetype": "text/x-python",
   "name": "python",
   "nbconvert_exporter": "python",
   "pygments_lexer": "ipython3",
   "version": "3.11.0"
  }
 },
 "nbformat": 4,
 "nbformat_minor": 5
}
