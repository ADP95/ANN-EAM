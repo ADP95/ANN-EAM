{
 "cells": [
  {
   "cell_type": "code",
   "execution_count": 1,
   "id": "b8c082ae-54dc-4a69-99f3-5a6f0155c1ad",
   "metadata": {
    "tags": []
   },
   "outputs": [],
   "source": [
    "import sys\n",
    "import os\n",
    "sys.path.append(os.path.dirname(os.path.dirname(os.path.abspath(os.getcwd()))))\n",
    "\n",
    "import numpy as np\n",
    "import pandas as pd\n",
    "import cmdstanpy \n",
    "import pickle\n",
    "import matplotlib.pyplot as plt\n",
    "import seaborn as sns\n",
    "import arviz as az\n",
    "import os\n",
    "import json\n",
    "from utils.random import simulate_ANNRDM_individual\n",
    "from utils.utils import get_parameters_range, hdi\n",
    "from scipy.stats import gaussian_kde\n",
    "from sklearn.metrics import r2_score"
   ]
  },
  {
   "cell_type": "code",
   "execution_count": 2,
   "id": "24adb6c4-ed00-40b3-a188-67df8a0c4614",
   "metadata": {
    "tags": []
   },
   "outputs": [],
   "source": [
    "sns.set_theme(style=\"whitegrid\")\n",
    "plt.rcParams[\"font.family\"] = \"serif\"\n",
    "plt.rcParams[\"font.serif\"] = [\"Times New Roman\"] + plt.rcParams[\"font.serif\"]\n",
    "plt.rcParams[\"pdf.fonttype\"] = 42\n",
    "plt.rcParams[\"pdf.use14corefonts\"] = True"
   ]
  },
  {
   "cell_type": "code",
   "execution_count": 3,
   "id": "ec84a9b1-6d9c-4896-a2ec-71c2ada7c986",
   "metadata": {
    "tags": []
   },
   "outputs": [],
   "source": [
    "root = \"../../\"\n",
    "plots_root = \"Results/individual/Plots/\"\n",
    "datasets_root = root + \"Datasets/\"\n",
    "behavioural_data_root = datasets_root +  \"behavioral_data/selected_data/\" \n",
    "\n",
    "dataset_path = datasets_root + \"AI Models Results/FastText_FC.csv\"\n",
    "stan_file_path = root +  \"models/stan/ANN-RDM/individual/sigmoid_am_ndm.stan\" "
   ]
  },
  {
   "cell_type": "code",
   "execution_count": 4,
   "id": "0d434dd8-9732-4cf0-a688-d8e2f774fc98",
   "metadata": {},
   "outputs": [],
   "source": [
    "number_of_participants = 20\n",
    "number_of_parameters = 8\n",
    "n_trials = 400"
   ]
  },
  {
   "cell_type": "code",
   "execution_count": 5,
   "id": "c5a7128a-7789-4eff-b14d-e9d6ee8eddd2",
   "metadata": {
    "tags": []
   },
   "outputs": [],
   "source": [
    "# set sampling parameters\n",
    "n_iter = 2000\n",
    "n_warmup = int(n_iter/2)\n",
    "n_sample = int(n_iter/2)\n",
    "n_chains = 2\n",
    "\n",
    "threshold_priors = [2, 1]          # For all models with RDM\n",
    "ndt_priors = [0, 1];               # For models wtihout non-decision time modulation\n",
    "g_priors = [-2, 1]                 # For models wtih non-decision time modulation\n",
    "m_priors = [0, 0.5]                # For models wtih non-decision time modulation\n",
    "drift_priors = [1, 2]              # For models without drift mapping functions (non ANN-EAM models)\n",
    "alpha_priors = [0, 1]              # For models with drift mapping functions\n",
    "b_priors = [0, 1]                  # For models with drift mapping functions with asymptote modulation and linear models\n",
    "k_priors = [2, 1]                  # For models with sigmoid drift mapping functions (ANN-EAM models)\n",
    "\n",
    "def get_stan_parameters(generated_df):\n",
    "    N = len(generated_df)                                                    # For all models\n",
    "    p = generated_df.loc[:, [\"word_prob\", \"non_word_prob\"]].to_numpy()       # predicted probabilites of words and non-words, for ANN-EAM models\n",
    "    frequency = generated_df[\"zipf\"].to_numpy().astype(int)                  # zipf values, for models with non-decision time or drift modulation\n",
    "    frequencyCondition = generated_df[\"category\"].replace([\"HF\", \"LF\", \"NW\"], [1, 2, 3]).to_numpy() # For models with conditional drift\n",
    "    response = generated_df[\"response\"].to_numpy().astype(int)               # for all models\n",
    "    rt = generated_df[\"rt\"].to_numpy()                                       # for all models\n",
    "    minRT = generated_df[\"minRT\"].to_numpy()                                 # for all models\n",
    "    RTbound = 0.1                                                             # for all models\n",
    "\n",
    "    # define input for the model\n",
    "    data_dict = {\"N\": N,\n",
    "                 \"response\": response,\n",
    "                 \"rt\": rt,\n",
    "                 \"minRT\": minRT,\n",
    "                 \"RTbound\": RTbound,\n",
    "                 \"frequency\": frequency,\n",
    "                 \"frequencyCondition\": frequencyCondition,\n",
    "                 \"threshold_priors\": threshold_priors,\n",
    "                 \"ndt_priors\": ndt_priors,\n",
    "                 \"g_priors\": g_priors,\n",
    "                 \"m_priors\": m_priors,\n",
    "                 \"drift_priors\": drift_priors,\n",
    "                 \"p\": p,\n",
    "                 \"alpha_priors\": alpha_priors,\n",
    "                 \"b_priors\": b_priors,\n",
    "                 \"k_priors\": k_priors,\n",
    "                 }\n",
    "    return data_dict"
   ]
  },
  {
   "cell_type": "code",
   "execution_count": 6,
   "id": "ec9b839e-3dcd-4343-97fa-3ca0288235be",
   "metadata": {},
   "outputs": [],
   "source": [
    "def save_results_to_csv(fit, behavioral_df):\n",
    "    columns = {\"mean_alpha\":-1, \"mean_b\":-1, \"mean_k_1\":-1, \n",
    "               \"mean_k_2\":-1,\"mean_g\":-1, \"mean_m\":-1,\n",
    "               \"mean_threshold_word\":-1, \"mean_threshold_nonword\":-1,\n",
    "               \"median_alpha\":-1, \"median_b\":-1, \"median_k_1\":-1, \n",
    "               \"median_k_2\":-1, \"median_g\":-1, \"median_m\":-1,\n",
    "               \"median_threshold_word\":-1, \"median_threshold_nonword\":-1}\n",
    "    \n",
    "    recoverd_df = pd.DataFrame([], columns=columns.keys())\n",
    "    stan_variables = fit.stan_variables()\n",
    "\n",
    "    columns[\"mean_k_1\"] = stan_variables[\"transf_k_1\"].mean()\n",
    "    columns[\"median_k_1\"] = np.median(stan_variables[\"transf_k_1\"])\n",
    "    columns[\"real_k_1\"] = behavioral_df.loc[0, \"k_1\"]\n",
    "    columns[\"HDI_k_1_bottom\"], columns[\"HDI_k_1_top\"] = hdi(stan_variables[\"transf_k_1\"])\n",
    "\n",
    "    columns[\"mean_k_2\"] = stan_variables[\"transf_k_2\"].mean()\n",
    "    columns[\"median_k_2\"] = np.median(stan_variables[\"transf_k_2\"])\n",
    "    columns[\"real_k_2\"] = behavioral_df.loc[0, \"k_2\"]\n",
    "    columns[\"HDI_k_2_bottom\"], columns[\"HDI_k_2_top\"] = hdi(stan_variables[\"transf_k_2\"])\n",
    "    \n",
    "    columns[\"mean_alpha\"] = stan_variables[\"transf_alpha\"].mean()\n",
    "    columns[\"median_alpha\"] = np.median(stan_variables[\"transf_alpha\"])\n",
    "    columns[\"real_alpha\"] = behavioral_df.loc[0, \"alpha\"]\n",
    "    columns[\"HDI_alpha_bottom\"], columns[\"HDI_alpha_top\"] = hdi(stan_variables[\"transf_alpha\"])\n",
    "\n",
    "    columns[\"mean_b\"] = stan_variables[\"transf_b\"].mean()\n",
    "    columns[\"median_b\"] = np.median(stan_variables[\"transf_b\"])\n",
    "    columns[\"real_b\"] = behavioral_df.loc[0, \"b\"]\n",
    "    columns[\"HDI_b_bottom\"], columns[\"HDI_b_top\"] = hdi(stan_variables[\"transf_b\"])\n",
    "    \n",
    "    columns[\"mean_g\"] = stan_variables[\"transf_g\"].mean()\n",
    "    columns[\"median_g\"] = np.median(stan_variables[\"transf_g\"])\n",
    "    columns[\"real_g\"] = behavioral_df.loc[0, \"g\"]\n",
    "    columns[\"HDI_g_bottom\"], columns[\"HDI_g_top\"] = hdi(stan_variables[\"transf_g\"])\n",
    "    \n",
    "    columns[\"mean_m\"] = stan_variables[\"transf_m\"].mean()\n",
    "    columns[\"median_m\"] = np.median(stan_variables[\"transf_m\"])\n",
    "    columns[\"real_m\"] = behavioral_df.loc[0, \"m\"]\n",
    "    columns[\"HDI_m_bottom\"], columns[\"HDI_m_top\"] = hdi(stan_variables[\"transf_m\"])\n",
    "\n",
    "    columns[\"mean_threshold_word\"] = stan_variables[\"transf_threshold_word\"].mean()\n",
    "    columns[\"median_threshold_word\"] = np.median(stan_variables[\"transf_threshold_word\"])\n",
    "    columns[\"real_threshold_word\"] = behavioral_df.loc[0, \"threshold_word\"]\n",
    "    columns[\"HDI_threshold_word_bottom\"], columns[\"HDI_threshold_word_top\"] = hdi(stan_variables[\"transf_threshold_word\"])\n",
    "    \n",
    "    columns[\"mean_threshold_nonword\"] = stan_variables[\"transf_threshold_nonword\"].mean()\n",
    "    columns[\"median_threshold_nonword\"] = np.median(stan_variables[\"transf_threshold_nonword\"])\n",
    "    columns[\"real_threshold_nonword\"] = behavioral_df.loc[0, \"threshold_nonword\"]\n",
    "    columns[\"HDI_threshold_nonword_bottom\"], columns[\"HDI_threshold_nonword_top\"] = hdi(stan_variables[\"transf_threshold_nonword\"])\n",
    "    \n",
    "    recoverd_df = pd.concat([recoverd_df, pd.DataFrame(columns, index=[0])])\n",
    "\n",
    "    output_path=\"recovery_individual_results.csv\"\n",
    "    recoverd_df.to_csv(output_path, mode=\"a\",\n",
    "                                  header=not os.path.exists(output_path), index=False)"
   ]
  },
  {
   "cell_type": "markdown",
   "id": "c650ddcb-6e9b-428a-8079-31f094d02306",
   "metadata": {
    "id": "123c4809-7b46-4f8d-b578-0d5e9fb5fbe7"
   },
   "source": [
    "## Prepare data"
   ]
  },
  {
   "cell_type": "code",
   "execution_count": 7,
   "id": "5984d029-7aee-467e-b4f7-5a4024728e8c",
   "metadata": {
    "tags": []
   },
   "outputs": [],
   "source": [
    "word_nword_df = pd.read_csv(dataset_path, header=None,\n",
    "                            names =[\"string\", \"freq\",  \"label\", \"zipf\",\n",
    "                                    \"category\", \"word_prob\", \"non_word_prob\"])"
   ]
  },
  {
   "cell_type": "code",
   "execution_count": 8,
   "id": "ad6abe12-2840-4fee-a05d-5cb76d8d597f",
   "metadata": {
    "colab": {
     "base_uri": "https://localhost:8080/"
    },
    "executionInfo": {
     "elapsed": 93380,
     "status": "ok",
     "timestamp": 1651313346844,
     "user": {
      "displayName": "Arash Dadras",
      "userId": "05722346836148265544"
     },
     "user_tz": -270
    },
    "id": "c1b3627d-0ea2-49b6-86f0-7b098a5a16d6",
    "outputId": "4bc8643c-82c0-4fc9-99a0-7f232fa1eea4",
    "scrolled": true,
    "tags": []
   },
   "outputs": [],
   "source": [
    "rdm_model = cmdstanpy.CmdStanModel(model_name=\"ANN-RDM_full_FC\",\n",
    "                                   stan_file=stan_file_path)"
   ]
  },
  {
   "cell_type": "code",
   "execution_count": 9,
   "id": "e8f3b081-096f-4769-8efa-c9350798f4e3",
   "metadata": {
    "tags": []
   },
   "outputs": [
    {
     "data": {
      "text/html": [
       "<div>\n",
       "<style scoped>\n",
       "    .dataframe tbody tr th:only-of-type {\n",
       "        vertical-align: middle;\n",
       "    }\n",
       "\n",
       "    .dataframe tbody tr th {\n",
       "        vertical-align: top;\n",
       "    }\n",
       "\n",
       "    .dataframe thead th {\n",
       "        text-align: right;\n",
       "    }\n",
       "</style>\n",
       "<table border=\"1\" class=\"dataframe\">\n",
       "  <thead>\n",
       "    <tr style=\"text-align: right;\">\n",
       "      <th></th>\n",
       "      <th>mean</th>\n",
       "      <th>std</th>\n",
       "    </tr>\n",
       "  </thead>\n",
       "  <tbody>\n",
       "    <tr>\n",
       "      <th>alpha</th>\n",
       "      <td>1.852985</td>\n",
       "      <td>0.407143</td>\n",
       "    </tr>\n",
       "    <tr>\n",
       "      <th>b</th>\n",
       "      <td>0.337140</td>\n",
       "      <td>0.132949</td>\n",
       "    </tr>\n",
       "    <tr>\n",
       "      <th>k_1</th>\n",
       "      <td>2.452307</td>\n",
       "      <td>0.491251</td>\n",
       "    </tr>\n",
       "    <tr>\n",
       "      <th>k_2</th>\n",
       "      <td>3.467335</td>\n",
       "      <td>0.371054</td>\n",
       "    </tr>\n",
       "    <tr>\n",
       "      <th>threshold_word</th>\n",
       "      <td>1.202835</td>\n",
       "      <td>0.126076</td>\n",
       "    </tr>\n",
       "    <tr>\n",
       "      <th>threshold_nonword</th>\n",
       "      <td>1.655854</td>\n",
       "      <td>0.143301</td>\n",
       "    </tr>\n",
       "    <tr>\n",
       "      <th>g</th>\n",
       "      <td>0.067546</td>\n",
       "      <td>0.053861</td>\n",
       "    </tr>\n",
       "    <tr>\n",
       "      <th>m</th>\n",
       "      <td>1.494549</td>\n",
       "      <td>0.218995</td>\n",
       "    </tr>\n",
       "  </tbody>\n",
       "</table>\n",
       "</div>"
      ],
      "text/plain": [
       "                       mean       std\n",
       "alpha              1.852985  0.407143\n",
       "b                  0.337140  0.132949\n",
       "k_1                2.452307  0.491251\n",
       "k_2                3.467335  0.371054\n",
       "threshold_word     1.202835  0.126076\n",
       "threshold_nonword  1.655854  0.143301\n",
       "g                  0.067546  0.053861\n",
       "m                  1.494549  0.218995"
      ]
     },
     "execution_count": 9,
     "metadata": {},
     "output_type": "execute_result"
    }
   ],
   "source": [
    "pd.read_csv(\"../params_range.csv\", index_col=0).copy()"
   ]
  },
  {
   "cell_type": "code",
   "execution_count": 10,
   "id": "a83f9fd5-3abf-464e-9495-69edfdf073dc",
   "metadata": {
    "scrolled": true,
    "tags": []
   },
   "outputs": [
    {
     "name": "stdout",
     "output_type": "stream",
     "text": [
      "Iteration for participant 1 Started\n"
     ]
    },
    {
     "name": "stderr",
     "output_type": "stream",
     "text": [
      "15:45:42 - cmdstanpy - INFO - CmdStan start processing\n"
     ]
    },
    {
     "data": {
      "application/vnd.jupyter.widget-view+json": {
       "model_id": "854905c7b05d42a9842df15e5f49657d",
       "version_major": 2,
       "version_minor": 0
      },
      "text/plain": [
       "chain 1 |          | 00:00 Status"
      ]
     },
     "metadata": {},
     "output_type": "display_data"
    },
    {
     "data": {
      "application/vnd.jupyter.widget-view+json": {
       "model_id": "097f34af41ac4684807600dcbf94c3ff",
       "version_major": 2,
       "version_minor": 0
      },
      "text/plain": [
       "chain 2 |          | 00:00 Status"
      ]
     },
     "metadata": {},
     "output_type": "display_data"
    },
    {
     "name": "stdout",
     "output_type": "stream",
     "text": [
      "                                                                                                                                                                                                                                                "
     ]
    },
    {
     "name": "stderr",
     "output_type": "stream",
     "text": [
      "15:46:15 - cmdstanpy - INFO - CmdStan done processing.\n"
     ]
    },
    {
     "name": "stdout",
     "output_type": "stream",
     "text": [
      "\n",
      "Iteration for participant 1 Finished\n",
      "Iteration for participant 2 Started\n"
     ]
    },
    {
     "name": "stderr",
     "output_type": "stream",
     "text": [
      "15:46:21 - cmdstanpy - INFO - CmdStan start processing\n"
     ]
    },
    {
     "data": {
      "application/vnd.jupyter.widget-view+json": {
       "model_id": "69dae35fa0d140acb93c624618a3227f",
       "version_major": 2,
       "version_minor": 0
      },
      "text/plain": [
       "chain 1 |          | 00:00 Status"
      ]
     },
     "metadata": {},
     "output_type": "display_data"
    },
    {
     "data": {
      "application/vnd.jupyter.widget-view+json": {
       "model_id": "382649d6486b4137840fb915a8a9e849",
       "version_major": 2,
       "version_minor": 0
      },
      "text/plain": [
       "chain 2 |          | 00:00 Status"
      ]
     },
     "metadata": {},
     "output_type": "display_data"
    },
    {
     "name": "stdout",
     "output_type": "stream",
     "text": [
      "                                                                                                                                                                                                                                                "
     ]
    },
    {
     "name": "stderr",
     "output_type": "stream",
     "text": [
      "15:46:52 - cmdstanpy - INFO - CmdStan done processing.\n"
     ]
    },
    {
     "name": "stdout",
     "output_type": "stream",
     "text": [
      "\n",
      "Iteration for participant 2 Finished\n",
      "Iteration for participant 3 Started\n"
     ]
    },
    {
     "name": "stderr",
     "output_type": "stream",
     "text": [
      "15:46:58 - cmdstanpy - INFO - CmdStan start processing\n"
     ]
    },
    {
     "data": {
      "application/vnd.jupyter.widget-view+json": {
       "model_id": "75d09e8a174c46739836712ef1220b8f",
       "version_major": 2,
       "version_minor": 0
      },
      "text/plain": [
       "chain 1 |          | 00:00 Status"
      ]
     },
     "metadata": {},
     "output_type": "display_data"
    },
    {
     "data": {
      "application/vnd.jupyter.widget-view+json": {
       "model_id": "e2f69037c2e1431f9c56480f62bf012e",
       "version_major": 2,
       "version_minor": 0
      },
      "text/plain": [
       "chain 2 |          | 00:00 Status"
      ]
     },
     "metadata": {},
     "output_type": "display_data"
    },
    {
     "name": "stdout",
     "output_type": "stream",
     "text": [
      "                                                                                                                                                                                                                                                "
     ]
    },
    {
     "name": "stderr",
     "output_type": "stream",
     "text": [
      "15:47:36 - cmdstanpy - INFO - CmdStan done processing.\n"
     ]
    },
    {
     "name": "stdout",
     "output_type": "stream",
     "text": [
      "\n",
      "Iteration for participant 3 Finished\n",
      "Iteration for participant 4 Started\n"
     ]
    },
    {
     "name": "stderr",
     "output_type": "stream",
     "text": [
      "15:47:41 - cmdstanpy - INFO - CmdStan start processing\n"
     ]
    },
    {
     "data": {
      "application/vnd.jupyter.widget-view+json": {
       "model_id": "bdd7eadf5386432bb803b49e5edca962",
       "version_major": 2,
       "version_minor": 0
      },
      "text/plain": [
       "chain 1 |          | 00:00 Status"
      ]
     },
     "metadata": {},
     "output_type": "display_data"
    },
    {
     "data": {
      "application/vnd.jupyter.widget-view+json": {
       "model_id": "393db07a6f9b476a847d8a68403d03f3",
       "version_major": 2,
       "version_minor": 0
      },
      "text/plain": [
       "chain 2 |          | 00:00 Status"
      ]
     },
     "metadata": {},
     "output_type": "display_data"
    },
    {
     "name": "stdout",
     "output_type": "stream",
     "text": [
      "                                                                                                                                                                                                                                                "
     ]
    },
    {
     "name": "stderr",
     "output_type": "stream",
     "text": [
      "15:48:22 - cmdstanpy - INFO - CmdStan done processing.\n",
      "15:48:22 - cmdstanpy - WARNING - Non-fatal error during sampling:\n",
      "Exception: sigmoid_am_ndm_model_namespace::log_prob: drift_word_t[2] is nan, but must be greater than or equal to 0.000000 (in 'E:/Workspace/Thesis/ANN-EAM/models/stan/ANN-RDM/individual/sigmoid_am_ndm.stan', line 93, column 4 to column 36)\n",
      "Consider re-running with show_console=True if the above output is unclear!\n"
     ]
    },
    {
     "name": "stdout",
     "output_type": "stream",
     "text": [
      "\n",
      "Iteration for participant 4 Finished\n",
      "Iteration for participant 5 Started\n"
     ]
    },
    {
     "name": "stderr",
     "output_type": "stream",
     "text": [
      "15:48:27 - cmdstanpy - INFO - CmdStan start processing\n"
     ]
    },
    {
     "data": {
      "application/vnd.jupyter.widget-view+json": {
       "model_id": "8e5e904d305b49869d635bb00cf567ea",
       "version_major": 2,
       "version_minor": 0
      },
      "text/plain": [
       "chain 1 |          | 00:00 Status"
      ]
     },
     "metadata": {},
     "output_type": "display_data"
    },
    {
     "data": {
      "application/vnd.jupyter.widget-view+json": {
       "model_id": "4011599f98fd4e69b102da2a4880749c",
       "version_major": 2,
       "version_minor": 0
      },
      "text/plain": [
       "chain 2 |          | 00:00 Status"
      ]
     },
     "metadata": {},
     "output_type": "display_data"
    },
    {
     "name": "stdout",
     "output_type": "stream",
     "text": [
      "                                                                                                                                                                                                                                                "
     ]
    },
    {
     "name": "stderr",
     "output_type": "stream",
     "text": [
      "15:49:10 - cmdstanpy - INFO - CmdStan done processing.\n"
     ]
    },
    {
     "name": "stdout",
     "output_type": "stream",
     "text": [
      "\n",
      "Iteration for participant 5 Finished\n",
      "Iteration for participant 6 Started\n"
     ]
    },
    {
     "name": "stderr",
     "output_type": "stream",
     "text": [
      "15:49:15 - cmdstanpy - INFO - CmdStan start processing\n"
     ]
    },
    {
     "data": {
      "application/vnd.jupyter.widget-view+json": {
       "model_id": "48119f3607584121932ce122adf605db",
       "version_major": 2,
       "version_minor": 0
      },
      "text/plain": [
       "chain 1 |          | 00:00 Status"
      ]
     },
     "metadata": {},
     "output_type": "display_data"
    },
    {
     "data": {
      "application/vnd.jupyter.widget-view+json": {
       "model_id": "843ab1ac60584b39bbaee67da4615b99",
       "version_major": 2,
       "version_minor": 0
      },
      "text/plain": [
       "chain 2 |          | 00:00 Status"
      ]
     },
     "metadata": {},
     "output_type": "display_data"
    },
    {
     "name": "stdout",
     "output_type": "stream",
     "text": [
      "                                                                                                                                                                                                                                                "
     ]
    },
    {
     "name": "stderr",
     "output_type": "stream",
     "text": [
      "15:49:56 - cmdstanpy - INFO - CmdStan done processing.\n"
     ]
    },
    {
     "name": "stdout",
     "output_type": "stream",
     "text": [
      "\n",
      "Iteration for participant 6 Finished\n",
      "Iteration for participant 7 Started\n"
     ]
    },
    {
     "name": "stderr",
     "output_type": "stream",
     "text": [
      "15:50:02 - cmdstanpy - INFO - CmdStan start processing\n"
     ]
    },
    {
     "data": {
      "application/vnd.jupyter.widget-view+json": {
       "model_id": "42178d9ff52344d19db730e2c19e5082",
       "version_major": 2,
       "version_minor": 0
      },
      "text/plain": [
       "chain 1 |          | 00:00 Status"
      ]
     },
     "metadata": {},
     "output_type": "display_data"
    },
    {
     "data": {
      "application/vnd.jupyter.widget-view+json": {
       "model_id": "27914c2bcb224b6cbf8490e576003662",
       "version_major": 2,
       "version_minor": 0
      },
      "text/plain": [
       "chain 2 |          | 00:00 Status"
      ]
     },
     "metadata": {},
     "output_type": "display_data"
    },
    {
     "name": "stdout",
     "output_type": "stream",
     "text": [
      "                                                                                                                                                                                                                                                "
     ]
    },
    {
     "name": "stderr",
     "output_type": "stream",
     "text": [
      "15:50:43 - cmdstanpy - INFO - CmdStan done processing.\n"
     ]
    },
    {
     "name": "stdout",
     "output_type": "stream",
     "text": [
      "\n",
      "Iteration for participant 7 Finished\n",
      "Iteration for participant 8 Started\n"
     ]
    },
    {
     "name": "stderr",
     "output_type": "stream",
     "text": [
      "15:50:49 - cmdstanpy - INFO - CmdStan start processing\n"
     ]
    },
    {
     "data": {
      "application/vnd.jupyter.widget-view+json": {
       "model_id": "059d3cf8687440bb953d59aa33ee4838",
       "version_major": 2,
       "version_minor": 0
      },
      "text/plain": [
       "chain 1 |          | 00:00 Status"
      ]
     },
     "metadata": {},
     "output_type": "display_data"
    },
    {
     "data": {
      "application/vnd.jupyter.widget-view+json": {
       "model_id": "03c788e7b90e429cbcbcdf1997688d6f",
       "version_major": 2,
       "version_minor": 0
      },
      "text/plain": [
       "chain 2 |          | 00:00 Status"
      ]
     },
     "metadata": {},
     "output_type": "display_data"
    },
    {
     "name": "stdout",
     "output_type": "stream",
     "text": [
      "                                                                                                                                                                                                                                                "
     ]
    },
    {
     "name": "stderr",
     "output_type": "stream",
     "text": [
      "15:51:22 - cmdstanpy - INFO - CmdStan done processing.\n"
     ]
    },
    {
     "name": "stdout",
     "output_type": "stream",
     "text": [
      "\n",
      "Iteration for participant 8 Finished\n",
      "Iteration for participant 9 Started\n"
     ]
    },
    {
     "name": "stderr",
     "output_type": "stream",
     "text": [
      "15:51:27 - cmdstanpy - INFO - CmdStan start processing\n"
     ]
    },
    {
     "data": {
      "application/vnd.jupyter.widget-view+json": {
       "model_id": "04fa388f03654f708057f6ec541361e7",
       "version_major": 2,
       "version_minor": 0
      },
      "text/plain": [
       "chain 1 |          | 00:00 Status"
      ]
     },
     "metadata": {},
     "output_type": "display_data"
    },
    {
     "data": {
      "application/vnd.jupyter.widget-view+json": {
       "model_id": "d8a47894831d48ffb31a4e272a0c864d",
       "version_major": 2,
       "version_minor": 0
      },
      "text/plain": [
       "chain 2 |          | 00:00 Status"
      ]
     },
     "metadata": {},
     "output_type": "display_data"
    },
    {
     "name": "stdout",
     "output_type": "stream",
     "text": [
      "                                                                                                                                                                                                                                                "
     ]
    },
    {
     "name": "stderr",
     "output_type": "stream",
     "text": [
      "15:52:07 - cmdstanpy - INFO - CmdStan done processing.\n",
      "15:52:07 - cmdstanpy - WARNING - Non-fatal error during sampling:\n",
      "Exception: sigmoid_am_ndm_model_namespace::log_prob: drift_word_t[2] is nan, but must be greater than or equal to 0.000000 (in 'E:/Workspace/Thesis/ANN-EAM/models/stan/ANN-RDM/individual/sigmoid_am_ndm.stan', line 93, column 4 to column 36)\n",
      "Consider re-running with show_console=True if the above output is unclear!\n"
     ]
    },
    {
     "name": "stdout",
     "output_type": "stream",
     "text": [
      "\n",
      "Iteration for participant 9 Finished\n",
      "Iteration for participant 10 Started\n"
     ]
    },
    {
     "name": "stderr",
     "output_type": "stream",
     "text": [
      "15:52:12 - cmdstanpy - INFO - CmdStan start processing\n"
     ]
    },
    {
     "data": {
      "application/vnd.jupyter.widget-view+json": {
       "model_id": "3cff179196ac493f8abec5a4240c1e16",
       "version_major": 2,
       "version_minor": 0
      },
      "text/plain": [
       "chain 1 |          | 00:00 Status"
      ]
     },
     "metadata": {},
     "output_type": "display_data"
    },
    {
     "data": {
      "application/vnd.jupyter.widget-view+json": {
       "model_id": "0d3f371dd6414e679a95b5a63ac42b84",
       "version_major": 2,
       "version_minor": 0
      },
      "text/plain": [
       "chain 2 |          | 00:00 Status"
      ]
     },
     "metadata": {},
     "output_type": "display_data"
    },
    {
     "name": "stdout",
     "output_type": "stream",
     "text": [
      "                                                                                                                                                                                                                                                "
     ]
    },
    {
     "name": "stderr",
     "output_type": "stream",
     "text": [
      "15:52:53 - cmdstanpy - INFO - CmdStan done processing.\n"
     ]
    },
    {
     "name": "stdout",
     "output_type": "stream",
     "text": [
      "\n",
      "Iteration for participant 10 Finished\n",
      "Iteration for participant 11 Started\n"
     ]
    },
    {
     "name": "stderr",
     "output_type": "stream",
     "text": [
      "15:52:58 - cmdstanpy - INFO - CmdStan start processing\n"
     ]
    },
    {
     "data": {
      "application/vnd.jupyter.widget-view+json": {
       "model_id": "adf96f2f9e4443fa816726a656a3b0d9",
       "version_major": 2,
       "version_minor": 0
      },
      "text/plain": [
       "chain 1 |          | 00:00 Status"
      ]
     },
     "metadata": {},
     "output_type": "display_data"
    },
    {
     "data": {
      "application/vnd.jupyter.widget-view+json": {
       "model_id": "2cbfe8c4ffef4216aa0ed17d937f6f40",
       "version_major": 2,
       "version_minor": 0
      },
      "text/plain": [
       "chain 2 |          | 00:00 Status"
      ]
     },
     "metadata": {},
     "output_type": "display_data"
    },
    {
     "name": "stdout",
     "output_type": "stream",
     "text": [
      "                                                                                                                                                                                                                                                "
     ]
    },
    {
     "name": "stderr",
     "output_type": "stream",
     "text": [
      "15:53:34 - cmdstanpy - INFO - CmdStan done processing.\n"
     ]
    },
    {
     "name": "stdout",
     "output_type": "stream",
     "text": [
      "\n",
      "Iteration for participant 11 Finished\n",
      "Iteration for participant 12 Started\n"
     ]
    },
    {
     "name": "stderr",
     "output_type": "stream",
     "text": [
      "15:53:39 - cmdstanpy - INFO - CmdStan start processing\n"
     ]
    },
    {
     "data": {
      "application/vnd.jupyter.widget-view+json": {
       "model_id": "b5e93d06b60d4a7090786994e75390b4",
       "version_major": 2,
       "version_minor": 0
      },
      "text/plain": [
       "chain 1 |          | 00:00 Status"
      ]
     },
     "metadata": {},
     "output_type": "display_data"
    },
    {
     "data": {
      "application/vnd.jupyter.widget-view+json": {
       "model_id": "ee70a39f04114ad6a8ae84627ab49555",
       "version_major": 2,
       "version_minor": 0
      },
      "text/plain": [
       "chain 2 |          | 00:00 Status"
      ]
     },
     "metadata": {},
     "output_type": "display_data"
    },
    {
     "name": "stdout",
     "output_type": "stream",
     "text": [
      "                                                                                                                                                                                                                                                "
     ]
    },
    {
     "name": "stderr",
     "output_type": "stream",
     "text": [
      "15:54:25 - cmdstanpy - INFO - CmdStan done processing.\n"
     ]
    },
    {
     "name": "stdout",
     "output_type": "stream",
     "text": [
      "\n",
      "Iteration for participant 12 Finished\n",
      "Iteration for participant 13 Started\n"
     ]
    },
    {
     "name": "stderr",
     "output_type": "stream",
     "text": [
      "15:54:32 - cmdstanpy - INFO - CmdStan start processing\n"
     ]
    },
    {
     "data": {
      "application/vnd.jupyter.widget-view+json": {
       "model_id": "1cd21846a58546fdba2c9d7cadeaba67",
       "version_major": 2,
       "version_minor": 0
      },
      "text/plain": [
       "chain 1 |          | 00:00 Status"
      ]
     },
     "metadata": {},
     "output_type": "display_data"
    },
    {
     "data": {
      "application/vnd.jupyter.widget-view+json": {
       "model_id": "045a319f3217404283fa4b6565b7f367",
       "version_major": 2,
       "version_minor": 0
      },
      "text/plain": [
       "chain 2 |          | 00:00 Status"
      ]
     },
     "metadata": {},
     "output_type": "display_data"
    },
    {
     "name": "stdout",
     "output_type": "stream",
     "text": [
      "                                                                                                                                                                                                                                                "
     ]
    },
    {
     "name": "stderr",
     "output_type": "stream",
     "text": [
      "15:55:06 - cmdstanpy - INFO - CmdStan done processing.\n"
     ]
    },
    {
     "name": "stdout",
     "output_type": "stream",
     "text": [
      "\n",
      "Iteration for participant 13 Finished\n",
      "Iteration for participant 14 Started\n"
     ]
    },
    {
     "name": "stderr",
     "output_type": "stream",
     "text": [
      "15:55:13 - cmdstanpy - INFO - CmdStan start processing\n"
     ]
    },
    {
     "data": {
      "application/vnd.jupyter.widget-view+json": {
       "model_id": "5eeeb6e33c8c45f6846af35988d716bb",
       "version_major": 2,
       "version_minor": 0
      },
      "text/plain": [
       "chain 1 |          | 00:00 Status"
      ]
     },
     "metadata": {},
     "output_type": "display_data"
    },
    {
     "data": {
      "application/vnd.jupyter.widget-view+json": {
       "model_id": "67de036403e84584982134d61d95196e",
       "version_major": 2,
       "version_minor": 0
      },
      "text/plain": [
       "chain 2 |          | 00:00 Status"
      ]
     },
     "metadata": {},
     "output_type": "display_data"
    },
    {
     "name": "stdout",
     "output_type": "stream",
     "text": [
      "                                                                                                                                                                                                                                                "
     ]
    },
    {
     "name": "stderr",
     "output_type": "stream",
     "text": [
      "15:55:48 - cmdstanpy - INFO - CmdStan done processing.\n",
      "15:55:48 - cmdstanpy - WARNING - Non-fatal error during sampling:\n",
      "Exception: sigmoid_am_ndm_model_namespace::log_prob: drift_word_t[1] is nan, but must be greater than or equal to 0.000000 (in 'E:/Workspace/Thesis/ANN-EAM/models/stan/ANN-RDM/individual/sigmoid_am_ndm.stan', line 93, column 4 to column 36)\n",
      "Consider re-running with show_console=True if the above output is unclear!\n"
     ]
    },
    {
     "name": "stdout",
     "output_type": "stream",
     "text": [
      "\n",
      "Iteration for participant 14 Finished\n",
      "Iteration for participant 15 Started\n"
     ]
    },
    {
     "name": "stderr",
     "output_type": "stream",
     "text": [
      "15:55:53 - cmdstanpy - INFO - CmdStan start processing\n"
     ]
    },
    {
     "data": {
      "application/vnd.jupyter.widget-view+json": {
       "model_id": "e67511da958c4154a29a9374bafe4b53",
       "version_major": 2,
       "version_minor": 0
      },
      "text/plain": [
       "chain 1 |          | 00:00 Status"
      ]
     },
     "metadata": {},
     "output_type": "display_data"
    },
    {
     "data": {
      "application/vnd.jupyter.widget-view+json": {
       "model_id": "f7605b7cf68e4cd1a90827d2ee75918f",
       "version_major": 2,
       "version_minor": 0
      },
      "text/plain": [
       "chain 2 |          | 00:00 Status"
      ]
     },
     "metadata": {},
     "output_type": "display_data"
    },
    {
     "name": "stdout",
     "output_type": "stream",
     "text": [
      "                                                                                                                                                                                                                                                "
     ]
    },
    {
     "name": "stderr",
     "output_type": "stream",
     "text": [
      "15:56:31 - cmdstanpy - INFO - CmdStan done processing.\n"
     ]
    },
    {
     "name": "stdout",
     "output_type": "stream",
     "text": [
      "\n",
      "Iteration for participant 15 Finished\n",
      "Iteration for participant 16 Started\n"
     ]
    },
    {
     "name": "stderr",
     "output_type": "stream",
     "text": [
      "15:56:36 - cmdstanpy - INFO - CmdStan start processing\n"
     ]
    },
    {
     "data": {
      "application/vnd.jupyter.widget-view+json": {
       "model_id": "3b3b908e5bad477d8bf0f95d7ef22e6f",
       "version_major": 2,
       "version_minor": 0
      },
      "text/plain": [
       "chain 1 |          | 00:00 Status"
      ]
     },
     "metadata": {},
     "output_type": "display_data"
    },
    {
     "data": {
      "application/vnd.jupyter.widget-view+json": {
       "model_id": "285545e2ad2a4bf0b144a11f073c3e6a",
       "version_major": 2,
       "version_minor": 0
      },
      "text/plain": [
       "chain 2 |          | 00:00 Status"
      ]
     },
     "metadata": {},
     "output_type": "display_data"
    },
    {
     "name": "stdout",
     "output_type": "stream",
     "text": [
      "                                                                                                                                                                                                                                                "
     ]
    },
    {
     "name": "stderr",
     "output_type": "stream",
     "text": [
      "15:57:16 - cmdstanpy - INFO - CmdStan done processing.\n"
     ]
    },
    {
     "name": "stdout",
     "output_type": "stream",
     "text": [
      "\n",
      "Iteration for participant 16 Finished\n",
      "Iteration for participant 17 Started\n"
     ]
    },
    {
     "name": "stderr",
     "output_type": "stream",
     "text": [
      "15:57:21 - cmdstanpy - INFO - CmdStan start processing\n"
     ]
    },
    {
     "data": {
      "application/vnd.jupyter.widget-view+json": {
       "model_id": "a99b368707334d6d99d2c3a01e0f6c26",
       "version_major": 2,
       "version_minor": 0
      },
      "text/plain": [
       "chain 1 |          | 00:00 Status"
      ]
     },
     "metadata": {},
     "output_type": "display_data"
    },
    {
     "data": {
      "application/vnd.jupyter.widget-view+json": {
       "model_id": "9a36f3799d104cd196d8b5a1309a552d",
       "version_major": 2,
       "version_minor": 0
      },
      "text/plain": [
       "chain 2 |          | 00:00 Status"
      ]
     },
     "metadata": {},
     "output_type": "display_data"
    },
    {
     "name": "stdout",
     "output_type": "stream",
     "text": [
      "                                                                                                                                                                                                                                                "
     ]
    },
    {
     "name": "stderr",
     "output_type": "stream",
     "text": [
      "15:58:00 - cmdstanpy - INFO - CmdStan done processing.\n"
     ]
    },
    {
     "name": "stdout",
     "output_type": "stream",
     "text": [
      "\n",
      "Iteration for participant 17 Finished\n",
      "Iteration for participant 18 Started\n"
     ]
    },
    {
     "name": "stderr",
     "output_type": "stream",
     "text": [
      "15:58:06 - cmdstanpy - INFO - CmdStan start processing\n"
     ]
    },
    {
     "data": {
      "application/vnd.jupyter.widget-view+json": {
       "model_id": "96df5f9e7b6a462ebf866bf64ffe1929",
       "version_major": 2,
       "version_minor": 0
      },
      "text/plain": [
       "chain 1 |          | 00:00 Status"
      ]
     },
     "metadata": {},
     "output_type": "display_data"
    },
    {
     "data": {
      "application/vnd.jupyter.widget-view+json": {
       "model_id": "4780a822deef4d209fba7ff11d7823b3",
       "version_major": 2,
       "version_minor": 0
      },
      "text/plain": [
       "chain 2 |          | 00:00 Status"
      ]
     },
     "metadata": {},
     "output_type": "display_data"
    },
    {
     "name": "stdout",
     "output_type": "stream",
     "text": [
      "                                                                                                                                                                                                                                                "
     ]
    },
    {
     "name": "stderr",
     "output_type": "stream",
     "text": [
      "15:58:45 - cmdstanpy - INFO - CmdStan done processing.\n"
     ]
    },
    {
     "name": "stdout",
     "output_type": "stream",
     "text": [
      "\n",
      "Iteration for participant 18 Finished\n",
      "Iteration for participant 19 Started\n"
     ]
    },
    {
     "name": "stderr",
     "output_type": "stream",
     "text": [
      "15:58:49 - cmdstanpy - INFO - CmdStan start processing\n"
     ]
    },
    {
     "data": {
      "application/vnd.jupyter.widget-view+json": {
       "model_id": "2e8889ee09724a0ab3a95a9fa2317417",
       "version_major": 2,
       "version_minor": 0
      },
      "text/plain": [
       "chain 1 |          | 00:00 Status"
      ]
     },
     "metadata": {},
     "output_type": "display_data"
    },
    {
     "data": {
      "application/vnd.jupyter.widget-view+json": {
       "model_id": "b66c46d3fef84e07b26940ad8b53f83e",
       "version_major": 2,
       "version_minor": 0
      },
      "text/plain": [
       "chain 2 |          | 00:00 Status"
      ]
     },
     "metadata": {},
     "output_type": "display_data"
    },
    {
     "name": "stdout",
     "output_type": "stream",
     "text": [
      "                                                                                                                                                                                                                                                "
     ]
    },
    {
     "name": "stderr",
     "output_type": "stream",
     "text": [
      "15:59:29 - cmdstanpy - INFO - CmdStan done processing.\n"
     ]
    },
    {
     "name": "stdout",
     "output_type": "stream",
     "text": [
      "\n",
      "Iteration for participant 19 Finished\n",
      "Iteration for participant 20 Started\n"
     ]
    },
    {
     "name": "stderr",
     "output_type": "stream",
     "text": [
      "15:59:35 - cmdstanpy - INFO - CmdStan start processing\n"
     ]
    },
    {
     "data": {
      "application/vnd.jupyter.widget-view+json": {
       "model_id": "c3b597d706a249a6a8a7930bc9b1819b",
       "version_major": 2,
       "version_minor": 0
      },
      "text/plain": [
       "chain 1 |          | 00:00 Status"
      ]
     },
     "metadata": {},
     "output_type": "display_data"
    },
    {
     "data": {
      "application/vnd.jupyter.widget-view+json": {
       "model_id": "ceeba434dfe04b68b4def45ff290188d",
       "version_major": 2,
       "version_minor": 0
      },
      "text/plain": [
       "chain 2 |          | 00:00 Status"
      ]
     },
     "metadata": {},
     "output_type": "display_data"
    },
    {
     "name": "stdout",
     "output_type": "stream",
     "text": [
      "                                                                                                                                                                                                                                                "
     ]
    },
    {
     "name": "stderr",
     "output_type": "stream",
     "text": [
      "16:00:15 - cmdstanpy - INFO - CmdStan done processing.\n"
     ]
    },
    {
     "name": "stdout",
     "output_type": "stream",
     "text": [
      "\n",
      "Iteration for participant 20 Finished\n"
     ]
    }
   ],
   "source": [
    "params_range = pd.read_csv(\"../params_range.csv\", index_col=0)\n",
    "for i in range(number_of_participants):\n",
    "    print(f\"Iteration for participant {i+1} Started\")\n",
    "    parameters_set = params_range.copy()\n",
    "    parameters_set[\"generated\"] = np.random.normal(loc=parameters_set.iloc[:, 0],\n",
    "                                                   scale=parameters_set.iloc[:, 1])\n",
    "\n",
    "    behavioral_df = simulate_ANNRDM_individual(n_trials=n_trials, trials_info_df=word_nword_df,\n",
    "                                         parameters_set=parameters_set)\n",
    "    stan_parameters = get_stan_parameters(behavioral_df)\n",
    "    fit = rdm_model.sample(data=stan_parameters,\n",
    "                       iter_sampling=n_sample, \n",
    "                       iter_warmup=n_warmup,\n",
    "                       chains=n_chains,\n",
    "                       show_console=False)\n",
    "    save_results_to_csv(fit, behavioral_df)\n",
    "    print(f\"Iteration for participant {i+1} Finished\") "
   ]
  },
  {
   "cell_type": "markdown",
   "id": "632d370f-7ebe-4acc-84bd-db5123551216",
   "metadata": {},
   "source": [
    "## Particpants parameter recovery"
   ]
  },
  {
   "cell_type": "code",
   "execution_count": 11,
   "id": "21f6a76e-0d92-4a1a-a6bb-db355a548c1f",
   "metadata": {
    "tags": []
   },
   "outputs": [],
   "source": [
    "recovery_data = pd.read_csv(\"recovery_individual_results.csv\", header=0)\n",
    "parameters = [\"k_1\", \"k_2\", \"alpha\", \"b\", \"threshold_word\",  \"threshold_nonword\", \"m\", \"g\"] "
   ]
  },
  {
   "cell_type": "markdown",
   "id": "f6503edf-eb5a-48f9-a640-20aadf765a5c",
   "metadata": {},
   "source": [
    "### mean"
   ]
  },
  {
   "cell_type": "code",
   "execution_count": 12,
   "id": "f864467e-7d2e-4249-97de-e40f7aeaa049",
   "metadata": {
    "tags": []
   },
   "outputs": [
    {
     "data": {
      "image/png": "[encoded data removed]",
      "text/plain": [
       "<Figure size 1500x1500 with 8 Axes>"
      ]
     },
     "metadata": {},
     "output_type": "display_data"
    }
   ],
   "source": [
    "fig, axes = plt.subplots(4, 2, figsize=(15,15))\n",
    "plt.subplots_adjust(wspace=0.2, hspace=0.8)\n",
    "raveled_axes = axes.ravel()\n",
    "\n",
    "for index, parameter in enumerate(parameters):      \n",
    "    posterior_mean = recovery_data[\"mean_\"+parameter]\n",
    "    posterior_median = recovery_data[\"median_\"+parameter]\n",
    "    true = recovery_data[\"real_\"+parameter]\n",
    "    raveled_axes[index].scatter(true, posterior_mean, color=\"tomato\",\n",
    "                                zorder=10)\n",
    "    raveled_axes[index].scatter(true, posterior_median, color=\"yellow\",\n",
    "                                zorder=9)\n",
    "    raveled_axes[index].vlines(x=true.to_numpy(), linewidth=2,\n",
    "                               ymin=recovery_data[\"HDI_\"+parameter+\"_bottom\"].to_numpy(),\n",
    "                               ymax=recovery_data[\"HDI_\"+parameter+\"_top\"].to_numpy())\n",
    "    raveled_axes[index].set_title(parameter)\n",
    "    min_true_point = recovery_data[\"real_\" + parameter].min()\n",
    "    max_true_point = recovery_data[\"real_\" + parameter].max()\n",
    "    recoverline = raveled_axes[index].axline(\n",
    "        (min_true_point, min_true_point),\n",
    "        (max_true_point, max_true_point))\n",
    "    plt.setp(recoverline, linewidth=3, color=\"grey\")\n",
    "    r2 = r2_score(true, posterior_mean)\n",
    "    raveled_axes[index].text(0.1, 0.9, f\"R2: {r2:.2f}\", horizontalalignment='center',\n",
    "     verticalalignment='center', transform=raveled_axes[index].transAxes)"
   ]
  },
  {
   "cell_type": "code",
   "execution_count": null,
   "id": "50183958-064d-4b12-ab7e-46f8b3846aef",
   "metadata": {},
   "outputs": [],
   "source": []
  },
  {
   "cell_type": "code",
   "execution_count": null,
   "id": "f67387f2-7c8a-4446-ad36-905c40420c23",
   "metadata": {},
   "outputs": [],
   "source": []
  }
 ],
 "metadata": {
  "kernelspec": {
   "display_name": "stan",
   "language": "python",
   "name": "stan"
  },
  "language_info": {
   "codemirror_mode": {
    "name": "ipython",
    "version": 3
   },
   "file_extension": ".py",
   "mimetype": "text/x-python",
   "name": "python",
   "nbconvert_exporter": "python",
   "pygments_lexer": "ipython3",
   "version": "3.11.0"
  }
 },
 "nbformat": 4,
 "nbformat_minor": 5
}
