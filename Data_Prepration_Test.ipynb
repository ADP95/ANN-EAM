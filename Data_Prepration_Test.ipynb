{
 "cells": [
  {
   "cell_type": "markdown",
   "id": "ad0f86b6-7f29-406d-9b5c-0e41b43f5378",
   "metadata": {},
   "source": [
    "## Import packges"
   ]
  },
  {
   "cell_type": "code",
   "execution_count": 1,
   "id": "5e3b0ed4-1aec-477d-b384-ec8583082584",
   "metadata": {
    "tags": []
   },
   "outputs": [],
   "source": [
    "import numpy as np\n",
    "import pandas as pd\n",
    "import os\n",
    "import random\n",
    "import warnings\n",
    "import matplotlib.pyplot as plt\n",
    "import seaborn as sns\n",
    "import pingouin as pg\n",
    "import statsmodels.api as sm\n",
    "from statsmodels.graphics.gofplots import qqplot_2samples"
   ]
  },
  {
   "cell_type": "code",
   "execution_count": 2,
   "id": "65524e9d-573f-485f-b305-5846330d03a1",
   "metadata": {},
   "outputs": [
    {
     "data": {
      "text/plain": [
       "<Figure size 800x600 with 0 Axes>"
      ]
     },
     "metadata": {},
     "output_type": "display_data"
    }
   ],
   "source": [
    "sns.set_style('whitegrid');\n",
    "plt.figure(figsize=(8, 6), dpi=100);"
   ]
  },
  {
   "cell_type": "code",
   "execution_count": 3,
   "id": "53d09dc2-703d-4d15-b530-7c0f62a4d1d4",
   "metadata": {},
   "outputs": [],
   "source": [
    "root = './'\n",
    "behavioural_data_root = root +  'behavioral_data/raw_data/' "
   ]
  },
  {
   "cell_type": "code",
   "execution_count": 4,
   "id": "1911118b-e292-436b-9983-c45a00be9dce",
   "metadata": {},
   "outputs": [],
   "source": [
    "def remove_outliers(df, max_rt, min_rt, std_c=2.5):\n",
    "    \"\"\"\n",
    "    Returns remove outliers from dataframes. Outlier RTs are bigger than\n",
    "    max_rt and smaller than min_rt. Also RTsthat are out of -/+ (std_c * sd) \n",
    "    of mean RT interval are considered as outliers too.\n",
    "\n",
    "    Parameters\n",
    "    ----------\n",
    "        df: pandas dataframe with rt column\n",
    "        max_rt (float): maximum acceptable rt\n",
    "        min_rt (float): minimum acceptable rt\n",
    "        \n",
    "    Optional Parameters\n",
    "    ----------\n",
    "        std_c (float) : Optional\n",
    "            coefficient to define interval of non-outlier RTs\n",
    "    \n",
    "    Returns\n",
    "    -------\n",
    "        df: pandas dataframe without outliers  \n",
    "    \"\"\"\n",
    "    mean = df['rt'].mean()\n",
    "    sd = df['rt'].std()\n",
    "    lower_thr = mean - std_c*sd\n",
    "    upper_thr = mean + std_c*sd\n",
    "    min_bound = max(min_rt, lower_thr)\n",
    "    max_bound = min(max_rt, upper_thr)\n",
    "    df = df[df['rt'] >= min_bound]\n",
    "    df = df[df['rt'] <= max_bound]\n",
    "    return df"
   ]
  },
  {
   "cell_type": "markdown",
   "id": "389bd596-f076-4357-881e-571ccda3e71a",
   "metadata": {},
   "source": [
    "### Reading behavioural raw data\n",
    "\n",
    "Reading and modifing each behavioral data file and combining all of them into a single behavioral dataframe\n",
    "\n",
    "non-english speakers are omitted from data\n",
    "\n",
    "participant with file number 1988 is removed from data due the problem in reading it with pandas\n",
    "\n",
    "participant with file number 436 had two set of demogrphic data part that the dempgraphic set with the incompelete demograhic data have been removed from file"
   ]
  },
  {
   "cell_type": "code",
   "execution_count": 5,
   "id": "8bc67fb9-b1fb-4499-b287-13874f57913e",
   "metadata": {
    "scrolled": true,
    "tags": []
   },
   "outputs": [],
   "source": [
    "dataframes = []\n",
    "counter = 1\n",
    "for count, filename in enumerate(os.listdir(behavioural_data_root)):\n",
    "    df = pd.read_csv(behavioural_data_root + filename, names=['trial', 'string_id', 'string_type', 'accuracy', 'rt', 'string'])\n",
    "    if df.iloc[-2, 4] != \"English\":\n",
    "        continue\n",
    "    df = df.dropna().drop('string_id', axis=1).drop([0, 1])\n",
    "    df = df.iloc[:-2, :]\n",
    "    ind = df.loc[df['trial'] == 'Univ'].index[0]\n",
    "    df = df.drop([ind, ind+1], axis=0)\n",
    "    # Dropping rows with wrong accuracies\n",
    "    df = df.loc[(df['accuracy'] == '0') | (df['accuracy'] == '1')]\n",
    "    # Converting columns type to suitable data types\n",
    "    convert_dict = {'string_type': 'int16',\n",
    "                    'accuracy': 'int16',\n",
    "                    'rt': float\n",
    "                   }\n",
    "\n",
    "    df = df.astype(convert_dict)\n",
    "    # Convert RTs to seconds\n",
    "    df['rt'] = df['rt'].apply(lambda x: x/1000) \n",
    "    # Removing Outliers\n",
    "    df = remove_outliers(df, 3, .2, 2.5)\n",
    "    # Extracting response of participant from his/her accuracy\n",
    "    df['response'] = np.logical_not(np.logical_xor(df['string_type'], df['accuracy'])).astype('int')\n",
    "    df = df.reset_index(drop=True)\n",
    "    # Particpant number\n",
    "    df['participant'] = counter\n",
    "    df['quantile']=''\n",
    "    df['minRT'] = df['rt'].min()\n",
    "    dataframes.append(df)\n",
    "    counter += 1\n",
    "behavioural_df = pd.concat(dataframes)"
   ]
  },
  {
   "cell_type": "code",
   "execution_count": 6,
   "id": "f9eaad9c-cb0e-4010-9af0-ae196a7de147",
   "metadata": {},
   "outputs": [
    {
     "data": {
      "text/html": [
       "<div>\n",
       "<style scoped>\n",
       "    .dataframe tbody tr th:only-of-type {\n",
       "        vertical-align: middle;\n",
       "    }\n",
       "\n",
       "    .dataframe tbody tr th {\n",
       "        vertical-align: top;\n",
       "    }\n",
       "\n",
       "    .dataframe thead th {\n",
       "        text-align: right;\n",
       "    }\n",
       "</style>\n",
       "<table border=\"1\" class=\"dataframe\">\n",
       "  <thead>\n",
       "    <tr style=\"text-align: right;\">\n",
       "      <th></th>\n",
       "      <th>trial</th>\n",
       "      <th>string_type</th>\n",
       "      <th>accuracy</th>\n",
       "      <th>rt</th>\n",
       "      <th>string</th>\n",
       "      <th>response</th>\n",
       "      <th>participant</th>\n",
       "      <th>quantile</th>\n",
       "      <th>minRT</th>\n",
       "    </tr>\n",
       "  </thead>\n",
       "  <tbody>\n",
       "    <tr>\n",
       "      <th>0</th>\n",
       "      <td>1</td>\n",
       "      <td>0</td>\n",
       "      <td>0</td>\n",
       "      <td>0.548</td>\n",
       "      <td>pracker</td>\n",
       "      <td>1</td>\n",
       "      <td>1</td>\n",
       "      <td></td>\n",
       "      <td>0.378</td>\n",
       "    </tr>\n",
       "    <tr>\n",
       "      <th>1</th>\n",
       "      <td>2</td>\n",
       "      <td>1</td>\n",
       "      <td>1</td>\n",
       "      <td>0.646</td>\n",
       "      <td>nearside</td>\n",
       "      <td>1</td>\n",
       "      <td>1</td>\n",
       "      <td></td>\n",
       "      <td>0.378</td>\n",
       "    </tr>\n",
       "    <tr>\n",
       "      <th>2</th>\n",
       "      <td>3</td>\n",
       "      <td>1</td>\n",
       "      <td>1</td>\n",
       "      <td>0.511</td>\n",
       "      <td>jets</td>\n",
       "      <td>1</td>\n",
       "      <td>1</td>\n",
       "      <td></td>\n",
       "      <td>0.378</td>\n",
       "    </tr>\n",
       "    <tr>\n",
       "      <th>3</th>\n",
       "      <td>4</td>\n",
       "      <td>0</td>\n",
       "      <td>1</td>\n",
       "      <td>0.815</td>\n",
       "      <td>vates</td>\n",
       "      <td>0</td>\n",
       "      <td>1</td>\n",
       "      <td></td>\n",
       "      <td>0.378</td>\n",
       "    </tr>\n",
       "    <tr>\n",
       "      <th>4</th>\n",
       "      <td>5</td>\n",
       "      <td>1</td>\n",
       "      <td>1</td>\n",
       "      <td>0.680</td>\n",
       "      <td>onward</td>\n",
       "      <td>1</td>\n",
       "      <td>1</td>\n",
       "      <td></td>\n",
       "      <td>0.378</td>\n",
       "    </tr>\n",
       "  </tbody>\n",
       "</table>\n",
       "</div>"
      ],
      "text/plain": [
       "  trial  string_type  accuracy     rt    string  response  participant  \\\n",
       "0     1            0         0  0.548   pracker         1            1   \n",
       "1     2            1         1  0.646  nearside         1            1   \n",
       "2     3            1         1  0.511      jets         1            1   \n",
       "3     4            0         1  0.815     vates         0            1   \n",
       "4     5            1         1  0.680    onward         1            1   \n",
       "\n",
       "  quantile  minRT  \n",
       "0           0.378  \n",
       "1           0.378  \n",
       "2           0.378  \n",
       "3           0.378  \n",
       "4           0.378  "
      ]
     },
     "execution_count": 6,
     "metadata": {},
     "output_type": "execute_result"
    }
   ],
   "source": [
    "behavioural_df.head()"
   ]
  },
  {
   "cell_type": "markdown",
   "id": "ea63c43b-9ff6-4961-aac0-6bc4fa5c24ab",
   "metadata": {
    "tags": []
   },
   "source": [
    "## Participant Selection\n",
    "\n",
    "choosing 5 random participant and checking thier mean RT and Accuracy with total mean with t-test"
   ]
  },
  {
   "cell_type": "code",
   "execution_count": 7,
   "id": "65df9769-22a4-42c1-9fd3-f6c39c34d914",
   "metadata": {},
   "outputs": [],
   "source": [
    "all_participants = behavioural_df.groupby(['participant']).agg({'rt': ['mean'], 'accuracy': ['mean'],\n",
    "                                                                'response':['mean']}).reset_index()\n",
    "all_participants.columns = ['participant','rt', 'accuracy', 'response']\n",
    "\n",
    "# Random selection\n",
    "participants_id = random.sample(range(1, len(dataframes)), 5)\n",
    "selected_participants = all_participants[all_participants['participant'].isin(participants_id)]"
   ]
  },
  {
   "cell_type": "markdown",
   "id": "2e2e19cb-9727-4060-bcc0-325a4367e52f",
   "metadata": {},
   "source": [
    "We want to check if our sample (5 selected participants) mean RT is seginficantly different from population (All the participants) mean RT or not?\n",
    "<br>\n",
    "so we use <b>One Sample T-test</b>"
   ]
  },
  {
   "cell_type": "code",
   "execution_count": 8,
   "id": "b3aa9ae0-8042-46ef-8035-d4eac640d87e",
   "metadata": {},
   "outputs": [
    {
     "data": {
      "text/html": [
       "<div>\n",
       "<style scoped>\n",
       "    .dataframe tbody tr th:only-of-type {\n",
       "        vertical-align: middle;\n",
       "    }\n",
       "\n",
       "    .dataframe tbody tr th {\n",
       "        vertical-align: top;\n",
       "    }\n",
       "\n",
       "    .dataframe thead th {\n",
       "        text-align: right;\n",
       "    }\n",
       "</style>\n",
       "<table border=\"1\" class=\"dataframe\">\n",
       "  <thead>\n",
       "    <tr style=\"text-align: right;\">\n",
       "      <th></th>\n",
       "      <th>T</th>\n",
       "      <th>dof</th>\n",
       "      <th>alternative</th>\n",
       "      <th>p-val</th>\n",
       "      <th>CI95%</th>\n",
       "      <th>cohen-d</th>\n",
       "      <th>BF10</th>\n",
       "      <th>power</th>\n",
       "    </tr>\n",
       "  </thead>\n",
       "  <tbody>\n",
       "    <tr>\n",
       "      <th>T-test</th>\n",
       "      <td>0.667224</td>\n",
       "      <td>4</td>\n",
       "      <td>two-sided</td>\n",
       "      <td>0.541148</td>\n",
       "      <td>[0.7, 1.0]</td>\n",
       "      <td>0.298392</td>\n",
       "      <td>0.474</td>\n",
       "      <td>0.081915</td>\n",
       "    </tr>\n",
       "  </tbody>\n",
       "</table>\n",
       "</div>"
      ],
      "text/plain": [
       "               T  dof alternative     p-val       CI95%   cohen-d   BF10  \\\n",
       "T-test  0.667224    4   two-sided  0.541148  [0.7, 1.0]  0.298392  0.474   \n",
       "\n",
       "           power  \n",
       "T-test  0.081915  "
      ]
     },
     "execution_count": 8,
     "metadata": {},
     "output_type": "execute_result"
    }
   ],
   "source": [
    "pg.ttest(selected_participants['rt'].to_numpy(), all_participants['rt'].mean())"
   ]
  },
  {
   "cell_type": "markdown",
   "id": "4b568259-7a09-47ac-8a8f-b99993d2909d",
   "metadata": {
    "jp-MarkdownHeadingCollapsed": true,
    "tags": []
   },
   "source": [
    "<b>There is no significant difference between selected participants RTs and all participants RT</b>"
   ]
  },
  {
   "cell_type": "markdown",
   "id": "18302e12-1973-4fdf-ba2c-cb79af862684",
   "metadata": {},
   "source": [
    "We also want to check if our sample (5 selected participants) mean Accuracy is seginficantly different from population (All the participants) mean Accuracy or not?\n",
    "<br>\n",
    "so we use <b>One Sample T-test</b>"
   ]
  },
  {
   "cell_type": "code",
   "execution_count": 9,
   "id": "992f11ab-2489-41eb-ad93-98ea14020bff",
   "metadata": {},
   "outputs": [
    {
     "data": {
      "text/html": [
       "<div>\n",
       "<style scoped>\n",
       "    .dataframe tbody tr th:only-of-type {\n",
       "        vertical-align: middle;\n",
       "    }\n",
       "\n",
       "    .dataframe tbody tr th {\n",
       "        vertical-align: top;\n",
       "    }\n",
       "\n",
       "    .dataframe thead th {\n",
       "        text-align: right;\n",
       "    }\n",
       "</style>\n",
       "<table border=\"1\" class=\"dataframe\">\n",
       "  <thead>\n",
       "    <tr style=\"text-align: right;\">\n",
       "      <th></th>\n",
       "      <th>T</th>\n",
       "      <th>dof</th>\n",
       "      <th>alternative</th>\n",
       "      <th>p-val</th>\n",
       "      <th>CI95%</th>\n",
       "      <th>cohen-d</th>\n",
       "      <th>BF10</th>\n",
       "      <th>power</th>\n",
       "    </tr>\n",
       "  </thead>\n",
       "  <tbody>\n",
       "    <tr>\n",
       "      <th>T-test</th>\n",
       "      <td>-0.716213</td>\n",
       "      <td>4</td>\n",
       "      <td>two-sided</td>\n",
       "      <td>0.513449</td>\n",
       "      <td>[0.79, 0.9]</td>\n",
       "      <td>0.3203</td>\n",
       "      <td>0.486</td>\n",
       "      <td>0.086817</td>\n",
       "    </tr>\n",
       "  </tbody>\n",
       "</table>\n",
       "</div>"
      ],
      "text/plain": [
       "               T  dof alternative     p-val        CI95%  cohen-d   BF10  \\\n",
       "T-test -0.716213    4   two-sided  0.513449  [0.79, 0.9]   0.3203  0.486   \n",
       "\n",
       "           power  \n",
       "T-test  0.086817  "
      ]
     },
     "execution_count": 9,
     "metadata": {},
     "output_type": "execute_result"
    }
   ],
   "source": [
    "pg.ttest(selected_participants['accuracy'].to_numpy(), all_participants['accuracy'].mean())"
   ]
  },
  {
   "cell_type": "markdown",
   "id": "bcb9452e-6d94-486c-82c9-b3f93b2c81f7",
   "metadata": {
    "jp-MarkdownHeadingCollapsed": true,
    "tags": []
   },
   "source": [
    "<b>There is no significant difference between selected participants mean Accuracy and all participants mean Accuracy</b>"
   ]
  },
  {
   "cell_type": "markdown",
   "id": "1acc0399-bd1d-45f2-b718-c35ce4f2dabf",
   "metadata": {},
   "source": [
    "We also want to check if our sample (5 selected participants) mean response (choice) is seginficantly different from population (All the participants) mean response or not?\n",
    "<br>\n",
    "so we use <b>One Sample T-test</b>"
   ]
  },
  {
   "cell_type": "code",
   "execution_count": 10,
   "id": "164c8370-167b-4d66-97ee-f03e8547da3c",
   "metadata": {},
   "outputs": [
    {
     "data": {
      "text/html": [
       "<div>\n",
       "<style scoped>\n",
       "    .dataframe tbody tr th:only-of-type {\n",
       "        vertical-align: middle;\n",
       "    }\n",
       "\n",
       "    .dataframe tbody tr th {\n",
       "        vertical-align: top;\n",
       "    }\n",
       "\n",
       "    .dataframe thead th {\n",
       "        text-align: right;\n",
       "    }\n",
       "</style>\n",
       "<table border=\"1\" class=\"dataframe\">\n",
       "  <thead>\n",
       "    <tr style=\"text-align: right;\">\n",
       "      <th></th>\n",
       "      <th>T</th>\n",
       "      <th>dof</th>\n",
       "      <th>alternative</th>\n",
       "      <th>p-val</th>\n",
       "      <th>CI95%</th>\n",
       "      <th>cohen-d</th>\n",
       "      <th>BF10</th>\n",
       "      <th>power</th>\n",
       "    </tr>\n",
       "  </thead>\n",
       "  <tbody>\n",
       "    <tr>\n",
       "      <th>T-test</th>\n",
       "      <td>0.640014</td>\n",
       "      <td>4</td>\n",
       "      <td>two-sided</td>\n",
       "      <td>0.556983</td>\n",
       "      <td>[0.45, 0.54]</td>\n",
       "      <td>0.286223</td>\n",
       "      <td>0.468</td>\n",
       "      <td>0.079346</td>\n",
       "    </tr>\n",
       "  </tbody>\n",
       "</table>\n",
       "</div>"
      ],
      "text/plain": [
       "               T  dof alternative     p-val         CI95%   cohen-d   BF10  \\\n",
       "T-test  0.640014    4   two-sided  0.556983  [0.45, 0.54]  0.286223  0.468   \n",
       "\n",
       "           power  \n",
       "T-test  0.079346  "
      ]
     },
     "execution_count": 10,
     "metadata": {},
     "output_type": "execute_result"
    }
   ],
   "source": [
    "pg.ttest(selected_participants['response'].to_numpy(), all_participants['response'].mean())"
   ]
  },
  {
   "cell_type": "markdown",
   "id": "6f2ef18e-a92c-4fbe-9087-5bbf1493ecc6",
   "metadata": {
    "jp-MarkdownHeadingCollapsed": true,
    "tags": []
   },
   "source": [
    "<b>There is no significant difference between selected participants mean response (choice) and all participants mean response</b>"
   ]
  },
  {
   "cell_type": "code",
   "execution_count": 11,
   "id": "3f114742-0f8a-457b-afaf-2bed4c19276e",
   "metadata": {},
   "outputs": [],
   "source": [
    "selected_participants = behavioural_df[behavioural_df['participant'].isin(participants_id)]"
   ]
  },
  {
   "cell_type": "markdown",
   "id": "51e58de5-03af-464b-9659-2a5beb93b732",
   "metadata": {
    "tags": []
   },
   "source": [
    "## Choosing 400 trials for 100 participants\n",
    "\n",
    "Dividing data to 10 quantiles and sampling 40 random trials from each quantile for each participant\n",
    "\n",
    "Check is done with qq-plots"
   ]
  },
  {
   "cell_type": "code",
   "execution_count": 12,
   "id": "ca7ca7bb-6310-4038-82bc-954bc277fa61",
   "metadata": {},
   "outputs": [],
   "source": [
    "ids = np.unique(selected_participants['participant'].to_numpy())"
   ]
  },
  {
   "cell_type": "code",
   "execution_count": 13,
   "id": "6e8bdc0b-db6c-49b7-abd1-983d9c724e50",
   "metadata": {
    "scrolled": true,
    "tags": []
   },
   "outputs": [],
   "source": [
    "selected_participants_and_trials = []\n",
    "with warnings.catch_warnings(record=True):\n",
    "    for index, id in enumerate(ids):\n",
    "        selected_participant = selected_participants[selected_participants['participant']==id]\n",
    "        selected_participant['quantile'] = pd.qcut(selected_participant['rt'], 10);\n",
    "        selected_participant_400 = selected_participant.groupby(\"quantile\").sample(n=40)\n",
    "        selected_participants_and_trials.append(selected_participant_400)"
   ]
  },
  {
   "cell_type": "code",
   "execution_count": 14,
   "id": "b5f53887-988d-4c3c-b880-289bd9d3cb5f",
   "metadata": {},
   "outputs": [],
   "source": [
    "final_df = pd.concat(selected_participants_and_trials)"
   ]
  },
  {
   "cell_type": "code",
   "execution_count": 15,
   "id": "47ae20dd-8794-41ef-a120-852aa1f8b880",
   "metadata": {},
   "outputs": [
    {
     "data": {
      "text/html": [
       "<div>\n",
       "<style scoped>\n",
       "    .dataframe tbody tr th:only-of-type {\n",
       "        vertical-align: middle;\n",
       "    }\n",
       "\n",
       "    .dataframe tbody tr th {\n",
       "        vertical-align: top;\n",
       "    }\n",
       "\n",
       "    .dataframe thead th {\n",
       "        text-align: right;\n",
       "    }\n",
       "</style>\n",
       "<table border=\"1\" class=\"dataframe\">\n",
       "  <thead>\n",
       "    <tr style=\"text-align: right;\">\n",
       "      <th></th>\n",
       "      <th>trial</th>\n",
       "      <th>accuracy</th>\n",
       "      <th>rt</th>\n",
       "      <th>string</th>\n",
       "      <th>response</th>\n",
       "      <th>participant</th>\n",
       "      <th>quantile</th>\n",
       "      <th>minRT</th>\n",
       "    </tr>\n",
       "    <tr>\n",
       "      <th>string_type</th>\n",
       "      <th></th>\n",
       "      <th></th>\n",
       "      <th></th>\n",
       "      <th></th>\n",
       "      <th></th>\n",
       "      <th></th>\n",
       "      <th></th>\n",
       "      <th></th>\n",
       "    </tr>\n",
       "  </thead>\n",
       "  <tbody>\n",
       "    <tr>\n",
       "      <th>0</th>\n",
       "      <td>998</td>\n",
       "      <td>998</td>\n",
       "      <td>998</td>\n",
       "      <td>998</td>\n",
       "      <td>998</td>\n",
       "      <td>998</td>\n",
       "      <td>998</td>\n",
       "      <td>998</td>\n",
       "    </tr>\n",
       "    <tr>\n",
       "      <th>1</th>\n",
       "      <td>1002</td>\n",
       "      <td>1002</td>\n",
       "      <td>1002</td>\n",
       "      <td>1002</td>\n",
       "      <td>1002</td>\n",
       "      <td>1002</td>\n",
       "      <td>1002</td>\n",
       "      <td>1002</td>\n",
       "    </tr>\n",
       "  </tbody>\n",
       "</table>\n",
       "</div>"
      ],
      "text/plain": [
       "             trial  accuracy    rt  string  response  participant  quantile  \\\n",
       "string_type                                                                   \n",
       "0              998       998   998     998       998          998       998   \n",
       "1             1002      1002  1002    1002      1002         1002      1002   \n",
       "\n",
       "             minRT  \n",
       "string_type         \n",
       "0              998  \n",
       "1             1002  "
      ]
     },
     "execution_count": 15,
     "metadata": {},
     "output_type": "execute_result"
    }
   ],
   "source": [
    "final_df.groupby('string_type').count()"
   ]
  },
  {
   "cell_type": "code",
   "execution_count": 16,
   "id": "baa48669-c6af-4146-a3de-8de09e2d6c53",
   "metadata": {},
   "outputs": [],
   "source": [
    "final_df = final_df.drop(['trial', 'string_type', 'quantile'], axis=1)\n",
    " # Adding new particpant ID column for Stan\n",
    "final_df['participant_id'] = final_df['participant'].replace(ids, list(range(1, len(ids)+1)))\n",
    "final_df.reset_index(inplace=True, drop=True)"
   ]
  },
  {
   "cell_type": "code",
   "execution_count": 17,
   "id": "5e47d659-6b70-44be-a856-d4e702c3199b",
   "metadata": {},
   "outputs": [
    {
     "data": {
      "text/html": [
       "<div>\n",
       "<style scoped>\n",
       "    .dataframe tbody tr th:only-of-type {\n",
       "        vertical-align: middle;\n",
       "    }\n",
       "\n",
       "    .dataframe tbody tr th {\n",
       "        vertical-align: top;\n",
       "    }\n",
       "\n",
       "    .dataframe thead th {\n",
       "        text-align: right;\n",
       "    }\n",
       "</style>\n",
       "<table border=\"1\" class=\"dataframe\">\n",
       "  <thead>\n",
       "    <tr style=\"text-align: right;\">\n",
       "      <th></th>\n",
       "      <th>accuracy</th>\n",
       "      <th>rt</th>\n",
       "      <th>string</th>\n",
       "      <th>response</th>\n",
       "      <th>participant</th>\n",
       "      <th>minRT</th>\n",
       "      <th>participant_id</th>\n",
       "    </tr>\n",
       "  </thead>\n",
       "  <tbody>\n",
       "    <tr>\n",
       "      <th>0</th>\n",
       "      <td>1</td>\n",
       "      <td>0.502</td>\n",
       "      <td>stunt</td>\n",
       "      <td>1</td>\n",
       "      <td>26</td>\n",
       "      <td>0.362</td>\n",
       "      <td>1</td>\n",
       "    </tr>\n",
       "    <tr>\n",
       "      <th>1</th>\n",
       "      <td>1</td>\n",
       "      <td>0.577</td>\n",
       "      <td>elastic</td>\n",
       "      <td>1</td>\n",
       "      <td>26</td>\n",
       "      <td>0.362</td>\n",
       "      <td>1</td>\n",
       "    </tr>\n",
       "    <tr>\n",
       "      <th>2</th>\n",
       "      <td>1</td>\n",
       "      <td>0.518</td>\n",
       "      <td>now</td>\n",
       "      <td>1</td>\n",
       "      <td>26</td>\n",
       "      <td>0.362</td>\n",
       "      <td>1</td>\n",
       "    </tr>\n",
       "    <tr>\n",
       "      <th>3</th>\n",
       "      <td>0</td>\n",
       "      <td>0.543</td>\n",
       "      <td>vaitresses</td>\n",
       "      <td>1</td>\n",
       "      <td>26</td>\n",
       "      <td>0.362</td>\n",
       "      <td>1</td>\n",
       "    </tr>\n",
       "    <tr>\n",
       "      <th>4</th>\n",
       "      <td>1</td>\n",
       "      <td>0.556</td>\n",
       "      <td>sweetness</td>\n",
       "      <td>1</td>\n",
       "      <td>26</td>\n",
       "      <td>0.362</td>\n",
       "      <td>1</td>\n",
       "    </tr>\n",
       "    <tr>\n",
       "      <th>...</th>\n",
       "      <td>...</td>\n",
       "      <td>...</td>\n",
       "      <td>...</td>\n",
       "      <td>...</td>\n",
       "      <td>...</td>\n",
       "      <td>...</td>\n",
       "      <td>...</td>\n",
       "    </tr>\n",
       "    <tr>\n",
       "      <th>1995</th>\n",
       "      <td>1</td>\n",
       "      <td>1.592</td>\n",
       "      <td>bareleggek</td>\n",
       "      <td>0</td>\n",
       "      <td>687</td>\n",
       "      <td>0.236</td>\n",
       "      <td>5</td>\n",
       "    </tr>\n",
       "    <tr>\n",
       "      <th>1996</th>\n",
       "      <td>1</td>\n",
       "      <td>1.336</td>\n",
       "      <td>degeneratove</td>\n",
       "      <td>0</td>\n",
       "      <td>687</td>\n",
       "      <td>0.236</td>\n",
       "      <td>5</td>\n",
       "    </tr>\n",
       "    <tr>\n",
       "      <th>1997</th>\n",
       "      <td>0</td>\n",
       "      <td>1.186</td>\n",
       "      <td>nonsistency</td>\n",
       "      <td>1</td>\n",
       "      <td>687</td>\n",
       "      <td>0.236</td>\n",
       "      <td>5</td>\n",
       "    </tr>\n",
       "    <tr>\n",
       "      <th>1998</th>\n",
       "      <td>1</td>\n",
       "      <td>1.362</td>\n",
       "      <td>dopywriter</td>\n",
       "      <td>0</td>\n",
       "      <td>687</td>\n",
       "      <td>0.236</td>\n",
       "      <td>5</td>\n",
       "    </tr>\n",
       "    <tr>\n",
       "      <th>1999</th>\n",
       "      <td>1</td>\n",
       "      <td>1.123</td>\n",
       "      <td>toplin</td>\n",
       "      <td>0</td>\n",
       "      <td>687</td>\n",
       "      <td>0.236</td>\n",
       "      <td>5</td>\n",
       "    </tr>\n",
       "  </tbody>\n",
       "</table>\n",
       "<p>2000 rows × 7 columns</p>\n",
       "</div>"
      ],
      "text/plain": [
       "      accuracy     rt        string  response  participant  minRT  \\\n",
       "0            1  0.502         stunt         1           26  0.362   \n",
       "1            1  0.577       elastic         1           26  0.362   \n",
       "2            1  0.518           now         1           26  0.362   \n",
       "3            0  0.543    vaitresses         1           26  0.362   \n",
       "4            1  0.556     sweetness         1           26  0.362   \n",
       "...        ...    ...           ...       ...          ...    ...   \n",
       "1995         1  1.592    bareleggek         0          687  0.236   \n",
       "1996         1  1.336  degeneratove         0          687  0.236   \n",
       "1997         0  1.186   nonsistency         1          687  0.236   \n",
       "1998         1  1.362    dopywriter         0          687  0.236   \n",
       "1999         1  1.123        toplin         0          687  0.236   \n",
       "\n",
       "      participant_id  \n",
       "0                  1  \n",
       "1                  1  \n",
       "2                  1  \n",
       "3                  1  \n",
       "4                  1  \n",
       "...              ...  \n",
       "1995               5  \n",
       "1996               5  \n",
       "1997               5  \n",
       "1998               5  \n",
       "1999               5  \n",
       "\n",
       "[2000 rows x 7 columns]"
      ]
     },
     "execution_count": 17,
     "metadata": {},
     "output_type": "execute_result"
    }
   ],
   "source": [
    "final_df"
   ]
  },
  {
   "cell_type": "code",
   "execution_count": 18,
   "id": "890cf8db-3a15-40b1-a923-df6c49806ba1",
   "metadata": {},
   "outputs": [],
   "source": [
    "final_df.to_csv(root+\"behavioral_data/selected_data/LDT_data_test.csv\", header=0, index=False)"
   ]
  },
  {
   "cell_type": "code",
   "execution_count": null,
   "id": "1440d7f1-29c1-400a-8a78-bbc0145b9eb2",
   "metadata": {},
   "outputs": [],
   "source": []
  }
 ],
 "metadata": {
  "kernelspec": {
   "display_name": "stan",
   "language": "python",
   "name": "stan"
  },
  "language_info": {
   "codemirror_mode": {
    "name": "ipython",
    "version": 3
   },
   "file_extension": ".py",
   "mimetype": "text/x-python",
   "name": "python",
   "nbconvert_exporter": "python",
   "pygments_lexer": "ipython3",
   "version": "3.11.0"
  }
 },
 "nbformat": 4,
 "nbformat_minor": 5
}
