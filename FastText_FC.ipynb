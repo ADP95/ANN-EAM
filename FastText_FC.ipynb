{
 "cells": [
  {
   "cell_type": "markdown",
   "metadata": {
    "id": "vRSMuj5HfD-S",
    "tags": []
   },
   "source": [
    "## Connect To Drive"
   ]
  },
  {
   "cell_type": "code",
   "execution_count": 8,
   "metadata": {
    "colab": {
     "base_uri": "https://localhost:8080/"
    },
    "executionInfo": {
     "elapsed": 2714,
     "status": "ok",
     "timestamp": 1661848030093,
     "user": {
      "displayName": "Mahvash Siavashpour",
      "userId": "18425997334276185054"
     },
     "user_tz": -270
    },
    "id": "Z_026v3GfAvi",
    "outputId": "08296a4b-3793-4243-d753-e5b9f607ae39"
   },
   "outputs": [
    {
     "name": "stdout",
     "output_type": "stream",
     "text": [
      "Drive already mounted at /content/drive; to attempt to forcibly remount, call drive.mount(\"/content/drive\", force_remount=True).\n"
     ]
    }
   ],
   "source": [
    "from google.colab import drive\n",
    "drive.mount('/content/drive')\n",
    "root = \"drive/MyDrive/CMP/\""
   ]
  },
  {
   "cell_type": "markdown",
   "metadata": {
    "id": "JkZNSCKYq15J",
    "tags": []
   },
   "source": [
    "## Local"
   ]
  },
  {
   "cell_type": "code",
   "execution_count": 1,
   "metadata": {},
   "outputs": [],
   "source": [
    "root = './'"
   ]
  },
  {
   "cell_type": "markdown",
   "metadata": {
    "id": "lacOS41nHDgz",
    "tags": []
   },
   "source": [
    "## Import Packages"
   ]
  },
  {
   "cell_type": "code",
   "execution_count": 2,
   "metadata": {
    "executionInfo": {
     "elapsed": 8,
     "status": "ok",
     "timestamp": 1661848030094,
     "user": {
      "displayName": "Mahvash Siavashpour",
      "userId": "18425997334276185054"
     },
     "user_tz": -270
    },
    "id": "vOL87AhDoCrQ"
   },
   "outputs": [],
   "source": [
    "import numpy as np\n",
    "import pandas as pd\n",
    "import pickle\n",
    "import seaborn as sns\n",
    "import matplotlib.pyplot as plt\n",
    "import seaborn as sns\n",
    "import tensorflow as tf\n",
    "from tensorflow import keras\n",
    "from tensorflow.keras import layers\n",
    "from sklearn.model_selection import KFold\n",
    "from tensorflow.keras.utils import plot_model\n",
    "from sklearn import metrics"
   ]
  },
  {
   "cell_type": "code",
   "execution_count": 3,
   "metadata": {},
   "outputs": [],
   "source": [
    "sns.set_theme(style=\"whitegrid\")\n",
    "plt.rcParams[\"font.family\"] = \"serif\"\n",
    "plt.rcParams[\"font.serif\"] = [\"Times New Roman\"] + plt.rcParams[\"font.serif\"]\n",
    "plt.rcParams['pdf.fonttype'] = 42\n",
    "plt.rcParams['pdf.use14corefonts'] = True"
   ]
  },
  {
   "cell_type": "markdown",
   "metadata": {
    "id": "-dz6tNDJucOf",
    "tags": []
   },
   "source": [
    "## Data Preparation"
   ]
  },
  {
   "cell_type": "markdown",
   "metadata": {
    "id": "p__Ykfy_q15M"
   },
   "source": [
    "#### Load SUBTLEX data"
   ]
  },
  {
   "cell_type": "code",
   "execution_count": 4,
   "metadata": {
    "colab": {
     "base_uri": "https://localhost:8080/",
     "height": 206
    },
    "executionInfo": {
     "elapsed": 16664,
     "status": "ok",
     "timestamp": 1661848046751,
     "user": {
      "displayName": "Mahvash Siavashpour",
      "userId": "18425997334276185054"
     },
     "user_tz": -270
    },
    "id": "bztuN_k1q15M",
    "outputId": "16c39ec4-6709-4c19-cfab-456569153321"
   },
   "outputs": [
    {
     "data": {
      "text/html": [
       "<div>\n",
       "<style scoped>\n",
       "    .dataframe tbody tr th:only-of-type {\n",
       "        vertical-align: middle;\n",
       "    }\n",
       "\n",
       "    .dataframe tbody tr th {\n",
       "        vertical-align: top;\n",
       "    }\n",
       "\n",
       "    .dataframe thead th {\n",
       "        text-align: right;\n",
       "    }\n",
       "</style>\n",
       "<table border=\"1\" class=\"dataframe\">\n",
       "  <thead>\n",
       "    <tr style=\"text-align: right;\">\n",
       "      <th></th>\n",
       "      <th>string</th>\n",
       "      <th>zipf</th>\n",
       "    </tr>\n",
       "  </thead>\n",
       "  <tbody>\n",
       "    <tr>\n",
       "      <th>0</th>\n",
       "      <td>a</td>\n",
       "      <td>7.309360</td>\n",
       "    </tr>\n",
       "    <tr>\n",
       "      <th>1</th>\n",
       "      <td>aa</td>\n",
       "      <td>3.236317</td>\n",
       "    </tr>\n",
       "    <tr>\n",
       "      <th>2</th>\n",
       "      <td>aaa</td>\n",
       "      <td>2.706807</td>\n",
       "    </tr>\n",
       "    <tr>\n",
       "      <th>3</th>\n",
       "      <td>aah</td>\n",
       "      <td>4.721425</td>\n",
       "    </tr>\n",
       "    <tr>\n",
       "      <th>4</th>\n",
       "      <td>aahed</td>\n",
       "      <td>1.592864</td>\n",
       "    </tr>\n",
       "  </tbody>\n",
       "</table>\n",
       "</div>"
      ],
      "text/plain": [
       "  string      zipf\n",
       "0      a  7.309360\n",
       "1     aa  3.236317\n",
       "2    aaa  2.706807\n",
       "3    aah  4.721425\n",
       "4  aahed  1.592864"
      ]
     },
     "execution_count": 4,
     "metadata": {},
     "output_type": "execute_result"
    }
   ],
   "source": [
    "# Loading subtlex data\n",
    "SUBTLEX_df = pd.read_excel(root+'Datasets/SUBTLEX_Zipf.xlsx')\n",
    "\n",
    "# renaming columns for latter merge use and dropping unneccery columns\n",
    "SUBTLEX_df.rename(columns={'Word':'string', 'Zipf-value': 'zipf'}, inplace=True)\n",
    "SUBTLEX_df.drop(SUBTLEX_df.columns[1:-1], axis=1, inplace=True)\n",
    "SUBTLEX_df.head()"
   ]
  },
  {
   "cell_type": "code",
   "execution_count": 5,
   "metadata": {
    "colab": {
     "base_uri": "https://localhost:8080/"
    },
    "executionInfo": {
     "elapsed": 334,
     "status": "ok",
     "timestamp": 1661848058077,
     "user": {
      "displayName": "Mahvash Siavashpour",
      "userId": "18425997334276185054"
     },
     "user_tz": -270
    },
    "id": "mL8vqyU-q15N",
    "outputId": "43961eb4-c822-4721-e284-29edef12991e"
   },
   "outputs": [
    {
     "data": {
      "text/plain": [
       "count    74286.000000\n",
       "mean         2.479172\n",
       "std          0.835829\n",
       "min          1.592864\n",
       "25%          1.768955\n",
       "50%          2.291834\n",
       "75%          2.954592\n",
       "max          7.621174\n",
       "Name: zipf, dtype: float64"
      ]
     },
     "execution_count": 5,
     "metadata": {},
     "output_type": "execute_result"
    }
   ],
   "source": [
    "SUBTLEX_df['zipf'].describe()"
   ]
  },
  {
   "cell_type": "code",
   "execution_count": 6,
   "metadata": {
    "executionInfo": {
     "elapsed": 3,
     "status": "ok",
     "timestamp": 1661848059065,
     "user": {
      "displayName": "Mahvash Siavashpour",
      "userId": "18425997334276185054"
     },
     "user_tz": -270
    },
    "id": "vDujDcOeB8sB"
   },
   "outputs": [],
   "source": [
    "def categorise_by_zipf(row):\n",
    "    \"\"\"\n",
    "    categorizing data string as High frequency word (HF),\n",
    "    Low frequency word (LF) and non-word (NW) by zipf value\n",
    "\n",
    "    Parameters\n",
    "    ----------\n",
    "        row: pandas series\n",
    "            pandas dataframe's row containing label and zipf column\n",
    "    \n",
    "    Returns:\n",
    "        category (str): HF, LF, NW\n",
    "    \"\"\"\n",
    "    category = ''\n",
    "    if row['label'] == 0:\n",
    "        category = 'NW'\n",
    "    elif row['label'] == 1 and row['zipf'] > 3:\n",
    "        category = 'HF'\n",
    "    else:\n",
    "        category = 'LF'\n",
    "    return category"
   ]
  },
  {
   "cell_type": "markdown",
   "metadata": {
    "id": "FeEvyWuKq15P"
   },
   "source": [
    "#### Load ELP data and Merge with Subtlex data"
   ]
  },
  {
   "cell_type": "markdown",
   "metadata": {
    "id": "BDKdBSniq15P"
   },
   "source": [
    "Reading **words** and **non-words** FastText represention"
   ]
  },
  {
   "cell_type": "code",
   "execution_count": 7,
   "metadata": {
    "executionInfo": {
     "elapsed": 3193,
     "status": "ok",
     "timestamp": 1661848166056,
     "user": {
      "displayName": "Mahvash Siavashpour",
      "userId": "18425997334276185054"
     },
     "user_tz": -270
    },
    "id": "t0fDCWmcseFM"
   },
   "outputs": [],
   "source": [
    "with open(root+'Datasets/FastText_V3/words_2M.pkl', 'rb') as f:\n",
    "  words = pickle.load(f)\n",
    "\n",
    "with open(root+'Datasets/FastText_V3/nonwords_2M.pkl', 'rb') as f:\n",
    "  nonwords = pickle.load(f)"
   ]
  },
  {
   "cell_type": "markdown",
   "metadata": {
    "id": "dVIUY0_Wq15P"
   },
   "source": [
    "Adding appropriate encodings for extra information for both words and non-words"
   ]
  },
  {
   "cell_type": "code",
   "execution_count": 8,
   "metadata": {
    "executionInfo": {
     "elapsed": 346,
     "status": "ok",
     "timestamp": 1661848169715,
     "user": {
      "displayName": "Mahvash Siavashpour",
      "userId": "18425997334276185054"
     },
     "user_tz": -270
    },
    "id": "KnkAOS_KqQTq"
   },
   "outputs": [],
   "source": [
    "for w in words:\n",
    "    w.insert(3, [1, 0])\n",
    "    w.insert(4, 1)\n",
    "\n",
    "for nw in nonwords:\n",
    "    nw.insert(1, 0)\n",
    "    nw.insert(3, [0, 1])\n",
    "    nw.insert(4, 0)"
   ]
  },
  {
   "cell_type": "markdown",
   "metadata": {
    "id": "aWv1tnE1q15Q"
   },
   "source": [
    "Loading elp data and merging them with subtlex data"
   ]
  },
  {
   "cell_type": "code",
   "execution_count": 9,
   "metadata": {
    "executionInfo": {
     "elapsed": 1580,
     "status": "ok",
     "timestamp": 1661848173135,
     "user": {
      "displayName": "Mahvash Siavashpour",
      "userId": "18425997334276185054"
     },
     "user_tz": -270
    },
    "id": "c2Hrh-MYq15Q"
   },
   "outputs": [],
   "source": [
    "# loading elp words and non-words as seprate dataframes\n",
    "elp_words = pd.DataFrame(words, columns =['string', 'freq', 'represention', 'code', 'label'])\n",
    "elp_nonwords = pd.DataFrame(nonwords, columns =['string', 'freq', 'represention', 'code', 'label'])\n",
    "\n",
    "# mergeing elp words with subtlex words to get zipf for each elp words\n",
    "# elp words that does not have zipf will be droped\n",
    "elp_words = pd.merge(elp_words, SUBTLEX_df, on='string', how='left').dropna()\n",
    "elp_df = pd.concat([elp_words, elp_nonwords])\n",
    "\n",
    "# \n",
    "elp_df.fillna(0, inplace=True)\n",
    "elp_df['category'] = elp_df.apply(lambda row: categorise_by_zipf(row), axis=1)\n",
    "elp_df.drop_duplicates(subset=['string'], inplace=True)"
   ]
  },
  {
   "cell_type": "code",
   "execution_count": 10,
   "metadata": {
    "colab": {
     "base_uri": "https://localhost:8080/",
     "height": 206
    },
    "executionInfo": {
     "elapsed": 470,
     "status": "ok",
     "timestamp": 1661848175014,
     "user": {
      "displayName": "Mahvash Siavashpour",
      "userId": "18425997334276185054"
     },
     "user_tz": -270
    },
    "id": "Rpo-YDwQ6XAs",
    "outputId": "522cc271-1dd4-4450-c0af-5df6e8149ea8"
   },
   "outputs": [
    {
     "data": {
      "text/html": [
       "<div>\n",
       "<style scoped>\n",
       "    .dataframe tbody tr th:only-of-type {\n",
       "        vertical-align: middle;\n",
       "    }\n",
       "\n",
       "    .dataframe tbody tr th {\n",
       "        vertical-align: top;\n",
       "    }\n",
       "\n",
       "    .dataframe thead th {\n",
       "        text-align: right;\n",
       "    }\n",
       "</style>\n",
       "<table border=\"1\" class=\"dataframe\">\n",
       "  <thead>\n",
       "    <tr style=\"text-align: right;\">\n",
       "      <th></th>\n",
       "      <th>string</th>\n",
       "      <th>freq</th>\n",
       "      <th>represention</th>\n",
       "      <th>code</th>\n",
       "      <th>label</th>\n",
       "      <th>zipf</th>\n",
       "      <th>category</th>\n",
       "    </tr>\n",
       "  </thead>\n",
       "  <tbody>\n",
       "    <tr>\n",
       "      <th>31655</th>\n",
       "      <td>drarp</td>\n",
       "      <td>0</td>\n",
       "      <td>[0.0056046653, -0.03904152, 0.0962766, -0.0189...</td>\n",
       "      <td>[0, 1]</td>\n",
       "      <td>0</td>\n",
       "      <td>0.000000</td>\n",
       "      <td>NW</td>\n",
       "    </tr>\n",
       "    <tr>\n",
       "      <th>20181</th>\n",
       "      <td>laud</td>\n",
       "      <td>182</td>\n",
       "      <td>[-0.03880533, -0.025210258, 0.033606544, 0.004...</td>\n",
       "      <td>[1, 0]</td>\n",
       "      <td>1</td>\n",
       "      <td>2.136932</td>\n",
       "      <td>LF</td>\n",
       "    </tr>\n",
       "    <tr>\n",
       "      <th>8879</th>\n",
       "      <td>decremont</td>\n",
       "      <td>0</td>\n",
       "      <td>[-0.0037196581, -0.017575653, 0.077116154, -0....</td>\n",
       "      <td>[0, 1]</td>\n",
       "      <td>0</td>\n",
       "      <td>0.000000</td>\n",
       "      <td>NW</td>\n",
       "    </tr>\n",
       "    <tr>\n",
       "      <th>15758</th>\n",
       "      <td>gugs</td>\n",
       "      <td>0</td>\n",
       "      <td>[-0.019789468, -0.024340855, -0.024286462, -0....</td>\n",
       "      <td>[0, 1]</td>\n",
       "      <td>0</td>\n",
       "      <td>0.000000</td>\n",
       "      <td>NW</td>\n",
       "    </tr>\n",
       "    <tr>\n",
       "      <th>37158</th>\n",
       "      <td>trickery</td>\n",
       "      <td>453</td>\n",
       "      <td>[-0.0048936857, 0.019064069, 0.025265787, -0.0...</td>\n",
       "      <td>[1, 0]</td>\n",
       "      <td>1</td>\n",
       "      <td>2.882899</td>\n",
       "      <td>LF</td>\n",
       "    </tr>\n",
       "  </tbody>\n",
       "</table>\n",
       "</div>"
      ],
      "text/plain": [
       "          string freq                                       represention  \\\n",
       "31655      drarp    0  [0.0056046653, -0.03904152, 0.0962766, -0.0189...   \n",
       "20181       laud  182  [-0.03880533, -0.025210258, 0.033606544, 0.004...   \n",
       "8879   decremont    0  [-0.0037196581, -0.017575653, 0.077116154, -0....   \n",
       "15758       gugs    0  [-0.019789468, -0.024340855, -0.024286462, -0....   \n",
       "37158   trickery  453  [-0.0048936857, 0.019064069, 0.025265787, -0.0...   \n",
       "\n",
       "         code  label      zipf category  \n",
       "31655  [0, 1]      0  0.000000       NW  \n",
       "20181  [1, 0]      1  2.136932       LF  \n",
       "8879   [0, 1]      0  0.000000       NW  \n",
       "15758  [0, 1]      0  0.000000       NW  \n",
       "37158  [1, 0]      1  2.882899       LF  "
      ]
     },
     "execution_count": 10,
     "metadata": {},
     "output_type": "execute_result"
    }
   ],
   "source": [
    "elp_df = elp_df.sample(frac=1.0)\n",
    "elp_df.head()"
   ]
  },
  {
   "cell_type": "markdown",
   "metadata": {
    "id": "sQOZT435Ww6G"
   },
   "source": [
    "## Nueral Network"
   ]
  },
  {
   "cell_type": "code",
   "execution_count": 15,
   "metadata": {
    "colab": {
     "base_uri": "https://localhost:8080/",
     "height": 1000
    },
    "executionInfo": {
     "elapsed": 9,
     "status": "ok",
     "timestamp": 1661848252976,
     "user": {
      "displayName": "Mahvash Siavashpour",
      "userId": "18425997334276185054"
     },
     "user_tz": -270
    },
    "id": "1Zq5pZILMCZp",
    "outputId": "cf9736ff-8ae0-455a-ea3c-5404bbb063ba"
   },
   "outputs": [
    {
     "name": "stdout",
     "output_type": "stream",
     "text": [
      "Model: \"sequential_1\"\n",
      "_________________________________________________________________\n",
      " Layer (type)                Output Shape              Param #   \n",
      "=================================================================\n",
      " dense1 (Dense)              (None, 300)               90300     \n",
      "                                                                 \n",
      " dense2 (Dense)              (None, 300)               90300     \n",
      "                                                                 \n",
      " dropout_2 (Dropout)         (None, 300)               0         \n",
      "                                                                 \n",
      " dense3 (Dense)              (None, 100)               30100     \n",
      "                                                                 \n",
      " dense4 (Dense)              (None, 50)                5050      \n",
      "                                                                 \n",
      " dropout_3 (Dropout)         (None, 50)                0         \n",
      "                                                                 \n",
      " dense5 (Dense)              (None, 10)                510       \n",
      "                                                                 \n",
      " clf (Dense)                 (None, 2)                 22        \n",
      "                                                                 \n",
      "=================================================================\n",
      "Total params: 216,282\n",
      "Trainable params: 216,282\n",
      "Non-trainable params: 0\n",
      "_________________________________________________________________\n"
     ]
    },
    {
     "data": {
      "image/png": "[encoded data removed]",
      "text/plain": [
       "<IPython.core.display.Image object>"
      ]
     },
     "execution_count": 15,
     "metadata": {},
     "output_type": "execute_result"
    }
   ],
   "source": [
    "# Sequential Model\n",
    "model = tf.keras.models.Sequential()\n",
    "model.add(tf.keras.layers.Input(shape=(300,)))\n",
    "model.add(layers.Dense(300, activation=\"relu\", name=\"dense1\"))\n",
    "model.add(layers.Dense(300, activation=\"relu\", name=\"dense2\"))\n",
    "model.add(layers.Dropout(0.5))\n",
    "model.add(layers.Dense(100, activation=\"relu\", name=\"dense3\"))\n",
    "model.add(layers.Dense(50, activation=\"relu\", name=\"dense4\"))\n",
    "model.add(layers.Dropout(0.25))\n",
    "model.add(layers.Dense(10, activation=\"relu\", name=\"dense5\"))\n",
    "model.add(layers.Dense(2, activation='softmax', name='clf'))\n",
    "\n",
    "opt = tf.keras.optimizers.Adam()\n",
    "model.compile(optimizer=opt,\n",
    "              loss=tf.keras.losses.categorical_crossentropy,\n",
    "              metrics=['accuracy'])\n",
    "\n",
    "model.summary()\n",
    "plot_model(model, to_file=root+'/Plots/Classification/fully_connected_model.png', show_shapes=True)"
   ]
  },
  {
   "cell_type": "code",
   "execution_count": 16,
   "metadata": {
    "executionInfo": {
     "elapsed": 6,
     "status": "ok",
     "timestamp": 1661848255703,
     "user": {
      "displayName": "Mahvash Siavashpour",
      "userId": "18425997334276185054"
     },
     "user_tz": -270
    },
    "id": "HWmqHZc4lg87"
   },
   "outputs": [],
   "source": [
    "# Define per-fold score containers\n",
    "acc_per_fold = []\n",
    "loss_per_fold = []\n",
    "\n",
    "# K-fold Cross Validation model evaluation\n",
    "fold_no = 1\n",
    "kf = KFold(n_splits=5, shuffle=True)"
   ]
  },
  {
   "cell_type": "code",
   "execution_count": 17,
   "metadata": {
    "executionInfo": {
     "elapsed": 335,
     "status": "ok",
     "timestamp": 1661848258075,
     "user": {
      "displayName": "Mahvash Siavashpour",
      "userId": "18425997334276185054"
     },
     "user_tz": -270
    },
    "id": "mX95OIujq15S"
   },
   "outputs": [],
   "source": [
    "checkpoint_filepath = root + '/check_points/fully_connected/FT_Model'\n",
    "\n",
    "callbacks_list = [\n",
    "        tf.keras.callbacks.EarlyStopping(\n",
    "            monitor='val_loss',\n",
    "            patience=5,\n",
    "            restore_best_weights=True\n",
    "        ),\n",
    "        tf.keras.callbacks.ModelCheckpoint(\n",
    "            filepath=checkpoint_filepath,\n",
    "            save_weights_only=True,\n",
    "            monitor='val_accuracy',\n",
    "            mode='max',\n",
    "            save_best_only=True\n",
    "        )\n",
    "]"
   ]
  },
  {
   "cell_type": "code",
   "execution_count": 18,
   "metadata": {
    "colab": {
     "base_uri": "https://localhost:8080/"
    },
    "executionInfo": {
     "elapsed": 168419,
     "status": "ok",
     "timestamp": 1661848427685,
     "user": {
      "displayName": "Mahvash Siavashpour",
      "userId": "18425997334276185054"
     },
     "user_tz": -270
    },
    "id": "1lNutug_kcxs",
    "outputId": "cd3ec16f-dc03-46ad-e1f9-a6968ca5db45"
   },
   "outputs": [
    {
     "name": "stdout",
     "output_type": "stream",
     "text": [
      "------------------------------------------------------------------------\n",
      "Training for fold 1 ...\n",
      "Epoch 1/20\n",
      "1487/1487 [==============================] - 10s 6ms/step - loss: 0.0538 - accuracy: 0.9824 - val_loss: 0.0268 - val_accuracy: 0.9913\n",
      "Epoch 2/20\n",
      "1487/1487 [==============================] - 9s 6ms/step - loss: 0.0240 - accuracy: 0.9934 - val_loss: 0.0231 - val_accuracy: 0.9929\n",
      "Epoch 3/20\n",
      "1487/1487 [==============================] - 11s 7ms/step - loss: 0.0172 - accuracy: 0.9950 - val_loss: 0.0234 - val_accuracy: 0.9925\n",
      "Epoch 4/20\n",
      "1487/1487 [==============================] - 13s 8ms/step - loss: 0.0122 - accuracy: 0.9967 - val_loss: 0.0223 - val_accuracy: 0.9940\n",
      "Epoch 5/20\n",
      "1487/1487 [==============================] - 13s 9ms/step - loss: 0.0090 - accuracy: 0.9974 - val_loss: 0.0315 - val_accuracy: 0.9934\n",
      "Epoch 6/20\n",
      "1487/1487 [==============================] - 13s 9ms/step - loss: 0.0063 - accuracy: 0.9983 - val_loss: 0.0462 - val_accuracy: 0.9934\n",
      "Epoch 7/20\n",
      "1487/1487 [==============================] - 12s 8ms/step - loss: 0.0067 - accuracy: 0.9983 - val_loss: 0.0320 - val_accuracy: 0.9926\n",
      "Epoch 8/20\n",
      "1487/1487 [==============================] - 12s 8ms/step - loss: 0.0050 - accuracy: 0.9988 - val_loss: 0.0458 - val_accuracy: 0.9934\n",
      "Epoch 9/20\n",
      "1487/1487 [==============================] - 15s 10ms/step - loss: 0.0047 - accuracy: 0.9988 - val_loss: 0.0445 - val_accuracy: 0.9934\n",
      "\n",
      "Score for fold 1: loss of 0.03286861255764961; accuracy of 99.24650192260742%\n",
      "------------------------------------------------------------------------\n",
      "Training for fold 2 ...\n",
      "Epoch 1/20\n",
      "1487/1487 [==============================] - 14s 9ms/step - loss: 0.0172 - accuracy: 0.9958 - val_loss: 0.0272 - val_accuracy: 0.9922\n",
      "Epoch 2/20\n",
      "1487/1487 [==============================] - 14s 9ms/step - loss: 0.0094 - accuracy: 0.9980 - val_loss: 0.0305 - val_accuracy: 0.9930\n",
      "Epoch 3/20\n",
      "1487/1487 [==============================] - 14s 9ms/step - loss: 0.0072 - accuracy: 0.9983 - val_loss: 0.0341 - val_accuracy: 0.9934\n",
      "Epoch 4/20\n",
      "1487/1487 [==============================] - 15s 10ms/step - loss: 0.0057 - accuracy: 0.9987 - val_loss: 0.0385 - val_accuracy: 0.9932\n",
      "Epoch 5/20\n",
      "1487/1487 [==============================] - 14s 10ms/step - loss: 0.0060 - accuracy: 0.9987 - val_loss: 0.0480 - val_accuracy: 0.9930\n",
      "Epoch 6/20\n",
      "1487/1487 [==============================] - 14s 10ms/step - loss: 0.0049 - accuracy: 0.9990 - val_loss: 0.0625 - val_accuracy: 0.9935\n",
      "\n",
      "Score for fold 2: loss of 0.014223285019397736; accuracy of 99.55597519874573%\n",
      "------------------------------------------------------------------------\n",
      "Training for fold 3 ...\n",
      "Epoch 1/20\n",
      "1487/1487 [==============================] - 15s 10ms/step - loss: 0.0126 - accuracy: 0.9970 - val_loss: 0.0269 - val_accuracy: 0.9943\n",
      "Epoch 2/20\n",
      "1487/1487 [==============================] - 15s 10ms/step - loss: 0.0083 - accuracy: 0.9979 - val_loss: 0.0334 - val_accuracy: 0.9942\n",
      "Epoch 3/20\n",
      "1487/1487 [==============================] - 14s 9ms/step - loss: 0.0063 - accuracy: 0.9985 - val_loss: 0.0354 - val_accuracy: 0.9939\n",
      "Epoch 4/20\n",
      "1487/1487 [==============================] - 14s 9ms/step - loss: 0.0056 - accuracy: 0.9989 - val_loss: 0.0310 - val_accuracy: 0.9935\n",
      "Epoch 5/20\n",
      "1487/1487 [==============================] - 14s 9ms/step - loss: 0.0054 - accuracy: 0.9987 - val_loss: 0.0311 - val_accuracy: 0.9935\n",
      "Epoch 6/20\n",
      "1487/1487 [==============================] - 14s 9ms/step - loss: 0.0059 - accuracy: 0.9984 - val_loss: 0.0300 - val_accuracy: 0.9937\n",
      "\n",
      "Score for fold 3: loss of 0.012302516028285027; accuracy of 99.69723224639893%\n",
      "------------------------------------------------------------------------\n",
      "Training for fold 4 ...\n",
      "Epoch 1/20\n",
      "1487/1487 [==============================] - 15s 10ms/step - loss: 0.0088 - accuracy: 0.9976 - val_loss: 0.0459 - val_accuracy: 0.9923\n",
      "Epoch 2/20\n",
      "1487/1487 [==============================] - 15s 10ms/step - loss: 0.0061 - accuracy: 0.9987 - val_loss: 0.0465 - val_accuracy: 0.9925\n",
      "Epoch 3/20\n",
      "1487/1487 [==============================] - 15s 10ms/step - loss: 0.0061 - accuracy: 0.9986 - val_loss: 0.0383 - val_accuracy: 0.9917\n",
      "Epoch 4/20\n",
      "1487/1487 [==============================] - 15s 10ms/step - loss: 0.0048 - accuracy: 0.9989 - val_loss: 0.0571 - val_accuracy: 0.9927\n",
      "Epoch 5/20\n",
      "1487/1487 [==============================] - 15s 10ms/step - loss: 0.0050 - accuracy: 0.9987 - val_loss: 0.0468 - val_accuracy: 0.9926\n",
      "Epoch 6/20\n",
      "1487/1487 [==============================] - 16s 11ms/step - loss: 0.0040 - accuracy: 0.9992 - val_loss: 0.0505 - val_accuracy: 0.9931\n",
      "Epoch 7/20\n",
      "1487/1487 [==============================] - 15s 10ms/step - loss: 0.0050 - accuracy: 0.9990 - val_loss: 0.0656 - val_accuracy: 0.9923\n",
      "Epoch 8/20\n",
      "1487/1487 [==============================] - 15s 10ms/step - loss: 0.0038 - accuracy: 0.9991 - val_loss: 0.0596 - val_accuracy: 0.9917\n",
      "\n",
      "Score for fold 4: loss of 0.010176735930144787; accuracy of 99.71742033958435%\n",
      "------------------------------------------------------------------------\n",
      "Training for fold 5 ...\n",
      "Epoch 1/20\n",
      "1487/1487 [==============================] - 16s 11ms/step - loss: 0.0076 - accuracy: 0.9984 - val_loss: 0.0492 - val_accuracy: 0.9932\n",
      "Epoch 2/20\n",
      "1487/1487 [==============================] - 15s 10ms/step - loss: 0.0065 - accuracy: 0.9983 - val_loss: 0.0478 - val_accuracy: 0.9924\n",
      "Epoch 3/20\n",
      "1487/1487 [==============================] - 15s 10ms/step - loss: 0.0050 - accuracy: 0.9989 - val_loss: 0.0446 - val_accuracy: 0.9924\n",
      "Epoch 4/20\n",
      "1487/1487 [==============================] - 15s 10ms/step - loss: 0.0049 - accuracy: 0.9990 - val_loss: 0.0559 - val_accuracy: 0.9930\n",
      "Epoch 5/20\n",
      "1487/1487 [==============================] - 14s 10ms/step - loss: 0.0047 - accuracy: 0.9990 - val_loss: 0.0533 - val_accuracy: 0.9938\n",
      "Epoch 6/20\n",
      "1487/1487 [==============================] - 15s 10ms/step - loss: 0.0029 - accuracy: 0.9994 - val_loss: 0.0445 - val_accuracy: 0.9916\n",
      "Epoch 7/20\n",
      "1487/1487 [==============================] - 15s 10ms/step - loss: 0.0042 - accuracy: 0.9989 - val_loss: 0.0506 - val_accuracy: 0.9929\n",
      "Epoch 8/20\n",
      "1487/1487 [==============================] - 16s 11ms/step - loss: 0.0033 - accuracy: 0.9992 - val_loss: 0.0375 - val_accuracy: 0.9921\n",
      "Epoch 9/20\n",
      "1487/1487 [==============================] - 16s 11ms/step - loss: 0.0031 - accuracy: 0.9993 - val_loss: 0.0650 - val_accuracy: 0.9928\n",
      "Epoch 10/20\n",
      "1487/1487 [==============================] - 15s 10ms/step - loss: 0.0022 - accuracy: 0.9995 - val_loss: 0.0678 - val_accuracy: 0.9936\n",
      "Epoch 11/20\n",
      "1487/1487 [==============================] - 15s 10ms/step - loss: 0.0023 - accuracy: 0.9994 - val_loss: 0.0742 - val_accuracy: 0.9939\n",
      "Epoch 12/20\n",
      "1487/1487 [==============================] - 15s 10ms/step - loss: 0.0026 - accuracy: 0.9994 - val_loss: 0.1243 - val_accuracy: 0.9926\n",
      "Epoch 13/20\n",
      "1487/1487 [==============================] - 15s 10ms/step - loss: 0.0021 - accuracy: 0.9995 - val_loss: 0.0710 - val_accuracy: 0.9927\n",
      "\n",
      "Score for fold 5: loss of 0.017007002606987953; accuracy of 99.57612752914429%\n"
     ]
    }
   ],
   "source": [
    "for train_index, test_index in kf.split(elp_df['code']):\n",
    "    print('------------------------------------------------------------------------')\n",
    "    print(f'Training for fold {fold_no} ...')\n",
    "\n",
    "    # Fit data to model\n",
    "    history = model.fit(\n",
    "        x = np.array(list(elp_df['represention']))[train_index],\n",
    "        y = np.array(list(elp_df['code']))[train_index],\n",
    "        validation_split=0.2,\n",
    "        callbacks = callbacks_list,\n",
    "        epochs=20)\n",
    "  \n",
    "    # Generate generalization metrics\n",
    "    print()\n",
    "    scores = model.evaluate(np.array(list(elp_df['represention']))[test_index], np.array(list(elp_df['code']))[test_index], verbose=0)\n",
    "    print(f'Score for fold {fold_no}: {model.metrics_names[0]} of {scores[0]}; {model.metrics_names[1]} of {scores[1]*100}%')\n",
    "    acc_per_fold.append(scores[1] * 100)\n",
    "    loss_per_fold.append(scores[0])\n",
    "\n",
    "    # Increase fold number\n",
    "    fold_no = fold_no + 1"
   ]
  },
  {
   "cell_type": "code",
   "execution_count": 19,
   "metadata": {
    "colab": {
     "base_uri": "https://localhost:8080/"
    },
    "executionInfo": {
     "elapsed": 358,
     "status": "ok",
     "timestamp": 1661848433636,
     "user": {
      "displayName": "Mahvash Siavashpour",
      "userId": "18425997334276185054"
     },
     "user_tz": -270
    },
    "id": "ngUZWJTGqQTt",
    "outputId": "262aa01b-1d58-47ee-8ae8-463936e5de67"
   },
   "outputs": [
    {
     "name": "stdout",
     "output_type": "stream",
     "text": [
      "------------------------------------------------------------------------\n",
      "Score per fold\n",
      "------------------------------------------------------------------------\n",
      "> Fold 1 - Loss: 0.03286861255764961 - Accuracy: 99.24650192260742%\n",
      "------------------------------------------------------------------------\n",
      "> Fold 2 - Loss: 0.014223285019397736 - Accuracy: 99.55597519874573%\n",
      "------------------------------------------------------------------------\n",
      "> Fold 3 - Loss: 0.012302516028285027 - Accuracy: 99.69723224639893%\n",
      "------------------------------------------------------------------------\n",
      "> Fold 4 - Loss: 0.010176735930144787 - Accuracy: 99.71742033958435%\n",
      "------------------------------------------------------------------------\n",
      "> Fold 5 - Loss: 0.017007002606987953 - Accuracy: 99.57612752914429%\n",
      "------------------------------------------------------------------------\n",
      "Average scores for all folds:\n",
      "> Accuracy: 99.55865144729614 (+- 0.16861915700468405)\n",
      "> Loss: 0.017315630428493024\n",
      "------------------------------------------------------------------------\n"
     ]
    }
   ],
   "source": [
    "# == Provide average scores ==\n",
    "print('------------------------------------------------------------------------')\n",
    "print('Score per fold')\n",
    "for i in range(0, len(acc_per_fold)):\n",
    "  print('------------------------------------------------------------------------')\n",
    "  print(f'> Fold {i+1} - Loss: {loss_per_fold[i]} - Accuracy: {acc_per_fold[i]}%')\n",
    "print('------------------------------------------------------------------------')\n",
    "print('Average scores for all folds:')\n",
    "print(f'> Accuracy: {np.mean(acc_per_fold)} (+- {np.std(acc_per_fold)})')\n",
    "print(f'> Loss: {np.mean(loss_per_fold)}')\n",
    "print('------------------------------------------------------------------------')"
   ]
  },
  {
   "cell_type": "code",
   "execution_count": 20,
   "metadata": {
    "colab": {
     "base_uri": "https://localhost:8080/"
    },
    "executionInfo": {
     "elapsed": 2,
     "status": "ok",
     "timestamp": 1661848434030,
     "user": {
      "displayName": "Mahvash Siavashpour",
      "userId": "18425997334276185054"
     },
     "user_tz": -270
    },
    "id": "jbVkp8yjqQTu",
    "outputId": "d8db3a12-7dda-48b8-dd3c-2f30fa478db0"
   },
   "outputs": [
    {
     "data": {
      "text/plain": [
       "<tensorflow.python.training.tracking.util.CheckpointLoadStatus at 0x2e9b78f4970>"
      ]
     },
     "execution_count": 20,
     "metadata": {},
     "output_type": "execute_result"
    }
   ],
   "source": [
    "# Load the best model weights.\n",
    "model.load_weights(checkpoint_filepath)"
   ]
  },
  {
   "cell_type": "markdown",
   "metadata": {
    "id": "Oy1FRAqGB8sO",
    "tags": []
   },
   "source": [
    "## Predicted Probabilities on full dataset\n"
   ]
  },
  {
   "cell_type": "code",
   "execution_count": 21,
   "metadata": {
    "executionInfo": {
     "elapsed": 2909,
     "status": "ok",
     "timestamp": 1661848440062,
     "user": {
      "displayName": "Mahvash Siavashpour",
      "userId": "18425997334276185054"
     },
     "user_tz": -270
    },
    "id": "_FCnDm48B8sO"
   },
   "outputs": [
    {
     "name": "stdout",
     "output_type": "stream",
     "text": [
      "2323/2323 [==============================] - 4s 2ms/step\n"
     ]
    }
   ],
   "source": [
    "full_dataset_predictions = model.predict(np.array(list(elp_df['represention'])))"
   ]
  },
  {
   "cell_type": "markdown",
   "metadata": {
    "id": "iX2uo-ZPq15U"
   },
   "source": [
    "#### Classification results"
   ]
  },
  {
   "cell_type": "code",
   "execution_count": 22,
   "metadata": {
    "colab": {
     "base_uri": "https://localhost:8080/"
    },
    "executionInfo": {
     "elapsed": 433,
     "status": "ok",
     "timestamp": 1661848440491,
     "user": {
      "displayName": "Mahvash Siavashpour",
      "userId": "18425997334276185054"
     },
     "user_tz": -270
    },
    "id": "YhN1ubS5uD7N",
    "outputId": "87c08c2a-6598-4fc8-f6d2-a417900a9f3a"
   },
   "outputs": [
    {
     "name": "stdout",
     "output_type": "stream",
     "text": [
      "              precision    recall  f1-score   support\n",
      "\n",
      "           0     0.9975    0.9978    0.9976     33978\n",
      "           1     0.9981    0.9979    0.9980     40339\n",
      "\n",
      "    accuracy                         0.9978     74317\n",
      "   macro avg     0.9978    0.9978    0.9978     74317\n",
      "weighted avg     0.9978    0.9978    0.9978     74317\n",
      "\n"
     ]
    }
   ],
   "source": [
    "print(metrics.classification_report(np.argmax(np.array(list(elp_df['code'])), axis=1), np.argmax(full_dataset_predictions, axis=1), digits=4))"
   ]
  },
  {
   "cell_type": "code",
   "execution_count": 23,
   "metadata": {
    "colab": {
     "base_uri": "https://localhost:8080/"
    },
    "executionInfo": {
     "elapsed": 12,
     "status": "ok",
     "timestamp": 1661848440492,
     "user": {
      "displayName": "Mahvash Siavashpour",
      "userId": "18425997334276185054"
     },
     "user_tz": -270
    },
    "id": "gpHNFXlkq15U",
    "outputId": "7b99aae5-f90b-4323-9d63-162097846511"
   },
   "outputs": [
    {
     "data": {
      "text/plain": [
       "0.997833604693408"
      ]
     },
     "execution_count": 23,
     "metadata": {},
     "output_type": "execute_result"
    }
   ],
   "source": [
    "acc_score = (metrics.accuracy_score(np.argmax(np.array(list(elp_df['code'])), axis=1),  np.argmax(full_dataset_predictions, axis=1)))\n",
    "acc_score"
   ]
  },
  {
   "cell_type": "markdown",
   "metadata": {
    "id": "Rpq2t2Xdq15U"
   },
   "source": [
    "#### Confusion Matrix"
   ]
  },
  {
   "cell_type": "code",
   "execution_count": 30,
   "metadata": {
    "colab": {
     "base_uri": "https://localhost:8080/",
     "height": 584
    },
    "executionInfo": {
     "elapsed": 502,
     "status": "ok",
     "timestamp": 1661848456155,
     "user": {
      "displayName": "Mahvash Siavashpour",
      "userId": "18425997334276185054"
     },
     "user_tz": -270
    },
    "id": "1kHYNPtvq15V",
    "outputId": "92746112-851d-49fd-cfbc-6acc60779f6d"
   },
   "outputs": [
    {
     "data": {
      "image/png": "[encoded data removed]",
      "text/plain": [
       "<Figure size 648x648 with 1 Axes>"
      ]
     },
     "metadata": {
      "needs_background": "light"
     },
     "output_type": "display_data"
    }
   ],
   "source": [
    "cm = metrics.confusion_matrix(np.argmax(np.array(list(elp_df['code'])), axis=1), np.argmax(full_dataset_predictions, axis=1))\n",
    "plt.figure(figsize=(9,9))\n",
    "hm = sns.heatmap(cm, annot=True, fmt=\".0f\", cbar=False, linewidths=.5, square = True, cmap = 'Blues_r',\n",
    "            annot_kws={\n",
    "                'fontsize': 16,\n",
    "                'fontweight': 'bold'\n",
    "            });\n",
    "hm.set_xticklabels(hm.get_xmajorticklabels(), fontsize = 14)\n",
    "hm.set_yticklabels(hm.get_ymajorticklabels(), fontsize = 14)\n",
    "hm.set_xlabel('Actual label', fontsize=18);\n",
    "hm.set_ylabel('Predicted label', fontsize=18);\n",
    "all_sample_title = 'Accuracy Score: {0}'.format(acc_score)\n",
    "plt.title(all_sample_title, size = 20);\n",
    "plt.savefig(root+'Plots/Classification/FC_full.pdf')"
   ]
  },
  {
   "cell_type": "markdown",
   "metadata": {
    "id": "VxLar-w1q15V"
   },
   "source": [
    "#### Pridected Probabilites for each words category and non-words"
   ]
  },
  {
   "cell_type": "code",
   "execution_count": 25,
   "metadata": {
    "executionInfo": {
     "elapsed": 557,
     "status": "ok",
     "timestamp": 1661848460843,
     "user": {
      "displayName": "Mahvash Siavashpour",
      "userId": "18425997334276185054"
     },
     "user_tz": -270
    },
    "id": "guNpoFvjB8sP"
   },
   "outputs": [],
   "source": [
    "elp_df['word_prob'] = full_dataset_predictions[:,0]\n",
    "elp_df['nword_prob'] = full_dataset_predictions[:,1]"
   ]
  },
  {
   "cell_type": "code",
   "execution_count": 26,
   "metadata": {
    "colab": {
     "base_uri": "https://localhost:8080/",
     "height": 206
    },
    "executionInfo": {
     "elapsed": 4,
     "status": "ok",
     "timestamp": 1661848461510,
     "user": {
      "displayName": "Mahvash Siavashpour",
      "userId": "18425997334276185054"
     },
     "user_tz": -270
    },
    "id": "gADp8COsFSGt",
    "outputId": "e50a2566-97d2-4174-b431-5c43802203f4"
   },
   "outputs": [
    {
     "data": {
      "text/html": [
       "<div>\n",
       "<style scoped>\n",
       "    .dataframe tbody tr th:only-of-type {\n",
       "        vertical-align: middle;\n",
       "    }\n",
       "\n",
       "    .dataframe tbody tr th {\n",
       "        vertical-align: top;\n",
       "    }\n",
       "\n",
       "    .dataframe thead tr th {\n",
       "        text-align: left;\n",
       "    }\n",
       "\n",
       "    .dataframe thead tr:last-of-type th {\n",
       "        text-align: right;\n",
       "    }\n",
       "</style>\n",
       "<table border=\"1\" class=\"dataframe\">\n",
       "  <thead>\n",
       "    <tr>\n",
       "      <th></th>\n",
       "      <th colspan=\"5\" halign=\"left\">word_prob</th>\n",
       "      <th colspan=\"5\" halign=\"left\">nword_prob</th>\n",
       "    </tr>\n",
       "    <tr>\n",
       "      <th></th>\n",
       "      <th>mean</th>\n",
       "      <th>std</th>\n",
       "      <th>count</th>\n",
       "      <th>max</th>\n",
       "      <th>min</th>\n",
       "      <th>mean</th>\n",
       "      <th>std</th>\n",
       "      <th>count</th>\n",
       "      <th>max</th>\n",
       "      <th>min</th>\n",
       "    </tr>\n",
       "    <tr>\n",
       "      <th>category</th>\n",
       "      <th></th>\n",
       "      <th></th>\n",
       "      <th></th>\n",
       "      <th></th>\n",
       "      <th></th>\n",
       "      <th></th>\n",
       "      <th></th>\n",
       "      <th></th>\n",
       "      <th></th>\n",
       "      <th></th>\n",
       "    </tr>\n",
       "  </thead>\n",
       "  <tbody>\n",
       "    <tr>\n",
       "      <th>HF</th>\n",
       "      <td>0.998779</td>\n",
       "      <td>0.024285</td>\n",
       "      <td>14333</td>\n",
       "      <td>1.0</td>\n",
       "      <td>5.191642e-02</td>\n",
       "      <td>0.001221</td>\n",
       "      <td>0.024285</td>\n",
       "      <td>14333</td>\n",
       "      <td>0.948084</td>\n",
       "      <td>0.000000e+00</td>\n",
       "    </tr>\n",
       "    <tr>\n",
       "      <th>LF</th>\n",
       "      <td>0.995593</td>\n",
       "      <td>0.052415</td>\n",
       "      <td>19645</td>\n",
       "      <td>1.0</td>\n",
       "      <td>1.093469e-04</td>\n",
       "      <td>0.004407</td>\n",
       "      <td>0.052415</td>\n",
       "      <td>19645</td>\n",
       "      <td>0.999891</td>\n",
       "      <td>2.547892e-19</td>\n",
       "    </tr>\n",
       "    <tr>\n",
       "      <th>NW</th>\n",
       "      <td>0.003679</td>\n",
       "      <td>0.043304</td>\n",
       "      <td>40339</td>\n",
       "      <td>1.0</td>\n",
       "      <td>1.115312e-24</td>\n",
       "      <td>0.996321</td>\n",
       "      <td>0.043304</td>\n",
       "      <td>40339</td>\n",
       "      <td>1.000000</td>\n",
       "      <td>1.950733e-07</td>\n",
       "    </tr>\n",
       "  </tbody>\n",
       "</table>\n",
       "</div>"
      ],
      "text/plain": [
       "         word_prob                                     nword_prob            \\\n",
       "              mean       std  count  max           min       mean       std   \n",
       "category                                                                      \n",
       "HF        0.998779  0.024285  14333  1.0  5.191642e-02   0.001221  0.024285   \n",
       "LF        0.995593  0.052415  19645  1.0  1.093469e-04   0.004407  0.052415   \n",
       "NW        0.003679  0.043304  40339  1.0  1.115312e-24   0.996321  0.043304   \n",
       "\n",
       "                                         \n",
       "          count       max           min  \n",
       "category                                 \n",
       "HF        14333  0.948084  0.000000e+00  \n",
       "LF        19645  0.999891  2.547892e-19  \n",
       "NW        40339  1.000000  1.950733e-07  "
      ]
     },
     "execution_count": 26,
     "metadata": {},
     "output_type": "execute_result"
    }
   ],
   "source": [
    "elp_df.groupby(['category']).agg({'word_prob': ['mean', 'std', 'count', 'max', 'min'], 'nword_prob': ['mean', 'std', 'count', 'max', 'min']})"
   ]
  },
  {
   "cell_type": "markdown",
   "metadata": {
    "id": "Nl8FDyjhq15W",
    "tags": []
   },
   "source": [
    "## Save Predicted Probabilities of full dataset\n"
   ]
  },
  {
   "cell_type": "code",
   "execution_count": 27,
   "metadata": {
    "executionInfo": {
     "elapsed": 386,
     "status": "ok",
     "timestamp": 1661848466430,
     "user": {
      "displayName": "Mahvash Siavashpour",
      "userId": "18425997334276185054"
     },
     "user_tz": -270
    },
    "id": "rHZBOiHZNyjd"
   },
   "outputs": [],
   "source": [
    "elp_df_to_save = elp_df.drop(['represention', 'code'], axis=1)"
   ]
  },
  {
   "cell_type": "code",
   "execution_count": 28,
   "metadata": {
    "colab": {
     "base_uri": "https://localhost:8080/",
     "height": 424
    },
    "executionInfo": {
     "elapsed": 12,
     "status": "ok",
     "timestamp": 1661848467882,
     "user": {
      "displayName": "Mahvash Siavashpour",
      "userId": "18425997334276185054"
     },
     "user_tz": -270
    },
    "id": "Itswdf3pq15W",
    "outputId": "b0794226-c3b9-472d-ff63-8755b2d068dc"
   },
   "outputs": [
    {
     "data": {
      "text/html": [
       "<div>\n",
       "<style scoped>\n",
       "    .dataframe tbody tr th:only-of-type {\n",
       "        vertical-align: middle;\n",
       "    }\n",
       "\n",
       "    .dataframe tbody tr th {\n",
       "        vertical-align: top;\n",
       "    }\n",
       "\n",
       "    .dataframe thead th {\n",
       "        text-align: right;\n",
       "    }\n",
       "</style>\n",
       "<table border=\"1\" class=\"dataframe\">\n",
       "  <thead>\n",
       "    <tr style=\"text-align: right;\">\n",
       "      <th></th>\n",
       "      <th>string</th>\n",
       "      <th>freq</th>\n",
       "      <th>label</th>\n",
       "      <th>zipf</th>\n",
       "      <th>category</th>\n",
       "      <th>word_prob</th>\n",
       "      <th>nword_prob</th>\n",
       "    </tr>\n",
       "  </thead>\n",
       "  <tbody>\n",
       "    <tr>\n",
       "      <th>31655</th>\n",
       "      <td>drarp</td>\n",
       "      <td>0</td>\n",
       "      <td>0</td>\n",
       "      <td>0.000000</td>\n",
       "      <td>NW</td>\n",
       "      <td>0.000025</td>\n",
       "      <td>9.999752e-01</td>\n",
       "    </tr>\n",
       "    <tr>\n",
       "      <th>20181</th>\n",
       "      <td>laud</td>\n",
       "      <td>182</td>\n",
       "      <td>1</td>\n",
       "      <td>2.136932</td>\n",
       "      <td>LF</td>\n",
       "      <td>1.000000</td>\n",
       "      <td>9.540958e-08</td>\n",
       "    </tr>\n",
       "    <tr>\n",
       "      <th>8879</th>\n",
       "      <td>decremont</td>\n",
       "      <td>0</td>\n",
       "      <td>0</td>\n",
       "      <td>0.000000</td>\n",
       "      <td>NW</td>\n",
       "      <td>0.000771</td>\n",
       "      <td>9.992290e-01</td>\n",
       "    </tr>\n",
       "    <tr>\n",
       "      <th>15758</th>\n",
       "      <td>gugs</td>\n",
       "      <td>0</td>\n",
       "      <td>0</td>\n",
       "      <td>0.000000</td>\n",
       "      <td>NW</td>\n",
       "      <td>0.000233</td>\n",
       "      <td>9.997666e-01</td>\n",
       "    </tr>\n",
       "    <tr>\n",
       "      <th>37158</th>\n",
       "      <td>trickery</td>\n",
       "      <td>453</td>\n",
       "      <td>1</td>\n",
       "      <td>2.882899</td>\n",
       "      <td>LF</td>\n",
       "      <td>0.999996</td>\n",
       "      <td>3.610227e-06</td>\n",
       "    </tr>\n",
       "    <tr>\n",
       "      <th>...</th>\n",
       "      <td>...</td>\n",
       "      <td>...</td>\n",
       "      <td>...</td>\n",
       "      <td>...</td>\n",
       "      <td>...</td>\n",
       "      <td>...</td>\n",
       "      <td>...</td>\n",
       "    </tr>\n",
       "    <tr>\n",
       "      <th>22607</th>\n",
       "      <td>gorphological</td>\n",
       "      <td>0</td>\n",
       "      <td>0</td>\n",
       "      <td>0.000000</td>\n",
       "      <td>NW</td>\n",
       "      <td>0.000168</td>\n",
       "      <td>9.998318e-01</td>\n",
       "    </tr>\n",
       "    <tr>\n",
       "      <th>16512</th>\n",
       "      <td>hearse</td>\n",
       "      <td>160</td>\n",
       "      <td>1</td>\n",
       "      <td>3.205648</td>\n",
       "      <td>HF</td>\n",
       "      <td>1.000000</td>\n",
       "      <td>4.410969e-08</td>\n",
       "    </tr>\n",
       "    <tr>\n",
       "      <th>1571</th>\n",
       "      <td>appallingly</td>\n",
       "      <td>102</td>\n",
       "      <td>1</td>\n",
       "      <td>1.893894</td>\n",
       "      <td>LF</td>\n",
       "      <td>1.000000</td>\n",
       "      <td>3.650449e-07</td>\n",
       "    </tr>\n",
       "    <tr>\n",
       "      <th>37014</th>\n",
       "      <td>furban</td>\n",
       "      <td>0</td>\n",
       "      <td>0</td>\n",
       "      <td>0.000000</td>\n",
       "      <td>NW</td>\n",
       "      <td>0.000531</td>\n",
       "      <td>9.994685e-01</td>\n",
       "    </tr>\n",
       "    <tr>\n",
       "      <th>29754</th>\n",
       "      <td>beversing</td>\n",
       "      <td>0</td>\n",
       "      <td>0</td>\n",
       "      <td>0.000000</td>\n",
       "      <td>NW</td>\n",
       "      <td>0.000722</td>\n",
       "      <td>9.992778e-01</td>\n",
       "    </tr>\n",
       "  </tbody>\n",
       "</table>\n",
       "<p>74317 rows × 7 columns</p>\n",
       "</div>"
      ],
      "text/plain": [
       "              string freq  label      zipf category  word_prob    nword_prob\n",
       "31655          drarp    0      0  0.000000       NW   0.000025  9.999752e-01\n",
       "20181           laud  182      1  2.136932       LF   1.000000  9.540958e-08\n",
       "8879       decremont    0      0  0.000000       NW   0.000771  9.992290e-01\n",
       "15758           gugs    0      0  0.000000       NW   0.000233  9.997666e-01\n",
       "37158       trickery  453      1  2.882899       LF   0.999996  3.610227e-06\n",
       "...              ...  ...    ...       ...      ...        ...           ...\n",
       "22607  gorphological    0      0  0.000000       NW   0.000168  9.998318e-01\n",
       "16512         hearse  160      1  3.205648       HF   1.000000  4.410969e-08\n",
       "1571     appallingly  102      1  1.893894       LF   1.000000  3.650449e-07\n",
       "37014         furban    0      0  0.000000       NW   0.000531  9.994685e-01\n",
       "29754      beversing    0      0  0.000000       NW   0.000722  9.992778e-01\n",
       "\n",
       "[74317 rows x 7 columns]"
      ]
     },
     "execution_count": 28,
     "metadata": {},
     "output_type": "execute_result"
    }
   ],
   "source": [
    "elp_df_to_save"
   ]
  },
  {
   "cell_type": "code",
   "execution_count": 31,
   "metadata": {
    "executionInfo": {
     "elapsed": 2,
     "status": "ok",
     "timestamp": 1661848468234,
     "user": {
      "displayName": "Mahvash Siavashpour",
      "userId": "18425997334276185054"
     },
     "user_tz": -270
    },
    "id": "1EfLZdnjNyg9"
   },
   "outputs": [],
   "source": [
    "elp_df_to_save.to_csv(root+\"Datasets/fastText_FC.csv\", header=0, index=False)"
   ]
  }
 ],
 "metadata": {
  "colab": {
   "collapsed_sections": [],
   "name": "FastText_Subtlex_Network.ipynb",
   "provenance": []
  },
  "gpuClass": "standard",
  "kernelspec": {
   "display_name": "ML",
   "language": "python",
   "name": "ml"
  },
  "language_info": {
   "codemirror_mode": {
    "name": "ipython",
    "version": 3
   },
   "file_extension": ".py",
   "mimetype": "text/x-python",
   "name": "python",
   "nbconvert_exporter": "python",
   "pygments_lexer": "ipython3",
   "version": "3.10.4"
  }
 },
 "nbformat": 4,
 "nbformat_minor": 4
}
