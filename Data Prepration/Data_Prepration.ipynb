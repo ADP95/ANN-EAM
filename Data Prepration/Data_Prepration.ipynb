{
 "cells": [
  {
   "cell_type": "markdown",
   "id": "ad0f86b6-7f29-406d-9b5c-0e41b43f5378",
   "metadata": {},
   "source": [
    "## Import packges"
   ]
  },
  {
   "cell_type": "code",
   "execution_count": 1,
   "id": "5e3b0ed4-1aec-477d-b384-ec8583082584",
   "metadata": {
    "tags": []
   },
   "outputs": [],
   "source": [
    "import numpy as np\n",
    "import pandas as pd\n",
    "import os\n",
    "import random\n",
    "import warnings\n",
    "import matplotlib.pyplot as plt\n",
    "import seaborn as sns\n",
    "import pingouin as pg\n",
    "import statsmodels.api as sm\n",
    "from statsmodels.graphics.gofplots import qqplot_2samples\n",
    "from utils.utils import get_rt_quantiles, remove_outliers"
   ]
  },
  {
   "cell_type": "code",
   "execution_count": 2,
   "id": "65524e9d-573f-485f-b305-5846330d03a1",
   "metadata": {},
   "outputs": [
    {
     "data": {
      "text/plain": [
       "<Figure size 800x600 with 0 Axes>"
      ]
     },
     "metadata": {},
     "output_type": "display_data"
    }
   ],
   "source": [
    "sns.set_style('whitegrid');\n",
    "plt.figure(figsize=(8, 6), dpi=100);"
   ]
  },
  {
   "cell_type": "code",
   "execution_count": 3,
   "id": "53d09dc2-703d-4d15-b530-7c0f62a4d1d4",
   "metadata": {},
   "outputs": [],
   "source": [
    "root = './'\n",
    "behavioural_data_root = root +  'Datasets/behavioral_data/raw_data/' "
   ]
  },
  {
   "cell_type": "markdown",
   "id": "389bd596-f076-4357-881e-571ccda3e71a",
   "metadata": {},
   "source": [
    "### Reading behavioural raw data\n",
    "\n",
    "Reading and modifing each behavioral data file and combining all of them into a single behavioral dataframe\n",
    "\n",
    "non-english speakers are omitted from data\n",
    "\n",
    "participant with file number 1988 is removed from data due the problem in reading it with pandas\n",
    "\n",
    "participant with file number 436 had two set of demogrphic data part that the dempgraphic set with the incompelete demograhic data have been removed from file"
   ]
  },
  {
   "cell_type": "code",
   "execution_count": 4,
   "id": "8bc67fb9-b1fb-4499-b287-13874f57913e",
   "metadata": {
    "scrolled": true,
    "tags": []
   },
   "outputs": [],
   "source": [
    "dataframes = []\n",
    "counter = 1\n",
    "for count, filename in enumerate(os.listdir(behavioural_data_root)):\n",
    "    df = pd.read_csv(behavioural_data_root + filename, names=['trial', 'string_id', 'string_type', 'accuracy', 'rt', 'string'])\n",
    "    if df.iloc[-2, 4] != \"English\":\n",
    "        continue\n",
    "    df = df.dropna().drop('string_id', axis=1).drop([0, 1])\n",
    "    df = df.iloc[:-2, :]\n",
    "    ind = df.loc[df['trial'] == 'Univ'].index[0]\n",
    "    df = df.drop([ind, ind+1], axis=0)\n",
    "    # Dropping rows with wrong accuracies\n",
    "    df = df.loc[(df['accuracy'] == '0') | (df['accuracy'] == '1')]\n",
    "    # Converting columns type to suitable data types\n",
    "    convert_dict = {'string_type': 'int16',\n",
    "                    'accuracy': 'int16',\n",
    "                    'rt': float\n",
    "                   }\n",
    "\n",
    "    df = df.astype(convert_dict)\n",
    "    # Convert RTs to seconds\n",
    "    df['rt'] = df['rt'].apply(lambda x: x/1000) \n",
    "    # Removing Outliers\n",
    "    df = remove_outliers(df, 3, .2, 2.5)\n",
    "    # Extracting response of participant from his/her accuracy\n",
    "    df['response'] = np.logical_not(np.logical_xor(df['string_type'], df['accuracy'])).astype('int')\n",
    "    df = df.reset_index(drop=True)\n",
    "    # Particpant number\n",
    "    df['participant'] = counter\n",
    "    df['quantile']=''\n",
    "    df['minRT'] = df['rt'].min()\n",
    "    dataframes.append(df)\n",
    "    counter += 1\n",
    "behavioural_df = pd.concat(dataframes)"
   ]
  },
  {
   "cell_type": "code",
   "execution_count": 5,
   "id": "f9eaad9c-cb0e-4010-9af0-ae196a7de147",
   "metadata": {},
   "outputs": [
    {
     "data": {
      "text/html": [
       "<div>\n",
       "<style scoped>\n",
       "    .dataframe tbody tr th:only-of-type {\n",
       "        vertical-align: middle;\n",
       "    }\n",
       "\n",
       "    .dataframe tbody tr th {\n",
       "        vertical-align: top;\n",
       "    }\n",
       "\n",
       "    .dataframe thead th {\n",
       "        text-align: right;\n",
       "    }\n",
       "</style>\n",
       "<table border=\"1\" class=\"dataframe\">\n",
       "  <thead>\n",
       "    <tr style=\"text-align: right;\">\n",
       "      <th></th>\n",
       "      <th>trial</th>\n",
       "      <th>string_type</th>\n",
       "      <th>accuracy</th>\n",
       "      <th>rt</th>\n",
       "      <th>string</th>\n",
       "      <th>response</th>\n",
       "      <th>participant</th>\n",
       "      <th>quantile</th>\n",
       "      <th>minRT</th>\n",
       "    </tr>\n",
       "  </thead>\n",
       "  <tbody>\n",
       "    <tr>\n",
       "      <th>0</th>\n",
       "      <td>1</td>\n",
       "      <td>0</td>\n",
       "      <td>0</td>\n",
       "      <td>0.548</td>\n",
       "      <td>pracker</td>\n",
       "      <td>1</td>\n",
       "      <td>1</td>\n",
       "      <td></td>\n",
       "      <td>0.378</td>\n",
       "    </tr>\n",
       "    <tr>\n",
       "      <th>1</th>\n",
       "      <td>2</td>\n",
       "      <td>1</td>\n",
       "      <td>1</td>\n",
       "      <td>0.646</td>\n",
       "      <td>nearside</td>\n",
       "      <td>1</td>\n",
       "      <td>1</td>\n",
       "      <td></td>\n",
       "      <td>0.378</td>\n",
       "    </tr>\n",
       "    <tr>\n",
       "      <th>2</th>\n",
       "      <td>3</td>\n",
       "      <td>1</td>\n",
       "      <td>1</td>\n",
       "      <td>0.511</td>\n",
       "      <td>jets</td>\n",
       "      <td>1</td>\n",
       "      <td>1</td>\n",
       "      <td></td>\n",
       "      <td>0.378</td>\n",
       "    </tr>\n",
       "    <tr>\n",
       "      <th>3</th>\n",
       "      <td>4</td>\n",
       "      <td>0</td>\n",
       "      <td>1</td>\n",
       "      <td>0.815</td>\n",
       "      <td>vates</td>\n",
       "      <td>0</td>\n",
       "      <td>1</td>\n",
       "      <td></td>\n",
       "      <td>0.378</td>\n",
       "    </tr>\n",
       "    <tr>\n",
       "      <th>4</th>\n",
       "      <td>5</td>\n",
       "      <td>1</td>\n",
       "      <td>1</td>\n",
       "      <td>0.680</td>\n",
       "      <td>onward</td>\n",
       "      <td>1</td>\n",
       "      <td>1</td>\n",
       "      <td></td>\n",
       "      <td>0.378</td>\n",
       "    </tr>\n",
       "  </tbody>\n",
       "</table>\n",
       "</div>"
      ],
      "text/plain": [
       "  trial  string_type  accuracy     rt    string  response  participant  \\\n",
       "0     1            0         0  0.548   pracker         1            1   \n",
       "1     2            1         1  0.646  nearside         1            1   \n",
       "2     3            1         1  0.511      jets         1            1   \n",
       "3     4            0         1  0.815     vates         0            1   \n",
       "4     5            1         1  0.680    onward         1            1   \n",
       "\n",
       "  quantile  minRT  \n",
       "0           0.378  \n",
       "1           0.378  \n",
       "2           0.378  \n",
       "3           0.378  \n",
       "4           0.378  "
      ]
     },
     "execution_count": 5,
     "metadata": {},
     "output_type": "execute_result"
    }
   ],
   "source": [
    "behavioural_df.head()"
   ]
  },
  {
   "cell_type": "markdown",
   "id": "ea63c43b-9ff6-4961-aac0-6bc4fa5c24ab",
   "metadata": {
    "tags": []
   },
   "source": [
    "## Participant Selection\n",
    "\n",
    "choosing 100 random participant and checking thier mean RT and Accuracy with total mean with t-test"
   ]
  },
  {
   "cell_type": "code",
   "execution_count": 6,
   "id": "65df9769-22a4-42c1-9fd3-f6c39c34d914",
   "metadata": {},
   "outputs": [],
   "source": [
    "all_participants = behavioural_df.groupby(['participant']).agg({'rt': ['mean'], 'accuracy': ['mean'],\n",
    "                                                                'response':['mean']}).reset_index()\n",
    "all_participants.columns = ['participant', 'rt', 'accuracy', 'response']\n",
    "\n",
    "# Random selection\n",
    "participants_id = random.sample(range(1, len(dataframes)), 100)\n",
    "selected_participants = all_participants[all_participants['participant'].isin(participants_id)]"
   ]
  },
  {
   "cell_type": "markdown",
   "id": "2e2e19cb-9727-4060-bcc0-325a4367e52f",
   "metadata": {},
   "source": [
    "We want to check if our sample (100 selected participants) mean RT is seginficantly different from population (All the participants) mean RT or not?\n",
    "<br>\n",
    "so we use <b>One Sample T-test</b>"
   ]
  },
  {
   "cell_type": "code",
   "execution_count": 7,
   "id": "b3aa9ae0-8042-46ef-8035-d4eac640d87e",
   "metadata": {},
   "outputs": [
    {
     "data": {
      "text/html": [
       "<div>\n",
       "<style scoped>\n",
       "    .dataframe tbody tr th:only-of-type {\n",
       "        vertical-align: middle;\n",
       "    }\n",
       "\n",
       "    .dataframe tbody tr th {\n",
       "        vertical-align: top;\n",
       "    }\n",
       "\n",
       "    .dataframe thead th {\n",
       "        text-align: right;\n",
       "    }\n",
       "</style>\n",
       "<table border=\"1\" class=\"dataframe\">\n",
       "  <thead>\n",
       "    <tr style=\"text-align: right;\">\n",
       "      <th></th>\n",
       "      <th>T</th>\n",
       "      <th>dof</th>\n",
       "      <th>alternative</th>\n",
       "      <th>p-val</th>\n",
       "      <th>CI95%</th>\n",
       "      <th>cohen-d</th>\n",
       "      <th>BF10</th>\n",
       "      <th>power</th>\n",
       "    </tr>\n",
       "  </thead>\n",
       "  <tbody>\n",
       "    <tr>\n",
       "      <th>T-test</th>\n",
       "      <td>-0.140265</td>\n",
       "      <td>99</td>\n",
       "      <td>two-sided</td>\n",
       "      <td>0.888736</td>\n",
       "      <td>[0.78, 0.85]</td>\n",
       "      <td>0.014026</td>\n",
       "      <td>0.112</td>\n",
       "      <td>0.052213</td>\n",
       "    </tr>\n",
       "  </tbody>\n",
       "</table>\n",
       "</div>"
      ],
      "text/plain": [
       "               T  dof alternative     p-val         CI95%   cohen-d   BF10  \\\n",
       "T-test -0.140265   99   two-sided  0.888736  [0.78, 0.85]  0.014026  0.112   \n",
       "\n",
       "           power  \n",
       "T-test  0.052213  "
      ]
     },
     "execution_count": 7,
     "metadata": {},
     "output_type": "execute_result"
    }
   ],
   "source": [
    "pg.ttest(selected_participants['rt'].to_numpy(), all_participants['rt'].mean())"
   ]
  },
  {
   "cell_type": "markdown",
   "id": "4b568259-7a09-47ac-8a8f-b99993d2909d",
   "metadata": {
    "jp-MarkdownHeadingCollapsed": true,
    "tags": []
   },
   "source": [
    "<b>There is no significant difference between selected participants RTs and all participants RT</b>"
   ]
  },
  {
   "cell_type": "markdown",
   "id": "18302e12-1973-4fdf-ba2c-cb79af862684",
   "metadata": {},
   "source": [
    "We also want to check if our sample (100 selected participants) mean Accuracy is seginficantly different from population (All the participants) mean Accuracy or not?\n",
    "<br>\n",
    "so we use <b>One Sample T-test</b>"
   ]
  },
  {
   "cell_type": "code",
   "execution_count": 8,
   "id": "992f11ab-2489-41eb-ad93-98ea14020bff",
   "metadata": {},
   "outputs": [
    {
     "data": {
      "text/html": [
       "<div>\n",
       "<style scoped>\n",
       "    .dataframe tbody tr th:only-of-type {\n",
       "        vertical-align: middle;\n",
       "    }\n",
       "\n",
       "    .dataframe tbody tr th {\n",
       "        vertical-align: top;\n",
       "    }\n",
       "\n",
       "    .dataframe thead th {\n",
       "        text-align: right;\n",
       "    }\n",
       "</style>\n",
       "<table border=\"1\" class=\"dataframe\">\n",
       "  <thead>\n",
       "    <tr style=\"text-align: right;\">\n",
       "      <th></th>\n",
       "      <th>T</th>\n",
       "      <th>dof</th>\n",
       "      <th>alternative</th>\n",
       "      <th>p-val</th>\n",
       "      <th>CI95%</th>\n",
       "      <th>cohen-d</th>\n",
       "      <th>BF10</th>\n",
       "      <th>power</th>\n",
       "    </tr>\n",
       "  </thead>\n",
       "  <tbody>\n",
       "    <tr>\n",
       "      <th>T-test</th>\n",
       "      <td>-0.139875</td>\n",
       "      <td>99</td>\n",
       "      <td>two-sided</td>\n",
       "      <td>0.889043</td>\n",
       "      <td>[0.85, 0.87]</td>\n",
       "      <td>0.013987</td>\n",
       "      <td>0.112</td>\n",
       "      <td>0.052201</td>\n",
       "    </tr>\n",
       "  </tbody>\n",
       "</table>\n",
       "</div>"
      ],
      "text/plain": [
       "               T  dof alternative     p-val         CI95%   cohen-d   BF10  \\\n",
       "T-test -0.139875   99   two-sided  0.889043  [0.85, 0.87]  0.013987  0.112   \n",
       "\n",
       "           power  \n",
       "T-test  0.052201  "
      ]
     },
     "execution_count": 8,
     "metadata": {},
     "output_type": "execute_result"
    }
   ],
   "source": [
    "pg.ttest(selected_participants['accuracy'].to_numpy(), all_participants['accuracy'].mean())"
   ]
  },
  {
   "cell_type": "markdown",
   "id": "bcb9452e-6d94-486c-82c9-b3f93b2c81f7",
   "metadata": {
    "jp-MarkdownHeadingCollapsed": true,
    "tags": []
   },
   "source": [
    "<b>There is no significant difference between selected participants mean Accuracy and all participants mean Accuracy</b>"
   ]
  },
  {
   "cell_type": "markdown",
   "id": "1acc0399-bd1d-45f2-b718-c35ce4f2dabf",
   "metadata": {},
   "source": [
    "We also want to check if our sample (100 selected participants) mean response (choice) is seginficantly different from population (All the participants) mean response or not?\n",
    "<br>\n",
    "so we use <b>One Sample T-test</b>"
   ]
  },
  {
   "cell_type": "code",
   "execution_count": 9,
   "id": "164c8370-167b-4d66-97ee-f03e8547da3c",
   "metadata": {},
   "outputs": [
    {
     "data": {
      "text/html": [
       "<div>\n",
       "<style scoped>\n",
       "    .dataframe tbody tr th:only-of-type {\n",
       "        vertical-align: middle;\n",
       "    }\n",
       "\n",
       "    .dataframe tbody tr th {\n",
       "        vertical-align: top;\n",
       "    }\n",
       "\n",
       "    .dataframe thead th {\n",
       "        text-align: right;\n",
       "    }\n",
       "</style>\n",
       "<table border=\"1\" class=\"dataframe\">\n",
       "  <thead>\n",
       "    <tr style=\"text-align: right;\">\n",
       "      <th></th>\n",
       "      <th>T</th>\n",
       "      <th>dof</th>\n",
       "      <th>alternative</th>\n",
       "      <th>p-val</th>\n",
       "      <th>CI95%</th>\n",
       "      <th>cohen-d</th>\n",
       "      <th>BF10</th>\n",
       "      <th>power</th>\n",
       "    </tr>\n",
       "  </thead>\n",
       "  <tbody>\n",
       "    <tr>\n",
       "      <th>T-test</th>\n",
       "      <td>-0.522757</td>\n",
       "      <td>99</td>\n",
       "      <td>two-sided</td>\n",
       "      <td>0.602311</td>\n",
       "      <td>[0.48, 0.49]</td>\n",
       "      <td>0.052276</td>\n",
       "      <td>0.126</td>\n",
       "      <td>0.081227</td>\n",
       "    </tr>\n",
       "  </tbody>\n",
       "</table>\n",
       "</div>"
      ],
      "text/plain": [
       "               T  dof alternative     p-val         CI95%   cohen-d   BF10  \\\n",
       "T-test -0.522757   99   two-sided  0.602311  [0.48, 0.49]  0.052276  0.126   \n",
       "\n",
       "           power  \n",
       "T-test  0.081227  "
      ]
     },
     "execution_count": 9,
     "metadata": {},
     "output_type": "execute_result"
    }
   ],
   "source": [
    "pg.ttest(selected_participants['response'].to_numpy(), all_participants['response'].mean())"
   ]
  },
  {
   "cell_type": "markdown",
   "id": "6f2ef18e-a92c-4fbe-9087-5bbf1493ecc6",
   "metadata": {
    "jp-MarkdownHeadingCollapsed": true,
    "tags": []
   },
   "source": [
    "<b>There is no significant difference between selected participants mean response (choice) and all participants mean response</b>"
   ]
  },
  {
   "cell_type": "code",
   "execution_count": 10,
   "id": "3f114742-0f8a-457b-afaf-2bed4c19276e",
   "metadata": {},
   "outputs": [],
   "source": [
    "selected_participants = behavioural_df[behavioural_df['participant'].isin(participants_id)]"
   ]
  },
  {
   "cell_type": "markdown",
   "id": "51e58de5-03af-464b-9659-2a5beb93b732",
   "metadata": {
    "tags": []
   },
   "source": [
    "## Choosing 400 trials for 100 participants\n",
    "\n",
    "Dividing data to 10 quantiles and sampling 40 random trials from each quantile for each participant\n",
    "\n",
    "Check is done with qq-plots"
   ]
  },
  {
   "cell_type": "code",
   "execution_count": 11,
   "id": "ca7ca7bb-6310-4038-82bc-954bc277fa61",
   "metadata": {},
   "outputs": [],
   "source": [
    "ids = np.unique(selected_participants['participant'].to_numpy())"
   ]
  },
  {
   "cell_type": "code",
   "execution_count": 12,
   "id": "6e8bdc0b-db6c-49b7-abd1-983d9c724e50",
   "metadata": {
    "scrolled": true,
    "tags": []
   },
   "outputs": [],
   "source": [
    "probs = np.linspace(0, 1, 400)\n",
    "selected_participants_and_trials = []\n",
    "with warnings.catch_warnings(record=True):\n",
    "    for index, id in enumerate(ids):\n",
    "        selected_participant = selected_participants[selected_participants['participant']==id]\n",
    "        selected_participant_400 = get_rt_quantiles(selected_participant, probs)\n",
    "\n",
    "        # Quantile-quantile plot\n",
    "        fig, ax = plt.subplots()\n",
    "        pp_x = sm.ProbPlot(selected_participant_400['rt'])\n",
    "        pp_y = sm.ProbPlot(selected_participant['rt'])\n",
    "        qqplot_2samples(pp_x, pp_y, xlabel=\"Selected RTs Quantiles\",\n",
    "                        ylabel=\"All RTs quantules\", line=None, ax=ax)\n",
    "        xlim = np.linspace(*ax.get_xlim())\n",
    "        ax.plot(xlim, xlim, color='orange', label=\"45 degree line\")\n",
    "        plt.title('qq plot of participant ')\n",
    "        ax.legend()\n",
    "        plt.title('qq plot of participant ' + str(index+1))\n",
    "        plt.savefig(\"Results\\Plots\\qqplots\\\\\" + 'qq plot of participant ' + str(index+1) + '.pdf')\n",
    "        plt.close()\n",
    "        \n",
    "        selected_participants_and_trials.append(selected_participant_400)"
   ]
  },
  {
   "cell_type": "code",
   "execution_count": 13,
   "id": "b5f53887-988d-4c3c-b880-289bd9d3cb5f",
   "metadata": {},
   "outputs": [],
   "source": [
    "final_df = pd.concat(selected_participants_and_trials)"
   ]
  },
  {
   "cell_type": "code",
   "execution_count": 14,
   "id": "47ae20dd-8794-41ef-a120-852aa1f8b880",
   "metadata": {},
   "outputs": [
    {
     "data": {
      "text/html": [
       "<div>\n",
       "<style scoped>\n",
       "    .dataframe tbody tr th:only-of-type {\n",
       "        vertical-align: middle;\n",
       "    }\n",
       "\n",
       "    .dataframe tbody tr th {\n",
       "        vertical-align: top;\n",
       "    }\n",
       "\n",
       "    .dataframe thead th {\n",
       "        text-align: right;\n",
       "    }\n",
       "</style>\n",
       "<table border=\"1\" class=\"dataframe\">\n",
       "  <thead>\n",
       "    <tr style=\"text-align: right;\">\n",
       "      <th></th>\n",
       "      <th>trial</th>\n",
       "      <th>accuracy</th>\n",
       "      <th>rt</th>\n",
       "      <th>string</th>\n",
       "      <th>response</th>\n",
       "      <th>participant</th>\n",
       "      <th>quantile</th>\n",
       "      <th>minRT</th>\n",
       "    </tr>\n",
       "    <tr>\n",
       "      <th>string_type</th>\n",
       "      <th></th>\n",
       "      <th></th>\n",
       "      <th></th>\n",
       "      <th></th>\n",
       "      <th></th>\n",
       "      <th></th>\n",
       "      <th></th>\n",
       "      <th></th>\n",
       "    </tr>\n",
       "  </thead>\n",
       "  <tbody>\n",
       "    <tr>\n",
       "      <th>0</th>\n",
       "      <td>19175</td>\n",
       "      <td>19175</td>\n",
       "      <td>19175</td>\n",
       "      <td>19175</td>\n",
       "      <td>19175</td>\n",
       "      <td>19175</td>\n",
       "      <td>19175</td>\n",
       "      <td>19175</td>\n",
       "    </tr>\n",
       "    <tr>\n",
       "      <th>1</th>\n",
       "      <td>20825</td>\n",
       "      <td>20825</td>\n",
       "      <td>20825</td>\n",
       "      <td>20825</td>\n",
       "      <td>20825</td>\n",
       "      <td>20825</td>\n",
       "      <td>20825</td>\n",
       "      <td>20825</td>\n",
       "    </tr>\n",
       "  </tbody>\n",
       "</table>\n",
       "</div>"
      ],
      "text/plain": [
       "             trial  accuracy     rt  string  response  participant  quantile  \\\n",
       "string_type                                                                    \n",
       "0            19175     19175  19175   19175     19175        19175     19175   \n",
       "1            20825     20825  20825   20825     20825        20825     20825   \n",
       "\n",
       "             minRT  \n",
       "string_type         \n",
       "0            19175  \n",
       "1            20825  "
      ]
     },
     "execution_count": 14,
     "metadata": {},
     "output_type": "execute_result"
    }
   ],
   "source": [
    "final_df.groupby('string_type').count()"
   ]
  },
  {
   "cell_type": "code",
   "execution_count": 15,
   "id": "b00f5107-f9b6-42f3-af18-31d380caa96a",
   "metadata": {
    "tags": []
   },
   "outputs": [
    {
     "data": {
      "text/html": [
       "<div>\n",
       "<style scoped>\n",
       "    .dataframe tbody tr th:only-of-type {\n",
       "        vertical-align: middle;\n",
       "    }\n",
       "\n",
       "    .dataframe tbody tr th {\n",
       "        vertical-align: top;\n",
       "    }\n",
       "\n",
       "    .dataframe thead th {\n",
       "        text-align: right;\n",
       "    }\n",
       "</style>\n",
       "<table border=\"1\" class=\"dataframe\">\n",
       "  <thead>\n",
       "    <tr style=\"text-align: right;\">\n",
       "      <th></th>\n",
       "      <th>trial</th>\n",
       "      <th>string_type</th>\n",
       "      <th>accuracy</th>\n",
       "      <th>rt</th>\n",
       "      <th>string</th>\n",
       "      <th>response</th>\n",
       "      <th>participant</th>\n",
       "      <th>quantile</th>\n",
       "      <th>minRT</th>\n",
       "    </tr>\n",
       "  </thead>\n",
       "  <tbody>\n",
       "    <tr>\n",
       "      <th>2278</th>\n",
       "      <td>2352</td>\n",
       "      <td>1</td>\n",
       "      <td>1</td>\n",
       "      <td>0.394</td>\n",
       "      <td>cuts</td>\n",
       "      <td>1</td>\n",
       "      <td>4</td>\n",
       "      <td></td>\n",
       "      <td>0.394</td>\n",
       "    </tr>\n",
       "    <tr>\n",
       "      <th>3037</th>\n",
       "      <td>3131</td>\n",
       "      <td>1</td>\n",
       "      <td>1</td>\n",
       "      <td>0.453</td>\n",
       "      <td>gear</td>\n",
       "      <td>1</td>\n",
       "      <td>4</td>\n",
       "      <td></td>\n",
       "      <td>0.394</td>\n",
       "    </tr>\n",
       "    <tr>\n",
       "      <th>2835</th>\n",
       "      <td>2925</td>\n",
       "      <td>1</td>\n",
       "      <td>1</td>\n",
       "      <td>0.471</td>\n",
       "      <td>Bronx</td>\n",
       "      <td>1</td>\n",
       "      <td>4</td>\n",
       "      <td></td>\n",
       "      <td>0.394</td>\n",
       "    </tr>\n",
       "    <tr>\n",
       "      <th>2257</th>\n",
       "      <td>2331</td>\n",
       "      <td>0</td>\n",
       "      <td>1</td>\n",
       "      <td>0.478</td>\n",
       "      <td>douthed</td>\n",
       "      <td>0</td>\n",
       "      <td>4</td>\n",
       "      <td></td>\n",
       "      <td>0.394</td>\n",
       "    </tr>\n",
       "    <tr>\n",
       "      <th>1720</th>\n",
       "      <td>1784</td>\n",
       "      <td>1</td>\n",
       "      <td>1</td>\n",
       "      <td>0.489</td>\n",
       "      <td>cling</td>\n",
       "      <td>1</td>\n",
       "      <td>4</td>\n",
       "      <td></td>\n",
       "      <td>0.394</td>\n",
       "    </tr>\n",
       "    <tr>\n",
       "      <th>...</th>\n",
       "      <td>...</td>\n",
       "      <td>...</td>\n",
       "      <td>...</td>\n",
       "      <td>...</td>\n",
       "      <td>...</td>\n",
       "      <td>...</td>\n",
       "      <td>...</td>\n",
       "      <td>...</td>\n",
       "      <td>...</td>\n",
       "    </tr>\n",
       "    <tr>\n",
       "      <th>1270</th>\n",
       "      <td>1340</td>\n",
       "      <td>0</td>\n",
       "      <td>0</td>\n",
       "      <td>2.387</td>\n",
       "      <td>provading</td>\n",
       "      <td>1</td>\n",
       "      <td>799</td>\n",
       "      <td></td>\n",
       "      <td>0.201</td>\n",
       "    </tr>\n",
       "    <tr>\n",
       "      <th>1671</th>\n",
       "      <td>1763</td>\n",
       "      <td>1</td>\n",
       "      <td>1</td>\n",
       "      <td>2.416</td>\n",
       "      <td>ineradicable</td>\n",
       "      <td>1</td>\n",
       "      <td>799</td>\n",
       "      <td></td>\n",
       "      <td>0.201</td>\n",
       "    </tr>\n",
       "    <tr>\n",
       "      <th>1454</th>\n",
       "      <td>1537</td>\n",
       "      <td>1</td>\n",
       "      <td>0</td>\n",
       "      <td>2.463</td>\n",
       "      <td>fortunes</td>\n",
       "      <td>0</td>\n",
       "      <td>799</td>\n",
       "      <td></td>\n",
       "      <td>0.201</td>\n",
       "    </tr>\n",
       "    <tr>\n",
       "      <th>2487</th>\n",
       "      <td>2628</td>\n",
       "      <td>1</td>\n",
       "      <td>0</td>\n",
       "      <td>2.493</td>\n",
       "      <td>refrigeration</td>\n",
       "      <td>0</td>\n",
       "      <td>799</td>\n",
       "      <td></td>\n",
       "      <td>0.201</td>\n",
       "    </tr>\n",
       "    <tr>\n",
       "      <th>2075</th>\n",
       "      <td>2175</td>\n",
       "      <td>0</td>\n",
       "      <td>1</td>\n",
       "      <td>2.537</td>\n",
       "      <td>ihealism</td>\n",
       "      <td>0</td>\n",
       "      <td>799</td>\n",
       "      <td></td>\n",
       "      <td>0.201</td>\n",
       "    </tr>\n",
       "  </tbody>\n",
       "</table>\n",
       "<p>40000 rows × 9 columns</p>\n",
       "</div>"
      ],
      "text/plain": [
       "     trial  string_type  accuracy     rt         string  response  \\\n",
       "2278  2352            1         1  0.394           cuts         1   \n",
       "3037  3131            1         1  0.453           gear         1   \n",
       "2835  2925            1         1  0.471          Bronx         1   \n",
       "2257  2331            0         1  0.478        douthed         0   \n",
       "1720  1784            1         1  0.489          cling         1   \n",
       "...    ...          ...       ...    ...            ...       ...   \n",
       "1270  1340            0         0  2.387      provading         1   \n",
       "1671  1763            1         1  2.416   ineradicable         1   \n",
       "1454  1537            1         0  2.463       fortunes         0   \n",
       "2487  2628            1         0  2.493  refrigeration         0   \n",
       "2075  2175            0         1  2.537       ihealism         0   \n",
       "\n",
       "      participant quantile  minRT  \n",
       "2278            4           0.394  \n",
       "3037            4           0.394  \n",
       "2835            4           0.394  \n",
       "2257            4           0.394  \n",
       "1720            4           0.394  \n",
       "...           ...      ...    ...  \n",
       "1270          799           0.201  \n",
       "1671          799           0.201  \n",
       "1454          799           0.201  \n",
       "2487          799           0.201  \n",
       "2075          799           0.201  \n",
       "\n",
       "[40000 rows x 9 columns]"
      ]
     },
     "execution_count": 15,
     "metadata": {},
     "output_type": "execute_result"
    }
   ],
   "source": [
    "final_df"
   ]
  },
  {
   "cell_type": "code",
   "execution_count": 16,
   "id": "baa48669-c6af-4146-a3de-8de09e2d6c53",
   "metadata": {},
   "outputs": [],
   "source": [
    "final_df = final_df.drop(['trial', 'string_type', 'quantile'], axis=1)\n",
    " # Adding new particpant ID column for Stan\n",
    "final_df['participant_id'] = final_df['participant'].replace(ids, list(range(1, len(ids)+1)))\n",
    "final_df.reset_index(inplace=True, drop=True)"
   ]
  },
  {
   "cell_type": "code",
   "execution_count": 17,
   "id": "5e47d659-6b70-44be-a856-d4e702c3199b",
   "metadata": {},
   "outputs": [
    {
     "data": {
      "text/html": [
       "<div>\n",
       "<style scoped>\n",
       "    .dataframe tbody tr th:only-of-type {\n",
       "        vertical-align: middle;\n",
       "    }\n",
       "\n",
       "    .dataframe tbody tr th {\n",
       "        vertical-align: top;\n",
       "    }\n",
       "\n",
       "    .dataframe thead th {\n",
       "        text-align: right;\n",
       "    }\n",
       "</style>\n",
       "<table border=\"1\" class=\"dataframe\">\n",
       "  <thead>\n",
       "    <tr style=\"text-align: right;\">\n",
       "      <th></th>\n",
       "      <th>accuracy</th>\n",
       "      <th>rt</th>\n",
       "      <th>string</th>\n",
       "      <th>response</th>\n",
       "      <th>participant</th>\n",
       "      <th>minRT</th>\n",
       "      <th>participant_id</th>\n",
       "    </tr>\n",
       "  </thead>\n",
       "  <tbody>\n",
       "    <tr>\n",
       "      <th>0</th>\n",
       "      <td>1</td>\n",
       "      <td>0.394</td>\n",
       "      <td>cuts</td>\n",
       "      <td>1</td>\n",
       "      <td>4</td>\n",
       "      <td>0.394</td>\n",
       "      <td>1</td>\n",
       "    </tr>\n",
       "    <tr>\n",
       "      <th>1</th>\n",
       "      <td>1</td>\n",
       "      <td>0.453</td>\n",
       "      <td>gear</td>\n",
       "      <td>1</td>\n",
       "      <td>4</td>\n",
       "      <td>0.394</td>\n",
       "      <td>1</td>\n",
       "    </tr>\n",
       "    <tr>\n",
       "      <th>2</th>\n",
       "      <td>1</td>\n",
       "      <td>0.471</td>\n",
       "      <td>Bronx</td>\n",
       "      <td>1</td>\n",
       "      <td>4</td>\n",
       "      <td>0.394</td>\n",
       "      <td>1</td>\n",
       "    </tr>\n",
       "    <tr>\n",
       "      <th>3</th>\n",
       "      <td>1</td>\n",
       "      <td>0.478</td>\n",
       "      <td>douthed</td>\n",
       "      <td>0</td>\n",
       "      <td>4</td>\n",
       "      <td>0.394</td>\n",
       "      <td>1</td>\n",
       "    </tr>\n",
       "    <tr>\n",
       "      <th>4</th>\n",
       "      <td>1</td>\n",
       "      <td>0.489</td>\n",
       "      <td>cling</td>\n",
       "      <td>1</td>\n",
       "      <td>4</td>\n",
       "      <td>0.394</td>\n",
       "      <td>1</td>\n",
       "    </tr>\n",
       "  </tbody>\n",
       "</table>\n",
       "</div>"
      ],
      "text/plain": [
       "   accuracy     rt   string  response  participant  minRT  participant_id\n",
       "0         1  0.394     cuts         1            4  0.394               1\n",
       "1         1  0.453     gear         1            4  0.394               1\n",
       "2         1  0.471    Bronx         1            4  0.394               1\n",
       "3         1  0.478  douthed         0            4  0.394               1\n",
       "4         1  0.489    cling         1            4  0.394               1"
      ]
     },
     "execution_count": 17,
     "metadata": {},
     "output_type": "execute_result"
    }
   ],
   "source": [
    "final_df.head()"
   ]
  },
  {
   "cell_type": "code",
   "execution_count": 18,
   "id": "890cf8db-3a15-40b1-a923-df6c49806ba1",
   "metadata": {},
   "outputs": [],
   "source": [
    "final_df.to_csv(root+\"Datasets/behavioral_data/selected_data/LDT_data.csv\", header=0, index=False)"
   ]
  }
 ],
 "metadata": {
  "kernelspec": {
   "display_name": "Python 3 (ipykernel)",
   "language": "python",
   "name": "python3"
  },
  "language_info": {
   "codemirror_mode": {
    "name": "ipython",
    "version": 3
   },
   "file_extension": ".py",
   "mimetype": "text/x-python",
   "name": "python",
   "nbconvert_exporter": "python",
   "pygments_lexer": "ipython3",
   "version": "3.11.0"
  }
 },
 "nbformat": 4,
 "nbformat_minor": 5
}
