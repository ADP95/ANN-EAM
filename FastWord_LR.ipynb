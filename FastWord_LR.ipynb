{
 "cells": [
  {
   "cell_type": "markdown",
   "metadata": {
    "id": "vRSMuj5HfD-S"
   },
   "source": [
    "# Connect To Drive"
   ]
  },
  {
   "cell_type": "code",
   "execution_count": 1,
   "metadata": {
    "colab": {
     "base_uri": "https://localhost:8080/"
    },
    "executionInfo": {
     "elapsed": 24652,
     "status": "ok",
     "timestamp": 1661867215005,
     "user": {
      "displayName": "Mahvash Siavashpour",
      "userId": "18425997334276185054"
     },
     "user_tz": -270
    },
    "id": "Z_026v3GfAvi",
    "outputId": "21507269-1b04-4a8e-ba68-d6e9ba548446"
   },
   "outputs": [
    {
     "name": "stdout",
     "output_type": "stream",
     "text": [
      "Mounted at /content/drive\n"
     ]
    }
   ],
   "source": [
    "from google.colab import drive\n",
    "drive.mount('/content/drive')\n",
    "root = \"drive/MyDrive/CMP/\""
   ]
  },
  {
   "cell_type": "markdown",
   "metadata": {
    "id": "AuTvJzrSkYL6"
   },
   "source": [
    "# Local"
   ]
  },
  {
   "cell_type": "code",
   "execution_count": 1,
   "metadata": {
    "executionInfo": {
     "elapsed": 5,
     "status": "ok",
     "timestamp": 1661867215006,
     "user": {
      "displayName": "Mahvash Siavashpour",
      "userId": "18425997334276185054"
     },
     "user_tz": -270
    },
    "id": "e9jP16BekYL6"
   },
   "outputs": [],
   "source": [
    "root = './'"
   ]
  },
  {
   "cell_type": "markdown",
   "metadata": {
    "id": "lacOS41nHDgz"
   },
   "source": [
    "# Import Libraries"
   ]
  },
  {
   "cell_type": "code",
   "execution_count": 2,
   "metadata": {
    "executionInfo": {
     "elapsed": 640,
     "status": "ok",
     "timestamp": 1661867215642,
     "user": {
      "displayName": "Mahvash Siavashpour",
      "userId": "18425997334276185054"
     },
     "user_tz": -270
    },
    "id": "vOL87AhDoCrQ"
   },
   "outputs": [],
   "source": [
    "import numpy as np\n",
    "import pandas as pd\n",
    "import pickle\n",
    "import matplotlib.pyplot as plt\n",
    "import seaborn as sns\n",
    "from sklearn.model_selection import train_test_split, GridSearchCV\n",
    "from sklearn.linear_model import LogisticRegression\n",
    "from sklearn import metrics"
   ]
  },
  {
   "cell_type": "markdown",
   "metadata": {
    "id": "-dz6tNDJucOf",
    "tags": []
   },
   "source": [
    "# Data Preparation"
   ]
  },
  {
   "cell_type": "code",
   "execution_count": 3,
   "metadata": {
    "colab": {
     "base_uri": "https://localhost:8080/",
     "height": 206
    },
    "executionInfo": {
     "elapsed": 20820,
     "status": "ok",
     "timestamp": 1661867265736,
     "user": {
      "displayName": "Mahvash Siavashpour",
      "userId": "18425997334276185054"
     },
     "user_tz": -270
    },
    "id": "q1EMyc30lvzg",
    "outputId": "0e156dd4-63dd-4904-b9ed-db44d3b11773"
   },
   "outputs": [
    {
     "data": {
      "text/html": [
       "<div>\n",
       "<style scoped>\n",
       "    .dataframe tbody tr th:only-of-type {\n",
       "        vertical-align: middle;\n",
       "    }\n",
       "\n",
       "    .dataframe tbody tr th {\n",
       "        vertical-align: top;\n",
       "    }\n",
       "\n",
       "    .dataframe thead th {\n",
       "        text-align: right;\n",
       "    }\n",
       "</style>\n",
       "<table border=\"1\" class=\"dataframe\">\n",
       "  <thead>\n",
       "    <tr style=\"text-align: right;\">\n",
       "      <th></th>\n",
       "      <th>string</th>\n",
       "      <th>zipf</th>\n",
       "    </tr>\n",
       "  </thead>\n",
       "  <tbody>\n",
       "    <tr>\n",
       "      <th>0</th>\n",
       "      <td>a</td>\n",
       "      <td>7.309360</td>\n",
       "    </tr>\n",
       "    <tr>\n",
       "      <th>1</th>\n",
       "      <td>aa</td>\n",
       "      <td>3.236317</td>\n",
       "    </tr>\n",
       "    <tr>\n",
       "      <th>2</th>\n",
       "      <td>aaa</td>\n",
       "      <td>2.706807</td>\n",
       "    </tr>\n",
       "    <tr>\n",
       "      <th>3</th>\n",
       "      <td>aah</td>\n",
       "      <td>4.721425</td>\n",
       "    </tr>\n",
       "    <tr>\n",
       "      <th>4</th>\n",
       "      <td>aahed</td>\n",
       "      <td>1.592864</td>\n",
       "    </tr>\n",
       "  </tbody>\n",
       "</table>\n",
       "</div>"
      ],
      "text/plain": [
       "  string      zipf\n",
       "0      a  7.309360\n",
       "1     aa  3.236317\n",
       "2    aaa  2.706807\n",
       "3    aah  4.721425\n",
       "4  aahed  1.592864"
      ]
     },
     "execution_count": 3,
     "metadata": {},
     "output_type": "execute_result"
    }
   ],
   "source": [
    "# Loading subtlex data\n",
    "SUBTLEX_df = pd.read_excel(root+'Datasets/SUBTLEX_Zipf.xlsx')\n",
    "\n",
    "# renaming columns for latter merge use and dropping unneccery columns\n",
    "SUBTLEX_df.rename(columns={'Word':'string', 'Zipf-value': 'zipf'}, inplace=True)\n",
    "SUBTLEX_df.drop(SUBTLEX_df.columns[1:-1], axis=1, inplace=True)\n",
    "SUBTLEX_df.head()"
   ]
  },
  {
   "cell_type": "code",
   "execution_count": 4,
   "metadata": {
    "colab": {
     "base_uri": "https://localhost:8080/"
    },
    "executionInfo": {
     "elapsed": 426,
     "status": "ok",
     "timestamp": 1661867272272,
     "user": {
      "displayName": "Mahvash Siavashpour",
      "userId": "18425997334276185054"
     },
     "user_tz": -270
    },
    "id": "aRwEMEY4lwPL",
    "outputId": "5498a470-feb7-496a-cd39-b3672dfc0d7a"
   },
   "outputs": [
    {
     "data": {
      "text/plain": [
       "count    74286.000000\n",
       "mean         2.479172\n",
       "std          0.835829\n",
       "min          1.592864\n",
       "25%          1.768955\n",
       "50%          2.291834\n",
       "75%          2.954592\n",
       "max          7.621174\n",
       "Name: zipf, dtype: float64"
      ]
     },
     "execution_count": 4,
     "metadata": {},
     "output_type": "execute_result"
    }
   ],
   "source": [
    "SUBTLEX_df['zipf'].describe()"
   ]
  },
  {
   "cell_type": "code",
   "execution_count": 5,
   "metadata": {
    "executionInfo": {
     "elapsed": 10,
     "status": "ok",
     "timestamp": 1661867272745,
     "user": {
      "displayName": "Mahvash Siavashpour",
      "userId": "18425997334276185054"
     },
     "user_tz": -270
    },
    "id": "Yr5xhP79lwVW"
   },
   "outputs": [],
   "source": [
    "def categorise_by_zipf(row):\n",
    "    \"\"\"\n",
    "    categorizing data string as High frequency word (HF),\n",
    "    Low frequency word (LF) and non-word (NW) by zipf value\n",
    "\n",
    "    Parameters\n",
    "    ----------\n",
    "        row: pandas series\n",
    "            pandas dataframe's row containing label and zipf column\n",
    "    \n",
    "    Returns:\n",
    "        category (str): HF, LF, NW\n",
    "    \"\"\"\n",
    "    category = ''\n",
    "    if row['label'] == 0:\n",
    "        category = 'NW'\n",
    "    elif row['label'] == 1 and row['zipf'] > 3:\n",
    "        category = 'HF'\n",
    "    else:\n",
    "        category = 'LF'\n",
    "    return category"
   ]
  },
  {
   "cell_type": "code",
   "execution_count": 6,
   "metadata": {
    "executionInfo": {
     "elapsed": 2273,
     "status": "ok",
     "timestamp": 1661867275010,
     "user": {
      "displayName": "Mahvash Siavashpour",
      "userId": "18425997334276185054"
     },
     "user_tz": -270
    },
    "id": "t0fDCWmcseFM"
   },
   "outputs": [],
   "source": [
    "with open(root+'Datasets/FastText_V3/words_2M.pkl', 'rb') as f:\n",
    "  words = pickle.load(f)\n",
    "\n",
    "with open(root+'Datasets/FastText_V3/nonwords_2M.pkl', 'rb') as f:\n",
    "  nonwords = pickle.load(f)"
   ]
  },
  {
   "cell_type": "code",
   "execution_count": 7,
   "metadata": {
    "executionInfo": {
     "elapsed": 415,
     "status": "ok",
     "timestamp": 1661867282139,
     "user": {
      "displayName": "Mahvash Siavashpour",
      "userId": "18425997334276185054"
     },
     "user_tz": -270
    },
    "id": "KnkAOS_KqQTq"
   },
   "outputs": [],
   "source": [
    "for w in words:\n",
    "    w.insert(3, [1, 0])\n",
    "    w.insert(4, 1)\n",
    "\n",
    "for nw in nonwords:\n",
    "    nw.insert(1, 0)\n",
    "    nw.insert(3, [0, 1])\n",
    "    nw.insert(4, 0)"
   ]
  },
  {
   "cell_type": "code",
   "execution_count": 8,
   "metadata": {
    "executionInfo": {
     "elapsed": 821,
     "status": "ok",
     "timestamp": 1661867284877,
     "user": {
      "displayName": "Mahvash Siavashpour",
      "userId": "18425997334276185054"
     },
     "user_tz": -270
    },
    "id": "oHa1WvOhqQTr"
   },
   "outputs": [],
   "source": [
    "# loading elp words and non-words as seprate dataframes\n",
    "elp_words = pd.DataFrame(words, columns =['string', 'freq', 'represention', 'code', 'label'])\n",
    "elp_nonwords = pd.DataFrame(nonwords, columns =['string', 'freq', 'represention', 'code', 'label'])\n",
    "\n",
    "# mergeing elp words with subtlex words to get zipf for each elp words\n",
    "# elp words that does not have zipf will be droped\n",
    "elp_words = pd.merge(elp_words, SUBTLEX_df, on='string', how='left').dropna()\n",
    "word_df = pd.concat([elp_words, elp_nonwords])\n",
    "\n",
    "# \n",
    "word_df.fillna(0, inplace=True)\n",
    "word_df['category'] = word_df.apply(lambda row: categorise_by_zipf(row), axis=1)\n",
    "word_df.drop_duplicates(subset=['string'], inplace=True)"
   ]
  },
  {
   "cell_type": "code",
   "execution_count": 9,
   "metadata": {
    "colab": {
     "base_uri": "https://localhost:8080/",
     "height": 206
    },
    "executionInfo": {
     "elapsed": 6,
     "status": "ok",
     "timestamp": 1661867285375,
     "user": {
      "displayName": "Mahvash Siavashpour",
      "userId": "18425997334276185054"
     },
     "user_tz": -270
    },
    "id": "KXkCLVEZma4G",
    "outputId": "ae974b2d-9e73-44f3-9bb4-e1624dc0ab4f"
   },
   "outputs": [
    {
     "data": {
      "text/html": [
       "<div>\n",
       "<style scoped>\n",
       "    .dataframe tbody tr th:only-of-type {\n",
       "        vertical-align: middle;\n",
       "    }\n",
       "\n",
       "    .dataframe tbody tr th {\n",
       "        vertical-align: top;\n",
       "    }\n",
       "\n",
       "    .dataframe thead th {\n",
       "        text-align: right;\n",
       "    }\n",
       "</style>\n",
       "<table border=\"1\" class=\"dataframe\">\n",
       "  <thead>\n",
       "    <tr style=\"text-align: right;\">\n",
       "      <th></th>\n",
       "      <th>string</th>\n",
       "      <th>freq</th>\n",
       "      <th>represention</th>\n",
       "      <th>code</th>\n",
       "      <th>label</th>\n",
       "      <th>zipf</th>\n",
       "      <th>category</th>\n",
       "    </tr>\n",
       "  </thead>\n",
       "  <tbody>\n",
       "    <tr>\n",
       "      <th>10020</th>\n",
       "      <td>gisdain</td>\n",
       "      <td>0</td>\n",
       "      <td>[-0.008016349, 0.009628572, 0.061261207, -0.00...</td>\n",
       "      <td>[0, 1]</td>\n",
       "      <td>0</td>\n",
       "      <td>0.000000</td>\n",
       "      <td>NW</td>\n",
       "    </tr>\n",
       "    <tr>\n",
       "      <th>16053</th>\n",
       "      <td>harnful</td>\n",
       "      <td>0</td>\n",
       "      <td>[-0.018260118, -0.032788992, 0.11135751, 0.010...</td>\n",
       "      <td>[0, 1]</td>\n",
       "      <td>0</td>\n",
       "      <td>0.000000</td>\n",
       "      <td>NW</td>\n",
       "    </tr>\n",
       "    <tr>\n",
       "      <th>39009</th>\n",
       "      <td>larts</td>\n",
       "      <td>0</td>\n",
       "      <td>[-0.01137622, 0.0030369982, 0.06992559, 0.0480...</td>\n",
       "      <td>[0, 1]</td>\n",
       "      <td>0</td>\n",
       "      <td>0.000000</td>\n",
       "      <td>NW</td>\n",
       "    </tr>\n",
       "    <tr>\n",
       "      <th>11249</th>\n",
       "      <td>Agypt</td>\n",
       "      <td>0</td>\n",
       "      <td>[-0.0005754954, -0.053105045, 0.06405293, 0.04...</td>\n",
       "      <td>[0, 1]</td>\n",
       "      <td>0</td>\n",
       "      <td>0.000000</td>\n",
       "      <td>NW</td>\n",
       "    </tr>\n",
       "    <tr>\n",
       "      <th>22962</th>\n",
       "      <td>mosquitoes</td>\n",
       "      <td>1560</td>\n",
       "      <td>[0.027048161, -0.013255942, 0.041322533, 0.015...</td>\n",
       "      <td>[1, 0]</td>\n",
       "      <td>1</td>\n",
       "      <td>3.260317</td>\n",
       "      <td>HF</td>\n",
       "    </tr>\n",
       "  </tbody>\n",
       "</table>\n",
       "</div>"
      ],
      "text/plain": [
       "           string  freq                                       represention  \\\n",
       "10020     gisdain     0  [-0.008016349, 0.009628572, 0.061261207, -0.00...   \n",
       "16053     harnful     0  [-0.018260118, -0.032788992, 0.11135751, 0.010...   \n",
       "39009       larts     0  [-0.01137622, 0.0030369982, 0.06992559, 0.0480...   \n",
       "11249       Agypt     0  [-0.0005754954, -0.053105045, 0.06405293, 0.04...   \n",
       "22962  mosquitoes  1560  [0.027048161, -0.013255942, 0.041322533, 0.015...   \n",
       "\n",
       "         code  label      zipf category  \n",
       "10020  [0, 1]      0  0.000000       NW  \n",
       "16053  [0, 1]      0  0.000000       NW  \n",
       "39009  [0, 1]      0  0.000000       NW  \n",
       "11249  [0, 1]      0  0.000000       NW  \n",
       "22962  [1, 0]      1  3.260317       HF  "
      ]
     },
     "execution_count": 9,
     "metadata": {},
     "output_type": "execute_result"
    }
   ],
   "source": [
    "word_df = word_df.sample(frac=1.0)\n",
    "word_df.head()"
   ]
  },
  {
   "cell_type": "code",
   "execution_count": 10,
   "metadata": {
    "executionInfo": {
     "elapsed": 2,
     "status": "ok",
     "timestamp": 1661867286687,
     "user": {
      "displayName": "Mahvash Siavashpour",
      "userId": "18425997334276185054"
     },
     "user_tz": -270
    },
    "id": "pS8ygbEWIqTo"
   },
   "outputs": [],
   "source": [
    "word_df.drop_duplicates(subset=['string'], inplace=True)"
   ]
  },
  {
   "cell_type": "code",
   "execution_count": 11,
   "metadata": {
    "colab": {
     "base_uri": "https://localhost:8080/",
     "height": 175
    },
    "executionInfo": {
     "elapsed": 659,
     "status": "ok",
     "timestamp": 1661867287761,
     "user": {
      "displayName": "Mahvash Siavashpour",
      "userId": "18425997334276185054"
     },
     "user_tz": -270
    },
    "id": "WRWzUCnvBymE",
    "outputId": "ca4d8bec-a043-4000-8afa-76b582bb2804"
   },
   "outputs": [
    {
     "data": {
      "text/html": [
       "<div>\n",
       "<style scoped>\n",
       "    .dataframe tbody tr th:only-of-type {\n",
       "        vertical-align: middle;\n",
       "    }\n",
       "\n",
       "    .dataframe tbody tr th {\n",
       "        vertical-align: top;\n",
       "    }\n",
       "\n",
       "    .dataframe thead th {\n",
       "        text-align: right;\n",
       "    }\n",
       "</style>\n",
       "<table border=\"1\" class=\"dataframe\">\n",
       "  <thead>\n",
       "    <tr style=\"text-align: right;\">\n",
       "      <th></th>\n",
       "      <th>string</th>\n",
       "      <th>freq</th>\n",
       "      <th>represention</th>\n",
       "      <th>code</th>\n",
       "      <th>label</th>\n",
       "      <th>zipf</th>\n",
       "    </tr>\n",
       "    <tr>\n",
       "      <th>category</th>\n",
       "      <th></th>\n",
       "      <th></th>\n",
       "      <th></th>\n",
       "      <th></th>\n",
       "      <th></th>\n",
       "      <th></th>\n",
       "    </tr>\n",
       "  </thead>\n",
       "  <tbody>\n",
       "    <tr>\n",
       "      <th>HF</th>\n",
       "      <td>14333</td>\n",
       "      <td>14333</td>\n",
       "      <td>14333</td>\n",
       "      <td>14333</td>\n",
       "      <td>14333</td>\n",
       "      <td>14333</td>\n",
       "    </tr>\n",
       "    <tr>\n",
       "      <th>LF</th>\n",
       "      <td>19645</td>\n",
       "      <td>19645</td>\n",
       "      <td>19645</td>\n",
       "      <td>19645</td>\n",
       "      <td>19645</td>\n",
       "      <td>19645</td>\n",
       "    </tr>\n",
       "    <tr>\n",
       "      <th>NW</th>\n",
       "      <td>40339</td>\n",
       "      <td>40339</td>\n",
       "      <td>40339</td>\n",
       "      <td>40339</td>\n",
       "      <td>40339</td>\n",
       "      <td>40339</td>\n",
       "    </tr>\n",
       "  </tbody>\n",
       "</table>\n",
       "</div>"
      ],
      "text/plain": [
       "          string   freq  represention   code  label   zipf\n",
       "category                                                  \n",
       "HF         14333  14333         14333  14333  14333  14333\n",
       "LF         19645  19645         19645  19645  19645  19645\n",
       "NW         40339  40339         40339  40339  40339  40339"
      ]
     },
     "execution_count": 11,
     "metadata": {},
     "output_type": "execute_result"
    }
   ],
   "source": [
    "word_df.groupby('category').count()"
   ]
  },
  {
   "cell_type": "code",
   "execution_count": 12,
   "metadata": {
    "executionInfo": {
     "elapsed": 409,
     "status": "ok",
     "timestamp": 1661867289893,
     "user": {
      "displayName": "Mahvash Siavashpour",
      "userId": "18425997334276185054"
     },
     "user_tz": -270
    },
    "id": "g42AtS4aFvnu"
   },
   "outputs": [],
   "source": [
    "X_train, X_test, y_train, y_test = train_test_split(np.array(list(word_df['represention'])), word_df['label'].to_numpy(), test_size=0.2, shuffle=True)"
   ]
  },
  {
   "cell_type": "markdown",
   "metadata": {
    "id": "sQOZT435Ww6G"
   },
   "source": [
    "# Logistic Regression"
   ]
  },
  {
   "cell_type": "markdown",
   "metadata": {
    "id": "jTZpkVP4kYL9"
   },
   "source": [
    "## GridSearch"
   ]
  },
  {
   "cell_type": "code",
   "execution_count": 13,
   "metadata": {
    "colab": {
     "base_uri": "https://localhost:8080/"
    },
    "executionInfo": {
     "elapsed": 2738544,
     "status": "ok",
     "timestamp": 1661870030687,
     "user": {
      "displayName": "Mahvash Siavashpour",
      "userId": "18425997334276185054"
     },
     "user_tz": -270
    },
    "id": "I4Jd11ptjYON",
    "outputId": "7508eb63-626e-4c11-e3d7-a55dfe3b9e36"
   },
   "outputs": [
    {
     "name": "stdout",
     "output_type": "stream",
     "text": [
      "Fitting 5 folds for each of 56 candidates, totalling 280 fits\n"
     ]
    },
    {
     "name": "stderr",
     "output_type": "stream",
     "text": [
      "C:\\Users\\Lenovo\\anaconda3\\envs\\cmdstan\\lib\\site-packages\\sklearn\\model_selection\\_validation.py:378: FitFailedWarning: \n",
      "35 fits failed out of a total of 280.\n",
      "The score on these train-test partitions for these parameters will be set to nan.\n",
      "If these failures are not expected, you can try to debug them by setting error_score='raise'.\n",
      "\n",
      "Below are more details about the failures:\n",
      "--------------------------------------------------------------------------------\n",
      "35 fits failed with the following error:\n",
      "Traceback (most recent call last):\n",
      "  File \"C:\\Users\\Lenovo\\anaconda3\\envs\\cmdstan\\lib\\site-packages\\sklearn\\model_selection\\_validation.py\", line 686, in _fit_and_score\n",
      "    estimator.fit(X_train, y_train, **fit_params)\n",
      "  File \"C:\\Users\\Lenovo\\anaconda3\\envs\\cmdstan\\lib\\site-packages\\sklearn\\linear_model\\_logistic.py\", line 1101, in fit\n",
      "    raise ValueError(\n",
      "ValueError: l1_ratio must be between 0 and 1; got (l1_ratio=None)\n",
      "\n",
      "  warnings.warn(some_fits_failed_message, FitFailedWarning)\n",
      "C:\\Users\\Lenovo\\anaconda3\\envs\\cmdstan\\lib\\site-packages\\sklearn\\model_selection\\_search.py:953: UserWarning: One or more of the test scores are non-finite: [0.54165475 0.85459103 0.95616708 0.97318894 0.98085886 0.98284363\n",
      " 0.98970617 0.98856241 0.99063129 0.99083312 0.99047991 0.99069857\n",
      " 0.99049673 0.99054719 0.85511244 0.9731553  0.98282681 0.98856241\n",
      " 0.99083312 0.99068176 0.99053037 0.85517972 0.9731553  0.98282681\n",
      " 0.98856241 0.99083312 0.99068176 0.99053037 0.85985562 0.97318894\n",
      " 0.98282681 0.98856241 0.99079948 0.99053037 0.99049673        nan\n",
      " 0.54165475 0.85512925        nan 0.95652031 0.9731553         nan\n",
      " 0.98090932 0.98282681        nan 0.98985755 0.98859605        nan\n",
      " 0.99079949 0.99076584        nan 0.99061447 0.99064812        nan\n",
      " 0.99056401 0.99061447]\n",
      "  warnings.warn(\n"
     ]
    },
    {
     "data": {
      "text/html": [
       "<style>#sk-container-id-1 {color: black;background-color: white;}#sk-container-id-1 pre{padding: 0;}#sk-container-id-1 div.sk-toggleable {background-color: white;}#sk-container-id-1 label.sk-toggleable__label {cursor: pointer;display: block;width: 100%;margin-bottom: 0;padding: 0.3em;box-sizing: border-box;text-align: center;}#sk-container-id-1 label.sk-toggleable__label-arrow:before {content: \"▸\";float: left;margin-right: 0.25em;color: #696969;}#sk-container-id-1 label.sk-toggleable__label-arrow:hover:before {color: black;}#sk-container-id-1 div.sk-estimator:hover label.sk-toggleable__label-arrow:before {color: black;}#sk-container-id-1 div.sk-toggleable__content {max-height: 0;max-width: 0;overflow: hidden;text-align: left;background-color: #f0f8ff;}#sk-container-id-1 div.sk-toggleable__content pre {margin: 0.2em;color: black;border-radius: 0.25em;background-color: #f0f8ff;}#sk-container-id-1 input.sk-toggleable__control:checked~div.sk-toggleable__content {max-height: 200px;max-width: 100%;overflow: auto;}#sk-container-id-1 input.sk-toggleable__control:checked~label.sk-toggleable__label-arrow:before {content: \"▾\";}#sk-container-id-1 div.sk-estimator input.sk-toggleable__control:checked~label.sk-toggleable__label {background-color: #d4ebff;}#sk-container-id-1 div.sk-label input.sk-toggleable__control:checked~label.sk-toggleable__label {background-color: #d4ebff;}#sk-container-id-1 input.sk-hidden--visually {border: 0;clip: rect(1px 1px 1px 1px);clip: rect(1px, 1px, 1px, 1px);height: 1px;margin: -1px;overflow: hidden;padding: 0;position: absolute;width: 1px;}#sk-container-id-1 div.sk-estimator {font-family: monospace;background-color: #f0f8ff;border: 1px dotted black;border-radius: 0.25em;box-sizing: border-box;margin-bottom: 0.5em;}#sk-container-id-1 div.sk-estimator:hover {background-color: #d4ebff;}#sk-container-id-1 div.sk-parallel-item::after {content: \"\";width: 100%;border-bottom: 1px solid gray;flex-grow: 1;}#sk-container-id-1 div.sk-label:hover label.sk-toggleable__label {background-color: #d4ebff;}#sk-container-id-1 div.sk-serial::before {content: \"\";position: absolute;border-left: 1px solid gray;box-sizing: border-box;top: 0;bottom: 0;left: 50%;z-index: 0;}#sk-container-id-1 div.sk-serial {display: flex;flex-direction: column;align-items: center;background-color: white;padding-right: 0.2em;padding-left: 0.2em;position: relative;}#sk-container-id-1 div.sk-item {position: relative;z-index: 1;}#sk-container-id-1 div.sk-parallel {display: flex;align-items: stretch;justify-content: center;background-color: white;position: relative;}#sk-container-id-1 div.sk-item::before, #sk-container-id-1 div.sk-parallel-item::before {content: \"\";position: absolute;border-left: 1px solid gray;box-sizing: border-box;top: 0;bottom: 0;left: 50%;z-index: -1;}#sk-container-id-1 div.sk-parallel-item {display: flex;flex-direction: column;z-index: 1;position: relative;background-color: white;}#sk-container-id-1 div.sk-parallel-item:first-child::after {align-self: flex-end;width: 50%;}#sk-container-id-1 div.sk-parallel-item:last-child::after {align-self: flex-start;width: 50%;}#sk-container-id-1 div.sk-parallel-item:only-child::after {width: 0;}#sk-container-id-1 div.sk-dashed-wrapped {border: 1px dashed gray;margin: 0 0.4em 0.5em 0.4em;box-sizing: border-box;padding-bottom: 0.4em;background-color: white;}#sk-container-id-1 div.sk-label label {font-family: monospace;font-weight: bold;display: inline-block;line-height: 1.2em;}#sk-container-id-1 div.sk-label-container {text-align: center;}#sk-container-id-1 div.sk-container {/* jupyter's `normalize.less` sets `[hidden] { display: none; }` but bootstrap.min.css set `[hidden] { display: none !important; }` so we also need the `!important` here to be able to override the default hidden behavior on the sphinx rendered scikit-learn.org. See: https://github.com/scikit-learn/scikit-learn/issues/21755 */display: inline-block !important;position: relative;}#sk-container-id-1 div.sk-text-repr-fallback {display: none;}</style><div id=\"sk-container-id-1\" class=\"sk-top-container\"><div class=\"sk-text-repr-fallback\"><pre>GridSearchCV(cv=5, estimator=LogisticRegression(max_iter=1000), n_jobs=-1,\n",
       "             param_grid=[{&#x27;C&#x27;: array([1.e-03, 1.e-02, 1.e-01, 1.e+00, 1.e+01, 1.e+02, 1.e+03]),\n",
       "                          &#x27;penalty&#x27;: [&#x27;l1&#x27;, &#x27;l2&#x27;], &#x27;solver&#x27;: [&#x27;liblinear&#x27;]},\n",
       "                         {&#x27;C&#x27;: array([1.e-03, 1.e-02, 1.e-01, 1.e+00, 1.e+01, 1.e+02, 1.e+03]),\n",
       "                          &#x27;penalty&#x27;: [&#x27;l2&#x27;], &#x27;solver&#x27;: [&#x27;newton-cg&#x27;]},\n",
       "                         {&#x27;C&#x27;: array([1.e-03, 1.e-02, 1.e-01, 1.e+00, 1.e+01, 1.e+02, 1.e+03]),\n",
       "                          &#x27;penalty&#x27;: [&#x27;l2&#x27;], &#x27;solver&#x27;: [&#x27;lbfgs&#x27;]},\n",
       "                         {&#x27;C&#x27;: array([1.e-03, 1.e-02, 1.e-01, 1.e+00, 1.e+01, 1.e+02, 1.e+03]),\n",
       "                          &#x27;penalty&#x27;: [&#x27;l2&#x27;], &#x27;solver&#x27;: [&#x27;sag&#x27;]},\n",
       "                         {&#x27;C&#x27;: array([1.e-03, 1.e-02, 1.e-01, 1.e+00, 1.e+01, 1.e+02, 1.e+03]),\n",
       "                          &#x27;penalty&#x27;: [&#x27;elasticnet&#x27;, &#x27;l1&#x27;, &#x27;l2&#x27;],\n",
       "                          &#x27;solver&#x27;: [&#x27;saga&#x27;]}],\n",
       "             verbose=10)</pre><b>In a Jupyter environment, please rerun this cell to show the HTML representation or trust the notebook. <br />On GitHub, the HTML representation is unable to render, please try loading this page with nbviewer.org.</b></div><div class=\"sk-container\" hidden><div class=\"sk-item sk-dashed-wrapped\"><div class=\"sk-label-container\"><div class=\"sk-label sk-toggleable\"><input class=\"sk-toggleable__control sk-hidden--visually\" id=\"sk-estimator-id-1\" type=\"checkbox\" ><label for=\"sk-estimator-id-1\" class=\"sk-toggleable__label sk-toggleable__label-arrow\">GridSearchCV</label><div class=\"sk-toggleable__content\"><pre>GridSearchCV(cv=5, estimator=LogisticRegression(max_iter=1000), n_jobs=-1,\n",
       "             param_grid=[{&#x27;C&#x27;: array([1.e-03, 1.e-02, 1.e-01, 1.e+00, 1.e+01, 1.e+02, 1.e+03]),\n",
       "                          &#x27;penalty&#x27;: [&#x27;l1&#x27;, &#x27;l2&#x27;], &#x27;solver&#x27;: [&#x27;liblinear&#x27;]},\n",
       "                         {&#x27;C&#x27;: array([1.e-03, 1.e-02, 1.e-01, 1.e+00, 1.e+01, 1.e+02, 1.e+03]),\n",
       "                          &#x27;penalty&#x27;: [&#x27;l2&#x27;], &#x27;solver&#x27;: [&#x27;newton-cg&#x27;]},\n",
       "                         {&#x27;C&#x27;: array([1.e-03, 1.e-02, 1.e-01, 1.e+00, 1.e+01, 1.e+02, 1.e+03]),\n",
       "                          &#x27;penalty&#x27;: [&#x27;l2&#x27;], &#x27;solver&#x27;: [&#x27;lbfgs&#x27;]},\n",
       "                         {&#x27;C&#x27;: array([1.e-03, 1.e-02, 1.e-01, 1.e+00, 1.e+01, 1.e+02, 1.e+03]),\n",
       "                          &#x27;penalty&#x27;: [&#x27;l2&#x27;], &#x27;solver&#x27;: [&#x27;sag&#x27;]},\n",
       "                         {&#x27;C&#x27;: array([1.e-03, 1.e-02, 1.e-01, 1.e+00, 1.e+01, 1.e+02, 1.e+03]),\n",
       "                          &#x27;penalty&#x27;: [&#x27;elasticnet&#x27;, &#x27;l1&#x27;, &#x27;l2&#x27;],\n",
       "                          &#x27;solver&#x27;: [&#x27;saga&#x27;]}],\n",
       "             verbose=10)</pre></div></div></div><div class=\"sk-parallel\"><div class=\"sk-parallel-item\"><div class=\"sk-item\"><div class=\"sk-label-container\"><div class=\"sk-label sk-toggleable\"><input class=\"sk-toggleable__control sk-hidden--visually\" id=\"sk-estimator-id-2\" type=\"checkbox\" ><label for=\"sk-estimator-id-2\" class=\"sk-toggleable__label sk-toggleable__label-arrow\">estimator: LogisticRegression</label><div class=\"sk-toggleable__content\"><pre>LogisticRegression(max_iter=1000)</pre></div></div></div><div class=\"sk-serial\"><div class=\"sk-item\"><div class=\"sk-estimator sk-toggleable\"><input class=\"sk-toggleable__control sk-hidden--visually\" id=\"sk-estimator-id-3\" type=\"checkbox\" ><label for=\"sk-estimator-id-3\" class=\"sk-toggleable__label sk-toggleable__label-arrow\">LogisticRegression</label><div class=\"sk-toggleable__content\"><pre>LogisticRegression(max_iter=1000)</pre></div></div></div></div></div></div></div></div></div></div>"
      ],
      "text/plain": [
       "GridSearchCV(cv=5, estimator=LogisticRegression(max_iter=1000), n_jobs=-1,\n",
       "             param_grid=[{'C': array([1.e-03, 1.e-02, 1.e-01, 1.e+00, 1.e+01, 1.e+02, 1.e+03]),\n",
       "                          'penalty': ['l1', 'l2'], 'solver': ['liblinear']},\n",
       "                         {'C': array([1.e-03, 1.e-02, 1.e-01, 1.e+00, 1.e+01, 1.e+02, 1.e+03]),\n",
       "                          'penalty': ['l2'], 'solver': ['newton-cg']},\n",
       "                         {'C': array([1.e-03, 1.e-02, 1.e-01, 1.e+00, 1.e+01, 1.e+02, 1.e+03]),\n",
       "                          'penalty': ['l2'], 'solver': ['lbfgs']},\n",
       "                         {'C': array([1.e-03, 1.e-02, 1.e-01, 1.e+00, 1.e+01, 1.e+02, 1.e+03]),\n",
       "                          'penalty': ['l2'], 'solver': ['sag']},\n",
       "                         {'C': array([1.e-03, 1.e-02, 1.e-01, 1.e+00, 1.e+01, 1.e+02, 1.e+03]),\n",
       "                          'penalty': ['elasticnet', 'l1', 'l2'],\n",
       "                          'solver': ['saga']}],\n",
       "             verbose=10)"
      ]
     },
     "execution_count": 13,
     "metadata": {},
     "output_type": "execute_result"
    }
   ],
   "source": [
    "param_grid = [\n",
    "  {'solver': ['liblinear'],  'C': np.logspace(-3,3,7), \"penalty\":[\"l1\",\"l2\"]},\n",
    "  {'solver': ['newton-cg'],  'C': np.logspace(-3,3,7), \"penalty\":[\"l2\"]},\n",
    "  {'solver': ['lbfgs'],  'C': np.logspace(-3,3,7), \"penalty\":[\"l2\"]},\n",
    "  {'solver': ['sag'],  'C': np.logspace(-3,3,7), \"penalty\":[\"l2\"]},\n",
    "  {'solver': ['saga'],  'C': np.logspace(-3,3,7), \"penalty\":[\"elasticnet\", \"l1\", \"l2\"]},\n",
    "]\n",
    "logreg = LogisticRegression(max_iter=1000)\n",
    "logreg_cv = GridSearchCV(logreg, param_grid, cv=5, n_jobs=-1, verbose=10)\n",
    "logreg_cv.fit(X_train, y_train)"
   ]
  },
  {
   "cell_type": "code",
   "execution_count": 14,
   "metadata": {
    "colab": {
     "base_uri": "https://localhost:8080/"
    },
    "executionInfo": {
     "elapsed": 810,
     "status": "ok",
     "timestamp": 1661872030816,
     "user": {
      "displayName": "Mahvash Siavashpour",
      "userId": "18425997334276185054"
     },
     "user_tz": -270
    },
    "id": "Z9Dii6XAjX-6",
    "outputId": "d62d4e64-7bbf-4532-a27a-662a82f86b4f"
   },
   "outputs": [
    {
     "name": "stdout",
     "output_type": "stream",
     "text": [
      "tuned hpyerparameters :(best parameters)  {'C': 10.0, 'penalty': 'l2', 'solver': 'liblinear'}\n",
      "best accuracy : 0.9908331190822949\n",
      "mean accuracies : [0.54165475 0.85459103 0.95616708 0.97318894 0.98085886 0.98284363\n",
      " 0.98970617 0.98856241 0.99063129 0.99083312 0.99047991 0.99069857\n",
      " 0.99049673 0.99054719 0.85511244 0.9731553  0.98282681 0.98856241\n",
      " 0.99083312 0.99068176 0.99053037 0.85517972 0.9731553  0.98282681\n",
      " 0.98856241 0.99083312 0.99068176 0.99053037 0.85985562 0.97318894\n",
      " 0.98282681 0.98856241 0.99079948 0.99053037 0.99049673        nan\n",
      " 0.54165475 0.85512925        nan 0.95652031 0.9731553         nan\n",
      " 0.98090932 0.98282681        nan 0.98985755 0.98859605        nan\n",
      " 0.99079949 0.99076584        nan 0.99061447 0.99064812        nan\n",
      " 0.99056401 0.99061447]\n"
     ]
    }
   ],
   "source": [
    "print(\"tuned hpyerparameters :(best parameters) \", logreg_cv.best_params_)\n",
    "print(\"best accuracy :\", logreg_cv.best_score_)\n",
    "print(\"mean accuracies :\", logreg_cv.cv_results_['mean_test_score'])"
   ]
  },
  {
   "cell_type": "markdown",
   "metadata": {},
   "source": [
    "tuned hpyerparameters :(best parameters)  {'C': 10.0, 'penalty': 'l2', 'solver': 'liblinear'}"
   ]
  },
  {
   "cell_type": "markdown",
   "metadata": {
    "id": "fv6KNbASkYL-",
    "tags": []
   },
   "source": [
    "## Logistic regression fit by best params"
   ]
  },
  {
   "cell_type": "code",
   "execution_count": 16,
   "metadata": {},
   "outputs": [
    {
     "name": "stderr",
     "output_type": "stream",
     "text": [
      "C:\\Users\\Lenovo\\anaconda3\\envs\\cmdstan\\lib\\site-packages\\sklearn\\linear_model\\_logistic.py:1153: UserWarning: 'n_jobs' > 1 does not have any effect when 'solver' is set to 'liblinear'. Got 'n_jobs' = 8.\n",
      "  warnings.warn(\n"
     ]
    },
    {
     "name": "stdout",
     "output_type": "stream",
     "text": [
      "[LibLinear]"
     ]
    },
    {
     "data": {
      "text/html": [
       "<style>#sk-container-id-2 {color: black;background-color: white;}#sk-container-id-2 pre{padding: 0;}#sk-container-id-2 div.sk-toggleable {background-color: white;}#sk-container-id-2 label.sk-toggleable__label {cursor: pointer;display: block;width: 100%;margin-bottom: 0;padding: 0.3em;box-sizing: border-box;text-align: center;}#sk-container-id-2 label.sk-toggleable__label-arrow:before {content: \"▸\";float: left;margin-right: 0.25em;color: #696969;}#sk-container-id-2 label.sk-toggleable__label-arrow:hover:before {color: black;}#sk-container-id-2 div.sk-estimator:hover label.sk-toggleable__label-arrow:before {color: black;}#sk-container-id-2 div.sk-toggleable__content {max-height: 0;max-width: 0;overflow: hidden;text-align: left;background-color: #f0f8ff;}#sk-container-id-2 div.sk-toggleable__content pre {margin: 0.2em;color: black;border-radius: 0.25em;background-color: #f0f8ff;}#sk-container-id-2 input.sk-toggleable__control:checked~div.sk-toggleable__content {max-height: 200px;max-width: 100%;overflow: auto;}#sk-container-id-2 input.sk-toggleable__control:checked~label.sk-toggleable__label-arrow:before {content: \"▾\";}#sk-container-id-2 div.sk-estimator input.sk-toggleable__control:checked~label.sk-toggleable__label {background-color: #d4ebff;}#sk-container-id-2 div.sk-label input.sk-toggleable__control:checked~label.sk-toggleable__label {background-color: #d4ebff;}#sk-container-id-2 input.sk-hidden--visually {border: 0;clip: rect(1px 1px 1px 1px);clip: rect(1px, 1px, 1px, 1px);height: 1px;margin: -1px;overflow: hidden;padding: 0;position: absolute;width: 1px;}#sk-container-id-2 div.sk-estimator {font-family: monospace;background-color: #f0f8ff;border: 1px dotted black;border-radius: 0.25em;box-sizing: border-box;margin-bottom: 0.5em;}#sk-container-id-2 div.sk-estimator:hover {background-color: #d4ebff;}#sk-container-id-2 div.sk-parallel-item::after {content: \"\";width: 100%;border-bottom: 1px solid gray;flex-grow: 1;}#sk-container-id-2 div.sk-label:hover label.sk-toggleable__label {background-color: #d4ebff;}#sk-container-id-2 div.sk-serial::before {content: \"\";position: absolute;border-left: 1px solid gray;box-sizing: border-box;top: 0;bottom: 0;left: 50%;z-index: 0;}#sk-container-id-2 div.sk-serial {display: flex;flex-direction: column;align-items: center;background-color: white;padding-right: 0.2em;padding-left: 0.2em;position: relative;}#sk-container-id-2 div.sk-item {position: relative;z-index: 1;}#sk-container-id-2 div.sk-parallel {display: flex;align-items: stretch;justify-content: center;background-color: white;position: relative;}#sk-container-id-2 div.sk-item::before, #sk-container-id-2 div.sk-parallel-item::before {content: \"\";position: absolute;border-left: 1px solid gray;box-sizing: border-box;top: 0;bottom: 0;left: 50%;z-index: -1;}#sk-container-id-2 div.sk-parallel-item {display: flex;flex-direction: column;z-index: 1;position: relative;background-color: white;}#sk-container-id-2 div.sk-parallel-item:first-child::after {align-self: flex-end;width: 50%;}#sk-container-id-2 div.sk-parallel-item:last-child::after {align-self: flex-start;width: 50%;}#sk-container-id-2 div.sk-parallel-item:only-child::after {width: 0;}#sk-container-id-2 div.sk-dashed-wrapped {border: 1px dashed gray;margin: 0 0.4em 0.5em 0.4em;box-sizing: border-box;padding-bottom: 0.4em;background-color: white;}#sk-container-id-2 div.sk-label label {font-family: monospace;font-weight: bold;display: inline-block;line-height: 1.2em;}#sk-container-id-2 div.sk-label-container {text-align: center;}#sk-container-id-2 div.sk-container {/* jupyter's `normalize.less` sets `[hidden] { display: none; }` but bootstrap.min.css set `[hidden] { display: none !important; }` so we also need the `!important` here to be able to override the default hidden behavior on the sphinx rendered scikit-learn.org. See: https://github.com/scikit-learn/scikit-learn/issues/21755 */display: inline-block !important;position: relative;}#sk-container-id-2 div.sk-text-repr-fallback {display: none;}</style><div id=\"sk-container-id-2\" class=\"sk-top-container\"><div class=\"sk-text-repr-fallback\"><pre>LogisticRegression(C=10, max_iter=1000, n_jobs=-1, solver=&#x27;liblinear&#x27;,\n",
       "                   verbose=1)</pre><b>In a Jupyter environment, please rerun this cell to show the HTML representation or trust the notebook. <br />On GitHub, the HTML representation is unable to render, please try loading this page with nbviewer.org.</b></div><div class=\"sk-container\" hidden><div class=\"sk-item\"><div class=\"sk-estimator sk-toggleable\"><input class=\"sk-toggleable__control sk-hidden--visually\" id=\"sk-estimator-id-2\" type=\"checkbox\" checked><label for=\"sk-estimator-id-2\" class=\"sk-toggleable__label sk-toggleable__label-arrow\">LogisticRegression</label><div class=\"sk-toggleable__content\"><pre>LogisticRegression(C=10, max_iter=1000, n_jobs=-1, solver=&#x27;liblinear&#x27;,\n",
       "                   verbose=1)</pre></div></div></div></div></div>"
      ],
      "text/plain": [
       "LogisticRegression(C=10, max_iter=1000, n_jobs=-1, solver='liblinear',\n",
       "                   verbose=1)"
      ]
     },
     "execution_count": 16,
     "metadata": {},
     "output_type": "execute_result"
    }
   ],
   "source": [
    "# LR_classifier = LogisticRegression(solver= 'liblinear',\n",
    "#                                    C=10,\n",
    "#                                    penalty='l2',\n",
    "#                                    max_iter=1000,\n",
    "#                                    n_jobs=-1,\n",
    "#                                    verbose=1)\n",
    "# LR_classifier.fit(X_train, y_train)"
   ]
  },
  {
   "cell_type": "code",
   "execution_count": 15,
   "metadata": {
    "colab": {
     "base_uri": "https://localhost:8080/"
    },
    "executionInfo": {
     "elapsed": 34159,
     "status": "ok",
     "timestamp": 1661872066981,
     "user": {
      "displayName": "Mahvash Siavashpour",
      "userId": "18425997334276185054"
     },
     "user_tz": -270
    },
    "id": "TPedljT4j9Pp",
    "outputId": "a68a0f5a-fd2d-43be-bde2-44de197b8383"
   },
   "outputs": [
    {
     "name": "stdout",
     "output_type": "stream",
     "text": [
      "[LibLinear]"
     ]
    },
    {
     "name": "stderr",
     "output_type": "stream",
     "text": [
      "C:\\Users\\Lenovo\\anaconda3\\envs\\cmdstan\\lib\\site-packages\\sklearn\\linear_model\\_logistic.py:1153: UserWarning: 'n_jobs' > 1 does not have any effect when 'solver' is set to 'liblinear'. Got 'n_jobs' = 8.\n",
      "  warnings.warn(\n"
     ]
    },
    {
     "data": {
      "text/html": [
       "<style>#sk-container-id-2 {color: black;background-color: white;}#sk-container-id-2 pre{padding: 0;}#sk-container-id-2 div.sk-toggleable {background-color: white;}#sk-container-id-2 label.sk-toggleable__label {cursor: pointer;display: block;width: 100%;margin-bottom: 0;padding: 0.3em;box-sizing: border-box;text-align: center;}#sk-container-id-2 label.sk-toggleable__label-arrow:before {content: \"▸\";float: left;margin-right: 0.25em;color: #696969;}#sk-container-id-2 label.sk-toggleable__label-arrow:hover:before {color: black;}#sk-container-id-2 div.sk-estimator:hover label.sk-toggleable__label-arrow:before {color: black;}#sk-container-id-2 div.sk-toggleable__content {max-height: 0;max-width: 0;overflow: hidden;text-align: left;background-color: #f0f8ff;}#sk-container-id-2 div.sk-toggleable__content pre {margin: 0.2em;color: black;border-radius: 0.25em;background-color: #f0f8ff;}#sk-container-id-2 input.sk-toggleable__control:checked~div.sk-toggleable__content {max-height: 200px;max-width: 100%;overflow: auto;}#sk-container-id-2 input.sk-toggleable__control:checked~label.sk-toggleable__label-arrow:before {content: \"▾\";}#sk-container-id-2 div.sk-estimator input.sk-toggleable__control:checked~label.sk-toggleable__label {background-color: #d4ebff;}#sk-container-id-2 div.sk-label input.sk-toggleable__control:checked~label.sk-toggleable__label {background-color: #d4ebff;}#sk-container-id-2 input.sk-hidden--visually {border: 0;clip: rect(1px 1px 1px 1px);clip: rect(1px, 1px, 1px, 1px);height: 1px;margin: -1px;overflow: hidden;padding: 0;position: absolute;width: 1px;}#sk-container-id-2 div.sk-estimator {font-family: monospace;background-color: #f0f8ff;border: 1px dotted black;border-radius: 0.25em;box-sizing: border-box;margin-bottom: 0.5em;}#sk-container-id-2 div.sk-estimator:hover {background-color: #d4ebff;}#sk-container-id-2 div.sk-parallel-item::after {content: \"\";width: 100%;border-bottom: 1px solid gray;flex-grow: 1;}#sk-container-id-2 div.sk-label:hover label.sk-toggleable__label {background-color: #d4ebff;}#sk-container-id-2 div.sk-serial::before {content: \"\";position: absolute;border-left: 1px solid gray;box-sizing: border-box;top: 0;bottom: 0;left: 50%;z-index: 0;}#sk-container-id-2 div.sk-serial {display: flex;flex-direction: column;align-items: center;background-color: white;padding-right: 0.2em;padding-left: 0.2em;position: relative;}#sk-container-id-2 div.sk-item {position: relative;z-index: 1;}#sk-container-id-2 div.sk-parallel {display: flex;align-items: stretch;justify-content: center;background-color: white;position: relative;}#sk-container-id-2 div.sk-item::before, #sk-container-id-2 div.sk-parallel-item::before {content: \"\";position: absolute;border-left: 1px solid gray;box-sizing: border-box;top: 0;bottom: 0;left: 50%;z-index: -1;}#sk-container-id-2 div.sk-parallel-item {display: flex;flex-direction: column;z-index: 1;position: relative;background-color: white;}#sk-container-id-2 div.sk-parallel-item:first-child::after {align-self: flex-end;width: 50%;}#sk-container-id-2 div.sk-parallel-item:last-child::after {align-self: flex-start;width: 50%;}#sk-container-id-2 div.sk-parallel-item:only-child::after {width: 0;}#sk-container-id-2 div.sk-dashed-wrapped {border: 1px dashed gray;margin: 0 0.4em 0.5em 0.4em;box-sizing: border-box;padding-bottom: 0.4em;background-color: white;}#sk-container-id-2 div.sk-label label {font-family: monospace;font-weight: bold;display: inline-block;line-height: 1.2em;}#sk-container-id-2 div.sk-label-container {text-align: center;}#sk-container-id-2 div.sk-container {/* jupyter's `normalize.less` sets `[hidden] { display: none; }` but bootstrap.min.css set `[hidden] { display: none !important; }` so we also need the `!important` here to be able to override the default hidden behavior on the sphinx rendered scikit-learn.org. See: https://github.com/scikit-learn/scikit-learn/issues/21755 */display: inline-block !important;position: relative;}#sk-container-id-2 div.sk-text-repr-fallback {display: none;}</style><div id=\"sk-container-id-2\" class=\"sk-top-container\"><div class=\"sk-text-repr-fallback\"><pre>LogisticRegression(C=10.0, max_iter=1000, n_jobs=-1, solver=&#x27;liblinear&#x27;,\n",
       "                   verbose=1)</pre><b>In a Jupyter environment, please rerun this cell to show the HTML representation or trust the notebook. <br />On GitHub, the HTML representation is unable to render, please try loading this page with nbviewer.org.</b></div><div class=\"sk-container\" hidden><div class=\"sk-item\"><div class=\"sk-estimator sk-toggleable\"><input class=\"sk-toggleable__control sk-hidden--visually\" id=\"sk-estimator-id-4\" type=\"checkbox\" checked><label for=\"sk-estimator-id-4\" class=\"sk-toggleable__label sk-toggleable__label-arrow\">LogisticRegression</label><div class=\"sk-toggleable__content\"><pre>LogisticRegression(C=10.0, max_iter=1000, n_jobs=-1, solver=&#x27;liblinear&#x27;,\n",
       "                   verbose=1)</pre></div></div></div></div></div>"
      ],
      "text/plain": [
       "LogisticRegression(C=10.0, max_iter=1000, n_jobs=-1, solver='liblinear',\n",
       "                   verbose=1)"
      ]
     },
     "execution_count": 15,
     "metadata": {},
     "output_type": "execute_result"
    }
   ],
   "source": [
    "LR_classifier = LogisticRegression(solver= logreg_cv.best_params_['solver'],\n",
    "                                   C=logreg_cv.best_params_['C'],\n",
    "                                   penalty=logreg_cv.best_params_['penalty'],\n",
    "                                   max_iter=1000,\n",
    "                                   n_jobs=-1,\n",
    "                                   verbose=1)\n",
    "LR_classifier.fit(X_train, y_train)"
   ]
  },
  {
   "cell_type": "code",
   "execution_count": 18,
   "metadata": {
    "colab": {
     "base_uri": "https://localhost:8080/"
    },
    "executionInfo": {
     "elapsed": 17,
     "status": "ok",
     "timestamp": 1661872066982,
     "user": {
      "displayName": "Mahvash Siavashpour",
      "userId": "18425997334276185054"
     },
     "user_tz": -270
    },
    "id": "pMUHquEUJT2o",
    "outputId": "2973255f-e572-41b8-b87a-b56e54848085"
   },
   "outputs": [
    {
     "name": "stdout",
     "output_type": "stream",
     "text": [
      "0.9901776103336921\n"
     ]
    }
   ],
   "source": [
    "acc_score = LR_classifier.score(X_test, y_test)\n",
    "print(acc_score)"
   ]
  },
  {
   "cell_type": "code",
   "execution_count": 19,
   "metadata": {
    "colab": {
     "base_uri": "https://localhost:8080/",
     "height": 520
    },
    "executionInfo": {
     "elapsed": 14,
     "status": "ok",
     "timestamp": 1661872066982,
     "user": {
      "displayName": "Mahvash Siavashpour",
      "userId": "18425997334276185054"
     },
     "user_tz": -270
    },
    "id": "xJS53on5ETZm",
    "outputId": "4bda270f-8d99-43eb-93ac-31c3fc2123d7"
   },
   "outputs": [
    {
     "data": {
      "image/png": "[encoded data removed]",
      "text/plain": [
       "<Figure size 648x648 with 1 Axes>"
      ]
     },
     "metadata": {
      "needs_background": "light"
     },
     "output_type": "display_data"
    }
   ],
   "source": [
    "test_predictions = LR_classifier.predict(X_test)\n",
    "cm = metrics.confusion_matrix(y_test, test_predictions)\n",
    "\n",
    "plt.figure(figsize=(9,9))\n",
    "hm = sns.heatmap(cm, annot=True, fmt=\".0f\", cbar=False, linewidths=.5, square = True, cmap = 'Blues_r',\n",
    "            annot_kws={\n",
    "                'fontsize': 16,\n",
    "                'fontweight': 'bold'\n",
    "            });\n",
    "hm.set_xticklabels(hm.get_xmajorticklabels(), fontsize = 14)\n",
    "hm.set_yticklabels(hm.get_ymajorticklabels(), fontsize = 14)\n",
    "hm.set_xlabel('Actual label', fontsize=18);\n",
    "hm.set_ylabel('Predicted label', fontsize=18);\n",
    "all_sample_title = 'Accuracy Score: {0}'.format(acc_score)\n",
    "plt.title(all_sample_title, size = 20);\n",
    "plt.savefig('./Clf_Plots/LR_test_ACC')"
   ]
  },
  {
   "cell_type": "markdown",
   "metadata": {
    "id": "Oy1FRAqGB8sO",
    "tags": []
   },
   "source": [
    "# Get Probabilities on full dataset\n"
   ]
  },
  {
   "cell_type": "code",
   "execution_count": 20,
   "metadata": {
    "colab": {
     "base_uri": "https://localhost:8080/"
    },
    "executionInfo": {
     "elapsed": 625,
     "status": "ok",
     "timestamp": 1661872067602,
     "user": {
      "displayName": "Mahvash Siavashpour",
      "userId": "18425997334276185054"
     },
     "user_tz": -270
    },
    "id": "-0aKb1Q2TK0v",
    "outputId": "7be14bac-f05d-402a-91cc-7a98fbd28c26"
   },
   "outputs": [
    {
     "name": "stdout",
     "output_type": "stream",
     "text": [
      "0.9917650066606564\n"
     ]
    }
   ],
   "source": [
    "full_predictions = LR_classifier.predict(np.array(list(word_df['represention'])))\n",
    "acc_score = LR_classifier.score(np.array(list(word_df['represention'])), word_df['label'].to_numpy())\n",
    "print(acc_score)"
   ]
  },
  {
   "cell_type": "code",
   "execution_count": 21,
   "metadata": {
    "colab": {
     "base_uri": "https://localhost:8080/"
    },
    "executionInfo": {
     "elapsed": 15,
     "status": "ok",
     "timestamp": 1661872067603,
     "user": {
      "displayName": "Mahvash Siavashpour",
      "userId": "18425997334276185054"
     },
     "user_tz": -270
    },
    "id": "z6mhX7vhkYL_",
    "outputId": "ff035a0d-8da4-478f-ca37-6bd47a7e03e6"
   },
   "outputs": [
    {
     "name": "stdout",
     "output_type": "stream",
     "text": [
      "              precision    recall  f1-score   support\n",
      "\n",
      "           0     0.9947    0.9901    0.9924     40339\n",
      "           1     0.9883    0.9938    0.9910     33978\n",
      "\n",
      "    accuracy                         0.9918     74317\n",
      "   macro avg     0.9915    0.9919    0.9917     74317\n",
      "weighted avg     0.9918    0.9918    0.9918     74317\n",
      "\n"
     ]
    }
   ],
   "source": [
    "print(metrics.classification_report(word_df['label'].to_numpy(), full_predictions, digits=4))"
   ]
  },
  {
   "cell_type": "code",
   "execution_count": 22,
   "metadata": {
    "colab": {
     "base_uri": "https://localhost:8080/",
     "height": 520
    },
    "executionInfo": {
     "elapsed": 11,
     "status": "ok",
     "timestamp": 1661872067604,
     "user": {
      "displayName": "Mahvash Siavashpour",
      "userId": "18425997334276185054"
     },
     "user_tz": -270
    },
    "id": "puWCL1ofTK03",
    "outputId": "9ddd2ff9-4553-46fc-fc4b-76f10cc08cf5"
   },
   "outputs": [
    {
     "data": {
      "image/png": "[encoded data removed]",
      "text/plain": [
       "<Figure size 648x648 with 1 Axes>"
      ]
     },
     "metadata": {
      "needs_background": "light"
     },
     "output_type": "display_data"
    }
   ],
   "source": [
    "cm = metrics.confusion_matrix(word_df['label'].to_numpy(), full_predictions)\n",
    "plt.figure(figsize=(9,9))\n",
    "hm = sns.heatmap(cm, annot=True, fmt=\".0f\", cbar=False, linewidths=.5, square = True, cmap = 'Blues_r',\n",
    "            annot_kws={\n",
    "                'fontsize': 16,\n",
    "                'fontweight': 'bold'\n",
    "            });\n",
    "hm.set_xticklabels(hm.get_xmajorticklabels(), fontsize = 14)\n",
    "hm.set_yticklabels(hm.get_ymajorticklabels(), fontsize = 14)\n",
    "hm.set_xlabel('Actual label', fontsize=18);\n",
    "hm.set_ylabel('Predicted label', fontsize=18);\n",
    "all_sample_title = 'Accuracy Score: {0}'.format(acc_score)\n",
    "plt.title(all_sample_title, size = 20);\n",
    "plt.savefig('./Clf_Plots/LR_full_ACC')"
   ]
  },
  {
   "cell_type": "code",
   "execution_count": 23,
   "metadata": {
    "executionInfo": {
     "elapsed": 857,
     "status": "ok",
     "timestamp": 1661872068453,
     "user": {
      "displayName": "Mahvash Siavashpour",
      "userId": "18425997334276185054"
     },
     "user_tz": -270
    },
    "id": "J_8XUA4fTkud"
   },
   "outputs": [],
   "source": [
    "full_dataset_predictions = LR_classifier.predict_proba(np.array(list(word_df['represention'])))"
   ]
  },
  {
   "cell_type": "code",
   "execution_count": 24,
   "metadata": {
    "executionInfo": {
     "elapsed": 8,
     "status": "ok",
     "timestamp": 1661872068454,
     "user": {
      "displayName": "Mahvash Siavashpour",
      "userId": "18425997334276185054"
     },
     "user_tz": -270
    },
    "id": "guNpoFvjB8sP"
   },
   "outputs": [],
   "source": [
    "word_df['word_prob'] = full_dataset_predictions[:,1]\n",
    "word_df['nword_prob'] = full_dataset_predictions[:,0]"
   ]
  },
  {
   "cell_type": "code",
   "execution_count": 25,
   "metadata": {
    "colab": {
     "base_uri": "https://localhost:8080/",
     "height": 206
    },
    "executionInfo": {
     "elapsed": 8,
     "status": "ok",
     "timestamp": 1661872068456,
     "user": {
      "displayName": "Mahvash Siavashpour",
      "userId": "18425997334276185054"
     },
     "user_tz": -270
    },
    "id": "gADp8COsFSGt",
    "outputId": "d0ee2bf7-51b8-479b-db90-e67afa0e3a7d"
   },
   "outputs": [
    {
     "data": {
      "text/html": [
       "<div>\n",
       "<style scoped>\n",
       "    .dataframe tbody tr th:only-of-type {\n",
       "        vertical-align: middle;\n",
       "    }\n",
       "\n",
       "    .dataframe tbody tr th {\n",
       "        vertical-align: top;\n",
       "    }\n",
       "\n",
       "    .dataframe thead tr th {\n",
       "        text-align: left;\n",
       "    }\n",
       "\n",
       "    .dataframe thead tr:last-of-type th {\n",
       "        text-align: right;\n",
       "    }\n",
       "</style>\n",
       "<table border=\"1\" class=\"dataframe\">\n",
       "  <thead>\n",
       "    <tr>\n",
       "      <th></th>\n",
       "      <th colspan=\"5\" halign=\"left\">word_prob</th>\n",
       "      <th colspan=\"5\" halign=\"left\">nword_prob</th>\n",
       "    </tr>\n",
       "    <tr>\n",
       "      <th></th>\n",
       "      <th>mean</th>\n",
       "      <th>std</th>\n",
       "      <th>count</th>\n",
       "      <th>max</th>\n",
       "      <th>min</th>\n",
       "      <th>mean</th>\n",
       "      <th>std</th>\n",
       "      <th>count</th>\n",
       "      <th>max</th>\n",
       "      <th>min</th>\n",
       "    </tr>\n",
       "    <tr>\n",
       "      <th>category</th>\n",
       "      <th></th>\n",
       "      <th></th>\n",
       "      <th></th>\n",
       "      <th></th>\n",
       "      <th></th>\n",
       "      <th></th>\n",
       "      <th></th>\n",
       "      <th></th>\n",
       "      <th></th>\n",
       "      <th></th>\n",
       "    </tr>\n",
       "  </thead>\n",
       "  <tbody>\n",
       "    <tr>\n",
       "      <th>HF</th>\n",
       "      <td>0.986035</td>\n",
       "      <td>0.059564</td>\n",
       "      <td>14333</td>\n",
       "      <td>1.000000</td>\n",
       "      <td>2.598540e-05</td>\n",
       "      <td>0.013965</td>\n",
       "      <td>0.059564</td>\n",
       "      <td>14333</td>\n",
       "      <td>0.999974</td>\n",
       "      <td>0.000000e+00</td>\n",
       "    </tr>\n",
       "    <tr>\n",
       "      <th>LF</th>\n",
       "      <td>0.975616</td>\n",
       "      <td>0.080746</td>\n",
       "      <td>19645</td>\n",
       "      <td>1.000000</td>\n",
       "      <td>8.576777e-05</td>\n",
       "      <td>0.024384</td>\n",
       "      <td>0.080746</td>\n",
       "      <td>19645</td>\n",
       "      <td>0.999914</td>\n",
       "      <td>2.590256e-08</td>\n",
       "    </tr>\n",
       "    <tr>\n",
       "      <th>NW</th>\n",
       "      <td>0.016587</td>\n",
       "      <td>0.087053</td>\n",
       "      <td>40339</td>\n",
       "      <td>0.999994</td>\n",
       "      <td>5.789514e-13</td>\n",
       "      <td>0.983413</td>\n",
       "      <td>0.087053</td>\n",
       "      <td>40339</td>\n",
       "      <td>1.000000</td>\n",
       "      <td>6.194477e-06</td>\n",
       "    </tr>\n",
       "  </tbody>\n",
       "</table>\n",
       "</div>"
      ],
      "text/plain": [
       "         word_prob                                          nword_prob  \\\n",
       "              mean       std  count       max           min       mean   \n",
       "category                                                                 \n",
       "HF        0.986035  0.059564  14333  1.000000  2.598540e-05   0.013965   \n",
       "LF        0.975616  0.080746  19645  1.000000  8.576777e-05   0.024384   \n",
       "NW        0.016587  0.087053  40339  0.999994  5.789514e-13   0.983413   \n",
       "\n",
       "                                                   \n",
       "               std  count       max           min  \n",
       "category                                           \n",
       "HF        0.059564  14333  0.999974  0.000000e+00  \n",
       "LF        0.080746  19645  0.999914  2.590256e-08  \n",
       "NW        0.087053  40339  1.000000  6.194477e-06  "
      ]
     },
     "execution_count": 25,
     "metadata": {},
     "output_type": "execute_result"
    }
   ],
   "source": [
    "word_df.groupby(['category']).agg({'word_prob': ['mean', 'std', 'count', 'max', 'min'], 'nword_prob': ['mean', 'std', 'count', 'max', 'min']})"
   ]
  },
  {
   "cell_type": "code",
   "execution_count": 26,
   "metadata": {
    "executionInfo": {
     "elapsed": 7,
     "status": "ok",
     "timestamp": 1661872068456,
     "user": {
      "displayName": "Mahvash Siavashpour",
      "userId": "18425997334276185054"
     },
     "user_tz": -270
    },
    "id": "rHZBOiHZNyjd"
   },
   "outputs": [],
   "source": [
    "word_df_to_save = word_df.drop(['represention', 'code'], axis=1)"
   ]
  },
  {
   "cell_type": "code",
   "execution_count": 27,
   "metadata": {
    "executionInfo": {
     "elapsed": 641,
     "status": "ok",
     "timestamp": 1661872069090,
     "user": {
      "displayName": "Mahvash Siavashpour",
      "userId": "18425997334276185054"
     },
     "user_tz": -270
    },
    "id": "1EfLZdnjNyg9"
   },
   "outputs": [],
   "source": [
    "word_df_to_save.to_csv(root+\"Datasets/fastText_LR.csv\", header=0, index=False)"
   ]
  }
 ],
 "metadata": {
  "colab": {
   "collapsed_sections": [],
   "name": "FastWord_LR.ipynb",
   "provenance": []
  },
  "gpuClass": "standard",
  "kernelspec": {
   "display_name": "Python 3 (ipykernel)",
   "language": "python",
   "name": "python3"
  },
  "language_info": {
   "codemirror_mode": {
    "name": "ipython",
    "version": 3
   },
   "file_extension": ".py",
   "mimetype": "text/x-python",
   "name": "python",
   "nbconvert_exporter": "python",
   "pygments_lexer": "ipython3",
   "version": "3.10.4"
  }
 },
 "nbformat": 4,
 "nbformat_minor": 4
}
